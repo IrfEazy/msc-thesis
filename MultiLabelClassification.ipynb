{
 "cells": [
  {
   "cell_type": "markdown",
   "id": "e47e11e2",
   "metadata": {
    "papermill": {
     "duration": 0.007277,
     "end_time": "2024-12-12T16:26:14.553663",
     "exception": false,
     "start_time": "2024-12-12T16:26:14.546386",
     "status": "completed"
    },
    "tags": []
   },
   "source": [
    "# Multi-Class Classification with Machine Learning\n",
    "In this notebook, we will explore various machine learning models to solve a multi-class classification problem. We will evaluate and compare the performance of different algorithms on the dataset.\n"
   ]
  },
  {
   "metadata": {
    "execution": {
     "iopub.execute_input": "2024-12-12T16:26:14.569199Z",
     "iopub.status.busy": "2024-12-12T16:26:14.568776Z",
     "iopub.status.idle": "2024-12-12T16:26:17.993533Z",
     "shell.execute_reply": "2024-12-12T16:26:17.992503Z"
    },
    "papermill": {
     "duration": 3.435545,
     "end_time": "2024-12-12T16:26:17.996431",
     "exception": false,
     "start_time": "2024-12-12T16:26:14.560886",
     "status": "completed"
    },
    "tags": [],
    "ExecuteTime": {
     "end_time": "2025-01-26T23:26:21.710Z",
     "start_time": "2025-01-26T23:26:20.961145Z"
    }
   },
   "cell_type": "code",
   "source": [
    "import ast\n",
    "import json\n",
    "import random\n",
    "from pathlib import Path\n",
    "\n",
    "import joblib\n",
    "import numpy as np\n",
    "import pandas as pd\n",
    "from sklearn.ensemble import RandomForestClassifier\n",
    "from sklearn.linear_model import LogisticRegression\n",
    "from sklearn.metrics import accuracy_score, classification_report\n",
    "from sklearn.model_selection import train_test_split\n",
    "from sklearn.multiclass import OneVsRestClassifier\n",
    "from sklearn.naive_bayes import GaussianNB\n",
    "from sklearn.preprocessing import MultiLabelBinarizer\n",
    "from sklearn.tree import DecisionTreeClassifier\n",
    "from skmultilearn.model_selection import iterative_train_test_split\n",
    "from tqdm import tqdm\n",
    "from xgboost import XGBClassifier\n",
    "\n",
    "from preprocess_functions import build_tree, extract_keys, merge_all_trees_with_counts, preprocess_texts\n",
    "from utils import CalibratedLabelRankClassifier, ChainOfClassifiers, LabelPowersetClassifier, \\\n",
    "    assess_models, prune_and_subsample, ConditionalDependencyNetwork, MetaBinaryRelevance\n"
   ],
   "id": "3725615c",
   "outputs": [],
   "execution_count": 1
  },
  {
   "metadata": {
    "ExecuteTime": {
     "end_time": "2025-01-26T23:26:21.720891Z",
     "start_time": "2025-01-26T23:26:21.717424Z"
    }
   },
   "cell_type": "code",
   "source": [
    "OVERWRITE = False\n",
    "RANDOM_STATE = 42\n",
    "\n",
    "np.random.seed(RANDOM_STATE)\n",
    "random.seed(RANDOM_STATE)\n"
   ],
   "id": "30ed7102e0110c7f",
   "outputs": [],
   "execution_count": 2
  },
  {
   "cell_type": "code",
   "id": "8074f464",
   "metadata": {
    "execution": {
     "iopub.execute_input": "2024-12-12T16:26:18.012827Z",
     "iopub.status.busy": "2024-12-12T16:26:18.012308Z",
     "iopub.status.idle": "2024-12-12T16:26:18.020759Z",
     "shell.execute_reply": "2024-12-12T16:26:18.019690Z"
    },
    "papermill": {
     "duration": 0.019672,
     "end_time": "2024-12-12T16:26:18.022881",
     "exception": false,
     "start_time": "2024-12-12T16:26:18.003209",
     "status": "completed"
    },
    "tags": [],
    "ExecuteTime": {
     "end_time": "2025-01-26T23:26:21.856858Z",
     "start_time": "2025-01-26T23:26:21.783548Z"
    }
   },
   "source": [
    "INIT_POINTS = 1\n",
    "N_ITER = 5\n",
    "TEST_SIZE = 2e-1\n",
    "\n",
    "BASE_CLASSIFIERS = {\n",
    "    'logistic_regression': LogisticRegression(solver='liblinear', random_state=RANDOM_STATE),\n",
    "    'gaussian_nb': GaussianNB(),\n",
    "    'decision_tree': DecisionTreeClassifier(random_state=RANDOM_STATE),\n",
    "    'random_forest': RandomForestClassifier(random_state=RANDOM_STATE),\n",
    "    'xgb': XGBClassifier(random_state=RANDOM_STATE)\n",
    "}\n",
    "\n",
    "COLAB_PATH = Path('/content/drive/MyDrive')\n",
    "KAGGLE_PATH = Path('/kaggle/input')\n",
    "LOCAL_PATH = Path('./')\n",
    "\n",
    "# Step 1: Check if running in Google Colab\n",
    "try:\n",
    "    import google.colab\n",
    "\n",
    "    DATA_PATH = COLAB_PATH / Path('data')\n",
    "    MODELS_PATH = COLAB_PATH / Path('models')\n",
    "except ImportError:\n",
    "    # Step 2: Check if running in Kaggle\n",
    "    try:\n",
    "        import kaggle_secrets\n",
    "\n",
    "        DATA_PATH = KAGGLE_PATH\n",
    "        MODELS_PATH = KAGGLE_PATH\n",
    "    except ImportError:\n",
    "        # Step 3: Default to local Jupyter Notebook\n",
    "        DATA_PATH = LOCAL_PATH / Path('data')\n",
    "        MODELS_PATH = LOCAL_PATH / Path('models')\n",
    "\n",
    "GLOVE_6B_PATH = MODELS_PATH / Path('glove-embeddings')\n",
    "THREAT_TWEETS_PATH = DATA_PATH / Path('tweets-dataset-for-cyberattack-detection')\n",
    "\n",
    "GLOVE_6B_300D_TXT = GLOVE_6B_PATH / Path('glove.6B.300d.txt')\n",
    "THREAT_TWEETS_CSV = THREAT_TWEETS_PATH / Path('tweets_final.csv')\n"
   ],
   "outputs": [],
   "execution_count": 3
  },
  {
   "metadata": {
    "papermill": {
     "duration": 0.006302,
     "end_time": "2024-12-12T16:26:18.048634",
     "exception": false,
     "start_time": "2024-12-12T16:26:18.042332",
     "status": "completed"
    },
    "tags": []
   },
   "cell_type": "markdown",
   "source": [
    "## 1. Introduction\n",
    "\n",
    "In this notebook, we are going to solve a multi-class classification problem using different machine learning models. Our goal is to predict the class of each sample based on the input features.\n"
   ],
   "id": "02878d64"
  },
  {
   "metadata": {
    "papermill": {
     "duration": 0.006199,
     "end_time": "2024-12-12T16:26:18.061625",
     "exception": false,
     "start_time": "2024-12-12T16:26:18.055426",
     "status": "completed"
    },
    "tags": []
   },
   "cell_type": "markdown",
   "source": [
    "## 2. Data Loading and Preprocessing\n",
    "We will load the dataset, inspect its structure, and preprocess it for machine learning models.\n"
   ],
   "id": "bc09f879"
  },
  {
   "metadata": {
    "ExecuteTime": {
     "end_time": "2025-01-26T23:26:35.317243Z",
     "start_time": "2025-01-26T23:26:21.870503Z"
    }
   },
   "cell_type": "code",
   "source": [
    "# Read the CSV file and process columns in one step\n",
    "threat_tweets = (\n",
    "    pd.read_csv(filepath_or_buffer=THREAT_TWEETS_CSV)\n",
    "    .assign(\n",
    "        tweet=lambda df: df['tweet'].apply(func=ast.literal_eval),\n",
    "        watson=lambda df: df['watson'].apply(func=ast.literal_eval)\n",
    "        .apply(func=lambda x: x.get('categories', []))\n",
    "        .apply(func=build_tree),\n",
    "        watson_list=lambda df: df['watson'].apply(func=extract_keys),\n",
    "    )\n",
    "    .query(expr='relevant == True')\n",
    "    .drop(labels=['relevant'], axis=1)\n",
    "    .dropna(subset=['text'], ignore_index=True)\n",
    ")\n",
    "\n",
    "threat_tweets.head()\n"
   ],
   "id": "2f76035997296746",
   "outputs": [
    {
     "data": {
      "text/plain": [
       "                           _id                       date  \\\n",
       "0  b'5b8876f9bb325e65fa7e78e4'  2018-08-30 23:00:08+00:00   \n",
       "1  b'5b8876f9bb325e65fa7e78e5'  2018-08-30 23:00:09+00:00   \n",
       "2  b'5b8876fabb325e65fa7e78e6'  2018-08-30 23:00:09+00:00   \n",
       "3  b'5b88770abb325e65fa7e78e7'  2018-08-30 23:00:25+00:00   \n",
       "4  b'5b887713bb325e65fa7e78e8'  2018-08-30 23:00:35+00:00   \n",
       "\n",
       "                    id                                               text  \\\n",
       "0  1035301167952211969  Protect  your customers  access Prestashop Ant...   \n",
       "1  1035301173178249217  Data leak from Huazhu Hotels may affect 130 mi...   \n",
       "2  1035301174583353344  Instagram App 41.1788.50991.0 #Denial Of #Serv...   \n",
       "3  1035301242271096832  (good slides): \\n\\nThe Advanced Exploitation o...   \n",
       "4  1035301282095853569  CVE-2018-1000532 (beep)\\nhttps://t.co/CaKbo38U...   \n",
       "\n",
       "                                               tweet           type  \\\n",
       "0  {'created_at': 'Thu Aug 30 23:00:08 +0000 2018...           ddos   \n",
       "1  {'created_at': 'Thu Aug 30 23:00:09 +0000 2018...           leak   \n",
       "2  {'created_at': 'Thu Aug 30 23:00:09 +0000 2018...        general   \n",
       "3  {'created_at': 'Thu Aug 30 23:00:25 +0000 2018...  vulnerability   \n",
       "4  {'created_at': 'Thu Aug 30 23:00:35 +0000 2018...  vulnerability   \n",
       "\n",
       "                                              watson annotation  \\\n",
       "0  {'technology and computing': {'internet techno...     threat   \n",
       "1  {'travel': {'hotels': {}}, 'home and garden': ...     threat   \n",
       "2  {'science': {'weather': {'meteorological disas...     threat   \n",
       "3  {'business and industrial': {'business operati...     threat   \n",
       "4  {'technology and computing': {'computer securi...     threat   \n",
       "\n",
       "                                                urls  \\\n",
       "0  ['http://addons.prestashop.com/en/23513-anti-d...   \n",
       "1  ['http://www.hotelmanagement.net/tech/data-lea...   \n",
       "2  ['https://packetstormsecurity.com/files/149120...   \n",
       "3  ['https://twitter.com/i/web/status/10353012422...   \n",
       "4  ['https://web.nvd.nist.gov/view/vuln/detail?vu...   \n",
       "\n",
       "                                     destination_url valid_certificate  \\\n",
       "0  https://addons.prestashop.com/en/23513-anti-dd...              True   \n",
       "1  http://www.hotelmanagement.net/tech/data-leak-...              True   \n",
       "2  https://packetstormsecurity.com/files/149120/i...              True   \n",
       "3  https://twitter.com/i/web/status/1035301242271...              True   \n",
       "4  https://nvd.nist.gov/vuln/detail/CVE-2018-1000532              True   \n",
       "\n",
       "                                         watson_list  \n",
       "0  [technology and computing, internet technology...  \n",
       "1  [travel, hotels, home and garden, home improve...  \n",
       "2  [science, weather, meteorological disaster, hu...  \n",
       "3  [business and industrial, business operations,...  \n",
       "4  [technology and computing, computer security, ...  "
      ],
      "text/html": [
       "<div>\n",
       "<style scoped>\n",
       "    .dataframe tbody tr th:only-of-type {\n",
       "        vertical-align: middle;\n",
       "    }\n",
       "\n",
       "    .dataframe tbody tr th {\n",
       "        vertical-align: top;\n",
       "    }\n",
       "\n",
       "    .dataframe thead th {\n",
       "        text-align: right;\n",
       "    }\n",
       "</style>\n",
       "<table border=\"1\" class=\"dataframe\">\n",
       "  <thead>\n",
       "    <tr style=\"text-align: right;\">\n",
       "      <th></th>\n",
       "      <th>_id</th>\n",
       "      <th>date</th>\n",
       "      <th>id</th>\n",
       "      <th>text</th>\n",
       "      <th>tweet</th>\n",
       "      <th>type</th>\n",
       "      <th>watson</th>\n",
       "      <th>annotation</th>\n",
       "      <th>urls</th>\n",
       "      <th>destination_url</th>\n",
       "      <th>valid_certificate</th>\n",
       "      <th>watson_list</th>\n",
       "    </tr>\n",
       "  </thead>\n",
       "  <tbody>\n",
       "    <tr>\n",
       "      <th>0</th>\n",
       "      <td>b'5b8876f9bb325e65fa7e78e4'</td>\n",
       "      <td>2018-08-30 23:00:08+00:00</td>\n",
       "      <td>1035301167952211969</td>\n",
       "      <td>Protect  your customers  access Prestashop Ant...</td>\n",
       "      <td>{'created_at': 'Thu Aug 30 23:00:08 +0000 2018...</td>\n",
       "      <td>ddos</td>\n",
       "      <td>{'technology and computing': {'internet techno...</td>\n",
       "      <td>threat</td>\n",
       "      <td>['http://addons.prestashop.com/en/23513-anti-d...</td>\n",
       "      <td>https://addons.prestashop.com/en/23513-anti-dd...</td>\n",
       "      <td>True</td>\n",
       "      <td>[technology and computing, internet technology...</td>\n",
       "    </tr>\n",
       "    <tr>\n",
       "      <th>1</th>\n",
       "      <td>b'5b8876f9bb325e65fa7e78e5'</td>\n",
       "      <td>2018-08-30 23:00:09+00:00</td>\n",
       "      <td>1035301173178249217</td>\n",
       "      <td>Data leak from Huazhu Hotels may affect 130 mi...</td>\n",
       "      <td>{'created_at': 'Thu Aug 30 23:00:09 +0000 2018...</td>\n",
       "      <td>leak</td>\n",
       "      <td>{'travel': {'hotels': {}}, 'home and garden': ...</td>\n",
       "      <td>threat</td>\n",
       "      <td>['http://www.hotelmanagement.net/tech/data-lea...</td>\n",
       "      <td>http://www.hotelmanagement.net/tech/data-leak-...</td>\n",
       "      <td>True</td>\n",
       "      <td>[travel, hotels, home and garden, home improve...</td>\n",
       "    </tr>\n",
       "    <tr>\n",
       "      <th>2</th>\n",
       "      <td>b'5b8876fabb325e65fa7e78e6'</td>\n",
       "      <td>2018-08-30 23:00:09+00:00</td>\n",
       "      <td>1035301174583353344</td>\n",
       "      <td>Instagram App 41.1788.50991.0 #Denial Of #Serv...</td>\n",
       "      <td>{'created_at': 'Thu Aug 30 23:00:09 +0000 2018...</td>\n",
       "      <td>general</td>\n",
       "      <td>{'science': {'weather': {'meteorological disas...</td>\n",
       "      <td>threat</td>\n",
       "      <td>['https://packetstormsecurity.com/files/149120...</td>\n",
       "      <td>https://packetstormsecurity.com/files/149120/i...</td>\n",
       "      <td>True</td>\n",
       "      <td>[science, weather, meteorological disaster, hu...</td>\n",
       "    </tr>\n",
       "    <tr>\n",
       "      <th>3</th>\n",
       "      <td>b'5b88770abb325e65fa7e78e7'</td>\n",
       "      <td>2018-08-30 23:00:25+00:00</td>\n",
       "      <td>1035301242271096832</td>\n",
       "      <td>(good slides): \\n\\nThe Advanced Exploitation o...</td>\n",
       "      <td>{'created_at': 'Thu Aug 30 23:00:25 +0000 2018...</td>\n",
       "      <td>vulnerability</td>\n",
       "      <td>{'business and industrial': {'business operati...</td>\n",
       "      <td>threat</td>\n",
       "      <td>['https://twitter.com/i/web/status/10353012422...</td>\n",
       "      <td>https://twitter.com/i/web/status/1035301242271...</td>\n",
       "      <td>True</td>\n",
       "      <td>[business and industrial, business operations,...</td>\n",
       "    </tr>\n",
       "    <tr>\n",
       "      <th>4</th>\n",
       "      <td>b'5b887713bb325e65fa7e78e8'</td>\n",
       "      <td>2018-08-30 23:00:35+00:00</td>\n",
       "      <td>1035301282095853569</td>\n",
       "      <td>CVE-2018-1000532 (beep)\\nhttps://t.co/CaKbo38U...</td>\n",
       "      <td>{'created_at': 'Thu Aug 30 23:00:35 +0000 2018...</td>\n",
       "      <td>vulnerability</td>\n",
       "      <td>{'technology and computing': {'computer securi...</td>\n",
       "      <td>threat</td>\n",
       "      <td>['https://web.nvd.nist.gov/view/vuln/detail?vu...</td>\n",
       "      <td>https://nvd.nist.gov/vuln/detail/CVE-2018-1000532</td>\n",
       "      <td>True</td>\n",
       "      <td>[technology and computing, computer security, ...</td>\n",
       "    </tr>\n",
       "  </tbody>\n",
       "</table>\n",
       "</div>"
      ]
     },
     "execution_count": 4,
     "metadata": {},
     "output_type": "execute_result"
    }
   ],
   "execution_count": 4
  },
  {
   "metadata": {
    "ExecuteTime": {
     "end_time": "2025-01-26T23:26:35.339428Z",
     "start_time": "2025-01-26T23:26:35.336436Z"
    }
   },
   "cell_type": "code",
   "source": "print(f\"Number of CS related tweets:\\t{len(threat_tweets)}\")\n",
   "id": "1273c8994072c16c",
   "outputs": [
    {
     "name": "stdout",
     "output_type": "stream",
     "text": [
      "Number of CS related tweets:\t11112\n"
     ]
    }
   ],
   "execution_count": 5
  },
  {
   "metadata": {
    "ExecuteTime": {
     "end_time": "2025-01-26T23:26:35.964091Z",
     "start_time": "2025-01-26T23:26:35.389041Z"
    }
   },
   "cell_type": "code",
   "source": "general_tree, visit_count = merge_all_trees_with_counts(trees=threat_tweets['watson'])\n",
   "id": "a3afc9058abe1111",
   "outputs": [],
   "execution_count": 6
  },
  {
   "metadata": {
    "ExecuteTime": {
     "end_time": "2025-01-26T23:26:36.031940Z",
     "start_time": "2025-01-26T23:26:36.027648Z"
    }
   },
   "cell_type": "code",
   "source": [
    "print(\"The subcategories in 'technology and computing' are:\")\n",
    "for category in list(general_tree['technology and computing'].keys()):\n",
    "    print(f'· {category}')\n"
   ],
   "id": "3438fcd1a2aa0b74",
   "outputs": [
    {
     "name": "stdout",
     "output_type": "stream",
     "text": [
      "The subcategories in 'technology and computing' are:\n",
      "· computer security\n",
      "· internet technology\n",
      "· software\n",
      "· hardware\n",
      "· operating systems\n",
      "· data centers\n",
      "· mp3 and midi\n",
      "· computer reviews\n",
      "· programming languages\n",
      "· consumer electronics\n",
      "· tech news\n",
      "· networking\n",
      "· electronic components\n",
      "· computer crime\n",
      "· enterprise technology\n",
      "· computer certification\n",
      "· technological innovation\n",
      "· technical support\n"
     ]
    }
   ],
   "execution_count": 7
  },
  {
   "metadata": {
    "ExecuteTime": {
     "end_time": "2025-01-26T23:26:36.288618Z",
     "start_time": "2025-01-26T23:26:36.051095Z"
    }
   },
   "cell_type": "code",
   "source": [
    "sorted_visit_count = dict(sorted(visit_count.items(), key=lambda item: item[1], reverse=True))\n",
    "\n",
    "with open('general_tree.json', 'w') as file:\n",
    "    file.write(json.dumps(general_tree, indent=4))\n",
    "\n",
    "with open('general_tree_visit_counts.json', 'w') as file:\n",
    "    file.write(json.dumps(sorted_visit_count, indent=4))\n"
   ],
   "id": "50cf7585c5ad8ba4",
   "outputs": [],
   "execution_count": 8
  },
  {
   "metadata": {
    "papermill": {
     "duration": 0.006578,
     "end_time": "2024-12-12T16:26:36.033922",
     "exception": false,
     "start_time": "2024-12-12T16:26:36.027344",
     "status": "completed"
    },
    "tags": []
   },
   "cell_type": "markdown",
   "source": [
    "## 3. Exploratory Data Analysis (EDA)\n",
    "Let's analyze the dataset and gain insights into its distribution.\n"
   ],
   "id": "fbcb95f4"
  },
  {
   "metadata": {
    "execution": {
     "iopub.execute_input": "2024-12-12T16:26:36.049527Z",
     "iopub.status.busy": "2024-12-12T16:26:36.048702Z",
     "iopub.status.idle": "2024-12-12T16:26:36.055194Z",
     "shell.execute_reply": "2024-12-12T16:26:36.054004Z"
    },
    "papermill": {
     "duration": 0.016586,
     "end_time": "2024-12-12T16:26:36.057289",
     "exception": false,
     "start_time": "2024-12-12T16:26:36.040703",
     "status": "completed"
    },
    "tags": [],
    "ExecuteTime": {
     "end_time": "2025-01-26T23:26:36.805291Z",
     "start_time": "2025-01-26T23:26:36.391473Z"
    }
   },
   "cell_type": "code",
   "source": [
    "print('At macro categories are:')\n",
    "for category in list(general_tree.keys()):\n",
    "    print(f'· {category}')\n"
   ],
   "id": "6865c633",
   "outputs": [
    {
     "name": "stdout",
     "output_type": "stream",
     "text": [
      "At macro categories are:\n",
      "· technology and computing\n",
      "· health and fitness\n",
      "· home and garden\n",
      "· travel\n",
      "· art and entertainment\n",
      "· science\n",
      "· business and industrial\n",
      "· sports\n",
      "· finance\n",
      "· law, govt and politics\n",
      "· society\n",
      "· real estate\n",
      "· pets\n",
      "· style and fashion\n",
      "· news\n",
      "· hobbies and interests\n",
      "· food and drink\n",
      "· education\n",
      "· shopping\n",
      "· family and parenting\n",
      "· religion and spirituality\n",
      "· automotive and vehicles\n",
      "· careers\n"
     ]
    }
   ],
   "execution_count": 9
  },
  {
   "metadata": {},
   "cell_type": "markdown",
   "source": [
    "For the goal of the project, the categories of interest are:\n",
    "1. computer security/network security\n",
    "2. computer security/antivirus and malware\n",
    "3. operating systems/mac os\n",
    "4. operating systems/windows\n",
    "5. operating systems/unix\n",
    "6. operating systems/linux\n",
    "7. software\n",
    "8. programming languages, included in software\n",
    "9. software/databases\n",
    "10. hardware\n",
    "11. electronic components, included in hardware\n",
    "12. hardware/computer/servers\n",
    "13. hardware/computer/portable computer\n",
    "14. hardware/computer/desktop computer\n",
    "15. hardware/computer components\n",
    "16. hardware/computer networking/router\n",
    "17. hardware/computer networking/wireless technology\n",
    "18. networking\n",
    "19. internet technology, included in networking\n"
   ],
   "id": "5b31409a7b0bd08"
  },
  {
   "metadata": {
    "ExecuteTime": {
     "end_time": "2025-01-26T23:26:37.013057Z",
     "start_time": "2025-01-26T23:26:36.843809Z"
    }
   },
   "cell_type": "code",
   "source": [
    "FIX_TARGETS = {\n",
    "    'computer security': 'computer security',\n",
    "    'operating systems': 'operating systems',\n",
    "    'software': 'software',\n",
    "    'programming languages': 'software',\n",
    "    'hardware': 'hardware',\n",
    "    'electronic components': 'hardware',\n",
    "    'networking': 'networking',\n",
    "    'internet technology': 'networking'\n",
    "}\n",
    "\n",
    "chosen_categories = [\n",
    "    list(set(FIX_TARGETS.keys()) & set(s))\n",
    "    for s in threat_tweets['watson_list']\n",
    "]\n",
    "\n",
    "for i, watson_list in enumerate(chosen_categories):\n",
    "    temp = list(set([FIX_TARGETS[c] for c in watson_list]))\n",
    "    if len(temp) < 1:\n",
    "        temp = ['other']\n",
    "    chosen_categories[i] = temp\n",
    "\n",
    "threat_tweets['target'] = chosen_categories\n",
    "\n",
    "threat_tweets.head()\n"
   ],
   "id": "287e815d832565fd",
   "outputs": [
    {
     "data": {
      "text/plain": [
       "                           _id                       date  \\\n",
       "0  b'5b8876f9bb325e65fa7e78e4'  2018-08-30 23:00:08+00:00   \n",
       "1  b'5b8876f9bb325e65fa7e78e5'  2018-08-30 23:00:09+00:00   \n",
       "2  b'5b8876fabb325e65fa7e78e6'  2018-08-30 23:00:09+00:00   \n",
       "3  b'5b88770abb325e65fa7e78e7'  2018-08-30 23:00:25+00:00   \n",
       "4  b'5b887713bb325e65fa7e78e8'  2018-08-30 23:00:35+00:00   \n",
       "\n",
       "                    id                                               text  \\\n",
       "0  1035301167952211969  Protect  your customers  access Prestashop Ant...   \n",
       "1  1035301173178249217  Data leak from Huazhu Hotels may affect 130 mi...   \n",
       "2  1035301174583353344  Instagram App 41.1788.50991.0 #Denial Of #Serv...   \n",
       "3  1035301242271096832  (good slides): \\n\\nThe Advanced Exploitation o...   \n",
       "4  1035301282095853569  CVE-2018-1000532 (beep)\\nhttps://t.co/CaKbo38U...   \n",
       "\n",
       "                                               tweet           type  \\\n",
       "0  {'created_at': 'Thu Aug 30 23:00:08 +0000 2018...           ddos   \n",
       "1  {'created_at': 'Thu Aug 30 23:00:09 +0000 2018...           leak   \n",
       "2  {'created_at': 'Thu Aug 30 23:00:09 +0000 2018...        general   \n",
       "3  {'created_at': 'Thu Aug 30 23:00:25 +0000 2018...  vulnerability   \n",
       "4  {'created_at': 'Thu Aug 30 23:00:35 +0000 2018...  vulnerability   \n",
       "\n",
       "                                              watson annotation  \\\n",
       "0  {'technology and computing': {'internet techno...     threat   \n",
       "1  {'travel': {'hotels': {}}, 'home and garden': ...     threat   \n",
       "2  {'science': {'weather': {'meteorological disas...     threat   \n",
       "3  {'business and industrial': {'business operati...     threat   \n",
       "4  {'technology and computing': {'computer securi...     threat   \n",
       "\n",
       "                                                urls  \\\n",
       "0  ['http://addons.prestashop.com/en/23513-anti-d...   \n",
       "1  ['http://www.hotelmanagement.net/tech/data-lea...   \n",
       "2  ['https://packetstormsecurity.com/files/149120...   \n",
       "3  ['https://twitter.com/i/web/status/10353012422...   \n",
       "4  ['https://web.nvd.nist.gov/view/vuln/detail?vu...   \n",
       "\n",
       "                                     destination_url valid_certificate  \\\n",
       "0  https://addons.prestashop.com/en/23513-anti-dd...              True   \n",
       "1  http://www.hotelmanagement.net/tech/data-leak-...              True   \n",
       "2  https://packetstormsecurity.com/files/149120/i...              True   \n",
       "3  https://twitter.com/i/web/status/1035301242271...              True   \n",
       "4  https://nvd.nist.gov/vuln/detail/CVE-2018-1000532              True   \n",
       "\n",
       "                                         watson_list  \\\n",
       "0  [technology and computing, internet technology...   \n",
       "1  [travel, hotels, home and garden, home improve...   \n",
       "2  [science, weather, meteorological disaster, hu...   \n",
       "3  [business and industrial, business operations,...   \n",
       "4  [technology and computing, computer security, ...   \n",
       "\n",
       "                                      target  \n",
       "0  [computer security, networking, software]  \n",
       "1                                    [other]  \n",
       "2                                 [hardware]  \n",
       "3                        [operating systems]  \n",
       "4    [computer security, hardware, software]  "
      ],
      "text/html": [
       "<div>\n",
       "<style scoped>\n",
       "    .dataframe tbody tr th:only-of-type {\n",
       "        vertical-align: middle;\n",
       "    }\n",
       "\n",
       "    .dataframe tbody tr th {\n",
       "        vertical-align: top;\n",
       "    }\n",
       "\n",
       "    .dataframe thead th {\n",
       "        text-align: right;\n",
       "    }\n",
       "</style>\n",
       "<table border=\"1\" class=\"dataframe\">\n",
       "  <thead>\n",
       "    <tr style=\"text-align: right;\">\n",
       "      <th></th>\n",
       "      <th>_id</th>\n",
       "      <th>date</th>\n",
       "      <th>id</th>\n",
       "      <th>text</th>\n",
       "      <th>tweet</th>\n",
       "      <th>type</th>\n",
       "      <th>watson</th>\n",
       "      <th>annotation</th>\n",
       "      <th>urls</th>\n",
       "      <th>destination_url</th>\n",
       "      <th>valid_certificate</th>\n",
       "      <th>watson_list</th>\n",
       "      <th>target</th>\n",
       "    </tr>\n",
       "  </thead>\n",
       "  <tbody>\n",
       "    <tr>\n",
       "      <th>0</th>\n",
       "      <td>b'5b8876f9bb325e65fa7e78e4'</td>\n",
       "      <td>2018-08-30 23:00:08+00:00</td>\n",
       "      <td>1035301167952211969</td>\n",
       "      <td>Protect  your customers  access Prestashop Ant...</td>\n",
       "      <td>{'created_at': 'Thu Aug 30 23:00:08 +0000 2018...</td>\n",
       "      <td>ddos</td>\n",
       "      <td>{'technology and computing': {'internet techno...</td>\n",
       "      <td>threat</td>\n",
       "      <td>['http://addons.prestashop.com/en/23513-anti-d...</td>\n",
       "      <td>https://addons.prestashop.com/en/23513-anti-dd...</td>\n",
       "      <td>True</td>\n",
       "      <td>[technology and computing, internet technology...</td>\n",
       "      <td>[computer security, networking, software]</td>\n",
       "    </tr>\n",
       "    <tr>\n",
       "      <th>1</th>\n",
       "      <td>b'5b8876f9bb325e65fa7e78e5'</td>\n",
       "      <td>2018-08-30 23:00:09+00:00</td>\n",
       "      <td>1035301173178249217</td>\n",
       "      <td>Data leak from Huazhu Hotels may affect 130 mi...</td>\n",
       "      <td>{'created_at': 'Thu Aug 30 23:00:09 +0000 2018...</td>\n",
       "      <td>leak</td>\n",
       "      <td>{'travel': {'hotels': {}}, 'home and garden': ...</td>\n",
       "      <td>threat</td>\n",
       "      <td>['http://www.hotelmanagement.net/tech/data-lea...</td>\n",
       "      <td>http://www.hotelmanagement.net/tech/data-leak-...</td>\n",
       "      <td>True</td>\n",
       "      <td>[travel, hotels, home and garden, home improve...</td>\n",
       "      <td>[other]</td>\n",
       "    </tr>\n",
       "    <tr>\n",
       "      <th>2</th>\n",
       "      <td>b'5b8876fabb325e65fa7e78e6'</td>\n",
       "      <td>2018-08-30 23:00:09+00:00</td>\n",
       "      <td>1035301174583353344</td>\n",
       "      <td>Instagram App 41.1788.50991.0 #Denial Of #Serv...</td>\n",
       "      <td>{'created_at': 'Thu Aug 30 23:00:09 +0000 2018...</td>\n",
       "      <td>general</td>\n",
       "      <td>{'science': {'weather': {'meteorological disas...</td>\n",
       "      <td>threat</td>\n",
       "      <td>['https://packetstormsecurity.com/files/149120...</td>\n",
       "      <td>https://packetstormsecurity.com/files/149120/i...</td>\n",
       "      <td>True</td>\n",
       "      <td>[science, weather, meteorological disaster, hu...</td>\n",
       "      <td>[hardware]</td>\n",
       "    </tr>\n",
       "    <tr>\n",
       "      <th>3</th>\n",
       "      <td>b'5b88770abb325e65fa7e78e7'</td>\n",
       "      <td>2018-08-30 23:00:25+00:00</td>\n",
       "      <td>1035301242271096832</td>\n",
       "      <td>(good slides): \\n\\nThe Advanced Exploitation o...</td>\n",
       "      <td>{'created_at': 'Thu Aug 30 23:00:25 +0000 2018...</td>\n",
       "      <td>vulnerability</td>\n",
       "      <td>{'business and industrial': {'business operati...</td>\n",
       "      <td>threat</td>\n",
       "      <td>['https://twitter.com/i/web/status/10353012422...</td>\n",
       "      <td>https://twitter.com/i/web/status/1035301242271...</td>\n",
       "      <td>True</td>\n",
       "      <td>[business and industrial, business operations,...</td>\n",
       "      <td>[operating systems]</td>\n",
       "    </tr>\n",
       "    <tr>\n",
       "      <th>4</th>\n",
       "      <td>b'5b887713bb325e65fa7e78e8'</td>\n",
       "      <td>2018-08-30 23:00:35+00:00</td>\n",
       "      <td>1035301282095853569</td>\n",
       "      <td>CVE-2018-1000532 (beep)\\nhttps://t.co/CaKbo38U...</td>\n",
       "      <td>{'created_at': 'Thu Aug 30 23:00:35 +0000 2018...</td>\n",
       "      <td>vulnerability</td>\n",
       "      <td>{'technology and computing': {'computer securi...</td>\n",
       "      <td>threat</td>\n",
       "      <td>['https://web.nvd.nist.gov/view/vuln/detail?vu...</td>\n",
       "      <td>https://nvd.nist.gov/vuln/detail/CVE-2018-1000532</td>\n",
       "      <td>True</td>\n",
       "      <td>[technology and computing, computer security, ...</td>\n",
       "      <td>[computer security, hardware, software]</td>\n",
       "    </tr>\n",
       "  </tbody>\n",
       "</table>\n",
       "</div>"
      ]
     },
     "execution_count": 10,
     "metadata": {},
     "output_type": "execute_result"
    }
   ],
   "execution_count": 10
  },
  {
   "metadata": {
    "ExecuteTime": {
     "end_time": "2025-01-26T23:27:10.169111Z",
     "start_time": "2025-01-26T23:26:37.082634Z"
    }
   },
   "cell_type": "code",
   "source": [
    "X = preprocess_texts(\n",
    "    list_str=threat_tweets['text'],\n",
    "    model_path=GLOVE_6B_300D_TXT,\n",
    "    embedding_dim=300\n",
    ")\n"
   ],
   "id": "766b6469058b1f2e",
   "outputs": [],
   "execution_count": 11
  },
  {
   "metadata": {
    "papermill": {
     "duration": 0.00674,
     "end_time": "2024-12-12T16:26:36.126427",
     "exception": false,
     "start_time": "2024-12-12T16:26:36.119687",
     "status": "completed"
    },
    "tags": []
   },
   "cell_type": "markdown",
   "source": [
    "## 4. Model Training\n",
    "\n",
    "We will now train different models and evaluate their performance.\n"
   ],
   "id": "30e50fa8"
  },
  {
   "metadata": {
    "ExecuteTime": {
     "end_time": "2025-01-26T23:27:14.202170Z",
     "start_time": "2025-01-26T23:27:10.238379Z"
    }
   },
   "cell_type": "code",
   "source": [
    "br = None\n",
    "clr = None\n",
    "cc = None\n",
    "lp = None\n",
    "pst = None\n",
    "cdn = None\n",
    "mbr = None\n",
    "\n",
    "if Path('models/br.pkl').exists():\n",
    "    br = joblib.load('models/br.pkl')\n",
    "\n",
    "if Path('models/clr.pkl').exists():\n",
    "    clr = joblib.load('models/clr.pkl')\n",
    "\n",
    "if Path('models/cc.pkl').exists():\n",
    "    cc = joblib.load('models/cc.pkl')\n",
    "\n",
    "if Path('models/lp.pkl').exists():\n",
    "    lp = joblib.load('models/lp.pkl')\n",
    "\n",
    "if Path('models/pst.pkl').exists():\n",
    "    pst = joblib.load('models/pst.pkl')\n",
    "\n",
    "if Path('models/cdn.pkl').exists():\n",
    "    cdn = joblib.load('models/cdn.pkl')\n",
    "\n",
    "if Path('models/ensembles/meta_binary_relevance.pkl').exists():\n",
    "    mbr = joblib.load('models/ensembles/meta_binary_relevance.pkl')\n"
   ],
   "id": "e7b6c270783cb110",
   "outputs": [],
   "execution_count": 12
  },
  {
   "metadata": {
    "execution": {
     "iopub.execute_input": "2024-12-12T16:26:36.261035Z",
     "iopub.status.busy": "2024-12-12T16:26:36.260618Z",
     "iopub.status.idle": "2024-12-12T16:27:16.804071Z",
     "shell.execute_reply": "2024-12-12T16:27:16.802740Z"
    },
    "papermill": {
     "duration": 40.555062,
     "end_time": "2024-12-12T16:27:16.806882",
     "exception": false,
     "start_time": "2024-12-12T16:26:36.251820",
     "status": "completed"
    },
    "tags": [],
    "ExecuteTime": {
     "end_time": "2025-01-26T23:27:14.363035Z",
     "start_time": "2025-01-26T23:27:14.289883Z"
    }
   },
   "cell_type": "code",
   "source": [
    "mlb = MultiLabelBinarizer()\n",
    "y = mlb.fit_transform(y=threat_tweets['target'])\n",
    "\n",
    "unique_label_sets, threat_tweets['target mcc'] = np.unique(ar=y, axis=0, return_inverse=True)\n",
    "threat_tweets['target mcc pruned'], label_map_pst = prune_and_subsample(y, pruning_threshold=5, max_sub_samples=3)\n",
    "\n",
    "y_lp = threat_tweets['target mcc']\n",
    "y_pst = threat_tweets['target mcc pruned']\n",
    "\n",
    "label_map_lp = {i: tuple(lbl_set) for i, lbl_set in enumerate(unique_label_sets)}\n"
   ],
   "id": "62b61de3",
   "outputs": [],
   "execution_count": 13
  },
  {
   "metadata": {
    "execution": {
     "iopub.execute_input": "2024-12-12T16:27:16.822984Z",
     "iopub.status.busy": "2024-12-12T16:27:16.822523Z",
     "iopub.status.idle": "2024-12-12T16:27:16.869712Z",
     "shell.execute_reply": "2024-12-12T16:27:16.868047Z"
    },
    "papermill": {
     "duration": 0.05826,
     "end_time": "2024-12-12T16:27:16.872512",
     "exception": false,
     "start_time": "2024-12-12T16:27:16.814252",
     "status": "completed"
    },
    "tags": [],
    "ExecuteTime": {
     "end_time": "2025-01-26T23:27:15.247541Z",
     "start_time": "2025-01-26T23:27:14.465380Z"
    }
   },
   "cell_type": "code",
   "source": [
    "X_train_val, y_train_val, X_test, y_test = iterative_train_test_split(\n",
    "    X=X,\n",
    "    y=y,\n",
    "    test_size=TEST_SIZE\n",
    ")\n",
    "\n",
    "X_train, y_train, X_val, y_val = iterative_train_test_split(\n",
    "    X=X_train_val,\n",
    "    y=y_train_val,\n",
    "    test_size=TEST_SIZE\n",
    ")\n"
   ],
   "id": "6f6e8f70",
   "outputs": [],
   "execution_count": 14
  },
  {
   "metadata": {
    "ExecuteTime": {
     "end_time": "2025-01-26T23:27:15.278368Z",
     "start_time": "2025-01-26T23:27:15.253613Z"
    }
   },
   "cell_type": "code",
   "source": [
    "X_train_val_mcc, X_test_mcc, y_train_val_mcc, y_test_mcc = train_test_split(\n",
    "    X, y_lp,\n",
    "    test_size=TEST_SIZE,\n",
    "    random_state=RANDOM_STATE,\n",
    "    shuffle=True,\n",
    "    stratify=y_lp\n",
    ")\n",
    "\n",
    "X_train_mcc, X_val_mcc, y_train_mcc, y_val_mcc = train_test_split(\n",
    "    X_train_val_mcc, y_train_val_mcc,\n",
    "    test_size=TEST_SIZE,\n",
    "    random_state=RANDOM_STATE,\n",
    "    shuffle=True,\n",
    "    stratify=y_train_val_mcc\n",
    ")\n"
   ],
   "id": "4e0dee8cd7c2a8d",
   "outputs": [],
   "execution_count": 15
  },
  {
   "metadata": {
    "ExecuteTime": {
     "end_time": "2025-01-26T23:27:15.379562Z",
     "start_time": "2025-01-26T23:27:15.339814Z"
    }
   },
   "cell_type": "code",
   "source": [
    "X_train_val_mcc_pruned, X_test_mcc_pruned, y_train_val_mcc_pruned, y_test_mcc_pruned = train_test_split(\n",
    "    X, y_pst,\n",
    "    test_size=TEST_SIZE,\n",
    "    random_state=RANDOM_STATE,\n",
    "    shuffle=True,\n",
    "    stratify=y_pst\n",
    ")\n",
    "\n",
    "X_train_mcc_pruned, X_val_mcc_pruned, y_train_mcc_pruned, y_val_mcc_pruned = train_test_split(\n",
    "    X_train_val_mcc_pruned, y_train_val_mcc_pruned,\n",
    "    test_size=TEST_SIZE,\n",
    "    random_state=RANDOM_STATE,\n",
    "    shuffle=True,\n",
    "    stratify=y_train_val_mcc_pruned\n",
    ")\n"
   ],
   "id": "f425588b0234b556",
   "outputs": [],
   "execution_count": 16
  },
  {
   "metadata": {},
   "cell_type": "markdown",
   "source": "### 4.1. Binary Problems\n",
   "id": "5497ccaa5c90acba"
  },
  {
   "metadata": {},
   "cell_type": "markdown",
   "source": "#### 4.1.1. BR (Binary Relevance)\n",
   "id": "82dd9d2dcaa2fea4"
  },
  {
   "metadata": {
    "ExecuteTime": {
     "end_time": "2025-01-26T23:27:15.494180Z",
     "start_time": "2025-01-26T23:27:15.431623Z"
    }
   },
   "cell_type": "code",
   "source": [
    "if not br or OVERWRITE:\n",
    "    br = {}\n",
    "\n",
    "    for k in tqdm(BASE_CLASSIFIERS.keys()):\n",
    "        br[k] = OneVsRestClassifier(estimator=BASE_CLASSIFIERS[k]).fit(\n",
    "            X=X_train,\n",
    "            y=y_train\n",
    "        )\n",
    "\n",
    "    joblib.dump(br, 'models/br.pkl', compress=9)\n"
   ],
   "id": "edb485590d88fbc",
   "outputs": [],
   "execution_count": 17
  },
  {
   "metadata": {},
   "cell_type": "markdown",
   "source": "#### 4.1.2. CLR (Calibrated Label Ranking)\n",
   "id": "c27df998bb1234c"
  },
  {
   "metadata": {
    "ExecuteTime": {
     "end_time": "2025-01-26T23:27:15.643387Z",
     "start_time": "2025-01-26T23:27:15.553818Z"
    }
   },
   "cell_type": "code",
   "source": [
    "if not clr or OVERWRITE:\n",
    "    clr = {}\n",
    "\n",
    "    for k, v in tqdm(BASE_CLASSIFIERS.items()):\n",
    "        model = CalibratedLabelRankClassifier(\n",
    "            classifier=v,\n",
    "            classes=mlb.classes_,\n",
    "            random_state=RANDOM_STATE\n",
    "        )\n",
    "\n",
    "        clr[k] = model.fit(\n",
    "            x=X_train,\n",
    "            y=[list(mlb.classes_[np.where(row == 1)[0]]) for row in y_train]\n",
    "        )\n",
    "\n",
    "    joblib.dump(clr, 'models/clr.pkl', compress=9)\n"
   ],
   "id": "16dc8d6169ac9f67",
   "outputs": [],
   "execution_count": 18
  },
  {
   "metadata": {},
   "cell_type": "markdown",
   "source": "#### 4.1.3. CC (Classifier Chains)\n",
   "id": "8032c9f1462962f2"
  },
  {
   "metadata": {
    "ExecuteTime": {
     "end_time": "2025-01-26T23:27:15.819443Z",
     "start_time": "2025-01-26T23:27:15.718542Z"
    }
   },
   "cell_type": "code",
   "source": [
    "if not cc or OVERWRITE:\n",
    "    cc = {}\n",
    "\n",
    "    for k, v in tqdm(BASE_CLASSIFIERS.items()):\n",
    "        model = ChainOfClassifiers(\n",
    "            classifier=v,\n",
    "            classes=mlb.classes_,\n",
    "            random_state=RANDOM_STATE\n",
    "        )\n",
    "\n",
    "        cc[k] = model.fit(\n",
    "            x=X_train,\n",
    "            y=y_train\n",
    "        )\n",
    "\n",
    "    joblib.dump(cc, 'models/cc.pkl', compress=9)\n"
   ],
   "id": "3162246646bc535f",
   "outputs": [],
   "execution_count": 19
  },
  {
   "metadata": {},
   "cell_type": "markdown",
   "source": [
    "### 4.2. Multi-class Problems\n",
    "\n"
   ],
   "id": "80e25f22336640"
  },
  {
   "metadata": {},
   "cell_type": "markdown",
   "source": "#### 4.2.1. LP (Label Powerset)\n",
   "id": "fba9c659bff8d6e3"
  },
  {
   "metadata": {
    "ExecuteTime": {
     "end_time": "2025-01-26T23:27:15.934558Z",
     "start_time": "2025-01-26T23:27:15.879896Z"
    }
   },
   "cell_type": "code",
   "source": [
    "if not lp or OVERWRITE:\n",
    "    lp = {}\n",
    "\n",
    "    for k, v in tqdm(BASE_CLASSIFIERS.items()):\n",
    "        model = LabelPowersetClassifier(\n",
    "            classifier=v,\n",
    "            label_map=label_map_lp,\n",
    "            random_state=RANDOM_STATE\n",
    "        )\n",
    "\n",
    "        lp[k] = model.fit(\n",
    "            x=X_train_mcc,\n",
    "            y=y_train_mcc\n",
    "        )\n",
    "\n",
    "    joblib.dump(lp, 'models/lp.pkl', compress=9)\n"
   ],
   "id": "838f03de34100d4b",
   "outputs": [],
   "execution_count": 20
  },
  {
   "metadata": {},
   "cell_type": "markdown",
   "source": "#### 4.2.2. PSt (Pruned Sets)\n",
   "id": "36a35690f78685cb"
  },
  {
   "metadata": {
    "ExecuteTime": {
     "end_time": "2025-01-26T23:27:16.042571Z",
     "start_time": "2025-01-26T23:27:16.004484Z"
    }
   },
   "cell_type": "code",
   "source": [
    "if not pst or OVERWRITE:\n",
    "    pst = {}\n",
    "\n",
    "    for k, v in tqdm(BASE_CLASSIFIERS.items()):\n",
    "        model = LabelPowersetClassifier(\n",
    "            classifier=v,\n",
    "            label_map=label_map_pst,\n",
    "            random_state=RANDOM_STATE\n",
    "        )\n",
    "\n",
    "        pst[k] = model.fit(\n",
    "            x=X_train_mcc_pruned,\n",
    "            y=y_train_mcc_pruned\n",
    "        )\n",
    "\n",
    "    joblib.dump(pst, 'models/pst.pkl', compress=9)\n"
   ],
   "id": "df8604ee1c6ccc0c",
   "outputs": [],
   "execution_count": 21
  },
  {
   "metadata": {},
   "cell_type": "markdown",
   "source": "### 4.3. Ensembles\n",
   "id": "664c1fa64743bda8"
  },
  {
   "metadata": {},
   "cell_type": "markdown",
   "source": "#### 4.3.1. CDN (Conditional Dependency Network)\n",
   "id": "834fb6fe571b907f"
  },
  {
   "metadata": {
    "ExecuteTime": {
     "end_time": "2025-01-26T23:27:16.195431Z",
     "start_time": "2025-01-26T23:27:16.099216Z"
    }
   },
   "cell_type": "code",
   "source": [
    "if not cdn or OVERWRITE:\n",
    "    cdn = {}\n",
    "\n",
    "    for k, v in tqdm(BASE_CLASSIFIERS.items()):\n",
    "        model = ConditionalDependencyNetwork(\n",
    "            classifier=v,\n",
    "            num_iterations=100,\n",
    "            burn_in=10\n",
    "        )\n",
    "\n",
    "        cdn[k] = model.fit(\n",
    "            x=X_train,\n",
    "            y=y_train\n",
    "        )\n",
    "\n",
    "    joblib.dump(cdn, 'models/cdn.pkl', compress=9)\n"
   ],
   "id": "b50723c7780a738f",
   "outputs": [],
   "execution_count": 22
  },
  {
   "metadata": {},
   "cell_type": "markdown",
   "source": "#### 4.3.2. MBR (Meta-Binary Relevance)\n",
   "id": "53f16754ed03d5ad"
  },
  {
   "metadata": {
    "ExecuteTime": {
     "end_time": "2025-01-26T23:43:28.924345Z",
     "start_time": "2025-01-26T23:27:16.255335Z"
    }
   },
   "cell_type": "code",
   "source": [
    "if not mbr or OVERWRITE:\n",
    "    mbr = {}\n",
    "\n",
    "    for k, v in tqdm(BASE_CLASSIFIERS.items()):\n",
    "        model = MetaBinaryRelevance(\n",
    "            classifier=v,\n",
    "            use_cross_val=True,\n",
    "            n_splits=5\n",
    "        )\n",
    "\n",
    "        mbr[k] = model.fit(\n",
    "            x=X_train,\n",
    "            y=y_train\n",
    "        )\n",
    "\n",
    "    joblib.dump(mbr, 'models/ensembles/meta_binary_relevance.pkl', compress=9)\n"
   ],
   "id": "241fe414f4eeffff",
   "outputs": [
    {
     "name": "stderr",
     "output_type": "stream",
     "text": [
      "100%|██████████| 5/5 [15:45<00:00, 189.09s/it]\n"
     ]
    }
   ],
   "execution_count": 23
  },
  {
   "metadata": {},
   "cell_type": "markdown",
   "source": [
    "## 5. Model Evaluation\n",
    "\n",
    "Now that we've trained the models, let's evaluate them in more detail.\n"
   ],
   "id": "6e50f10e93df31f9"
  },
  {
   "metadata": {
    "ExecuteTime": {
     "end_time": "2025-01-26T23:50:48.089981Z",
     "start_time": "2025-01-26T23:43:29.046130Z"
    }
   },
   "cell_type": "code",
   "source": [
    "evaluation = {\n",
    "    'BR': assess_models(\n",
    "        x=X_val,\n",
    "        y=y_val,\n",
    "        technique=br\n",
    "    ),\n",
    "    'CLR': assess_models(\n",
    "        x=X_val,\n",
    "        y=y_val,\n",
    "        technique=clr\n",
    "    ),\n",
    "    'CC': assess_models(\n",
    "        x=X_val,\n",
    "        y=y_val,\n",
    "        technique=cc\n",
    "    ),\n",
    "    'LP': assess_models(\n",
    "        x=X_val_mcc,\n",
    "        y=np.array([list(label_map_lp[yp]) for yp in y_val_mcc]),\n",
    "        technique=lp\n",
    "    ),\n",
    "    'PST': assess_models(\n",
    "        x=X_val_mcc_pruned,\n",
    "        y=np.array([list(label_map_pst[yp]) for yp in y_val_mcc_pruned]),\n",
    "        technique=pst\n",
    "    ),\n",
    "    'CDN' : assess_models(\n",
    "        x=X_val,\n",
    "        y=y_val,\n",
    "        technique=cdn\n",
    "    ),\n",
    "    'MBR': assess_models(\n",
    "        x=X_val,\n",
    "        y=y_val,\n",
    "        technique=mbr\n",
    "    )\n",
    "}\n"
   ],
   "id": "4c0f3330656f697b",
   "outputs": [],
   "execution_count": 24
  },
  {
   "metadata": {
    "ExecuteTime": {
     "end_time": "2025-01-26T23:52:39.225676Z",
     "start_time": "2025-01-26T23:52:39.222457Z"
    }
   },
   "cell_type": "code",
   "source": [
    "if OVERWRITE:\n",
    "    joblib.dump(mbr, 'models/evaluation.pkl', compress=9)\n"
   ],
   "id": "d478c48ca631614b",
   "outputs": [],
   "execution_count": 28
  },
  {
   "metadata": {
    "ExecuteTime": {
     "end_time": "2025-01-26T23:50:48.214504Z",
     "start_time": "2025-01-26T23:50:48.163028Z"
    }
   },
   "cell_type": "code",
   "source": [
    "performances = pd.DataFrame(evaluation).T\n",
    "performances\n"
   ],
   "id": "450b7af68d19a9b5",
   "outputs": [
    {
     "data": {
      "text/plain": [
       "     Accuracy Classifier                                              Model  \\\n",
       "BR    0.59322        xgb  OneVsRestClassifier(estimator=XGBClassifier(ba...   \n",
       "CLR  0.615254        xgb  CalibratedLabelRankClassifier(classes=array(['...   \n",
       "CC   0.668362        xgb  ChainOfClassifiers(classes=array(['computer se...   \n",
       "LP   0.693476        xgb  LabelPowersetClassifier(classifier=XGBClassifi...   \n",
       "PST  0.677165        xgb  LabelPowersetClassifier(classifier=XGBClassifi...   \n",
       "CDN  0.559322        xgb  ConditionalDependencyNetwork(classifier=XGBCla...   \n",
       "MBR  0.623164        xgb  MetaBinaryRelevance(classifier=XGBClassifier(b...   \n",
       "\n",
       "    Precision example-based Recall example-based F1 example-based  \\\n",
       "BR                 0.742844             0.703766         0.710414   \n",
       "CLR                0.767363             0.749341         0.744641   \n",
       "CC                 0.816902             0.790678         0.789699   \n",
       "LP                 0.810086             0.782902         0.785883   \n",
       "PST                0.799775             0.770247         0.773641   \n",
       "CDN                  0.7129             0.684746         0.685386   \n",
       "MBR                0.767608             0.740772           0.7412   \n",
       "\n",
       "    Hamming loss Micro precision Micro recall  Micro F1 Macro precision  \\\n",
       "BR      0.099718        0.860736     0.708589  0.777287         0.88861   \n",
       "CLR     0.095292        0.843078     0.751917  0.794893        0.848015   \n",
       "CC      0.094539        0.826282     0.778758  0.801816        0.825839   \n",
       "LP      0.094488        0.828466     0.773129  0.799841        0.851387   \n",
       "PST     0.099644        0.819123     0.759693  0.788289        0.840448   \n",
       "CDN      0.13371        0.743443     0.695552    0.7187        0.749439   \n",
       "MBR     0.092938        0.858787     0.743865  0.797206         0.86605   \n",
       "\n",
       "    Macro recall  Macro F1  Coverage  \n",
       "BR       0.61961  0.715834  3.129379  \n",
       "CLR     0.674025   0.74303  2.934463  \n",
       "CC      0.704932  0.750153  2.716384  \n",
       "LP       0.71253  0.764076  2.676603  \n",
       "PST      0.68634  0.741929  2.745782  \n",
       "CDN     0.621048  0.669159  3.240678  \n",
       "MBR     0.675409  0.750002  2.951412  "
      ],
      "text/html": [
       "<div>\n",
       "<style scoped>\n",
       "    .dataframe tbody tr th:only-of-type {\n",
       "        vertical-align: middle;\n",
       "    }\n",
       "\n",
       "    .dataframe tbody tr th {\n",
       "        vertical-align: top;\n",
       "    }\n",
       "\n",
       "    .dataframe thead th {\n",
       "        text-align: right;\n",
       "    }\n",
       "</style>\n",
       "<table border=\"1\" class=\"dataframe\">\n",
       "  <thead>\n",
       "    <tr style=\"text-align: right;\">\n",
       "      <th></th>\n",
       "      <th>Accuracy</th>\n",
       "      <th>Classifier</th>\n",
       "      <th>Model</th>\n",
       "      <th>Precision example-based</th>\n",
       "      <th>Recall example-based</th>\n",
       "      <th>F1 example-based</th>\n",
       "      <th>Hamming loss</th>\n",
       "      <th>Micro precision</th>\n",
       "      <th>Micro recall</th>\n",
       "      <th>Micro F1</th>\n",
       "      <th>Macro precision</th>\n",
       "      <th>Macro recall</th>\n",
       "      <th>Macro F1</th>\n",
       "      <th>Coverage</th>\n",
       "    </tr>\n",
       "  </thead>\n",
       "  <tbody>\n",
       "    <tr>\n",
       "      <th>BR</th>\n",
       "      <td>0.59322</td>\n",
       "      <td>xgb</td>\n",
       "      <td>OneVsRestClassifier(estimator=XGBClassifier(ba...</td>\n",
       "      <td>0.742844</td>\n",
       "      <td>0.703766</td>\n",
       "      <td>0.710414</td>\n",
       "      <td>0.099718</td>\n",
       "      <td>0.860736</td>\n",
       "      <td>0.708589</td>\n",
       "      <td>0.777287</td>\n",
       "      <td>0.88861</td>\n",
       "      <td>0.61961</td>\n",
       "      <td>0.715834</td>\n",
       "      <td>3.129379</td>\n",
       "    </tr>\n",
       "    <tr>\n",
       "      <th>CLR</th>\n",
       "      <td>0.615254</td>\n",
       "      <td>xgb</td>\n",
       "      <td>CalibratedLabelRankClassifier(classes=array(['...</td>\n",
       "      <td>0.767363</td>\n",
       "      <td>0.749341</td>\n",
       "      <td>0.744641</td>\n",
       "      <td>0.095292</td>\n",
       "      <td>0.843078</td>\n",
       "      <td>0.751917</td>\n",
       "      <td>0.794893</td>\n",
       "      <td>0.848015</td>\n",
       "      <td>0.674025</td>\n",
       "      <td>0.74303</td>\n",
       "      <td>2.934463</td>\n",
       "    </tr>\n",
       "    <tr>\n",
       "      <th>CC</th>\n",
       "      <td>0.668362</td>\n",
       "      <td>xgb</td>\n",
       "      <td>ChainOfClassifiers(classes=array(['computer se...</td>\n",
       "      <td>0.816902</td>\n",
       "      <td>0.790678</td>\n",
       "      <td>0.789699</td>\n",
       "      <td>0.094539</td>\n",
       "      <td>0.826282</td>\n",
       "      <td>0.778758</td>\n",
       "      <td>0.801816</td>\n",
       "      <td>0.825839</td>\n",
       "      <td>0.704932</td>\n",
       "      <td>0.750153</td>\n",
       "      <td>2.716384</td>\n",
       "    </tr>\n",
       "    <tr>\n",
       "      <th>LP</th>\n",
       "      <td>0.693476</td>\n",
       "      <td>xgb</td>\n",
       "      <td>LabelPowersetClassifier(classifier=XGBClassifi...</td>\n",
       "      <td>0.810086</td>\n",
       "      <td>0.782902</td>\n",
       "      <td>0.785883</td>\n",
       "      <td>0.094488</td>\n",
       "      <td>0.828466</td>\n",
       "      <td>0.773129</td>\n",
       "      <td>0.799841</td>\n",
       "      <td>0.851387</td>\n",
       "      <td>0.71253</td>\n",
       "      <td>0.764076</td>\n",
       "      <td>2.676603</td>\n",
       "    </tr>\n",
       "    <tr>\n",
       "      <th>PST</th>\n",
       "      <td>0.677165</td>\n",
       "      <td>xgb</td>\n",
       "      <td>LabelPowersetClassifier(classifier=XGBClassifi...</td>\n",
       "      <td>0.799775</td>\n",
       "      <td>0.770247</td>\n",
       "      <td>0.773641</td>\n",
       "      <td>0.099644</td>\n",
       "      <td>0.819123</td>\n",
       "      <td>0.759693</td>\n",
       "      <td>0.788289</td>\n",
       "      <td>0.840448</td>\n",
       "      <td>0.68634</td>\n",
       "      <td>0.741929</td>\n",
       "      <td>2.745782</td>\n",
       "    </tr>\n",
       "    <tr>\n",
       "      <th>CDN</th>\n",
       "      <td>0.559322</td>\n",
       "      <td>xgb</td>\n",
       "      <td>ConditionalDependencyNetwork(classifier=XGBCla...</td>\n",
       "      <td>0.7129</td>\n",
       "      <td>0.684746</td>\n",
       "      <td>0.685386</td>\n",
       "      <td>0.13371</td>\n",
       "      <td>0.743443</td>\n",
       "      <td>0.695552</td>\n",
       "      <td>0.7187</td>\n",
       "      <td>0.749439</td>\n",
       "      <td>0.621048</td>\n",
       "      <td>0.669159</td>\n",
       "      <td>3.240678</td>\n",
       "    </tr>\n",
       "    <tr>\n",
       "      <th>MBR</th>\n",
       "      <td>0.623164</td>\n",
       "      <td>xgb</td>\n",
       "      <td>MetaBinaryRelevance(classifier=XGBClassifier(b...</td>\n",
       "      <td>0.767608</td>\n",
       "      <td>0.740772</td>\n",
       "      <td>0.7412</td>\n",
       "      <td>0.092938</td>\n",
       "      <td>0.858787</td>\n",
       "      <td>0.743865</td>\n",
       "      <td>0.797206</td>\n",
       "      <td>0.86605</td>\n",
       "      <td>0.675409</td>\n",
       "      <td>0.750002</td>\n",
       "      <td>2.951412</td>\n",
       "    </tr>\n",
       "  </tbody>\n",
       "</table>\n",
       "</div>"
      ]
     },
     "execution_count": 25,
     "metadata": {},
     "output_type": "execute_result"
    }
   ],
   "execution_count": 25
  },
  {
   "metadata": {
    "ExecuteTime": {
     "end_time": "2025-01-26T23:50:48.341893Z",
     "start_time": "2025-01-26T23:50:48.274529Z"
    }
   },
   "cell_type": "code",
   "source": [
    "z = evaluation['LP']['Model'].predict(X_val_mcc)\n",
    "acc = accuracy_score(np.array([list(label_map_lp[yp]) for yp in y_val_mcc]), z)\n",
    "\n",
    "print(classification_report(y_true=np.array([list(label_map_lp[yp]) for yp in y_val_mcc]), y_pred=z, target_names=mlb.classes_, zero_division=0))\n",
    "print(acc)\n"
   ],
   "id": "411837f42eb96c63",
   "outputs": [
    {
     "name": "stdout",
     "output_type": "stream",
     "text": [
      "                   precision    recall  f1-score   support\n",
      "\n",
      "computer security       0.84      0.90      0.87       930\n",
      "         hardware       0.90      0.54      0.68       355\n",
      "       networking       0.88      0.58      0.69       146\n",
      "operating systems       0.95      0.68      0.79       170\n",
      "            other       0.69      0.82      0.75       361\n",
      "         software       0.85      0.76      0.81       643\n",
      "\n",
      "        micro avg       0.83      0.77      0.80      2605\n",
      "        macro avg       0.85      0.71      0.76      2605\n",
      "     weighted avg       0.84      0.77      0.80      2605\n",
      "      samples avg       0.81      0.78      0.79      2605\n",
      "\n",
      "0.6934758155230596\n"
     ]
    }
   ],
   "execution_count": 26
  }
 ],
 "metadata": {
  "kaggle": {
   "accelerator": "none",
   "dataSources": [
    {
     "datasetId": 870709,
     "sourceId": 1483651,
     "sourceType": "datasetVersion"
    },
    {
     "datasetId": 4678553,
     "sourceId": 7954760,
     "sourceType": "datasetVersion"
    }
   ],
   "dockerImageVersionId": 30804,
   "isGpuEnabled": false,
   "isInternetEnabled": true,
   "language": "python",
   "sourceType": "notebook"
  },
  "kernelspec": {
   "display_name": "Python 3",
   "language": "python",
   "name": "python3"
  },
  "language_info": {
   "codemirror_mode": {
    "name": "ipython",
    "version": 3
   },
   "file_extension": ".py",
   "mimetype": "text/x-python",
   "name": "python",
   "nbconvert_exporter": "python",
   "pygments_lexer": "ipython3",
   "version": "3.10.14"
  },
  "papermill": {
   "default_parameters": {},
   "duration": 5394.913296,
   "end_time": "2024-12-12T17:56:06.436689",
   "environment_variables": {},
   "exception": null,
   "input_path": "__notebook__.ipynb",
   "output_path": "__notebook__.ipynb",
   "parameters": {},
   "start_time": "2024-12-12T16:26:11.523393",
   "version": "2.6.0"
  }
 },
 "nbformat": 4,
 "nbformat_minor": 5
}
