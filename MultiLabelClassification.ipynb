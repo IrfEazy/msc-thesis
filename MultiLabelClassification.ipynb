{
 "cells": [
  {
   "cell_type": "markdown",
   "id": "e47e11e2",
   "metadata": {
    "papermill": {
     "duration": 0.007277,
     "end_time": "2024-12-12T16:26:14.553663",
     "exception": false,
     "start_time": "2024-12-12T16:26:14.546386",
     "status": "completed"
    },
    "tags": []
   },
   "source": [
    "# Multi-Class Classification with Machine Learning\n",
    "In this notebook, we will explore various machine learning models to solve a multi-class classification problem. We will evaluate and compare the performance of different algorithms on the dataset.\n"
   ]
  },
  {
   "metadata": {
    "execution": {
     "iopub.execute_input": "2024-12-12T16:26:14.569199Z",
     "iopub.status.busy": "2024-12-12T16:26:14.568776Z",
     "iopub.status.idle": "2024-12-12T16:26:17.993533Z",
     "shell.execute_reply": "2024-12-12T16:26:17.992503Z"
    },
    "papermill": {
     "duration": 3.435545,
     "end_time": "2024-12-12T16:26:17.996431",
     "exception": false,
     "start_time": "2024-12-12T16:26:14.560886",
     "status": "completed"
    },
    "tags": [],
    "ExecuteTime": {
     "end_time": "2025-01-28T14:57:32.379545Z",
     "start_time": "2025-01-28T14:57:32.373156Z"
    }
   },
   "cell_type": "code",
   "source": [
    "import ast\n",
    "import json\n",
    "import random\n",
    "from collections import Counter\n",
    "from pathlib import Path\n",
    "\n",
    "import joblib\n",
    "import numpy as np\n",
    "import pandas as pd\n",
    "from sklearn.ensemble import RandomForestClassifier\n",
    "from sklearn.linear_model import LogisticRegression\n",
    "from sklearn.metrics import accuracy_score, classification_report, roc_auc_score\n",
    "from sklearn.model_selection import train_test_split\n",
    "from sklearn.multiclass import OneVsRestClassifier\n",
    "from sklearn.naive_bayes import GaussianNB\n",
    "from sklearn.preprocessing import MultiLabelBinarizer\n",
    "from sklearn.tree import DecisionTreeClassifier\n",
    "from skmultilearn.model_selection import iterative_train_test_split\n",
    "from tqdm import tqdm\n",
    "from xgboost import XGBClassifier\n",
    "\n",
    "from preprocess_functions import build_tree, extract_keys, merge_all_trees_with_counts, preprocess_texts\n",
    "from utils import CalibratedLabelRankClassifier, ChainOfClassifiers, LabelPowersetClassifier, \\\n",
    "    assess_models, prune_and_subsample, ConditionalDependencyNetwork, MetaBinaryRelevance\n"
   ],
   "id": "3725615c",
   "outputs": [],
   "execution_count": 41
  },
  {
   "metadata": {
    "ExecuteTime": {
     "end_time": "2025-01-28T13:50:42.485256Z",
     "start_time": "2025-01-28T13:50:42.482547Z"
    }
   },
   "cell_type": "code",
   "source": [
    "OVERWRITE = True\n",
    "RANDOM_STATE = 42\n",
    "\n",
    "np.random.seed(RANDOM_STATE)\n",
    "random.seed(RANDOM_STATE)\n"
   ],
   "id": "30ed7102e0110c7f",
   "outputs": [],
   "execution_count": 2
  },
  {
   "cell_type": "code",
   "id": "8074f464",
   "metadata": {
    "execution": {
     "iopub.execute_input": "2024-12-12T16:26:18.012827Z",
     "iopub.status.busy": "2024-12-12T16:26:18.012308Z",
     "iopub.status.idle": "2024-12-12T16:26:18.020759Z",
     "shell.execute_reply": "2024-12-12T16:26:18.019690Z"
    },
    "papermill": {
     "duration": 0.019672,
     "end_time": "2024-12-12T16:26:18.022881",
     "exception": false,
     "start_time": "2024-12-12T16:26:18.003209",
     "status": "completed"
    },
    "tags": [],
    "ExecuteTime": {
     "end_time": "2025-01-28T13:50:42.561898Z",
     "start_time": "2025-01-28T13:50:42.507258Z"
    }
   },
   "source": [
    "TEST_SIZE = 2e-1\n",
    "\n",
    "BASE_CLASSIFIERS = {\n",
    "    'logistic_regression': LogisticRegression(solver='liblinear', random_state=RANDOM_STATE),\n",
    "    'gaussian_nb': GaussianNB(),\n",
    "    'decision_tree': DecisionTreeClassifier(random_state=RANDOM_STATE),\n",
    "    'random_forest': RandomForestClassifier(random_state=RANDOM_STATE),\n",
    "    'xgb': XGBClassifier(random_state=RANDOM_STATE)\n",
    "}\n",
    "\n",
    "COLAB_PATH = Path('/content/drive/MyDrive')\n",
    "KAGGLE_PATH = Path('/kaggle/input')\n",
    "LOCAL_PATH = Path('./')\n",
    "\n",
    "# Step 1: Check if running in Google Colab\n",
    "try:\n",
    "    import google.colab\n",
    "\n",
    "    DATA_PATH = COLAB_PATH / Path('data')\n",
    "    MODELS_PATH = COLAB_PATH / Path('models')\n",
    "except ImportError:\n",
    "    # Step 2: Check if running in Kaggle\n",
    "    try:\n",
    "        import kaggle_secrets\n",
    "\n",
    "        DATA_PATH = KAGGLE_PATH\n",
    "        MODELS_PATH = KAGGLE_PATH\n",
    "    except ImportError:\n",
    "        # Step 3: Default to local Jupyter Notebook\n",
    "        DATA_PATH = LOCAL_PATH / Path('data')\n",
    "        MODELS_PATH = LOCAL_PATH / Path('models')\n",
    "\n",
    "GLOVE_6B_PATH = MODELS_PATH / Path('glove-embeddings')\n",
    "THREAT_TWEETS_PATH = DATA_PATH / Path('tweets-dataset-for-cyberattack-detection')\n",
    "\n",
    "GLOVE_6B_300D_TXT = GLOVE_6B_PATH / Path('glove.6B.300d.txt')\n",
    "THREAT_TWEETS_CSV = THREAT_TWEETS_PATH / Path('tweets_final.csv')\n"
   ],
   "outputs": [],
   "execution_count": 3
  },
  {
   "metadata": {
    "papermill": {
     "duration": 0.006199,
     "end_time": "2024-12-12T16:26:18.061625",
     "exception": false,
     "start_time": "2024-12-12T16:26:18.055426",
     "status": "completed"
    },
    "tags": []
   },
   "cell_type": "markdown",
   "source": [
    "## 1. Data Loading and Preprocessing\n",
    "\n",
    "Load the dataset, inspect its structure, and preprocess it for machine learning models.\n"
   ],
   "id": "bc09f879"
  },
  {
   "metadata": {
    "ExecuteTime": {
     "end_time": "2025-01-28T13:50:55.505464Z",
     "start_time": "2025-01-28T13:50:42.573488Z"
    }
   },
   "cell_type": "code",
   "source": [
    "# Read the CSV file and process columns in one step\n",
    "threat_tweets = (\n",
    "    pd.read_csv(filepath_or_buffer=THREAT_TWEETS_CSV)\n",
    "    .assign(\n",
    "        tweet=lambda df: df['tweet'].apply(func=ast.literal_eval),\n",
    "        watson=lambda df: df['watson'].apply(func=ast.literal_eval)\n",
    "        .apply(func=lambda x: x.get('categories', []))\n",
    "        .apply(func=build_tree),\n",
    "        watson_list=lambda df: df['watson'].apply(func=extract_keys),\n",
    "    )\n",
    "    .query(expr='relevant == True')\n",
    "    .drop(labels=[\n",
    "        'relevant', '_id', 'date',\n",
    "        'id', 'tweet', 'type',\n",
    "        'annotation', 'urls', 'destination_url',\n",
    "        'valid_certificate'\n",
    "    ], axis=1)\n",
    "    .dropna(subset=['text'], ignore_index=True)\n",
    ")\n",
    "\n",
    "threat_tweets.head()\n"
   ],
   "id": "2f76035997296746",
   "outputs": [
    {
     "data": {
      "text/plain": [
       "                                                text  \\\n",
       "0  Protect  your customers  access Prestashop Ant...   \n",
       "1  Data leak from Huazhu Hotels may affect 130 mi...   \n",
       "2  Instagram App 41.1788.50991.0 #Denial Of #Serv...   \n",
       "3  (good slides): \\n\\nThe Advanced Exploitation o...   \n",
       "4  CVE-2018-1000532 (beep)\\nhttps://t.co/CaKbo38U...   \n",
       "\n",
       "                                              watson  \\\n",
       "0  {'technology and computing': {'internet techno...   \n",
       "1  {'travel': {'hotels': {}}, 'home and garden': ...   \n",
       "2  {'science': {'weather': {'meteorological disas...   \n",
       "3  {'business and industrial': {'business operati...   \n",
       "4  {'technology and computing': {'computer securi...   \n",
       "\n",
       "                                         watson_list  \n",
       "0  [technology and computing, internet technology...  \n",
       "1  [travel, hotels, home and garden, home improve...  \n",
       "2  [science, weather, meteorological disaster, hu...  \n",
       "3  [business and industrial, business operations,...  \n",
       "4  [technology and computing, computer security, ...  "
      ],
      "text/html": [
       "<div>\n",
       "<style scoped>\n",
       "    .dataframe tbody tr th:only-of-type {\n",
       "        vertical-align: middle;\n",
       "    }\n",
       "\n",
       "    .dataframe tbody tr th {\n",
       "        vertical-align: top;\n",
       "    }\n",
       "\n",
       "    .dataframe thead th {\n",
       "        text-align: right;\n",
       "    }\n",
       "</style>\n",
       "<table border=\"1\" class=\"dataframe\">\n",
       "  <thead>\n",
       "    <tr style=\"text-align: right;\">\n",
       "      <th></th>\n",
       "      <th>text</th>\n",
       "      <th>watson</th>\n",
       "      <th>watson_list</th>\n",
       "    </tr>\n",
       "  </thead>\n",
       "  <tbody>\n",
       "    <tr>\n",
       "      <th>0</th>\n",
       "      <td>Protect  your customers  access Prestashop Ant...</td>\n",
       "      <td>{'technology and computing': {'internet techno...</td>\n",
       "      <td>[technology and computing, internet technology...</td>\n",
       "    </tr>\n",
       "    <tr>\n",
       "      <th>1</th>\n",
       "      <td>Data leak from Huazhu Hotels may affect 130 mi...</td>\n",
       "      <td>{'travel': {'hotels': {}}, 'home and garden': ...</td>\n",
       "      <td>[travel, hotels, home and garden, home improve...</td>\n",
       "    </tr>\n",
       "    <tr>\n",
       "      <th>2</th>\n",
       "      <td>Instagram App 41.1788.50991.0 #Denial Of #Serv...</td>\n",
       "      <td>{'science': {'weather': {'meteorological disas...</td>\n",
       "      <td>[science, weather, meteorological disaster, hu...</td>\n",
       "    </tr>\n",
       "    <tr>\n",
       "      <th>3</th>\n",
       "      <td>(good slides): \\n\\nThe Advanced Exploitation o...</td>\n",
       "      <td>{'business and industrial': {'business operati...</td>\n",
       "      <td>[business and industrial, business operations,...</td>\n",
       "    </tr>\n",
       "    <tr>\n",
       "      <th>4</th>\n",
       "      <td>CVE-2018-1000532 (beep)\\nhttps://t.co/CaKbo38U...</td>\n",
       "      <td>{'technology and computing': {'computer securi...</td>\n",
       "      <td>[technology and computing, computer security, ...</td>\n",
       "    </tr>\n",
       "  </tbody>\n",
       "</table>\n",
       "</div>"
      ]
     },
     "execution_count": 4,
     "metadata": {},
     "output_type": "execute_result"
    }
   ],
   "execution_count": 4
  },
  {
   "metadata": {
    "ExecuteTime": {
     "end_time": "2025-01-28T13:50:55.603651Z",
     "start_time": "2025-01-28T13:50:55.600193Z"
    }
   },
   "cell_type": "code",
   "source": "print(f\"Number of CS related tweets:\\t{len(threat_tweets)}\")\n",
   "id": "1273c8994072c16c",
   "outputs": [
    {
     "name": "stdout",
     "output_type": "stream",
     "text": [
      "Number of CS related tweets:\t11112\n"
     ]
    }
   ],
   "execution_count": 5
  },
  {
   "metadata": {
    "ExecuteTime": {
     "end_time": "2025-01-28T13:50:55.947262Z",
     "start_time": "2025-01-28T13:50:55.747675Z"
    }
   },
   "cell_type": "code",
   "source": "general_tree, visit_count = merge_all_trees_with_counts(trees=threat_tweets['watson'])\n",
   "id": "a3afc9058abe1111",
   "outputs": [],
   "execution_count": 6
  },
  {
   "metadata": {
    "ExecuteTime": {
     "end_time": "2025-01-28T13:50:56.182536Z",
     "start_time": "2025-01-28T13:50:56.178469Z"
    }
   },
   "cell_type": "code",
   "source": [
    "print(\"The subcategories in 'technology and computing' are:\")\n",
    "for category in list(general_tree['technology and computing'].keys()):\n",
    "    print(f'· {category}')\n"
   ],
   "id": "3438fcd1a2aa0b74",
   "outputs": [
    {
     "name": "stdout",
     "output_type": "stream",
     "text": [
      "The subcategories in 'technology and computing' are:\n",
      "· computer security\n",
      "· internet technology\n",
      "· software\n",
      "· hardware\n",
      "· operating systems\n",
      "· data centers\n",
      "· mp3 and midi\n",
      "· computer reviews\n",
      "· programming languages\n",
      "· consumer electronics\n",
      "· tech news\n",
      "· networking\n",
      "· electronic components\n",
      "· computer crime\n",
      "· enterprise technology\n",
      "· computer certification\n",
      "· technological innovation\n",
      "· technical support\n"
     ]
    }
   ],
   "execution_count": 7
  },
  {
   "metadata": {
    "ExecuteTime": {
     "end_time": "2025-01-28T13:50:56.302054Z",
     "start_time": "2025-01-28T13:50:56.293208Z"
    }
   },
   "cell_type": "code",
   "source": [
    "sorted_visit_count = dict(sorted(visit_count.items(), key=lambda item: item[1], reverse=True))\n",
    "\n",
    "with open('general_tree.json', 'w') as file:\n",
    "    file.write(json.dumps(general_tree, indent=4))\n",
    "\n",
    "with open('general_tree_visit_counts.json', 'w') as file:\n",
    "    file.write(json.dumps(sorted_visit_count, indent=4))\n"
   ],
   "id": "50cf7585c5ad8ba4",
   "outputs": [],
   "execution_count": 8
  },
  {
   "metadata": {
    "papermill": {
     "duration": 0.006578,
     "end_time": "2024-12-12T16:26:36.033922",
     "exception": false,
     "start_time": "2024-12-12T16:26:36.027344",
     "status": "completed"
    },
    "tags": []
   },
   "cell_type": "markdown",
   "source": [
    "## 2. Exploratory Data Analysis (EDA)\n",
    "\n",
    "Analyze the dataset and gain insights into its distribution.\n"
   ],
   "id": "fbcb95f4"
  },
  {
   "metadata": {
    "execution": {
     "iopub.execute_input": "2024-12-12T16:26:36.049527Z",
     "iopub.status.busy": "2024-12-12T16:26:36.048702Z",
     "iopub.status.idle": "2024-12-12T16:26:36.055194Z",
     "shell.execute_reply": "2024-12-12T16:26:36.054004Z"
    },
    "papermill": {
     "duration": 0.016586,
     "end_time": "2024-12-12T16:26:36.057289",
     "exception": false,
     "start_time": "2024-12-12T16:26:36.040703",
     "status": "completed"
    },
    "tags": [],
    "ExecuteTime": {
     "end_time": "2025-01-28T13:50:56.403155Z",
     "start_time": "2025-01-28T13:50:56.315545Z"
    }
   },
   "cell_type": "code",
   "source": [
    "print('At macro categories are:')\n",
    "for category in list(general_tree.keys()):\n",
    "    print(f'· {category}')\n"
   ],
   "id": "6865c633",
   "outputs": [
    {
     "name": "stdout",
     "output_type": "stream",
     "text": [
      "At macro categories are:\n",
      "· technology and computing\n",
      "· health and fitness\n",
      "· home and garden\n",
      "· travel\n",
      "· art and entertainment\n",
      "· science\n",
      "· business and industrial\n",
      "· sports\n",
      "· finance\n",
      "· law, govt and politics\n",
      "· society\n",
      "· real estate\n",
      "· pets\n",
      "· style and fashion\n",
      "· news\n",
      "· hobbies and interests\n",
      "· food and drink\n",
      "· education\n",
      "· shopping\n",
      "· family and parenting\n",
      "· religion and spirituality\n",
      "· automotive and vehicles\n",
      "· careers\n"
     ]
    }
   ],
   "execution_count": 9
  },
  {
   "metadata": {},
   "cell_type": "markdown",
   "source": [
    "For the goal of the project, the categories of interest are:\n",
    "1. computer security/network security\n",
    "2. computer security/antivirus and malware\n",
    "3. operating systems/mac os\n",
    "4. operating systems/windows\n",
    "5. operating systems/unix\n",
    "6. operating systems/linux\n",
    "7. software\n",
    "8. programming languages, included in software\n",
    "9. software/databases\n",
    "10. hardware\n",
    "11. electronic components, included in hardware\n",
    "12. hardware/computer/servers\n",
    "13. hardware/computer/portable computer\n",
    "14. hardware/computer/desktop computer\n",
    "15. hardware/computer components\n",
    "16. hardware/computer networking/router\n",
    "17. hardware/computer networking/wireless technology\n",
    "18. networking\n",
    "19. internet technology, included in networking\n"
   ],
   "id": "5b31409a7b0bd08"
  },
  {
   "metadata": {
    "ExecuteTime": {
     "end_time": "2025-01-28T13:50:56.515855Z",
     "start_time": "2025-01-28T13:50:56.440269Z"
    }
   },
   "cell_type": "code",
   "source": [
    "FIX_TARGETS = {\n",
    "    'computer security': 'computer security',\n",
    "    'operating systems': 'operating systems',\n",
    "    'software': 'software',\n",
    "    'programming languages': 'software',\n",
    "    'hardware': 'hardware',\n",
    "    'electronic components': 'hardware',\n",
    "    'networking': 'networking',\n",
    "    'internet technology': 'networking'\n",
    "}\n",
    "\n",
    "chosen_categories = [\n",
    "    list(set(FIX_TARGETS.keys()) & set(s))\n",
    "    for s in threat_tweets['watson_list']\n",
    "]\n",
    "\n",
    "for i, watson_list in enumerate(chosen_categories):\n",
    "    temp = list(set([FIX_TARGETS[c] for c in watson_list]))\n",
    "    if len(temp) < 1:\n",
    "        temp = ['other']\n",
    "    chosen_categories[i] = temp\n",
    "\n",
    "threat_tweets['target'] = chosen_categories\n",
    "\n",
    "threat_tweets.head()\n"
   ],
   "id": "287e815d832565fd",
   "outputs": [
    {
     "data": {
      "text/plain": [
       "                                                text  \\\n",
       "0  Protect  your customers  access Prestashop Ant...   \n",
       "1  Data leak from Huazhu Hotels may affect 130 mi...   \n",
       "2  Instagram App 41.1788.50991.0 #Denial Of #Serv...   \n",
       "3  (good slides): \\n\\nThe Advanced Exploitation o...   \n",
       "4  CVE-2018-1000532 (beep)\\nhttps://t.co/CaKbo38U...   \n",
       "\n",
       "                                              watson  \\\n",
       "0  {'technology and computing': {'internet techno...   \n",
       "1  {'travel': {'hotels': {}}, 'home and garden': ...   \n",
       "2  {'science': {'weather': {'meteorological disas...   \n",
       "3  {'business and industrial': {'business operati...   \n",
       "4  {'technology and computing': {'computer securi...   \n",
       "\n",
       "                                         watson_list  \\\n",
       "0  [technology and computing, internet technology...   \n",
       "1  [travel, hotels, home and garden, home improve...   \n",
       "2  [science, weather, meteorological disaster, hu...   \n",
       "3  [business and industrial, business operations,...   \n",
       "4  [technology and computing, computer security, ...   \n",
       "\n",
       "                                      target  \n",
       "0  [networking, software, computer security]  \n",
       "1                                    [other]  \n",
       "2                                 [hardware]  \n",
       "3                        [operating systems]  \n",
       "4    [hardware, software, computer security]  "
      ],
      "text/html": [
       "<div>\n",
       "<style scoped>\n",
       "    .dataframe tbody tr th:only-of-type {\n",
       "        vertical-align: middle;\n",
       "    }\n",
       "\n",
       "    .dataframe tbody tr th {\n",
       "        vertical-align: top;\n",
       "    }\n",
       "\n",
       "    .dataframe thead th {\n",
       "        text-align: right;\n",
       "    }\n",
       "</style>\n",
       "<table border=\"1\" class=\"dataframe\">\n",
       "  <thead>\n",
       "    <tr style=\"text-align: right;\">\n",
       "      <th></th>\n",
       "      <th>text</th>\n",
       "      <th>watson</th>\n",
       "      <th>watson_list</th>\n",
       "      <th>target</th>\n",
       "    </tr>\n",
       "  </thead>\n",
       "  <tbody>\n",
       "    <tr>\n",
       "      <th>0</th>\n",
       "      <td>Protect  your customers  access Prestashop Ant...</td>\n",
       "      <td>{'technology and computing': {'internet techno...</td>\n",
       "      <td>[technology and computing, internet technology...</td>\n",
       "      <td>[networking, software, computer security]</td>\n",
       "    </tr>\n",
       "    <tr>\n",
       "      <th>1</th>\n",
       "      <td>Data leak from Huazhu Hotels may affect 130 mi...</td>\n",
       "      <td>{'travel': {'hotels': {}}, 'home and garden': ...</td>\n",
       "      <td>[travel, hotels, home and garden, home improve...</td>\n",
       "      <td>[other]</td>\n",
       "    </tr>\n",
       "    <tr>\n",
       "      <th>2</th>\n",
       "      <td>Instagram App 41.1788.50991.0 #Denial Of #Serv...</td>\n",
       "      <td>{'science': {'weather': {'meteorological disas...</td>\n",
       "      <td>[science, weather, meteorological disaster, hu...</td>\n",
       "      <td>[hardware]</td>\n",
       "    </tr>\n",
       "    <tr>\n",
       "      <th>3</th>\n",
       "      <td>(good slides): \\n\\nThe Advanced Exploitation o...</td>\n",
       "      <td>{'business and industrial': {'business operati...</td>\n",
       "      <td>[business and industrial, business operations,...</td>\n",
       "      <td>[operating systems]</td>\n",
       "    </tr>\n",
       "    <tr>\n",
       "      <th>4</th>\n",
       "      <td>CVE-2018-1000532 (beep)\\nhttps://t.co/CaKbo38U...</td>\n",
       "      <td>{'technology and computing': {'computer securi...</td>\n",
       "      <td>[technology and computing, computer security, ...</td>\n",
       "      <td>[hardware, software, computer security]</td>\n",
       "    </tr>\n",
       "  </tbody>\n",
       "</table>\n",
       "</div>"
      ]
     },
     "execution_count": 10,
     "metadata": {},
     "output_type": "execute_result"
    }
   ],
   "execution_count": 10
  },
  {
   "metadata": {
    "ExecuteTime": {
     "end_time": "2025-01-28T13:50:56.622423Z",
     "start_time": "2025-01-28T13:50:56.614558Z"
    }
   },
   "cell_type": "code",
   "source": [
    "counts_classes = Counter([item[0] for item in chosen_categories])\n",
    "counts_classes\n"
   ],
   "id": "3e993d2708f0cb2b",
   "outputs": [
    {
     "data": {
      "text/plain": [
       "Counter({'computer security': 2930,\n",
       "         'software': 2830,\n",
       "         'other': 2255,\n",
       "         'hardware': 2216,\n",
       "         'networking': 738,\n",
       "         'operating systems': 143})"
      ]
     },
     "execution_count": 11,
     "metadata": {},
     "output_type": "execute_result"
    }
   ],
   "execution_count": 11
  },
  {
   "metadata": {
    "ExecuteTime": {
     "end_time": "2025-01-28T13:50:56.710782Z",
     "start_time": "2025-01-28T13:50:56.693491Z"
    }
   },
   "cell_type": "code",
   "source": [
    "counts_targets = Counter(tuple(item) for item in chosen_categories)\n",
    "counts_targets\n"
   ],
   "id": "31afce8b907c0fce",
   "outputs": [
    {
     "data": {
      "text/plain": [
       "Counter({('computer security',): 2798,\n",
       "         ('other',): 2255,\n",
       "         ('software', 'computer security'): 1439,\n",
       "         ('software',): 803,\n",
       "         ('hardware',): 611,\n",
       "         ('hardware', 'computer security'): 540,\n",
       "         ('hardware', 'software'): 441,\n",
       "         ('software', 'operating systems'): 392,\n",
       "         ('hardware', 'software', 'computer security'): 269,\n",
       "         ('networking',): 208,\n",
       "         ('software', 'operating systems', 'computer security'): 196,\n",
       "         ('networking', 'software', 'computer security'): 179,\n",
       "         ('networking', 'software'): 179,\n",
       "         ('networking', 'computer security'): 148,\n",
       "         ('operating systems',): 143,\n",
       "         ('computer security', 'operating systems'): 132,\n",
       "         ('hardware', 'software', 'operating systems'): 77,\n",
       "         ('hardware', 'computer security', 'networking'): 70,\n",
       "         ('hardware', 'networking'): 68,\n",
       "         ('hardware', 'operating systems'): 66,\n",
       "         ('hardware', 'software', 'networking'): 38,\n",
       "         ('hardware', 'computer security', 'operating systems'): 36,\n",
       "         ('networking', 'computer security', 'operating systems'): 10,\n",
       "         ('networking', 'software', 'operating systems'): 9,\n",
       "         ('networking', 'operating systems'): 5})"
      ]
     },
     "execution_count": 12,
     "metadata": {},
     "output_type": "execute_result"
    }
   ],
   "execution_count": 12
  },
  {
   "metadata": {
    "ExecuteTime": {
     "end_time": "2025-01-28T13:51:27.693817Z",
     "start_time": "2025-01-28T13:50:56.891229Z"
    }
   },
   "cell_type": "code",
   "source": [
    "X = preprocess_texts(\n",
    "    list_str=threat_tweets['text'],\n",
    "    model_path=GLOVE_6B_300D_TXT,\n",
    "    embedding_dim=300\n",
    ")\n"
   ],
   "id": "766b6469058b1f2e",
   "outputs": [],
   "execution_count": 13
  },
  {
   "metadata": {
    "papermill": {
     "duration": 0.00674,
     "end_time": "2024-12-12T16:26:36.126427",
     "exception": false,
     "start_time": "2024-12-12T16:26:36.119687",
     "status": "completed"
    },
    "tags": []
   },
   "cell_type": "markdown",
   "source": [
    "## 4. Model Training\n",
    "\n",
    "We will now train different models and evaluate their performance.\n"
   ],
   "id": "30e50fa8"
  },
  {
   "metadata": {
    "ExecuteTime": {
     "end_time": "2025-01-28T13:51:28.212594Z",
     "start_time": "2025-01-28T13:51:27.854285Z"
    }
   },
   "cell_type": "code",
   "source": [
    "br = None\n",
    "clr = None\n",
    "cc = None\n",
    "lp = None\n",
    "pst = None\n",
    "cdn = None\n",
    "mbr = None\n",
    "\n",
    "PATH_BR_GENERAL = Path('models/binary_problems/br_general.pkl')\n",
    "PATH_CLR_GENERAL = Path('models/binary_problems/clr_general.pkl')\n",
    "PATH_CC_GENERAL = Path('models/binary_problems/cc_general.pkl')\n",
    "\n",
    "PATH_LP_GENERAL = Path('models/multiclass_problems/lp_general.pkl')\n",
    "PATH_PST_GENERAL = Path('models/multiclass_problems/pst_general.pkl')\n",
    "\n",
    "PATH_CDN_GENERAL = Path('models/ensembles/cdn_general.pkl')\n",
    "PATH_MBR_GENERAL = Path('models/ensembles/mbr_general.pkl')\n",
    "\n",
    "if PATH_BR_GENERAL.exists():\n",
    "    br = joblib.load(PATH_BR_GENERAL)\n",
    "\n",
    "if PATH_CLR_GENERAL.exists():\n",
    "    clr = joblib.load(PATH_CLR_GENERAL)\n",
    "\n",
    "if PATH_CC_GENERAL.exists():\n",
    "    cc = joblib.load(PATH_CC_GENERAL)\n",
    "\n",
    "if PATH_LP_GENERAL.exists():\n",
    "    lp = joblib.load(PATH_LP_GENERAL)\n",
    "\n",
    "if PATH_PST_GENERAL.exists():\n",
    "    pst = joblib.load(PATH_PST_GENERAL)\n",
    "\n",
    "if PATH_CDN_GENERAL.exists():\n",
    "    cdn = joblib.load(PATH_CDN_GENERAL)\n",
    "\n",
    "if PATH_MBR_GENERAL.exists():\n",
    "    mbr = joblib.load(PATH_MBR_GENERAL)\n"
   ],
   "id": "e7b6c270783cb110",
   "outputs": [],
   "execution_count": 14
  },
  {
   "metadata": {
    "execution": {
     "iopub.execute_input": "2024-12-12T16:26:36.261035Z",
     "iopub.status.busy": "2024-12-12T16:26:36.260618Z",
     "iopub.status.idle": "2024-12-12T16:27:16.804071Z",
     "shell.execute_reply": "2024-12-12T16:27:16.802740Z"
    },
    "papermill": {
     "duration": 40.555062,
     "end_time": "2024-12-12T16:27:16.806882",
     "exception": false,
     "start_time": "2024-12-12T16:26:36.251820",
     "status": "completed"
    },
    "tags": [],
    "ExecuteTime": {
     "end_time": "2025-01-28T13:51:28.365296Z",
     "start_time": "2025-01-28T13:51:28.253660Z"
    }
   },
   "cell_type": "code",
   "source": [
    "mlb = MultiLabelBinarizer()\n",
    "y = mlb.fit_transform(y=threat_tweets['target'])\n",
    "\n",
    "unique_label_sets, y_lp = np.unique(ar=y, axis=0, return_inverse=True)\n",
    "label_map_lp = {i: tuple(lbl_set) for i, lbl_set in enumerate(unique_label_sets)}\n",
    "\n",
    "X_pst, y_pst, label_map_pst, _ = prune_and_subsample(\n",
    "    x=X,\n",
    "    y=y,\n",
    "    pruning_threshold=np.median(np.array(list(counts_targets.values()))) * .25,\n",
    "    max_sub_samples=round(np.median(np.array(list(counts_targets.values()))) * .25)\n",
    ")\n"
   ],
   "id": "62b61de3",
   "outputs": [],
   "execution_count": 15
  },
  {
   "metadata": {
    "execution": {
     "iopub.execute_input": "2024-12-12T16:27:16.822984Z",
     "iopub.status.busy": "2024-12-12T16:27:16.822523Z",
     "iopub.status.idle": "2024-12-12T16:27:16.869712Z",
     "shell.execute_reply": "2024-12-12T16:27:16.868047Z"
    },
    "papermill": {
     "duration": 0.05826,
     "end_time": "2024-12-12T16:27:16.872512",
     "exception": false,
     "start_time": "2024-12-12T16:27:16.814252",
     "status": "completed"
    },
    "tags": [],
    "ExecuteTime": {
     "end_time": "2025-01-28T13:51:29.210734Z",
     "start_time": "2025-01-28T13:51:28.370348Z"
    }
   },
   "cell_type": "code",
   "source": [
    "X_train_val, y_train_val, X_test, y_test = iterative_train_test_split(\n",
    "    X=X,\n",
    "    y=y,\n",
    "    test_size=TEST_SIZE\n",
    ")\n",
    "\n",
    "X_train, y_train, X_val, y_val = iterative_train_test_split(\n",
    "    X=X_train_val,\n",
    "    y=y_train_val,\n",
    "    test_size=TEST_SIZE\n",
    ")\n",
    "\n",
    "X_train_val_lp, X_test_lp, y_train_val_lp, y_test_lp = train_test_split(\n",
    "    X, y_lp,\n",
    "    test_size=TEST_SIZE,\n",
    "    random_state=RANDOM_STATE,\n",
    "    shuffle=True,\n",
    "    stratify=y_lp\n",
    ")\n",
    "\n",
    "X_train_lp, X_val_lp, y_train_lp, y_val_lp = train_test_split(\n",
    "    X_train_val_lp, y_train_val_lp,\n",
    "    test_size=TEST_SIZE,\n",
    "    random_state=RANDOM_STATE,\n",
    "    shuffle=True,\n",
    "    stratify=y_train_val_lp\n",
    ")\n",
    "\n",
    "X_train_val_pst, X_test_pst, y_train_val_pst, y_test_pst = train_test_split(\n",
    "    X_pst, y_pst,\n",
    "    test_size=TEST_SIZE,\n",
    "    random_state=RANDOM_STATE,\n",
    "    shuffle=True,\n",
    "    stratify=y_pst\n",
    ")\n",
    "\n",
    "X_train_pst, X_val_pst, y_train_pst, y_val_pst = train_test_split(\n",
    "    X_train_val_pst, y_train_val_pst,\n",
    "    test_size=TEST_SIZE,\n",
    "    random_state=RANDOM_STATE,\n",
    "    shuffle=True,\n",
    "    stratify=y_train_val_pst\n",
    ")\n"
   ],
   "id": "6f6e8f70",
   "outputs": [],
   "execution_count": 16
  },
  {
   "metadata": {},
   "cell_type": "markdown",
   "source": "### 4.1. Binary Problems\n",
   "id": "5497ccaa5c90acba"
  },
  {
   "metadata": {},
   "cell_type": "markdown",
   "source": "#### 4.1.1. BR (Binary Relevance)\n",
   "id": "82dd9d2dcaa2fea4"
  },
  {
   "metadata": {
    "ExecuteTime": {
     "end_time": "2025-01-28T13:54:23.006410Z",
     "start_time": "2025-01-28T13:51:29.244003Z"
    }
   },
   "cell_type": "code",
   "source": [
    "if not br or OVERWRITE:\n",
    "    br = {}\n",
    "\n",
    "    for k in tqdm(BASE_CLASSIFIERS.keys()):\n",
    "        br[k] = OneVsRestClassifier(estimator=BASE_CLASSIFIERS[k]).fit(\n",
    "            X=X_train,\n",
    "            y=y_train\n",
    "        )\n",
    "\n",
    "    joblib.dump(br, PATH_BR_GENERAL, compress=9)\n"
   ],
   "id": "edb485590d88fbc",
   "outputs": [
    {
     "name": "stderr",
     "output_type": "stream",
     "text": [
      "100%|██████████| 5/5 [02:39<00:00, 31.97s/it]\n"
     ]
    }
   ],
   "execution_count": 17
  },
  {
   "metadata": {},
   "cell_type": "markdown",
   "source": "#### 4.1.2. CLR (Calibrated Label Ranking)\n",
   "id": "c27df998bb1234c"
  },
  {
   "metadata": {
    "ExecuteTime": {
     "end_time": "2025-01-28T13:59:41.229748Z",
     "start_time": "2025-01-28T13:54:23.067252Z"
    }
   },
   "cell_type": "code",
   "source": [
    "if not clr or OVERWRITE:\n",
    "    clr = {}\n",
    "\n",
    "    for k, v in tqdm(BASE_CLASSIFIERS.items()):\n",
    "        model = CalibratedLabelRankClassifier(\n",
    "            classifier=v,\n",
    "            classes=mlb.classes_,\n",
    "            random_state=RANDOM_STATE\n",
    "        )\n",
    "\n",
    "        clr[k] = model.fit(\n",
    "            x=X_train,\n",
    "            y=[list(mlb.classes_[np.where(row == 1)[0]]) for row in y_train]\n",
    "        )\n",
    "\n",
    "    joblib.dump(clr, PATH_CLR_GENERAL, compress=9)\n"
   ],
   "id": "16dc8d6169ac9f67",
   "outputs": [
    {
     "name": "stderr",
     "output_type": "stream",
     "text": [
      "100%|██████████| 5/5 [04:47<00:00, 57.59s/it]\n"
     ]
    }
   ],
   "execution_count": 18
  },
  {
   "metadata": {},
   "cell_type": "markdown",
   "source": "#### 4.1.3. CC (Classifier Chains)\n",
   "id": "8032c9f1462962f2"
  },
  {
   "metadata": {
    "ExecuteTime": {
     "end_time": "2025-01-28T14:02:00.443648Z",
     "start_time": "2025-01-28T13:59:41.272236Z"
    }
   },
   "cell_type": "code",
   "source": [
    "if not cc or OVERWRITE:\n",
    "    cc = {}\n",
    "\n",
    "    for k, v in tqdm(BASE_CLASSIFIERS.items()):\n",
    "        model = ChainOfClassifiers(\n",
    "            classifier=v,\n",
    "            classes=mlb.classes_,\n",
    "            random_state=RANDOM_STATE\n",
    "        )\n",
    "\n",
    "        cc[k] = model.fit(\n",
    "            x=X_train,\n",
    "            y=y_train\n",
    "        )\n",
    "\n",
    "    joblib.dump(cc, PATH_CC_GENERAL, compress=9)\n"
   ],
   "id": "3162246646bc535f",
   "outputs": [
    {
     "name": "stderr",
     "output_type": "stream",
     "text": [
      "100%|██████████| 5/5 [02:05<00:00, 25.01s/it]\n"
     ]
    }
   ],
   "execution_count": 19
  },
  {
   "metadata": {},
   "cell_type": "markdown",
   "source": [
    "### 4.2. Multi-class Problems\n",
    "\n"
   ],
   "id": "80e25f22336640"
  },
  {
   "metadata": {},
   "cell_type": "markdown",
   "source": "#### 4.2.1. LP (Label Powerset)\n",
   "id": "fba9c659bff8d6e3"
  },
  {
   "metadata": {
    "ExecuteTime": {
     "end_time": "2025-01-28T14:05:33.273893Z",
     "start_time": "2025-01-28T14:02:00.501507Z"
    }
   },
   "cell_type": "code",
   "source": [
    "if not lp or OVERWRITE:\n",
    "    lp = {}\n",
    "\n",
    "    for k, v in tqdm(BASE_CLASSIFIERS.items()):\n",
    "        model = LabelPowersetClassifier(\n",
    "            classifier=v,\n",
    "            label_map=label_map_lp,\n",
    "            random_state=RANDOM_STATE\n",
    "        )\n",
    "\n",
    "        lp[k] = model.fit(\n",
    "            x=X_train_lp,\n",
    "            y=y_train_lp\n",
    "        )\n",
    "\n",
    "    joblib.dump(lp, PATH_LP_GENERAL, compress=9)\n"
   ],
   "id": "838f03de34100d4b",
   "outputs": [
    {
     "name": "stderr",
     "output_type": "stream",
     "text": [
      "100%|██████████| 5/5 [03:21<00:00, 40.31s/it]\n"
     ]
    }
   ],
   "execution_count": 20
  },
  {
   "metadata": {},
   "cell_type": "markdown",
   "source": "#### 4.2.2. PSt (Pruned Sets)\n",
   "id": "36a35690f78685cb"
  },
  {
   "metadata": {
    "ExecuteTime": {
     "end_time": "2025-01-28T14:10:06.503312Z",
     "start_time": "2025-01-28T14:05:33.325367Z"
    }
   },
   "cell_type": "code",
   "source": [
    "if not pst or OVERWRITE:\n",
    "    pst = {}\n",
    "\n",
    "    for k, v in tqdm(BASE_CLASSIFIERS.items()):\n",
    "        model = LabelPowersetClassifier(\n",
    "            classifier=v,\n",
    "            label_map=label_map_pst,\n",
    "            random_state=RANDOM_STATE\n",
    "        )\n",
    "\n",
    "        pst[k] = model.fit(\n",
    "            x=X_train_pst,\n",
    "            y=y_train_pst\n",
    "        )\n",
    "\n",
    "    joblib.dump(pst, PATH_PST_GENERAL, compress=9)\n"
   ],
   "id": "df8604ee1c6ccc0c",
   "outputs": [
    {
     "name": "stderr",
     "output_type": "stream",
     "text": [
      "100%|██████████| 5/5 [04:20<00:00, 52.14s/it] \n"
     ]
    }
   ],
   "execution_count": 21
  },
  {
   "metadata": {},
   "cell_type": "markdown",
   "source": "### 4.3. Ensembles\n",
   "id": "664c1fa64743bda8"
  },
  {
   "metadata": {},
   "cell_type": "markdown",
   "source": "#### 4.3.1. CDN (Conditional Dependency Network)\n",
   "id": "834fb6fe571b907f"
  },
  {
   "metadata": {
    "ExecuteTime": {
     "end_time": "2025-01-28T14:12:44.935887Z",
     "start_time": "2025-01-28T14:10:06.568512Z"
    }
   },
   "cell_type": "code",
   "source": [
    "if not cdn or OVERWRITE:\n",
    "    cdn = {}\n",
    "\n",
    "    for k, v in tqdm(BASE_CLASSIFIERS.items()):\n",
    "        model = ConditionalDependencyNetwork(\n",
    "            classifier=v,\n",
    "            num_iterations=100,\n",
    "            burn_in=10\n",
    "        )\n",
    "\n",
    "        cdn[k] = model.fit(\n",
    "            x=X_train,\n",
    "            y=y_train\n",
    "        )\n",
    "\n",
    "    joblib.dump(cdn, PATH_CDN_GENERAL, compress=9)\n"
   ],
   "id": "b50723c7780a738f",
   "outputs": [
    {
     "name": "stderr",
     "output_type": "stream",
     "text": [
      "100%|██████████| 5/5 [02:25<00:00, 29.17s/it]\n"
     ]
    }
   ],
   "execution_count": 22
  },
  {
   "metadata": {},
   "cell_type": "markdown",
   "source": "#### 4.3.2. MBR (Meta-Binary Relevance)\n",
   "id": "53f16754ed03d5ad"
  },
  {
   "metadata": {
    "ExecuteTime": {
     "end_time": "2025-01-28T14:29:53.494124Z",
     "start_time": "2025-01-28T14:12:44.992846Z"
    }
   },
   "cell_type": "code",
   "source": [
    "if not mbr or OVERWRITE:\n",
    "    mbr = {}\n",
    "\n",
    "    for k, v in tqdm(BASE_CLASSIFIERS.items()):\n",
    "        model = MetaBinaryRelevance(\n",
    "            classifier=v,\n",
    "            use_cross_val=True,\n",
    "            n_splits=5\n",
    "        )\n",
    "\n",
    "        mbr[k] = model.fit(\n",
    "            x=X_train,\n",
    "            y=y_train\n",
    "        )\n",
    "\n",
    "    joblib.dump(mbr, PATH_MBR_GENERAL, compress=9)\n"
   ],
   "id": "241fe414f4eeffff",
   "outputs": [
    {
     "name": "stderr",
     "output_type": "stream",
     "text": [
      "100%|██████████| 5/5 [16:41<00:00, 200.21s/it]\n"
     ]
    }
   ],
   "execution_count": 23
  },
  {
   "metadata": {},
   "cell_type": "markdown",
   "source": [
    "## 5. Model Evaluation\n",
    "\n",
    "Now that we've trained the models, let's evaluate them in more detail.\n"
   ],
   "id": "6e50f10e93df31f9"
  },
  {
   "metadata": {
    "ExecuteTime": {
     "end_time": "2025-01-28T14:41:27.143035Z",
     "start_time": "2025-01-28T14:41:27.138800Z"
    }
   },
   "cell_type": "code",
   "source": "[str(yp) for yp in label_map_pst.values()]",
   "id": "81af54c2abf688e5",
   "outputs": [
    {
     "data": {
      "text/plain": [
       "['(1, 0, 1, 0, 0, 1)',\n",
       " '(0, 0, 0, 0, 1, 0)',\n",
       " '(0, 1, 0, 0, 0, 0)',\n",
       " '(0, 0, 0, 1, 0, 0)',\n",
       " '(1, 1, 0, 0, 0, 1)',\n",
       " '(1, 1, 0, 0, 0, 0)',\n",
       " '(1, 0, 0, 1, 0, 0)',\n",
       " '(1, 0, 0, 0, 0, 0)',\n",
       " '(1, 0, 0, 0, 0, 1)',\n",
       " '(0, 0, 0, 1, 0, 1)',\n",
       " '(0, 0, 0, 0, 0, 1)',\n",
       " '(1, 0, 1, 0, 0, 0)',\n",
       " '(0, 0, 1, 0, 0, 0)',\n",
       " '(0, 1, 0, 0, 0, 1)',\n",
       " '(0, 1, 1, 0, 0, 0)',\n",
       " '(0, 0, 1, 0, 0, 1)',\n",
       " '(1, 1, 1, 0, 0, 0)',\n",
       " '(1, 0, 0, 1, 0, 1)',\n",
       " '(0, 1, 0, 1, 0, 0)',\n",
       " '(0, 1, 0, 1, 0, 1)']"
      ]
     },
     "execution_count": 26,
     "metadata": {},
     "output_type": "execute_result"
    }
   ],
   "execution_count": 26
  },
  {
   "metadata": {
    "ExecuteTime": {
     "end_time": "2025-01-28T14:50:58.750143Z",
     "start_time": "2025-01-28T14:46:59.837309Z"
    }
   },
   "cell_type": "code",
   "source": [
    "evaluation = {\n",
    "    'BR': assess_models(\n",
    "        x=X_val,\n",
    "        y=y_val,\n",
    "        technique=br,\n",
    "        classes=mlb.classes_\n",
    "    ),\n",
    "    'CLR': assess_models(\n",
    "        x=X_val,\n",
    "        y=y_val,\n",
    "        technique=clr,\n",
    "        classes=mlb.classes_\n",
    "    ),\n",
    "    'CC': assess_models(\n",
    "        x=X_val,\n",
    "        y=y_val,\n",
    "        technique=cc,\n",
    "        classes=mlb.classes_\n",
    "    ),\n",
    "    'LP': assess_models(\n",
    "        x=X_val_lp,\n",
    "        y=np.array([list(label_map_lp[yp]) for yp in y_val_lp]),\n",
    "        technique=lp,\n",
    "        classes=mlb.classes_\n",
    "    ),\n",
    "    'PST': assess_models(\n",
    "        x=X_val_pst,\n",
    "        y=np.array([list(label_map_pst[yp]) for yp in y_val_pst]),\n",
    "        technique=pst,\n",
    "        classes=mlb.classes_\n",
    "    ),\n",
    "    'CDN': assess_models(\n",
    "        x=X_val,\n",
    "        y=y_val,\n",
    "        technique=cdn,\n",
    "        classes=mlb.classes_\n",
    "    ),\n",
    "    'MBR': assess_models(\n",
    "        x=X_val,\n",
    "        y=y_val,\n",
    "        technique=mbr,\n",
    "        classes=mlb.classes_\n",
    "    )\n",
    "}\n"
   ],
   "id": "4c0f3330656f697b",
   "outputs": [
    {
     "name": "stderr",
     "output_type": "stream",
     "text": [
      "/home/cela/.local/programs/anaconda3/envs/msc-thesis/lib/python3.9/site-packages/sklearn/metrics/_classification.py:1531: UndefinedMetricWarning: Precision is ill-defined and being set to 0.0 in samples with no predicted labels. Use `zero_division` parameter to control this behavior.\n",
      "  _warn_prf(average, modifier, f\"{metric.capitalize()} is\", len(result))\n",
      "/home/cela/.local/programs/anaconda3/envs/msc-thesis/lib/python3.9/site-packages/sklearn/metrics/_classification.py:1531: UndefinedMetricWarning: Precision is ill-defined and being set to 0.0 in samples with no predicted labels. Use `zero_division` parameter to control this behavior.\n",
      "  _warn_prf(average, modifier, f\"{metric.capitalize()} is\", len(result))\n",
      "/home/cela/.local/programs/anaconda3/envs/msc-thesis/lib/python3.9/site-packages/sklearn/metrics/_classification.py:1531: UndefinedMetricWarning: Precision is ill-defined and being set to 0.0 in samples with no predicted labels. Use `zero_division` parameter to control this behavior.\n",
      "  _warn_prf(average, modifier, f\"{metric.capitalize()} is\", len(result))\n",
      "/home/cela/.local/programs/anaconda3/envs/msc-thesis/lib/python3.9/site-packages/sklearn/metrics/_classification.py:1531: UndefinedMetricWarning: Precision is ill-defined and being set to 0.0 in samples with no predicted labels. Use `zero_division` parameter to control this behavior.\n",
      "  _warn_prf(average, modifier, f\"{metric.capitalize()} is\", len(result))\n",
      "/home/cela/.local/programs/anaconda3/envs/msc-thesis/lib/python3.9/site-packages/sklearn/metrics/_classification.py:1531: UndefinedMetricWarning: Precision is ill-defined and being set to 0.0 in samples with no predicted labels. Use `zero_division` parameter to control this behavior.\n",
      "  _warn_prf(average, modifier, f\"{metric.capitalize()} is\", len(result))\n",
      "/home/cela/.local/programs/anaconda3/envs/msc-thesis/lib/python3.9/site-packages/sklearn/metrics/_classification.py:1531: UndefinedMetricWarning: Precision is ill-defined and being set to 0.0 in samples with no predicted labels. Use `zero_division` parameter to control this behavior.\n",
      "  _warn_prf(average, modifier, f\"{metric.capitalize()} is\", len(result))\n",
      "/home/cela/.local/programs/anaconda3/envs/msc-thesis/lib/python3.9/site-packages/sklearn/metrics/_classification.py:1531: UndefinedMetricWarning: Precision is ill-defined and being set to 0.0 in samples with no predicted labels. Use `zero_division` parameter to control this behavior.\n",
      "  _warn_prf(average, modifier, f\"{metric.capitalize()} is\", len(result))\n",
      "/home/cela/.local/programs/anaconda3/envs/msc-thesis/lib/python3.9/site-packages/sklearn/metrics/_classification.py:1531: UndefinedMetricWarning: Precision is ill-defined and being set to 0.0 in samples with no predicted labels. Use `zero_division` parameter to control this behavior.\n",
      "  _warn_prf(average, modifier, f\"{metric.capitalize()} is\", len(result))\n",
      "/home/cela/.local/programs/anaconda3/envs/msc-thesis/lib/python3.9/site-packages/sklearn/metrics/_classification.py:1531: UndefinedMetricWarning: Precision is ill-defined and being set to 0.0 in samples with no predicted labels. Use `zero_division` parameter to control this behavior.\n",
      "  _warn_prf(average, modifier, f\"{metric.capitalize()} is\", len(result))\n",
      "/home/cela/.local/programs/anaconda3/envs/msc-thesis/lib/python3.9/site-packages/sklearn/metrics/_classification.py:1531: UndefinedMetricWarning: Precision is ill-defined and being set to 0.0 in samples with no predicted labels. Use `zero_division` parameter to control this behavior.\n",
      "  _warn_prf(average, modifier, f\"{metric.capitalize()} is\", len(result))\n",
      "/home/cela/.local/programs/anaconda3/envs/msc-thesis/lib/python3.9/site-packages/sklearn/metrics/_classification.py:1531: UndefinedMetricWarning: Precision is ill-defined and being set to 0.0 in samples with no predicted labels. Use `zero_division` parameter to control this behavior.\n",
      "  _warn_prf(average, modifier, f\"{metric.capitalize()} is\", len(result))\n",
      "/home/cela/.local/programs/anaconda3/envs/msc-thesis/lib/python3.9/site-packages/sklearn/metrics/_classification.py:1531: UndefinedMetricWarning: Precision is ill-defined and being set to 0.0 in samples with no predicted labels. Use `zero_division` parameter to control this behavior.\n",
      "  _warn_prf(average, modifier, f\"{metric.capitalize()} is\", len(result))\n",
      "/home/cela/.local/programs/anaconda3/envs/msc-thesis/lib/python3.9/site-packages/sklearn/metrics/_classification.py:1531: UndefinedMetricWarning: Precision is ill-defined and being set to 0.0 in samples with no predicted labels. Use `zero_division` parameter to control this behavior.\n",
      "  _warn_prf(average, modifier, f\"{metric.capitalize()} is\", len(result))\n",
      "/home/cela/.local/programs/anaconda3/envs/msc-thesis/lib/python3.9/site-packages/sklearn/metrics/_classification.py:1531: UndefinedMetricWarning: Precision is ill-defined and being set to 0.0 in samples with no predicted labels. Use `zero_division` parameter to control this behavior.\n",
      "  _warn_prf(average, modifier, f\"{metric.capitalize()} is\", len(result))\n"
     ]
    }
   ],
   "execution_count": 29
  },
  {
   "metadata": {
    "ExecuteTime": {
     "end_time": "2025-01-28T14:51:31.181060Z",
     "start_time": "2025-01-28T14:51:03.885168Z"
    }
   },
   "cell_type": "code",
   "source": [
    "if OVERWRITE:\n",
    "    joblib.dump(mbr, 'models/evaluation_general.pkl', compress=9)\n"
   ],
   "id": "d478c48ca631614b",
   "outputs": [],
   "execution_count": 30
  },
  {
   "metadata": {
    "ExecuteTime": {
     "end_time": "2025-01-28T14:51:31.278994Z",
     "start_time": "2025-01-28T14:51:31.230345Z"
    }
   },
   "cell_type": "code",
   "source": [
    "performances = pd.DataFrame(evaluation).T\n",
    "performances\n"
   ],
   "id": "450b7af68d19a9b5",
   "outputs": [
    {
     "data": {
      "text/plain": [
       "     Accuracy Classifier  \\\n",
       "BR    0.59322        xgb   \n",
       "CLR  0.615254        xgb   \n",
       "CC   0.668362        xgb   \n",
       "LP   0.693476        xgb   \n",
       "PST  0.532133        xgb   \n",
       "CDN  0.560452        xgb   \n",
       "MBR  0.623164        xgb   \n",
       "\n",
       "                                                                                                                                                                                                                                                                                                                                                                                                                                                                                                                                                                                                                                                                                                                                                                                                                                                                                                                                                                                                                                                                                                                                                                                                                                                                                                                                                                                                                                                                                                                                                                                                                                                                                                                                                                                                                                                                                                                                                                                                                                                                                                                                                                                                                                                                                                                                                                                                                                   Model  \\\n",
       "BR                                                                                                                                                                                                                                                                                                                                                                                                                                                                                                                                                                                                                                                                                                                                  OneVsRestClassifier(estimator=XGBClassifier(base_score=None, booster=None,\\n                                            callbacks=None,\\n                                            colsample_bylevel=None,\\n                                            colsample_bynode=None,\\n                                            colsample_bytree=None, device=None,\\n                                            early_stopping_rounds=None,\\n                                            enable_categorical=False,\\n                                            eval_metric=None,\\n                                            feature_types=None, gamma=None,\\n                                            grow_policy=None,\\n                                            importance_type=None,\\n                                            interaction_constraints=None,\\n                                            learning_rate=None, max_bin=None,\\n                                            max_cat_threshold=None,\\n                                            max_cat_to_onehot=None,\\n                                            max_delta_step=None, max_depth=None,\\n                                            max_leaves=None,\\n                                            min_child_weight=None, missing=nan,\\n                                            monotone_constraints=None,\\n                                            multi_strategy=None,\\n                                            n_estimators=None, n_jobs=None,\\n                                            num_parallel_tree=None,\\n                                            random_state=42, ...))   \n",
       "CLR  CalibratedLabelRankClassifier(classes=array(['computer security', 'hardware', 'networking', 'operating systems',\\n       'other', 'software'], dtype=object),\\n                              classifier=XGBClassifier(base_score=None,\\n                                                       booster=None,\\n                                                       callbacks=None,\\n                                                       colsample_bylevel=None,\\n                                                       colsample_bynode=None,\\n                                                       colsample_bytree=None,\\n                                                       device=None,\\n                                                       early_stopping_rounds=None,\\n                                                       enable_categorical=False,\\n                                                       eval_metr...\\n                                                       grow_policy=None,\\n                                                       importance_type=None,\\n                                                       interaction_constraints=None,\\n                                                       learning_rate=None,\\n                                                       max_bin=None,\\n                                                       max_cat_threshold=None,\\n                                                       max_cat_to_onehot=None,\\n                                                       max_delta_step=None,\\n                                                       max_depth=None,\\n                                                       max_leaves=None,\\n                                                       min_child_weight=None,\\n                                                       missing=nan,\\n                                                       monotone_constraints=None,\\n                                                       multi_strategy=None,\\n                                                       n_estimators=None,\\n                                                       n_jobs=None,\\n                                                       num_parallel_tree=None,\\n                                                       random_state=42, ...),\\n                              random_state=42)   \n",
       "CC                                                                                                                                                                                                                                                                                                                                                                                                                                                                                                                                                                  ChainOfClassifiers(classes=array(['computer security', 'hardware', 'networking', 'operating systems',\\n       'other', 'software'], dtype=object),\\n                   classifier=XGBClassifier(base_score=None, booster=None,\\n                                            callbacks=None,\\n                                            colsample_bylevel=None,\\n                                            colsample_bynode=None,\\n                                            colsample_bytree=None, device=None,\\n                                            early_stopping_rounds=None,\\n                                            enable_categorical=False,\\n                                            eval_metric=None,\\n                                            fea...\\n                                            grow_policy=None,\\n                                            importance_type=None,\\n                                            interaction_constraints=None,\\n                                            learning_rate=None, max_bin=None,\\n                                            max_cat_threshold=None,\\n                                            max_cat_to_onehot=None,\\n                                            max_delta_step=None, max_depth=None,\\n                                            max_leaves=None,\\n                                            min_child_weight=None, missing=nan,\\n                                            monotone_constraints=None,\\n                                            multi_strategy=None,\\n                                            n_estimators=None, n_jobs=None,\\n                                            num_parallel_tree=None,\\n                                            random_state=42, ...),\\n                   random_state=42)   \n",
       "LP                                                                                                                                       LabelPowersetClassifier(classifier=XGBClassifier(base_score=None, booster=None,\\n                                                 callbacks=None,\\n                                                 colsample_bylevel=None,\\n                                                 colsample_bynode=None,\\n                                                 colsample_bytree=None,\\n                                                 device=None,\\n                                                 early_stopping_rounds=None,\\n                                                 enable_categorical=False,\\n                                                 eval_metric=None,\\n                                                 feature_types=None, gamma=None,\\n                                                 grow_policy=None,\\n                                                 importance_type=None,\\n                                                 interaction_constraints=None,\\n                                                 learning_rat...\\n                                   4: (0, 0, 1, 0, 0, 0), 5: (0, 0, 1, 0, 0, 1),\\n                                   6: (0, 0, 1, 1, 0, 0), 7: (0, 0, 1, 1, 0, 1),\\n                                   8: (0, 1, 0, 0, 0, 0), 9: (0, 1, 0, 0, 0, 1),\\n                                   10: (0, 1, 0, 1, 0, 0),\\n                                   11: (0, 1, 0, 1, 0, 1),\\n                                   12: (0, 1, 1, 0, 0, 0),\\n                                   13: (0, 1, 1, 0, 0, 1),\\n                                   14: (1, 0, 0, 0, 0, 0),\\n                                   15: (1, 0, 0, 0, 0, 1),\\n                                   16: (1, 0, 0, 1, 0, 0),\\n                                   17: (1, 0, 0, 1, 0, 1),\\n                                   18: (1, 0, 1, 0, 0, 0),\\n                                   19: (1, 0, 1, 0, 0, 1),\\n                                   20: (1, 0, 1, 1, 0, 0),\\n                                   21: (1, 1, 0, 0, 0, 0),\\n                                   22: (1, 1, 0, 0, 0, 1),\\n                                   23: (1, 1, 0, 1, 0, 0),\\n                                   24: (1, 1, 1, 0, 0, 0)},\\n                        random_state=42)   \n",
       "PST                                                                                                                                                                                                                                                                              LabelPowersetClassifier(classifier=XGBClassifier(base_score=None, booster=None,\\n                                                 callbacks=None,\\n                                                 colsample_bylevel=None,\\n                                                 colsample_bynode=None,\\n                                                 colsample_bytree=None,\\n                                                 device=None,\\n                                                 early_stopping_rounds=None,\\n                                                 enable_categorical=False,\\n                                                 eval_metric=None,\\n                                                 feature_types=None, gamma=None,\\n                                                 grow_policy=None,\\n                                                 importance_type=None,\\n                                                 interaction_constraints=None,\\n                                                 learning_rat...\\n                        label_map={0: (1, 0, 1, 0, 0, 1), 1: (0, 0, 0, 0, 1, 0),\\n                                   2: (0, 1, 0, 0, 0, 0), 3: (0, 0, 0, 1, 0, 0),\\n                                   4: (1, 1, 0, 0, 0, 1), 5: (1, 1, 0, 0, 0, 0),\\n                                   6: (1, 0, 0, 1, 0, 0), 7: (1, 0, 0, 0, 0, 0),\\n                                   8: (1, 0, 0, 0, 0, 1), 9: (0, 0, 0, 1, 0, 1),\\n                                   10: (0, 0, 0, 0, 0, 1),\\n                                   11: (1, 0, 1, 0, 0, 0),\\n                                   12: (0, 0, 1, 0, 0, 0),\\n                                   13: (0, 1, 0, 0, 0, 1),\\n                                   14: (0, 1, 1, 0, 0, 0),\\n                                   15: (0, 0, 1, 0, 0, 1),\\n                                   16: (1, 1, 1, 0, 0, 0),\\n                                   17: (1, 0, 0, 1, 0, 1),\\n                                   18: (0, 1, 0, 1, 0, 0),\\n                                   19: (0, 1, 0, 1, 0, 1)},\\n                        random_state=42)   \n",
       "CDN                                                                                          ConditionalDependencyNetwork(classifier=XGBClassifier(base_score=None,\\n                                                      booster=None,\\n                                                      callbacks=None,\\n                                                      colsample_bylevel=None,\\n                                                      colsample_bynode=None,\\n                                                      colsample_bytree=None,\\n                                                      device=None,\\n                                                      early_stopping_rounds=None,\\n                                                      enable_categorical=False,\\n                                                      eval_metric=None,\\n                                                      feature_types=None,\\n                                                      gamma=None,\\n                                                      grow_policy=None,\\n                                                      importance_type=None,\\n                                                      interaction_constraints=None,\\n                                                      learning_rate=None,\\n                                                      max_bin=None,\\n                                                      max_cat_threshold=None,\\n                                                      max_cat_to_onehot=None,\\n                                                      max_delta_step=None,\\n                                                      max_depth=None,\\n                                                      max_leaves=None,\\n                                                      min_child_weight=None,\\n                                                      missing=nan,\\n                                                      monotone_constraints=None,\\n                                                      multi_strategy=None,\\n                                                      n_estimators=None,\\n                                                      n_jobs=None,\\n                                                      num_parallel_tree=None,\\n                                                      random_state=42, ...))   \n",
       "MBR                                                                                                                                                                                                                                                                                                                                                                                                                                                                                                                                                                                                                                                                 MetaBinaryRelevance(classifier=XGBClassifier(base_score=None, booster=None,\\n                                             callbacks=None,\\n                                             colsample_bylevel=None,\\n                                             colsample_bynode=None,\\n                                             colsample_bytree=None, device=None,\\n                                             early_stopping_rounds=None,\\n                                             enable_categorical=False,\\n                                             eval_metric=None,\\n                                             feature_types=None, gamma=None,\\n                                             grow_policy=None,\\n                                             importance_type=None,\\n                                             interaction_constraints=None,\\n                                             learning_rate=None, max_bin=None,\\n                                             max_cat_threshold=None,\\n                                             max_cat_to_onehot=None,\\n                                             max_delta_step=None,\\n                                             max_depth=None, max_leaves=None,\\n                                             min_child_weight=None, missing=nan,\\n                                             monotone_constraints=None,\\n                                             multi_strategy=None,\\n                                             n_estimators=None, n_jobs=None,\\n                                             num_parallel_tree=None,\\n                                             random_state=42, ...),\\n                    use_cross_val=True)   \n",
       "\n",
       "    Precision example-based Recall example-based F1 example-based  \\\n",
       "BR                 0.742844             0.703766         0.710414   \n",
       "CLR                0.767363             0.749341         0.744641   \n",
       "CC                 0.816902             0.790678         0.789699   \n",
       "LP                 0.810086             0.782902         0.785883   \n",
       "PST                0.715582             0.680993         0.681771   \n",
       "CDN                0.707957             0.681827         0.681601   \n",
       "MBR                0.767608             0.740772           0.7412   \n",
       "\n",
       "    Hamming loss Micro precision Micro recall  Micro F1 Macro precision  \\\n",
       "BR      0.099718        0.860736     0.708589  0.777287         0.88861   \n",
       "CLR     0.095292        0.843078     0.751917  0.794893        0.848015   \n",
       "CC      0.094539        0.826282     0.778758  0.801816        0.825839   \n",
       "LP      0.094488        0.828466     0.773129  0.799841        0.851387   \n",
       "PST     0.138559        0.730488     0.676263   0.70233        0.707463   \n",
       "CDN     0.136347         0.73751     0.690567  0.713267        0.729757   \n",
       "MBR     0.092938        0.858787     0.743865  0.797206         0.86605   \n",
       "\n",
       "    Macro recall  Macro F1  Coverage  \\\n",
       "BR       0.61961  0.715834  3.129379   \n",
       "CLR     0.674025   0.74303  2.934463   \n",
       "CC      0.704932  0.750153  2.716384   \n",
       "LP       0.71253  0.764076  2.676603   \n",
       "PST     0.614256  0.645762  3.292264   \n",
       "CDN     0.609992  0.653994  3.246328   \n",
       "MBR     0.675409  0.750002  2.951412   \n",
       "\n",
       "                                                                                                                                                                                                                                                                                                                                                                                                                                                                                                                                                                                                                                                                               Classification  \n",
       "BR                      precision    recall  f1-score   support\\n\\ncomputer security       0.85      0.87      0.86       931\\n         hardware       0.87      0.50      0.63       355\\n       networking       0.95      0.42      0.58       146\\noperating systems       0.92      0.60      0.73       171\\n            other       0.90      0.56      0.69       361\\n         software       0.84      0.78      0.81       644\\n\\n        micro avg       0.86      0.71      0.78      2608\\n        macro avg       0.89      0.62      0.72      2608\\n     weighted avg       0.87      0.71      0.77      2608\\n      samples avg       0.74      0.70      0.71      2608\\n  \n",
       "CLR                     precision    recall  f1-score   support\\n\\ncomputer security       0.86      0.88      0.87       931\\n         hardware       0.82      0.57      0.67       355\\n       networking       0.85      0.47      0.61       146\\noperating systems       0.87      0.65      0.74       171\\n            other       0.87      0.66      0.75       361\\n         software       0.81      0.81      0.81       644\\n\\n        micro avg       0.84      0.75      0.79      2608\\n        macro avg       0.85      0.67      0.74      2608\\n     weighted avg       0.84      0.75      0.79      2608\\n      samples avg       0.77      0.75      0.74      2608\\n  \n",
       "CC                      precision    recall  f1-score   support\\n\\ncomputer security       0.86      0.89      0.87       931\\n         hardware       0.81      0.56      0.66       355\\n       networking       0.85      0.49      0.62       146\\noperating systems       0.87      0.65      0.74       171\\n            other       0.74      0.83      0.78       361\\n         software       0.83      0.81      0.82       644\\n\\n        micro avg       0.83      0.78      0.80      2608\\n        macro avg       0.83      0.70      0.75      2608\\n     weighted avg       0.83      0.78      0.80      2608\\n      samples avg       0.82      0.79      0.79      2608\\n  \n",
       "LP                      precision    recall  f1-score   support\\n\\ncomputer security       0.84      0.90      0.87       930\\n         hardware       0.90      0.54      0.68       355\\n       networking       0.88      0.58      0.69       146\\noperating systems       0.95      0.68      0.79       170\\n            other       0.69      0.82      0.75       361\\n         software       0.85      0.76      0.81       643\\n\\n        micro avg       0.83      0.77      0.80      2605\\n        macro avg       0.85      0.71      0.76      2605\\n     weighted avg       0.84      0.77      0.80      2605\\n      samples avg       0.81      0.78      0.79      2605\\n  \n",
       "PST                     precision    recall  f1-score   support\\n\\ncomputer security       0.78      0.86      0.82      1094\\n         hardware       0.62      0.55      0.58       615\\n       networking       0.56      0.46      0.51       333\\noperating systems       0.76      0.34      0.47       342\\n            other       0.74      0.76      0.75       361\\n         software       0.78      0.72      0.75       798\\n\\n        micro avg       0.73      0.68      0.70      3543\\n        macro avg       0.71      0.61      0.65      3543\\n     weighted avg       0.73      0.68      0.69      3543\\n      samples avg       0.72      0.68      0.68      3543\\n  \n",
       "CDN                     precision    recall  f1-score   support\\n\\ncomputer security       0.79      0.80      0.79       931\\n         hardware       0.71      0.50      0.59       355\\n       networking       0.73      0.40      0.52       146\\noperating systems       0.82      0.57      0.67       171\\n            other       0.53      0.62      0.57       361\\n         software       0.80      0.78      0.79       644\\n\\n        micro avg       0.74      0.69      0.71      2608\\n        macro avg       0.73      0.61      0.65      2608\\n     weighted avg       0.74      0.69      0.71      2608\\n      samples avg       0.71      0.68      0.68      2608\\n  \n",
       "MBR                     precision    recall  f1-score   support\\n\\ncomputer security       0.86      0.85      0.86       931\\n         hardware       0.83      0.55      0.66       355\\n       networking       0.90      0.45      0.60       146\\noperating systems       0.88      0.71      0.79       171\\n            other       0.86      0.69      0.77       361\\n         software       0.85      0.80      0.82       644\\n\\n        micro avg       0.86      0.74      0.80      2608\\n        macro avg       0.87      0.68      0.75      2608\\n     weighted avg       0.86      0.74      0.79      2608\\n      samples avg       0.77      0.74      0.74      2608\\n  "
      ],
      "text/html": [
       "<div>\n",
       "<style scoped>\n",
       "    .dataframe tbody tr th:only-of-type {\n",
       "        vertical-align: middle;\n",
       "    }\n",
       "\n",
       "    .dataframe tbody tr th {\n",
       "        vertical-align: top;\n",
       "    }\n",
       "\n",
       "    .dataframe thead th {\n",
       "        text-align: right;\n",
       "    }\n",
       "</style>\n",
       "<table border=\"1\" class=\"dataframe\">\n",
       "  <thead>\n",
       "    <tr style=\"text-align: right;\">\n",
       "      <th></th>\n",
       "      <th>Accuracy</th>\n",
       "      <th>Classifier</th>\n",
       "      <th>Model</th>\n",
       "      <th>Precision example-based</th>\n",
       "      <th>Recall example-based</th>\n",
       "      <th>F1 example-based</th>\n",
       "      <th>Hamming loss</th>\n",
       "      <th>Micro precision</th>\n",
       "      <th>Micro recall</th>\n",
       "      <th>Micro F1</th>\n",
       "      <th>Macro precision</th>\n",
       "      <th>Macro recall</th>\n",
       "      <th>Macro F1</th>\n",
       "      <th>Coverage</th>\n",
       "      <th>Classification</th>\n",
       "    </tr>\n",
       "  </thead>\n",
       "  <tbody>\n",
       "    <tr>\n",
       "      <th>BR</th>\n",
       "      <td>0.59322</td>\n",
       "      <td>xgb</td>\n",
       "      <td>OneVsRestClassifier(estimator=XGBClassifier(base_score=None, booster=None,\\n                                            callbacks=None,\\n                                            colsample_bylevel=None,\\n                                            colsample_bynode=None,\\n                                            colsample_bytree=None, device=None,\\n                                            early_stopping_rounds=None,\\n                                            enable_categorical=False,\\n                                            eval_metric=None,\\n                                            feature_types=None, gamma=None,\\n                                            grow_policy=None,\\n                                            importance_type=None,\\n                                            interaction_constraints=None,\\n                                            learning_rate=None, max_bin=None,\\n                                            max_cat_threshold=None,\\n                                            max_cat_to_onehot=None,\\n                                            max_delta_step=None, max_depth=None,\\n                                            max_leaves=None,\\n                                            min_child_weight=None, missing=nan,\\n                                            monotone_constraints=None,\\n                                            multi_strategy=None,\\n                                            n_estimators=None, n_jobs=None,\\n                                            num_parallel_tree=None,\\n                                            random_state=42, ...))</td>\n",
       "      <td>0.742844</td>\n",
       "      <td>0.703766</td>\n",
       "      <td>0.710414</td>\n",
       "      <td>0.099718</td>\n",
       "      <td>0.860736</td>\n",
       "      <td>0.708589</td>\n",
       "      <td>0.777287</td>\n",
       "      <td>0.88861</td>\n",
       "      <td>0.61961</td>\n",
       "      <td>0.715834</td>\n",
       "      <td>3.129379</td>\n",
       "      <td>precision    recall  f1-score   support\\n\\ncomputer security       0.85      0.87      0.86       931\\n         hardware       0.87      0.50      0.63       355\\n       networking       0.95      0.42      0.58       146\\noperating systems       0.92      0.60      0.73       171\\n            other       0.90      0.56      0.69       361\\n         software       0.84      0.78      0.81       644\\n\\n        micro avg       0.86      0.71      0.78      2608\\n        macro avg       0.89      0.62      0.72      2608\\n     weighted avg       0.87      0.71      0.77      2608\\n      samples avg       0.74      0.70      0.71      2608\\n</td>\n",
       "    </tr>\n",
       "    <tr>\n",
       "      <th>CLR</th>\n",
       "      <td>0.615254</td>\n",
       "      <td>xgb</td>\n",
       "      <td>CalibratedLabelRankClassifier(classes=array(['computer security', 'hardware', 'networking', 'operating systems',\\n       'other', 'software'], dtype=object),\\n                              classifier=XGBClassifier(base_score=None,\\n                                                       booster=None,\\n                                                       callbacks=None,\\n                                                       colsample_bylevel=None,\\n                                                       colsample_bynode=None,\\n                                                       colsample_bytree=None,\\n                                                       device=None,\\n                                                       early_stopping_rounds=None,\\n                                                       enable_categorical=False,\\n                                                       eval_metr...\\n                                                       grow_policy=None,\\n                                                       importance_type=None,\\n                                                       interaction_constraints=None,\\n                                                       learning_rate=None,\\n                                                       max_bin=None,\\n                                                       max_cat_threshold=None,\\n                                                       max_cat_to_onehot=None,\\n                                                       max_delta_step=None,\\n                                                       max_depth=None,\\n                                                       max_leaves=None,\\n                                                       min_child_weight=None,\\n                                                       missing=nan,\\n                                                       monotone_constraints=None,\\n                                                       multi_strategy=None,\\n                                                       n_estimators=None,\\n                                                       n_jobs=None,\\n                                                       num_parallel_tree=None,\\n                                                       random_state=42, ...),\\n                              random_state=42)</td>\n",
       "      <td>0.767363</td>\n",
       "      <td>0.749341</td>\n",
       "      <td>0.744641</td>\n",
       "      <td>0.095292</td>\n",
       "      <td>0.843078</td>\n",
       "      <td>0.751917</td>\n",
       "      <td>0.794893</td>\n",
       "      <td>0.848015</td>\n",
       "      <td>0.674025</td>\n",
       "      <td>0.74303</td>\n",
       "      <td>2.934463</td>\n",
       "      <td>precision    recall  f1-score   support\\n\\ncomputer security       0.86      0.88      0.87       931\\n         hardware       0.82      0.57      0.67       355\\n       networking       0.85      0.47      0.61       146\\noperating systems       0.87      0.65      0.74       171\\n            other       0.87      0.66      0.75       361\\n         software       0.81      0.81      0.81       644\\n\\n        micro avg       0.84      0.75      0.79      2608\\n        macro avg       0.85      0.67      0.74      2608\\n     weighted avg       0.84      0.75      0.79      2608\\n      samples avg       0.77      0.75      0.74      2608\\n</td>\n",
       "    </tr>\n",
       "    <tr>\n",
       "      <th>CC</th>\n",
       "      <td>0.668362</td>\n",
       "      <td>xgb</td>\n",
       "      <td>ChainOfClassifiers(classes=array(['computer security', 'hardware', 'networking', 'operating systems',\\n       'other', 'software'], dtype=object),\\n                   classifier=XGBClassifier(base_score=None, booster=None,\\n                                            callbacks=None,\\n                                            colsample_bylevel=None,\\n                                            colsample_bynode=None,\\n                                            colsample_bytree=None, device=None,\\n                                            early_stopping_rounds=None,\\n                                            enable_categorical=False,\\n                                            eval_metric=None,\\n                                            fea...\\n                                            grow_policy=None,\\n                                            importance_type=None,\\n                                            interaction_constraints=None,\\n                                            learning_rate=None, max_bin=None,\\n                                            max_cat_threshold=None,\\n                                            max_cat_to_onehot=None,\\n                                            max_delta_step=None, max_depth=None,\\n                                            max_leaves=None,\\n                                            min_child_weight=None, missing=nan,\\n                                            monotone_constraints=None,\\n                                            multi_strategy=None,\\n                                            n_estimators=None, n_jobs=None,\\n                                            num_parallel_tree=None,\\n                                            random_state=42, ...),\\n                   random_state=42)</td>\n",
       "      <td>0.816902</td>\n",
       "      <td>0.790678</td>\n",
       "      <td>0.789699</td>\n",
       "      <td>0.094539</td>\n",
       "      <td>0.826282</td>\n",
       "      <td>0.778758</td>\n",
       "      <td>0.801816</td>\n",
       "      <td>0.825839</td>\n",
       "      <td>0.704932</td>\n",
       "      <td>0.750153</td>\n",
       "      <td>2.716384</td>\n",
       "      <td>precision    recall  f1-score   support\\n\\ncomputer security       0.86      0.89      0.87       931\\n         hardware       0.81      0.56      0.66       355\\n       networking       0.85      0.49      0.62       146\\noperating systems       0.87      0.65      0.74       171\\n            other       0.74      0.83      0.78       361\\n         software       0.83      0.81      0.82       644\\n\\n        micro avg       0.83      0.78      0.80      2608\\n        macro avg       0.83      0.70      0.75      2608\\n     weighted avg       0.83      0.78      0.80      2608\\n      samples avg       0.82      0.79      0.79      2608\\n</td>\n",
       "    </tr>\n",
       "    <tr>\n",
       "      <th>LP</th>\n",
       "      <td>0.693476</td>\n",
       "      <td>xgb</td>\n",
       "      <td>LabelPowersetClassifier(classifier=XGBClassifier(base_score=None, booster=None,\\n                                                 callbacks=None,\\n                                                 colsample_bylevel=None,\\n                                                 colsample_bynode=None,\\n                                                 colsample_bytree=None,\\n                                                 device=None,\\n                                                 early_stopping_rounds=None,\\n                                                 enable_categorical=False,\\n                                                 eval_metric=None,\\n                                                 feature_types=None, gamma=None,\\n                                                 grow_policy=None,\\n                                                 importance_type=None,\\n                                                 interaction_constraints=None,\\n                                                 learning_rat...\\n                                   4: (0, 0, 1, 0, 0, 0), 5: (0, 0, 1, 0, 0, 1),\\n                                   6: (0, 0, 1, 1, 0, 0), 7: (0, 0, 1, 1, 0, 1),\\n                                   8: (0, 1, 0, 0, 0, 0), 9: (0, 1, 0, 0, 0, 1),\\n                                   10: (0, 1, 0, 1, 0, 0),\\n                                   11: (0, 1, 0, 1, 0, 1),\\n                                   12: (0, 1, 1, 0, 0, 0),\\n                                   13: (0, 1, 1, 0, 0, 1),\\n                                   14: (1, 0, 0, 0, 0, 0),\\n                                   15: (1, 0, 0, 0, 0, 1),\\n                                   16: (1, 0, 0, 1, 0, 0),\\n                                   17: (1, 0, 0, 1, 0, 1),\\n                                   18: (1, 0, 1, 0, 0, 0),\\n                                   19: (1, 0, 1, 0, 0, 1),\\n                                   20: (1, 0, 1, 1, 0, 0),\\n                                   21: (1, 1, 0, 0, 0, 0),\\n                                   22: (1, 1, 0, 0, 0, 1),\\n                                   23: (1, 1, 0, 1, 0, 0),\\n                                   24: (1, 1, 1, 0, 0, 0)},\\n                        random_state=42)</td>\n",
       "      <td>0.810086</td>\n",
       "      <td>0.782902</td>\n",
       "      <td>0.785883</td>\n",
       "      <td>0.094488</td>\n",
       "      <td>0.828466</td>\n",
       "      <td>0.773129</td>\n",
       "      <td>0.799841</td>\n",
       "      <td>0.851387</td>\n",
       "      <td>0.71253</td>\n",
       "      <td>0.764076</td>\n",
       "      <td>2.676603</td>\n",
       "      <td>precision    recall  f1-score   support\\n\\ncomputer security       0.84      0.90      0.87       930\\n         hardware       0.90      0.54      0.68       355\\n       networking       0.88      0.58      0.69       146\\noperating systems       0.95      0.68      0.79       170\\n            other       0.69      0.82      0.75       361\\n         software       0.85      0.76      0.81       643\\n\\n        micro avg       0.83      0.77      0.80      2605\\n        macro avg       0.85      0.71      0.76      2605\\n     weighted avg       0.84      0.77      0.80      2605\\n      samples avg       0.81      0.78      0.79      2605\\n</td>\n",
       "    </tr>\n",
       "    <tr>\n",
       "      <th>PST</th>\n",
       "      <td>0.532133</td>\n",
       "      <td>xgb</td>\n",
       "      <td>LabelPowersetClassifier(classifier=XGBClassifier(base_score=None, booster=None,\\n                                                 callbacks=None,\\n                                                 colsample_bylevel=None,\\n                                                 colsample_bynode=None,\\n                                                 colsample_bytree=None,\\n                                                 device=None,\\n                                                 early_stopping_rounds=None,\\n                                                 enable_categorical=False,\\n                                                 eval_metric=None,\\n                                                 feature_types=None, gamma=None,\\n                                                 grow_policy=None,\\n                                                 importance_type=None,\\n                                                 interaction_constraints=None,\\n                                                 learning_rat...\\n                        label_map={0: (1, 0, 1, 0, 0, 1), 1: (0, 0, 0, 0, 1, 0),\\n                                   2: (0, 1, 0, 0, 0, 0), 3: (0, 0, 0, 1, 0, 0),\\n                                   4: (1, 1, 0, 0, 0, 1), 5: (1, 1, 0, 0, 0, 0),\\n                                   6: (1, 0, 0, 1, 0, 0), 7: (1, 0, 0, 0, 0, 0),\\n                                   8: (1, 0, 0, 0, 0, 1), 9: (0, 0, 0, 1, 0, 1),\\n                                   10: (0, 0, 0, 0, 0, 1),\\n                                   11: (1, 0, 1, 0, 0, 0),\\n                                   12: (0, 0, 1, 0, 0, 0),\\n                                   13: (0, 1, 0, 0, 0, 1),\\n                                   14: (0, 1, 1, 0, 0, 0),\\n                                   15: (0, 0, 1, 0, 0, 1),\\n                                   16: (1, 1, 1, 0, 0, 0),\\n                                   17: (1, 0, 0, 1, 0, 1),\\n                                   18: (0, 1, 0, 1, 0, 0),\\n                                   19: (0, 1, 0, 1, 0, 1)},\\n                        random_state=42)</td>\n",
       "      <td>0.715582</td>\n",
       "      <td>0.680993</td>\n",
       "      <td>0.681771</td>\n",
       "      <td>0.138559</td>\n",
       "      <td>0.730488</td>\n",
       "      <td>0.676263</td>\n",
       "      <td>0.70233</td>\n",
       "      <td>0.707463</td>\n",
       "      <td>0.614256</td>\n",
       "      <td>0.645762</td>\n",
       "      <td>3.292264</td>\n",
       "      <td>precision    recall  f1-score   support\\n\\ncomputer security       0.78      0.86      0.82      1094\\n         hardware       0.62      0.55      0.58       615\\n       networking       0.56      0.46      0.51       333\\noperating systems       0.76      0.34      0.47       342\\n            other       0.74      0.76      0.75       361\\n         software       0.78      0.72      0.75       798\\n\\n        micro avg       0.73      0.68      0.70      3543\\n        macro avg       0.71      0.61      0.65      3543\\n     weighted avg       0.73      0.68      0.69      3543\\n      samples avg       0.72      0.68      0.68      3543\\n</td>\n",
       "    </tr>\n",
       "    <tr>\n",
       "      <th>CDN</th>\n",
       "      <td>0.560452</td>\n",
       "      <td>xgb</td>\n",
       "      <td>ConditionalDependencyNetwork(classifier=XGBClassifier(base_score=None,\\n                                                      booster=None,\\n                                                      callbacks=None,\\n                                                      colsample_bylevel=None,\\n                                                      colsample_bynode=None,\\n                                                      colsample_bytree=None,\\n                                                      device=None,\\n                                                      early_stopping_rounds=None,\\n                                                      enable_categorical=False,\\n                                                      eval_metric=None,\\n                                                      feature_types=None,\\n                                                      gamma=None,\\n                                                      grow_policy=None,\\n                                                      importance_type=None,\\n                                                      interaction_constraints=None,\\n                                                      learning_rate=None,\\n                                                      max_bin=None,\\n                                                      max_cat_threshold=None,\\n                                                      max_cat_to_onehot=None,\\n                                                      max_delta_step=None,\\n                                                      max_depth=None,\\n                                                      max_leaves=None,\\n                                                      min_child_weight=None,\\n                                                      missing=nan,\\n                                                      monotone_constraints=None,\\n                                                      multi_strategy=None,\\n                                                      n_estimators=None,\\n                                                      n_jobs=None,\\n                                                      num_parallel_tree=None,\\n                                                      random_state=42, ...))</td>\n",
       "      <td>0.707957</td>\n",
       "      <td>0.681827</td>\n",
       "      <td>0.681601</td>\n",
       "      <td>0.136347</td>\n",
       "      <td>0.73751</td>\n",
       "      <td>0.690567</td>\n",
       "      <td>0.713267</td>\n",
       "      <td>0.729757</td>\n",
       "      <td>0.609992</td>\n",
       "      <td>0.653994</td>\n",
       "      <td>3.246328</td>\n",
       "      <td>precision    recall  f1-score   support\\n\\ncomputer security       0.79      0.80      0.79       931\\n         hardware       0.71      0.50      0.59       355\\n       networking       0.73      0.40      0.52       146\\noperating systems       0.82      0.57      0.67       171\\n            other       0.53      0.62      0.57       361\\n         software       0.80      0.78      0.79       644\\n\\n        micro avg       0.74      0.69      0.71      2608\\n        macro avg       0.73      0.61      0.65      2608\\n     weighted avg       0.74      0.69      0.71      2608\\n      samples avg       0.71      0.68      0.68      2608\\n</td>\n",
       "    </tr>\n",
       "    <tr>\n",
       "      <th>MBR</th>\n",
       "      <td>0.623164</td>\n",
       "      <td>xgb</td>\n",
       "      <td>MetaBinaryRelevance(classifier=XGBClassifier(base_score=None, booster=None,\\n                                             callbacks=None,\\n                                             colsample_bylevel=None,\\n                                             colsample_bynode=None,\\n                                             colsample_bytree=None, device=None,\\n                                             early_stopping_rounds=None,\\n                                             enable_categorical=False,\\n                                             eval_metric=None,\\n                                             feature_types=None, gamma=None,\\n                                             grow_policy=None,\\n                                             importance_type=None,\\n                                             interaction_constraints=None,\\n                                             learning_rate=None, max_bin=None,\\n                                             max_cat_threshold=None,\\n                                             max_cat_to_onehot=None,\\n                                             max_delta_step=None,\\n                                             max_depth=None, max_leaves=None,\\n                                             min_child_weight=None, missing=nan,\\n                                             monotone_constraints=None,\\n                                             multi_strategy=None,\\n                                             n_estimators=None, n_jobs=None,\\n                                             num_parallel_tree=None,\\n                                             random_state=42, ...),\\n                    use_cross_val=True)</td>\n",
       "      <td>0.767608</td>\n",
       "      <td>0.740772</td>\n",
       "      <td>0.7412</td>\n",
       "      <td>0.092938</td>\n",
       "      <td>0.858787</td>\n",
       "      <td>0.743865</td>\n",
       "      <td>0.797206</td>\n",
       "      <td>0.86605</td>\n",
       "      <td>0.675409</td>\n",
       "      <td>0.750002</td>\n",
       "      <td>2.951412</td>\n",
       "      <td>precision    recall  f1-score   support\\n\\ncomputer security       0.86      0.85      0.86       931\\n         hardware       0.83      0.55      0.66       355\\n       networking       0.90      0.45      0.60       146\\noperating systems       0.88      0.71      0.79       171\\n            other       0.86      0.69      0.77       361\\n         software       0.85      0.80      0.82       644\\n\\n        micro avg       0.86      0.74      0.80      2608\\n        macro avg       0.87      0.68      0.75      2608\\n     weighted avg       0.86      0.74      0.79      2608\\n      samples avg       0.77      0.74      0.74      2608\\n</td>\n",
       "    </tr>\n",
       "  </tbody>\n",
       "</table>\n",
       "</div>"
      ]
     },
     "execution_count": 31,
     "metadata": {},
     "output_type": "execute_result"
    }
   ],
   "execution_count": 31
  },
  {
   "metadata": {
    "ExecuteTime": {
     "end_time": "2025-01-28T14:58:02.663648Z",
     "start_time": "2025-01-28T14:58:02.606884Z"
    }
   },
   "cell_type": "code",
   "source": [
    "best_general_classifier_name = max(evaluation, key=lambda t: evaluation[t]['Accuracy'])\n",
    "best_general_classifier = evaluation[best_general_classifier_name]\n",
    "y_val_hat = best_general_classifier['Model'].predict(X_val_lp)\n",
    "if best_general_classifier_name == 'LP':\n",
    "    y_true = np.array([list(label_map_lp[yp]) for yp in y_val_lp])\n",
    "elif best_general_classifier_name == 'PST':\n",
    "    y_true = np.array([list(label_map_pst[yp]) for yp in y_val_pst])\n",
    "else:\n",
    "    y_true = y_val\n",
    "\n",
    "print(f\"\\nBest Method:\\t{best_general_classifier_name}\\n\")\n",
    "print(classification_report(\n",
    "    y_true=np.array([list(label_map_lp[yp]) for yp in y_val_lp]),\n",
    "    y_pred=y_val_hat,\n",
    "    target_names=mlb.classes_,\n",
    "    zero_division=0\n",
    "))\n",
    "\n",
    "print(f\"Accuracy:\\t{accuracy_score(y_true=y_true, y_pred=y_val_hat):.4f}\")\n",
    "print(f\"AUC:\\t{roc_auc_score(y_true=y_true, y_score=y_val_hat):.4f}\")\n"
   ],
   "id": "411837f42eb96c63",
   "outputs": [
    {
     "name": "stdout",
     "output_type": "stream",
     "text": [
      "\n",
      "Best Method:\tLP\n",
      "\n",
      "                   precision    recall  f1-score   support\n",
      "\n",
      "computer security       0.84      0.90      0.87       930\n",
      "         hardware       0.90      0.54      0.68       355\n",
      "       networking       0.88      0.58      0.69       146\n",
      "operating systems       0.95      0.68      0.79       170\n",
      "            other       0.69      0.82      0.75       361\n",
      "         software       0.85      0.76      0.81       643\n",
      "\n",
      "        micro avg       0.83      0.77      0.80      2605\n",
      "        macro avg       0.85      0.71      0.76      2605\n",
      "     weighted avg       0.84      0.77      0.80      2605\n",
      "      samples avg       0.81      0.78      0.79      2605\n",
      "\n",
      "Accuracy:\t0.6935\n",
      "AUC:\t0.8243\n"
     ]
    }
   ],
   "execution_count": 45
  }
 ],
 "metadata": {
  "kaggle": {
   "accelerator": "none",
   "dataSources": [
    {
     "datasetId": 870709,
     "sourceId": 1483651,
     "sourceType": "datasetVersion"
    },
    {
     "datasetId": 4678553,
     "sourceId": 7954760,
     "sourceType": "datasetVersion"
    }
   ],
   "dockerImageVersionId": 30804,
   "isGpuEnabled": false,
   "isInternetEnabled": true,
   "language": "python",
   "sourceType": "notebook"
  },
  "kernelspec": {
   "display_name": "Python 3",
   "language": "python",
   "name": "python3"
  },
  "language_info": {
   "codemirror_mode": {
    "name": "ipython",
    "version": 3
   },
   "file_extension": ".py",
   "mimetype": "text/x-python",
   "name": "python",
   "nbconvert_exporter": "python",
   "pygments_lexer": "ipython3",
   "version": "3.10.14"
  },
  "papermill": {
   "default_parameters": {},
   "duration": 5394.913296,
   "end_time": "2024-12-12T17:56:06.436689",
   "environment_variables": {},
   "exception": null,
   "input_path": "__notebook__.ipynb",
   "output_path": "__notebook__.ipynb",
   "parameters": {},
   "start_time": "2024-12-12T16:26:11.523393",
   "version": "2.6.0"
  }
 },
 "nbformat": 4,
 "nbformat_minor": 5
}
