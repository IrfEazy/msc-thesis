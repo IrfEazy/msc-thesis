{
 "cells": [
  {
   "cell_type": "markdown",
   "id": "e47e11e2",
   "metadata": {
    "papermill": {
     "duration": 0.007277,
     "end_time": "2024-12-12T16:26:14.553663",
     "exception": false,
     "start_time": "2024-12-12T16:26:14.546386",
     "status": "completed"
    },
    "tags": []
   },
   "source": [
    "# Multi-Class Classification with Machine Learning\n",
    "In this notebook, we will explore various machine learning models to solve a multi-class classification problem. We will evaluate and compare the performance of different algorithms on the dataset.\n"
   ]
  },
  {
   "cell_type": "code",
   "execution_count": 1,
   "id": "3725615c",
   "metadata": {
    "execution": {
     "iopub.execute_input": "2024-12-12T16:26:14.569199Z",
     "iopub.status.busy": "2024-12-12T16:26:14.568776Z",
     "iopub.status.idle": "2024-12-12T16:26:17.993533Z",
     "shell.execute_reply": "2024-12-12T16:26:17.992503Z"
    },
    "papermill": {
     "duration": 3.435545,
     "end_time": "2024-12-12T16:26:17.996431",
     "exception": false,
     "start_time": "2024-12-12T16:26:14.560886",
     "status": "completed"
    },
    "tags": []
   },
   "outputs": [],
   "source": [
    "import ast\n",
    "import json\n",
    "import os\n",
    "import re\n",
    "import string\n",
    "from collections import defaultdict\n",
    "from pathlib import Path\n",
    "from typing import Union, Any\n",
    "\n",
    "import numpy\n",
    "import pandas\n",
    "import scipy.stats as stats\n",
    "from bayes_opt import BayesianOptimization\n",
    "from numpy import asarray\n",
    "from sklearn.ensemble import RandomForestClassifier\n",
    "from sklearn.linear_model import LogisticRegression\n",
    "from sklearn.metrics import accuracy_score, f1_score, classification_report, multilabel_confusion_matrix\n",
    "from sklearn.model_selection import train_test_split, RandomizedSearchCV, cross_val_score\n",
    "from sklearn.multiclass import OneVsRestClassifier\n",
    "from sklearn.naive_bayes import GaussianNB\n",
    "from sklearn.preprocessing import MultiLabelBinarizer\n",
    "from sklearn.svm import SVC\n",
    "from sklearn.tree import DecisionTreeClassifier\n",
    "from xgboost import XGBClassifier\n"
   ]
  },
  {
   "cell_type": "code",
   "execution_count": 2,
   "id": "8074f464",
   "metadata": {
    "execution": {
     "iopub.execute_input": "2024-12-12T16:26:18.012827Z",
     "iopub.status.busy": "2024-12-12T16:26:18.012308Z",
     "iopub.status.idle": "2024-12-12T16:26:18.020759Z",
     "shell.execute_reply": "2024-12-12T16:26:18.019690Z"
    },
    "papermill": {
     "duration": 0.019672,
     "end_time": "2024-12-12T16:26:18.022881",
     "exception": false,
     "start_time": "2024-12-12T16:26:18.003209",
     "status": "completed"
    },
    "tags": []
   },
   "outputs": [],
   "source": [
    "RANDOM_STATE = 42\n",
    "TEST_SIZE = 2e-1\n",
    "KAGGLE_PATH = Path('/kaggle/input')\n",
    "\n",
    "if os.environ.get('KAGGLE_URL_BASE',''):\n",
    "    DATA_PATH = KAGGLE_PATH\n",
    "    MODELS_PATH = KAGGLE_PATH\n",
    "else:\n",
    "    DATA_PATH = Path('./data')\n",
    "    MODELS_PATH = Path('./models')\n",
    "\n",
    "GLOVE_6B_PATH = MODELS_PATH / Path('glove-embeddings')\n",
    "THREAT_TWEETS_PATH = DATA_PATH / Path('tweets-dataset-for-cyberattack-detection')\n",
    "\n",
    "GLOVE_6B_300D_TXT = GLOVE_6B_PATH / Path('glove.6B.300d.txt')\n",
    "THREAT_TWEETS_CSV = THREAT_TWEETS_PATH / Path('tweets_final.csv')\n"
   ]
  },
  {
   "cell_type": "markdown",
   "id": "bdc6f084",
   "metadata": {
    "papermill": {
     "duration": 0.006366,
     "end_time": "2024-12-12T16:26:18.035783",
     "exception": false,
     "start_time": "2024-12-12T16:26:18.029417",
     "status": "completed"
    },
    "tags": []
   },
   "source": [
    "## Table of Contents\n",
    "1. [Introduction](#Introduction)\n",
    "2. [Data Loading & Preprocessing](#Data-Loading-&-Preprocessing)\n",
    "3. [Exploratory Data Analysis (EDA)](#Exploratory-Data-Analysis-(EDA))\n",
    "4. [Model Training](#Model-Training)\n",
    "    1. [Logistic Regression](#Logistic-Regression)\n",
    "    2. [Random Forest Classifier](#Random-Forest-Classifier)\n",
    "    3. [Support Vector Machine (SVM)](#Support-Vector-Machine-(SVM))\n",
    "    4. [K-Nearest Neighbors (KNN)](#K-Nearest-Neighbors-(KNN))\n",
    "    5. [XGBoost Classifier](#XGBoost-Classifier)\n",
    "5. [Model Evaluation](#Model-Evaluation)\n",
    "    1. [Accuracy](#Accuracy)\n",
    "    2. [Confusion Matrix](#Confusion-Matrix)\n",
    "    3. [Classification Report](#Classification-Report)\n",
    "6. [Conclusion](#Conclusion)\n"
   ]
  },
  {
   "cell_type": "markdown",
   "id": "02878d64",
   "metadata": {
    "papermill": {
     "duration": 0.006302,
     "end_time": "2024-12-12T16:26:18.048634",
     "exception": false,
     "start_time": "2024-12-12T16:26:18.042332",
     "status": "completed"
    },
    "tags": []
   },
   "source": [
    "## 1. Introduction\n",
    "\n",
    "In this notebook, we are going to solve a multi-class classification problem using different machine learning models. Our goal is to predict the class of each sample based on the input features.\n"
   ]
  },
  {
   "cell_type": "markdown",
   "id": "bc09f879",
   "metadata": {
    "papermill": {
     "duration": 0.006199,
     "end_time": "2024-12-12T16:26:18.061625",
     "exception": false,
     "start_time": "2024-12-12T16:26:18.055426",
     "status": "completed"
    },
    "tags": []
   },
   "source": [
    "## 2. Data Loading & Preprocessing\n",
    "We will load the dataset, inspect its structure, and preprocess it for machine learning models.\n"
   ]
  },
  {
   "cell_type": "code",
   "execution_count": 3,
   "id": "d23eaf3e",
   "metadata": {
    "execution": {
     "iopub.execute_input": "2024-12-12T16:26:18.076943Z",
     "iopub.status.busy": "2024-12-12T16:26:18.076510Z",
     "iopub.status.idle": "2024-12-12T16:26:18.088617Z",
     "shell.execute_reply": "2024-12-12T16:26:18.087469Z"
    },
    "papermill": {
     "duration": 0.022664,
     "end_time": "2024-12-12T16:26:18.091000",
     "exception": false,
     "start_time": "2024-12-12T16:26:18.068336",
     "status": "completed"
    },
    "tags": []
   },
   "outputs": [],
   "source": [
    "def extract_keys(d, path=None):\n",
    "    \"\"\"\n",
    "    Define a recursive function to extract keys\n",
    "\n",
    "    Parameters\n",
    "    ----------\n",
    "    d\n",
    "    path\n",
    "\n",
    "    Returns\n",
    "    -------\n",
    "\n",
    "    \"\"\"\n",
    "    if path is None:\n",
    "        path = []\n",
    "\n",
    "    if isinstance(d, dict):\n",
    "        for key, value in d.items():\n",
    "            path = extract_keys(value, path + [key])\n",
    "    else:\n",
    "        path = [d]\n",
    "\n",
    "    return path\n",
    "\n",
    "\n",
    "def process_row(row):\n",
    "    \"\"\"\n",
    "    Function to convert string to dict and extract keys\n",
    "\n",
    "    Parameters\n",
    "    ----------\n",
    "    row\n",
    "\n",
    "    Returns\n",
    "    -------\n",
    "\n",
    "    \"\"\"\n",
    "    # Extract keys by traversing the dictionary\n",
    "    return extract_keys(row)\n",
    "\n",
    "\n",
    "def build_tree(categories):\n",
    "    \"\"\"\n",
    "    Function to build a tree-like structure (nested dictionary)\n",
    "\n",
    "    Parameters\n",
    "    ----------\n",
    "    categories\n",
    "\n",
    "    Returns\n",
    "    -------\n",
    "\n",
    "    \"\"\"\n",
    "    tree = {}\n",
    "\n",
    "    for category in categories:\n",
    "        path = category['label'].strip('/').split('/')  # Split the label by '/'\n",
    "        current = tree\n",
    "\n",
    "        for part in path:\n",
    "            if part not in current:\n",
    "                current[part] = {}  # Add a new dictionary for the subcategory\n",
    "            current = current[part]  # Move to the next level in the tree\n",
    "    return tree\n",
    "\n",
    "\n",
    "def merge_trees_with_counts(tree1, tree2, visit_count):\n",
    "    \"\"\"\n",
    "    Merge two trees recursively, and count the visits to each node.\n",
    "\n",
    "    Parameters\n",
    "    ----------\n",
    "    tree1\n",
    "    tree2\n",
    "    visit_count\n",
    "\n",
    "    Returns\n",
    "    -------\n",
    "\n",
    "    \"\"\"\n",
    "    for key, value in tree2.items():\n",
    "        if key not in tree1:\n",
    "            tree1[key] = value\n",
    "        else:\n",
    "            if isinstance(value, dict) and isinstance(tree1[key], dict):\n",
    "                merge_trees_with_counts(tree1[key], value, visit_count)\n",
    "\n",
    "        # Count visits for the node\n",
    "        visit_count[key] += 1\n",
    "    return tree1\n",
    "\n",
    "\n",
    "def merge_all_trees_with_counts(trees):\n",
    "    \"\"\"\n",
    "    Merge all trees into one general tree and count the visits to each node.\n",
    "\n",
    "    Parameters\n",
    "    ----------\n",
    "    trees\n",
    "\n",
    "    Returns\n",
    "    -------\n",
    "\n",
    "    \"\"\"\n",
    "    # Initialize a visit count dictionary\n",
    "    visit_count = defaultdict(int)\n",
    "\n",
    "    # Step 1: Remove duplicate trees by serializing and converting to set\n",
    "    serialized_trees = {json.dumps(tree, sort_keys=True) for tree in trees}\n",
    "    unique_trees = [json.loads(tree) for tree in serialized_trees]\n",
    "\n",
    "    # Step 2: Merge all unique trees into one tree while counting visits\n",
    "    general_tree = {}\n",
    "    for tree in unique_trees:\n",
    "        general_tree = merge_trees_with_counts(general_tree, tree, visit_count)\n",
    "\n",
    "    return general_tree, visit_count\n"
   ]
  },
  {
   "cell_type": "code",
   "execution_count": 4,
   "id": "5a54f801",
   "metadata": {
    "execution": {
     "iopub.execute_input": "2024-12-12T16:26:18.106882Z",
     "iopub.status.busy": "2024-12-12T16:26:18.106422Z",
     "iopub.status.idle": "2024-12-12T16:26:36.017946Z",
     "shell.execute_reply": "2024-12-12T16:26:36.016792Z"
    },
    "papermill": {
     "duration": 17.922607,
     "end_time": "2024-12-12T16:26:36.020352",
     "exception": false,
     "start_time": "2024-12-12T16:26:18.097745",
     "status": "completed"
    },
    "tags": []
   },
   "outputs": [
    {
     "data": {
      "text/html": [
       "<div>\n",
       "<style scoped>\n",
       "    .dataframe tbody tr th:only-of-type {\n",
       "        vertical-align: middle;\n",
       "    }\n",
       "\n",
       "    .dataframe tbody tr th {\n",
       "        vertical-align: top;\n",
       "    }\n",
       "\n",
       "    .dataframe thead th {\n",
       "        text-align: right;\n",
       "    }\n",
       "</style>\n",
       "<table border=\"1\" class=\"dataframe\">\n",
       "  <thead>\n",
       "    <tr style=\"text-align: right;\">\n",
       "      <th></th>\n",
       "      <th>_id</th>\n",
       "      <th>date</th>\n",
       "      <th>id</th>\n",
       "      <th>relevant</th>\n",
       "      <th>text</th>\n",
       "      <th>tweet</th>\n",
       "      <th>type</th>\n",
       "      <th>watson</th>\n",
       "      <th>annotation</th>\n",
       "      <th>urls</th>\n",
       "      <th>destination_url</th>\n",
       "      <th>valid_certificate</th>\n",
       "    </tr>\n",
       "  </thead>\n",
       "  <tbody>\n",
       "    <tr>\n",
       "      <th>0</th>\n",
       "      <td>b'5b88752abb325e65390af240'</td>\n",
       "      <td>2018-08-30 22:52:25+00:00</td>\n",
       "      <td>1035299228984041472</td>\n",
       "      <td>False</td>\n",
       "      <td>Best way to build empathy is through honesty a...</td>\n",
       "      <td>{'created_at': 'Thu Aug 30 22:52:25 +0000 2018...</td>\n",
       "      <td>vulnerability</td>\n",
       "      <td>[science, social science, philosophy, ethics, ...</td>\n",
       "      <td>irrelevant</td>\n",
       "      <td>[]</td>\n",
       "      <td>NaN</td>\n",
       "      <td>NaN</td>\n",
       "    </tr>\n",
       "    <tr>\n",
       "      <th>1</th>\n",
       "      <td>b'5b8875d5bb325e65a22cf81b'</td>\n",
       "      <td>2018-08-30 22:55:15+00:00</td>\n",
       "      <td>1035299941932036096</td>\n",
       "      <td>False</td>\n",
       "      <td>Cryptocurrency Scams Replacing Ransomware as A...</td>\n",
       "      <td>{'created_at': 'Thu Aug 30 22:55:15 +0000 2018...</td>\n",
       "      <td>ransomware</td>\n",
       "      <td>[technology and computing, computer security, ...</td>\n",
       "      <td>business</td>\n",
       "      <td>['https://ubm.io/2MCQwfg']</td>\n",
       "      <td>https://www.darkreading.com/endpoint-security</td>\n",
       "      <td>False</td>\n",
       "    </tr>\n",
       "    <tr>\n",
       "      <th>2</th>\n",
       "      <td>b'5b88768dbb325e65fa7e78e3'</td>\n",
       "      <td>2018-08-30 22:58:20+00:00</td>\n",
       "      <td>1035300715470757889</td>\n",
       "      <td>False</td>\n",
       "      <td>Cryptocurrency Scams Replacing Ransomware as A...</td>\n",
       "      <td>{'created_at': 'Thu Aug 30 22:58:20 +0000 2018...</td>\n",
       "      <td>ransomware</td>\n",
       "      <td>[technology and computing, computer security, ...</td>\n",
       "      <td>business</td>\n",
       "      <td>['http://quantus.biz/security/2018/08/30/crypt...</td>\n",
       "      <td>http://www.quantusintel.group/</td>\n",
       "      <td>True</td>\n",
       "    </tr>\n",
       "    <tr>\n",
       "      <th>3</th>\n",
       "      <td>b'5b8876f9bb325e65fa7e78e4'</td>\n",
       "      <td>2018-08-30 23:00:08+00:00</td>\n",
       "      <td>1035301167952211969</td>\n",
       "      <td>True</td>\n",
       "      <td>Protect  your customers  access Prestashop Ant...</td>\n",
       "      <td>{'created_at': 'Thu Aug 30 23:00:08 +0000 2018...</td>\n",
       "      <td>ddos</td>\n",
       "      <td>[technology and computing, internet technology...</td>\n",
       "      <td>threat</td>\n",
       "      <td>['http://addons.prestashop.com/en/23513-anti-d...</td>\n",
       "      <td>https://addons.prestashop.com/en/23513-anti-dd...</td>\n",
       "      <td>True</td>\n",
       "    </tr>\n",
       "    <tr>\n",
       "      <th>4</th>\n",
       "      <td>b'5b8876f9bb325e65fa7e78e5'</td>\n",
       "      <td>2018-08-30 23:00:09+00:00</td>\n",
       "      <td>1035301173178249217</td>\n",
       "      <td>True</td>\n",
       "      <td>Data leak from Huazhu Hotels may affect 130 mi...</td>\n",
       "      <td>{'created_at': 'Thu Aug 30 23:00:09 +0000 2018...</td>\n",
       "      <td>leak</td>\n",
       "      <td>[travel, hotels, home and garden, home improve...</td>\n",
       "      <td>threat</td>\n",
       "      <td>['http://www.hotelmanagement.net/tech/data-lea...</td>\n",
       "      <td>http://www.hotelmanagement.net/tech/data-leak-...</td>\n",
       "      <td>True</td>\n",
       "    </tr>\n",
       "  </tbody>\n",
       "</table>\n",
       "</div>"
      ],
      "text/plain": [
       "                           _id                       date  \\\n",
       "0  b'5b88752abb325e65390af240'  2018-08-30 22:52:25+00:00   \n",
       "1  b'5b8875d5bb325e65a22cf81b'  2018-08-30 22:55:15+00:00   \n",
       "2  b'5b88768dbb325e65fa7e78e3'  2018-08-30 22:58:20+00:00   \n",
       "3  b'5b8876f9bb325e65fa7e78e4'  2018-08-30 23:00:08+00:00   \n",
       "4  b'5b8876f9bb325e65fa7e78e5'  2018-08-30 23:00:09+00:00   \n",
       "\n",
       "                    id  relevant  \\\n",
       "0  1035299228984041472     False   \n",
       "1  1035299941932036096     False   \n",
       "2  1035300715470757889     False   \n",
       "3  1035301167952211969      True   \n",
       "4  1035301173178249217      True   \n",
       "\n",
       "                                                text  \\\n",
       "0  Best way to build empathy is through honesty a...   \n",
       "1  Cryptocurrency Scams Replacing Ransomware as A...   \n",
       "2  Cryptocurrency Scams Replacing Ransomware as A...   \n",
       "3  Protect  your customers  access Prestashop Ant...   \n",
       "4  Data leak from Huazhu Hotels may affect 130 mi...   \n",
       "\n",
       "                                               tweet           type  \\\n",
       "0  {'created_at': 'Thu Aug 30 22:52:25 +0000 2018...  vulnerability   \n",
       "1  {'created_at': 'Thu Aug 30 22:55:15 +0000 2018...     ransomware   \n",
       "2  {'created_at': 'Thu Aug 30 22:58:20 +0000 2018...     ransomware   \n",
       "3  {'created_at': 'Thu Aug 30 23:00:08 +0000 2018...           ddos   \n",
       "4  {'created_at': 'Thu Aug 30 23:00:09 +0000 2018...           leak   \n",
       "\n",
       "                                              watson  annotation  \\\n",
       "0  [science, social science, philosophy, ethics, ...  irrelevant   \n",
       "1  [technology and computing, computer security, ...    business   \n",
       "2  [technology and computing, computer security, ...    business   \n",
       "3  [technology and computing, internet technology...      threat   \n",
       "4  [travel, hotels, home and garden, home improve...      threat   \n",
       "\n",
       "                                                urls  \\\n",
       "0                                                 []   \n",
       "1                         ['https://ubm.io/2MCQwfg']   \n",
       "2  ['http://quantus.biz/security/2018/08/30/crypt...   \n",
       "3  ['http://addons.prestashop.com/en/23513-anti-d...   \n",
       "4  ['http://www.hotelmanagement.net/tech/data-lea...   \n",
       "\n",
       "                                     destination_url valid_certificate  \n",
       "0                                                NaN               NaN  \n",
       "1      https://www.darkreading.com/endpoint-security             False  \n",
       "2                     http://www.quantusintel.group/              True  \n",
       "3  https://addons.prestashop.com/en/23513-anti-dd...              True  \n",
       "4  http://www.hotelmanagement.net/tech/data-leak-...              True  "
      ]
     },
     "execution_count": 4,
     "metadata": {},
     "output_type": "execute_result"
    }
   ],
   "source": [
    "# Read the CSV file\n",
    "threat_tweets = pandas.read_csv(filepath_or_buffer=THREAT_TWEETS_CSV)\n",
    "\n",
    "# Convert the 'watson' column from string representation of dict to actual dict\n",
    "threat_tweets['watson'] = threat_tweets['watson'].apply(ast.literal_eval)\n",
    "threat_tweets['tweet'] = threat_tweets['tweet'].apply(ast.literal_eval)\n",
    "\n",
    "# Extract 'categories' field (list of dictionaries)\n",
    "categories = threat_tweets['watson'].apply(lambda x: x.get('categories', []))\n",
    "\n",
    "# Build a tree for each row's categories\n",
    "category_tree = categories.apply(build_tree)\n",
    "\n",
    "# Remove duplicates and merge all trees into one\n",
    "general_tree, visit_count = merge_all_trees_with_counts(category_tree)\n",
    "\n",
    "threat_tweets['watson'] = category_tree.apply(process_row)\n",
    "\n",
    "threat_tweets.head()\n"
   ]
  },
  {
   "cell_type": "markdown",
   "id": "fbcb95f4",
   "metadata": {
    "papermill": {
     "duration": 0.006578,
     "end_time": "2024-12-12T16:26:36.033922",
     "exception": false,
     "start_time": "2024-12-12T16:26:36.027344",
     "status": "completed"
    },
    "tags": []
   },
   "source": [
    "## 3. Exploratory Data Analysis (EDA)\n",
    "Let's analyze the dataset and gain insights into its distribution.\n"
   ]
  },
  {
   "cell_type": "code",
   "execution_count": 5,
   "id": "6865c633",
   "metadata": {
    "execution": {
     "iopub.execute_input": "2024-12-12T16:26:36.049527Z",
     "iopub.status.busy": "2024-12-12T16:26:36.048702Z",
     "iopub.status.idle": "2024-12-12T16:26:36.055194Z",
     "shell.execute_reply": "2024-12-12T16:26:36.054004Z"
    },
    "papermill": {
     "duration": 0.016586,
     "end_time": "2024-12-12T16:26:36.057289",
     "exception": false,
     "start_time": "2024-12-12T16:26:36.040703",
     "status": "completed"
    },
    "tags": []
   },
   "outputs": [
    {
     "name": "stdout",
     "output_type": "stream",
     "text": [
      "At the top of the hierarchical structure there are:\n",
      "· art and entertainment\n",
      "· technology and computing\n",
      "· science\n",
      "· society\n",
      "· business and industrial\n",
      "· law, govt and politics\n",
      "· pets\n",
      "· news\n",
      "· education\n",
      "· hobbies and interests\n",
      "· automotive and vehicles\n",
      "· finance\n",
      "· home and garden\n",
      "· family and parenting\n",
      "· travel\n",
      "· food and drink\n",
      "· sports\n",
      "· shopping\n",
      "· health and fitness\n",
      "· religion and spirituality\n",
      "· style and fashion\n",
      "· careers\n",
      "· real estate\n"
     ]
    }
   ],
   "source": [
    "print('At the top of the hierarchical structure there are:')\n",
    "for category in list(general_tree.keys()):\n",
    "    print(f'· {category}')\n"
   ]
  },
  {
   "cell_type": "code",
   "execution_count": 6,
   "id": "5e5834fe",
   "metadata": {
    "execution": {
     "iopub.execute_input": "2024-12-12T16:26:36.072752Z",
     "iopub.status.busy": "2024-12-12T16:26:36.072366Z",
     "iopub.status.idle": "2024-12-12T16:26:36.083879Z",
     "shell.execute_reply": "2024-12-12T16:26:36.082629Z"
    },
    "papermill": {
     "duration": 0.02206,
     "end_time": "2024-12-12T16:26:36.086402",
     "exception": false,
     "start_time": "2024-12-12T16:26:36.064342",
     "status": "completed"
    },
    "tags": []
   },
   "outputs": [],
   "source": [
    "sorted_visit_count = dict(sorted(visit_count.items(), key=lambda item: item[1], reverse=True))\n",
    "\n",
    "with open('general_tree.json', 'w') as file:\n",
    "    file.write(json.dumps(general_tree, indent=4))\n",
    "\n",
    "with open('general_tree_visit_counts.json', 'w') as file:\n",
    "    file.write(json.dumps(sorted_visit_count, indent=4))\n"
   ]
  },
  {
   "cell_type": "code",
   "execution_count": 7,
   "id": "87b9781a",
   "metadata": {
    "execution": {
     "iopub.execute_input": "2024-12-12T16:26:36.102821Z",
     "iopub.status.busy": "2024-12-12T16:26:36.102435Z",
     "iopub.status.idle": "2024-12-12T16:26:36.109284Z",
     "shell.execute_reply": "2024-12-12T16:26:36.108014Z"
    },
    "papermill": {
     "duration": 0.018508,
     "end_time": "2024-12-12T16:26:36.112524",
     "exception": false,
     "start_time": "2024-12-12T16:26:36.094016",
     "status": "completed"
    },
    "tags": []
   },
   "outputs": [
    {
     "name": "stdout",
     "output_type": "stream",
     "text": [
      "For the goal of the project, the category \"technology and computing\" is the only one of interest.\n",
      "{\n",
      "    \"computer security\": {\n",
      "        \"network security\": {},\n",
      "        \"antivirus and malware\": {}\n",
      "    },\n",
      "    \"networking\": {\n",
      "        \"network monitoring and management\": {},\n",
      "        \"vpn and remote access\": {}\n",
      "    },\n",
      "    \"hardware\": {\n",
      "        \"computer components\": {\n",
      "            \"sound cards\": {},\n",
      "            \"chips and processors\": {},\n",
      "            \"motherboards\": {},\n",
      "            \"disks\": {},\n",
      "            \"memory\": {\n",
      "                \"portable\": {}\n",
      "            },\n",
      "            \"graphics cards\": {}\n",
      "        },\n",
      "        \"computer\": {\n",
      "            \"portable computer\": {\n",
      "                \"laptop\": {},\n",
      "                \"palmtops and pdas\": {},\n",
      "                \"tablet\": {}\n",
      "            },\n",
      "            \"servers\": {},\n",
      "            \"desktop computer\": {}\n",
      "        },\n",
      "        \"computer networking\": {\n",
      "            \"router\": {},\n",
      "            \"wireless technology\": {}\n",
      "        },\n",
      "        \"computer peripherals\": {\n",
      "            \"printers, copiers and fax\": {\n",
      "                \"fax machines\": {},\n",
      "                \"scanners\": {},\n",
      "                \"printers\": {},\n",
      "                \"copiers\": {}\n",
      "            },\n",
      "            \"computer monitors\": {}\n",
      "        }\n",
      "    },\n",
      "    \"computer crime\": {},\n",
      "    \"mp3 and midi\": {},\n",
      "    \"software\": {\n",
      "        \"databases\": {},\n",
      "        \"net conferencing\": {},\n",
      "        \"graphics software\": {\n",
      "            \"animation\": {}\n",
      "        },\n",
      "        \"shareware and freeware\": {},\n",
      "        \"desktop video\": {},\n",
      "        \"desktop publishing\": {}\n",
      "    },\n",
      "    \"programming languages\": {\n",
      "        \"visual basic\": {},\n",
      "        \"javascript\": {},\n",
      "        \"java\": {},\n",
      "        \"c and c++\": {}\n",
      "    },\n",
      "    \"consumer electronics\": {\n",
      "        \"telephones\": {\n",
      "            \"mobile phones\": {\n",
      "                \"smart phones\": {}\n",
      "            }\n",
      "        },\n",
      "        \"audio equipment\": {\n",
      "            \"speakers\": {},\n",
      "            \"headphones\": {},\n",
      "            \"stereo systems and components\": {}\n",
      "        },\n",
      "        \"game systems and consoles\": {\n",
      "            \"playstation\": {},\n",
      "            \"xbox\": {},\n",
      "            \"nintendo\": {}\n",
      "        },\n",
      "        \"tv and video equipment\": {\n",
      "            \"dvrs and set-top boxes\": {},\n",
      "            \"televisions\": {\n",
      "                \"lcd tvs\": {},\n",
      "                \"hdtvs\": {},\n",
      "                \"plasma tvs\": {}\n",
      "            },\n",
      "            \"home theater systems\": {},\n",
      "            \"projectors\": {},\n",
      "            \"video players and recorders\": {\n",
      "                \"blu-ray players and recorders\": {},\n",
      "                \"dvd players and recorders\": {}\n",
      "            }\n",
      "        },\n",
      "        \"camera and photo equipment\": {\n",
      "            \"cameras and camcorders\": {\n",
      "                \"cameras\": {},\n",
      "                \"camera batteries\": {},\n",
      "                \"camera bags\": {},\n",
      "                \"camcorders\": {},\n",
      "                \"camera lenses\": {}\n",
      "            },\n",
      "            \"telescopes\": {},\n",
      "            \"binoculars\": {}\n",
      "        },\n",
      "        \"portable entertainment\": {},\n",
      "        \"ebook reader\": {},\n",
      "        \"radios\": {},\n",
      "        \"home video and dvd\": {}\n",
      "    },\n",
      "    \"internet technology\": {\n",
      "        \"ecommerce\": {},\n",
      "        \"isps\": {},\n",
      "        \"web search\": {\n",
      "            \"people search\": {}\n",
      "        },\n",
      "        \"web design and html\": {},\n",
      "        \"chat\": {},\n",
      "        \"email\": {},\n",
      "        \"social network\": {},\n",
      "        \"web clip art\": {},\n",
      "        \"internet cafes\": {}\n",
      "    },\n",
      "    \"operating systems\": {\n",
      "        \"linux\": {},\n",
      "        \"windows\": {},\n",
      "        \"mac os\": {},\n",
      "        \"unix\": {}\n",
      "    },\n",
      "    \"computer reviews\": {},\n",
      "    \"tech news\": {},\n",
      "    \"computer certification\": {},\n",
      "    \"data centers\": {},\n",
      "    \"enterprise technology\": {\n",
      "        \"customer relationship management\": {},\n",
      "        \"data management\": {},\n",
      "        \"enterprise resource planning\": {}\n",
      "    },\n",
      "    \"electronic components\": {},\n",
      "    \"technological innovation\": {},\n",
      "    \"technical support\": {}\n",
      "}\n"
     ]
    }
   ],
   "source": [
    "print('For the goal of the project, the category \"technology and computing\" is the only one of interest.')\n",
    "print(json.dumps(general_tree['technology and computing'], indent=4))\n"
   ]
  },
  {
   "cell_type": "markdown",
   "id": "30e50fa8",
   "metadata": {
    "papermill": {
     "duration": 0.00674,
     "end_time": "2024-12-12T16:26:36.126427",
     "exception": false,
     "start_time": "2024-12-12T16:26:36.119687",
     "status": "completed"
    },
    "tags": []
   },
   "source": [
    "## 4. Model Training\n",
    "\n",
    "We will now train different models and evaluate their performance.\n"
   ]
  },
  {
   "cell_type": "code",
   "execution_count": 8,
   "id": "4bcf4e47",
   "metadata": {
    "execution": {
     "iopub.execute_input": "2024-12-12T16:26:36.142200Z",
     "iopub.status.busy": "2024-12-12T16:26:36.141788Z",
     "iopub.status.idle": "2024-12-12T16:26:36.212692Z",
     "shell.execute_reply": "2024-12-12T16:26:36.211530Z"
    },
    "papermill": {
     "duration": 0.08176,
     "end_time": "2024-12-12T16:26:36.215222",
     "exception": false,
     "start_time": "2024-12-12T16:26:36.133462",
     "status": "completed"
    },
    "tags": []
   },
   "outputs": [],
   "source": [
    "threat_tweets_technology_and_computing_categories = [\n",
    "    list(set(general_tree['technology and computing'].keys()) & set(s))\n",
    "    for s in threat_tweets['watson']\n",
    "]\n",
    "\n",
    "for i, t_list in enumerate(threat_tweets_technology_and_computing_categories):\n",
    "    temp = [t for t in t_list if visit_count[t] > 1]\n",
    "    if len(t_list) != len(temp):\n",
    "        print(f'{t_list} -> {temp}')\n",
    "    threat_tweets_technology_and_computing_categories[i] = temp\n",
    "\n",
    "threat_tweets['target'] = threat_tweets_technology_and_computing_categories\n"
   ]
  },
  {
   "cell_type": "code",
   "execution_count": 9,
   "id": "20f80783",
   "metadata": {
    "execution": {
     "iopub.execute_input": "2024-12-12T16:26:36.232091Z",
     "iopub.status.busy": "2024-12-12T16:26:36.231597Z",
     "iopub.status.idle": "2024-12-12T16:26:36.241255Z",
     "shell.execute_reply": "2024-12-12T16:26:36.239951Z"
    },
    "papermill": {
     "duration": 0.021407,
     "end_time": "2024-12-12T16:26:36.243878",
     "exception": false,
     "start_time": "2024-12-12T16:26:36.222471",
     "status": "completed"
    },
    "tags": []
   },
   "outputs": [],
   "source": [
    "def load_word2vec_dict(model_path: Path, embedding_dim: int) -> dict[\n",
    "    Union[str, list[str]], numpy.ndarray[Any, numpy.dtype]]:\n",
    "    embeddings_dict = {}\n",
    "\n",
    "    f = open(model_path, 'r', encoding='utf-8')\n",
    "    for line in f:\n",
    "        values = line.split()\n",
    "        word = values[:-embedding_dim]\n",
    "\n",
    "        if type(word) is list:\n",
    "            word = ' '.join(word)\n",
    "\n",
    "        vector = asarray([float(val) for val in values[-embedding_dim:]])\n",
    "        embeddings_dict[word] = vector\n",
    "    f.close()\n",
    "\n",
    "    return embeddings_dict\n",
    "\n",
    "\n",
    "def preprocess_texts(list_str, model_path, embedding_dim):\n",
    "    word2vec_dict = load_word2vec_dict(\n",
    "        model_path=model_path,\n",
    "        embedding_dim=embedding_dim\n",
    "    )\n",
    "    list_embedded_str = numpy.zeros((len(list_str), embedding_dim))\n",
    "    for i, text in enumerate(list_str):\n",
    "        tokens = re.findall(r'\\w+|[{}]'.format(re.escape(string.punctuation)), text)\n",
    "        for token in tokens:\n",
    "            try:\n",
    "                list_embedded_str[i] += word2vec_dict[token.lower()]\n",
    "            except KeyError:\n",
    "                continue\n",
    "    return list_embedded_str\n"
   ]
  },
  {
   "cell_type": "code",
   "execution_count": 10,
   "id": "62b61de3",
   "metadata": {
    "execution": {
     "iopub.execute_input": "2024-12-12T16:26:36.261035Z",
     "iopub.status.busy": "2024-12-12T16:26:36.260618Z",
     "iopub.status.idle": "2024-12-12T16:27:16.804071Z",
     "shell.execute_reply": "2024-12-12T16:27:16.802740Z"
    },
    "papermill": {
     "duration": 40.555062,
     "end_time": "2024-12-12T16:27:16.806882",
     "exception": false,
     "start_time": "2024-12-12T16:26:36.251820",
     "status": "completed"
    },
    "tags": []
   },
   "outputs": [],
   "source": [
    "mlb = MultiLabelBinarizer()\n",
    "\n",
    "X = preprocess_texts(\n",
    "    list_str=threat_tweets['text'],\n",
    "    model_path=GLOVE_6B_300D_TXT,\n",
    "    embedding_dim=300\n",
    ")\n",
    "y = mlb.fit_transform(threat_tweets_technology_and_computing_categories)\n"
   ]
  },
  {
   "cell_type": "code",
   "execution_count": 11,
   "id": "6f6e8f70",
   "metadata": {
    "execution": {
     "iopub.execute_input": "2024-12-12T16:27:16.822984Z",
     "iopub.status.busy": "2024-12-12T16:27:16.822523Z",
     "iopub.status.idle": "2024-12-12T16:27:16.869712Z",
     "shell.execute_reply": "2024-12-12T16:27:16.868047Z"
    },
    "papermill": {
     "duration": 0.05826,
     "end_time": "2024-12-12T16:27:16.872512",
     "exception": false,
     "start_time": "2024-12-12T16:27:16.814252",
     "status": "completed"
    },
    "tags": []
   },
   "outputs": [],
   "source": [
    "X_train_val, X_test, y_train_val, y_test = train_test_split(\n",
    "    X, y,\n",
    "    test_size=TEST_SIZE,\n",
    "    random_state=RANDOM_STATE,\n",
    "    shuffle=True\n",
    ")\n",
    "\n",
    "X_train, X_val, y_train, y_val = train_test_split(\n",
    "    X_train_val, y_train_val,\n",
    "    test_size=TEST_SIZE,\n",
    "    random_state=RANDOM_STATE,\n",
    "    shuffle=True\n",
    ")\n"
   ]
  },
  {
   "cell_type": "code",
   "execution_count": 12,
   "id": "9b15eee2",
   "metadata": {
    "execution": {
     "iopub.execute_input": "2024-12-12T16:27:16.889171Z",
     "iopub.status.busy": "2024-12-12T16:27:16.888732Z",
     "iopub.status.idle": "2024-12-12T16:28:51.316167Z",
     "shell.execute_reply": "2024-12-12T16:28:51.314893Z"
    },
    "papermill": {
     "duration": 94.447041,
     "end_time": "2024-12-12T16:28:51.326772",
     "exception": false,
     "start_time": "2024-12-12T16:27:16.879731",
     "status": "completed"
    },
    "tags": []
   },
   "outputs": [
    {
     "data": {
      "text/html": [
       "<style>#sk-container-id-1 {color: black;background-color: white;}#sk-container-id-1 pre{padding: 0;}#sk-container-id-1 div.sk-toggleable {background-color: white;}#sk-container-id-1 label.sk-toggleable__label {cursor: pointer;display: block;width: 100%;margin-bottom: 0;padding: 0.3em;box-sizing: border-box;text-align: center;}#sk-container-id-1 label.sk-toggleable__label-arrow:before {content: \"▸\";float: left;margin-right: 0.25em;color: #696969;}#sk-container-id-1 label.sk-toggleable__label-arrow:hover:before {color: black;}#sk-container-id-1 div.sk-estimator:hover label.sk-toggleable__label-arrow:before {color: black;}#sk-container-id-1 div.sk-toggleable__content {max-height: 0;max-width: 0;overflow: hidden;text-align: left;background-color: #f0f8ff;}#sk-container-id-1 div.sk-toggleable__content pre {margin: 0.2em;color: black;border-radius: 0.25em;background-color: #f0f8ff;}#sk-container-id-1 input.sk-toggleable__control:checked~div.sk-toggleable__content {max-height: 200px;max-width: 100%;overflow: auto;}#sk-container-id-1 input.sk-toggleable__control:checked~label.sk-toggleable__label-arrow:before {content: \"▾\";}#sk-container-id-1 div.sk-estimator input.sk-toggleable__control:checked~label.sk-toggleable__label {background-color: #d4ebff;}#sk-container-id-1 div.sk-label input.sk-toggleable__control:checked~label.sk-toggleable__label {background-color: #d4ebff;}#sk-container-id-1 input.sk-hidden--visually {border: 0;clip: rect(1px 1px 1px 1px);clip: rect(1px, 1px, 1px, 1px);height: 1px;margin: -1px;overflow: hidden;padding: 0;position: absolute;width: 1px;}#sk-container-id-1 div.sk-estimator {font-family: monospace;background-color: #f0f8ff;border: 1px dotted black;border-radius: 0.25em;box-sizing: border-box;margin-bottom: 0.5em;}#sk-container-id-1 div.sk-estimator:hover {background-color: #d4ebff;}#sk-container-id-1 div.sk-parallel-item::after {content: \"\";width: 100%;border-bottom: 1px solid gray;flex-grow: 1;}#sk-container-id-1 div.sk-label:hover label.sk-toggleable__label {background-color: #d4ebff;}#sk-container-id-1 div.sk-serial::before {content: \"\";position: absolute;border-left: 1px solid gray;box-sizing: border-box;top: 0;bottom: 0;left: 50%;z-index: 0;}#sk-container-id-1 div.sk-serial {display: flex;flex-direction: column;align-items: center;background-color: white;padding-right: 0.2em;padding-left: 0.2em;position: relative;}#sk-container-id-1 div.sk-item {position: relative;z-index: 1;}#sk-container-id-1 div.sk-parallel {display: flex;align-items: stretch;justify-content: center;background-color: white;position: relative;}#sk-container-id-1 div.sk-item::before, #sk-container-id-1 div.sk-parallel-item::before {content: \"\";position: absolute;border-left: 1px solid gray;box-sizing: border-box;top: 0;bottom: 0;left: 50%;z-index: -1;}#sk-container-id-1 div.sk-parallel-item {display: flex;flex-direction: column;z-index: 1;position: relative;background-color: white;}#sk-container-id-1 div.sk-parallel-item:first-child::after {align-self: flex-end;width: 50%;}#sk-container-id-1 div.sk-parallel-item:last-child::after {align-self: flex-start;width: 50%;}#sk-container-id-1 div.sk-parallel-item:only-child::after {width: 0;}#sk-container-id-1 div.sk-dashed-wrapped {border: 1px dashed gray;margin: 0 0.4em 0.5em 0.4em;box-sizing: border-box;padding-bottom: 0.4em;background-color: white;}#sk-container-id-1 div.sk-label label {font-family: monospace;font-weight: bold;display: inline-block;line-height: 1.2em;}#sk-container-id-1 div.sk-label-container {text-align: center;}#sk-container-id-1 div.sk-container {/* jupyter's `normalize.less` sets `[hidden] { display: none; }` but bootstrap.min.css set `[hidden] { display: none !important; }` so we also need the `!important` here to be able to override the default hidden behavior on the sphinx rendered scikit-learn.org. See: https://github.com/scikit-learn/scikit-learn/issues/21755 */display: inline-block !important;position: relative;}#sk-container-id-1 div.sk-text-repr-fallback {display: none;}</style><div id=\"sk-container-id-1\" class=\"sk-top-container\"><div class=\"sk-text-repr-fallback\"><pre>OneVsRestClassifier(estimator=LogisticRegression(solver=&#x27;liblinear&#x27;))</pre><b>In a Jupyter environment, please rerun this cell to show the HTML representation or trust the notebook. <br />On GitHub, the HTML representation is unable to render, please try loading this page with nbviewer.org.</b></div><div class=\"sk-container\" hidden><div class=\"sk-item sk-dashed-wrapped\"><div class=\"sk-label-container\"><div class=\"sk-label sk-toggleable\"><input class=\"sk-toggleable__control sk-hidden--visually\" id=\"sk-estimator-id-1\" type=\"checkbox\" ><label for=\"sk-estimator-id-1\" class=\"sk-toggleable__label sk-toggleable__label-arrow\">OneVsRestClassifier</label><div class=\"sk-toggleable__content\"><pre>OneVsRestClassifier(estimator=LogisticRegression(solver=&#x27;liblinear&#x27;))</pre></div></div></div><div class=\"sk-parallel\"><div class=\"sk-parallel-item\"><div class=\"sk-item\"><div class=\"sk-label-container\"><div class=\"sk-label sk-toggleable\"><input class=\"sk-toggleable__control sk-hidden--visually\" id=\"sk-estimator-id-2\" type=\"checkbox\" ><label for=\"sk-estimator-id-2\" class=\"sk-toggleable__label sk-toggleable__label-arrow\">estimator: LogisticRegression</label><div class=\"sk-toggleable__content\"><pre>LogisticRegression(solver=&#x27;liblinear&#x27;)</pre></div></div></div><div class=\"sk-serial\"><div class=\"sk-item\"><div class=\"sk-estimator sk-toggleable\"><input class=\"sk-toggleable__control sk-hidden--visually\" id=\"sk-estimator-id-3\" type=\"checkbox\" ><label for=\"sk-estimator-id-3\" class=\"sk-toggleable__label sk-toggleable__label-arrow\">LogisticRegression</label><div class=\"sk-toggleable__content\"><pre>LogisticRegression(solver=&#x27;liblinear&#x27;)</pre></div></div></div></div></div></div></div></div></div></div>"
      ],
      "text/plain": [
       "OneVsRestClassifier(estimator=LogisticRegression(solver='liblinear'))"
      ]
     },
     "execution_count": 12,
     "metadata": {},
     "output_type": "execute_result"
    }
   ],
   "source": [
    "classifier_lr = OneVsRestClassifier(LogisticRegression(solver='liblinear'))\n",
    "classifier_lr.fit(X_train, y_train)\n"
   ]
  },
  {
   "cell_type": "code",
   "execution_count": 13,
   "id": "e8d0797d",
   "metadata": {
    "execution": {
     "iopub.execute_input": "2024-12-12T16:28:51.343572Z",
     "iopub.status.busy": "2024-12-12T16:28:51.343141Z",
     "iopub.status.idle": "2024-12-12T16:28:52.411888Z",
     "shell.execute_reply": "2024-12-12T16:28:52.410766Z"
    },
    "papermill": {
     "duration": 1.079934,
     "end_time": "2024-12-12T16:28:52.414328",
     "exception": false,
     "start_time": "2024-12-12T16:28:51.334394",
     "status": "completed"
    },
    "tags": []
   },
   "outputs": [
    {
     "data": {
      "text/html": [
       "<style>#sk-container-id-2 {color: black;background-color: white;}#sk-container-id-2 pre{padding: 0;}#sk-container-id-2 div.sk-toggleable {background-color: white;}#sk-container-id-2 label.sk-toggleable__label {cursor: pointer;display: block;width: 100%;margin-bottom: 0;padding: 0.3em;box-sizing: border-box;text-align: center;}#sk-container-id-2 label.sk-toggleable__label-arrow:before {content: \"▸\";float: left;margin-right: 0.25em;color: #696969;}#sk-container-id-2 label.sk-toggleable__label-arrow:hover:before {color: black;}#sk-container-id-2 div.sk-estimator:hover label.sk-toggleable__label-arrow:before {color: black;}#sk-container-id-2 div.sk-toggleable__content {max-height: 0;max-width: 0;overflow: hidden;text-align: left;background-color: #f0f8ff;}#sk-container-id-2 div.sk-toggleable__content pre {margin: 0.2em;color: black;border-radius: 0.25em;background-color: #f0f8ff;}#sk-container-id-2 input.sk-toggleable__control:checked~div.sk-toggleable__content {max-height: 200px;max-width: 100%;overflow: auto;}#sk-container-id-2 input.sk-toggleable__control:checked~label.sk-toggleable__label-arrow:before {content: \"▾\";}#sk-container-id-2 div.sk-estimator input.sk-toggleable__control:checked~label.sk-toggleable__label {background-color: #d4ebff;}#sk-container-id-2 div.sk-label input.sk-toggleable__control:checked~label.sk-toggleable__label {background-color: #d4ebff;}#sk-container-id-2 input.sk-hidden--visually {border: 0;clip: rect(1px 1px 1px 1px);clip: rect(1px, 1px, 1px, 1px);height: 1px;margin: -1px;overflow: hidden;padding: 0;position: absolute;width: 1px;}#sk-container-id-2 div.sk-estimator {font-family: monospace;background-color: #f0f8ff;border: 1px dotted black;border-radius: 0.25em;box-sizing: border-box;margin-bottom: 0.5em;}#sk-container-id-2 div.sk-estimator:hover {background-color: #d4ebff;}#sk-container-id-2 div.sk-parallel-item::after {content: \"\";width: 100%;border-bottom: 1px solid gray;flex-grow: 1;}#sk-container-id-2 div.sk-label:hover label.sk-toggleable__label {background-color: #d4ebff;}#sk-container-id-2 div.sk-serial::before {content: \"\";position: absolute;border-left: 1px solid gray;box-sizing: border-box;top: 0;bottom: 0;left: 50%;z-index: 0;}#sk-container-id-2 div.sk-serial {display: flex;flex-direction: column;align-items: center;background-color: white;padding-right: 0.2em;padding-left: 0.2em;position: relative;}#sk-container-id-2 div.sk-item {position: relative;z-index: 1;}#sk-container-id-2 div.sk-parallel {display: flex;align-items: stretch;justify-content: center;background-color: white;position: relative;}#sk-container-id-2 div.sk-item::before, #sk-container-id-2 div.sk-parallel-item::before {content: \"\";position: absolute;border-left: 1px solid gray;box-sizing: border-box;top: 0;bottom: 0;left: 50%;z-index: -1;}#sk-container-id-2 div.sk-parallel-item {display: flex;flex-direction: column;z-index: 1;position: relative;background-color: white;}#sk-container-id-2 div.sk-parallel-item:first-child::after {align-self: flex-end;width: 50%;}#sk-container-id-2 div.sk-parallel-item:last-child::after {align-self: flex-start;width: 50%;}#sk-container-id-2 div.sk-parallel-item:only-child::after {width: 0;}#sk-container-id-2 div.sk-dashed-wrapped {border: 1px dashed gray;margin: 0 0.4em 0.5em 0.4em;box-sizing: border-box;padding-bottom: 0.4em;background-color: white;}#sk-container-id-2 div.sk-label label {font-family: monospace;font-weight: bold;display: inline-block;line-height: 1.2em;}#sk-container-id-2 div.sk-label-container {text-align: center;}#sk-container-id-2 div.sk-container {/* jupyter's `normalize.less` sets `[hidden] { display: none; }` but bootstrap.min.css set `[hidden] { display: none !important; }` so we also need the `!important` here to be able to override the default hidden behavior on the sphinx rendered scikit-learn.org. See: https://github.com/scikit-learn/scikit-learn/issues/21755 */display: inline-block !important;position: relative;}#sk-container-id-2 div.sk-text-repr-fallback {display: none;}</style><div id=\"sk-container-id-2\" class=\"sk-top-container\"><div class=\"sk-text-repr-fallback\"><pre>OneVsRestClassifier(estimator=GaussianNB())</pre><b>In a Jupyter environment, please rerun this cell to show the HTML representation or trust the notebook. <br />On GitHub, the HTML representation is unable to render, please try loading this page with nbviewer.org.</b></div><div class=\"sk-container\" hidden><div class=\"sk-item sk-dashed-wrapped\"><div class=\"sk-label-container\"><div class=\"sk-label sk-toggleable\"><input class=\"sk-toggleable__control sk-hidden--visually\" id=\"sk-estimator-id-4\" type=\"checkbox\" ><label for=\"sk-estimator-id-4\" class=\"sk-toggleable__label sk-toggleable__label-arrow\">OneVsRestClassifier</label><div class=\"sk-toggleable__content\"><pre>OneVsRestClassifier(estimator=GaussianNB())</pre></div></div></div><div class=\"sk-parallel\"><div class=\"sk-parallel-item\"><div class=\"sk-item\"><div class=\"sk-label-container\"><div class=\"sk-label sk-toggleable\"><input class=\"sk-toggleable__control sk-hidden--visually\" id=\"sk-estimator-id-5\" type=\"checkbox\" ><label for=\"sk-estimator-id-5\" class=\"sk-toggleable__label sk-toggleable__label-arrow\">estimator: GaussianNB</label><div class=\"sk-toggleable__content\"><pre>GaussianNB()</pre></div></div></div><div class=\"sk-serial\"><div class=\"sk-item\"><div class=\"sk-estimator sk-toggleable\"><input class=\"sk-toggleable__control sk-hidden--visually\" id=\"sk-estimator-id-6\" type=\"checkbox\" ><label for=\"sk-estimator-id-6\" class=\"sk-toggleable__label sk-toggleable__label-arrow\">GaussianNB</label><div class=\"sk-toggleable__content\"><pre>GaussianNB()</pre></div></div></div></div></div></div></div></div></div></div>"
      ],
      "text/plain": [
       "OneVsRestClassifier(estimator=GaussianNB())"
      ]
     },
     "execution_count": 13,
     "metadata": {},
     "output_type": "execute_result"
    }
   ],
   "source": [
    "classifier_gnb = OneVsRestClassifier(GaussianNB())\n",
    "classifier_gnb.fit(X_train, y_train)\n"
   ]
  },
  {
   "cell_type": "code",
   "execution_count": 14,
   "id": "e3015c06",
   "metadata": {
    "execution": {
     "iopub.execute_input": "2024-12-12T16:28:52.432507Z",
     "iopub.status.busy": "2024-12-12T16:28:52.432099Z",
     "iopub.status.idle": "2024-12-12T16:32:57.655999Z",
     "shell.execute_reply": "2024-12-12T16:32:57.654856Z"
    },
    "papermill": {
     "duration": 245.243406,
     "end_time": "2024-12-12T16:32:57.665338",
     "exception": false,
     "start_time": "2024-12-12T16:28:52.421932",
     "status": "completed"
    },
    "tags": []
   },
   "outputs": [
    {
     "data": {
      "text/html": [
       "<style>#sk-container-id-3 {color: black;background-color: white;}#sk-container-id-3 pre{padding: 0;}#sk-container-id-3 div.sk-toggleable {background-color: white;}#sk-container-id-3 label.sk-toggleable__label {cursor: pointer;display: block;width: 100%;margin-bottom: 0;padding: 0.3em;box-sizing: border-box;text-align: center;}#sk-container-id-3 label.sk-toggleable__label-arrow:before {content: \"▸\";float: left;margin-right: 0.25em;color: #696969;}#sk-container-id-3 label.sk-toggleable__label-arrow:hover:before {color: black;}#sk-container-id-3 div.sk-estimator:hover label.sk-toggleable__label-arrow:before {color: black;}#sk-container-id-3 div.sk-toggleable__content {max-height: 0;max-width: 0;overflow: hidden;text-align: left;background-color: #f0f8ff;}#sk-container-id-3 div.sk-toggleable__content pre {margin: 0.2em;color: black;border-radius: 0.25em;background-color: #f0f8ff;}#sk-container-id-3 input.sk-toggleable__control:checked~div.sk-toggleable__content {max-height: 200px;max-width: 100%;overflow: auto;}#sk-container-id-3 input.sk-toggleable__control:checked~label.sk-toggleable__label-arrow:before {content: \"▾\";}#sk-container-id-3 div.sk-estimator input.sk-toggleable__control:checked~label.sk-toggleable__label {background-color: #d4ebff;}#sk-container-id-3 div.sk-label input.sk-toggleable__control:checked~label.sk-toggleable__label {background-color: #d4ebff;}#sk-container-id-3 input.sk-hidden--visually {border: 0;clip: rect(1px 1px 1px 1px);clip: rect(1px, 1px, 1px, 1px);height: 1px;margin: -1px;overflow: hidden;padding: 0;position: absolute;width: 1px;}#sk-container-id-3 div.sk-estimator {font-family: monospace;background-color: #f0f8ff;border: 1px dotted black;border-radius: 0.25em;box-sizing: border-box;margin-bottom: 0.5em;}#sk-container-id-3 div.sk-estimator:hover {background-color: #d4ebff;}#sk-container-id-3 div.sk-parallel-item::after {content: \"\";width: 100%;border-bottom: 1px solid gray;flex-grow: 1;}#sk-container-id-3 div.sk-label:hover label.sk-toggleable__label {background-color: #d4ebff;}#sk-container-id-3 div.sk-serial::before {content: \"\";position: absolute;border-left: 1px solid gray;box-sizing: border-box;top: 0;bottom: 0;left: 50%;z-index: 0;}#sk-container-id-3 div.sk-serial {display: flex;flex-direction: column;align-items: center;background-color: white;padding-right: 0.2em;padding-left: 0.2em;position: relative;}#sk-container-id-3 div.sk-item {position: relative;z-index: 1;}#sk-container-id-3 div.sk-parallel {display: flex;align-items: stretch;justify-content: center;background-color: white;position: relative;}#sk-container-id-3 div.sk-item::before, #sk-container-id-3 div.sk-parallel-item::before {content: \"\";position: absolute;border-left: 1px solid gray;box-sizing: border-box;top: 0;bottom: 0;left: 50%;z-index: -1;}#sk-container-id-3 div.sk-parallel-item {display: flex;flex-direction: column;z-index: 1;position: relative;background-color: white;}#sk-container-id-3 div.sk-parallel-item:first-child::after {align-self: flex-end;width: 50%;}#sk-container-id-3 div.sk-parallel-item:last-child::after {align-self: flex-start;width: 50%;}#sk-container-id-3 div.sk-parallel-item:only-child::after {width: 0;}#sk-container-id-3 div.sk-dashed-wrapped {border: 1px dashed gray;margin: 0 0.4em 0.5em 0.4em;box-sizing: border-box;padding-bottom: 0.4em;background-color: white;}#sk-container-id-3 div.sk-label label {font-family: monospace;font-weight: bold;display: inline-block;line-height: 1.2em;}#sk-container-id-3 div.sk-label-container {text-align: center;}#sk-container-id-3 div.sk-container {/* jupyter's `normalize.less` sets `[hidden] { display: none; }` but bootstrap.min.css set `[hidden] { display: none !important; }` so we also need the `!important` here to be able to override the default hidden behavior on the sphinx rendered scikit-learn.org. See: https://github.com/scikit-learn/scikit-learn/issues/21755 */display: inline-block !important;position: relative;}#sk-container-id-3 div.sk-text-repr-fallback {display: none;}</style><div id=\"sk-container-id-3\" class=\"sk-top-container\"><div class=\"sk-text-repr-fallback\"><pre>OneVsRestClassifier(estimator=DecisionTreeClassifier())</pre><b>In a Jupyter environment, please rerun this cell to show the HTML representation or trust the notebook. <br />On GitHub, the HTML representation is unable to render, please try loading this page with nbviewer.org.</b></div><div class=\"sk-container\" hidden><div class=\"sk-item sk-dashed-wrapped\"><div class=\"sk-label-container\"><div class=\"sk-label sk-toggleable\"><input class=\"sk-toggleable__control sk-hidden--visually\" id=\"sk-estimator-id-7\" type=\"checkbox\" ><label for=\"sk-estimator-id-7\" class=\"sk-toggleable__label sk-toggleable__label-arrow\">OneVsRestClassifier</label><div class=\"sk-toggleable__content\"><pre>OneVsRestClassifier(estimator=DecisionTreeClassifier())</pre></div></div></div><div class=\"sk-parallel\"><div class=\"sk-parallel-item\"><div class=\"sk-item\"><div class=\"sk-label-container\"><div class=\"sk-label sk-toggleable\"><input class=\"sk-toggleable__control sk-hidden--visually\" id=\"sk-estimator-id-8\" type=\"checkbox\" ><label for=\"sk-estimator-id-8\" class=\"sk-toggleable__label sk-toggleable__label-arrow\">estimator: DecisionTreeClassifier</label><div class=\"sk-toggleable__content\"><pre>DecisionTreeClassifier()</pre></div></div></div><div class=\"sk-serial\"><div class=\"sk-item\"><div class=\"sk-estimator sk-toggleable\"><input class=\"sk-toggleable__control sk-hidden--visually\" id=\"sk-estimator-id-9\" type=\"checkbox\" ><label for=\"sk-estimator-id-9\" class=\"sk-toggleable__label sk-toggleable__label-arrow\">DecisionTreeClassifier</label><div class=\"sk-toggleable__content\"><pre>DecisionTreeClassifier()</pre></div></div></div></div></div></div></div></div></div></div>"
      ],
      "text/plain": [
       "OneVsRestClassifier(estimator=DecisionTreeClassifier())"
      ]
     },
     "execution_count": 14,
     "metadata": {},
     "output_type": "execute_result"
    }
   ],
   "source": [
    "classifier_dt = OneVsRestClassifier(DecisionTreeClassifier())\n",
    "classifier_dt.fit(X_train, y_train)\n"
   ]
  },
  {
   "cell_type": "code",
   "execution_count": 15,
   "id": "039dbb8e",
   "metadata": {
    "execution": {
     "iopub.execute_input": "2024-12-12T16:32:57.682327Z",
     "iopub.status.busy": "2024-12-12T16:32:57.681864Z",
     "iopub.status.idle": "2024-12-12T16:35:02.242368Z",
     "shell.execute_reply": "2024-12-12T16:35:02.240984Z"
    },
    "papermill": {
     "duration": 124.579044,
     "end_time": "2024-12-12T16:35:02.252016",
     "exception": false,
     "start_time": "2024-12-12T16:32:57.672972",
     "status": "completed"
    },
    "tags": []
   },
   "outputs": [
    {
     "data": {
      "text/html": [
       "<style>#sk-container-id-4 {color: black;background-color: white;}#sk-container-id-4 pre{padding: 0;}#sk-container-id-4 div.sk-toggleable {background-color: white;}#sk-container-id-4 label.sk-toggleable__label {cursor: pointer;display: block;width: 100%;margin-bottom: 0;padding: 0.3em;box-sizing: border-box;text-align: center;}#sk-container-id-4 label.sk-toggleable__label-arrow:before {content: \"▸\";float: left;margin-right: 0.25em;color: #696969;}#sk-container-id-4 label.sk-toggleable__label-arrow:hover:before {color: black;}#sk-container-id-4 div.sk-estimator:hover label.sk-toggleable__label-arrow:before {color: black;}#sk-container-id-4 div.sk-toggleable__content {max-height: 0;max-width: 0;overflow: hidden;text-align: left;background-color: #f0f8ff;}#sk-container-id-4 div.sk-toggleable__content pre {margin: 0.2em;color: black;border-radius: 0.25em;background-color: #f0f8ff;}#sk-container-id-4 input.sk-toggleable__control:checked~div.sk-toggleable__content {max-height: 200px;max-width: 100%;overflow: auto;}#sk-container-id-4 input.sk-toggleable__control:checked~label.sk-toggleable__label-arrow:before {content: \"▾\";}#sk-container-id-4 div.sk-estimator input.sk-toggleable__control:checked~label.sk-toggleable__label {background-color: #d4ebff;}#sk-container-id-4 div.sk-label input.sk-toggleable__control:checked~label.sk-toggleable__label {background-color: #d4ebff;}#sk-container-id-4 input.sk-hidden--visually {border: 0;clip: rect(1px 1px 1px 1px);clip: rect(1px, 1px, 1px, 1px);height: 1px;margin: -1px;overflow: hidden;padding: 0;position: absolute;width: 1px;}#sk-container-id-4 div.sk-estimator {font-family: monospace;background-color: #f0f8ff;border: 1px dotted black;border-radius: 0.25em;box-sizing: border-box;margin-bottom: 0.5em;}#sk-container-id-4 div.sk-estimator:hover {background-color: #d4ebff;}#sk-container-id-4 div.sk-parallel-item::after {content: \"\";width: 100%;border-bottom: 1px solid gray;flex-grow: 1;}#sk-container-id-4 div.sk-label:hover label.sk-toggleable__label {background-color: #d4ebff;}#sk-container-id-4 div.sk-serial::before {content: \"\";position: absolute;border-left: 1px solid gray;box-sizing: border-box;top: 0;bottom: 0;left: 50%;z-index: 0;}#sk-container-id-4 div.sk-serial {display: flex;flex-direction: column;align-items: center;background-color: white;padding-right: 0.2em;padding-left: 0.2em;position: relative;}#sk-container-id-4 div.sk-item {position: relative;z-index: 1;}#sk-container-id-4 div.sk-parallel {display: flex;align-items: stretch;justify-content: center;background-color: white;position: relative;}#sk-container-id-4 div.sk-item::before, #sk-container-id-4 div.sk-parallel-item::before {content: \"\";position: absolute;border-left: 1px solid gray;box-sizing: border-box;top: 0;bottom: 0;left: 50%;z-index: -1;}#sk-container-id-4 div.sk-parallel-item {display: flex;flex-direction: column;z-index: 1;position: relative;background-color: white;}#sk-container-id-4 div.sk-parallel-item:first-child::after {align-self: flex-end;width: 50%;}#sk-container-id-4 div.sk-parallel-item:last-child::after {align-self: flex-start;width: 50%;}#sk-container-id-4 div.sk-parallel-item:only-child::after {width: 0;}#sk-container-id-4 div.sk-dashed-wrapped {border: 1px dashed gray;margin: 0 0.4em 0.5em 0.4em;box-sizing: border-box;padding-bottom: 0.4em;background-color: white;}#sk-container-id-4 div.sk-label label {font-family: monospace;font-weight: bold;display: inline-block;line-height: 1.2em;}#sk-container-id-4 div.sk-label-container {text-align: center;}#sk-container-id-4 div.sk-container {/* jupyter's `normalize.less` sets `[hidden] { display: none; }` but bootstrap.min.css set `[hidden] { display: none !important; }` so we also need the `!important` here to be able to override the default hidden behavior on the sphinx rendered scikit-learn.org. See: https://github.com/scikit-learn/scikit-learn/issues/21755 */display: inline-block !important;position: relative;}#sk-container-id-4 div.sk-text-repr-fallback {display: none;}</style><div id=\"sk-container-id-4\" class=\"sk-top-container\"><div class=\"sk-text-repr-fallback\"><pre>OneVsRestClassifier(estimator=SVC())</pre><b>In a Jupyter environment, please rerun this cell to show the HTML representation or trust the notebook. <br />On GitHub, the HTML representation is unable to render, please try loading this page with nbviewer.org.</b></div><div class=\"sk-container\" hidden><div class=\"sk-item sk-dashed-wrapped\"><div class=\"sk-label-container\"><div class=\"sk-label sk-toggleable\"><input class=\"sk-toggleable__control sk-hidden--visually\" id=\"sk-estimator-id-10\" type=\"checkbox\" ><label for=\"sk-estimator-id-10\" class=\"sk-toggleable__label sk-toggleable__label-arrow\">OneVsRestClassifier</label><div class=\"sk-toggleable__content\"><pre>OneVsRestClassifier(estimator=SVC())</pre></div></div></div><div class=\"sk-parallel\"><div class=\"sk-parallel-item\"><div class=\"sk-item\"><div class=\"sk-label-container\"><div class=\"sk-label sk-toggleable\"><input class=\"sk-toggleable__control sk-hidden--visually\" id=\"sk-estimator-id-11\" type=\"checkbox\" ><label for=\"sk-estimator-id-11\" class=\"sk-toggleable__label sk-toggleable__label-arrow\">estimator: SVC</label><div class=\"sk-toggleable__content\"><pre>SVC()</pre></div></div></div><div class=\"sk-serial\"><div class=\"sk-item\"><div class=\"sk-estimator sk-toggleable\"><input class=\"sk-toggleable__control sk-hidden--visually\" id=\"sk-estimator-id-12\" type=\"checkbox\" ><label for=\"sk-estimator-id-12\" class=\"sk-toggleable__label sk-toggleable__label-arrow\">SVC</label><div class=\"sk-toggleable__content\"><pre>SVC()</pre></div></div></div></div></div></div></div></div></div></div>"
      ],
      "text/plain": [
       "OneVsRestClassifier(estimator=SVC())"
      ]
     },
     "execution_count": 15,
     "metadata": {},
     "output_type": "execute_result"
    }
   ],
   "source": [
    "classifier_svm = OneVsRestClassifier(SVC())\n",
    "classifier_svm.fit(X_train, y_train)\n"
   ]
  },
  {
   "cell_type": "code",
   "execution_count": 16,
   "id": "451d8f17",
   "metadata": {
    "execution": {
     "iopub.execute_input": "2024-12-12T16:35:02.270099Z",
     "iopub.status.busy": "2024-12-12T16:35:02.269648Z",
     "iopub.status.idle": "2024-12-12T16:43:46.116786Z",
     "shell.execute_reply": "2024-12-12T16:43:46.115218Z"
    },
    "papermill": {
     "duration": 523.866036,
     "end_time": "2024-12-12T16:43:46.126393",
     "exception": false,
     "start_time": "2024-12-12T16:35:02.260357",
     "status": "completed"
    },
    "tags": []
   },
   "outputs": [
    {
     "data": {
      "text/html": [
       "<style>#sk-container-id-5 {color: black;background-color: white;}#sk-container-id-5 pre{padding: 0;}#sk-container-id-5 div.sk-toggleable {background-color: white;}#sk-container-id-5 label.sk-toggleable__label {cursor: pointer;display: block;width: 100%;margin-bottom: 0;padding: 0.3em;box-sizing: border-box;text-align: center;}#sk-container-id-5 label.sk-toggleable__label-arrow:before {content: \"▸\";float: left;margin-right: 0.25em;color: #696969;}#sk-container-id-5 label.sk-toggleable__label-arrow:hover:before {color: black;}#sk-container-id-5 div.sk-estimator:hover label.sk-toggleable__label-arrow:before {color: black;}#sk-container-id-5 div.sk-toggleable__content {max-height: 0;max-width: 0;overflow: hidden;text-align: left;background-color: #f0f8ff;}#sk-container-id-5 div.sk-toggleable__content pre {margin: 0.2em;color: black;border-radius: 0.25em;background-color: #f0f8ff;}#sk-container-id-5 input.sk-toggleable__control:checked~div.sk-toggleable__content {max-height: 200px;max-width: 100%;overflow: auto;}#sk-container-id-5 input.sk-toggleable__control:checked~label.sk-toggleable__label-arrow:before {content: \"▾\";}#sk-container-id-5 div.sk-estimator input.sk-toggleable__control:checked~label.sk-toggleable__label {background-color: #d4ebff;}#sk-container-id-5 div.sk-label input.sk-toggleable__control:checked~label.sk-toggleable__label {background-color: #d4ebff;}#sk-container-id-5 input.sk-hidden--visually {border: 0;clip: rect(1px 1px 1px 1px);clip: rect(1px, 1px, 1px, 1px);height: 1px;margin: -1px;overflow: hidden;padding: 0;position: absolute;width: 1px;}#sk-container-id-5 div.sk-estimator {font-family: monospace;background-color: #f0f8ff;border: 1px dotted black;border-radius: 0.25em;box-sizing: border-box;margin-bottom: 0.5em;}#sk-container-id-5 div.sk-estimator:hover {background-color: #d4ebff;}#sk-container-id-5 div.sk-parallel-item::after {content: \"\";width: 100%;border-bottom: 1px solid gray;flex-grow: 1;}#sk-container-id-5 div.sk-label:hover label.sk-toggleable__label {background-color: #d4ebff;}#sk-container-id-5 div.sk-serial::before {content: \"\";position: absolute;border-left: 1px solid gray;box-sizing: border-box;top: 0;bottom: 0;left: 50%;z-index: 0;}#sk-container-id-5 div.sk-serial {display: flex;flex-direction: column;align-items: center;background-color: white;padding-right: 0.2em;padding-left: 0.2em;position: relative;}#sk-container-id-5 div.sk-item {position: relative;z-index: 1;}#sk-container-id-5 div.sk-parallel {display: flex;align-items: stretch;justify-content: center;background-color: white;position: relative;}#sk-container-id-5 div.sk-item::before, #sk-container-id-5 div.sk-parallel-item::before {content: \"\";position: absolute;border-left: 1px solid gray;box-sizing: border-box;top: 0;bottom: 0;left: 50%;z-index: -1;}#sk-container-id-5 div.sk-parallel-item {display: flex;flex-direction: column;z-index: 1;position: relative;background-color: white;}#sk-container-id-5 div.sk-parallel-item:first-child::after {align-self: flex-end;width: 50%;}#sk-container-id-5 div.sk-parallel-item:last-child::after {align-self: flex-start;width: 50%;}#sk-container-id-5 div.sk-parallel-item:only-child::after {width: 0;}#sk-container-id-5 div.sk-dashed-wrapped {border: 1px dashed gray;margin: 0 0.4em 0.5em 0.4em;box-sizing: border-box;padding-bottom: 0.4em;background-color: white;}#sk-container-id-5 div.sk-label label {font-family: monospace;font-weight: bold;display: inline-block;line-height: 1.2em;}#sk-container-id-5 div.sk-label-container {text-align: center;}#sk-container-id-5 div.sk-container {/* jupyter's `normalize.less` sets `[hidden] { display: none; }` but bootstrap.min.css set `[hidden] { display: none !important; }` so we also need the `!important` here to be able to override the default hidden behavior on the sphinx rendered scikit-learn.org. See: https://github.com/scikit-learn/scikit-learn/issues/21755 */display: inline-block !important;position: relative;}#sk-container-id-5 div.sk-text-repr-fallback {display: none;}</style><div id=\"sk-container-id-5\" class=\"sk-top-container\"><div class=\"sk-text-repr-fallback\"><pre>OneVsRestClassifier(estimator=RandomForestClassifier())</pre><b>In a Jupyter environment, please rerun this cell to show the HTML representation or trust the notebook. <br />On GitHub, the HTML representation is unable to render, please try loading this page with nbviewer.org.</b></div><div class=\"sk-container\" hidden><div class=\"sk-item sk-dashed-wrapped\"><div class=\"sk-label-container\"><div class=\"sk-label sk-toggleable\"><input class=\"sk-toggleable__control sk-hidden--visually\" id=\"sk-estimator-id-13\" type=\"checkbox\" ><label for=\"sk-estimator-id-13\" class=\"sk-toggleable__label sk-toggleable__label-arrow\">OneVsRestClassifier</label><div class=\"sk-toggleable__content\"><pre>OneVsRestClassifier(estimator=RandomForestClassifier())</pre></div></div></div><div class=\"sk-parallel\"><div class=\"sk-parallel-item\"><div class=\"sk-item\"><div class=\"sk-label-container\"><div class=\"sk-label sk-toggleable\"><input class=\"sk-toggleable__control sk-hidden--visually\" id=\"sk-estimator-id-14\" type=\"checkbox\" ><label for=\"sk-estimator-id-14\" class=\"sk-toggleable__label sk-toggleable__label-arrow\">estimator: RandomForestClassifier</label><div class=\"sk-toggleable__content\"><pre>RandomForestClassifier()</pre></div></div></div><div class=\"sk-serial\"><div class=\"sk-item\"><div class=\"sk-estimator sk-toggleable\"><input class=\"sk-toggleable__control sk-hidden--visually\" id=\"sk-estimator-id-15\" type=\"checkbox\" ><label for=\"sk-estimator-id-15\" class=\"sk-toggleable__label sk-toggleable__label-arrow\">RandomForestClassifier</label><div class=\"sk-toggleable__content\"><pre>RandomForestClassifier()</pre></div></div></div></div></div></div></div></div></div></div>"
      ],
      "text/plain": [
       "OneVsRestClassifier(estimator=RandomForestClassifier())"
      ]
     },
     "execution_count": 16,
     "metadata": {},
     "output_type": "execute_result"
    }
   ],
   "source": [
    "classifier_rf = OneVsRestClassifier(RandomForestClassifier())\n",
    "classifier_rf.fit(X_train, y_train)\n"
   ]
  },
  {
   "cell_type": "code",
   "execution_count": 17,
   "id": "fd330ea7",
   "metadata": {
    "execution": {
     "iopub.execute_input": "2024-12-12T16:43:46.144509Z",
     "iopub.status.busy": "2024-12-12T16:43:46.144152Z",
     "iopub.status.idle": "2024-12-12T16:44:54.265215Z",
     "shell.execute_reply": "2024-12-12T16:44:54.264349Z"
    },
    "papermill": {
     "duration": 68.142894,
     "end_time": "2024-12-12T16:44:54.277284",
     "exception": false,
     "start_time": "2024-12-12T16:43:46.134390",
     "status": "completed"
    },
    "tags": []
   },
   "outputs": [
    {
     "data": {
      "text/html": [
       "<style>#sk-container-id-6 {color: black;background-color: white;}#sk-container-id-6 pre{padding: 0;}#sk-container-id-6 div.sk-toggleable {background-color: white;}#sk-container-id-6 label.sk-toggleable__label {cursor: pointer;display: block;width: 100%;margin-bottom: 0;padding: 0.3em;box-sizing: border-box;text-align: center;}#sk-container-id-6 label.sk-toggleable__label-arrow:before {content: \"▸\";float: left;margin-right: 0.25em;color: #696969;}#sk-container-id-6 label.sk-toggleable__label-arrow:hover:before {color: black;}#sk-container-id-6 div.sk-estimator:hover label.sk-toggleable__label-arrow:before {color: black;}#sk-container-id-6 div.sk-toggleable__content {max-height: 0;max-width: 0;overflow: hidden;text-align: left;background-color: #f0f8ff;}#sk-container-id-6 div.sk-toggleable__content pre {margin: 0.2em;color: black;border-radius: 0.25em;background-color: #f0f8ff;}#sk-container-id-6 input.sk-toggleable__control:checked~div.sk-toggleable__content {max-height: 200px;max-width: 100%;overflow: auto;}#sk-container-id-6 input.sk-toggleable__control:checked~label.sk-toggleable__label-arrow:before {content: \"▾\";}#sk-container-id-6 div.sk-estimator input.sk-toggleable__control:checked~label.sk-toggleable__label {background-color: #d4ebff;}#sk-container-id-6 div.sk-label input.sk-toggleable__control:checked~label.sk-toggleable__label {background-color: #d4ebff;}#sk-container-id-6 input.sk-hidden--visually {border: 0;clip: rect(1px 1px 1px 1px);clip: rect(1px, 1px, 1px, 1px);height: 1px;margin: -1px;overflow: hidden;padding: 0;position: absolute;width: 1px;}#sk-container-id-6 div.sk-estimator {font-family: monospace;background-color: #f0f8ff;border: 1px dotted black;border-radius: 0.25em;box-sizing: border-box;margin-bottom: 0.5em;}#sk-container-id-6 div.sk-estimator:hover {background-color: #d4ebff;}#sk-container-id-6 div.sk-parallel-item::after {content: \"\";width: 100%;border-bottom: 1px solid gray;flex-grow: 1;}#sk-container-id-6 div.sk-label:hover label.sk-toggleable__label {background-color: #d4ebff;}#sk-container-id-6 div.sk-serial::before {content: \"\";position: absolute;border-left: 1px solid gray;box-sizing: border-box;top: 0;bottom: 0;left: 50%;z-index: 0;}#sk-container-id-6 div.sk-serial {display: flex;flex-direction: column;align-items: center;background-color: white;padding-right: 0.2em;padding-left: 0.2em;position: relative;}#sk-container-id-6 div.sk-item {position: relative;z-index: 1;}#sk-container-id-6 div.sk-parallel {display: flex;align-items: stretch;justify-content: center;background-color: white;position: relative;}#sk-container-id-6 div.sk-item::before, #sk-container-id-6 div.sk-parallel-item::before {content: \"\";position: absolute;border-left: 1px solid gray;box-sizing: border-box;top: 0;bottom: 0;left: 50%;z-index: -1;}#sk-container-id-6 div.sk-parallel-item {display: flex;flex-direction: column;z-index: 1;position: relative;background-color: white;}#sk-container-id-6 div.sk-parallel-item:first-child::after {align-self: flex-end;width: 50%;}#sk-container-id-6 div.sk-parallel-item:last-child::after {align-self: flex-start;width: 50%;}#sk-container-id-6 div.sk-parallel-item:only-child::after {width: 0;}#sk-container-id-6 div.sk-dashed-wrapped {border: 1px dashed gray;margin: 0 0.4em 0.5em 0.4em;box-sizing: border-box;padding-bottom: 0.4em;background-color: white;}#sk-container-id-6 div.sk-label label {font-family: monospace;font-weight: bold;display: inline-block;line-height: 1.2em;}#sk-container-id-6 div.sk-label-container {text-align: center;}#sk-container-id-6 div.sk-container {/* jupyter's `normalize.less` sets `[hidden] { display: none; }` but bootstrap.min.css set `[hidden] { display: none !important; }` so we also need the `!important` here to be able to override the default hidden behavior on the sphinx rendered scikit-learn.org. See: https://github.com/scikit-learn/scikit-learn/issues/21755 */display: inline-block !important;position: relative;}#sk-container-id-6 div.sk-text-repr-fallback {display: none;}</style><div id=\"sk-container-id-6\" class=\"sk-top-container\"><div class=\"sk-text-repr-fallback\"><pre>OneVsRestClassifier(estimator=XGBClassifier(base_score=None, booster=None,\n",
       "                                            callbacks=None,\n",
       "                                            colsample_bylevel=None,\n",
       "                                            colsample_bynode=None,\n",
       "                                            colsample_bytree=None, device=None,\n",
       "                                            early_stopping_rounds=None,\n",
       "                                            enable_categorical=False,\n",
       "                                            eval_metric=None,\n",
       "                                            feature_types=None, gamma=None,\n",
       "                                            grow_policy=None,\n",
       "                                            importance_type=None,\n",
       "                                            interaction_constraints=None,\n",
       "                                            learning_rate=None, max_bin=None,\n",
       "                                            max_cat_threshold=None,\n",
       "                                            max_cat_to_onehot=None,\n",
       "                                            max_delta_step=None, max_depth=None,\n",
       "                                            max_leaves=None,\n",
       "                                            min_child_weight=None, missing=nan,\n",
       "                                            monotone_constraints=None,\n",
       "                                            multi_strategy=None,\n",
       "                                            n_estimators=None, n_jobs=None,\n",
       "                                            num_parallel_tree=None,\n",
       "                                            random_state=None, ...))</pre><b>In a Jupyter environment, please rerun this cell to show the HTML representation or trust the notebook. <br />On GitHub, the HTML representation is unable to render, please try loading this page with nbviewer.org.</b></div><div class=\"sk-container\" hidden><div class=\"sk-item sk-dashed-wrapped\"><div class=\"sk-label-container\"><div class=\"sk-label sk-toggleable\"><input class=\"sk-toggleable__control sk-hidden--visually\" id=\"sk-estimator-id-16\" type=\"checkbox\" ><label for=\"sk-estimator-id-16\" class=\"sk-toggleable__label sk-toggleable__label-arrow\">OneVsRestClassifier</label><div class=\"sk-toggleable__content\"><pre>OneVsRestClassifier(estimator=XGBClassifier(base_score=None, booster=None,\n",
       "                                            callbacks=None,\n",
       "                                            colsample_bylevel=None,\n",
       "                                            colsample_bynode=None,\n",
       "                                            colsample_bytree=None, device=None,\n",
       "                                            early_stopping_rounds=None,\n",
       "                                            enable_categorical=False,\n",
       "                                            eval_metric=None,\n",
       "                                            feature_types=None, gamma=None,\n",
       "                                            grow_policy=None,\n",
       "                                            importance_type=None,\n",
       "                                            interaction_constraints=None,\n",
       "                                            learning_rate=None, max_bin=None,\n",
       "                                            max_cat_threshold=None,\n",
       "                                            max_cat_to_onehot=None,\n",
       "                                            max_delta_step=None, max_depth=None,\n",
       "                                            max_leaves=None,\n",
       "                                            min_child_weight=None, missing=nan,\n",
       "                                            monotone_constraints=None,\n",
       "                                            multi_strategy=None,\n",
       "                                            n_estimators=None, n_jobs=None,\n",
       "                                            num_parallel_tree=None,\n",
       "                                            random_state=None, ...))</pre></div></div></div><div class=\"sk-parallel\"><div class=\"sk-parallel-item\"><div class=\"sk-item\"><div class=\"sk-label-container\"><div class=\"sk-label sk-toggleable\"><input class=\"sk-toggleable__control sk-hidden--visually\" id=\"sk-estimator-id-17\" type=\"checkbox\" ><label for=\"sk-estimator-id-17\" class=\"sk-toggleable__label sk-toggleable__label-arrow\">estimator: XGBClassifier</label><div class=\"sk-toggleable__content\"><pre>XGBClassifier(base_score=None, booster=None, callbacks=None,\n",
       "              colsample_bylevel=None, colsample_bynode=None,\n",
       "              colsample_bytree=None, device=None, early_stopping_rounds=None,\n",
       "              enable_categorical=False, eval_metric=None, feature_types=None,\n",
       "              gamma=None, grow_policy=None, importance_type=None,\n",
       "              interaction_constraints=None, learning_rate=None, max_bin=None,\n",
       "              max_cat_threshold=None, max_cat_to_onehot=None,\n",
       "              max_delta_step=None, max_depth=None, max_leaves=None,\n",
       "              min_child_weight=None, missing=nan, monotone_constraints=None,\n",
       "              multi_strategy=None, n_estimators=None, n_jobs=None,\n",
       "              num_parallel_tree=None, random_state=None, ...)</pre></div></div></div><div class=\"sk-serial\"><div class=\"sk-item\"><div class=\"sk-estimator sk-toggleable\"><input class=\"sk-toggleable__control sk-hidden--visually\" id=\"sk-estimator-id-18\" type=\"checkbox\" ><label for=\"sk-estimator-id-18\" class=\"sk-toggleable__label sk-toggleable__label-arrow\">XGBClassifier</label><div class=\"sk-toggleable__content\"><pre>XGBClassifier(base_score=None, booster=None, callbacks=None,\n",
       "              colsample_bylevel=None, colsample_bynode=None,\n",
       "              colsample_bytree=None, device=None, early_stopping_rounds=None,\n",
       "              enable_categorical=False, eval_metric=None, feature_types=None,\n",
       "              gamma=None, grow_policy=None, importance_type=None,\n",
       "              interaction_constraints=None, learning_rate=None, max_bin=None,\n",
       "              max_cat_threshold=None, max_cat_to_onehot=None,\n",
       "              max_delta_step=None, max_depth=None, max_leaves=None,\n",
       "              min_child_weight=None, missing=nan, monotone_constraints=None,\n",
       "              multi_strategy=None, n_estimators=None, n_jobs=None,\n",
       "              num_parallel_tree=None, random_state=None, ...)</pre></div></div></div></div></div></div></div></div></div></div>"
      ],
      "text/plain": [
       "OneVsRestClassifier(estimator=XGBClassifier(base_score=None, booster=None,\n",
       "                                            callbacks=None,\n",
       "                                            colsample_bylevel=None,\n",
       "                                            colsample_bynode=None,\n",
       "                                            colsample_bytree=None, device=None,\n",
       "                                            early_stopping_rounds=None,\n",
       "                                            enable_categorical=False,\n",
       "                                            eval_metric=None,\n",
       "                                            feature_types=None, gamma=None,\n",
       "                                            grow_policy=None,\n",
       "                                            importance_type=None,\n",
       "                                            interaction_constraints=None,\n",
       "                                            learning_rate=None, max_bin=None,\n",
       "                                            max_cat_threshold=None,\n",
       "                                            max_cat_to_onehot=None,\n",
       "                                            max_delta_step=None, max_depth=None,\n",
       "                                            max_leaves=None,\n",
       "                                            min_child_weight=None, missing=nan,\n",
       "                                            monotone_constraints=None,\n",
       "                                            multi_strategy=None,\n",
       "                                            n_estimators=None, n_jobs=None,\n",
       "                                            num_parallel_tree=None,\n",
       "                                            random_state=None, ...))"
      ]
     },
     "execution_count": 17,
     "metadata": {},
     "output_type": "execute_result"
    }
   ],
   "source": [
    "classifier_xgb = OneVsRestClassifier(XGBClassifier())\n",
    "classifier_xgb.fit(X_train, y_train)\n"
   ]
  },
  {
   "cell_type": "markdown",
   "id": "4d66232a",
   "metadata": {
    "papermill": {
     "duration": 0.008363,
     "end_time": "2024-12-12T16:44:54.294558",
     "exception": false,
     "start_time": "2024-12-12T16:44:54.286195",
     "status": "completed"
    },
    "tags": []
   },
   "source": [
    "## 5. Model Evaluation\n",
    "\n",
    "Now that we've trained the models, let's evaluate them in more detail.\n"
   ]
  },
  {
   "cell_type": "code",
   "execution_count": 18,
   "id": "2010b7df",
   "metadata": {
    "execution": {
     "iopub.execute_input": "2024-12-12T16:44:54.314285Z",
     "iopub.status.busy": "2024-12-12T16:44:54.313841Z",
     "iopub.status.idle": "2024-12-12T16:44:54.408450Z",
     "shell.execute_reply": "2024-12-12T16:44:54.407032Z"
    },
    "papermill": {
     "duration": 0.111114,
     "end_time": "2024-12-12T16:44:54.415131",
     "exception": false,
     "start_time": "2024-12-12T16:44:54.304017",
     "status": "completed"
    },
    "tags": []
   },
   "outputs": [
    {
     "name": "stdout",
     "output_type": "stream",
     "text": [
      "Accuracy:\t0.55\n",
      "                          precision    recall  f1-score   support\n",
      "\n",
      "  computer certification       0.36      0.53      0.43        15\n",
      "          computer crime       0.41      0.42      0.42        40\n",
      "        computer reviews       0.46      0.29      0.35        21\n",
      "       computer security       0.79      0.77      0.78      1466\n",
      "    consumer electronics       0.89      0.65      0.75       320\n",
      "            data centers       0.15      0.50      0.24         4\n",
      "   electronic components       0.90      0.90      0.90        10\n",
      "   enterprise technology       0.58      0.44      0.50        32\n",
      "                hardware       0.71      0.41      0.52       485\n",
      "     internet technology       0.60      0.34      0.44       102\n",
      "            mp3 and midi       0.35      0.31      0.33        26\n",
      "              networking       0.68      0.35      0.46       118\n",
      "       operating systems       0.68      0.57      0.62       187\n",
      "   programming languages       0.81      0.57      0.67       168\n",
      "                software       0.76      0.60      0.67       737\n",
      "               tech news       0.42      0.33      0.37        30\n",
      "       technical support       0.50      0.29      0.36         7\n",
      "technological innovation       0.67      0.50      0.57         4\n",
      "\n",
      "               micro avg       0.76      0.62      0.68      3772\n",
      "               macro avg       0.60      0.49      0.52      3772\n",
      "            weighted avg       0.75      0.62      0.67      3772\n",
      "             samples avg       0.46      0.43      0.43      3772\n",
      "\n"
     ]
    }
   ],
   "source": [
    "y_pred = classifier_lr.predict(X_val)\n",
    "accuracy = accuracy_score(y_val, y_pred)\n",
    "\n",
    "print(f\"Accuracy:\\t{accuracy:.2f}\")\n",
    "print(classification_report(y_val, y_pred, target_names=mlb.classes_, zero_division=0))\n"
   ]
  },
  {
   "cell_type": "code",
   "execution_count": 19,
   "id": "5b60117c",
   "metadata": {
    "execution": {
     "iopub.execute_input": "2024-12-12T16:44:54.469544Z",
     "iopub.status.busy": "2024-12-12T16:44:54.468057Z",
     "iopub.status.idle": "2024-12-12T16:44:54.741932Z",
     "shell.execute_reply": "2024-12-12T16:44:54.740317Z"
    },
    "papermill": {
     "duration": 0.304682,
     "end_time": "2024-12-12T16:44:54.744807",
     "exception": false,
     "start_time": "2024-12-12T16:44:54.440125",
     "status": "completed"
    },
    "tags": []
   },
   "outputs": [
    {
     "name": "stdout",
     "output_type": "stream",
     "text": [
      "Accuracy:\t0.14\n",
      "                          precision    recall  f1-score   support\n",
      "\n",
      "  computer certification       0.02      0.67      0.03        15\n",
      "          computer crime       0.04      0.72      0.07        40\n",
      "        computer reviews       0.02      0.81      0.04        21\n",
      "       computer security       0.54      0.69      0.60      1466\n",
      "    consumer electronics       0.38      0.47      0.42       320\n",
      "            data centers       0.00      0.75      0.01         4\n",
      "   electronic components       0.02      0.90      0.04        10\n",
      "   enterprise technology       0.03      0.59      0.05        32\n",
      "                hardware       0.21      0.73      0.33       485\n",
      "     internet technology       0.07      0.49      0.12       102\n",
      "            mp3 and midi       0.04      0.38      0.06        26\n",
      "              networking       0.08      0.58      0.14       118\n",
      "       operating systems       0.12      0.63      0.21       187\n",
      "   programming languages       0.12      0.61      0.20       168\n",
      "                software       0.37      0.75      0.49       737\n",
      "               tech news       0.02      0.67      0.05        30\n",
      "       technical support       0.00      0.29      0.01         7\n",
      "technological innovation       0.01      0.75      0.01         4\n",
      "\n",
      "               micro avg       0.17      0.67      0.27      3772\n",
      "               macro avg       0.12      0.64      0.16      3772\n",
      "            weighted avg       0.36      0.67      0.44      3772\n",
      "             samples avg       0.17      0.45      0.22      3772\n",
      "\n"
     ]
    }
   ],
   "source": [
    "y_pred = classifier_gnb.predict(X_val)\n",
    "accuracy = accuracy_score(y_val, y_pred)\n",
    "\n",
    "print(f\"Accuracy:\\t{accuracy:.2f}\")\n",
    "print(classification_report(y_val, y_pred, target_names=mlb.classes_, zero_division=0))\n"
   ]
  },
  {
   "cell_type": "code",
   "execution_count": 20,
   "id": "a38ddce8",
   "metadata": {
    "execution": {
     "iopub.execute_input": "2024-12-12T16:44:54.763755Z",
     "iopub.status.busy": "2024-12-12T16:44:54.763335Z",
     "iopub.status.idle": "2024-12-12T16:44:54.831008Z",
     "shell.execute_reply": "2024-12-12T16:44:54.829742Z"
    },
    "papermill": {
     "duration": 0.080061,
     "end_time": "2024-12-12T16:44:54.833452",
     "exception": false,
     "start_time": "2024-12-12T16:44:54.753391",
     "status": "completed"
    },
    "tags": []
   },
   "outputs": [
    {
     "name": "stdout",
     "output_type": "stream",
     "text": [
      "Accuracy:\t0.49\n",
      "                          precision    recall  f1-score   support\n",
      "\n",
      "  computer certification       0.21      0.40      0.27        15\n",
      "          computer crime       0.27      0.30      0.28        40\n",
      "        computer reviews       0.21      0.29      0.24        21\n",
      "       computer security       0.69      0.72      0.70      1466\n",
      "    consumer electronics       0.64      0.72      0.67       320\n",
      "            data centers       0.20      0.50      0.29         4\n",
      "   electronic components       0.35      0.70      0.47        10\n",
      "   enterprise technology       0.43      0.47      0.45        32\n",
      "                hardware       0.53      0.55      0.54       485\n",
      "     internet technology       0.32      0.52      0.40       102\n",
      "            mp3 and midi       0.20      0.31      0.24        26\n",
      "              networking       0.44      0.42      0.43       118\n",
      "       operating systems       0.44      0.51      0.48       187\n",
      "   programming languages       0.47      0.52      0.49       168\n",
      "                software       0.61      0.65      0.63       737\n",
      "               tech news       0.14      0.20      0.16        30\n",
      "       technical support       0.17      0.14      0.15         7\n",
      "technological innovation       0.25      0.25      0.25         4\n",
      "\n",
      "               micro avg       0.58      0.63      0.60      3772\n",
      "               macro avg       0.36      0.45      0.40      3772\n",
      "            weighted avg       0.59      0.63      0.61      3772\n",
      "             samples avg       0.43      0.43      0.42      3772\n",
      "\n"
     ]
    }
   ],
   "source": [
    "y_pred = classifier_dt.predict(X_val)\n",
    "accuracy = accuracy_score(y_val, y_pred)\n",
    "\n",
    "print(f\"Accuracy:\\t{accuracy:.2f}\")\n",
    "print(classification_report(y_val, y_pred, target_names=mlb.classes_, zero_division=0))\n"
   ]
  },
  {
   "cell_type": "code",
   "execution_count": 21,
   "id": "6428ec02",
   "metadata": {
    "execution": {
     "iopub.execute_input": "2024-12-12T16:44:54.853578Z",
     "iopub.status.busy": "2024-12-12T16:44:54.853208Z",
     "iopub.status.idle": "2024-12-12T16:45:28.545379Z",
     "shell.execute_reply": "2024-12-12T16:45:28.544131Z"
    },
    "papermill": {
     "duration": 33.713393,
     "end_time": "2024-12-12T16:45:28.556551",
     "exception": false,
     "start_time": "2024-12-12T16:44:54.843158",
     "status": "completed"
    },
    "tags": []
   },
   "outputs": [
    {
     "name": "stdout",
     "output_type": "stream",
     "text": [
      "Accuracy:\t0.53\n",
      "                          precision    recall  f1-score   support\n",
      "\n",
      "  computer certification       0.00      0.00      0.00        15\n",
      "          computer crime       0.00      0.00      0.00        40\n",
      "        computer reviews       0.00      0.00      0.00        21\n",
      "       computer security       0.78      0.78      0.78      1466\n",
      "    consumer electronics       0.98      0.55      0.70       320\n",
      "            data centers       0.00      0.00      0.00         4\n",
      "   electronic components       0.80      0.40      0.53        10\n",
      "   enterprise technology       1.00      0.38      0.55        32\n",
      "                hardware       0.99      0.15      0.26       485\n",
      "     internet technology       1.00      0.19      0.31       102\n",
      "            mp3 and midi       0.00      0.00      0.00        26\n",
      "              networking       0.00      0.00      0.00       118\n",
      "       operating systems       0.81      0.32      0.45       187\n",
      "   programming languages       0.98      0.27      0.42       168\n",
      "                software       0.83      0.56      0.67       737\n",
      "               tech news       0.00      0.00      0.00        30\n",
      "       technical support       0.00      0.00      0.00         7\n",
      "technological innovation       0.00      0.00      0.00         4\n",
      "\n",
      "               micro avg       0.82      0.51      0.63      3772\n",
      "               macro avg       0.45      0.20      0.26      3772\n",
      "            weighted avg       0.80      0.51      0.58      3772\n",
      "             samples avg       0.44      0.37      0.39      3772\n",
      "\n"
     ]
    }
   ],
   "source": [
    "y_pred = classifier_svm.predict(X_val)\n",
    "accuracy = accuracy_score(y_val, y_pred)\n",
    "\n",
    "print(f\"Accuracy:\\t{accuracy:.2f}\")\n",
    "print(classification_report(y_val, y_pred, target_names=mlb.classes_, zero_division=0))\n"
   ]
  },
  {
   "cell_type": "code",
   "execution_count": 22,
   "id": "86d95a4b",
   "metadata": {
    "execution": {
     "iopub.execute_input": "2024-12-12T16:45:28.576097Z",
     "iopub.status.busy": "2024-12-12T16:45:28.575631Z",
     "iopub.status.idle": "2024-12-12T16:45:29.634970Z",
     "shell.execute_reply": "2024-12-12T16:45:29.633664Z"
    },
    "papermill": {
     "duration": 1.071984,
     "end_time": "2024-12-12T16:45:29.637553",
     "exception": false,
     "start_time": "2024-12-12T16:45:28.565569",
     "status": "completed"
    },
    "tags": []
   },
   "outputs": [
    {
     "name": "stdout",
     "output_type": "stream",
     "text": [
      "Accuracy:\t0.65\n",
      "                          precision    recall  f1-score   support\n",
      "\n",
      "  computer certification       1.00      0.27      0.42        15\n",
      "          computer crime       1.00      0.25      0.40        40\n",
      "        computer reviews       1.00      0.24      0.38        21\n",
      "       computer security       0.87      0.75      0.80      1466\n",
      "    consumer electronics       0.99      0.68      0.81       320\n",
      "            data centers       1.00      0.50      0.67         4\n",
      "   electronic components       1.00      0.70      0.82        10\n",
      "   enterprise technology       1.00      0.44      0.61        32\n",
      "                hardware       0.98      0.41      0.57       485\n",
      "     internet technology       0.98      0.48      0.64       102\n",
      "            mp3 and midi       0.86      0.23      0.36        26\n",
      "              networking       0.95      0.30      0.45       118\n",
      "       operating systems       0.95      0.40      0.56       187\n",
      "   programming languages       0.99      0.45      0.62       168\n",
      "                software       0.94      0.60      0.73       737\n",
      "               tech news       1.00      0.17      0.29        30\n",
      "       technical support       1.00      0.14      0.25         7\n",
      "technological innovation       1.00      0.25      0.40         4\n",
      "\n",
      "               micro avg       0.91      0.59      0.72      3772\n",
      "               macro avg       0.97      0.40      0.54      3772\n",
      "            weighted avg       0.93      0.59      0.71      3772\n",
      "             samples avg       0.45      0.41      0.42      3772\n",
      "\n"
     ]
    }
   ],
   "source": [
    "y_pred = classifier_rf.predict(X_val)\n",
    "accuracy = accuracy_score(y_val, y_pred)\n",
    "\n",
    "print(f\"Accuracy:\\t{accuracy:.2f}\")\n",
    "print(classification_report(y_val, y_pred, target_names=mlb.classes_, zero_division=0))\n"
   ]
  },
  {
   "cell_type": "code",
   "execution_count": 23,
   "id": "e399fa1d",
   "metadata": {
    "execution": {
     "iopub.execute_input": "2024-12-12T16:45:29.658349Z",
     "iopub.status.busy": "2024-12-12T16:45:29.656759Z",
     "iopub.status.idle": "2024-12-12T16:45:29.831998Z",
     "shell.execute_reply": "2024-12-12T16:45:29.830384Z"
    },
    "papermill": {
     "duration": 0.18835,
     "end_time": "2024-12-12T16:45:29.834838",
     "exception": false,
     "start_time": "2024-12-12T16:45:29.646488",
     "status": "completed"
    },
    "tags": []
   },
   "outputs": [
    {
     "name": "stdout",
     "output_type": "stream",
     "text": [
      "Accuracy:\t0.66\n",
      "                          precision    recall  f1-score   support\n",
      "\n",
      "  computer certification       1.00      0.53      0.70        15\n",
      "          computer crime       0.92      0.30      0.45        40\n",
      "        computer reviews       1.00      0.29      0.44        21\n",
      "       computer security       0.83      0.81      0.82      1466\n",
      "    consumer electronics       0.98      0.72      0.83       320\n",
      "            data centers       1.00      0.50      0.67         4\n",
      "   electronic components       1.00      0.70      0.82        10\n",
      "   enterprise technology       1.00      0.44      0.61        32\n",
      "                hardware       0.88      0.53      0.66       485\n",
      "     internet technology       0.98      0.50      0.66       102\n",
      "            mp3 and midi       0.86      0.23      0.36        26\n",
      "              networking       0.92      0.37      0.53       118\n",
      "       operating systems       0.90      0.56      0.69       187\n",
      "   programming languages       0.98      0.57      0.72       168\n",
      "                software       0.85      0.69      0.76       737\n",
      "               tech news       0.71      0.17      0.27        30\n",
      "       technical support       1.00      0.14      0.25         7\n",
      "technological innovation       1.00      0.25      0.40         4\n",
      "\n",
      "               micro avg       0.86      0.67      0.76      3772\n",
      "               macro avg       0.93      0.46      0.59      3772\n",
      "            weighted avg       0.87      0.67      0.75      3772\n",
      "             samples avg       0.49      0.46      0.47      3772\n",
      "\n"
     ]
    }
   ],
   "source": [
    "y_pred = classifier_xgb.predict(X_val)\n",
    "accuracy = accuracy_score(y_val, y_pred)\n",
    "\n",
    "print(f\"Accuracy:\\t{accuracy:.2f}\")\n",
    "print(classification_report(y_val, y_pred, target_names=mlb.classes_, zero_division=0))\n"
   ]
  },
  {
   "cell_type": "code",
   "execution_count": 24,
   "id": "868f0bb4",
   "metadata": {
    "execution": {
     "iopub.execute_input": "2024-12-12T16:45:29.860767Z",
     "iopub.status.busy": "2024-12-12T16:45:29.860387Z",
     "iopub.status.idle": "2024-12-12T16:45:29.866805Z",
     "shell.execute_reply": "2024-12-12T16:45:29.865410Z"
    },
    "papermill": {
     "duration": 0.021775,
     "end_time": "2024-12-12T16:45:29.869070",
     "exception": false,
     "start_time": "2024-12-12T16:45:29.847295",
     "status": "completed"
    },
    "tags": []
   },
   "outputs": [],
   "source": [
    "def xgboost_hyper_param(learning_rate, n_estimators, max_depth, subsample, colsample, gamma):\n",
    "    max_depth = int(max_depth)\n",
    "    n_estimators = int(n_estimators)\n",
    "\n",
    "    clf = OneVsRestClassifier(XGBClassifier(\n",
    "        max_depth=max_depth,\n",
    "        learning_rate=learning_rate,\n",
    "        n_estimators=n_estimators,\n",
    "        gamma=gamma\n",
    "    ))\n",
    "    return numpy.mean(cross_val_score(clf, X_train_val, y_train_val, cv=3, scoring='roc_auc'))\n"
   ]
  },
  {
   "cell_type": "code",
   "execution_count": 25,
   "id": "53ac25e4",
   "metadata": {
    "execution": {
     "iopub.execute_input": "2024-12-12T16:45:29.890808Z",
     "iopub.status.busy": "2024-12-12T16:45:29.890443Z",
     "iopub.status.idle": "2024-12-12T17:53:25.953842Z",
     "shell.execute_reply": "2024-12-12T17:53:25.952639Z"
    },
    "papermill": {
     "duration": 4076.086807,
     "end_time": "2024-12-12T17:53:25.965450",
     "exception": false,
     "start_time": "2024-12-12T16:45:29.878643",
     "status": "completed"
    },
    "tags": []
   },
   "outputs": [
    {
     "name": "stdout",
     "output_type": "stream",
     "text": [
      "|   iter    |  target   | colsample |   gamma   | learni... | max_depth | n_esti... | subsample |\n",
      "-------------------------------------------------------------------------------------------------\n",
      "| \u001b[39m1        \u001b[39m | \u001b[39m0.8434   \u001b[39m | \u001b[39m1.0      \u001b[39m | \u001b[39m4.754    \u001b[39m | \u001b[39m0.7347   \u001b[39m | \u001b[39m7.191    \u001b[39m | \u001b[39m240.4    \u001b[39m | \u001b[39m1.0      \u001b[39m |\n",
      "| \u001b[35m2        \u001b[39m | \u001b[35m0.8471   \u001b[39m | \u001b[35m1.0      \u001b[39m | \u001b[35m4.331    \u001b[39m | \u001b[35m0.6051   \u001b[39m | \u001b[35m7.957    \u001b[39m | \u001b[35m118.5    \u001b[39m | \u001b[35m1.0      \u001b[39m |\n",
      "| \u001b[35m3        \u001b[39m | \u001b[35m0.8906   \u001b[39m | \u001b[35m1.0      \u001b[39m | \u001b[35m1.062    \u001b[39m | \u001b[35m0.19     \u001b[39m | \u001b[35m4.284    \u001b[39m | \u001b[35m373.8    \u001b[39m | \u001b[35m1.0      \u001b[39m |\n",
      "| \u001b[39m4        \u001b[39m | \u001b[39m0.865    \u001b[39m | \u001b[39m1.0      \u001b[39m | \u001b[39m1.456    \u001b[39m | \u001b[39m0.6157   \u001b[39m | \u001b[39m3.976    \u001b[39m | \u001b[39m362.9    \u001b[39m | \u001b[39m1.0      \u001b[39m |\n",
      "| \u001b[39m5        \u001b[39m | \u001b[39m0.8719   \u001b[39m | \u001b[39m1.0      \u001b[39m | \u001b[39m3.926    \u001b[39m | \u001b[39m0.2077   \u001b[39m | \u001b[39m6.6      \u001b[39m | \u001b[39m633.2    \u001b[39m | \u001b[39m1.0      \u001b[39m |\n",
      "| \u001b[39m6        \u001b[39m | \u001b[39m0.8484   \u001b[39m | \u001b[39m1.0      \u001b[39m | \u001b[39m1.138    \u001b[39m | \u001b[39m0.897    \u001b[39m | \u001b[39m5.391    \u001b[39m | \u001b[39m378.4    \u001b[39m | \u001b[39m1.0      \u001b[39m |\n",
      "| \u001b[39m7        \u001b[39m | \u001b[39m0.8504   \u001b[39m | \u001b[39m1.0      \u001b[39m | \u001b[39m3.564    \u001b[39m | \u001b[39m0.7433   \u001b[39m | \u001b[39m4.095    \u001b[39m | \u001b[39m670.4    \u001b[39m | \u001b[39m1.0      \u001b[39m |\n",
      "| \u001b[39m8        \u001b[39m | \u001b[39m0.8673   \u001b[39m | \u001b[39m1.0      \u001b[39m | \u001b[39m4.962    \u001b[39m | \u001b[39m0.2218   \u001b[39m | \u001b[39m7.907    \u001b[39m | \u001b[39m546.1    \u001b[39m | \u001b[39m1.0      \u001b[39m |\n",
      "| \u001b[39m9        \u001b[39m | \u001b[39m0.845    \u001b[39m | \u001b[39m1.0      \u001b[39m | \u001b[39m2.678    \u001b[39m | \u001b[39m0.8958   \u001b[39m | \u001b[39m6.201    \u001b[39m | \u001b[39m480.2    \u001b[39m | \u001b[39m1.0      \u001b[39m |\n",
      "| \u001b[35m10       \u001b[39m | \u001b[35m0.8927   \u001b[39m | \u001b[35m1.0      \u001b[39m | \u001b[35m0.8072   \u001b[39m | \u001b[35m0.1489   \u001b[39m | \u001b[35m3.011    \u001b[39m | \u001b[35m998.2    \u001b[39m | \u001b[35m1.0      \u001b[39m |\n",
      "| \u001b[39m11       \u001b[39m | \u001b[39m0.8745   \u001b[39m | \u001b[39m1.0      \u001b[39m | \u001b[39m2.184    \u001b[39m | \u001b[39m0.4276   \u001b[39m | \u001b[39m3.213    \u001b[39m | \u001b[39m168.1    \u001b[39m | \u001b[39m1.0      \u001b[39m |\n",
      "| \u001b[39m12       \u001b[39m | \u001b[39m0.8595   \u001b[39m | \u001b[39m1.0      \u001b[39m | \u001b[39m3.627    \u001b[39m | \u001b[39m0.5259   \u001b[39m | \u001b[39m8.192    \u001b[39m | \u001b[39m170.4    \u001b[39m | \u001b[39m1.0      \u001b[39m |\n",
      "| \u001b[39m13       \u001b[39m | \u001b[39m0.8569   \u001b[39m | \u001b[39m1.0      \u001b[39m | \u001b[39m3.958    \u001b[39m | \u001b[39m0.5806   \u001b[39m | \u001b[39m5.733    \u001b[39m | \u001b[39m615.1    \u001b[39m | \u001b[39m1.0      \u001b[39m |\n",
      "| \u001b[39m14       \u001b[39m | \u001b[39m0.8712   \u001b[39m | \u001b[39m1.0      \u001b[39m | \u001b[39m0.1434   \u001b[39m | \u001b[39m0.7759   \u001b[39m | \u001b[39m7.666    \u001b[39m | \u001b[39m721.0    \u001b[39m | \u001b[39m1.0      \u001b[39m |\n",
      "| \u001b[39m15       \u001b[39m | \u001b[39m0.8827   \u001b[39m | \u001b[39m1.0      \u001b[39m | \u001b[39m1.673    \u001b[39m | \u001b[39m0.3426   \u001b[39m | \u001b[39m9.586    \u001b[39m | \u001b[39m592.9    \u001b[39m | \u001b[39m1.0      \u001b[39m |\n",
      "| \u001b[39m16       \u001b[39m | \u001b[39m0.8718   \u001b[39m | \u001b[39m1.0      \u001b[39m | \u001b[39m4.905    \u001b[39m | \u001b[39m0.2721   \u001b[39m | \u001b[39m6.674    \u001b[39m | \u001b[39m353.7    \u001b[39m | \u001b[39m1.0      \u001b[39m |\n",
      "| \u001b[39m17       \u001b[39m | \u001b[39m0.855    \u001b[39m | \u001b[39m1.0      \u001b[39m | \u001b[39m1.759    \u001b[39m | \u001b[39m0.7477   \u001b[39m | \u001b[39m7.77     \u001b[39m | \u001b[39m607.9    \u001b[39m | \u001b[39m1.0      \u001b[39m |\n",
      "| \u001b[39m18       \u001b[39m | \u001b[39m0.8692   \u001b[39m | \u001b[39m1.0      \u001b[39m | \u001b[39m3.388    \u001b[39m | \u001b[39m0.4924   \u001b[39m | \u001b[39m3.642    \u001b[39m | \u001b[39m113.7    \u001b[39m | \u001b[39m1.0      \u001b[39m |\n",
      "| \u001b[39m19       \u001b[39m | \u001b[39m0.8603   \u001b[39m | \u001b[39m1.0      \u001b[39m | \u001b[39m4.351    \u001b[39m | \u001b[39m0.5637   \u001b[39m | \u001b[39m5.315    \u001b[39m | \u001b[39m955.5    \u001b[39m | \u001b[39m1.0      \u001b[39m |\n",
      "| \u001b[39m20       \u001b[39m | \u001b[39m0.8763   \u001b[39m | \u001b[39m1.0      \u001b[39m | \u001b[39m0.6983   \u001b[39m | \u001b[39m0.4824   \u001b[39m | \u001b[39m6.734    \u001b[39m | \u001b[39m199.9    \u001b[39m | \u001b[39m1.0      \u001b[39m |\n",
      "=================================================================================================\n"
     ]
    }
   ],
   "source": [
    "# Define the hyperparameter space\n",
    "pbounds = {\n",
    "    'learning_rate': (0.01, 1.0),\n",
    "    'n_estimators': (100, 1000),\n",
    "    'max_depth': (3,10),\n",
    "    'subsample': (1.0, 1.0),  # Change for big datasets\n",
    "    'colsample': (1.0, 1.0),  # Change for datasets with lots of features\n",
    "    'gamma': (0, 5)\n",
    "}\n",
    "\n",
    "optimizer = BayesianOptimization(\n",
    "    f=xgboost_hyper_param,\n",
    "    pbounds=pbounds,\n",
    "    random_state=RANDOM_STATE\n",
    ")\n",
    "optimizer.maximize(n_iter=15)\n"
   ]
  },
  {
   "cell_type": "code",
   "execution_count": 26,
   "id": "f41fedfe",
   "metadata": {
    "execution": {
     "iopub.execute_input": "2024-12-12T17:53:25.987763Z",
     "iopub.status.busy": "2024-12-12T17:53:25.987344Z",
     "iopub.status.idle": "2024-12-12T17:53:25.996542Z",
     "shell.execute_reply": "2024-12-12T17:53:25.995494Z"
    },
    "papermill": {
     "duration": 0.023029,
     "end_time": "2024-12-12T17:53:25.998652",
     "exception": false,
     "start_time": "2024-12-12T17:53:25.975623",
     "status": "completed"
    },
    "tags": []
   },
   "outputs": [
    {
     "name": "stdout",
     "output_type": "stream",
     "text": [
      "Best Parameter Setting : {'colsample': 1.0, 'gamma': 0.8071542285606459, 'learning_rate': 0.148857389184163, 'max_depth': 3.010612993602497, 'n_estimators': 998.1918782470218, 'subsample': 1.0}\n",
      "Best Target Value      : 0.8926889512788782\n"
     ]
    },
    {
     "data": {
      "text/plain": [
       "<function sklearn.metrics._classification.classification_report(y_true, y_pred, *, labels=None, target_names=None, sample_weight=None, digits=2, output_dict=False, zero_division='warn')>"
      ]
     },
     "execution_count": 26,
     "metadata": {},
     "output_type": "execute_result"
    }
   ],
   "source": [
    "print(\"Best Parameter Setting : {}\".format(optimizer.max[\"params\"]))\n",
    "print(\"Best Target Value      : {}\".format(optimizer.max[\"target\"]))\n",
    "classification_report"
   ]
  },
  {
   "cell_type": "code",
   "execution_count": 27,
   "id": "6f61988d",
   "metadata": {
    "execution": {
     "iopub.execute_input": "2024-12-12T17:53:26.020894Z",
     "iopub.status.busy": "2024-12-12T17:53:26.020410Z",
     "iopub.status.idle": "2024-12-12T17:56:04.888112Z",
     "shell.execute_reply": "2024-12-12T17:56:04.886967Z"
    },
    "papermill": {
     "duration": 158.8918,
     "end_time": "2024-12-12T17:56:04.900789",
     "exception": false,
     "start_time": "2024-12-12T17:53:26.008989",
     "status": "completed"
    },
    "tags": []
   },
   "outputs": [
    {
     "name": "stdout",
     "output_type": "stream",
     "text": [
      "Accuracy:\t0.67\n",
      "                          precision    recall  f1-score   support\n",
      "\n",
      "  computer certification       0.88      0.47      0.61        15\n",
      "          computer crime       1.00      0.33      0.49        40\n",
      "        computer reviews       1.00      0.29      0.44        21\n",
      "       computer security       0.84      0.83      0.84      1466\n",
      "    consumer electronics       0.97      0.71      0.82       320\n",
      "            data centers       1.00      0.50      0.67         4\n",
      "   electronic components       1.00      0.70      0.82        10\n",
      "   enterprise technology       1.00      0.41      0.58        32\n",
      "                hardware       0.86      0.54      0.66       485\n",
      "     internet technology       0.96      0.49      0.65       102\n",
      "            mp3 and midi       0.75      0.23      0.35        26\n",
      "              networking       0.89      0.41      0.56       118\n",
      "       operating systems       0.92      0.58      0.71       187\n",
      "   programming languages       0.96      0.56      0.71       168\n",
      "                software       0.86      0.69      0.77       737\n",
      "               tech news       1.00      0.17      0.29        30\n",
      "       technical support       1.00      0.14      0.25         7\n",
      "technological innovation       0.50      0.25      0.33         4\n",
      "\n",
      "               micro avg       0.87      0.68      0.77      3772\n",
      "               macro avg       0.91      0.46      0.59      3772\n",
      "            weighted avg       0.88      0.68      0.75      3772\n",
      "             samples avg       0.50      0.47      0.47      3772\n",
      "\n"
     ]
    }
   ],
   "source": [
    "max_depth = int(optimizer.max[\"params\"][\"max_depth\"])\n",
    "n_estimators = int(optimizer.max[\"params\"][\"n_estimators\"])\n",
    "\n",
    "optimal_classifier_xgb = XGBClassifier(\n",
    "    max_depth=max_depth,\n",
    "    learning_rate=optimizer.max[\"params\"][\"learning_rate\"],\n",
    "    n_estimators=n_estimators,\n",
    "    gamma=optimizer.max[\"params\"][\"gamma\"]\n",
    ")\n",
    "optimal_classifier_xgb.fit(X_train, y_train)\n",
    "\n",
    "y_pred = optimal_classifier_xgb.predict(X_val)\n",
    "accuracy = accuracy_score(y_val, y_pred)\n",
    "\n",
    "print(f\"Accuracy:\\t{accuracy:.2f}\")\n",
    "print(classification_report(y_val, y_pred, target_names=mlb.classes_, zero_division=0))\n"
   ]
  }
 ],
 "metadata": {
  "kaggle": {
   "accelerator": "none",
   "dataSources": [
    {
     "datasetId": 870709,
     "sourceId": 1483651,
     "sourceType": "datasetVersion"
    },
    {
     "datasetId": 4678553,
     "sourceId": 7954760,
     "sourceType": "datasetVersion"
    }
   ],
   "dockerImageVersionId": 30804,
   "isGpuEnabled": false,
   "isInternetEnabled": true,
   "language": "python",
   "sourceType": "notebook"
  },
  "kernelspec": {
   "display_name": "Python 3",
   "language": "python",
   "name": "python3"
  },
  "language_info": {
   "codemirror_mode": {
    "name": "ipython",
    "version": 3
   },
   "file_extension": ".py",
   "mimetype": "text/x-python",
   "name": "python",
   "nbconvert_exporter": "python",
   "pygments_lexer": "ipython3",
   "version": "3.10.14"
  },
  "papermill": {
   "default_parameters": {},
   "duration": 5394.913296,
   "end_time": "2024-12-12T17:56:06.436689",
   "environment_variables": {},
   "exception": null,
   "input_path": "__notebook__.ipynb",
   "output_path": "__notebook__.ipynb",
   "parameters": {},
   "start_time": "2024-12-12T16:26:11.523393",
   "version": "2.6.0"
  }
 },
 "nbformat": 4,
 "nbformat_minor": 5
}
