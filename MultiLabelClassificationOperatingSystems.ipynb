{
 "cells": [
  {
   "cell_type": "markdown",
   "id": "e47e11e2",
   "metadata": {
    "papermill": {
     "duration": 0.007277,
     "end_time": "2024-12-12T16:26:14.553663",
     "exception": false,
     "start_time": "2024-12-12T16:26:14.546386",
     "status": "completed"
    },
    "tags": []
   },
   "source": [
    "# Multi-Class Classification with Machine Learning\n",
    "In this notebook, we will explore various machine learning models to solve a multi-class classification problem. We will evaluate and compare the performance of different algorithms on the dataset.\n"
   ]
  },
  {
   "metadata": {
    "execution": {
     "iopub.execute_input": "2024-12-12T16:26:14.569199Z",
     "iopub.status.busy": "2024-12-12T16:26:14.568776Z",
     "iopub.status.idle": "2024-12-12T16:26:17.993533Z",
     "shell.execute_reply": "2024-12-12T16:26:17.992503Z"
    },
    "papermill": {
     "duration": 3.435545,
     "end_time": "2024-12-12T16:26:17.996431",
     "exception": false,
     "start_time": "2024-12-12T16:26:14.560886",
     "status": "completed"
    },
    "tags": []
   },
   "cell_type": "code",
   "source": [
    "import ast\n",
    "import random\n",
    "from collections import Counter\n",
    "from pathlib import Path\n",
    "\n",
    "import joblib\n",
    "import numpy as np\n",
    "import pandas as pd\n",
    "import xgboost as xgb\n",
    "from sklearn.ensemble import RandomForestClassifier\n",
    "from sklearn.linear_model import LogisticRegression\n",
    "from sklearn.metrics import accuracy_score, classification_report\n",
    "from sklearn.model_selection import train_test_split\n",
    "from sklearn.multiclass import OneVsRestClassifier\n",
    "from sklearn.naive_bayes import GaussianNB\n",
    "from sklearn.preprocessing import MultiLabelBinarizer\n",
    "from sklearn.tree import DecisionTreeClassifier\n",
    "from skmultilearn.model_selection import iterative_train_test_split\n",
    "from tqdm import tqdm\n",
    "\n",
    "from preprocess_functions import build_tree, extract_keys, preprocess_texts\n",
    "from utils import CalibratedLabelRankClassifier, ChainOfClassifiers, LabelPowersetClassifier, \\\n",
    "    assess_models, prune_and_subsample, ConditionalDependencyNetwork, MetaBinaryRelevance\n"
   ],
   "id": "3725615c",
   "outputs": [],
   "execution_count": null
  },
  {
   "metadata": {},
   "cell_type": "code",
   "source": [
    "OVERWRITE = False\n",
    "RANDOM_STATE = 42\n",
    "\n",
    "np.random.seed(RANDOM_STATE)\n",
    "random.seed(RANDOM_STATE)\n"
   ],
   "id": "30ed7102e0110c7f",
   "outputs": [],
   "execution_count": null
  },
  {
   "cell_type": "code",
   "id": "8074f464",
   "metadata": {
    "execution": {
     "iopub.execute_input": "2024-12-12T16:26:18.012827Z",
     "iopub.status.busy": "2024-12-12T16:26:18.012308Z",
     "iopub.status.idle": "2024-12-12T16:26:18.020759Z",
     "shell.execute_reply": "2024-12-12T16:26:18.019690Z"
    },
    "papermill": {
     "duration": 0.019672,
     "end_time": "2024-12-12T16:26:18.022881",
     "exception": false,
     "start_time": "2024-12-12T16:26:18.003209",
     "status": "completed"
    },
    "tags": []
   },
   "source": [
    "INIT_POINTS = 1\n",
    "N_ITER = 5\n",
    "TEST_SIZE = 2e-1\n",
    "\n",
    "BASE_CLASSIFIERS = {\n",
    "    'logistic_regression': LogisticRegression(solver='liblinear', random_state=RANDOM_STATE),\n",
    "    'gaussian_nb': GaussianNB(),\n",
    "    'decision_tree': DecisionTreeClassifier(random_state=RANDOM_STATE),\n",
    "    'random_forest': RandomForestClassifier(random_state=RANDOM_STATE),\n",
    "    'xgb': xgb.XGBClassifier(random_state=RANDOM_STATE),\n",
    "}\n",
    "\n",
    "COLAB_PATH = Path('/content/drive/MyDrive')\n",
    "KAGGLE_PATH = Path('/kaggle/input')\n",
    "LOCAL_PATH = Path('./')\n",
    "\n",
    "# Step 1: Check if running in Google Colab\n",
    "try:\n",
    "    import google.colab\n",
    "\n",
    "    DATA_PATH = COLAB_PATH / Path('data')\n",
    "    MODELS_PATH = COLAB_PATH / Path('models')\n",
    "except ImportError:\n",
    "    # Step 2: Check if running in Kaggle\n",
    "    try:\n",
    "        import kaggle_secrets\n",
    "\n",
    "        DATA_PATH = KAGGLE_PATH\n",
    "        MODELS_PATH = KAGGLE_PATH\n",
    "    except ImportError:\n",
    "        # Step 3: Default to local Jupyter Notebook\n",
    "        DATA_PATH = LOCAL_PATH / Path('data')\n",
    "        MODELS_PATH = LOCAL_PATH / Path('models')\n",
    "\n",
    "GLOVE_6B_PATH = MODELS_PATH / Path('glove-embeddings')\n",
    "THREAT_TWEETS_PATH = DATA_PATH / Path('tweets-dataset-for-cyberattack-detection')\n",
    "\n",
    "GLOVE_6B_300D_TXT = GLOVE_6B_PATH / Path('glove.6B.300d.txt')\n",
    "THREAT_TWEETS_CSV = THREAT_TWEETS_PATH / Path('tweets_final.csv')\n"
   ],
   "outputs": [],
   "execution_count": null
  },
  {
   "metadata": {
    "papermill": {
     "duration": 0.006302,
     "end_time": "2024-12-12T16:26:18.048634",
     "exception": false,
     "start_time": "2024-12-12T16:26:18.042332",
     "status": "completed"
    },
    "tags": []
   },
   "cell_type": "markdown",
   "source": [
    "## 1. Introduction\n",
    "\n",
    "In this notebook, we are going to solve a multi-class classification problem using different machine learning models. Our goal is to predict the class of each sample based on the input features.\n"
   ],
   "id": "02878d64"
  },
  {
   "metadata": {
    "papermill": {
     "duration": 0.006199,
     "end_time": "2024-12-12T16:26:18.061625",
     "exception": false,
     "start_time": "2024-12-12T16:26:18.055426",
     "status": "completed"
    },
    "tags": []
   },
   "cell_type": "markdown",
   "source": [
    "## 2. Data Loading and Preprocessing\n",
    "We will load the dataset, inspect its structure, and preprocess it for machine learning models.\n"
   ],
   "id": "bc09f879"
  },
  {
   "metadata": {},
   "cell_type": "code",
   "source": [
    "# Read the CSV file and process columns in one step\n",
    "threat_tweets = (\n",
    "    pd.read_csv(filepath_or_buffer=THREAT_TWEETS_CSV)\n",
    "    .assign(\n",
    "        tweet=lambda df: df['tweet'].apply(func=ast.literal_eval),\n",
    "        watson=lambda df: df['watson'].apply(func=ast.literal_eval)\n",
    "        .apply(func=lambda x: x.get('categories', []))\n",
    "        .apply(func=build_tree),\n",
    "        watson_list=lambda df: df['watson'].apply(func=extract_keys),\n",
    "    )\n",
    "    .query(expr='relevant == True')\n",
    "    .drop(labels=['relevant'], axis=1)\n",
    "    .dropna(subset=['text'], ignore_index=True)\n",
    ")\n",
    "\n",
    "threat_tweets.head()\n"
   ],
   "id": "2f76035997296746",
   "outputs": [],
   "execution_count": null
  },
  {
   "metadata": {},
   "cell_type": "markdown",
   "source": [
    "For the goal of the project, the categories of interest are:\n",
    "1. computer security/network security\n",
    "2. computer security/antivirus and malware\n",
    "3. operating systems/mac os\n",
    "4. operating systems/windows\n",
    "5. operating systems/unix\n",
    "6. operating systems/linux\n",
    "7. software\n",
    "8. programming languages, included in software\n",
    "9. software/databases\n",
    "10. hardware\n",
    "11. electronic components, included in hardware\n",
    "12. hardware/computer/servers\n",
    "13. hardware/computer/portable computer\n",
    "14. hardware/computer/desktop computer\n",
    "15. hardware/computer components\n",
    "16. hardware/computer networking/router\n",
    "17. hardware/computer networking/wireless technology\n",
    "18. networking\n",
    "19. internet technology, included in networking\n"
   ],
   "id": "5b31409a7b0bd08"
  },
  {
   "metadata": {},
   "cell_type": "code",
   "source": [
    "FIX_TARGETS = {\n",
    "    'computer security': 'computer security',\n",
    "    'operating systems': 'operating systems',\n",
    "    'software': 'software',\n",
    "    'programming languages': 'software',\n",
    "    'hardware': 'hardware',\n",
    "    'electronic components': 'hardware',\n",
    "    'networking': 'networking',\n",
    "    'internet technology': 'networking'\n",
    "}\n",
    "\n",
    "chosen_categories = [\n",
    "    list(set(FIX_TARGETS.keys()) & set(s))\n",
    "    for s in threat_tweets['watson_list']\n",
    "]\n",
    "\n",
    "for i, watson_list in enumerate(chosen_categories):\n",
    "    temp = list(set([FIX_TARGETS[c] for c in watson_list]))\n",
    "    if len(temp) < 1:\n",
    "        temp = ['other']\n",
    "    chosen_categories[i] = temp\n",
    "\n",
    "threat_tweets['target'] = chosen_categories\n",
    "\n",
    "threat_tweets.head()\n"
   ],
   "id": "287e815d832565fd",
   "outputs": [],
   "execution_count": null
  },
  {
   "metadata": {},
   "cell_type": "code",
   "source": [
    "FIX_TARGETS_OPERATING_SYSTEMS = {\n",
    "    'mac os': 'mac os',\n",
    "    'windows': 'windows',\n",
    "    'unix': 'unix',\n",
    "    'linux': 'linux'\n",
    "}\n",
    "\n",
    "threat_tweets_operating_systems = threat_tweets[\n",
    "    threat_tweets[\"watson_list\"].apply(lambda x: \"operating systems\" in x)\n",
    "].reset_index(drop=True)\n",
    "\n",
    "chosen_categories = [\n",
    "    list(set(FIX_TARGETS_OPERATING_SYSTEMS.keys()) & set(s))\n",
    "    for s in threat_tweets_operating_systems['watson_list']\n",
    "]\n",
    "\n",
    "for i, watson_list in enumerate(chosen_categories):\n",
    "    temp = list(set([FIX_TARGETS_OPERATING_SYSTEMS[c] for c in watson_list]))\n",
    "\n",
    "    if len(temp) < 1:\n",
    "        temp = ['other']\n",
    "\n",
    "    chosen_categories[i] = temp\n",
    "\n",
    "print(len(chosen_categories))\n",
    "threat_tweets_operating_systems['target'] = chosen_categories\n",
    "\n",
    "threat_tweets_operating_systems.head()\n"
   ],
   "id": "402f0ee25e3a6f7c",
   "outputs": [],
   "execution_count": null
  },
  {
   "metadata": {},
   "cell_type": "code",
   "source": "Counter([item[0] for item in chosen_categories])\n",
   "id": "d718cd3e85b895e9",
   "outputs": [],
   "execution_count": null
  },
  {
   "metadata": {},
   "cell_type": "code",
   "source": "Counter(tuple(item) for item in chosen_categories)\n",
   "id": "341b2e8458ef750d",
   "outputs": [],
   "execution_count": null
  },
  {
   "metadata": {},
   "cell_type": "code",
   "source": [
    "X = preprocess_texts(\n",
    "    list_str=threat_tweets_operating_systems['text'],\n",
    "    model_path=GLOVE_6B_300D_TXT,\n",
    "    embedding_dim=300\n",
    ")\n"
   ],
   "id": "766b6469058b1f2e",
   "outputs": [],
   "execution_count": null
  },
  {
   "metadata": {
    "papermill": {
     "duration": 0.00674,
     "end_time": "2024-12-12T16:26:36.126427",
     "exception": false,
     "start_time": "2024-12-12T16:26:36.119687",
     "status": "completed"
    },
    "tags": []
   },
   "cell_type": "markdown",
   "source": [
    "## 4. Model Training\n",
    "\n",
    "We will now train different models and evaluate their performance.\n"
   ],
   "id": "30e50fa8"
  },
  {
   "metadata": {},
   "cell_type": "code",
   "source": [
    "br = None\n",
    "clr = None\n",
    "cc = None\n",
    "lp = None\n",
    "pst = None\n",
    "cdn = None\n",
    "mbr = None\n",
    "PATH_BR_OPERATING_SYSTEMS = Path('models/binary_problems/br_operating_systems.pkl')\n",
    "PATH_CLR_OPERATING_SYSTEMS = Path('models/binary_problems/clr_operating_systems.pkl')\n",
    "PATH_CC_OPERATING_SYSTEMS = Path('models/binary_problems/cc_operating_systems.pkl')\n",
    "PATH_LP_OPERATING_SYSTEMS = Path('models/multiclass_problems/lp_operating_systems.pkl')\n",
    "PATH_PST_OPERATING_SYSTEMS = Path('models/multiclass_problems/pst_operating_systems.pkl')\n",
    "PATH_CDN_OPERATING_SYSTEMS = Path('models/ensembles/cdn_operating_systems.pkl')\n",
    "PATH_MBR_OPERATING_SYSTEMS = Path('models/ensembles/mbr_operating_systems.pkl')\n",
    "\n",
    "if PATH_BR_OPERATING_SYSTEMS.exists():\n",
    "    br = joblib.load(PATH_BR_OPERATING_SYSTEMS)\n",
    "\n",
    "if PATH_CLR_OPERATING_SYSTEMS.exists():\n",
    "    clr = joblib.load(PATH_CLR_OPERATING_SYSTEMS)\n",
    "\n",
    "if PATH_CC_OPERATING_SYSTEMS.exists():\n",
    "    cc = joblib.load(PATH_CC_OPERATING_SYSTEMS)\n",
    "\n",
    "if PATH_LP_OPERATING_SYSTEMS.exists():\n",
    "    lp = joblib.load(PATH_LP_OPERATING_SYSTEMS)\n",
    "\n",
    "if PATH_PST_OPERATING_SYSTEMS.exists():\n",
    "    pst = joblib.load(PATH_PST_OPERATING_SYSTEMS)\n",
    "\n",
    "if PATH_CDN_OPERATING_SYSTEMS.exists():\n",
    "    cdn = joblib.load(PATH_CDN_OPERATING_SYSTEMS)\n",
    "\n",
    "if PATH_MBR_OPERATING_SYSTEMS.exists():\n",
    "    mbr = joblib.load(PATH_MBR_OPERATING_SYSTEMS)\n"
   ],
   "id": "e7b6c270783cb110",
   "outputs": [],
   "execution_count": null
  },
  {
   "metadata": {
    "execution": {
     "iopub.execute_input": "2024-12-12T16:26:36.261035Z",
     "iopub.status.busy": "2024-12-12T16:26:36.260618Z",
     "iopub.status.idle": "2024-12-12T16:27:16.804071Z",
     "shell.execute_reply": "2024-12-12T16:27:16.802740Z"
    },
    "papermill": {
     "duration": 40.555062,
     "end_time": "2024-12-12T16:27:16.806882",
     "exception": false,
     "start_time": "2024-12-12T16:26:36.251820",
     "status": "completed"
    },
    "tags": [],
    "ExecuteTime": {
     "end_time": "2025-01-27T15:16:11.541225Z",
     "start_time": "2025-01-27T15:16:11.525209Z"
    }
   },
   "cell_type": "code",
   "source": [
    "mlb = MultiLabelBinarizer()\n",
    "y = mlb.fit_transform(y=threat_tweets_operating_systems['target'])\n",
    "\n",
    "unique_label_sets, threat_tweets_operating_systems['target_lp'] = np.unique(\n",
    "    ar=y,\n",
    "    axis=0,\n",
    "    return_inverse=True\n",
    ")\n",
    "\n",
    "X_pst, y_pst, label_map_pst, _ = prune_and_subsample(\n",
    "    x=X,\n",
    "    y=y,\n",
    "    pruning_threshold=10,\n",
    "    max_sub_samples=3000\n",
    ")\n",
    "\n",
    "y_lp = threat_tweets_operating_systems['target_lp']\n",
    "\n",
    "label_map_lp = {i: tuple(lbl_set) for i, lbl_set in enumerate(unique_label_sets)}\n"
   ],
   "id": "62b61de3",
   "outputs": [],
   "execution_count": 47
  },
  {
   "metadata": {
    "execution": {
     "iopub.execute_input": "2024-12-12T16:27:16.822984Z",
     "iopub.status.busy": "2024-12-12T16:27:16.822523Z",
     "iopub.status.idle": "2024-12-12T16:27:16.869712Z",
     "shell.execute_reply": "2024-12-12T16:27:16.868047Z"
    },
    "papermill": {
     "duration": 0.05826,
     "end_time": "2024-12-12T16:27:16.872512",
     "exception": false,
     "start_time": "2024-12-12T16:27:16.814252",
     "status": "completed"
    },
    "tags": [],
    "ExecuteTime": {
     "end_time": "2025-01-27T15:16:12.966969Z",
     "start_time": "2025-01-27T15:16:12.917457Z"
    }
   },
   "cell_type": "code",
   "source": [
    "# BR, CDR, CC, CDN, MBR\n",
    "X_train_val, y_train_val, X_test, y_test = iterative_train_test_split(\n",
    "    X=X,\n",
    "    y=y,\n",
    "    test_size=TEST_SIZE\n",
    ")\n",
    "\n",
    "X_train, y_train, X_val, y_val = iterative_train_test_split(\n",
    "    X=X_train_val,\n",
    "    y=y_train_val,\n",
    "    test_size=TEST_SIZE\n",
    ")\n",
    "\n",
    "# LP\n",
    "X_train_val_lp, X_test_lp, y_train_val_lp, y_test_lp = train_test_split(\n",
    "    X, y_lp,\n",
    "    test_size=TEST_SIZE,\n",
    "    random_state=RANDOM_STATE,\n",
    "    shuffle=True,\n",
    "    stratify=y_lp\n",
    ")\n",
    "\n",
    "X_train_lp, X_val_lp, y_train_lp, y_val_lp = train_test_split(\n",
    "    X_train_val_lp, y_train_val_lp,\n",
    "    test_size=TEST_SIZE,\n",
    "    random_state=RANDOM_STATE,\n",
    "    shuffle=True,\n",
    "    stratify=y_train_val_lp\n",
    ")\n",
    "\n",
    "# PSt\n",
    "X_train_val_pst, X_test_pst, y_train_val_pst, y_test_pst = train_test_split(\n",
    "    X_pst, y_pst,\n",
    "    test_size=TEST_SIZE,\n",
    "    random_state=RANDOM_STATE,\n",
    "    shuffle=True,\n",
    "    stratify=y_pst\n",
    ")\n",
    "\n",
    "X_train_pst, X_val_pst, y_train_pst, y_val_pst = train_test_split(\n",
    "    X_train_val_pst, y_train_val_pst,\n",
    "    test_size=TEST_SIZE,\n",
    "    random_state=RANDOM_STATE,\n",
    "    shuffle=True,\n",
    "    stratify=y_train_val_pst\n",
    ")\n"
   ],
   "id": "6f6e8f70",
   "outputs": [],
   "execution_count": 48
  },
  {
   "metadata": {},
   "cell_type": "markdown",
   "source": "### 4.1. Binary Problems\n",
   "id": "5497ccaa5c90acba"
  },
  {
   "metadata": {},
   "cell_type": "markdown",
   "source": "#### 4.1.1. BR (Binary Relevance)\n",
   "id": "82dd9d2dcaa2fea4"
  },
  {
   "metadata": {
    "ExecuteTime": {
     "end_time": "2025-01-27T15:17:17.367947Z",
     "start_time": "2025-01-27T15:17:02.065783Z"
    }
   },
   "cell_type": "code",
   "source": [
    "if not br or OVERWRITE:\n",
    "    br = {}\n",
    "\n",
    "    for k in tqdm(BASE_CLASSIFIERS.keys()):\n",
    "        br[k] = OneVsRestClassifier(estimator=BASE_CLASSIFIERS[k]).fit(\n",
    "            X=X_train,\n",
    "            y=y_train\n",
    "        )\n",
    "\n",
    "    joblib.dump(br, PATH_BR_OPERATING_SYSTEMS, compress=9)\n"
   ],
   "id": "edb485590d88fbc",
   "outputs": [
    {
     "name": "stderr",
     "output_type": "stream",
     "text": [
      "100%|██████████| 5/5 [00:14<00:00,  2.83s/it]\n"
     ]
    }
   ],
   "execution_count": 49
  },
  {
   "metadata": {},
   "cell_type": "markdown",
   "source": "#### 4.1.2. CLR (Calibrated Label Ranking)\n",
   "id": "c27df998bb1234c"
  },
  {
   "metadata": {
    "ExecuteTime": {
     "end_time": "2025-01-27T15:17:47.133292Z",
     "start_time": "2025-01-27T15:17:17.375196Z"
    }
   },
   "cell_type": "code",
   "source": [
    "if not clr or OVERWRITE:\n",
    "    clr = {}\n",
    "\n",
    "    for k, v in tqdm(BASE_CLASSIFIERS.items()):\n",
    "        model = CalibratedLabelRankClassifier(\n",
    "            classifier=v,\n",
    "            classes=mlb.classes_,\n",
    "            random_state=RANDOM_STATE\n",
    "        )\n",
    "\n",
    "        clr[k] = model.fit(\n",
    "            x=X_train,\n",
    "            y=[list(mlb.classes_[np.where(row == 1)[0]]) for row in y_train]\n",
    "        )\n",
    "\n",
    "    joblib.dump(clr, PATH_CLR_OPERATING_SYSTEMS, compress=9)\n"
   ],
   "id": "16dc8d6169ac9f67",
   "outputs": [
    {
     "name": "stderr",
     "output_type": "stream",
     "text": [
      "100%|██████████| 5/5 [00:27<00:00,  5.47s/it]\n"
     ]
    }
   ],
   "execution_count": 50
  },
  {
   "metadata": {},
   "cell_type": "markdown",
   "source": "#### 4.1.3. CC (Classifier Chains)\n",
   "id": "8032c9f1462962f2"
  },
  {
   "metadata": {
    "ExecuteTime": {
     "end_time": "2025-01-27T15:17:59.743386Z",
     "start_time": "2025-01-27T15:17:47.252979Z"
    }
   },
   "cell_type": "code",
   "source": [
    "if not cc or OVERWRITE:\n",
    "    cc = {}\n",
    "\n",
    "    for k, v in tqdm(BASE_CLASSIFIERS.items()):\n",
    "        model = ChainOfClassifiers(\n",
    "            classifier=v,\n",
    "            classes=mlb.classes_,\n",
    "            random_state=RANDOM_STATE\n",
    "        )\n",
    "\n",
    "        cc[k] = model.fit(\n",
    "            x=X_train,\n",
    "            y=y_train\n",
    "        )\n",
    "\n",
    "    joblib.dump(cc, PATH_CC_OPERATING_SYSTEMS, compress=9)\n"
   ],
   "id": "3162246646bc535f",
   "outputs": [
    {
     "name": "stderr",
     "output_type": "stream",
     "text": [
      "100%|██████████| 5/5 [00:11<00:00,  2.28s/it]\n"
     ]
    }
   ],
   "execution_count": 51
  },
  {
   "metadata": {},
   "cell_type": "markdown",
   "source": [
    "### 4.2. Multi-class Problems\n",
    "\n"
   ],
   "id": "80e25f22336640"
  },
  {
   "metadata": {},
   "cell_type": "markdown",
   "source": "#### 4.2.1. LP (Label Powerset)\n",
   "id": "fba9c659bff8d6e3"
  },
  {
   "metadata": {
    "ExecuteTime": {
     "end_time": "2025-01-27T15:18:14.597942Z",
     "start_time": "2025-01-27T15:17:59.750632Z"
    }
   },
   "cell_type": "code",
   "source": [
    "if not lp or OVERWRITE:\n",
    "    lp = {}\n",
    "\n",
    "    for k, v in tqdm(BASE_CLASSIFIERS.items()):\n",
    "        model = LabelPowersetClassifier(\n",
    "            classifier=v,\n",
    "            label_map=label_map_lp,\n",
    "            random_state=RANDOM_STATE\n",
    "        )\n",
    "\n",
    "        lp[k] = model.fit(\n",
    "            x=X_train_lp,\n",
    "            y=y_train_lp\n",
    "        )\n",
    "\n",
    "    joblib.dump(lp, PATH_LP_OPERATING_SYSTEMS, compress=9)\n"
   ],
   "id": "838f03de34100d4b",
   "outputs": [
    {
     "name": "stderr",
     "output_type": "stream",
     "text": [
      "100%|██████████| 5/5 [00:13<00:00,  2.79s/it]\n"
     ]
    }
   ],
   "execution_count": 52
  },
  {
   "metadata": {},
   "cell_type": "markdown",
   "source": "#### 4.2.2. PSt (Pruned Sets)\n",
   "id": "36a35690f78685cb"
  },
  {
   "metadata": {
    "ExecuteTime": {
     "end_time": "2025-01-27T15:18:30.822983Z",
     "start_time": "2025-01-27T15:18:14.658527Z"
    }
   },
   "cell_type": "code",
   "source": [
    "if not pst or OVERWRITE:\n",
    "    pst = {}\n",
    "\n",
    "    for k, v in tqdm(BASE_CLASSIFIERS.items()):\n",
    "        model = LabelPowersetClassifier(\n",
    "            classifier=v,\n",
    "            label_map=label_map_pst,\n",
    "            random_state=RANDOM_STATE\n",
    "        )\n",
    "\n",
    "        pst[k] = model.fit(\n",
    "            x=X_train_pst,\n",
    "            y=y_train_pst\n",
    "        )\n",
    "\n",
    "    joblib.dump(pst, PATH_PST_OPERATING_SYSTEMS, compress=9)\n"
   ],
   "id": "df8604ee1c6ccc0c",
   "outputs": [
    {
     "name": "stderr",
     "output_type": "stream",
     "text": [
      "100%|██████████| 5/5 [00:15<00:00,  3.06s/it]\n"
     ]
    }
   ],
   "execution_count": 53
  },
  {
   "metadata": {},
   "cell_type": "markdown",
   "source": "### 4.3. Ensembles\n",
   "id": "664c1fa64743bda8"
  },
  {
   "metadata": {},
   "cell_type": "markdown",
   "source": "#### 4.3.1. CDN (Conditional Dependency Network)\n",
   "id": "834fb6fe571b907f"
  },
  {
   "metadata": {
    "ExecuteTime": {
     "end_time": "2025-01-27T15:18:44.108917Z",
     "start_time": "2025-01-27T15:18:30.980303Z"
    }
   },
   "cell_type": "code",
   "source": [
    "if not cdn or OVERWRITE:\n",
    "    cdn = {}\n",
    "\n",
    "    for k, v in tqdm(BASE_CLASSIFIERS.items()):\n",
    "        model = ConditionalDependencyNetwork(\n",
    "            classifier=v,\n",
    "            num_iterations=100,\n",
    "            burn_in=10\n",
    "        )\n",
    "\n",
    "        cdn[k] = model.fit(\n",
    "            x=X_train,\n",
    "            y=y_train\n",
    "        )\n",
    "\n",
    "    joblib.dump(cdn, PATH_CDN_OPERATING_SYSTEMS, compress=9)\n"
   ],
   "id": "b50723c7780a738f",
   "outputs": [
    {
     "name": "stderr",
     "output_type": "stream",
     "text": [
      "100%|██████████| 5/5 [00:12<00:00,  2.41s/it]\n"
     ]
    }
   ],
   "execution_count": 54
  },
  {
   "metadata": {},
   "cell_type": "markdown",
   "source": "#### 4.3.2. MBR (Meta-Binary Relevance)\n",
   "id": "53f16754ed03d5ad"
  },
  {
   "metadata": {
    "ExecuteTime": {
     "end_time": "2025-01-27T15:20:05.013662Z",
     "start_time": "2025-01-27T15:18:44.120416Z"
    }
   },
   "cell_type": "code",
   "source": [
    "if not mbr or OVERWRITE:\n",
    "    mbr = {}\n",
    "\n",
    "    for k, v in tqdm(BASE_CLASSIFIERS.items()):\n",
    "        model = MetaBinaryRelevance(\n",
    "            classifier=v,\n",
    "            use_cross_val=True,\n",
    "            n_splits=5\n",
    "        )\n",
    "\n",
    "        mbr[k] = model.fit(\n",
    "            x=X_train,\n",
    "            y=y_train\n",
    "        )\n",
    "\n",
    "    joblib.dump(mbr, PATH_MBR_OPERATING_SYSTEMS, compress=9)\n"
   ],
   "id": "241fe414f4eeffff",
   "outputs": [
    {
     "name": "stderr",
     "output_type": "stream",
     "text": [
      "100%|██████████| 5/5 [01:18<00:00, 15.74s/it]\n"
     ]
    }
   ],
   "execution_count": 55
  },
  {
   "metadata": {},
   "cell_type": "markdown",
   "source": [
    "## 5. Model Evaluation\n",
    "\n",
    "Now that we've trained the models, let's evaluate them in more detail.\n"
   ],
   "id": "6e50f10e93df31f9"
  },
  {
   "metadata": {
    "ExecuteTime": {
     "end_time": "2025-01-27T15:20:31.005221Z",
     "start_time": "2025-01-27T15:20:08.262Z"
    }
   },
   "cell_type": "code",
   "source": [
    "evaluation = {\n",
    "    'BR': assess_models(\n",
    "        x=X_val,\n",
    "        y=y_val,\n",
    "        technique=br\n",
    "    ),\n",
    "    'CLR': assess_models(\n",
    "        x=X_val,\n",
    "        y=y_val,\n",
    "        technique=clr\n",
    "    ),\n",
    "    'CC': assess_models(\n",
    "        x=X_val,\n",
    "        y=y_val,\n",
    "        technique=cc\n",
    "    ),\n",
    "    'LP': assess_models(\n",
    "        x=X_val_lp,\n",
    "        y=np.array([list(label_map_lp[yp]) for yp in y_val_lp]),\n",
    "        technique=lp\n",
    "    ),\n",
    "    'PST': assess_models(\n",
    "        x=X_val_pst,\n",
    "        y=np.array([list(label_map_pst[yp]) for yp in y_val_pst]),\n",
    "        technique=pst\n",
    "    ),\n",
    "    'CDN': assess_models(\n",
    "        x=X_val,\n",
    "        y=y_val,\n",
    "        technique=cdn\n",
    "    ),\n",
    "    'MBR': assess_models(\n",
    "        x=X_val,\n",
    "        y=y_val,\n",
    "        technique=mbr\n",
    "    )\n",
    "}\n"
   ],
   "id": "4c0f3330656f697b",
   "outputs": [],
   "execution_count": 56
  },
  {
   "metadata": {
    "ExecuteTime": {
     "end_time": "2025-01-27T15:20:31.040369Z",
     "start_time": "2025-01-27T15:20:31.012384Z"
    }
   },
   "cell_type": "code",
   "source": [
    "performances = pd.DataFrame(evaluation).T\n",
    "performances\n"
   ],
   "id": "450b7af68d19a9b5",
   "outputs": [
    {
     "data": {
      "text/plain": [
       "     Accuracy           Classifier  \\\n",
       "BR   0.783626  logistic_regression   \n",
       "CLR   0.77193  logistic_regression   \n",
       "CC    0.77193  logistic_regression   \n",
       "LP   0.853801  logistic_regression   \n",
       "PST  0.742268  logistic_regression   \n",
       "CDN  0.760234  logistic_regression   \n",
       "MBR  0.783626  logistic_regression   \n",
       "\n",
       "                                                 Model  \\\n",
       "BR   OneVsRestClassifier(estimator=LogisticRegressi...   \n",
       "CLR  CalibratedLabelRankClassifier(classes=array(['...   \n",
       "CC   ChainOfClassifiers(classes=array(['linux', 'ma...   \n",
       "LP   LabelPowersetClassifier(classifier=LogisticReg...   \n",
       "PST  LabelPowersetClassifier(classifier=LogisticReg...   \n",
       "CDN  ConditionalDependencyNetwork(classifier=Logist...   \n",
       "MBR  MetaBinaryRelevance(classifier=LogisticRegress...   \n",
       "\n",
       "    Precision example-based Recall example-based F1 example-based  \\\n",
       "BR                 0.830409             0.853801         0.836257   \n",
       "CLR                0.827485             0.856725         0.835283   \n",
       "CC                 0.827485             0.856725         0.835283   \n",
       "LP                 0.897661             0.880117          0.88499   \n",
       "PST                0.809278             0.811856         0.803265   \n",
       "CDN                 0.81384             0.847953         0.822612   \n",
       "MBR                0.830409             0.853801         0.836257   \n",
       "\n",
       "    Hamming loss Micro precision Micro recall  Micro F1 Macro precision  \\\n",
       "BR      0.063158         0.86413     0.845745  0.854839        0.901334   \n",
       "CLR     0.066667        0.846561     0.851064  0.848806         0.87915   \n",
       "CC      0.067836        0.842105     0.851064  0.846561        0.867385   \n",
       "LP      0.050292        0.895604     0.871658  0.883469        0.889528   \n",
       "PST     0.085567        0.802817     0.806604  0.804706        0.803769   \n",
       "CDN     0.074854        0.822917     0.840426  0.831579        0.848304   \n",
       "MBR     0.063158         0.86413     0.845745  0.854839        0.901334   \n",
       "\n",
       "    Macro recall  Macro F1  Coverage  \n",
       "BR      0.804221  0.840235  1.754386  \n",
       "CLR     0.814747  0.837391  1.766082  \n",
       "CC      0.814747  0.832012  1.766082  \n",
       "LP      0.844484  0.865601  1.619883  \n",
       "PST     0.810964  0.800519  1.938144  \n",
       "CDN     0.800054  0.814944  1.807018  \n",
       "MBR     0.804221  0.840235  1.754386  "
      ],
      "text/html": [
       "<div>\n",
       "<style scoped>\n",
       "    .dataframe tbody tr th:only-of-type {\n",
       "        vertical-align: middle;\n",
       "    }\n",
       "\n",
       "    .dataframe tbody tr th {\n",
       "        vertical-align: top;\n",
       "    }\n",
       "\n",
       "    .dataframe thead th {\n",
       "        text-align: right;\n",
       "    }\n",
       "</style>\n",
       "<table border=\"1\" class=\"dataframe\">\n",
       "  <thead>\n",
       "    <tr style=\"text-align: right;\">\n",
       "      <th></th>\n",
       "      <th>Accuracy</th>\n",
       "      <th>Classifier</th>\n",
       "      <th>Model</th>\n",
       "      <th>Precision example-based</th>\n",
       "      <th>Recall example-based</th>\n",
       "      <th>F1 example-based</th>\n",
       "      <th>Hamming loss</th>\n",
       "      <th>Micro precision</th>\n",
       "      <th>Micro recall</th>\n",
       "      <th>Micro F1</th>\n",
       "      <th>Macro precision</th>\n",
       "      <th>Macro recall</th>\n",
       "      <th>Macro F1</th>\n",
       "      <th>Coverage</th>\n",
       "    </tr>\n",
       "  </thead>\n",
       "  <tbody>\n",
       "    <tr>\n",
       "      <th>BR</th>\n",
       "      <td>0.783626</td>\n",
       "      <td>logistic_regression</td>\n",
       "      <td>OneVsRestClassifier(estimator=LogisticRegressi...</td>\n",
       "      <td>0.830409</td>\n",
       "      <td>0.853801</td>\n",
       "      <td>0.836257</td>\n",
       "      <td>0.063158</td>\n",
       "      <td>0.86413</td>\n",
       "      <td>0.845745</td>\n",
       "      <td>0.854839</td>\n",
       "      <td>0.901334</td>\n",
       "      <td>0.804221</td>\n",
       "      <td>0.840235</td>\n",
       "      <td>1.754386</td>\n",
       "    </tr>\n",
       "    <tr>\n",
       "      <th>CLR</th>\n",
       "      <td>0.77193</td>\n",
       "      <td>logistic_regression</td>\n",
       "      <td>CalibratedLabelRankClassifier(classes=array(['...</td>\n",
       "      <td>0.827485</td>\n",
       "      <td>0.856725</td>\n",
       "      <td>0.835283</td>\n",
       "      <td>0.066667</td>\n",
       "      <td>0.846561</td>\n",
       "      <td>0.851064</td>\n",
       "      <td>0.848806</td>\n",
       "      <td>0.87915</td>\n",
       "      <td>0.814747</td>\n",
       "      <td>0.837391</td>\n",
       "      <td>1.766082</td>\n",
       "    </tr>\n",
       "    <tr>\n",
       "      <th>CC</th>\n",
       "      <td>0.77193</td>\n",
       "      <td>logistic_regression</td>\n",
       "      <td>ChainOfClassifiers(classes=array(['linux', 'ma...</td>\n",
       "      <td>0.827485</td>\n",
       "      <td>0.856725</td>\n",
       "      <td>0.835283</td>\n",
       "      <td>0.067836</td>\n",
       "      <td>0.842105</td>\n",
       "      <td>0.851064</td>\n",
       "      <td>0.846561</td>\n",
       "      <td>0.867385</td>\n",
       "      <td>0.814747</td>\n",
       "      <td>0.832012</td>\n",
       "      <td>1.766082</td>\n",
       "    </tr>\n",
       "    <tr>\n",
       "      <th>LP</th>\n",
       "      <td>0.853801</td>\n",
       "      <td>logistic_regression</td>\n",
       "      <td>LabelPowersetClassifier(classifier=LogisticReg...</td>\n",
       "      <td>0.897661</td>\n",
       "      <td>0.880117</td>\n",
       "      <td>0.88499</td>\n",
       "      <td>0.050292</td>\n",
       "      <td>0.895604</td>\n",
       "      <td>0.871658</td>\n",
       "      <td>0.883469</td>\n",
       "      <td>0.889528</td>\n",
       "      <td>0.844484</td>\n",
       "      <td>0.865601</td>\n",
       "      <td>1.619883</td>\n",
       "    </tr>\n",
       "    <tr>\n",
       "      <th>PST</th>\n",
       "      <td>0.742268</td>\n",
       "      <td>logistic_regression</td>\n",
       "      <td>LabelPowersetClassifier(classifier=LogisticReg...</td>\n",
       "      <td>0.809278</td>\n",
       "      <td>0.811856</td>\n",
       "      <td>0.803265</td>\n",
       "      <td>0.085567</td>\n",
       "      <td>0.802817</td>\n",
       "      <td>0.806604</td>\n",
       "      <td>0.804706</td>\n",
       "      <td>0.803769</td>\n",
       "      <td>0.810964</td>\n",
       "      <td>0.800519</td>\n",
       "      <td>1.938144</td>\n",
       "    </tr>\n",
       "    <tr>\n",
       "      <th>CDN</th>\n",
       "      <td>0.760234</td>\n",
       "      <td>logistic_regression</td>\n",
       "      <td>ConditionalDependencyNetwork(classifier=Logist...</td>\n",
       "      <td>0.81384</td>\n",
       "      <td>0.847953</td>\n",
       "      <td>0.822612</td>\n",
       "      <td>0.074854</td>\n",
       "      <td>0.822917</td>\n",
       "      <td>0.840426</td>\n",
       "      <td>0.831579</td>\n",
       "      <td>0.848304</td>\n",
       "      <td>0.800054</td>\n",
       "      <td>0.814944</td>\n",
       "      <td>1.807018</td>\n",
       "    </tr>\n",
       "    <tr>\n",
       "      <th>MBR</th>\n",
       "      <td>0.783626</td>\n",
       "      <td>logistic_regression</td>\n",
       "      <td>MetaBinaryRelevance(classifier=LogisticRegress...</td>\n",
       "      <td>0.830409</td>\n",
       "      <td>0.853801</td>\n",
       "      <td>0.836257</td>\n",
       "      <td>0.063158</td>\n",
       "      <td>0.86413</td>\n",
       "      <td>0.845745</td>\n",
       "      <td>0.854839</td>\n",
       "      <td>0.901334</td>\n",
       "      <td>0.804221</td>\n",
       "      <td>0.840235</td>\n",
       "      <td>1.754386</td>\n",
       "    </tr>\n",
       "  </tbody>\n",
       "</table>\n",
       "</div>"
      ]
     },
     "execution_count": 57,
     "metadata": {},
     "output_type": "execute_result"
    }
   ],
   "execution_count": 57
  },
  {
   "metadata": {
    "ExecuteTime": {
     "end_time": "2025-01-27T15:21:02.569385Z",
     "start_time": "2025-01-27T15:21:02.548435Z"
    }
   },
   "cell_type": "code",
   "source": [
    "z = evaluation['LP']['Model'].predict(X_val_lp)\n",
    "\n",
    "print(classification_report(\n",
    "    y_true=np.array([list(label_map_lp[yp]) for yp in y_val_lp]),\n",
    "    y_pred=z,\n",
    "    target_names=mlb.classes_,\n",
    "    zero_division=0\n",
    "))\n"
   ],
   "id": "411837f42eb96c63",
   "outputs": [
    {
     "name": "stdout",
     "output_type": "stream",
     "text": [
      "              precision    recall  f1-score   support\n",
      "\n",
      "       linux       0.92      0.92      0.92        78\n",
      "      mac os       0.88      0.74      0.80        19\n",
      "       other       0.88      0.83      0.86        18\n",
      "        unix       0.91      0.88      0.89        24\n",
      "     windows       0.85      0.85      0.85        48\n",
      "\n",
      "   micro avg       0.90      0.87      0.88       187\n",
      "   macro avg       0.89      0.84      0.87       187\n",
      "weighted avg       0.90      0.87      0.88       187\n",
      " samples avg       0.90      0.88      0.88       187\n",
      "\n"
     ]
    }
   ],
   "execution_count": 59
  }
 ],
 "metadata": {
  "kaggle": {
   "accelerator": "none",
   "dataSources": [
    {
     "datasetId": 870709,
     "sourceId": 1483651,
     "sourceType": "datasetVersion"
    },
    {
     "datasetId": 4678553,
     "sourceId": 7954760,
     "sourceType": "datasetVersion"
    }
   ],
   "dockerImageVersionId": 30804,
   "isGpuEnabled": false,
   "isInternetEnabled": true,
   "language": "python",
   "sourceType": "notebook"
  },
  "kernelspec": {
   "display_name": "Python 3",
   "language": "python",
   "name": "python3"
  },
  "language_info": {
   "codemirror_mode": {
    "name": "ipython",
    "version": 3
   },
   "file_extension": ".py",
   "mimetype": "text/x-python",
   "name": "python",
   "nbconvert_exporter": "python",
   "pygments_lexer": "ipython3",
   "version": "3.10.14"
  },
  "papermill": {
   "default_parameters": {},
   "duration": 5394.913296,
   "end_time": "2024-12-12T17:56:06.436689",
   "environment_variables": {},
   "exception": null,
   "input_path": "__notebook__.ipynb",
   "output_path": "__notebook__.ipynb",
   "parameters": {},
   "start_time": "2024-12-12T16:26:11.523393",
   "version": "2.6.0"
  }
 },
 "nbformat": 4,
 "nbformat_minor": 5
}
