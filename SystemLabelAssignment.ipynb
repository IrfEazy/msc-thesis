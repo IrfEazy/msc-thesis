{
 "cells": [
  {
   "cell_type": "code",
   "id": "initial_id",
   "metadata": {
    "collapsed": true,
    "ExecuteTime": {
     "end_time": "2025-01-27T19:31:02.548866Z",
     "start_time": "2025-01-27T19:30:56.641712Z"
    }
   },
   "source": [
    "import ast\n",
    "import random\n",
    "import re\n",
    "import string\n",
    "from pathlib import Path\n",
    "from typing import Any, Union\n",
    "\n",
    "import joblib\n",
    "import numpy as np\n",
    "import pandas as pd\n",
    "from sklearn.base import BaseEstimator\n",
    "from sklearn.ensemble import RandomForestClassifier\n",
    "from sklearn.linear_model import LogisticRegression\n",
    "from sklearn.naive_bayes import GaussianNB\n",
    "from sklearn.preprocessing import MultiLabelBinarizer\n",
    "from sklearn.tree import DecisionTreeClassifier\n",
    "from xgboost import XGBClassifier\n",
    "\n",
    "from preprocess_functions import build_tree, extract_keys, preprocess_texts\n",
    "\n",
    "OVERWRITE = False\n",
    "RANDOM_STATE = 42\n",
    "INIT_POINTS = 1\n",
    "N_ITER = 5\n",
    "TEST_SIZE = 2e-1\n",
    "COLAB_PATH = Path('/content/drive/MyDrive')\n",
    "KAGGLE_PATH = Path('/kaggle/input')\n",
    "LOCAL_PATH = Path('./')\n",
    "\n",
    "np.random.seed(RANDOM_STATE)\n",
    "random.seed(RANDOM_STATE)\n",
    "\n",
    "try:\n",
    "    import google.colab\n",
    "\n",
    "    DATA_PATH = COLAB_PATH / Path('data')\n",
    "    MODELS_PATH = COLAB_PATH / Path('models')\n",
    "except ImportError:\n",
    "    try:\n",
    "        import kaggle_secrets\n",
    "\n",
    "        DATA_PATH = KAGGLE_PATH\n",
    "        MODELS_PATH = KAGGLE_PATH\n",
    "    except ImportError:\n",
    "        DATA_PATH = LOCAL_PATH / Path('data')\n",
    "        MODELS_PATH = LOCAL_PATH / Path('models')\n",
    "\n",
    "GLOVE_6B_PATH = MODELS_PATH / Path('glove-embeddings')\n",
    "THREAT_TWEETS_PATH = DATA_PATH / Path('tweets-dataset-for-cyberattack-detection')\n",
    "\n",
    "GLOVE_6B_300D_TXT = GLOVE_6B_PATH / Path('glove.6B.300d.txt')\n",
    "THREAT_TWEETS_CSV = THREAT_TWEETS_PATH / Path('tweets_final.csv')\n"
   ],
   "outputs": [],
   "execution_count": 1
  },
  {
   "metadata": {
    "ExecuteTime": {
     "end_time": "2025-01-27T19:31:02.579508Z",
     "start_time": "2025-01-27T19:31:02.571022Z"
    }
   },
   "cell_type": "code",
   "source": [
    "BASE_CLASSIFIERS = {\n",
    "    'logistic_regression': LogisticRegression(solver='liblinear', random_state=RANDOM_STATE),\n",
    "    'gaussian_nb': GaussianNB(),\n",
    "    'decision_tree': DecisionTreeClassifier(random_state=RANDOM_STATE),\n",
    "    'random_forest': RandomForestClassifier(random_state=RANDOM_STATE),\n",
    "    'xgb': XGBClassifier(random_state=RANDOM_STATE)\n",
    "}\n",
    "\n",
    "GENERAL_CLASSIFIER_PATH = Path('models/lp.pkl')\n",
    "COMPUTER_SECURITY_CLASSIFIER_PATH = Path('models/multiclass_problems/pst_computer_security.pkl')\n",
    "OPERATING_SYSTEMS_CLASSIFIER_PATH = Path('models/multiclass_problems/lp_operating_systems.pkl')\n",
    "SOFTWARE_CLASSIFIER_PATH = Path('models/multiclass_problems/lp_software.pkl')\n",
    "HARDWARE_CLASSIFIER_PATH = Path('models/multiclass_problems/lp_hardware.pkl')\n",
    "COMPUTER_CLASSIFIER_PATH = Path('models/binary_problems/cc_computer.pkl')\n",
    "COMPUTER_NETWORKING_CLASSIFIER_PATH = Path('models/multiclass_problems/lp_computer_networking.pkl')\n"
   ],
   "id": "ddc6af5b930735ce",
   "outputs": [],
   "execution_count": 2
  },
  {
   "metadata": {
    "ExecuteTime": {
     "end_time": "2025-01-27T19:31:15.271899Z",
     "start_time": "2025-01-27T19:31:02.645943Z"
    }
   },
   "cell_type": "code",
   "source": [
    "threat_tweets = (\n",
    "    pd.read_csv(filepath_or_buffer=THREAT_TWEETS_CSV)\n",
    "    .assign(\n",
    "        tweet=lambda df: df['tweet'].apply(func=ast.literal_eval),\n",
    "        watson=lambda df: df['watson'].apply(func=ast.literal_eval)\n",
    "        .apply(func=lambda x: x.get('categories', []))\n",
    "        .apply(func=build_tree),\n",
    "        watson_list=lambda df: df['watson'].apply(func=extract_keys),\n",
    "    )\n",
    "    .query(expr='relevant == True')\n",
    "    .drop(labels=['relevant'], axis=1)\n",
    "    .dropna(subset=['text'], ignore_index=True)\n",
    ")\n",
    "\n",
    "threat_tweets.head()\n"
   ],
   "id": "73e760f1b64aac53",
   "outputs": [
    {
     "data": {
      "text/plain": [
       "                           _id                       date  \\\n",
       "0  b'5b8876f9bb325e65fa7e78e4'  2018-08-30 23:00:08+00:00   \n",
       "1  b'5b8876f9bb325e65fa7e78e5'  2018-08-30 23:00:09+00:00   \n",
       "2  b'5b8876fabb325e65fa7e78e6'  2018-08-30 23:00:09+00:00   \n",
       "3  b'5b88770abb325e65fa7e78e7'  2018-08-30 23:00:25+00:00   \n",
       "4  b'5b887713bb325e65fa7e78e8'  2018-08-30 23:00:35+00:00   \n",
       "\n",
       "                    id                                               text  \\\n",
       "0  1035301167952211969  Protect  your customers  access Prestashop Ant...   \n",
       "1  1035301173178249217  Data leak from Huazhu Hotels may affect 130 mi...   \n",
       "2  1035301174583353344  Instagram App 41.1788.50991.0 #Denial Of #Serv...   \n",
       "3  1035301242271096832  (good slides): \\n\\nThe Advanced Exploitation o...   \n",
       "4  1035301282095853569  CVE-2018-1000532 (beep)\\nhttps://t.co/CaKbo38U...   \n",
       "\n",
       "                                               tweet           type  \\\n",
       "0  {'created_at': 'Thu Aug 30 23:00:08 +0000 2018...           ddos   \n",
       "1  {'created_at': 'Thu Aug 30 23:00:09 +0000 2018...           leak   \n",
       "2  {'created_at': 'Thu Aug 30 23:00:09 +0000 2018...        general   \n",
       "3  {'created_at': 'Thu Aug 30 23:00:25 +0000 2018...  vulnerability   \n",
       "4  {'created_at': 'Thu Aug 30 23:00:35 +0000 2018...  vulnerability   \n",
       "\n",
       "                                              watson annotation  \\\n",
       "0  {'technology and computing': {'internet techno...     threat   \n",
       "1  {'travel': {'hotels': {}}, 'home and garden': ...     threat   \n",
       "2  {'science': {'weather': {'meteorological disas...     threat   \n",
       "3  {'business and industrial': {'business operati...     threat   \n",
       "4  {'technology and computing': {'computer securi...     threat   \n",
       "\n",
       "                                                urls  \\\n",
       "0  ['http://addons.prestashop.com/en/23513-anti-d...   \n",
       "1  ['http://www.hotelmanagement.net/tech/data-lea...   \n",
       "2  ['https://packetstormsecurity.com/files/149120...   \n",
       "3  ['https://twitter.com/i/web/status/10353012422...   \n",
       "4  ['https://web.nvd.nist.gov/view/vuln/detail?vu...   \n",
       "\n",
       "                                     destination_url valid_certificate  \\\n",
       "0  https://addons.prestashop.com/en/23513-anti-dd...              True   \n",
       "1  http://www.hotelmanagement.net/tech/data-leak-...              True   \n",
       "2  https://packetstormsecurity.com/files/149120/i...              True   \n",
       "3  https://twitter.com/i/web/status/1035301242271...              True   \n",
       "4  https://nvd.nist.gov/vuln/detail/CVE-2018-1000532              True   \n",
       "\n",
       "                                         watson_list  \n",
       "0  [technology and computing, internet technology...  \n",
       "1  [travel, hotels, home and garden, home improve...  \n",
       "2  [science, weather, meteorological disaster, hu...  \n",
       "3  [business and industrial, business operations,...  \n",
       "4  [technology and computing, computer security, ...  "
      ],
      "text/html": [
       "<div>\n",
       "<style scoped>\n",
       "    .dataframe tbody tr th:only-of-type {\n",
       "        vertical-align: middle;\n",
       "    }\n",
       "\n",
       "    .dataframe tbody tr th {\n",
       "        vertical-align: top;\n",
       "    }\n",
       "\n",
       "    .dataframe thead th {\n",
       "        text-align: right;\n",
       "    }\n",
       "</style>\n",
       "<table border=\"1\" class=\"dataframe\">\n",
       "  <thead>\n",
       "    <tr style=\"text-align: right;\">\n",
       "      <th></th>\n",
       "      <th>_id</th>\n",
       "      <th>date</th>\n",
       "      <th>id</th>\n",
       "      <th>text</th>\n",
       "      <th>tweet</th>\n",
       "      <th>type</th>\n",
       "      <th>watson</th>\n",
       "      <th>annotation</th>\n",
       "      <th>urls</th>\n",
       "      <th>destination_url</th>\n",
       "      <th>valid_certificate</th>\n",
       "      <th>watson_list</th>\n",
       "    </tr>\n",
       "  </thead>\n",
       "  <tbody>\n",
       "    <tr>\n",
       "      <th>0</th>\n",
       "      <td>b'5b8876f9bb325e65fa7e78e4'</td>\n",
       "      <td>2018-08-30 23:00:08+00:00</td>\n",
       "      <td>1035301167952211969</td>\n",
       "      <td>Protect  your customers  access Prestashop Ant...</td>\n",
       "      <td>{'created_at': 'Thu Aug 30 23:00:08 +0000 2018...</td>\n",
       "      <td>ddos</td>\n",
       "      <td>{'technology and computing': {'internet techno...</td>\n",
       "      <td>threat</td>\n",
       "      <td>['http://addons.prestashop.com/en/23513-anti-d...</td>\n",
       "      <td>https://addons.prestashop.com/en/23513-anti-dd...</td>\n",
       "      <td>True</td>\n",
       "      <td>[technology and computing, internet technology...</td>\n",
       "    </tr>\n",
       "    <tr>\n",
       "      <th>1</th>\n",
       "      <td>b'5b8876f9bb325e65fa7e78e5'</td>\n",
       "      <td>2018-08-30 23:00:09+00:00</td>\n",
       "      <td>1035301173178249217</td>\n",
       "      <td>Data leak from Huazhu Hotels may affect 130 mi...</td>\n",
       "      <td>{'created_at': 'Thu Aug 30 23:00:09 +0000 2018...</td>\n",
       "      <td>leak</td>\n",
       "      <td>{'travel': {'hotels': {}}, 'home and garden': ...</td>\n",
       "      <td>threat</td>\n",
       "      <td>['http://www.hotelmanagement.net/tech/data-lea...</td>\n",
       "      <td>http://www.hotelmanagement.net/tech/data-leak-...</td>\n",
       "      <td>True</td>\n",
       "      <td>[travel, hotels, home and garden, home improve...</td>\n",
       "    </tr>\n",
       "    <tr>\n",
       "      <th>2</th>\n",
       "      <td>b'5b8876fabb325e65fa7e78e6'</td>\n",
       "      <td>2018-08-30 23:00:09+00:00</td>\n",
       "      <td>1035301174583353344</td>\n",
       "      <td>Instagram App 41.1788.50991.0 #Denial Of #Serv...</td>\n",
       "      <td>{'created_at': 'Thu Aug 30 23:00:09 +0000 2018...</td>\n",
       "      <td>general</td>\n",
       "      <td>{'science': {'weather': {'meteorological disas...</td>\n",
       "      <td>threat</td>\n",
       "      <td>['https://packetstormsecurity.com/files/149120...</td>\n",
       "      <td>https://packetstormsecurity.com/files/149120/i...</td>\n",
       "      <td>True</td>\n",
       "      <td>[science, weather, meteorological disaster, hu...</td>\n",
       "    </tr>\n",
       "    <tr>\n",
       "      <th>3</th>\n",
       "      <td>b'5b88770abb325e65fa7e78e7'</td>\n",
       "      <td>2018-08-30 23:00:25+00:00</td>\n",
       "      <td>1035301242271096832</td>\n",
       "      <td>(good slides): \\n\\nThe Advanced Exploitation o...</td>\n",
       "      <td>{'created_at': 'Thu Aug 30 23:00:25 +0000 2018...</td>\n",
       "      <td>vulnerability</td>\n",
       "      <td>{'business and industrial': {'business operati...</td>\n",
       "      <td>threat</td>\n",
       "      <td>['https://twitter.com/i/web/status/10353012422...</td>\n",
       "      <td>https://twitter.com/i/web/status/1035301242271...</td>\n",
       "      <td>True</td>\n",
       "      <td>[business and industrial, business operations,...</td>\n",
       "    </tr>\n",
       "    <tr>\n",
       "      <th>4</th>\n",
       "      <td>b'5b887713bb325e65fa7e78e8'</td>\n",
       "      <td>2018-08-30 23:00:35+00:00</td>\n",
       "      <td>1035301282095853569</td>\n",
       "      <td>CVE-2018-1000532 (beep)\\nhttps://t.co/CaKbo38U...</td>\n",
       "      <td>{'created_at': 'Thu Aug 30 23:00:35 +0000 2018...</td>\n",
       "      <td>vulnerability</td>\n",
       "      <td>{'technology and computing': {'computer securi...</td>\n",
       "      <td>threat</td>\n",
       "      <td>['https://web.nvd.nist.gov/view/vuln/detail?vu...</td>\n",
       "      <td>https://nvd.nist.gov/vuln/detail/CVE-2018-1000532</td>\n",
       "      <td>True</td>\n",
       "      <td>[technology and computing, computer security, ...</td>\n",
       "    </tr>\n",
       "  </tbody>\n",
       "</table>\n",
       "</div>"
      ]
     },
     "execution_count": 3,
     "metadata": {},
     "output_type": "execute_result"
    }
   ],
   "execution_count": 3
  },
  {
   "metadata": {
    "ExecuteTime": {
     "end_time": "2025-01-27T19:31:45.442876Z",
     "start_time": "2025-01-27T19:31:15.489879Z"
    }
   },
   "cell_type": "code",
   "source": [
    "X = preprocess_texts(\n",
    "    list_str=threat_tweets['text'],\n",
    "    model_path=GLOVE_6B_300D_TXT,\n",
    "    embedding_dim=300\n",
    ")\n"
   ],
   "id": "cd38b44d9ed5b43f",
   "outputs": [],
   "execution_count": 4
  },
  {
   "metadata": {
    "ExecuteTime": {
     "end_time": "2025-01-27T19:31:45.580545Z",
     "start_time": "2025-01-27T19:31:45.493653Z"
    }
   },
   "cell_type": "code",
   "source": [
    "FIX_TARGETS = {\n",
    "    'computer security': 'computer security',\n",
    "    'operating systems': 'operating systems',\n",
    "    'software': 'software',\n",
    "    'programming languages': 'software',\n",
    "    'hardware': 'hardware',\n",
    "    'electronic components': 'hardware',\n",
    "    'networking': 'networking',\n",
    "    'internet technology': 'networking'\n",
    "}\n",
    "\n",
    "chosen_categories = [\n",
    "    list(set(FIX_TARGETS.keys()) & set(s))\n",
    "    for s in threat_tweets['watson_list']\n",
    "]\n",
    "\n",
    "for i, watson_list in enumerate(chosen_categories):\n",
    "    temp = list(set([FIX_TARGETS[c] for c in watson_list]))\n",
    "    if len(temp) < 1:\n",
    "        temp = ['other']\n",
    "    chosen_categories[i] = temp\n",
    "\n",
    "mlb = MultiLabelBinarizer()\n",
    "y = mlb.fit_transform(y=chosen_categories)\n",
    "\n",
    "mlb.classes_\n"
   ],
   "id": "4aedd00c34deaec9",
   "outputs": [
    {
     "data": {
      "text/plain": [
       "array(['computer security', 'hardware', 'networking', 'operating systems',\n",
       "       'other', 'software'], dtype=object)"
      ]
     },
     "execution_count": 5,
     "metadata": {},
     "output_type": "execute_result"
    }
   ],
   "execution_count": 5
  },
  {
   "metadata": {},
   "cell_type": "markdown",
   "source": [
    "The general classifier detects the classes of a text among:\n",
    "- computer security\n",
    "- operating systems\n",
    "- software\n",
    "- hardware\n",
    "- networking\n",
    "- other\n"
   ],
   "id": "9b74e16471bc0da9"
  },
  {
   "metadata": {
    "ExecuteTime": {
     "end_time": "2025-01-27T19:31:46.913087Z",
     "start_time": "2025-01-27T19:31:45.727094Z"
    }
   },
   "cell_type": "code",
   "source": [
    "general_classifier = joblib.load(filename=GENERAL_CLASSIFIER_PATH)\n",
    "general_classifier = general_classifier['xgb']\n"
   ],
   "id": "56fc730cfdac623",
   "outputs": [],
   "execution_count": 6
  },
  {
   "metadata": {},
   "cell_type": "markdown",
   "source": [
    "The \"computer security\" classifier detects the classes of a text already labeled as \"computer security\" among:\n",
    "- antivirus and malware\n",
    "- network security\n"
   ],
   "id": "e69ac78c9852a6e5"
  },
  {
   "metadata": {
    "ExecuteTime": {
     "end_time": "2025-01-27T19:31:47.281978Z",
     "start_time": "2025-01-27T19:31:47.094617Z"
    }
   },
   "cell_type": "code",
   "source": [
    "computer_security_classifier = joblib.load(filename=COMPUTER_SECURITY_CLASSIFIER_PATH)\n",
    "computer_security_classifier = computer_security_classifier['xgb']\n"
   ],
   "id": "4fcd719fd8db67d0",
   "outputs": [],
   "execution_count": 7
  },
  {
   "metadata": {},
   "cell_type": "markdown",
   "source": [
    "The \"operating systems\" classifier detects the classes of a text already labeled as \"operating systems\" among:\n",
    "- linux\n",
    "- mac os\n",
    "- unix\n",
    "- windows\n"
   ],
   "id": "4c80c00bcbbbfb0e"
  },
  {
   "metadata": {
    "ExecuteTime": {
     "end_time": "2025-01-27T19:31:47.634615Z",
     "start_time": "2025-01-27T19:31:47.476741Z"
    }
   },
   "cell_type": "code",
   "source": [
    "operating_systems_classifier = joblib.load(filename=OPERATING_SYSTEMS_CLASSIFIER_PATH)\n",
    "operating_systems_classifier = operating_systems_classifier['logistic_regression']\n"
   ],
   "id": "5954b4b49fd6386",
   "outputs": [],
   "execution_count": 8
  },
  {
   "metadata": {},
   "cell_type": "markdown",
   "source": [
    "The \"software\" classifier detects the classes of a text already labeled as \"software\" among:\n",
    "- databases\n"
   ],
   "id": "7e4b718fe8739c25"
  },
  {
   "metadata": {
    "ExecuteTime": {
     "end_time": "2025-01-27T19:31:47.735636Z",
     "start_time": "2025-01-27T19:31:47.659655Z"
    }
   },
   "cell_type": "code",
   "source": [
    "software_classifier = joblib.load(filename=SOFTWARE_CLASSIFIER_PATH)\n",
    "software_classifier = software_classifier['logistic_regression']\n"
   ],
   "id": "1677eff745078474",
   "outputs": [],
   "execution_count": 9
  },
  {
   "metadata": {},
   "cell_type": "markdown",
   "source": [
    "The \"hardware\" classifier detects the classes of a text already labeled as \"hardware\" among:\n",
    "- computer\n",
    "- computer components\n",
    "- computer networking\n"
   ],
   "id": "4361dd4a07d20615"
  },
  {
   "metadata": {
    "ExecuteTime": {
     "end_time": "2025-01-27T19:31:47.946757Z",
     "start_time": "2025-01-27T19:31:47.762078Z"
    }
   },
   "cell_type": "code",
   "source": [
    "hardware_classifier = joblib.load(filename=HARDWARE_CLASSIFIER_PATH)\n",
    "hardware_classifier = hardware_classifier['xgb']"
   ],
   "id": "f728c21b581bf8f5",
   "outputs": [],
   "execution_count": 10
  },
  {
   "metadata": {},
   "cell_type": "markdown",
   "source": [
    "The \"computer\" classifier detects the classes of a text already labeled as \"computer\" among:\n",
    "- servers\n",
    "- portable computer\n",
    "- desktop computer\n"
   ],
   "id": "bf5c498531d414aa"
  },
  {
   "metadata": {
    "ExecuteTime": {
     "end_time": "2025-01-27T19:31:48.199220Z",
     "start_time": "2025-01-27T19:31:47.977309Z"
    }
   },
   "cell_type": "code",
   "source": [
    "computer_classifier = joblib.load(filename=COMPUTER_CLASSIFIER_PATH)\n",
    "computer_classifier = computer_classifier['xgb']\n"
   ],
   "id": "72f81ea93b96aec3",
   "outputs": [],
   "execution_count": 11
  },
  {
   "metadata": {},
   "cell_type": "markdown",
   "source": [
    "The \"computer networking\" classifier detects the classes of a text already labeled as \"computer networking\" among:\n",
    "- router\n",
    "- wireless technology\n"
   ],
   "id": "b284e6eed78944a6"
  },
  {
   "metadata": {
    "ExecuteTime": {
     "end_time": "2025-01-27T19:31:48.318158Z",
     "start_time": "2025-01-27T19:31:48.230945Z"
    }
   },
   "cell_type": "code",
   "source": [
    "computer_networking_classifier = joblib.load(filename=COMPUTER_NETWORKING_CLASSIFIER_PATH)\n",
    "computer_networking_classifier = computer_networking_classifier['logistic_regression']\n"
   ],
   "id": "ea6883cbb3446c52",
   "outputs": [],
   "execution_count": 12
  },
  {
   "metadata": {
    "ExecuteTime": {
     "end_time": "2025-01-27T19:31:48.425336Z",
     "start_time": "2025-01-27T19:31:48.351290Z"
    }
   },
   "cell_type": "code",
   "source": "pd.DataFrame(data=general_classifier.predict(X[:1]), columns=mlb.classes_)\n",
   "id": "1aced6f0aa06a045",
   "outputs": [
    {
     "data": {
      "text/plain": [
       "   computer security  hardware  networking  operating systems  other  software\n",
       "0                  1         0           1                  0      0         1"
      ],
      "text/html": [
       "<div>\n",
       "<style scoped>\n",
       "    .dataframe tbody tr th:only-of-type {\n",
       "        vertical-align: middle;\n",
       "    }\n",
       "\n",
       "    .dataframe tbody tr th {\n",
       "        vertical-align: top;\n",
       "    }\n",
       "\n",
       "    .dataframe thead th {\n",
       "        text-align: right;\n",
       "    }\n",
       "</style>\n",
       "<table border=\"1\" class=\"dataframe\">\n",
       "  <thead>\n",
       "    <tr style=\"text-align: right;\">\n",
       "      <th></th>\n",
       "      <th>computer security</th>\n",
       "      <th>hardware</th>\n",
       "      <th>networking</th>\n",
       "      <th>operating systems</th>\n",
       "      <th>other</th>\n",
       "      <th>software</th>\n",
       "    </tr>\n",
       "  </thead>\n",
       "  <tbody>\n",
       "    <tr>\n",
       "      <th>0</th>\n",
       "      <td>1</td>\n",
       "      <td>0</td>\n",
       "      <td>1</td>\n",
       "      <td>0</td>\n",
       "      <td>0</td>\n",
       "      <td>1</td>\n",
       "    </tr>\n",
       "  </tbody>\n",
       "</table>\n",
       "</div>"
      ]
     },
     "execution_count": 13,
     "metadata": {},
     "output_type": "execute_result"
    }
   ],
   "execution_count": 13
  },
  {
   "metadata": {},
   "cell_type": "markdown",
   "source": "# Final Classifier\n",
   "id": "e0102dc8816ae9db"
  },
  {
   "metadata": {
    "ExecuteTime": {
     "end_time": "2025-01-27T21:37:50.052898Z",
     "start_time": "2025-01-27T21:37:50.037169Z"
    }
   },
   "cell_type": "code",
   "source": [
    "class ClassifierSystem:\n",
    "    def __init__(self, models: dict[str, (BaseEstimator, list[str])], embedder_path: Path, embedding_dim: int):\n",
    "        self.models = models\n",
    "        self.embedder_path = embedder_path\n",
    "        self.embedding_dim = embedding_dim\n",
    "\n",
    "    def predict(self, x_emb):\n",
    "        #x_emb = self.preprocess_texts(list_str=x)\n",
    "\n",
    "        translate = lambda predictions, classes: [[\n",
    "            classes[yi] for yi in y_hat\n",
    "        ] for y_hat in [\n",
    "            np.where(y_hat == 1)[0]\n",
    "            for y_hat in predictions\n",
    "        ]]\n",
    "\n",
    "        general_predict = translate(\n",
    "            predictions=self.models['general_classifier']['model'].predict(x_emb),\n",
    "            classes=self.models['general_classifier']['classes']\n",
    "        )\n",
    "        y_prediction = general_predict.copy()\n",
    "\n",
    "        for idx, yp in enumerate(general_predict):\n",
    "            y_prediction_i = set(yp)\n",
    "            if 'computer security' in y_prediction_i:\n",
    "                y_prediction_i = set(translate(\n",
    "                    predictions=self.models['computer_security_classifier']['model'].predict(x_emb),\n",
    "                    classes=self.models['computer_security_classifier']['classes']\n",
    "                )[0]) | set(y_prediction_i)\n",
    "            if 'operating systems' in y_prediction_i:\n",
    "                y_prediction_i = set(translate(\n",
    "                    predictions=self.models['operating_systems_classifier']['model'].predict(x_emb),\n",
    "                    classes=self.models['operating_systems_classifier']['classes']\n",
    "                )[0]) | set(y_prediction_i)\n",
    "            if 'software' in y_prediction_i:\n",
    "                y_prediction_i = set(translate(\n",
    "                    predictions=self.models['software_classifier']['model'].predict(x_emb),\n",
    "                    classes=self.models['software_classifier']['classes']\n",
    "                )[0]) | set(y_prediction_i)\n",
    "            if 'hardware' in y_prediction_i:\n",
    "                y_prediction_i = set(translate(\n",
    "                    predictions=self.models['hardware_classifier']['model'].predict(x_emb),\n",
    "                    classes=self.models['hardware_classifier']['classes']\n",
    "                )[0]) | set(y_prediction_i)\n",
    "            if 'computer' in y_prediction_i:\n",
    "                y_prediction_i = set(translate(\n",
    "                    predictions=self.models['computer_classifier']['model'].predict(x_emb),\n",
    "                    classes=self.models['computer_classifier']['classes']\n",
    "                )[0]) | set(y_prediction_i)\n",
    "            if 'computer networking' in y_prediction_i:\n",
    "                y_prediction_i = set(translate(\n",
    "                    predictions=self.models['computer_networking_classifier']['model'].predict(x_emb),\n",
    "                    classes=self.models['computer_networking_classifier']['classes']\n",
    "                )[0]) | set(y_prediction_i)\n",
    "\n",
    "            y_prediction[idx] = list(y_prediction_i)\n",
    "\n",
    "        return y_prediction\n",
    "\n",
    "    def load_embedder_dict(self) -> dict[Union[str, list[str]], np.ndarray[Any, np.dtype]]:\n",
    "        embeddings_dict = {}\n",
    "        f = open(self.embedder_path, 'r', encoding='utf-8')\n",
    "\n",
    "        for line in f:\n",
    "            values = line.split()\n",
    "            word = values[:-self.embedding_dim]\n",
    "\n",
    "            if type(word) is list:\n",
    "                word = ' '.join(word)\n",
    "\n",
    "            vector = np.asarray([float(val) for val in values[-self.embedding_dim:]])\n",
    "            embeddings_dict[word] = vector\n",
    "\n",
    "        f.close()\n",
    "\n",
    "        return embeddings_dict\n",
    "\n",
    "    def preprocess_texts(self, list_str: list[str]) -> np.ndarray[Any, np.dtype]:\n",
    "        embedder = self.load_embedder_dict()\n",
    "        list_embedded_str = np.zeros(shape=(len(list_str), self.embedding_dim))\n",
    "\n",
    "        for i, text in enumerate(list_str):\n",
    "            tokens = re.findall(r'\\w+|[{}]'.format(re.escape(pattern=string.punctuation)), text)\n",
    "\n",
    "            for token in tokens:\n",
    "                try:\n",
    "                    list_embedded_str[i] += embedder[token.lower()]\n",
    "                except KeyError:\n",
    "                    continue\n",
    "\n",
    "        return list_embedded_str\n",
    "\n"
   ],
   "id": "e895ff4f94b364e1",
   "outputs": [],
   "execution_count": 135
  },
  {
   "metadata": {
    "ExecuteTime": {
     "end_time": "2025-01-27T21:32:24.792752Z",
     "start_time": "2025-01-27T21:32:24.784504Z"
    }
   },
   "cell_type": "code",
   "source": [
    "models_dict = {\n",
    "    'general_classifier': {\n",
    "        'model': general_classifier,\n",
    "        'classes': ['computer security', 'hardware', 'networking', 'operating systems', 'other', 'software'],\n",
    "    },\n",
    "    'computer_security_classifier': {\n",
    "        'model': computer_security_classifier,\n",
    "        'classes': ['antivirus and malware', 'network security', 'computer security']\n",
    "    },\n",
    "    'operating_systems_classifier': {\n",
    "        'model': operating_systems_classifier,\n",
    "        'classes': ['mac os', 'linux', 'unix', 'windows', 'operating systems']\n",
    "    },\n",
    "    'software_classifier': {\n",
    "        'model': software_classifier,\n",
    "        'classes': ['databases', 'software']\n",
    "    },\n",
    "    'hardware_classifier': {\n",
    "        'model': hardware_classifier,\n",
    "        'classes': ['computer', 'computer components', 'computer networking', 'hardware']\n",
    "    },\n",
    "    'computer_classifier': {\n",
    "        'model': computer_classifier,\n",
    "        'classes': ['servers', 'portable computer', 'desktop computer', 'computer']\n",
    "    },\n",
    "    'computer_networking_classifier': {\n",
    "        'model': computer_networking_classifier,\n",
    "        'classes': ['router', 'wireless technology', 'computer networking']\n",
    "    }\n",
    "}\n"
   ],
   "id": "8e606b74d6a64c30",
   "outputs": [],
   "execution_count": 132
  },
  {
   "metadata": {
    "ExecuteTime": {
     "end_time": "2025-01-27T21:37:52.609644Z",
     "start_time": "2025-01-27T21:37:52.605246Z"
    }
   },
   "cell_type": "code",
   "source": [
    "system = ClassifierSystem(\n",
    "    models=models_dict,\n",
    "    embedder_path=GLOVE_6B_300D_TXT,\n",
    "    embedding_dim=300\n",
    ")\n"
   ],
   "id": "502f9135a1c2ffe2",
   "outputs": [],
   "execution_count": 136
  },
  {
   "metadata": {
    "ExecuteTime": {
     "end_time": "2025-01-27T21:40:25.590683Z",
     "start_time": "2025-01-27T21:40:25.547337Z"
    }
   },
   "cell_type": "code",
   "source": [
    "y_predict = system.predict(X[:10])\n",
    "y_predict"
   ],
   "id": "b01d683d28791072",
   "outputs": [
    {
     "data": {
      "text/plain": [
       "[['antivirus and malware', 'networking', 'software', 'computer security'],\n",
       " ['other'],\n",
       " ['computer security', 'antivirus and malware'],\n",
       " ['operating systems'],\n",
       " ['software'],\n",
       " ['hardware',\n",
       "  'computer',\n",
       "  'antivirus and malware',\n",
       "  'computer security',\n",
       "  'portable computer'],\n",
       " ['computer security', 'antivirus and malware'],\n",
       " ['computer security', 'antivirus and malware'],\n",
       " ['computer security', 'antivirus and malware'],\n",
       " ['computer security', 'antivirus and malware']]"
      ]
     },
     "execution_count": 145,
     "metadata": {},
     "output_type": "execute_result"
    }
   ],
   "execution_count": 145
  },
  {
   "metadata": {
    "ExecuteTime": {
     "end_time": "2025-01-27T21:40:06.983750Z",
     "start_time": "2025-01-27T21:40:06.963669Z"
    }
   },
   "cell_type": "code",
   "source": "threat_tweets[['text', 'watson_list']]",
   "id": "3a9a1e580972338c",
   "outputs": [
    {
     "data": {
      "text/plain": [
       "                                                                                                                                                 text  \\\n",
       "0                            Protect  your customers  access Prestashop Anti DDoS Attack #Prestashop  https://t.co/xUGxiI8zw8 https://t.co/hXmPX30FmK   \n",
       "1                                                               Data leak from Huazhu Hotels may affect 130 million customers https://t.co/RRXVTAWnIu   \n",
       "2                                                              Instagram App 41.1788.50991.0 #Denial Of #Service https://t.co/pTsuQe2HT9 #PacketStorm   \n",
       "3            (good slides): \\n\\nThe Advanced Exploitation of 64-bit Edge Browser Use-After-Free Vulnerability on Windows 10:… https://t.co/crTHE7uTUt   \n",
       "4      CVE-2018-1000532 (beep)\\nhttps://t.co/CaKbo38UEg\\nbeep version 1.3 and up contains a External Control of File Name or Path vulnerability in --   \n",
       "...                                                                                                                                               ...   \n",
       "11107                                                                                    @PicturesFoIder They're not wrong because chrome is a botnet   \n",
       "11108    Incredibly powerful presentation by @rlovell100 on victim vulnerability. Map of unsubmitted sexual assault kits fro… https://t.co/VKZq38SSGh   \n",
       "11109                                                                                           @NarutoRomania ransomware content blackmail followers   \n",
       "11110                                                           Make sure you have upgraded to #tor 8.0 #privacy @torproject  https://t.co/yfGmKnAcXs   \n",
       "11111                   @osp_ru please notify your IT security team about a security vulnerability OBB-675638 on your website https://t.co/PUNgo9SI1F   \n",
       "\n",
       "                                                                                                                                                                 watson_list  \n",
       "0                                                             [technology and computing, internet technology, ecommerce, software, computer security, antivirus and malware]  \n",
       "1                                                        [travel, hotels, home and garden, home improvement and repair, plumbing, health and fitness, disease, incontinence]  \n",
       "2      [science, weather, meteorological disaster, hurricane, technology and computing, hardware, computer networking, router, art and entertainment, movies and tv, movies]  \n",
       "3                           [business and industrial, business operations, business plans, technology and computing, operating systems, windows, sports, martial arts, sumo]  \n",
       "4                                                                   [technology and computing, computer security, network security, software, databases, hardware, computer]  \n",
       "...                                                                                                                                                                      ...  \n",
       "11107                                    [technology and computing, computer security, antivirus and malware, law, govt and politics, legal issues, legislation, government]  \n",
       "11108                  [society, crime, personal offense, assault, health and fitness, disease, aids and hiv, technology and computing, computer security, network security]  \n",
       "11109                                    [art and entertainment, comics and animation, anime and manga, movies and tv, movies, travel, tourist destinations, eastern europe]  \n",
       "11110                                        [technology and computing, hardware, computer networking, router, art and entertainment, books and literature, science fiction]  \n",
       "11111                                                                                              [technology and computing, computer security, network security, software]  \n",
       "\n",
       "[11112 rows x 2 columns]"
      ],
      "text/html": [
       "<div>\n",
       "<style scoped>\n",
       "    .dataframe tbody tr th:only-of-type {\n",
       "        vertical-align: middle;\n",
       "    }\n",
       "\n",
       "    .dataframe tbody tr th {\n",
       "        vertical-align: top;\n",
       "    }\n",
       "\n",
       "    .dataframe thead th {\n",
       "        text-align: right;\n",
       "    }\n",
       "</style>\n",
       "<table border=\"1\" class=\"dataframe\">\n",
       "  <thead>\n",
       "    <tr style=\"text-align: right;\">\n",
       "      <th></th>\n",
       "      <th>text</th>\n",
       "      <th>watson_list</th>\n",
       "    </tr>\n",
       "  </thead>\n",
       "  <tbody>\n",
       "    <tr>\n",
       "      <th>0</th>\n",
       "      <td>Protect  your customers  access Prestashop Anti DDoS Attack #Prestashop  https://t.co/xUGxiI8zw8 https://t.co/hXmPX30FmK</td>\n",
       "      <td>[technology and computing, internet technology, ecommerce, software, computer security, antivirus and malware]</td>\n",
       "    </tr>\n",
       "    <tr>\n",
       "      <th>1</th>\n",
       "      <td>Data leak from Huazhu Hotels may affect 130 million customers https://t.co/RRXVTAWnIu</td>\n",
       "      <td>[travel, hotels, home and garden, home improvement and repair, plumbing, health and fitness, disease, incontinence]</td>\n",
       "    </tr>\n",
       "    <tr>\n",
       "      <th>2</th>\n",
       "      <td>Instagram App 41.1788.50991.0 #Denial Of #Service https://t.co/pTsuQe2HT9 #PacketStorm</td>\n",
       "      <td>[science, weather, meteorological disaster, hurricane, technology and computing, hardware, computer networking, router, art and entertainment, movies and tv, movies]</td>\n",
       "    </tr>\n",
       "    <tr>\n",
       "      <th>3</th>\n",
       "      <td>(good slides): \\n\\nThe Advanced Exploitation of 64-bit Edge Browser Use-After-Free Vulnerability on Windows 10:… https://t.co/crTHE7uTUt</td>\n",
       "      <td>[business and industrial, business operations, business plans, technology and computing, operating systems, windows, sports, martial arts, sumo]</td>\n",
       "    </tr>\n",
       "    <tr>\n",
       "      <th>4</th>\n",
       "      <td>CVE-2018-1000532 (beep)\\nhttps://t.co/CaKbo38UEg\\nbeep version 1.3 and up contains a External Control of File Name or Path vulnerability in --</td>\n",
       "      <td>[technology and computing, computer security, network security, software, databases, hardware, computer]</td>\n",
       "    </tr>\n",
       "    <tr>\n",
       "      <th>...</th>\n",
       "      <td>...</td>\n",
       "      <td>...</td>\n",
       "    </tr>\n",
       "    <tr>\n",
       "      <th>11107</th>\n",
       "      <td>@PicturesFoIder They're not wrong because chrome is a botnet</td>\n",
       "      <td>[technology and computing, computer security, antivirus and malware, law, govt and politics, legal issues, legislation, government]</td>\n",
       "    </tr>\n",
       "    <tr>\n",
       "      <th>11108</th>\n",
       "      <td>Incredibly powerful presentation by @rlovell100 on victim vulnerability. Map of unsubmitted sexual assault kits fro… https://t.co/VKZq38SSGh</td>\n",
       "      <td>[society, crime, personal offense, assault, health and fitness, disease, aids and hiv, technology and computing, computer security, network security]</td>\n",
       "    </tr>\n",
       "    <tr>\n",
       "      <th>11109</th>\n",
       "      <td>@NarutoRomania ransomware content blackmail followers</td>\n",
       "      <td>[art and entertainment, comics and animation, anime and manga, movies and tv, movies, travel, tourist destinations, eastern europe]</td>\n",
       "    </tr>\n",
       "    <tr>\n",
       "      <th>11110</th>\n",
       "      <td>Make sure you have upgraded to #tor 8.0 #privacy @torproject  https://t.co/yfGmKnAcXs</td>\n",
       "      <td>[technology and computing, hardware, computer networking, router, art and entertainment, books and literature, science fiction]</td>\n",
       "    </tr>\n",
       "    <tr>\n",
       "      <th>11111</th>\n",
       "      <td>@osp_ru please notify your IT security team about a security vulnerability OBB-675638 on your website https://t.co/PUNgo9SI1F</td>\n",
       "      <td>[technology and computing, computer security, network security, software]</td>\n",
       "    </tr>\n",
       "  </tbody>\n",
       "</table>\n",
       "<p>11112 rows × 2 columns</p>\n",
       "</div>"
      ]
     },
     "execution_count": 144,
     "metadata": {},
     "output_type": "execute_result"
    }
   ],
   "execution_count": 144
  }
 ],
 "metadata": {
  "kernelspec": {
   "display_name": "Python 3",
   "language": "python",
   "name": "python3"
  },
  "language_info": {
   "codemirror_mode": {
    "name": "ipython",
    "version": 2
   },
   "file_extension": ".py",
   "mimetype": "text/x-python",
   "name": "python",
   "nbconvert_exporter": "python",
   "pygments_lexer": "ipython2",
   "version": "2.7.6"
  }
 },
 "nbformat": 4,
 "nbformat_minor": 5
}
