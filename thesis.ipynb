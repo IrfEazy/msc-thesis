{
  "cells": [
    {
      "cell_type": "markdown",
      "metadata": {
        "id": "view-in-github",
        "colab_type": "text"
      },
      "source": [
        "<a href=\"https://colab.research.google.com/github/IrfEazy/msc-thesis/blob/main/thesis.ipynb\" target=\"_parent\"><img src=\"https://colab.research.google.com/assets/colab-badge.svg\" alt=\"Open In Colab\"/></a>"
      ]
    },
    {
      "cell_type": "markdown",
      "source": [
        "# Imports\n"
      ],
      "metadata": {
        "id": "U_P5RbJEiQWm"
      },
      "id": "U_P5RbJEiQWm"
    },
    {
      "cell_type": "code",
      "source": [
        "!pip install nltk -qqq\n",
        "!pip install rake-nltk -qqq\n",
        "!pip install tensorflow -qqq\n"
      ],
      "metadata": {
        "id": "XO3CcAR3kM6G"
      },
      "id": "XO3CcAR3kM6G",
      "execution_count": 1,
      "outputs": []
    },
    {
      "cell_type": "code",
      "source": [
        "import gzip\n",
        "import os\n",
        "import shutil\n",
        "import string\n",
        "from pathlib import Path\n",
        "\n",
        "import gensim.models\n",
        "import inflect\n",
        "import nltk\n",
        "import numpy as np\n",
        "import pandas as pd\n",
        "import requests\n",
        "import torch.cuda\n",
        "from google.colab import drive\n",
        "from matplotlib import pyplot as plt\n",
        "from nltk import PorterStemmer\n",
        "from nltk.corpus import stopwords\n",
        "from sklearn.metrics import accuracy_score, f1_score\n",
        "from sklearn.model_selection import train_test_split\n",
        "from sklearn.utils import class_weight\n",
        "from tensorflow.keras.layers import Input, Conv1D, MaxPooling1D, Flatten, Dense\n",
        "from tensorflow.keras.models import Sequential\n",
        "from transformers import pipeline\n"
      ],
      "metadata": {
        "id": "wnoJs_BXiPXv"
      },
      "id": "wnoJs_BXiPXv",
      "execution_count": 77,
      "outputs": []
    },
    {
      "cell_type": "code",
      "source": [
        "nltk.download('stopwords')\n"
      ],
      "metadata": {
        "colab": {
          "base_uri": "https://localhost:8080/"
        },
        "id": "GZ-cKOI4k4C-",
        "outputId": "ffc28b29-9b9a-4be0-878c-dc58ecde01c9"
      },
      "id": "GZ-cKOI4k4C-",
      "execution_count": 3,
      "outputs": [
        {
          "output_type": "stream",
          "name": "stderr",
          "text": [
            "[nltk_data] Downloading package stopwords to /root/nltk_data...\n",
            "[nltk_data]   Unzipping corpora/stopwords.zip.\n"
          ]
        },
        {
          "output_type": "execute_result",
          "data": {
            "text/plain": [
              "True"
            ]
          },
          "metadata": {},
          "execution_count": 3
        }
      ]
    },
    {
      "cell_type": "markdown",
      "source": [
        "# Environment Settings\n"
      ],
      "metadata": {
        "id": "XB8PA9MjiSBd"
      },
      "id": "XB8PA9MjiSBd"
    },
    {
      "cell_type": "code",
      "source": [
        "# Constant variables\n",
        "BATCH_SIZE = 32\n",
        "EPOCHS = 10\n",
        "NUM_FOLDS = 10\n",
        "RANDOM_SEED = 42\n",
        "\n",
        "# CSV files\n",
        "X_CSV = Path(\"data/X.csv\")\n",
        "\n",
        "# JSON files\n",
        "THREAT_TWEETS_JSON = Path('data/threat.tweets.json')\n",
        "X_JSON = Path(\"data/X.json\")\n",
        "\n",
        "# Directories\n",
        "THESIS_DIR = Path('/content/drive/MyDrive/thesis/')\n",
        "\n",
        "# Models\n",
        "WORD2VEC_BIN = Path('models/GoogleNews-vectors-negative300.bin')\n",
        "WORD2VEC_BIN_GZ = Path('models/GoogleNews-vectors-negative300.bin.gz')\n",
        "WORD2VEC_BIN_GZ_URL = 'https://drive.usercontent.google.com/download?id=0B7XkCwpI5KDYNlNUTTlSS21pQmM&export=download&authuser=0&confirm=t&uuid=7d62ae10-fee5-4471-a14b-d3fc3c8de6cf&at=AENtkXYp0oeqJDsqv8DR2sbelnZ5%3A1732188868578'\n"
      ],
      "metadata": {
        "id": "RE9Ld3DSleGn"
      },
      "id": "RE9Ld3DSleGn",
      "execution_count": 4,
      "outputs": []
    },
    {
      "cell_type": "code",
      "source": [
        "# Change current directory into /content/drive/My Drive/Tesi/thesis, and if\n",
        "# the folder thesis is not available, create it\n",
        "drive.mount('/content/drive')\n",
        "\n",
        "# Check if the directory exists, and create it if it doesn't\n",
        "if not os.path.exists(THESIS_DIR):\n",
        "    os.makedirs(THESIS_DIR)\n",
        "\n",
        "# Change the current working directory\n",
        "os.chdir(THESIS_DIR)\n",
        "\n",
        "# Verify the directory change\n",
        "print(\"Current working directory:\", os.getcwd())\n"
      ],
      "metadata": {
        "colab": {
          "base_uri": "https://localhost:8080/"
        },
        "id": "NV27r3e7hxxk",
        "outputId": "c8b92c8d-decb-4f4b-9b1d-026ecf43d5f3"
      },
      "id": "NV27r3e7hxxk",
      "execution_count": 5,
      "outputs": [
        {
          "output_type": "stream",
          "name": "stdout",
          "text": [
            "Mounted at /content/drive\n",
            "Current working directory: /content/drive/MyDrive/thesis\n"
          ]
        }
      ]
    },
    {
      "cell_type": "code",
      "source": [
        "# Decompress the model in 'models/GoogleNews-vectors-negative300.bin.gz' in the same folder\n",
        "# Check if the decompressed file already exists\n",
        "if os.path.exists(WORD2VEC_BIN):\n",
        "    print('File already decompressed.')\n",
        "else:\n",
        "    # Check if the compressed file exists\n",
        "    if os.path.exists(WORD2VEC_BIN_GZ):\n",
        "        try:\n",
        "            with gzip.open(WORD2VEC_BIN_GZ, 'rb') as f_in:\n",
        "                with open(WORD2VEC_BIN, 'wb') as f_out:\n",
        "                    shutil.copyfileobj(f_in, f_out)\n",
        "\n",
        "            print('File decompressed successfully.')\n",
        "        except OSError as e:\n",
        "            print(f'An error occurred during decompression: {e}')\n",
        "    else:\n",
        "        # Download the file from Google Drive if it's not present\n",
        "        response = requests.get(WORD2VEC_BIN_GZ_URL)\n",
        "\n",
        "        if response.status_code == 200:\n",
        "            with open(WORD2VEC_BIN_GZ, 'wb') as f:\n",
        "                f.write(response.content)\n",
        "\n",
        "            print('File downloaded successfully.')\n",
        "\n",
        "        try:\n",
        "            with gzip.open(WORD2VEC_BIN_GZ, 'rb') as f_in:\n",
        "                with open(WORD2VEC_BIN, 'wb') as f_out:\n",
        "                    shutil.copyfileobj(f_in, f_out)\n",
        "\n",
        "            print('File decompressed successfully.')\n",
        "        except OSError as e:\n",
        "            print(f'An error occurred during decompression: {e}')\n"
      ],
      "metadata": {
        "colab": {
          "base_uri": "https://localhost:8080/"
        },
        "id": "U8URKLpNgVKr",
        "outputId": "c24f9626-44e3-49cb-cbaf-65cacb44604b"
      },
      "id": "U8URKLpNgVKr",
      "execution_count": 6,
      "outputs": [
        {
          "output_type": "stream",
          "name": "stdout",
          "text": [
            "File already decompressed.\n"
          ]
        }
      ]
    },
    {
      "cell_type": "markdown",
      "source": [
        "# Functions"
      ],
      "metadata": {
        "id": "uq8Pq9Fe-HwK"
      },
      "id": "uq8Pq9Fe-HwK"
    },
    {
      "cell_type": "code",
      "source": [
        "def replace_digits_with_words(tokens):\n",
        "    inflect_engine = inflect.engine()\n",
        "    return [inflect_engine.number_to_words(token) if token.isdigit() else token for token in tokens]\n"
      ],
      "metadata": {
        "id": "aTypFDwB-JyL"
      },
      "id": "aTypFDwB-JyL",
      "execution_count": 7,
      "outputs": []
    },
    {
      "metadata": {
        "id": "717f778564fb331b"
      },
      "cell_type": "markdown",
      "source": [
        "# [A Framework for Unsupervised Classification and Data Mining of Tweets about Cyber Vulnerabilities](https://arxiv.org/abs/2104.11695)\n",
        "\n",
        "Recent studies have indicated that the NVD is not always up to date, with known vulnerabilities being discussed publicly on social media platforms, like Twitter and Reddit, months before they are published to the NVD. To that end, we present a framework for unsupervised classification to filter tweets for relevance to cybersecurity. We consider and evaluate two unsupervised ML techniques for inclusion in our framework, and show that zero-shot classification using a Bidirectional and Auto-Regressive Transformers (BART) model outperforms the other technique with 83.52% accuracy and a F1 score of 83.88%, allowing for accurate filtering of tweets without human intervention or labelled data for training.\n",
        "\n",
        "Additionally, we discuss different insights that can be derived from these cyber-relevant tweets, such as trending topics of tweets and the counts of Twitter mentions for Common Vulnerabilities and Exposures (CVEs), that can be used in an alert or report to augment current NVD-based risk assessment tools.\n"
      ],
      "id": "717f778564fb331b"
    },
    {
      "metadata": {
        "id": "1a244950ded1df53"
      },
      "cell_type": "markdown",
      "source": [
        "In this experiment, the unsupervised techniques were evaluated on a labelled dataset of tweets from Behzadan et al.\n"
      ],
      "id": "1a244950ded1df53"
    },
    {
      "metadata": {
        "id": "cc67dd9b4cd565bf"
      },
      "cell_type": "markdown",
      "source": [
        "## [Corpus and Deep Learning Classifier for Collection of Cyber Threat Indicators in Twitter Stream](https://ieeexplore.ieee.org/document/8622506)\n",
        "\n",
        "A corpus of 21.000 tweets was curated directly from [Twitter](https://github.com/behzadanksu/cybertweets)\n"
      ],
      "id": "cc67dd9b4cd565bf"
    },
    {
      "metadata": {
        "id": "e54239dc6b6baea3"
      },
      "cell_type": "code",
      "source": [
        "# Load JSON into a pandas DataFrame\n",
        "threat_tweets = pd.read_json(path_or_buf=THREAT_TWEETS_JSON)\n"
      ],
      "id": "e54239dc6b6baea3",
      "outputs": [],
      "execution_count": 8
    },
    {
      "metadata": {
        "id": "42d70c103811f3f2"
      },
      "cell_type": "code",
      "source": [
        "stop_words = set(stopwords.words('english'))\n",
        "stemmer = PorterStemmer()\n",
        "\n",
        "threat_tweets['preprocess-text'] = threat_tweets['text']\n",
        "\n",
        "# 1. Conversion of all characters of the tweet to lower case\n",
        "threat_tweets['preprocess-text'] = threat_tweets['preprocess-text'].str.lower()\n",
        "\n",
        "# 2. Tokenize the text according to white-space separations\n",
        "threat_tweets['preprocess-text'] = threat_tweets['preprocess-text'].str.split()\n",
        "\n",
        "# 3. Remove tokens that are not encoded in ASCII\n",
        "threat_tweets['preprocess-text'] = threat_tweets['preprocess-text'].apply(\n",
        "    lambda tokens: [token for token in tokens if token.isascii()]\n",
        ")\n",
        "\n",
        "# 4. Remove punctuation from each token\n",
        "threat_tweets['preprocess-text'] = threat_tweets['preprocess-text'].apply(\n",
        "    lambda tokens: [token.translate(str.maketrans('', '', string.punctuation)) for token in tokens]\n",
        ")\n",
        "\n",
        "# 5. Remove tokens that are not composed of alphanumeric characters\n",
        "threat_tweets['preprocess-text'] = threat_tweets['preprocess-text'].apply(\n",
        "    lambda tokens: [token for token in tokens if token.isalnum()]\n",
        ")\n",
        "\n",
        "# 6. Substitute digits with word representations (e.g., 4 -> four)\n",
        "threat_tweets['preprocess-text'] = threat_tweets['preprocess-text'].apply(replace_digits_with_words)\n",
        "\n",
        "# 7. Remove stop words\n",
        "threat_tweets['preprocess-text'] = threat_tweets['preprocess-text'].apply(\n",
        "    lambda tokens: [word for word in tokens if word.lower() not in stop_words]\n",
        ")\n",
        "\n",
        "# 8. Stem tokens\n",
        "threat_tweets['preprocess-text'] = threat_tweets['preprocess-text'].apply(\n",
        "    lambda tokens: [stemmer.stem(token) for token in tokens]\n",
        ")\n"
      ],
      "id": "42d70c103811f3f2",
      "outputs": [],
      "execution_count": 9
    },
    {
      "metadata": {
        "colab": {
          "base_uri": "https://localhost:8080/",
          "height": 1000
        },
        "id": "7148397b8ae28501",
        "outputId": "36c754ec-f8fc-464c-8ec0-db61949b1440"
      },
      "cell_type": "code",
      "source": [
        "threat_tweets\n"
      ],
      "id": "7148397b8ae28501",
      "outputs": [
        {
          "output_type": "execute_result",
          "data": {
            "text/plain": [
              "                                        _id  \\\n",
              "0      {'$oid': '5b88752abb325e65390af240'}   \n",
              "1      {'$oid': '5b8875d5bb325e65a22cf81b'}   \n",
              "2      {'$oid': '5b88768dbb325e65fa7e78e3'}   \n",
              "3      {'$oid': '5b8876f9bb325e65fa7e78e4'}   \n",
              "4      {'$oid': '5b8876f9bb325e65fa7e78e5'}   \n",
              "...                                     ...   \n",
              "21363  {'$oid': '5b982924bb325e3cadebf9ad'}   \n",
              "21364  {'$oid': '5b982928bb325e3cadebf9ae'}   \n",
              "21365  {'$oid': '5b982929bb325e3cadebf9af'}   \n",
              "21366  {'$oid': '5b98294abb325e3cadebf9b0'}   \n",
              "21367  {'$oid': '5b98e639bb325e65a7d88a71'}   \n",
              "\n",
              "                                        date                   id  relevant  \\\n",
              "0      {'$date': '2018-08-30T22:52:25.000Z'}  1035299228984041472     False   \n",
              "1      {'$date': '2018-08-30T22:55:15.000Z'}  1035299941932036096     False   \n",
              "2      {'$date': '2018-08-30T22:58:20.000Z'}  1035300715470757888     False   \n",
              "3      {'$date': '2018-08-30T23:00:08.000Z'}  1035301167952211968      True   \n",
              "4      {'$date': '2018-08-30T23:00:09.000Z'}  1035301173178249216      True   \n",
              "...                                      ...                  ...       ...   \n",
              "21363  {'$date': '2018-09-11T20:44:19.000Z'}  1039615645883789312     False   \n",
              "21364  {'$date': '2018-09-11T20:44:24.000Z'}  1039615665584259072      True   \n",
              "21365  {'$date': '2018-09-11T20:44:25.000Z'}  1039615668814077952      True   \n",
              "21366  {'$date': '2018-09-11T20:44:58.000Z'}  1039615806303133696     False   \n",
              "21367  {'$date': '2018-09-12T10:11:04.000Z'}  1039818672049553408      True   \n",
              "\n",
              "                                                    text  \\\n",
              "0      Best way to build empathy is through honesty a...   \n",
              "1      Cryptocurrency Scams Replacing Ransomware as A...   \n",
              "2      Cryptocurrency Scams Replacing Ransomware as A...   \n",
              "3      Protect  your customers  access Prestashop Ant...   \n",
              "4      Data leak from Huazhu Hotels may affect 130 mi...   \n",
              "...                                                  ...   \n",
              "21363  @FuddBot (cont'd) ... Spikes in tweet volume: ...   \n",
              "21364  @NarutoRomania ransomware content blackmail fo...   \n",
              "21365  Make sure you have upgraded to #tor 8.0 #priva...   \n",
              "21366  @JennMGreenberg @MindingTheKings I was thinkin...   \n",
              "21367  @osp_ru please notify your IT security team ab...   \n",
              "\n",
              "                                                   tweet             type  \\\n",
              "0      {'created_at': 'Thu Aug 30 22:52:25 +0000 2018...  [vulnerability]   \n",
              "1      {'created_at': 'Thu Aug 30 22:55:15 +0000 2018...     [ransomware]   \n",
              "2      {'created_at': 'Thu Aug 30 22:58:20 +0000 2018...     [ransomware]   \n",
              "3      {'created_at': 'Thu Aug 30 23:00:08 +0000 2018...           [ddos]   \n",
              "4      {'created_at': 'Thu Aug 30 23:00:09 +0000 2018...           [leak]   \n",
              "...                                                  ...              ...   \n",
              "21363  {'created_at': 'Tue Sep 11 20:44:19 +0000 2018...         [botnet]   \n",
              "21364  {'created_at': 'Tue Sep 11 20:44:24 +0000 2018...     [ransomware]   \n",
              "21365  {'created_at': 'Tue Sep 11 20:44:25 +0000 2018...        [general]   \n",
              "21366  {'created_at': 'Tue Sep 11 20:44:58 +0000 2018...        [general]   \n",
              "21367  {'created_at': 'Wed Sep 12 10:11:04 +0000 2018...  [vulnerability]   \n",
              "\n",
              "                                                  watson  annotation  \\\n",
              "0      {'usage': {'text_units': 1, 'text_characters':...  irrelevant   \n",
              "1      {'usage': {'text_units': 1, 'text_characters':...    business   \n",
              "2      {'usage': {'text_units': 1, 'text_characters':...    business   \n",
              "3      {'usage': {'text_units': 1, 'text_characters':...      threat   \n",
              "4      {'usage': {'text_units': 1, 'text_characters':...      threat   \n",
              "...                                                  ...         ...   \n",
              "21363  {'usage': {'text_units': 1, 'text_characters':...    business   \n",
              "21364  {'usage': {'text_units': 1, 'text_characters':...      threat   \n",
              "21365  {'usage': {'text_units': 1, 'text_characters':...      threat   \n",
              "21366  {'usage': {'text_units': 1, 'text_characters':...  irrelevant   \n",
              "21367  {'usage': {'text_units': 1, 'text_characters':...      threat   \n",
              "\n",
              "                                         preprocess-text  \n",
              "0           [best, way, build, empathi, honesti, vulner]  \n",
              "1      [cryptocurr, scam, replac, ransomwar, attack, ...  \n",
              "2      [cryptocurr, scam, replac, ransomwar, attack, ...  \n",
              "3      [protect, custom, access, prestashop, anti, dd...  \n",
              "4      [data, leak, huazhu, hotel, may, affect, one h...  \n",
              "...                                                  ...  \n",
              "21363  [fuddbot, contd, spike, tweet, volum, twenty m...  \n",
              "21364  [narutoromania, ransomwar, content, blackmail,...  \n",
              "21365  [make, sure, upgrad, tor, eighti, privaci, tor...  \n",
              "21366  [jennmgreenberg, mindingthek, think, pregnanc,...  \n",
              "21367  [ospru, pleas, notifi, secur, team, secur, vul...  \n",
              "\n",
              "[21368 rows x 10 columns]"
            ],
            "text/html": [
              "\n",
              "  <div id=\"df-b05bf18e-2f59-492c-9eef-d2c82e8b83a0\" class=\"colab-df-container\">\n",
              "    <div>\n",
              "<style scoped>\n",
              "    .dataframe tbody tr th:only-of-type {\n",
              "        vertical-align: middle;\n",
              "    }\n",
              "\n",
              "    .dataframe tbody tr th {\n",
              "        vertical-align: top;\n",
              "    }\n",
              "\n",
              "    .dataframe thead th {\n",
              "        text-align: right;\n",
              "    }\n",
              "</style>\n",
              "<table border=\"1\" class=\"dataframe\">\n",
              "  <thead>\n",
              "    <tr style=\"text-align: right;\">\n",
              "      <th></th>\n",
              "      <th>_id</th>\n",
              "      <th>date</th>\n",
              "      <th>id</th>\n",
              "      <th>relevant</th>\n",
              "      <th>text</th>\n",
              "      <th>tweet</th>\n",
              "      <th>type</th>\n",
              "      <th>watson</th>\n",
              "      <th>annotation</th>\n",
              "      <th>preprocess-text</th>\n",
              "    </tr>\n",
              "  </thead>\n",
              "  <tbody>\n",
              "    <tr>\n",
              "      <th>0</th>\n",
              "      <td>{'$oid': '5b88752abb325e65390af240'}</td>\n",
              "      <td>{'$date': '2018-08-30T22:52:25.000Z'}</td>\n",
              "      <td>1035299228984041472</td>\n",
              "      <td>False</td>\n",
              "      <td>Best way to build empathy is through honesty a...</td>\n",
              "      <td>{'created_at': 'Thu Aug 30 22:52:25 +0000 2018...</td>\n",
              "      <td>[vulnerability]</td>\n",
              "      <td>{'usage': {'text_units': 1, 'text_characters':...</td>\n",
              "      <td>irrelevant</td>\n",
              "      <td>[best, way, build, empathi, honesti, vulner]</td>\n",
              "    </tr>\n",
              "    <tr>\n",
              "      <th>1</th>\n",
              "      <td>{'$oid': '5b8875d5bb325e65a22cf81b'}</td>\n",
              "      <td>{'$date': '2018-08-30T22:55:15.000Z'}</td>\n",
              "      <td>1035299941932036096</td>\n",
              "      <td>False</td>\n",
              "      <td>Cryptocurrency Scams Replacing Ransomware as A...</td>\n",
              "      <td>{'created_at': 'Thu Aug 30 22:55:15 +0000 2018...</td>\n",
              "      <td>[ransomware]</td>\n",
              "      <td>{'usage': {'text_units': 1, 'text_characters':...</td>\n",
              "      <td>business</td>\n",
              "      <td>[cryptocurr, scam, replac, ransomwar, attack, ...</td>\n",
              "    </tr>\n",
              "    <tr>\n",
              "      <th>2</th>\n",
              "      <td>{'$oid': '5b88768dbb325e65fa7e78e3'}</td>\n",
              "      <td>{'$date': '2018-08-30T22:58:20.000Z'}</td>\n",
              "      <td>1035300715470757888</td>\n",
              "      <td>False</td>\n",
              "      <td>Cryptocurrency Scams Replacing Ransomware as A...</td>\n",
              "      <td>{'created_at': 'Thu Aug 30 22:58:20 +0000 2018...</td>\n",
              "      <td>[ransomware]</td>\n",
              "      <td>{'usage': {'text_units': 1, 'text_characters':...</td>\n",
              "      <td>business</td>\n",
              "      <td>[cryptocurr, scam, replac, ransomwar, attack, ...</td>\n",
              "    </tr>\n",
              "    <tr>\n",
              "      <th>3</th>\n",
              "      <td>{'$oid': '5b8876f9bb325e65fa7e78e4'}</td>\n",
              "      <td>{'$date': '2018-08-30T23:00:08.000Z'}</td>\n",
              "      <td>1035301167952211968</td>\n",
              "      <td>True</td>\n",
              "      <td>Protect  your customers  access Prestashop Ant...</td>\n",
              "      <td>{'created_at': 'Thu Aug 30 23:00:08 +0000 2018...</td>\n",
              "      <td>[ddos]</td>\n",
              "      <td>{'usage': {'text_units': 1, 'text_characters':...</td>\n",
              "      <td>threat</td>\n",
              "      <td>[protect, custom, access, prestashop, anti, dd...</td>\n",
              "    </tr>\n",
              "    <tr>\n",
              "      <th>4</th>\n",
              "      <td>{'$oid': '5b8876f9bb325e65fa7e78e5'}</td>\n",
              "      <td>{'$date': '2018-08-30T23:00:09.000Z'}</td>\n",
              "      <td>1035301173178249216</td>\n",
              "      <td>True</td>\n",
              "      <td>Data leak from Huazhu Hotels may affect 130 mi...</td>\n",
              "      <td>{'created_at': 'Thu Aug 30 23:00:09 +0000 2018...</td>\n",
              "      <td>[leak]</td>\n",
              "      <td>{'usage': {'text_units': 1, 'text_characters':...</td>\n",
              "      <td>threat</td>\n",
              "      <td>[data, leak, huazhu, hotel, may, affect, one h...</td>\n",
              "    </tr>\n",
              "    <tr>\n",
              "      <th>...</th>\n",
              "      <td>...</td>\n",
              "      <td>...</td>\n",
              "      <td>...</td>\n",
              "      <td>...</td>\n",
              "      <td>...</td>\n",
              "      <td>...</td>\n",
              "      <td>...</td>\n",
              "      <td>...</td>\n",
              "      <td>...</td>\n",
              "      <td>...</td>\n",
              "    </tr>\n",
              "    <tr>\n",
              "      <th>21363</th>\n",
              "      <td>{'$oid': '5b982924bb325e3cadebf9ad'}</td>\n",
              "      <td>{'$date': '2018-09-11T20:44:19.000Z'}</td>\n",
              "      <td>1039615645883789312</td>\n",
              "      <td>False</td>\n",
              "      <td>@FuddBot (cont'd) ... Spikes in tweet volume: ...</td>\n",
              "      <td>{'created_at': 'Tue Sep 11 20:44:19 +0000 2018...</td>\n",
              "      <td>[botnet]</td>\n",
              "      <td>{'usage': {'text_units': 1, 'text_characters':...</td>\n",
              "      <td>business</td>\n",
              "      <td>[fuddbot, contd, spike, tweet, volum, twenty m...</td>\n",
              "    </tr>\n",
              "    <tr>\n",
              "      <th>21364</th>\n",
              "      <td>{'$oid': '5b982928bb325e3cadebf9ae'}</td>\n",
              "      <td>{'$date': '2018-09-11T20:44:24.000Z'}</td>\n",
              "      <td>1039615665584259072</td>\n",
              "      <td>True</td>\n",
              "      <td>@NarutoRomania ransomware content blackmail fo...</td>\n",
              "      <td>{'created_at': 'Tue Sep 11 20:44:24 +0000 2018...</td>\n",
              "      <td>[ransomware]</td>\n",
              "      <td>{'usage': {'text_units': 1, 'text_characters':...</td>\n",
              "      <td>threat</td>\n",
              "      <td>[narutoromania, ransomwar, content, blackmail,...</td>\n",
              "    </tr>\n",
              "    <tr>\n",
              "      <th>21365</th>\n",
              "      <td>{'$oid': '5b982929bb325e3cadebf9af'}</td>\n",
              "      <td>{'$date': '2018-09-11T20:44:25.000Z'}</td>\n",
              "      <td>1039615668814077952</td>\n",
              "      <td>True</td>\n",
              "      <td>Make sure you have upgraded to #tor 8.0 #priva...</td>\n",
              "      <td>{'created_at': 'Tue Sep 11 20:44:25 +0000 2018...</td>\n",
              "      <td>[general]</td>\n",
              "      <td>{'usage': {'text_units': 1, 'text_characters':...</td>\n",
              "      <td>threat</td>\n",
              "      <td>[make, sure, upgrad, tor, eighti, privaci, tor...</td>\n",
              "    </tr>\n",
              "    <tr>\n",
              "      <th>21366</th>\n",
              "      <td>{'$oid': '5b98294abb325e3cadebf9b0'}</td>\n",
              "      <td>{'$date': '2018-09-11T20:44:58.000Z'}</td>\n",
              "      <td>1039615806303133696</td>\n",
              "      <td>False</td>\n",
              "      <td>@JennMGreenberg @MindingTheKings I was thinkin...</td>\n",
              "      <td>{'created_at': 'Tue Sep 11 20:44:58 +0000 2018...</td>\n",
              "      <td>[general]</td>\n",
              "      <td>{'usage': {'text_units': 1, 'text_characters':...</td>\n",
              "      <td>irrelevant</td>\n",
              "      <td>[jennmgreenberg, mindingthek, think, pregnanc,...</td>\n",
              "    </tr>\n",
              "    <tr>\n",
              "      <th>21367</th>\n",
              "      <td>{'$oid': '5b98e639bb325e65a7d88a71'}</td>\n",
              "      <td>{'$date': '2018-09-12T10:11:04.000Z'}</td>\n",
              "      <td>1039818672049553408</td>\n",
              "      <td>True</td>\n",
              "      <td>@osp_ru please notify your IT security team ab...</td>\n",
              "      <td>{'created_at': 'Wed Sep 12 10:11:04 +0000 2018...</td>\n",
              "      <td>[vulnerability]</td>\n",
              "      <td>{'usage': {'text_units': 1, 'text_characters':...</td>\n",
              "      <td>threat</td>\n",
              "      <td>[ospru, pleas, notifi, secur, team, secur, vul...</td>\n",
              "    </tr>\n",
              "  </tbody>\n",
              "</table>\n",
              "<p>21368 rows × 10 columns</p>\n",
              "</div>\n",
              "    <div class=\"colab-df-buttons\">\n",
              "\n",
              "  <div class=\"colab-df-container\">\n",
              "    <button class=\"colab-df-convert\" onclick=\"convertToInteractive('df-b05bf18e-2f59-492c-9eef-d2c82e8b83a0')\"\n",
              "            title=\"Convert this dataframe to an interactive table.\"\n",
              "            style=\"display:none;\">\n",
              "\n",
              "  <svg xmlns=\"http://www.w3.org/2000/svg\" height=\"24px\" viewBox=\"0 -960 960 960\">\n",
              "    <path d=\"M120-120v-720h720v720H120Zm60-500h600v-160H180v160Zm220 220h160v-160H400v160Zm0 220h160v-160H400v160ZM180-400h160v-160H180v160Zm440 0h160v-160H620v160ZM180-180h160v-160H180v160Zm440 0h160v-160H620v160Z\"/>\n",
              "  </svg>\n",
              "    </button>\n",
              "\n",
              "  <style>\n",
              "    .colab-df-container {\n",
              "      display:flex;\n",
              "      gap: 12px;\n",
              "    }\n",
              "\n",
              "    .colab-df-convert {\n",
              "      background-color: #E8F0FE;\n",
              "      border: none;\n",
              "      border-radius: 50%;\n",
              "      cursor: pointer;\n",
              "      display: none;\n",
              "      fill: #1967D2;\n",
              "      height: 32px;\n",
              "      padding: 0 0 0 0;\n",
              "      width: 32px;\n",
              "    }\n",
              "\n",
              "    .colab-df-convert:hover {\n",
              "      background-color: #E2EBFA;\n",
              "      box-shadow: 0px 1px 2px rgba(60, 64, 67, 0.3), 0px 1px 3px 1px rgba(60, 64, 67, 0.15);\n",
              "      fill: #174EA6;\n",
              "    }\n",
              "\n",
              "    .colab-df-buttons div {\n",
              "      margin-bottom: 4px;\n",
              "    }\n",
              "\n",
              "    [theme=dark] .colab-df-convert {\n",
              "      background-color: #3B4455;\n",
              "      fill: #D2E3FC;\n",
              "    }\n",
              "\n",
              "    [theme=dark] .colab-df-convert:hover {\n",
              "      background-color: #434B5C;\n",
              "      box-shadow: 0px 1px 3px 1px rgba(0, 0, 0, 0.15);\n",
              "      filter: drop-shadow(0px 1px 2px rgba(0, 0, 0, 0.3));\n",
              "      fill: #FFFFFF;\n",
              "    }\n",
              "  </style>\n",
              "\n",
              "    <script>\n",
              "      const buttonEl =\n",
              "        document.querySelector('#df-b05bf18e-2f59-492c-9eef-d2c82e8b83a0 button.colab-df-convert');\n",
              "      buttonEl.style.display =\n",
              "        google.colab.kernel.accessAllowed ? 'block' : 'none';\n",
              "\n",
              "      async function convertToInteractive(key) {\n",
              "        const element = document.querySelector('#df-b05bf18e-2f59-492c-9eef-d2c82e8b83a0');\n",
              "        const dataTable =\n",
              "          await google.colab.kernel.invokeFunction('convertToInteractive',\n",
              "                                                    [key], {});\n",
              "        if (!dataTable) return;\n",
              "\n",
              "        const docLinkHtml = 'Like what you see? Visit the ' +\n",
              "          '<a target=\"_blank\" href=https://colab.research.google.com/notebooks/data_table.ipynb>data table notebook</a>'\n",
              "          + ' to learn more about interactive tables.';\n",
              "        element.innerHTML = '';\n",
              "        dataTable['output_type'] = 'display_data';\n",
              "        await google.colab.output.renderOutput(dataTable, element);\n",
              "        const docLink = document.createElement('div');\n",
              "        docLink.innerHTML = docLinkHtml;\n",
              "        element.appendChild(docLink);\n",
              "      }\n",
              "    </script>\n",
              "  </div>\n",
              "\n",
              "\n",
              "<div id=\"df-6e19f10a-b9b1-41b4-86e6-7938e0fd491a\">\n",
              "  <button class=\"colab-df-quickchart\" onclick=\"quickchart('df-6e19f10a-b9b1-41b4-86e6-7938e0fd491a')\"\n",
              "            title=\"Suggest charts\"\n",
              "            style=\"display:none;\">\n",
              "\n",
              "<svg xmlns=\"http://www.w3.org/2000/svg\" height=\"24px\"viewBox=\"0 0 24 24\"\n",
              "     width=\"24px\">\n",
              "    <g>\n",
              "        <path d=\"M19 3H5c-1.1 0-2 .9-2 2v14c0 1.1.9 2 2 2h14c1.1 0 2-.9 2-2V5c0-1.1-.9-2-2-2zM9 17H7v-7h2v7zm4 0h-2V7h2v10zm4 0h-2v-4h2v4z\"/>\n",
              "    </g>\n",
              "</svg>\n",
              "  </button>\n",
              "\n",
              "<style>\n",
              "  .colab-df-quickchart {\n",
              "      --bg-color: #E8F0FE;\n",
              "      --fill-color: #1967D2;\n",
              "      --hover-bg-color: #E2EBFA;\n",
              "      --hover-fill-color: #174EA6;\n",
              "      --disabled-fill-color: #AAA;\n",
              "      --disabled-bg-color: #DDD;\n",
              "  }\n",
              "\n",
              "  [theme=dark] .colab-df-quickchart {\n",
              "      --bg-color: #3B4455;\n",
              "      --fill-color: #D2E3FC;\n",
              "      --hover-bg-color: #434B5C;\n",
              "      --hover-fill-color: #FFFFFF;\n",
              "      --disabled-bg-color: #3B4455;\n",
              "      --disabled-fill-color: #666;\n",
              "  }\n",
              "\n",
              "  .colab-df-quickchart {\n",
              "    background-color: var(--bg-color);\n",
              "    border: none;\n",
              "    border-radius: 50%;\n",
              "    cursor: pointer;\n",
              "    display: none;\n",
              "    fill: var(--fill-color);\n",
              "    height: 32px;\n",
              "    padding: 0;\n",
              "    width: 32px;\n",
              "  }\n",
              "\n",
              "  .colab-df-quickchart:hover {\n",
              "    background-color: var(--hover-bg-color);\n",
              "    box-shadow: 0 1px 2px rgba(60, 64, 67, 0.3), 0 1px 3px 1px rgba(60, 64, 67, 0.15);\n",
              "    fill: var(--button-hover-fill-color);\n",
              "  }\n",
              "\n",
              "  .colab-df-quickchart-complete:disabled,\n",
              "  .colab-df-quickchart-complete:disabled:hover {\n",
              "    background-color: var(--disabled-bg-color);\n",
              "    fill: var(--disabled-fill-color);\n",
              "    box-shadow: none;\n",
              "  }\n",
              "\n",
              "  .colab-df-spinner {\n",
              "    border: 2px solid var(--fill-color);\n",
              "    border-color: transparent;\n",
              "    border-bottom-color: var(--fill-color);\n",
              "    animation:\n",
              "      spin 1s steps(1) infinite;\n",
              "  }\n",
              "\n",
              "  @keyframes spin {\n",
              "    0% {\n",
              "      border-color: transparent;\n",
              "      border-bottom-color: var(--fill-color);\n",
              "      border-left-color: var(--fill-color);\n",
              "    }\n",
              "    20% {\n",
              "      border-color: transparent;\n",
              "      border-left-color: var(--fill-color);\n",
              "      border-top-color: var(--fill-color);\n",
              "    }\n",
              "    30% {\n",
              "      border-color: transparent;\n",
              "      border-left-color: var(--fill-color);\n",
              "      border-top-color: var(--fill-color);\n",
              "      border-right-color: var(--fill-color);\n",
              "    }\n",
              "    40% {\n",
              "      border-color: transparent;\n",
              "      border-right-color: var(--fill-color);\n",
              "      border-top-color: var(--fill-color);\n",
              "    }\n",
              "    60% {\n",
              "      border-color: transparent;\n",
              "      border-right-color: var(--fill-color);\n",
              "    }\n",
              "    80% {\n",
              "      border-color: transparent;\n",
              "      border-right-color: var(--fill-color);\n",
              "      border-bottom-color: var(--fill-color);\n",
              "    }\n",
              "    90% {\n",
              "      border-color: transparent;\n",
              "      border-bottom-color: var(--fill-color);\n",
              "    }\n",
              "  }\n",
              "</style>\n",
              "\n",
              "  <script>\n",
              "    async function quickchart(key) {\n",
              "      const quickchartButtonEl =\n",
              "        document.querySelector('#' + key + ' button');\n",
              "      quickchartButtonEl.disabled = true;  // To prevent multiple clicks.\n",
              "      quickchartButtonEl.classList.add('colab-df-spinner');\n",
              "      try {\n",
              "        const charts = await google.colab.kernel.invokeFunction(\n",
              "            'suggestCharts', [key], {});\n",
              "      } catch (error) {\n",
              "        console.error('Error during call to suggestCharts:', error);\n",
              "      }\n",
              "      quickchartButtonEl.classList.remove('colab-df-spinner');\n",
              "      quickchartButtonEl.classList.add('colab-df-quickchart-complete');\n",
              "    }\n",
              "    (() => {\n",
              "      let quickchartButtonEl =\n",
              "        document.querySelector('#df-6e19f10a-b9b1-41b4-86e6-7938e0fd491a button');\n",
              "      quickchartButtonEl.style.display =\n",
              "        google.colab.kernel.accessAllowed ? 'block' : 'none';\n",
              "    })();\n",
              "  </script>\n",
              "</div>\n",
              "\n",
              "  <div id=\"id_396606bf-175e-4a9a-86c7-6ecdd1b014d4\">\n",
              "    <style>\n",
              "      .colab-df-generate {\n",
              "        background-color: #E8F0FE;\n",
              "        border: none;\n",
              "        border-radius: 50%;\n",
              "        cursor: pointer;\n",
              "        display: none;\n",
              "        fill: #1967D2;\n",
              "        height: 32px;\n",
              "        padding: 0 0 0 0;\n",
              "        width: 32px;\n",
              "      }\n",
              "\n",
              "      .colab-df-generate:hover {\n",
              "        background-color: #E2EBFA;\n",
              "        box-shadow: 0px 1px 2px rgba(60, 64, 67, 0.3), 0px 1px 3px 1px rgba(60, 64, 67, 0.15);\n",
              "        fill: #174EA6;\n",
              "      }\n",
              "\n",
              "      [theme=dark] .colab-df-generate {\n",
              "        background-color: #3B4455;\n",
              "        fill: #D2E3FC;\n",
              "      }\n",
              "\n",
              "      [theme=dark] .colab-df-generate:hover {\n",
              "        background-color: #434B5C;\n",
              "        box-shadow: 0px 1px 3px 1px rgba(0, 0, 0, 0.15);\n",
              "        filter: drop-shadow(0px 1px 2px rgba(0, 0, 0, 0.3));\n",
              "        fill: #FFFFFF;\n",
              "      }\n",
              "    </style>\n",
              "    <button class=\"colab-df-generate\" onclick=\"generateWithVariable('threat_tweets')\"\n",
              "            title=\"Generate code using this dataframe.\"\n",
              "            style=\"display:none;\">\n",
              "\n",
              "  <svg xmlns=\"http://www.w3.org/2000/svg\" height=\"24px\"viewBox=\"0 0 24 24\"\n",
              "       width=\"24px\">\n",
              "    <path d=\"M7,19H8.4L18.45,9,17,7.55,7,17.6ZM5,21V16.75L18.45,3.32a2,2,0,0,1,2.83,0l1.4,1.43a1.91,1.91,0,0,1,.58,1.4,1.91,1.91,0,0,1-.58,1.4L9.25,21ZM18.45,9,17,7.55Zm-12,3A5.31,5.31,0,0,0,4.9,8.1,5.31,5.31,0,0,0,1,6.5,5.31,5.31,0,0,0,4.9,4.9,5.31,5.31,0,0,0,6.5,1,5.31,5.31,0,0,0,8.1,4.9,5.31,5.31,0,0,0,12,6.5,5.46,5.46,0,0,0,6.5,12Z\"/>\n",
              "  </svg>\n",
              "    </button>\n",
              "    <script>\n",
              "      (() => {\n",
              "      const buttonEl =\n",
              "        document.querySelector('#id_396606bf-175e-4a9a-86c7-6ecdd1b014d4 button.colab-df-generate');\n",
              "      buttonEl.style.display =\n",
              "        google.colab.kernel.accessAllowed ? 'block' : 'none';\n",
              "\n",
              "      buttonEl.onclick = () => {\n",
              "        google.colab.notebook.generateWithVariable('threat_tweets');\n",
              "      }\n",
              "      })();\n",
              "    </script>\n",
              "  </div>\n",
              "\n",
              "    </div>\n",
              "  </div>\n"
            ],
            "application/vnd.google.colaboratory.intrinsic+json": {
              "type": "dataframe",
              "variable_name": "threat_tweets",
              "summary": "{\n  \"name\": \"threat_tweets\",\n  \"rows\": 21368,\n  \"fields\": [\n    {\n      \"column\": \"_id\",\n      \"properties\": {\n        \"dtype\": \"object\",\n        \"semantic_type\": \"\",\n        \"description\": \"\"\n      }\n    },\n    {\n      \"column\": \"date\",\n      \"properties\": {\n        \"dtype\": \"object\",\n        \"semantic_type\": \"\",\n        \"description\": \"\"\n      }\n    },\n    {\n      \"column\": \"id\",\n      \"properties\": {\n        \"dtype\": \"number\",\n        \"std\": 827391817214533,\n        \"min\": 1035299228984041472,\n        \"max\": 1039818672049553408,\n        \"num_unique_values\": 21368,\n        \"samples\": [\n          1039199679932780544,\n          1038091279144550400,\n          1039244195607785472\n        ],\n        \"semantic_type\": \"\",\n        \"description\": \"\"\n      }\n    },\n    {\n      \"column\": \"relevant\",\n      \"properties\": {\n        \"dtype\": \"boolean\",\n        \"num_unique_values\": 2,\n        \"samples\": [\n          true,\n          false\n        ],\n        \"semantic_type\": \"\",\n        \"description\": \"\"\n      }\n    },\n    {\n      \"column\": \"text\",\n      \"properties\": {\n        \"dtype\": \"string\",\n        \"num_unique_values\": 21368,\n        \"samples\": [\n          \"Ransomware Targets Business With Fake Invoice Message: https://t.co/cbLzt3AIwC #follow &amp; #RT #cybersecurity #infosec\",\n          \"My feelings for you bring out a weakness/vulnerability I\\u2019m not ready to face just yet.\"\n        ],\n        \"semantic_type\": \"\",\n        \"description\": \"\"\n      }\n    },\n    {\n      \"column\": \"tweet\",\n      \"properties\": {\n        \"dtype\": \"object\",\n        \"semantic_type\": \"\",\n        \"description\": \"\"\n      }\n    },\n    {\n      \"column\": \"type\",\n      \"properties\": {\n        \"dtype\": \"object\",\n        \"semantic_type\": \"\",\n        \"description\": \"\"\n      }\n    },\n    {\n      \"column\": \"watson\",\n      \"properties\": {\n        \"dtype\": \"object\",\n        \"semantic_type\": \"\",\n        \"description\": \"\"\n      }\n    },\n    {\n      \"column\": \"annotation\",\n      \"properties\": {\n        \"dtype\": \"category\",\n        \"num_unique_values\": 4,\n        \"samples\": [\n          \"business\",\n          \"unknown\"\n        ],\n        \"semantic_type\": \"\",\n        \"description\": \"\"\n      }\n    },\n    {\n      \"column\": \"preprocess-text\",\n      \"properties\": {\n        \"dtype\": \"object\",\n        \"semantic_type\": \"\",\n        \"description\": \"\"\n      }\n    }\n  ]\n}"
            }
          },
          "metadata": {},
          "execution_count": 10
        }
      ],
      "execution_count": 10
    },
    {
      "metadata": {
        "colab": {
          "base_uri": "https://localhost:8080/",
          "height": 326
        },
        "id": "fcbbefa7404e9c8f",
        "outputId": "fa1ffc36-dea6-47d0-ca4b-3835617b7f2f"
      },
      "cell_type": "code",
      "source": [
        "# Instantiate the model\n",
        "model = Sequential(layers=[\n",
        "    Input(shape=(300, 1)),\n",
        "    Conv1D(filters=32, kernel_size=8, activation='relu'),\n",
        "    MaxPooling1D(pool_size=2),\n",
        "    Flatten(),\n",
        "    Dense(30, activation='relu'),\n",
        "    Dense(1, activation='sigmoid')\n",
        "])\n",
        "\n",
        "# Compile the model\n",
        "model.compile(\n",
        "    optimizer='adam',\n",
        "    loss='binary_crossentropy',\n",
        "    metrics=['accuracy', 'recall', 'precision', 'f1_score']\n",
        ")\n",
        "\n",
        "# Display the model summary\n",
        "model.summary()\n"
      ],
      "id": "fcbbefa7404e9c8f",
      "outputs": [
        {
          "output_type": "display_data",
          "data": {
            "text/plain": [
              "\u001b[1mModel: \"sequential\"\u001b[0m\n"
            ],
            "text/html": [
              "<pre style=\"white-space:pre;overflow-x:auto;line-height:normal;font-family:Menlo,'DejaVu Sans Mono',consolas,'Courier New',monospace\"><span style=\"font-weight: bold\">Model: \"sequential\"</span>\n",
              "</pre>\n"
            ]
          },
          "metadata": {}
        },
        {
          "output_type": "display_data",
          "data": {
            "text/plain": [
              "┏━━━━━━━━━━━━━━━━━━━━━━━━━━━━━━━━━━━━━━┳━━━━━━━━━━━━━━━━━━━━━━━━━━━━━┳━━━━━━━━━━━━━━━━━┓\n",
              "┃\u001b[1m \u001b[0m\u001b[1mLayer (type)                        \u001b[0m\u001b[1m \u001b[0m┃\u001b[1m \u001b[0m\u001b[1mOutput Shape               \u001b[0m\u001b[1m \u001b[0m┃\u001b[1m \u001b[0m\u001b[1m        Param #\u001b[0m\u001b[1m \u001b[0m┃\n",
              "┡━━━━━━━━━━━━━━━━━━━━━━━━━━━━━━━━━━━━━━╇━━━━━━━━━━━━━━━━━━━━━━━━━━━━━╇━━━━━━━━━━━━━━━━━┩\n",
              "│ conv1d (\u001b[38;5;33mConv1D\u001b[0m)                      │ (\u001b[38;5;45mNone\u001b[0m, \u001b[38;5;34m293\u001b[0m, \u001b[38;5;34m32\u001b[0m)             │             \u001b[38;5;34m288\u001b[0m │\n",
              "├──────────────────────────────────────┼─────────────────────────────┼─────────────────┤\n",
              "│ max_pooling1d (\u001b[38;5;33mMaxPooling1D\u001b[0m)         │ (\u001b[38;5;45mNone\u001b[0m, \u001b[38;5;34m146\u001b[0m, \u001b[38;5;34m32\u001b[0m)             │               \u001b[38;5;34m0\u001b[0m │\n",
              "├──────────────────────────────────────┼─────────────────────────────┼─────────────────┤\n",
              "│ flatten (\u001b[38;5;33mFlatten\u001b[0m)                    │ (\u001b[38;5;45mNone\u001b[0m, \u001b[38;5;34m4672\u001b[0m)                │               \u001b[38;5;34m0\u001b[0m │\n",
              "├──────────────────────────────────────┼─────────────────────────────┼─────────────────┤\n",
              "│ dense (\u001b[38;5;33mDense\u001b[0m)                        │ (\u001b[38;5;45mNone\u001b[0m, \u001b[38;5;34m30\u001b[0m)                  │         \u001b[38;5;34m140,190\u001b[0m │\n",
              "├──────────────────────────────────────┼─────────────────────────────┼─────────────────┤\n",
              "│ dense_1 (\u001b[38;5;33mDense\u001b[0m)                      │ (\u001b[38;5;45mNone\u001b[0m, \u001b[38;5;34m1\u001b[0m)                   │              \u001b[38;5;34m31\u001b[0m │\n",
              "└──────────────────────────────────────┴─────────────────────────────┴─────────────────┘\n"
            ],
            "text/html": [
              "<pre style=\"white-space:pre;overflow-x:auto;line-height:normal;font-family:Menlo,'DejaVu Sans Mono',consolas,'Courier New',monospace\">┏━━━━━━━━━━━━━━━━━━━━━━━━━━━━━━━━━━━━━━┳━━━━━━━━━━━━━━━━━━━━━━━━━━━━━┳━━━━━━━━━━━━━━━━━┓\n",
              "┃<span style=\"font-weight: bold\"> Layer (type)                         </span>┃<span style=\"font-weight: bold\"> Output Shape                </span>┃<span style=\"font-weight: bold\">         Param # </span>┃\n",
              "┡━━━━━━━━━━━━━━━━━━━━━━━━━━━━━━━━━━━━━━╇━━━━━━━━━━━━━━━━━━━━━━━━━━━━━╇━━━━━━━━━━━━━━━━━┩\n",
              "│ conv1d (<span style=\"color: #0087ff; text-decoration-color: #0087ff\">Conv1D</span>)                      │ (<span style=\"color: #00d7ff; text-decoration-color: #00d7ff\">None</span>, <span style=\"color: #00af00; text-decoration-color: #00af00\">293</span>, <span style=\"color: #00af00; text-decoration-color: #00af00\">32</span>)             │             <span style=\"color: #00af00; text-decoration-color: #00af00\">288</span> │\n",
              "├──────────────────────────────────────┼─────────────────────────────┼─────────────────┤\n",
              "│ max_pooling1d (<span style=\"color: #0087ff; text-decoration-color: #0087ff\">MaxPooling1D</span>)         │ (<span style=\"color: #00d7ff; text-decoration-color: #00d7ff\">None</span>, <span style=\"color: #00af00; text-decoration-color: #00af00\">146</span>, <span style=\"color: #00af00; text-decoration-color: #00af00\">32</span>)             │               <span style=\"color: #00af00; text-decoration-color: #00af00\">0</span> │\n",
              "├──────────────────────────────────────┼─────────────────────────────┼─────────────────┤\n",
              "│ flatten (<span style=\"color: #0087ff; text-decoration-color: #0087ff\">Flatten</span>)                    │ (<span style=\"color: #00d7ff; text-decoration-color: #00d7ff\">None</span>, <span style=\"color: #00af00; text-decoration-color: #00af00\">4672</span>)                │               <span style=\"color: #00af00; text-decoration-color: #00af00\">0</span> │\n",
              "├──────────────────────────────────────┼─────────────────────────────┼─────────────────┤\n",
              "│ dense (<span style=\"color: #0087ff; text-decoration-color: #0087ff\">Dense</span>)                        │ (<span style=\"color: #00d7ff; text-decoration-color: #00d7ff\">None</span>, <span style=\"color: #00af00; text-decoration-color: #00af00\">30</span>)                  │         <span style=\"color: #00af00; text-decoration-color: #00af00\">140,190</span> │\n",
              "├──────────────────────────────────────┼─────────────────────────────┼─────────────────┤\n",
              "│ dense_1 (<span style=\"color: #0087ff; text-decoration-color: #0087ff\">Dense</span>)                      │ (<span style=\"color: #00d7ff; text-decoration-color: #00d7ff\">None</span>, <span style=\"color: #00af00; text-decoration-color: #00af00\">1</span>)                   │              <span style=\"color: #00af00; text-decoration-color: #00af00\">31</span> │\n",
              "└──────────────────────────────────────┴─────────────────────────────┴─────────────────┘\n",
              "</pre>\n"
            ]
          },
          "metadata": {}
        },
        {
          "output_type": "display_data",
          "data": {
            "text/plain": [
              "\u001b[1m Total params: \u001b[0m\u001b[38;5;34m140,509\u001b[0m (548.86 KB)\n"
            ],
            "text/html": [
              "<pre style=\"white-space:pre;overflow-x:auto;line-height:normal;font-family:Menlo,'DejaVu Sans Mono',consolas,'Courier New',monospace\"><span style=\"font-weight: bold\"> Total params: </span><span style=\"color: #00af00; text-decoration-color: #00af00\">140,509</span> (548.86 KB)\n",
              "</pre>\n"
            ]
          },
          "metadata": {}
        },
        {
          "output_type": "display_data",
          "data": {
            "text/plain": [
              "\u001b[1m Trainable params: \u001b[0m\u001b[38;5;34m140,509\u001b[0m (548.86 KB)\n"
            ],
            "text/html": [
              "<pre style=\"white-space:pre;overflow-x:auto;line-height:normal;font-family:Menlo,'DejaVu Sans Mono',consolas,'Courier New',monospace\"><span style=\"font-weight: bold\"> Trainable params: </span><span style=\"color: #00af00; text-decoration-color: #00af00\">140,509</span> (548.86 KB)\n",
              "</pre>\n"
            ]
          },
          "metadata": {}
        },
        {
          "output_type": "display_data",
          "data": {
            "text/plain": [
              "\u001b[1m Non-trainable params: \u001b[0m\u001b[38;5;34m0\u001b[0m (0.00 B)\n"
            ],
            "text/html": [
              "<pre style=\"white-space:pre;overflow-x:auto;line-height:normal;font-family:Menlo,'DejaVu Sans Mono',consolas,'Courier New',monospace\"><span style=\"font-weight: bold\"> Non-trainable params: </span><span style=\"color: #00af00; text-decoration-color: #00af00\">0</span> (0.00 B)\n",
              "</pre>\n"
            ]
          },
          "metadata": {}
        }
      ],
      "execution_count": 11
    },
    {
      "metadata": {
        "id": "74b4ba7ea2ffe37c"
      },
      "cell_type": "code",
      "source": [
        "def sentence_to_embedding(sentence, model, embedding_dim):\n",
        "    # Initialize a list to store the embeddings for the words in the sentence\n",
        "    word_embeddings = []\n",
        "\n",
        "    for word in sentence:\n",
        "        # Check if the word exists in the model's vocabulary\n",
        "        if word in model.key_to_index:\n",
        "            word_embeddings.append(model[word])\n",
        "        else:\n",
        "            # If the word is not in the vocabulary, use a zero vector\n",
        "            word_embeddings.append(np.zeros(embedding_dim))\n",
        "\n",
        "    # If no words are in the vocabulary, return a zero vector\n",
        "    if len(word_embeddings) == 0:\n",
        "        return np.zeros(embedding_dim)\n",
        "\n",
        "    # Average the word embeddings to get the sentence embedding\n",
        "    sentence_embedding = np.mean(word_embeddings, axis=0)\n",
        "\n",
        "    return sentence_embedding\n"
      ],
      "id": "74b4ba7ea2ffe37c",
      "outputs": [],
      "execution_count": 12
    },
    {
      "metadata": {
        "id": "c5a761390ca0b308"
      },
      "cell_type": "code",
      "source": [
        "embedder = gensim.models.KeyedVectors.load_word2vec_format('models/GoogleNews-vectors-negative300.bin', binary=True)\n",
        "\n",
        "X = np.array([\n",
        "    sentence_to_embedding(words, embedder, embedding_dim=300)\n",
        "    for words in threat_tweets['preprocess-text']\n",
        "])\n",
        "y = np.array([1. if yi == True else 0. for yi in threat_tweets['relevant']])\n"
      ],
      "id": "c5a761390ca0b308",
      "outputs": [],
      "execution_count": 13
    },
    {
      "cell_type": "code",
      "source": [
        "X_train, X_val, y_train, y_val = train_test_split(\n",
        "    X, y,\n",
        "    test_size=0.2,\n",
        "    random_state=RANDOM_SEED,\n",
        "    stratify=y\n",
        ")\n",
        "\n",
        "X_val, X_test, y_val, y_test = train_test_split(\n",
        "    X_val, y_val,\n",
        "    test_size=0.5,\n",
        "    random_state=RANDOM_SEED,\n",
        "    stratify=y_val\n",
        ")\n",
        "\n",
        "class_weights = class_weight.compute_class_weight(\n",
        "    class_weight='balanced',\n",
        "    classes=np.unique(y_train),\n",
        "    y=y_train\n",
        ")\n",
        "\n",
        "class_weights_dict = dict(enumerate(class_weights))\n",
        "\n",
        "X_val = X_val.reshape(X_val.shape[0], X_val.shape[1], 1)\n",
        "X_test = X_test.reshape(X_test.shape[0], X_test.shape[1], 1)\n",
        "X_train = X_train.reshape(X_train.shape[0], X_train.shape[1], 1)\n",
        "\n",
        "y_val = y_val.reshape(-1, 1)\n",
        "y_test = y_test.reshape(-1, 1)\n",
        "y_train = y_train.reshape(-1, 1)\n",
        "\n",
        "history = model.fit(\n",
        "    X_train, y_train,\n",
        "    validation_data=(X_val, y_val),\n",
        "    epochs=EPOCHS,\n",
        "    batch_size=BATCH_SIZE,\n",
        "    class_weight=class_weights_dict\n",
        ").history\n"
      ],
      "metadata": {
        "colab": {
          "base_uri": "https://localhost:8080/"
        },
        "collapsed": true,
        "id": "paEFbrmAofBX",
        "outputId": "1b45ce06-a635-479d-9cf6-aa8761f05326"
      },
      "id": "paEFbrmAofBX",
      "execution_count": 14,
      "outputs": [
        {
          "output_type": "stream",
          "name": "stdout",
          "text": [
            "Epoch 1/10\n",
            "\u001b[1m535/535\u001b[0m \u001b[32m━━━━━━━━━━━━━━━━━━━━\u001b[0m\u001b[37m\u001b[0m \u001b[1m9s\u001b[0m 9ms/step - accuracy: 0.6857 - f1_score: 0.6846 - loss: 0.5943 - precision: 0.7196 - recall: 0.6428 - val_accuracy: 0.7525 - val_f1_score: 0.6845 - val_loss: 0.5056 - val_precision: 0.7900 - val_recall: 0.7140\n",
            "Epoch 2/10\n",
            "\u001b[1m535/535\u001b[0m \u001b[32m━━━━━━━━━━━━━━━━━━━━\u001b[0m\u001b[37m\u001b[0m \u001b[1m2s\u001b[0m 4ms/step - accuracy: 0.7585 - f1_score: 0.6830 - loss: 0.4985 - precision: 0.7817 - recall: 0.7418 - val_accuracy: 0.7459 - val_f1_score: 0.6845 - val_loss: 0.5047 - val_precision: 0.8179 - val_recall: 0.6583\n",
            "Epoch 3/10\n",
            "\u001b[1m535/535\u001b[0m \u001b[32m━━━━━━━━━━━━━━━━━━━━\u001b[0m\u001b[37m\u001b[0m \u001b[1m2s\u001b[0m 3ms/step - accuracy: 0.7657 - f1_score: 0.6890 - loss: 0.4823 - precision: 0.7881 - recall: 0.7580 - val_accuracy: 0.7660 - val_f1_score: 0.6845 - val_loss: 0.4815 - val_precision: 0.7767 - val_recall: 0.7725\n",
            "Epoch 4/10\n",
            "\u001b[1m535/535\u001b[0m \u001b[32m━━━━━━━━━━━━━━━━━━━━\u001b[0m\u001b[37m\u001b[0m \u001b[1m3s\u001b[0m 3ms/step - accuracy: 0.7785 - f1_score: 0.6856 - loss: 0.4648 - precision: 0.7991 - recall: 0.7684 - val_accuracy: 0.7632 - val_f1_score: 0.6845 - val_loss: 0.4886 - val_precision: 0.7386 - val_recall: 0.8435\n",
            "Epoch 5/10\n",
            "\u001b[1m535/535\u001b[0m \u001b[32m━━━━━━━━━━━━━━━━━━━━\u001b[0m\u001b[37m\u001b[0m \u001b[1m3s\u001b[0m 3ms/step - accuracy: 0.7709 - f1_score: 0.6827 - loss: 0.4738 - precision: 0.7880 - recall: 0.7645 - val_accuracy: 0.7712 - val_f1_score: 0.6845 - val_loss: 0.4755 - val_precision: 0.7706 - val_recall: 0.7977\n",
            "Epoch 6/10\n",
            "\u001b[1m535/535\u001b[0m \u001b[32m━━━━━━━━━━━━━━━━━━━━\u001b[0m\u001b[37m\u001b[0m \u001b[1m2s\u001b[0m 3ms/step - accuracy: 0.7760 - f1_score: 0.6862 - loss: 0.4636 - precision: 0.7929 - recall: 0.7737 - val_accuracy: 0.7665 - val_f1_score: 0.6845 - val_loss: 0.4831 - val_precision: 0.8223 - val_recall: 0.7032\n",
            "Epoch 7/10\n",
            "\u001b[1m535/535\u001b[0m \u001b[32m━━━━━━━━━━━━━━━━━━━━\u001b[0m\u001b[37m\u001b[0m \u001b[1m2s\u001b[0m 4ms/step - accuracy: 0.7860 - f1_score: 0.6856 - loss: 0.4509 - precision: 0.8023 - recall: 0.7828 - val_accuracy: 0.7712 - val_f1_score: 0.6845 - val_loss: 0.4781 - val_precision: 0.8182 - val_recall: 0.7203\n",
            "Epoch 8/10\n",
            "\u001b[1m535/535\u001b[0m \u001b[32m━━━━━━━━━━━━━━━━━━━━\u001b[0m\u001b[37m\u001b[0m \u001b[1m2s\u001b[0m 4ms/step - accuracy: 0.7913 - f1_score: 0.6870 - loss: 0.4402 - precision: 0.8100 - recall: 0.7859 - val_accuracy: 0.7749 - val_f1_score: 0.6845 - val_loss: 0.4672 - val_precision: 0.7924 - val_recall: 0.7689\n",
            "Epoch 9/10\n",
            "\u001b[1m535/535\u001b[0m \u001b[32m━━━━━━━━━━━━━━━━━━━━\u001b[0m\u001b[37m\u001b[0m \u001b[1m2s\u001b[0m 3ms/step - accuracy: 0.7941 - f1_score: 0.6892 - loss: 0.4317 - precision: 0.8093 - recall: 0.7965 - val_accuracy: 0.7777 - val_f1_score: 0.6845 - val_loss: 0.4662 - val_precision: 0.8042 - val_recall: 0.7572\n",
            "Epoch 10/10\n",
            "\u001b[1m535/535\u001b[0m \u001b[32m━━━━━━━━━━━━━━━━━━━━\u001b[0m\u001b[37m\u001b[0m \u001b[1m3s\u001b[0m 3ms/step - accuracy: 0.7904 - f1_score: 0.6854 - loss: 0.4305 - precision: 0.8043 - recall: 0.7901 - val_accuracy: 0.7763 - val_f1_score: 0.6845 - val_loss: 0.4662 - val_precision: 0.7673 - val_recall: 0.8183\n"
          ]
        }
      ]
    },
    {
      "metadata": {
        "colab": {
          "base_uri": "https://localhost:8080/",
          "height": 54
        },
        "id": "a49d2deada59fdbf",
        "outputId": "978a8bee-8c44-4257-de5b-a0fb5a0643d9"
      },
      "cell_type": "code",
      "source": [
        "# Display the training history\n",
        "plt.plot(history['accuracy'], label='accuracy')\n",
        "plt.plot(history['val_accuracy'], label='val_accuracy')\n",
        "plt.xlabel('Epoch')\n",
        "plt.ylabel('Accuracy')\n",
        "plt.legend(loc='lower right')\n",
        "plt.show()\n"
      ],
      "id": "a49d2deada59fdbf",
      "outputs": [
        {
          "output_type": "display_data",
          "data": {
            "text/plain": [
              "<Figure size 640x480 with 1 Axes>"
            ],
            "image/png": "[encoded data removed]"
          },
          "metadata": {}
        }
      ],
      "execution_count": 15
    },
    {
      "cell_type": "code",
      "source": [
        "# Evaluate the model\n",
        "loss, accuracy, recall, precision, f1 = model.evaluate(X_test, y_test, verbose=0)\n",
        "print(f\"Loss: {loss:.4f}\")\n",
        "print(f\"Accuracy: {accuracy:.4f}\")\n",
        "print(f\"Recall: {recall:.4f}\")\n",
        "print(f\"Precision: {precision:.4f}\")\n",
        "print(f\"F1 Score: {f1:.4f}\")\n"
      ],
      "metadata": {
        "colab": {
          "base_uri": "https://localhost:8080/"
        },
        "id": "tsFQ7omgu6lC",
        "outputId": "fcc8a079-5375-4b9c-c808-9537d7bfbdde"
      },
      "id": "tsFQ7omgu6lC",
      "execution_count": 16,
      "outputs": [
        {
          "output_type": "stream",
          "name": "stdout",
          "text": [
            "Loss: 0.4607\n",
            "Accuracy: 0.7805\n",
            "Recall: 0.8245\n",
            "Precision: 0.7697\n",
            "F1 Score: 0.6841\n"
          ]
        }
      ]
    },
    {
      "cell_type": "code",
      "source": [
        "#x = pd.read_csv(filepath_or_buffer=X_CSV)\n"
      ],
      "metadata": {
        "id": "ijIEkBRe8W-G"
      },
      "id": "ijIEkBRe8W-G",
      "execution_count": 17,
      "outputs": []
    },
    {
      "cell_type": "code",
      "source": [
        "#stop_words = set(stopwords.words('english'))\n",
        "#stemmer = PorterStemmer()\n",
        "\n",
        "# 1. Conversion of all characters of the tweet to lower case\n",
        "#x['body'] = x['body'].str.lower()\n",
        "\n",
        "# 2. Tokenize the text according to white-space separations\n",
        "#x['body'] = x['body'].str.split()\n",
        "\n",
        "# 3. Remove tokens that are not encoded in ASCII\n",
        "#x['body'] = x['body'].apply(\n",
        "#    lambda tokens: [token for token in tokens if token.isascii()]\n",
        "#)\n",
        "\n",
        "# 4. Remove punctuation from each token\n",
        "#x['body'] = x['body'].apply(\n",
        "#    lambda tokens: [token.translate(str.maketrans('', '', string.punctuation)) for token in tokens]\n",
        "#)\n",
        "\n",
        "# 5. Remove tokens that are not comprised of alphanumeric characters\n",
        "#x['body'] = x['body'].apply(\n",
        "#    lambda tokens: [token for token in tokens if token.isalnum()]\n",
        "#)\n",
        "\n",
        "# 6. Substitute digits with word representations (e.g., 4 -> four)\n",
        "#x['body'] = x['body'].apply(replace_digits_with_words)\n",
        "\n",
        "# 7. Remove stop words\n",
        "#x['body'] = x['body'].apply(\n",
        "#    lambda tokens: [word for word in tokens if word.lower() not in stop_words]\n",
        "#)\n",
        "\n",
        "# 8. Stem tokens\n",
        "#x['body'] = x['body'].apply(\n",
        "#    lambda tokens: [stemmer.stem(token) for token in tokens]\n",
        "#)\n"
      ],
      "metadata": {
        "id": "GUHl_G4i9TWs"
      },
      "id": "GUHl_G4i9TWs",
      "execution_count": 18,
      "outputs": []
    },
    {
      "cell_type": "code",
      "source": [
        "#x\n"
      ],
      "metadata": {
        "id": "wuM2jvXW-V-d"
      },
      "id": "wuM2jvXW-V-d",
      "execution_count": 19,
      "outputs": []
    },
    {
      "cell_type": "markdown",
      "source": [
        "## Continue\n"
      ],
      "metadata": {
        "id": "tfKnFbRD3xb4"
      },
      "id": "tfKnFbRD3xb4"
    },
    {
      "cell_type": "code",
      "source": [
        "values = \"\\n\".join([f\"\\t· {str(s)}\" for s in threat_tweets[\"annotation\"].unique()])\n",
        "\n",
        "print(f'The original values in the field \"annotation\":\\n{values}')\n"
      ],
      "metadata": {
        "colab": {
          "base_uri": "https://localhost:8080/"
        },
        "id": "6SOPoud4O2YZ",
        "outputId": "a388aaf6-a1f1-45fb-f696-4cec761e5f02"
      },
      "id": "6SOPoud4O2YZ",
      "execution_count": 20,
      "outputs": [
        {
          "output_type": "stream",
          "name": "stdout",
          "text": [
            "The original values in the field \"annotation\":\n",
            "\t· irrelevant\n",
            "\t· business\n",
            "\t· threat\n",
            "\t· nan\n",
            "\t· unknown\n"
          ]
        }
      ]
    },
    {
      "metadata": {
        "id": "2fce7adf6f40c5ed"
      },
      "cell_type": "markdown",
      "source": [
        "The dataset contains 21.368 tweets collected over four days using common cybersecurity keywords, and were labelled as 'threat', 'business', 'unknown', and 'irrelevant'. Since we focus on vulnerabilities, we first filtered the dataset for tweets that contain the term 'vulnerability', which came out to 9.963 tweets.\n"
      ],
      "id": "2fce7adf6f40c5ed"
    },
    {
      "cell_type": "code",
      "source": [
        "# Filter rows where 'text' column contains the word 'vulnerability'\n",
        "vulnerability_threat_tweets = threat_tweets[threat_tweets['type'].apply(lambda x: any('vulnerability' in t.lower() for t in x))]\n",
        "vulnerability_threat_tweets = vulnerability_threat_tweets.dropna(subset=['annotation'])\n",
        "\n",
        "values = \"\\n\".join([f\"\\t· {str(s)}\" for s in vulnerability_threat_tweets[\"annotation\"].unique()])\n",
        "\n",
        "print(f'The original values in the field \"annotation\":\\n{values}\\n')\n",
        "vulnerability_threat_tweets.info()\n"
      ],
      "metadata": {
        "id": "Wrw2KK4j6WIQ",
        "colab": {
          "base_uri": "https://localhost:8080/"
        },
        "outputId": "42fe3e87-79b6-4363-e2d4-99f9a93a479c"
      },
      "id": "Wrw2KK4j6WIQ",
      "execution_count": 48,
      "outputs": [
        {
          "output_type": "stream",
          "name": "stdout",
          "text": [
            "The original values in the field \"annotation\":\n",
            "\t· irrelevant\n",
            "\t· threat\n",
            "\t· business\n",
            "\t· unknown\n",
            "\n",
            "<class 'pandas.core.frame.DataFrame'>\n",
            "Index: 5864 entries, 0 to 21367\n",
            "Data columns (total 10 columns):\n",
            " #   Column           Non-Null Count  Dtype \n",
            "---  ------           --------------  ----- \n",
            " 0   _id              5864 non-null   object\n",
            " 1   date             5864 non-null   object\n",
            " 2   id               5864 non-null   int64 \n",
            " 3   relevant         5864 non-null   bool  \n",
            " 4   text             5864 non-null   object\n",
            " 5   tweet            5864 non-null   object\n",
            " 6   type             5864 non-null   object\n",
            " 7   watson           5864 non-null   object\n",
            " 8   annotation       5864 non-null   object\n",
            " 9   preprocess-text  5864 non-null   object\n",
            "dtypes: bool(1), int64(1), object(8)\n",
            "memory usage: 463.9+ KB\n"
          ]
        }
      ]
    },
    {
      "cell_type": "markdown",
      "source": [
        "Tweets labeled as 'business,' 'unknown,' and 'threat' were replaced with a 'cyber-relevant' label as they also appeared to be relevant to cybersecurity, and comprised 54.5% of the filtered dataset.\n"
      ],
      "metadata": {
        "id": "0NyGMYlgO7qE"
      },
      "id": "0NyGMYlgO7qE"
    },
    {
      "metadata": {
        "id": "fe1e3326feac6910",
        "colab": {
          "base_uri": "https://localhost:8080/",
          "height": 241
        },
        "outputId": "7a88b855-3433-468d-f76e-40197504f0b6"
      },
      "cell_type": "code",
      "source": [
        "vulnerability_threat_tweets['annotation'].value_counts()\n"
      ],
      "id": "fe1e3326feac6910",
      "outputs": [
        {
          "output_type": "execute_result",
          "data": {
            "text/plain": [
              "annotation\n",
              "irrelevant    2985\n",
              "threat        2448\n",
              "business       425\n",
              "unknown          6\n",
              "Name: count, dtype: int64"
            ],
            "text/html": [
              "<div>\n",
              "<style scoped>\n",
              "    .dataframe tbody tr th:only-of-type {\n",
              "        vertical-align: middle;\n",
              "    }\n",
              "\n",
              "    .dataframe tbody tr th {\n",
              "        vertical-align: top;\n",
              "    }\n",
              "\n",
              "    .dataframe thead th {\n",
              "        text-align: right;\n",
              "    }\n",
              "</style>\n",
              "<table border=\"1\" class=\"dataframe\">\n",
              "  <thead>\n",
              "    <tr style=\"text-align: right;\">\n",
              "      <th></th>\n",
              "      <th>count</th>\n",
              "    </tr>\n",
              "    <tr>\n",
              "      <th>annotation</th>\n",
              "      <th></th>\n",
              "    </tr>\n",
              "  </thead>\n",
              "  <tbody>\n",
              "    <tr>\n",
              "      <th>irrelevant</th>\n",
              "      <td>2985</td>\n",
              "    </tr>\n",
              "    <tr>\n",
              "      <th>threat</th>\n",
              "      <td>2448</td>\n",
              "    </tr>\n",
              "    <tr>\n",
              "      <th>business</th>\n",
              "      <td>425</td>\n",
              "    </tr>\n",
              "    <tr>\n",
              "      <th>unknown</th>\n",
              "      <td>6</td>\n",
              "    </tr>\n",
              "  </tbody>\n",
              "</table>\n",
              "</div><br><label><b>dtype:</b> int64</label>"
            ]
          },
          "metadata": {},
          "execution_count": 22
        }
      ],
      "execution_count": 22
    },
    {
      "cell_type": "code",
      "source": [
        "vulnerability_threat_tweets.loc[vulnerability_threat_tweets['annotation'].isin(['business', 'unknown', 'threat']), 'y-test'] = 1\n",
        "vulnerability_threat_tweets.loc[vulnerability_threat_tweets['annotation'].isin(['irrelevant']), 'y-test'] = 0\n",
        "vulnerability_threat_tweets['y-test'] = vulnerability_threat_tweets['y-test'].astype(int)\n",
        "\n",
        "vulnerability_threat_tweets['y-test'].value_counts()\n"
      ],
      "metadata": {
        "colab": {
          "base_uri": "https://localhost:8080/",
          "height": 178
        },
        "id": "U7BuAraqPGat",
        "outputId": "451460f7-15c8-4643-8a7e-d52ef8b58ac5"
      },
      "id": "U7BuAraqPGat",
      "execution_count": 49,
      "outputs": [
        {
          "output_type": "execute_result",
          "data": {
            "text/plain": [
              "y-test\n",
              "0    2985\n",
              "1    2879\n",
              "Name: count, dtype: int64"
            ],
            "text/html": [
              "<div>\n",
              "<style scoped>\n",
              "    .dataframe tbody tr th:only-of-type {\n",
              "        vertical-align: middle;\n",
              "    }\n",
              "\n",
              "    .dataframe tbody tr th {\n",
              "        vertical-align: top;\n",
              "    }\n",
              "\n",
              "    .dataframe thead th {\n",
              "        text-align: right;\n",
              "    }\n",
              "</style>\n",
              "<table border=\"1\" class=\"dataframe\">\n",
              "  <thead>\n",
              "    <tr style=\"text-align: right;\">\n",
              "      <th></th>\n",
              "      <th>count</th>\n",
              "    </tr>\n",
              "    <tr>\n",
              "      <th>y-test</th>\n",
              "      <th></th>\n",
              "    </tr>\n",
              "  </thead>\n",
              "  <tbody>\n",
              "    <tr>\n",
              "      <th>0</th>\n",
              "      <td>2985</td>\n",
              "    </tr>\n",
              "    <tr>\n",
              "      <th>1</th>\n",
              "      <td>2879</td>\n",
              "    </tr>\n",
              "  </tbody>\n",
              "</table>\n",
              "</div><br><label><b>dtype:</b> int64</label>"
            ]
          },
          "metadata": {},
          "execution_count": 49
        }
      ]
    },
    {
      "cell_type": "code",
      "source": [
        "device = 0 if torch.cuda.is_available() else -1\n",
        "\n",
        "classifier = pipeline(\n",
        "    task=\"zero-shot-classification\",\n",
        "    model=\"facebook/bart-large-mnli\",\n",
        "    device=device\n",
        ")\n",
        "\n",
        "candidate_labels = [\n",
        "    \"The text describes a personal or emotional vulnerability, unrelated to technology or cybersecurity.\",\n",
        "    \"The text describes a cybersecurity-related vulnerability, such as a weakness in software, systems, or networks.\"\n",
        "]\n",
        "\n",
        "candidate_labels_dict = {label: i for i, label in enumerate(candidate_labels)}\n"
      ],
      "metadata": {
        "id": "hOxHnX6TPJCA"
      },
      "id": "hOxHnX6TPJCA",
      "execution_count": 80,
      "outputs": []
    },
    {
      "cell_type": "code",
      "source": [
        "vulnerability_threat_tweets['zero-shot-bart-large-mnli'] = [\n",
        "    classifier(sequence_to_classify, candidate_labels)['labels'][0]\n",
        "    for sequence_to_classify in vulnerability_threat_tweets['text']\n",
        "]\n",
        "\n",
        "vulnerability_threat_tweets['zero-shot-bart-large-mnli'] = vulnerability_threat_tweets['zero-shot-bart-large-mnli'].map(\n",
        "    candidate_labels_dict\n",
        ")\n"
      ],
      "metadata": {
        "id": "zXDAdFjP8GF8"
      },
      "id": "zXDAdFjP8GF8",
      "execution_count": null,
      "outputs": []
    },
    {
      "cell_type": "code",
      "source": [
        "classifier(vulnerability_threat_tweets['text'][23], candidate_labels)\n"
      ],
      "metadata": {
        "colab": {
          "base_uri": "https://localhost:8080/"
        },
        "id": "85LlCzIt8KbN",
        "outputId": "b0cc9f96-d506-49f5-9055-90efadcfb848"
      },
      "id": "85LlCzIt8KbN",
      "execution_count": 83,
      "outputs": [
        {
          "output_type": "execute_result",
          "data": {
            "text/plain": [
              "{'sequence': 'Vulnerability is a gift and don’t let anyone tell you otherwise',\n",
              " 'labels': ['The text describes a cybersecurity-related vulnerability, such as a weakness in software, systems, or networks.',\n",
              "  'The text describes a personal or emotional vulnerability, unrelated to technology or cybersecurity.'],\n",
              " 'scores': [0.7716761231422424, 0.22832384705543518]}"
            ]
          },
          "metadata": {},
          "execution_count": 83
        }
      ]
    },
    {
      "cell_type": "code",
      "source": [
        "# Compute the accuracy and the F1 score of the model by knowing that the column y-test has the correct values, while zero-shot-bart-large-mnli has the predicted labels\n",
        "\n",
        "accuracy = accuracy_score(\n",
        "    vulnerability_threat_tweets['y-test'],\n",
        "    vulnerability_threat_tweets['zero-shot-bart-large-mnli']\n",
        ")\n",
        "f1 = f1_score(\n",
        "    vulnerability_threat_tweets['y-test'],\n",
        "    vulnerability_threat_tweets['zero-shot-bart-large-mnli']\n",
        ")\n",
        "\n",
        "print(f\"Accuracy: {accuracy}\")\n",
        "print(f\"F1 Score: {f1}\")\n"
      ],
      "metadata": {
        "colab": {
          "base_uri": "https://localhost:8080/"
        },
        "id": "tVXSzKDY5M3n",
        "outputId": "d1151a01-dceb-478a-8df2-57cc34b3e760"
      },
      "id": "tVXSzKDY5M3n",
      "execution_count": 79,
      "outputs": [
        {
          "output_type": "stream",
          "name": "stdout",
          "text": [
            "Accuracy: 0.7467598908594816\n",
            "F1 Score: 0.7916958900266517\n"
          ]
        }
      ]
    },
    {
      "cell_type": "code",
      "source": [
        "vulnerability_threat_tweets[['zero-shot-bart-large-mnli', 'y-test', 'text']]\n"
      ],
      "metadata": {
        "colab": {
          "base_uri": "https://localhost:8080/",
          "height": 687
        },
        "id": "_dxy5n_ytl4B",
        "outputId": "36229fcd-1131-4ca0-fe05-71a1a695ba2d"
      },
      "id": "_dxy5n_ytl4B",
      "execution_count": 74,
      "outputs": [
        {
          "output_type": "execute_result",
          "data": {
            "text/plain": [
              "       zero-shot-bart-large-mnli  y-test  \\\n",
              "0                              0       0   \n",
              "6                              1       1   \n",
              "7                              1       1   \n",
              "10                             1       0   \n",
              "12                             1       1   \n",
              "...                          ...     ...   \n",
              "21357                          0       0   \n",
              "21359                          0       0   \n",
              "21360                          1       1   \n",
              "21362                          0       1   \n",
              "21367                          1       1   \n",
              "\n",
              "                                                    text  \n",
              "0      Best way to build empathy is through honesty a...  \n",
              "6      (good slides): \\n\\nThe Advanced Exploitation o...  \n",
              "7      CVE-2018-1000532 (beep)\\nhttps://t.co/CaKbo38U...  \n",
              "10     You can’t get to courage without walking throu...  \n",
              "12     OpenSSH vulnerability affecting all versions b...  \n",
              "...                                                  ...  \n",
              "21357  @AlysonStoner i want to say rejection but it’s...  \n",
              "21359  Vulnerability and trust in leader-follower rel...  \n",
              "21360  Vulnerability Management - | Information Secur...  \n",
              "21362  Incredibly powerful presentation by @rlovell10...  \n",
              "21367  @osp_ru please notify your IT security team ab...  \n",
              "\n",
              "[5864 rows x 3 columns]"
            ],
            "text/html": [
              "\n",
              "  <div id=\"df-2276c959-c962-4327-8303-a2241b1f1cff\" class=\"colab-df-container\">\n",
              "    <div>\n",
              "<style scoped>\n",
              "    .dataframe tbody tr th:only-of-type {\n",
              "        vertical-align: middle;\n",
              "    }\n",
              "\n",
              "    .dataframe tbody tr th {\n",
              "        vertical-align: top;\n",
              "    }\n",
              "\n",
              "    .dataframe thead th {\n",
              "        text-align: right;\n",
              "    }\n",
              "</style>\n",
              "<table border=\"1\" class=\"dataframe\">\n",
              "  <thead>\n",
              "    <tr style=\"text-align: right;\">\n",
              "      <th></th>\n",
              "      <th>zero-shot-bart-large-mnli</th>\n",
              "      <th>y-test</th>\n",
              "      <th>text</th>\n",
              "    </tr>\n",
              "  </thead>\n",
              "  <tbody>\n",
              "    <tr>\n",
              "      <th>0</th>\n",
              "      <td>0</td>\n",
              "      <td>0</td>\n",
              "      <td>Best way to build empathy is through honesty a...</td>\n",
              "    </tr>\n",
              "    <tr>\n",
              "      <th>6</th>\n",
              "      <td>1</td>\n",
              "      <td>1</td>\n",
              "      <td>(good slides): \\n\\nThe Advanced Exploitation o...</td>\n",
              "    </tr>\n",
              "    <tr>\n",
              "      <th>7</th>\n",
              "      <td>1</td>\n",
              "      <td>1</td>\n",
              "      <td>CVE-2018-1000532 (beep)\\nhttps://t.co/CaKbo38U...</td>\n",
              "    </tr>\n",
              "    <tr>\n",
              "      <th>10</th>\n",
              "      <td>1</td>\n",
              "      <td>0</td>\n",
              "      <td>You can’t get to courage without walking throu...</td>\n",
              "    </tr>\n",
              "    <tr>\n",
              "      <th>12</th>\n",
              "      <td>1</td>\n",
              "      <td>1</td>\n",
              "      <td>OpenSSH vulnerability affecting all versions b...</td>\n",
              "    </tr>\n",
              "    <tr>\n",
              "      <th>...</th>\n",
              "      <td>...</td>\n",
              "      <td>...</td>\n",
              "      <td>...</td>\n",
              "    </tr>\n",
              "    <tr>\n",
              "      <th>21357</th>\n",
              "      <td>0</td>\n",
              "      <td>0</td>\n",
              "      <td>@AlysonStoner i want to say rejection but it’s...</td>\n",
              "    </tr>\n",
              "    <tr>\n",
              "      <th>21359</th>\n",
              "      <td>0</td>\n",
              "      <td>0</td>\n",
              "      <td>Vulnerability and trust in leader-follower rel...</td>\n",
              "    </tr>\n",
              "    <tr>\n",
              "      <th>21360</th>\n",
              "      <td>1</td>\n",
              "      <td>1</td>\n",
              "      <td>Vulnerability Management - | Information Secur...</td>\n",
              "    </tr>\n",
              "    <tr>\n",
              "      <th>21362</th>\n",
              "      <td>0</td>\n",
              "      <td>1</td>\n",
              "      <td>Incredibly powerful presentation by @rlovell10...</td>\n",
              "    </tr>\n",
              "    <tr>\n",
              "      <th>21367</th>\n",
              "      <td>1</td>\n",
              "      <td>1</td>\n",
              "      <td>@osp_ru please notify your IT security team ab...</td>\n",
              "    </tr>\n",
              "  </tbody>\n",
              "</table>\n",
              "<p>5864 rows × 3 columns</p>\n",
              "</div>\n",
              "    <div class=\"colab-df-buttons\">\n",
              "\n",
              "  <div class=\"colab-df-container\">\n",
              "    <button class=\"colab-df-convert\" onclick=\"convertToInteractive('df-2276c959-c962-4327-8303-a2241b1f1cff')\"\n",
              "            title=\"Convert this dataframe to an interactive table.\"\n",
              "            style=\"display:none;\">\n",
              "\n",
              "  <svg xmlns=\"http://www.w3.org/2000/svg\" height=\"24px\" viewBox=\"0 -960 960 960\">\n",
              "    <path d=\"M120-120v-720h720v720H120Zm60-500h600v-160H180v160Zm220 220h160v-160H400v160Zm0 220h160v-160H400v160ZM180-400h160v-160H180v160Zm440 0h160v-160H620v160ZM180-180h160v-160H180v160Zm440 0h160v-160H620v160Z\"/>\n",
              "  </svg>\n",
              "    </button>\n",
              "\n",
              "  <style>\n",
              "    .colab-df-container {\n",
              "      display:flex;\n",
              "      gap: 12px;\n",
              "    }\n",
              "\n",
              "    .colab-df-convert {\n",
              "      background-color: #E8F0FE;\n",
              "      border: none;\n",
              "      border-radius: 50%;\n",
              "      cursor: pointer;\n",
              "      display: none;\n",
              "      fill: #1967D2;\n",
              "      height: 32px;\n",
              "      padding: 0 0 0 0;\n",
              "      width: 32px;\n",
              "    }\n",
              "\n",
              "    .colab-df-convert:hover {\n",
              "      background-color: #E2EBFA;\n",
              "      box-shadow: 0px 1px 2px rgba(60, 64, 67, 0.3), 0px 1px 3px 1px rgba(60, 64, 67, 0.15);\n",
              "      fill: #174EA6;\n",
              "    }\n",
              "\n",
              "    .colab-df-buttons div {\n",
              "      margin-bottom: 4px;\n",
              "    }\n",
              "\n",
              "    [theme=dark] .colab-df-convert {\n",
              "      background-color: #3B4455;\n",
              "      fill: #D2E3FC;\n",
              "    }\n",
              "\n",
              "    [theme=dark] .colab-df-convert:hover {\n",
              "      background-color: #434B5C;\n",
              "      box-shadow: 0px 1px 3px 1px rgba(0, 0, 0, 0.15);\n",
              "      filter: drop-shadow(0px 1px 2px rgba(0, 0, 0, 0.3));\n",
              "      fill: #FFFFFF;\n",
              "    }\n",
              "  </style>\n",
              "\n",
              "    <script>\n",
              "      const buttonEl =\n",
              "        document.querySelector('#df-2276c959-c962-4327-8303-a2241b1f1cff button.colab-df-convert');\n",
              "      buttonEl.style.display =\n",
              "        google.colab.kernel.accessAllowed ? 'block' : 'none';\n",
              "\n",
              "      async function convertToInteractive(key) {\n",
              "        const element = document.querySelector('#df-2276c959-c962-4327-8303-a2241b1f1cff');\n",
              "        const dataTable =\n",
              "          await google.colab.kernel.invokeFunction('convertToInteractive',\n",
              "                                                    [key], {});\n",
              "        if (!dataTable) return;\n",
              "\n",
              "        const docLinkHtml = 'Like what you see? Visit the ' +\n",
              "          '<a target=\"_blank\" href=https://colab.research.google.com/notebooks/data_table.ipynb>data table notebook</a>'\n",
              "          + ' to learn more about interactive tables.';\n",
              "        element.innerHTML = '';\n",
              "        dataTable['output_type'] = 'display_data';\n",
              "        await google.colab.output.renderOutput(dataTable, element);\n",
              "        const docLink = document.createElement('div');\n",
              "        docLink.innerHTML = docLinkHtml;\n",
              "        element.appendChild(docLink);\n",
              "      }\n",
              "    </script>\n",
              "  </div>\n",
              "\n",
              "\n",
              "<div id=\"df-ca0019d3-40b3-428b-8465-9a2cf641bb5e\">\n",
              "  <button class=\"colab-df-quickchart\" onclick=\"quickchart('df-ca0019d3-40b3-428b-8465-9a2cf641bb5e')\"\n",
              "            title=\"Suggest charts\"\n",
              "            style=\"display:none;\">\n",
              "\n",
              "<svg xmlns=\"http://www.w3.org/2000/svg\" height=\"24px\"viewBox=\"0 0 24 24\"\n",
              "     width=\"24px\">\n",
              "    <g>\n",
              "        <path d=\"M19 3H5c-1.1 0-2 .9-2 2v14c0 1.1.9 2 2 2h14c1.1 0 2-.9 2-2V5c0-1.1-.9-2-2-2zM9 17H7v-7h2v7zm4 0h-2V7h2v10zm4 0h-2v-4h2v4z\"/>\n",
              "    </g>\n",
              "</svg>\n",
              "  </button>\n",
              "\n",
              "<style>\n",
              "  .colab-df-quickchart {\n",
              "      --bg-color: #E8F0FE;\n",
              "      --fill-color: #1967D2;\n",
              "      --hover-bg-color: #E2EBFA;\n",
              "      --hover-fill-color: #174EA6;\n",
              "      --disabled-fill-color: #AAA;\n",
              "      --disabled-bg-color: #DDD;\n",
              "  }\n",
              "\n",
              "  [theme=dark] .colab-df-quickchart {\n",
              "      --bg-color: #3B4455;\n",
              "      --fill-color: #D2E3FC;\n",
              "      --hover-bg-color: #434B5C;\n",
              "      --hover-fill-color: #FFFFFF;\n",
              "      --disabled-bg-color: #3B4455;\n",
              "      --disabled-fill-color: #666;\n",
              "  }\n",
              "\n",
              "  .colab-df-quickchart {\n",
              "    background-color: var(--bg-color);\n",
              "    border: none;\n",
              "    border-radius: 50%;\n",
              "    cursor: pointer;\n",
              "    display: none;\n",
              "    fill: var(--fill-color);\n",
              "    height: 32px;\n",
              "    padding: 0;\n",
              "    width: 32px;\n",
              "  }\n",
              "\n",
              "  .colab-df-quickchart:hover {\n",
              "    background-color: var(--hover-bg-color);\n",
              "    box-shadow: 0 1px 2px rgba(60, 64, 67, 0.3), 0 1px 3px 1px rgba(60, 64, 67, 0.15);\n",
              "    fill: var(--button-hover-fill-color);\n",
              "  }\n",
              "\n",
              "  .colab-df-quickchart-complete:disabled,\n",
              "  .colab-df-quickchart-complete:disabled:hover {\n",
              "    background-color: var(--disabled-bg-color);\n",
              "    fill: var(--disabled-fill-color);\n",
              "    box-shadow: none;\n",
              "  }\n",
              "\n",
              "  .colab-df-spinner {\n",
              "    border: 2px solid var(--fill-color);\n",
              "    border-color: transparent;\n",
              "    border-bottom-color: var(--fill-color);\n",
              "    animation:\n",
              "      spin 1s steps(1) infinite;\n",
              "  }\n",
              "\n",
              "  @keyframes spin {\n",
              "    0% {\n",
              "      border-color: transparent;\n",
              "      border-bottom-color: var(--fill-color);\n",
              "      border-left-color: var(--fill-color);\n",
              "    }\n",
              "    20% {\n",
              "      border-color: transparent;\n",
              "      border-left-color: var(--fill-color);\n",
              "      border-top-color: var(--fill-color);\n",
              "    }\n",
              "    30% {\n",
              "      border-color: transparent;\n",
              "      border-left-color: var(--fill-color);\n",
              "      border-top-color: var(--fill-color);\n",
              "      border-right-color: var(--fill-color);\n",
              "    }\n",
              "    40% {\n",
              "      border-color: transparent;\n",
              "      border-right-color: var(--fill-color);\n",
              "      border-top-color: var(--fill-color);\n",
              "    }\n",
              "    60% {\n",
              "      border-color: transparent;\n",
              "      border-right-color: var(--fill-color);\n",
              "    }\n",
              "    80% {\n",
              "      border-color: transparent;\n",
              "      border-right-color: var(--fill-color);\n",
              "      border-bottom-color: var(--fill-color);\n",
              "    }\n",
              "    90% {\n",
              "      border-color: transparent;\n",
              "      border-bottom-color: var(--fill-color);\n",
              "    }\n",
              "  }\n",
              "</style>\n",
              "\n",
              "  <script>\n",
              "    async function quickchart(key) {\n",
              "      const quickchartButtonEl =\n",
              "        document.querySelector('#' + key + ' button');\n",
              "      quickchartButtonEl.disabled = true;  // To prevent multiple clicks.\n",
              "      quickchartButtonEl.classList.add('colab-df-spinner');\n",
              "      try {\n",
              "        const charts = await google.colab.kernel.invokeFunction(\n",
              "            'suggestCharts', [key], {});\n",
              "      } catch (error) {\n",
              "        console.error('Error during call to suggestCharts:', error);\n",
              "      }\n",
              "      quickchartButtonEl.classList.remove('colab-df-spinner');\n",
              "      quickchartButtonEl.classList.add('colab-df-quickchart-complete');\n",
              "    }\n",
              "    (() => {\n",
              "      let quickchartButtonEl =\n",
              "        document.querySelector('#df-ca0019d3-40b3-428b-8465-9a2cf641bb5e button');\n",
              "      quickchartButtonEl.style.display =\n",
              "        google.colab.kernel.accessAllowed ? 'block' : 'none';\n",
              "    })();\n",
              "  </script>\n",
              "</div>\n",
              "\n",
              "    </div>\n",
              "  </div>\n"
            ],
            "application/vnd.google.colaboratory.intrinsic+json": {
              "type": "dataframe",
              "summary": "{\n  \"name\": \"vulnerability_threat_tweets[['zero-shot-bart-large-mnli', 'y-test', 'text']]\",\n  \"rows\": 5864,\n  \"fields\": [\n    {\n      \"column\": \"zero-shot-bart-large-mnli\",\n      \"properties\": {\n        \"dtype\": \"number\",\n        \"std\": 0,\n        \"min\": 0,\n        \"max\": 1,\n        \"num_unique_values\": 2,\n        \"samples\": [\n          1,\n          0\n        ],\n        \"semantic_type\": \"\",\n        \"description\": \"\"\n      }\n    },\n    {\n      \"column\": \"y-test\",\n      \"properties\": {\n        \"dtype\": \"number\",\n        \"std\": 0,\n        \"min\": 0,\n        \"max\": 1,\n        \"num_unique_values\": 2,\n        \"samples\": [\n          1,\n          0\n        ],\n        \"semantic_type\": \"\",\n        \"description\": \"\"\n      }\n    },\n    {\n      \"column\": \"text\",\n      \"properties\": {\n        \"dtype\": \"string\",\n        \"num_unique_values\": 5864,\n        \"samples\": [\n          \"Vulnerability in America\\u2019s lower income brackets poses a risk to the economy https://t.co/7T7NcgjXWA\",\n          \"TONIGHT | Known for her sweet soprano, honest lyrics, and pure vocals @CecilyAlexa \\u00a0\\nbrings vulnerability to each s\\u2026 https://t.co/xJ2VQPdYrk\"\n        ],\n        \"semantic_type\": \"\",\n        \"description\": \"\"\n      }\n    }\n  ]\n}"
            }
          },
          "metadata": {},
          "execution_count": 74
        }
      ]
    }
  ],
  "metadata": {
    "kernelspec": {
      "display_name": "Python 3",
      "name": "python3"
    },
    "language_info": {
      "codemirror_mode": {
        "name": "ipython",
        "version": 2
      },
      "file_extension": ".py",
      "mimetype": "text/x-python",
      "name": "python",
      "nbconvert_exporter": "python",
      "pygments_lexer": "ipython2",
      "version": "2.7.6"
    },
    "colab": {
      "provenance": [],
      "gpuType": "T4",
      "include_colab_link": true
    },
    "accelerator": "GPU"
  },
  "nbformat": 4,
  "nbformat_minor": 5
}