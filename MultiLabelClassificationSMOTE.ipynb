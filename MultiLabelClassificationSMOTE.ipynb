{
 "cells": [
  {
   "cell_type": "markdown",
   "id": "e47e11e2",
   "metadata": {
    "papermill": {
     "duration": 0.007277,
     "end_time": "2024-12-12T16:26:14.553663",
     "exception": false,
     "start_time": "2024-12-12T16:26:14.546386",
     "status": "completed"
    },
    "tags": []
   },
   "source": [
    "# Multi-Class Classification with Machine Learning\n",
    "In this notebook, we will explore various machine learning models to solve a multi-class classification problem. We will evaluate and compare the performance of different algorithms on the dataset.\n"
   ]
  },
  {
   "metadata": {
    "ExecuteTime": {
     "end_time": "2025-01-23T18:21:36.101005Z",
     "start_time": "2025-01-23T18:21:35.351357Z"
    }
   },
   "cell_type": "code",
   "source": [
    "import ast\n",
    "import json\n",
    "import re\n",
    "import string\n",
    "from collections import defaultdict\n",
    "from pathlib import Path\n",
    "from typing import Union, Any\n",
    "\n",
    "import numpy\n",
    "import pandas\n",
    "from imblearn.over_sampling import SMOTE\n",
    "from numpy import asarray\n",
    "from sklearn.metrics import accuracy_score, roc_auc_score\n",
    "from sklearn.multiclass import OneVsRestClassifier\n",
    "from sklearn.preprocessing import MultiLabelBinarizer\n",
    "from skmultilearn.model_selection import iterative_train_test_split\n",
    "\n",
    "from utils import MultiLabelClassifier\n"
   ],
   "id": "1b57b1cfe033de65",
   "outputs": [],
   "execution_count": 1
  },
  {
   "metadata": {
    "ExecuteTime": {
     "end_time": "2025-01-23T18:21:36.114921Z",
     "start_time": "2025-01-23T18:21:36.109311Z"
    }
   },
   "cell_type": "code",
   "source": [
    "INIT_POINTS = 3\n",
    "N_ITER = 5\n",
    "RANDOM_STATE = 42\n",
    "TEST_SIZE = 2e-1\n",
    "\n",
    "COLAB_PATH = Path('/content/drive/MyDrive')\n",
    "KAGGLE_PATH = Path('/kaggle/input')\n",
    "LOCAL_PATH = Path('./')\n",
    "\n",
    "# Step 1: Check if running in Google Colab\n",
    "try:\n",
    "    import google.colab\n",
    "\n",
    "    DATA_PATH = COLAB_PATH / Path('data')\n",
    "    MODELS_PATH = COLAB_PATH / Path('models')\n",
    "except ImportError:\n",
    "    # Step 2: Check if running in Kaggle\n",
    "    try:\n",
    "        import kaggle_secrets\n",
    "\n",
    "        DATA_PATH = KAGGLE_PATH\n",
    "        MODELS_PATH = KAGGLE_PATH\n",
    "    except ImportError:\n",
    "        # Step 3: Default to local Jupyter Notebook\n",
    "        DATA_PATH = LOCAL_PATH / Path('data')\n",
    "        MODELS_PATH = LOCAL_PATH / Path('models')\n",
    "\n",
    "GLOVE_6B_PATH = MODELS_PATH / Path('glove-embeddings')\n",
    "THREAT_TWEETS_PATH = DATA_PATH / Path('tweets-dataset-for-cyberattack-detection')\n",
    "\n",
    "GLOVE_6B_300D_TXT = GLOVE_6B_PATH / Path('glove.6B.300d.txt')\n",
    "THREAT_TWEETS_CSV = THREAT_TWEETS_PATH / Path('tweets_final.csv')\n"
   ],
   "id": "2ab0308e4458f13c",
   "outputs": [],
   "execution_count": 2
  },
  {
   "metadata": {},
   "cell_type": "markdown",
   "source": "## Functions\n",
   "id": "3e0cf1cd97417ec5"
  },
  {
   "metadata": {},
   "cell_type": "markdown",
   "source": "### Preprocessing\n",
   "id": "ce83ce31752bde18"
  },
  {
   "metadata": {
    "ExecuteTime": {
     "end_time": "2025-01-23T18:21:36.219004Z",
     "start_time": "2025-01-23T18:21:36.163746Z"
    }
   },
   "cell_type": "code",
   "source": [
    "def extract_keys(d, path=None):\n",
    "    \"\"\"\n",
    "    Recursively extract keys from a dictionary, building paths as a list.\n",
    "\n",
    "    Parameters\n",
    "    ----------\n",
    "    d : dict or any\n",
    "        The dictionary to extract keys from.\n",
    "    path : list, optional\n",
    "        A list to accumulate the path, default is None.\n",
    "\n",
    "    Returns\n",
    "    -------\n",
    "    list\n",
    "        A list of paths representing keys in the dictionary.\n",
    "    \"\"\"\n",
    "    if path is None:\n",
    "        path = []\n",
    "\n",
    "    if isinstance(d, dict):\n",
    "        for key, value in d.items():\n",
    "            path = extract_keys(value, path + [key])\n",
    "    else:\n",
    "        path = [d]\n",
    "\n",
    "    return path\n",
    "\n",
    "\n",
    "def build_tree(categories):\n",
    "    \"\"\"\n",
    "    Build a tree-like structure (nested dictionary) from category labels.\n",
    "\n",
    "    Parameters\n",
    "    ----------\n",
    "    categories : list of dict\n",
    "        A list of categories, where each category has a 'label' key that contains a path-like string.\n",
    "\n",
    "    Returns\n",
    "    -------\n",
    "    dict\n",
    "        A nested dictionary representing the tree structure.\n",
    "    \"\"\"\n",
    "    tree = {}\n",
    "    for category in categories:\n",
    "        current = tree\n",
    "        for part in category['label'].strip('/').split('/'):\n",
    "            current = current.setdefault(part, {})\n",
    "    return tree\n",
    "\n",
    "\n",
    "def merge_trees_with_counts(tree1, tree2, visit_count):\n",
    "    \"\"\"\n",
    "    Merge two trees recursively and count the visits to each node.\n",
    "\n",
    "    Parameters\n",
    "    ----------\n",
    "    tree1 : dict\n",
    "        The first tree to be merged.\n",
    "    tree2 : dict\n",
    "        The second tree to be merged.\n",
    "    visit_count : defaultdict(int)\n",
    "        A dictionary that tracks the visit count for each node.\n",
    "\n",
    "    Returns\n",
    "    -------\n",
    "    dict\n",
    "        The merged tree after processing both input trees.\n",
    "    \"\"\"\n",
    "    for key, value in tree2.items():\n",
    "        if key not in tree1:\n",
    "            tree1[key] = value\n",
    "        elif isinstance(value, dict) and isinstance(tree1[key], dict):\n",
    "            merge_trees_with_counts(tree1[key], value, visit_count)\n",
    "\n",
    "        # Count visits for the node\n",
    "        visit_count[key] += 1\n",
    "    return tree1\n",
    "\n",
    "\n",
    "def merge_all_trees_with_counts(trees):\n",
    "    \"\"\"\n",
    "    Merge all trees into one general tree and count the visits to each node.\n",
    "\n",
    "    Parameters\n",
    "    ----------\n",
    "    trees : list of dict\n",
    "        A list of trees (dictionaries) to be merged.\n",
    "\n",
    "    Returns\n",
    "    -------\n",
    "    (dict, defaultdict)\n",
    "        The merged tree with all nodes, and a dictionary mapping each node to its visit count.\n",
    "\n",
    "    \"\"\"\n",
    "    visit_count = defaultdict(int)\n",
    "    unique_trees = [json.loads(json.dumps(tree, sort_keys=True)) for tree in trees]\n",
    "    general_tree = {}\n",
    "\n",
    "    for tree in unique_trees:\n",
    "        general_tree = merge_trees_with_counts(tree1=general_tree, tree2=tree, visit_count=visit_count)\n",
    "\n",
    "    return general_tree, visit_count\n"
   ],
   "id": "7ccc65809a4ac955",
   "outputs": [],
   "execution_count": 3
  },
  {
   "metadata": {},
   "cell_type": "markdown",
   "source": "### Training\n",
   "id": "18d0b676a8d1c9f2"
  },
  {
   "metadata": {
    "ExecuteTime": {
     "end_time": "2025-01-23T18:21:36.327472Z",
     "start_time": "2025-01-23T18:21:36.232479Z"
    }
   },
   "cell_type": "code",
   "source": [
    "def load_word2vec_dict(model_path: Path, embedding_dim: int) -> dict[\n",
    "    Union[str, list[str]], numpy.ndarray[Any, numpy.dtype]]:\n",
    "    embeddings_dict = {}\n",
    "\n",
    "    f = open(model_path, 'r', encoding='utf-8')\n",
    "    for line in f:\n",
    "        values = line.split()\n",
    "        word = values[:-embedding_dim]\n",
    "\n",
    "        if type(word) is list:\n",
    "            word = ' '.join(word)\n",
    "\n",
    "        vector = asarray([float(val) for val in values[-embedding_dim:]])\n",
    "        embeddings_dict[word] = vector\n",
    "    f.close()\n",
    "\n",
    "    return embeddings_dict\n",
    "\n",
    "\n",
    "def preprocess_texts(list_str, model_path, embedding_dim):\n",
    "    word2vec_dict = load_word2vec_dict(\n",
    "        model_path=model_path,\n",
    "        embedding_dim=embedding_dim\n",
    "    )\n",
    "    list_embedded_str = numpy.zeros((len(list_str), embedding_dim))\n",
    "    for i, text in enumerate(list_str):\n",
    "        try:\n",
    "            tokens = re.findall(r'\\w+|[{}]'.format(re.escape(string.punctuation)), text)\n",
    "            for token in tokens:\n",
    "                try:\n",
    "                    list_embedded_str[i] += word2vec_dict[token.lower()]\n",
    "                except KeyError:\n",
    "                    continue\n",
    "        except:\n",
    "            print(text)\n",
    "            return\n",
    "    return list_embedded_str\n"
   ],
   "id": "60b82ba80d238d4f",
   "outputs": [],
   "execution_count": 4
  },
  {
   "metadata": {},
   "cell_type": "markdown",
   "source": "#### Linear Regression Optimization\n",
   "id": "4785bcb61c5ca83c"
  },
  {
   "metadata": {
    "ExecuteTime": {
     "end_time": "2025-01-23T18:21:36.478498Z",
     "start_time": "2025-01-23T18:21:36.341133Z"
    }
   },
   "cell_type": "code",
   "source": [
    "def lr_optimization(C, max_iter, penalty):\n",
    "    # Convert penalty type\n",
    "    penalty = round(penalty)  # 0: 'l1', 1: 'l2'\n",
    "    penalty_mapping = {0: 'l1', 1: 'l2'}\n",
    "    penalty_type = penalty_mapping[penalty]\n",
    "\n",
    "    # Apply SMOTE to handle class imbalance\n",
    "    smote = SMOTE(random_state=RANDOM_STATE)\n",
    "    X_resampled, y_resampled = smote.fit_resample(X_train, y_train)\n",
    "\n",
    "    # Define the LogisticRegression model with OneVsRestClassifier\n",
    "    model = OneVsRestClassifier(LogisticRegression(\n",
    "        C=C,\n",
    "        max_iter=round(max_iter),\n",
    "        penalty=penalty_type,\n",
    "        solver='liblinear',\n",
    "        random_state=RANDOM_STATE\n",
    "    ))\n",
    "\n",
    "    # Fit the model on the resampled data\n",
    "    model.fit(X_resampled, y_resampled)\n",
    "\n",
    "    # Make predictions on the validation set\n",
    "    y_pred = model.predict(X_val)\n",
    "\n",
    "    # Calculate the metrics\n",
    "    accuracy = accuracy_score(y_val, y_pred)\n",
    "    auc = roc_auc_score(y_val, y_pred, average='weighted')\n",
    "\n",
    "    # Return the objective function value\n",
    "    return (accuracy + auc) / 2\n"
   ],
   "id": "b982ef973aed8076",
   "outputs": [],
   "execution_count": 5
  },
  {
   "metadata": {},
   "cell_type": "markdown",
   "source": [
    "## Table of Contents\n",
    "1. [Introduction](#1-introduction)\n",
    "2. [Data Loading & Preprocessing](#2-data-loading-and-preprocessing)\n",
    "3. [Exploratory Data Analysis (EDA)](#3-exploratory-data-analysis-eda)\n",
    "4. [Model Training](#4-model-training)\n",
    "    1. [Logistic Regression](#41-logistic-regression)\n",
    "    2. [Gaussian Naïve Bayes](#42-gaussian-naïve-bayes)\n",
    "    3. [Decision Tree Classifier](#43-decision-tree-classifier)\n",
    "    4. [Support Vector Classifier](#44-support-vector-classifier)\n",
    "    5. [Random Forest Classifier](#45-random-forest-classifier)\n",
    "    6. [XGBoost Classifier](#46-xgboost-classifier)\n",
    "5. [Model Evaluation](#5-model-evaluation)\n",
    "    1. [Accuracy](#Accuracy)\n",
    "    2. [Confusion Matrix](#Confusion-Matrix)\n",
    "    3. [Classification Report](#Classification-Report)\n",
    "6. [Conclusion](#Conclusion)\n"
   ],
   "id": "2370083438a27613"
  },
  {
   "metadata": {},
   "cell_type": "markdown",
   "source": [
    "## 1. Introduction\n",
    "\n",
    "In this notebook, we are going to solve a multi-class classification problem using different machine learning models. Our goal is to predict the class of each sample based on the input features.\n"
   ],
   "id": "4bb471010a0857fd"
  },
  {
   "metadata": {},
   "cell_type": "markdown",
   "source": [
    "## 2. Data Loading and Preprocessing\n",
    "We will load the dataset, inspect its structure, and preprocess it for machine learning models.\n"
   ],
   "id": "a49dd07ec935e1f3"
  },
  {
   "metadata": {
    "ExecuteTime": {
     "end_time": "2025-01-23T18:21:48.753760Z",
     "start_time": "2025-01-23T18:21:36.495875Z"
    }
   },
   "cell_type": "code",
   "source": [
    "# Read the CSV file and process columns in one step\n",
    "threat_tweets = (\n",
    "    pandas.read_csv(filepath_or_buffer=THREAT_TWEETS_CSV)\n",
    "    .assign(\n",
    "        tweet=lambda df: df['tweet'].apply(func=ast.literal_eval),\n",
    "        watson=lambda df: df['watson'].apply(func=ast.literal_eval)\n",
    "        .apply(func=lambda x: x.get('categories', []))\n",
    "        .apply(func=build_tree),\n",
    "        watson_list=lambda df: df['watson'].apply(func=extract_keys),\n",
    "    )\n",
    "    .query(expr='relevant == True')\n",
    "    .drop(labels=['relevant'], axis=1)\n",
    "    .dropna(subset=['text'], ignore_index=True)\n",
    ")\n",
    "\n",
    "print(f'{threat_tweets.shape}')\n",
    "threat_tweets.head()\n"
   ],
   "id": "d1a3791a92b678db",
   "outputs": [
    {
     "name": "stdout",
     "output_type": "stream",
     "text": [
      "(11112, 12)\n"
     ]
    },
    {
     "data": {
      "text/plain": [
       "                           _id                       date  \\\n",
       "0  b'5b8876f9bb325e65fa7e78e4'  2018-08-30 23:00:08+00:00   \n",
       "1  b'5b8876f9bb325e65fa7e78e5'  2018-08-30 23:00:09+00:00   \n",
       "2  b'5b8876fabb325e65fa7e78e6'  2018-08-30 23:00:09+00:00   \n",
       "3  b'5b88770abb325e65fa7e78e7'  2018-08-30 23:00:25+00:00   \n",
       "4  b'5b887713bb325e65fa7e78e8'  2018-08-30 23:00:35+00:00   \n",
       "\n",
       "                    id                                               text  \\\n",
       "0  1035301167952211969  Protect  your customers  access Prestashop Ant...   \n",
       "1  1035301173178249217  Data leak from Huazhu Hotels may affect 130 mi...   \n",
       "2  1035301174583353344  Instagram App 41.1788.50991.0 #Denial Of #Serv...   \n",
       "3  1035301242271096832  (good slides): \\n\\nThe Advanced Exploitation o...   \n",
       "4  1035301282095853569  CVE-2018-1000532 (beep)\\nhttps://t.co/CaKbo38U...   \n",
       "\n",
       "                                               tweet           type  \\\n",
       "0  {'created_at': 'Thu Aug 30 23:00:08 +0000 2018...           ddos   \n",
       "1  {'created_at': 'Thu Aug 30 23:00:09 +0000 2018...           leak   \n",
       "2  {'created_at': 'Thu Aug 30 23:00:09 +0000 2018...        general   \n",
       "3  {'created_at': 'Thu Aug 30 23:00:25 +0000 2018...  vulnerability   \n",
       "4  {'created_at': 'Thu Aug 30 23:00:35 +0000 2018...  vulnerability   \n",
       "\n",
       "                                              watson annotation  \\\n",
       "0  {'technology and computing': {'internet techno...     threat   \n",
       "1  {'travel': {'hotels': {}}, 'home and garden': ...     threat   \n",
       "2  {'science': {'weather': {'meteorological disas...     threat   \n",
       "3  {'business and industrial': {'business operati...     threat   \n",
       "4  {'technology and computing': {'computer securi...     threat   \n",
       "\n",
       "                                                urls  \\\n",
       "0  ['http://addons.prestashop.com/en/23513-anti-d...   \n",
       "1  ['http://www.hotelmanagement.net/tech/data-lea...   \n",
       "2  ['https://packetstormsecurity.com/files/149120...   \n",
       "3  ['https://twitter.com/i/web/status/10353012422...   \n",
       "4  ['https://web.nvd.nist.gov/view/vuln/detail?vu...   \n",
       "\n",
       "                                     destination_url valid_certificate  \\\n",
       "0  https://addons.prestashop.com/en/23513-anti-dd...              True   \n",
       "1  http://www.hotelmanagement.net/tech/data-leak-...              True   \n",
       "2  https://packetstormsecurity.com/files/149120/i...              True   \n",
       "3  https://twitter.com/i/web/status/1035301242271...              True   \n",
       "4  https://nvd.nist.gov/vuln/detail/CVE-2018-1000532              True   \n",
       "\n",
       "                                         watson_list  \n",
       "0  [technology and computing, internet technology...  \n",
       "1  [travel, hotels, home and garden, home improve...  \n",
       "2  [science, weather, meteorological disaster, hu...  \n",
       "3  [business and industrial, business operations,...  \n",
       "4  [technology and computing, computer security, ...  "
      ],
      "text/html": [
       "<div>\n",
       "<style scoped>\n",
       "    .dataframe tbody tr th:only-of-type {\n",
       "        vertical-align: middle;\n",
       "    }\n",
       "\n",
       "    .dataframe tbody tr th {\n",
       "        vertical-align: top;\n",
       "    }\n",
       "\n",
       "    .dataframe thead th {\n",
       "        text-align: right;\n",
       "    }\n",
       "</style>\n",
       "<table border=\"1\" class=\"dataframe\">\n",
       "  <thead>\n",
       "    <tr style=\"text-align: right;\">\n",
       "      <th></th>\n",
       "      <th>_id</th>\n",
       "      <th>date</th>\n",
       "      <th>id</th>\n",
       "      <th>text</th>\n",
       "      <th>tweet</th>\n",
       "      <th>type</th>\n",
       "      <th>watson</th>\n",
       "      <th>annotation</th>\n",
       "      <th>urls</th>\n",
       "      <th>destination_url</th>\n",
       "      <th>valid_certificate</th>\n",
       "      <th>watson_list</th>\n",
       "    </tr>\n",
       "  </thead>\n",
       "  <tbody>\n",
       "    <tr>\n",
       "      <th>0</th>\n",
       "      <td>b'5b8876f9bb325e65fa7e78e4'</td>\n",
       "      <td>2018-08-30 23:00:08+00:00</td>\n",
       "      <td>1035301167952211969</td>\n",
       "      <td>Protect  your customers  access Prestashop Ant...</td>\n",
       "      <td>{'created_at': 'Thu Aug 30 23:00:08 +0000 2018...</td>\n",
       "      <td>ddos</td>\n",
       "      <td>{'technology and computing': {'internet techno...</td>\n",
       "      <td>threat</td>\n",
       "      <td>['http://addons.prestashop.com/en/23513-anti-d...</td>\n",
       "      <td>https://addons.prestashop.com/en/23513-anti-dd...</td>\n",
       "      <td>True</td>\n",
       "      <td>[technology and computing, internet technology...</td>\n",
       "    </tr>\n",
       "    <tr>\n",
       "      <th>1</th>\n",
       "      <td>b'5b8876f9bb325e65fa7e78e5'</td>\n",
       "      <td>2018-08-30 23:00:09+00:00</td>\n",
       "      <td>1035301173178249217</td>\n",
       "      <td>Data leak from Huazhu Hotels may affect 130 mi...</td>\n",
       "      <td>{'created_at': 'Thu Aug 30 23:00:09 +0000 2018...</td>\n",
       "      <td>leak</td>\n",
       "      <td>{'travel': {'hotels': {}}, 'home and garden': ...</td>\n",
       "      <td>threat</td>\n",
       "      <td>['http://www.hotelmanagement.net/tech/data-lea...</td>\n",
       "      <td>http://www.hotelmanagement.net/tech/data-leak-...</td>\n",
       "      <td>True</td>\n",
       "      <td>[travel, hotels, home and garden, home improve...</td>\n",
       "    </tr>\n",
       "    <tr>\n",
       "      <th>2</th>\n",
       "      <td>b'5b8876fabb325e65fa7e78e6'</td>\n",
       "      <td>2018-08-30 23:00:09+00:00</td>\n",
       "      <td>1035301174583353344</td>\n",
       "      <td>Instagram App 41.1788.50991.0 #Denial Of #Serv...</td>\n",
       "      <td>{'created_at': 'Thu Aug 30 23:00:09 +0000 2018...</td>\n",
       "      <td>general</td>\n",
       "      <td>{'science': {'weather': {'meteorological disas...</td>\n",
       "      <td>threat</td>\n",
       "      <td>['https://packetstormsecurity.com/files/149120...</td>\n",
       "      <td>https://packetstormsecurity.com/files/149120/i...</td>\n",
       "      <td>True</td>\n",
       "      <td>[science, weather, meteorological disaster, hu...</td>\n",
       "    </tr>\n",
       "    <tr>\n",
       "      <th>3</th>\n",
       "      <td>b'5b88770abb325e65fa7e78e7'</td>\n",
       "      <td>2018-08-30 23:00:25+00:00</td>\n",
       "      <td>1035301242271096832</td>\n",
       "      <td>(good slides): \\n\\nThe Advanced Exploitation o...</td>\n",
       "      <td>{'created_at': 'Thu Aug 30 23:00:25 +0000 2018...</td>\n",
       "      <td>vulnerability</td>\n",
       "      <td>{'business and industrial': {'business operati...</td>\n",
       "      <td>threat</td>\n",
       "      <td>['https://twitter.com/i/web/status/10353012422...</td>\n",
       "      <td>https://twitter.com/i/web/status/1035301242271...</td>\n",
       "      <td>True</td>\n",
       "      <td>[business and industrial, business operations,...</td>\n",
       "    </tr>\n",
       "    <tr>\n",
       "      <th>4</th>\n",
       "      <td>b'5b887713bb325e65fa7e78e8'</td>\n",
       "      <td>2018-08-30 23:00:35+00:00</td>\n",
       "      <td>1035301282095853569</td>\n",
       "      <td>CVE-2018-1000532 (beep)\\nhttps://t.co/CaKbo38U...</td>\n",
       "      <td>{'created_at': 'Thu Aug 30 23:00:35 +0000 2018...</td>\n",
       "      <td>vulnerability</td>\n",
       "      <td>{'technology and computing': {'computer securi...</td>\n",
       "      <td>threat</td>\n",
       "      <td>['https://web.nvd.nist.gov/view/vuln/detail?vu...</td>\n",
       "      <td>https://nvd.nist.gov/vuln/detail/CVE-2018-1000532</td>\n",
       "      <td>True</td>\n",
       "      <td>[technology and computing, computer security, ...</td>\n",
       "    </tr>\n",
       "  </tbody>\n",
       "</table>\n",
       "</div>"
      ]
     },
     "execution_count": 6,
     "metadata": {},
     "output_type": "execute_result"
    }
   ],
   "execution_count": 6
  },
  {
   "metadata": {
    "ExecuteTime": {
     "end_time": "2025-01-23T18:21:48.822818Z",
     "start_time": "2025-01-23T18:21:48.818768Z"
    }
   },
   "cell_type": "code",
   "source": "print(f\"Number of CS related tweets:\\t{len(threat_tweets)}\")\n",
   "id": "fbaae8f43e47a71c",
   "outputs": [
    {
     "name": "stdout",
     "output_type": "stream",
     "text": [
      "Number of CS related tweets:\t11112\n"
     ]
    }
   ],
   "execution_count": 7
  },
  {
   "metadata": {
    "ExecuteTime": {
     "end_time": "2025-01-23T18:21:49.123306Z",
     "start_time": "2025-01-23T18:21:48.836441Z"
    }
   },
   "cell_type": "code",
   "source": "general_tree, visit_count = merge_all_trees_with_counts(threat_tweets['watson'])\n",
   "id": "36c6162bbca76359",
   "outputs": [],
   "execution_count": 8
  },
  {
   "metadata": {
    "ExecuteTime": {
     "end_time": "2025-01-23T18:21:49.189420Z",
     "start_time": "2025-01-23T18:21:49.185231Z"
    }
   },
   "cell_type": "code",
   "source": [
    "print(\"The subcategories in 'technology and computing' are:\")\n",
    "for category in list(general_tree['technology and computing'].keys()):\n",
    "    print(f'· {category}')\n"
   ],
   "id": "c857fb73583cd6c8",
   "outputs": [
    {
     "name": "stdout",
     "output_type": "stream",
     "text": [
      "The subcategories in 'technology and computing' are:\n",
      "· computer security\n",
      "· internet technology\n",
      "· software\n",
      "· hardware\n",
      "· operating systems\n",
      "· data centers\n",
      "· mp3 and midi\n",
      "· computer reviews\n",
      "· programming languages\n",
      "· consumer electronics\n",
      "· tech news\n",
      "· networking\n",
      "· electronic components\n",
      "· computer crime\n",
      "· enterprise technology\n",
      "· computer certification\n",
      "· technological innovation\n",
      "· technical support\n"
     ]
    }
   ],
   "execution_count": 9
  },
  {
   "metadata": {
    "ExecuteTime": {
     "end_time": "2025-01-23T18:21:49.274971Z",
     "start_time": "2025-01-23T18:21:49.201728Z"
    }
   },
   "cell_type": "code",
   "source": [
    "sorted_visit_count = dict(sorted(visit_count.items(), key=lambda item: item[1], reverse=True))\n",
    "\n",
    "with open('general_tree.json', 'w') as file:\n",
    "    file.write(json.dumps(general_tree, indent=4))\n",
    "\n",
    "with open('general_tree_visit_counts.json', 'w') as file:\n",
    "    file.write(json.dumps(sorted_visit_count, indent=4))\n"
   ],
   "id": "843a513f5bde5bc1",
   "outputs": [],
   "execution_count": 10
  },
  {
   "metadata": {},
   "cell_type": "markdown",
   "source": [
    "## 3. Exploratory Data Analysis (EDA)\n",
    "Let's analyze the dataset and gain insights into its distribution.\n"
   ],
   "id": "ed6766957c409979"
  },
  {
   "metadata": {
    "ExecuteTime": {
     "end_time": "2025-01-23T18:21:49.418678Z",
     "start_time": "2025-01-23T18:21:49.391768Z"
    }
   },
   "cell_type": "code",
   "source": [
    "print('At macro categories are:')\n",
    "for category in list(general_tree.keys()):\n",
    "    print(f'· {category}')\n"
   ],
   "id": "972ccbdf132ea3a6",
   "outputs": [
    {
     "name": "stdout",
     "output_type": "stream",
     "text": [
      "At macro categories are:\n",
      "· technology and computing\n",
      "· health and fitness\n",
      "· home and garden\n",
      "· travel\n",
      "· art and entertainment\n",
      "· science\n",
      "· business and industrial\n",
      "· sports\n",
      "· finance\n",
      "· law, govt and politics\n",
      "· society\n",
      "· real estate\n",
      "· pets\n",
      "· style and fashion\n",
      "· news\n",
      "· hobbies and interests\n",
      "· food and drink\n",
      "· education\n",
      "· shopping\n",
      "· family and parenting\n",
      "· religion and spirituality\n",
      "· automotive and vehicles\n",
      "· careers\n"
     ]
    }
   ],
   "execution_count": 11
  },
  {
   "metadata": {},
   "cell_type": "markdown",
   "source": [
    "For the goal of the project, the categories of interest are:\n",
    "1. computer security/network security\n",
    "2. computer security/antivirus and malware\n",
    "3. operating systems/mac os\n",
    "4. operating systems/windows\n",
    "5. operating systems/unix\n",
    "6. operating systems/linux\n",
    "7. software\n",
    "8. programming languages, included in software\n",
    "9. software/databases\n",
    "10. hardware\n",
    "11. electronic components, included in hardware\n",
    "12. hardware/computer/servers\n",
    "13. hardware/computer/portable computer\n",
    "14. hardware/computer/desktop computer\n",
    "15. hardware/computer components\n",
    "16. hardware/computer networking/router\n",
    "17. hardware/computer networking/wireless technology\n",
    "18. networking\n",
    "19. internet technology, included in networking\n"
   ],
   "id": "a6d12248f2151d17"
  },
  {
   "metadata": {
    "ExecuteTime": {
     "end_time": "2025-01-23T18:21:49.571605Z",
     "start_time": "2025-01-23T18:21:49.461623Z"
    }
   },
   "cell_type": "code",
   "source": [
    "FIX_TARGETS = {\n",
    "    'computer security': 'computer security',\n",
    "    'operating systems': 'operating systems',\n",
    "    'software': 'software',\n",
    "    'programming languages': 'software',\n",
    "    'hardware': 'hardware',\n",
    "    'electronic components': 'hardware',\n",
    "    'networking': 'networking',\n",
    "    'internet technology': 'networking'\n",
    "}\n",
    "\n",
    "chosen_categories = [\n",
    "    list(set(FIX_TARGETS.keys()) & set(s))\n",
    "    for s in threat_tweets['watson_list']\n",
    "]\n",
    "\n",
    "for i, watson_list in enumerate(chosen_categories):\n",
    "    temp = list(set([FIX_TARGETS[c] for c in watson_list]))\n",
    "    if len(temp) < 1:\n",
    "        temp = ['other']\n",
    "    chosen_categories[i] = temp\n",
    "\n",
    "threat_tweets['target'] = chosen_categories\n",
    "\n",
    "print(f'{threat_tweets.shape}')\n",
    "threat_tweets.head()\n"
   ],
   "id": "67716602e4e2bfe3",
   "outputs": [
    {
     "name": "stdout",
     "output_type": "stream",
     "text": [
      "(11112, 13)\n"
     ]
    },
    {
     "data": {
      "text/plain": [
       "                           _id                       date  \\\n",
       "0  b'5b8876f9bb325e65fa7e78e4'  2018-08-30 23:00:08+00:00   \n",
       "1  b'5b8876f9bb325e65fa7e78e5'  2018-08-30 23:00:09+00:00   \n",
       "2  b'5b8876fabb325e65fa7e78e6'  2018-08-30 23:00:09+00:00   \n",
       "3  b'5b88770abb325e65fa7e78e7'  2018-08-30 23:00:25+00:00   \n",
       "4  b'5b887713bb325e65fa7e78e8'  2018-08-30 23:00:35+00:00   \n",
       "\n",
       "                    id                                               text  \\\n",
       "0  1035301167952211969  Protect  your customers  access Prestashop Ant...   \n",
       "1  1035301173178249217  Data leak from Huazhu Hotels may affect 130 mi...   \n",
       "2  1035301174583353344  Instagram App 41.1788.50991.0 #Denial Of #Serv...   \n",
       "3  1035301242271096832  (good slides): \\n\\nThe Advanced Exploitation o...   \n",
       "4  1035301282095853569  CVE-2018-1000532 (beep)\\nhttps://t.co/CaKbo38U...   \n",
       "\n",
       "                                               tweet           type  \\\n",
       "0  {'created_at': 'Thu Aug 30 23:00:08 +0000 2018...           ddos   \n",
       "1  {'created_at': 'Thu Aug 30 23:00:09 +0000 2018...           leak   \n",
       "2  {'created_at': 'Thu Aug 30 23:00:09 +0000 2018...        general   \n",
       "3  {'created_at': 'Thu Aug 30 23:00:25 +0000 2018...  vulnerability   \n",
       "4  {'created_at': 'Thu Aug 30 23:00:35 +0000 2018...  vulnerability   \n",
       "\n",
       "                                              watson annotation  \\\n",
       "0  {'technology and computing': {'internet techno...     threat   \n",
       "1  {'travel': {'hotels': {}}, 'home and garden': ...     threat   \n",
       "2  {'science': {'weather': {'meteorological disas...     threat   \n",
       "3  {'business and industrial': {'business operati...     threat   \n",
       "4  {'technology and computing': {'computer securi...     threat   \n",
       "\n",
       "                                                urls  \\\n",
       "0  ['http://addons.prestashop.com/en/23513-anti-d...   \n",
       "1  ['http://www.hotelmanagement.net/tech/data-lea...   \n",
       "2  ['https://packetstormsecurity.com/files/149120...   \n",
       "3  ['https://twitter.com/i/web/status/10353012422...   \n",
       "4  ['https://web.nvd.nist.gov/view/vuln/detail?vu...   \n",
       "\n",
       "                                     destination_url valid_certificate  \\\n",
       "0  https://addons.prestashop.com/en/23513-anti-dd...              True   \n",
       "1  http://www.hotelmanagement.net/tech/data-leak-...              True   \n",
       "2  https://packetstormsecurity.com/files/149120/i...              True   \n",
       "3  https://twitter.com/i/web/status/1035301242271...              True   \n",
       "4  https://nvd.nist.gov/vuln/detail/CVE-2018-1000532              True   \n",
       "\n",
       "                                         watson_list  \\\n",
       "0  [technology and computing, internet technology...   \n",
       "1  [travel, hotels, home and garden, home improve...   \n",
       "2  [science, weather, meteorological disaster, hu...   \n",
       "3  [business and industrial, business operations,...   \n",
       "4  [technology and computing, computer security, ...   \n",
       "\n",
       "                                      target  \n",
       "0  [software, computer security, networking]  \n",
       "1                                    [other]  \n",
       "2                                 [hardware]  \n",
       "3                        [operating systems]  \n",
       "4    [software, computer security, hardware]  "
      ],
      "text/html": [
       "<div>\n",
       "<style scoped>\n",
       "    .dataframe tbody tr th:only-of-type {\n",
       "        vertical-align: middle;\n",
       "    }\n",
       "\n",
       "    .dataframe tbody tr th {\n",
       "        vertical-align: top;\n",
       "    }\n",
       "\n",
       "    .dataframe thead th {\n",
       "        text-align: right;\n",
       "    }\n",
       "</style>\n",
       "<table border=\"1\" class=\"dataframe\">\n",
       "  <thead>\n",
       "    <tr style=\"text-align: right;\">\n",
       "      <th></th>\n",
       "      <th>_id</th>\n",
       "      <th>date</th>\n",
       "      <th>id</th>\n",
       "      <th>text</th>\n",
       "      <th>tweet</th>\n",
       "      <th>type</th>\n",
       "      <th>watson</th>\n",
       "      <th>annotation</th>\n",
       "      <th>urls</th>\n",
       "      <th>destination_url</th>\n",
       "      <th>valid_certificate</th>\n",
       "      <th>watson_list</th>\n",
       "      <th>target</th>\n",
       "    </tr>\n",
       "  </thead>\n",
       "  <tbody>\n",
       "    <tr>\n",
       "      <th>0</th>\n",
       "      <td>b'5b8876f9bb325e65fa7e78e4'</td>\n",
       "      <td>2018-08-30 23:00:08+00:00</td>\n",
       "      <td>1035301167952211969</td>\n",
       "      <td>Protect  your customers  access Prestashop Ant...</td>\n",
       "      <td>{'created_at': 'Thu Aug 30 23:00:08 +0000 2018...</td>\n",
       "      <td>ddos</td>\n",
       "      <td>{'technology and computing': {'internet techno...</td>\n",
       "      <td>threat</td>\n",
       "      <td>['http://addons.prestashop.com/en/23513-anti-d...</td>\n",
       "      <td>https://addons.prestashop.com/en/23513-anti-dd...</td>\n",
       "      <td>True</td>\n",
       "      <td>[technology and computing, internet technology...</td>\n",
       "      <td>[software, computer security, networking]</td>\n",
       "    </tr>\n",
       "    <tr>\n",
       "      <th>1</th>\n",
       "      <td>b'5b8876f9bb325e65fa7e78e5'</td>\n",
       "      <td>2018-08-30 23:00:09+00:00</td>\n",
       "      <td>1035301173178249217</td>\n",
       "      <td>Data leak from Huazhu Hotels may affect 130 mi...</td>\n",
       "      <td>{'created_at': 'Thu Aug 30 23:00:09 +0000 2018...</td>\n",
       "      <td>leak</td>\n",
       "      <td>{'travel': {'hotels': {}}, 'home and garden': ...</td>\n",
       "      <td>threat</td>\n",
       "      <td>['http://www.hotelmanagement.net/tech/data-lea...</td>\n",
       "      <td>http://www.hotelmanagement.net/tech/data-leak-...</td>\n",
       "      <td>True</td>\n",
       "      <td>[travel, hotels, home and garden, home improve...</td>\n",
       "      <td>[other]</td>\n",
       "    </tr>\n",
       "    <tr>\n",
       "      <th>2</th>\n",
       "      <td>b'5b8876fabb325e65fa7e78e6'</td>\n",
       "      <td>2018-08-30 23:00:09+00:00</td>\n",
       "      <td>1035301174583353344</td>\n",
       "      <td>Instagram App 41.1788.50991.0 #Denial Of #Serv...</td>\n",
       "      <td>{'created_at': 'Thu Aug 30 23:00:09 +0000 2018...</td>\n",
       "      <td>general</td>\n",
       "      <td>{'science': {'weather': {'meteorological disas...</td>\n",
       "      <td>threat</td>\n",
       "      <td>['https://packetstormsecurity.com/files/149120...</td>\n",
       "      <td>https://packetstormsecurity.com/files/149120/i...</td>\n",
       "      <td>True</td>\n",
       "      <td>[science, weather, meteorological disaster, hu...</td>\n",
       "      <td>[hardware]</td>\n",
       "    </tr>\n",
       "    <tr>\n",
       "      <th>3</th>\n",
       "      <td>b'5b88770abb325e65fa7e78e7'</td>\n",
       "      <td>2018-08-30 23:00:25+00:00</td>\n",
       "      <td>1035301242271096832</td>\n",
       "      <td>(good slides): \\n\\nThe Advanced Exploitation o...</td>\n",
       "      <td>{'created_at': 'Thu Aug 30 23:00:25 +0000 2018...</td>\n",
       "      <td>vulnerability</td>\n",
       "      <td>{'business and industrial': {'business operati...</td>\n",
       "      <td>threat</td>\n",
       "      <td>['https://twitter.com/i/web/status/10353012422...</td>\n",
       "      <td>https://twitter.com/i/web/status/1035301242271...</td>\n",
       "      <td>True</td>\n",
       "      <td>[business and industrial, business operations,...</td>\n",
       "      <td>[operating systems]</td>\n",
       "    </tr>\n",
       "    <tr>\n",
       "      <th>4</th>\n",
       "      <td>b'5b887713bb325e65fa7e78e8'</td>\n",
       "      <td>2018-08-30 23:00:35+00:00</td>\n",
       "      <td>1035301282095853569</td>\n",
       "      <td>CVE-2018-1000532 (beep)\\nhttps://t.co/CaKbo38U...</td>\n",
       "      <td>{'created_at': 'Thu Aug 30 23:00:35 +0000 2018...</td>\n",
       "      <td>vulnerability</td>\n",
       "      <td>{'technology and computing': {'computer securi...</td>\n",
       "      <td>threat</td>\n",
       "      <td>['https://web.nvd.nist.gov/view/vuln/detail?vu...</td>\n",
       "      <td>https://nvd.nist.gov/vuln/detail/CVE-2018-1000532</td>\n",
       "      <td>True</td>\n",
       "      <td>[technology and computing, computer security, ...</td>\n",
       "      <td>[software, computer security, hardware]</td>\n",
       "    </tr>\n",
       "  </tbody>\n",
       "</table>\n",
       "</div>"
      ]
     },
     "execution_count": 12,
     "metadata": {},
     "output_type": "execute_result"
    }
   ],
   "execution_count": 12
  },
  {
   "metadata": {},
   "cell_type": "markdown",
   "source": [
    "## 4. Model Training\n",
    "\n",
    "We will now train different models and evaluate their performance.\n"
   ],
   "id": "5fcf3bcfc2b2a4c7"
  },
  {
   "metadata": {
    "ExecuteTime": {
     "end_time": "2025-01-23T18:22:18.482126Z",
     "start_time": "2025-01-23T18:21:49.632018Z"
    }
   },
   "cell_type": "code",
   "source": [
    "mlb = MultiLabelBinarizer()\n",
    "y = mlb.fit_transform(threat_tweets['target'])\n",
    "\n",
    "X = preprocess_texts(\n",
    "    list_str=threat_tweets['text'],\n",
    "    model_path=GLOVE_6B_300D_TXT,\n",
    "    embedding_dim=300\n",
    ")\n"
   ],
   "id": "c5032399fc07bfdf",
   "outputs": [],
   "execution_count": 13
  },
  {
   "metadata": {
    "ExecuteTime": {
     "end_time": "2025-01-23T18:22:19.266925Z",
     "start_time": "2025-01-23T18:22:18.547245Z"
    }
   },
   "cell_type": "code",
   "source": [
    "X_train_val, y_train_val, X_test, y_test = iterative_train_test_split(\n",
    "    X, y,\n",
    "    test_size=TEST_SIZE\n",
    ")\n",
    "\n",
    "X_train, y_train, X_val, y_val = iterative_train_test_split(\n",
    "    X_train_val, y_train_val,\n",
    "    test_size=TEST_SIZE\n",
    ")\n"
   ],
   "id": "2023c376ebe6b398",
   "outputs": [],
   "execution_count": 14
  },
  {
   "metadata": {},
   "cell_type": "markdown",
   "source": "### 4.1. Logistic Regressor\n",
   "id": "3ae990170af4af6e"
  },
  {
   "metadata": {
    "ExecuteTime": {
     "end_time": "2025-01-23T19:43:15.382782Z",
     "start_time": "2025-01-23T18:22:19.356921Z"
    }
   },
   "cell_type": "code",
   "source": [
    "ml_lr_classifier = MultiLabelClassifier(\n",
    "    classifier='logistic_regression',\n",
    "    classes=mlb.classes_,\n",
    "    to_optimize=True,\n",
    "    random_state=RANDOM_STATE\n",
    ")\n",
    "\n",
    "ml_lr_classifier = ml_lr_classifier.optimize(\n",
    "    X_train=X_train,\n",
    "    y_train=y_train,\n",
    "    X_val=X_val,\n",
    "    y_val=y_val\n",
    ")\n"
   ],
   "id": "848ddad5790fd1a4",
   "outputs": [
    {
     "name": "stdout",
     "output_type": "stream",
     "text": [
      "|   iter    |  target   |     C     |  penalty  |  solver   |\n",
      "-------------------------------------------------------------\n"
     ]
    },
    {
     "name": "stderr",
     "output_type": "stream",
     "text": [
      "/home/cela/.local/programs/anaconda3/envs/msc-thesis/lib/python3.9/site-packages/bayes_opt/target_space.py:344: UserWarning: You're attempting to register an np.ndarray. Currently, the optimizer internally sorts parameters by key and expects any registered array to respect this order. In future versions this behaviour will change and the order as given by the pbounds dictionary will be used. If you wish to retain sorted parameters, please manually sort your pbounds dictionary before constructing the optimizer.\n",
      "  warn(msg, stacklevel=1)\n"
     ]
    },
    {
     "name": "stdout",
     "output_type": "stream",
     "text": [
      "| \u001B[39m1        \u001B[39m | \u001B[39m0.8208   \u001B[39m | \u001B[39m37.46    \u001B[39m | \u001B[39m0.9507   \u001B[39m | \u001B[39m0.183    \u001B[39m |\n",
      "| \u001B[39m2        \u001B[39m | \u001B[39m0.8208   \u001B[39m | \u001B[39m15.61    \u001B[39m | \u001B[39m0.05808  \u001B[39m | \u001B[39m0.2165   \u001B[39m |\n",
      "| \u001B[35m3        \u001B[39m | \u001B[35m0.8216   \u001B[39m | \u001B[35m38.46    \u001B[39m | \u001B[35m0.1058   \u001B[39m | \u001B[35m0.226    \u001B[39m |\n",
      "| \u001B[39m4        \u001B[39m | \u001B[39m0.8216   \u001B[39m | \u001B[39m38.45    \u001B[39m | \u001B[39m0.2388   \u001B[39m | \u001B[39m0.2413   \u001B[39m |\n",
      "| \u001B[39m5        \u001B[39m | \u001B[39m0.8216   \u001B[39m | \u001B[39m39.5     \u001B[39m | \u001B[39m0.2255   \u001B[39m | \u001B[39m0.1106   \u001B[39m |\n",
      "| \u001B[39m6        \u001B[39m | \u001B[39m0.8208   \u001B[39m | \u001B[39m41.19    \u001B[39m | \u001B[39m0.9527   \u001B[39m | \u001B[39m0.1614   \u001B[39m |\n",
      "=============================================================\n",
      "|   iter    |  target   |     C     |  penalty  |  solver   |\n",
      "-------------------------------------------------------------\n"
     ]
    },
    {
     "name": "stderr",
     "output_type": "stream",
     "text": [
      "/home/cela/.local/programs/anaconda3/envs/msc-thesis/lib/python3.9/site-packages/bayes_opt/target_space.py:344: UserWarning: You're attempting to register an np.ndarray. Currently, the optimizer internally sorts parameters by key and expects any registered array to respect this order. In future versions this behaviour will change and the order as given by the pbounds dictionary will be used. If you wish to retain sorted parameters, please manually sort your pbounds dictionary before constructing the optimizer.\n",
      "  warn(msg, stacklevel=1)\n"
     ]
    },
    {
     "name": "stdout",
     "output_type": "stream",
     "text": [
      "| \u001B[39m1        \u001B[39m | \u001B[39m0.5488   \u001B[39m | \u001B[39m37.46    \u001B[39m | \u001B[39m0.9507   \u001B[39m | \u001B[39m0.183    \u001B[39m |\n",
      "| \u001B[35m2        \u001B[39m | \u001B[35m0.5529   \u001B[39m | \u001B[35m15.61    \u001B[39m | \u001B[35m0.05808  \u001B[39m | \u001B[35m0.2165   \u001B[39m |\n",
      "| \u001B[39m3        \u001B[39m | \u001B[39m0.5523   \u001B[39m | \u001B[39m16.91    \u001B[39m | \u001B[39m0.203    \u001B[39m | \u001B[39m0.106    \u001B[39m |\n",
      "| \u001B[39m4        \u001B[39m | \u001B[39m0.5523   \u001B[39m | \u001B[39m9.04     \u001B[39m | \u001B[39m0.115    \u001B[39m | \u001B[39m0.2222   \u001B[39m |\n",
      "| \u001B[39m5        \u001B[39m | \u001B[39m0.5495   \u001B[39m | \u001B[39m100.0    \u001B[39m | \u001B[39m0.794    \u001B[39m | \u001B[39m0.2184   \u001B[39m |\n"
     ]
    },
    {
     "name": "stderr",
     "output_type": "stream",
     "text": [
      "/home/cela/.local/programs/anaconda3/envs/msc-thesis/lib/python3.9/site-packages/sklearn/svm/_base.py:1235: ConvergenceWarning: Liblinear failed to converge, increase the number of iterations.\n",
      "  warnings.warn(\n"
     ]
    },
    {
     "name": "stdout",
     "output_type": "stream",
     "text": [
      "| \u001B[35m6        \u001B[39m | \u001B[35m0.5535   \u001B[39m | \u001B[35m69.18    \u001B[39m | \u001B[35m0.07014  \u001B[39m | \u001B[35m0.07995  \u001B[39m |\n",
      "=============================================================\n",
      "|   iter    |  target   |     C     |  penalty  |  solver   |\n",
      "-------------------------------------------------------------\n"
     ]
    },
    {
     "name": "stderr",
     "output_type": "stream",
     "text": [
      "/home/cela/.local/programs/anaconda3/envs/msc-thesis/lib/python3.9/site-packages/bayes_opt/target_space.py:344: UserWarning: You're attempting to register an np.ndarray. Currently, the optimizer internally sorts parameters by key and expects any registered array to respect this order. In future versions this behaviour will change and the order as given by the pbounds dictionary will be used. If you wish to retain sorted parameters, please manually sort your pbounds dictionary before constructing the optimizer.\n",
      "  warn(msg, stacklevel=1)\n"
     ]
    },
    {
     "name": "stdout",
     "output_type": "stream",
     "text": [
      "| \u001B[39m1        \u001B[39m | \u001B[39m0.4524   \u001B[39m | \u001B[39m37.46    \u001B[39m | \u001B[39m0.9507   \u001B[39m | \u001B[39m0.183    \u001B[39m |\n",
      "| \u001B[39m2        \u001B[39m | \u001B[39m0.4505   \u001B[39m | \u001B[39m15.61    \u001B[39m | \u001B[39m0.05808  \u001B[39m | \u001B[39m0.2165   \u001B[39m |\n"
     ]
    },
    {
     "name": "stderr",
     "output_type": "stream",
     "text": [
      "/home/cela/.local/programs/anaconda3/envs/msc-thesis/lib/python3.9/site-packages/sklearn/svm/_base.py:1235: ConvergenceWarning: Liblinear failed to converge, increase the number of iterations.\n",
      "  warnings.warn(\n"
     ]
    },
    {
     "name": "stdout",
     "output_type": "stream",
     "text": [
      "| \u001B[39m3        \u001B[39m | \u001B[39m0.4505   \u001B[39m | \u001B[39m38.46    \u001B[39m | \u001B[39m0.1058   \u001B[39m | \u001B[39m0.226    \u001B[39m |\n",
      "| \u001B[39m4        \u001B[39m | \u001B[39m0.4515   \u001B[39m | \u001B[39m37.41    \u001B[39m | \u001B[39m0.9513   \u001B[39m | \u001B[39m0.09812  \u001B[39m |\n",
      "| \u001B[39m5        \u001B[39m | \u001B[39m0.4505   \u001B[39m | \u001B[39m37.51    \u001B[39m | \u001B[39m0.9735   \u001B[39m | \u001B[39m0.2426   \u001B[39m |\n",
      "| \u001B[39m6        \u001B[39m | \u001B[39m0.4505   \u001B[39m | \u001B[39m89.41    \u001B[39m | \u001B[39m0.8615   \u001B[39m | \u001B[39m0.1033   \u001B[39m |\n",
      "=============================================================\n",
      "|   iter    |  target   |     C     |  penalty  |  solver   |\n",
      "-------------------------------------------------------------\n"
     ]
    },
    {
     "name": "stderr",
     "output_type": "stream",
     "text": [
      "/home/cela/.local/programs/anaconda3/envs/msc-thesis/lib/python3.9/site-packages/bayes_opt/target_space.py:344: UserWarning: You're attempting to register an np.ndarray. Currently, the optimizer internally sorts parameters by key and expects any registered array to respect this order. In future versions this behaviour will change and the order as given by the pbounds dictionary will be used. If you wish to retain sorted parameters, please manually sort your pbounds dictionary before constructing the optimizer.\n",
      "  warn(msg, stacklevel=1)\n"
     ]
    },
    {
     "name": "stdout",
     "output_type": "stream",
     "text": [
      "| \u001B[39m1        \u001B[39m | \u001B[39m0.6057   \u001B[39m | \u001B[39m37.46    \u001B[39m | \u001B[39m0.9507   \u001B[39m | \u001B[39m0.183    \u001B[39m |\n",
      "| \u001B[39m2        \u001B[39m | \u001B[39m0.6043   \u001B[39m | \u001B[39m15.61    \u001B[39m | \u001B[39m0.05808  \u001B[39m | \u001B[39m0.2165   \u001B[39m |\n",
      "| \u001B[35m3        \u001B[39m | \u001B[35m0.6074   \u001B[39m | \u001B[35m38.46    \u001B[39m | \u001B[35m0.1058   \u001B[39m | \u001B[35m0.226    \u001B[39m |\n",
      "| \u001B[39m4        \u001B[39m | \u001B[39m0.6074   \u001B[39m | \u001B[39m38.45    \u001B[39m | \u001B[39m0.2388   \u001B[39m | \u001B[39m0.2413   \u001B[39m |\n",
      "| \u001B[39m5        \u001B[39m | \u001B[39m0.6057   \u001B[39m | \u001B[39m40.1     \u001B[39m | \u001B[39m0.4319   \u001B[39m | \u001B[39m0.1723   \u001B[39m |\n",
      "| \u001B[39m6        \u001B[39m | \u001B[39m0.6057   \u001B[39m | \u001B[39m68.52    \u001B[39m | \u001B[39m0.9574   \u001B[39m | \u001B[39m0.2324   \u001B[39m |\n",
      "=============================================================\n"
     ]
    },
    {
     "name": "stderr",
     "output_type": "stream",
     "text": [
      "/home/cela/.local/programs/anaconda3/envs/msc-thesis/lib/python3.9/site-packages/sklearn/svm/_base.py:1235: ConvergenceWarning: Liblinear failed to converge, increase the number of iterations.\n",
      "  warnings.warn(\n"
     ]
    },
    {
     "name": "stdout",
     "output_type": "stream",
     "text": [
      "|   iter    |  target   |     C     |  penalty  |  solver   |\n",
      "-------------------------------------------------------------\n"
     ]
    },
    {
     "name": "stderr",
     "output_type": "stream",
     "text": [
      "/home/cela/.local/programs/anaconda3/envs/msc-thesis/lib/python3.9/site-packages/bayes_opt/target_space.py:344: UserWarning: You're attempting to register an np.ndarray. Currently, the optimizer internally sorts parameters by key and expects any registered array to respect this order. In future versions this behaviour will change and the order as given by the pbounds dictionary will be used. If you wish to retain sorted parameters, please manually sort your pbounds dictionary before constructing the optimizer.\n",
      "  warn(msg, stacklevel=1)\n"
     ]
    },
    {
     "name": "stdout",
     "output_type": "stream",
     "text": [
      "| \u001B[39m1        \u001B[39m | \u001B[39m0.7125   \u001B[39m | \u001B[39m37.46    \u001B[39m | \u001B[39m0.9507   \u001B[39m | \u001B[39m0.183    \u001B[39m |\n",
      "| \u001B[39m2        \u001B[39m | \u001B[39m0.7107   \u001B[39m | \u001B[39m15.61    \u001B[39m | \u001B[39m0.05808  \u001B[39m | \u001B[39m0.2165   \u001B[39m |\n",
      "| \u001B[35m3        \u001B[39m | \u001B[35m0.7134   \u001B[39m | \u001B[35m38.46    \u001B[39m | \u001B[35m0.1058   \u001B[39m | \u001B[35m0.226    \u001B[39m |\n",
      "| \u001B[39m4        \u001B[39m | \u001B[39m0.7107   \u001B[39m | \u001B[39m40.39    \u001B[39m | \u001B[39m0.05508  \u001B[39m | \u001B[39m0.1581   \u001B[39m |\n",
      "| \u001B[39m5        \u001B[39m | \u001B[39m0.7125   \u001B[39m | \u001B[39m38.65    \u001B[39m | \u001B[39m0.9145   \u001B[39m | \u001B[39m0.03207  \u001B[39m |\n"
     ]
    },
    {
     "name": "stderr",
     "output_type": "stream",
     "text": [
      "/home/cela/.local/programs/anaconda3/envs/msc-thesis/lib/python3.9/site-packages/sklearn/svm/_base.py:1235: ConvergenceWarning: Liblinear failed to converge, increase the number of iterations.\n",
      "  warnings.warn(\n"
     ]
    },
    {
     "name": "stdout",
     "output_type": "stream",
     "text": [
      "| \u001B[39m6        \u001B[39m | \u001B[39m0.7107   \u001B[39m | \u001B[39m37.7     \u001B[39m | \u001B[39m0.04179  \u001B[39m | \u001B[39m0.1235   \u001B[39m |\n",
      "=============================================================\n",
      "|   iter    |  target   |     C     |  penalty  |  solver   |\n",
      "-------------------------------------------------------------\n"
     ]
    },
    {
     "name": "stderr",
     "output_type": "stream",
     "text": [
      "/home/cela/.local/programs/anaconda3/envs/msc-thesis/lib/python3.9/site-packages/bayes_opt/target_space.py:344: UserWarning: You're attempting to register an np.ndarray. Currently, the optimizer internally sorts parameters by key and expects any registered array to respect this order. In future versions this behaviour will change and the order as given by the pbounds dictionary will be used. If you wish to retain sorted parameters, please manually sort your pbounds dictionary before constructing the optimizer.\n",
      "  warn(msg, stacklevel=1)\n"
     ]
    },
    {
     "name": "stdout",
     "output_type": "stream",
     "text": [
      "| \u001B[39m1        \u001B[39m | \u001B[39m0.7557   \u001B[39m | \u001B[39m37.46    \u001B[39m | \u001B[39m0.9507   \u001B[39m | \u001B[39m0.183    \u001B[39m |\n",
      "| \u001B[35m2        \u001B[39m | \u001B[35m0.7558   \u001B[39m | \u001B[35m15.61    \u001B[39m | \u001B[35m0.05808  \u001B[39m | \u001B[35m0.2165   \u001B[39m |\n",
      "| \u001B[39m3        \u001B[39m | \u001B[39m0.7555   \u001B[39m | \u001B[39m16.91    \u001B[39m | \u001B[39m0.203    \u001B[39m | \u001B[39m0.106    \u001B[39m |\n",
      "| \u001B[39m4        \u001B[39m | \u001B[39m0.7557   \u001B[39m | \u001B[39m37.41    \u001B[39m | \u001B[39m0.9513   \u001B[39m | \u001B[39m0.09812  \u001B[39m |\n",
      "| \u001B[39m5        \u001B[39m | \u001B[39m0.7555   \u001B[39m | \u001B[39m14.91    \u001B[39m | \u001B[39m0.0259   \u001B[39m | \u001B[39m0.1663   \u001B[39m |\n",
      "| \u001B[39m6        \u001B[39m | \u001B[39m0.7555   \u001B[39m | \u001B[39m15.92    \u001B[39m | \u001B[39m0.1292   \u001B[39m | \u001B[39m0.2364   \u001B[39m |\n",
      "=============================================================\n"
     ]
    }
   ],
   "execution_count": 15
  },
  {
   "metadata": {},
   "cell_type": "markdown",
   "source": "### 4.2. Gaussian Naïve Bayes\n",
   "id": "4993139755f355cc"
  },
  {
   "metadata": {},
   "cell_type": "code",
   "source": [
    "ml_gnb_classifier = MultiLabelClassifier(\n",
    "    classifier='gaussian_naive_bayes',\n",
    "    classes=mlb.classes_,\n",
    "    random_state=RANDOM_STATE\n",
    ")\n",
    "\n",
    "ml_gnb_classifier = ml_gnb_classifier.fit(X_train, y_train)\n"
   ],
   "id": "d796ad9c97f17a9",
   "outputs": [],
   "execution_count": null
  },
  {
   "metadata": {},
   "cell_type": "markdown",
   "source": "### 4.3. Decision Tree Classifier\n",
   "id": "fc3345017c7ad8fb"
  },
  {
   "cell_type": "code",
   "id": "e3015c06",
   "metadata": {
    "execution": {
     "iopub.execute_input": "2024-12-12T16:28:52.432507Z",
     "iopub.status.busy": "2024-12-12T16:28:52.432099Z",
     "iopub.status.idle": "2024-12-12T16:32:57.655999Z",
     "shell.execute_reply": "2024-12-12T16:32:57.654856Z"
    },
    "papermill": {
     "duration": 245.243406,
     "end_time": "2024-12-12T16:32:57.665338",
     "exception": false,
     "start_time": "2024-12-12T16:28:52.421932",
     "status": "completed"
    },
    "tags": []
   },
   "source": [
    "ml_dt_classifier = MultiLabelClassifier(\n",
    "    classifier='decision_tree',\n",
    "    classes=mlb.classes_,\n",
    "    random_state=RANDOM_STATE\n",
    ")\n",
    "\n",
    "ml_dt_classifier = ml_dt_classifier.fit(X_train, y_train)\n"
   ],
   "outputs": [],
   "execution_count": null
  },
  {
   "metadata": {},
   "cell_type": "markdown",
   "source": "### 4.4. Support Vector Classifier\n",
   "id": "7aebdd390880342d"
  },
  {
   "metadata": {},
   "cell_type": "code",
   "source": [
    "ml_svm_classifier = MultiLabelClassifier(\n",
    "    classifier='svm',\n",
    "    classes=mlb.classes_,\n",
    "    random_state=RANDOM_STATE\n",
    ")\n",
    "\n",
    "ml_svm_classifier = ml_svm_classifier.fit(X_train, y_train)\n"
   ],
   "id": "3a71b5762b0912e4",
   "outputs": [],
   "execution_count": null
  },
  {
   "metadata": {},
   "cell_type": "markdown",
   "source": "### 4.5. Random Forest Classifier\n",
   "id": "ae0e963105c230c"
  },
  {
   "metadata": {},
   "cell_type": "code",
   "source": [
    "ml_rf_classifier = MultiLabelClassifier(\n",
    "    classifier='random_forest',\n",
    "    classes=mlb.classes_,\n",
    "    random_state=RANDOM_STATE\n",
    ")\n",
    "\n",
    "ml_rf_classifier = ml_rf_classifier.fit(X_train, y_train)\n"
   ],
   "id": "8199563fe3a4adcc",
   "outputs": [],
   "execution_count": null
  },
  {
   "metadata": {},
   "cell_type": "markdown",
   "source": "### 4.6. XGBoost Classifier\n",
   "id": "9b71045bbfd21d90"
  },
  {
   "cell_type": "code",
   "id": "fd330ea7",
   "metadata": {
    "execution": {
     "iopub.execute_input": "2024-12-12T16:43:46.144509Z",
     "iopub.status.busy": "2024-12-12T16:43:46.144152Z",
     "iopub.status.idle": "2024-12-12T16:44:54.265215Z",
     "shell.execute_reply": "2024-12-12T16:44:54.264349Z"
    },
    "papermill": {
     "duration": 68.142894,
     "end_time": "2024-12-12T16:44:54.277284",
     "exception": false,
     "start_time": "2024-12-12T16:43:46.134390",
     "status": "completed"
    },
    "tags": []
   },
   "source": [
    "ml_xgb_classifier = MultiLabelClassifier(\n",
    "    classifier='xgb',\n",
    "    classes=mlb.classes_,\n",
    "    random_state=RANDOM_STATE\n",
    ")\n",
    "\n",
    "ml_xgb_classifier = ml_xgb_classifier.fit(X_train, y_train)\n"
   ],
   "outputs": [],
   "execution_count": null
  },
  {
   "cell_type": "markdown",
   "id": "4d66232a",
   "metadata": {
    "papermill": {
     "duration": 0.008363,
     "end_time": "2024-12-12T16:44:54.294558",
     "exception": false,
     "start_time": "2024-12-12T16:44:54.286195",
     "status": "completed"
    },
    "tags": []
   },
   "source": [
    "## 5. Model Evaluation\n",
    "\n",
    "Now that we've trained the models, let's evaluate them in more detail.\n"
   ]
  },
  {
   "cell_type": "code",
   "id": "2010b7df",
   "metadata": {
    "execution": {
     "iopub.execute_input": "2024-12-12T16:44:54.314285Z",
     "iopub.status.busy": "2024-12-12T16:44:54.313841Z",
     "iopub.status.idle": "2024-12-12T16:44:54.408450Z",
     "shell.execute_reply": "2024-12-12T16:44:54.407032Z"
    },
    "papermill": {
     "duration": 0.111114,
     "end_time": "2024-12-12T16:44:54.415131",
     "exception": false,
     "start_time": "2024-12-12T16:44:54.304017",
     "status": "completed"
    },
    "tags": [],
    "ExecuteTime": {
     "end_time": "2025-01-23T20:18:55.586736Z",
     "start_time": "2025-01-23T20:18:55.532999Z"
    }
   },
   "source": "ml_lr_metrics = ml_lr_classifier.evaluate(X_val, y_val)\n",
   "outputs": [
    {
     "name": "stdout",
     "output_type": "stream",
     "text": [
      "Accuracy:\t0.43\n",
      "AUC:\t0.81\n",
      "Classification report:\n",
      "                   precision    recall  f1-score   support\n",
      "\n",
      "computer security       0.82      0.82      0.82       931\n",
      "         hardware       0.45      0.71      0.55       355\n",
      "       networking       0.33      0.73      0.45       146\n",
      "operating systems       0.48      0.82      0.61       171\n",
      "            other       0.65      0.79      0.71       361\n",
      "         software       0.71      0.80      0.76       644\n",
      "\n",
      "        micro avg       0.63      0.79      0.70      2608\n",
      "        macro avg       0.57      0.78      0.65      2608\n",
      "     weighted avg       0.67      0.79      0.72      2608\n",
      "      samples avg       0.67      0.79      0.70      2608\n",
      "\n"
     ]
    }
   ],
   "execution_count": 16
  },
  {
   "cell_type": "code",
   "id": "5b60117c",
   "metadata": {
    "execution": {
     "iopub.execute_input": "2024-12-12T16:44:54.469544Z",
     "iopub.status.busy": "2024-12-12T16:44:54.468057Z",
     "iopub.status.idle": "2024-12-12T16:44:54.741932Z",
     "shell.execute_reply": "2024-12-12T16:44:54.740317Z"
    },
    "papermill": {
     "duration": 0.304682,
     "end_time": "2024-12-12T16:44:54.744807",
     "exception": false,
     "start_time": "2024-12-12T16:44:54.440125",
     "status": "completed"
    },
    "tags": []
   },
   "source": "ml_gnb_metrics = ml_gnb_classifier.evaluate(X_val, y_val)\n",
   "outputs": [],
   "execution_count": null
  },
  {
   "cell_type": "code",
   "id": "a38ddce8",
   "metadata": {
    "execution": {
     "iopub.execute_input": "2024-12-12T16:44:54.763755Z",
     "iopub.status.busy": "2024-12-12T16:44:54.763335Z",
     "iopub.status.idle": "2024-12-12T16:44:54.831008Z",
     "shell.execute_reply": "2024-12-12T16:44:54.829742Z"
    },
    "papermill": {
     "duration": 0.080061,
     "end_time": "2024-12-12T16:44:54.833452",
     "exception": false,
     "start_time": "2024-12-12T16:44:54.753391",
     "status": "completed"
    },
    "tags": []
   },
   "source": "ml_dt_metrics = ml_dt_classifier.evaluate(X_val, y_val)\n",
   "outputs": [],
   "execution_count": null
  },
  {
   "cell_type": "code",
   "id": "6428ec02",
   "metadata": {
    "execution": {
     "iopub.execute_input": "2024-12-12T16:44:54.853578Z",
     "iopub.status.busy": "2024-12-12T16:44:54.853208Z",
     "iopub.status.idle": "2024-12-12T16:45:28.545379Z",
     "shell.execute_reply": "2024-12-12T16:45:28.544131Z"
    },
    "papermill": {
     "duration": 33.713393,
     "end_time": "2024-12-12T16:45:28.556551",
     "exception": false,
     "start_time": "2024-12-12T16:44:54.843158",
     "status": "completed"
    },
    "tags": []
   },
   "source": "ml_svm_metrics = ml_svm_classifier.evaluate(X_val, y_val)\n",
   "outputs": [],
   "execution_count": null
  },
  {
   "cell_type": "code",
   "id": "86d95a4b",
   "metadata": {
    "execution": {
     "iopub.execute_input": "2024-12-12T16:45:28.576097Z",
     "iopub.status.busy": "2024-12-12T16:45:28.575631Z",
     "iopub.status.idle": "2024-12-12T16:45:29.634970Z",
     "shell.execute_reply": "2024-12-12T16:45:29.633664Z"
    },
    "papermill": {
     "duration": 1.071984,
     "end_time": "2024-12-12T16:45:29.637553",
     "exception": false,
     "start_time": "2024-12-12T16:45:28.565569",
     "status": "completed"
    },
    "tags": []
   },
   "source": "ml_rf_metrics = ml_rf_classifier.evaluate(X_val, y_val)\n",
   "outputs": [],
   "execution_count": null
  },
  {
   "cell_type": "code",
   "id": "e399fa1d",
   "metadata": {
    "execution": {
     "iopub.execute_input": "2024-12-12T16:45:29.658349Z",
     "iopub.status.busy": "2024-12-12T16:45:29.656759Z",
     "iopub.status.idle": "2024-12-12T16:45:29.831998Z",
     "shell.execute_reply": "2024-12-12T16:45:29.830384Z"
    },
    "papermill": {
     "duration": 0.18835,
     "end_time": "2024-12-12T16:45:29.834838",
     "exception": false,
     "start_time": "2024-12-12T16:45:29.646488",
     "status": "completed"
    },
    "tags": []
   },
   "source": "ml_xgb_metrics = ml_xgb_classifier.evaluate(X_val, y_val)\n",
   "outputs": [],
   "execution_count": null
  }
 ],
 "metadata": {
  "kaggle": {
   "accelerator": "none",
   "dataSources": [
    {
     "datasetId": 870709,
     "sourceId": 1483651,
     "sourceType": "datasetVersion"
    },
    {
     "datasetId": 4678553,
     "sourceId": 7954760,
     "sourceType": "datasetVersion"
    }
   ],
   "dockerImageVersionId": 30804,
   "isGpuEnabled": false,
   "isInternetEnabled": true,
   "language": "python",
   "sourceType": "notebook"
  },
  "kernelspec": {
   "display_name": "Python 3",
   "language": "python",
   "name": "python3"
  },
  "language_info": {
   "codemirror_mode": {
    "name": "ipython",
    "version": 3
   },
   "file_extension": ".py",
   "mimetype": "text/x-python",
   "name": "python",
   "nbconvert_exporter": "python",
   "pygments_lexer": "ipython3",
   "version": "3.10.14"
  },
  "papermill": {
   "default_parameters": {},
   "duration": 5394.913296,
   "end_time": "2024-12-12T17:56:06.436689",
   "environment_variables": {},
   "exception": null,
   "input_path": "__notebook__.ipynb",
   "output_path": "__notebook__.ipynb",
   "parameters": {},
   "start_time": "2024-12-12T16:26:11.523393",
   "version": "2.6.0"
  }
 },
 "nbformat": 4,
 "nbformat_minor": 5
}
