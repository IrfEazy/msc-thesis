{
 "cells": [
  {
   "cell_type": "markdown",
   "id": "e47e11e2",
   "metadata": {
    "papermill": {
     "duration": 0.007277,
     "end_time": "2024-12-12T16:26:14.553663",
     "exception": false,
     "start_time": "2024-12-12T16:26:14.546386",
     "status": "completed"
    },
    "tags": []
   },
   "source": [
    "# Multi-Class Classification with Machine Learning\n",
    "In this notebook, we will explore various machine learning models to solve a multi-class classification problem. We will evaluate and compare the performance of different algorithms on the dataset.\n"
   ]
  },
  {
   "metadata": {
    "execution": {
     "iopub.execute_input": "2024-12-12T16:26:14.569199Z",
     "iopub.status.busy": "2024-12-12T16:26:14.568776Z",
     "iopub.status.idle": "2024-12-12T16:26:17.993533Z",
     "shell.execute_reply": "2024-12-12T16:26:17.992503Z"
    },
    "papermill": {
     "duration": 3.435545,
     "end_time": "2024-12-12T16:26:17.996431",
     "exception": false,
     "start_time": "2024-12-12T16:26:14.560886",
     "status": "completed"
    },
    "tags": [],
    "ExecuteTime": {
     "end_time": "2025-01-27T15:29:00.628732Z",
     "start_time": "2025-01-27T15:28:55.026498Z"
    }
   },
   "cell_type": "code",
   "source": [
    "import ast\n",
    "import random\n",
    "from collections import Counter\n",
    "from pathlib import Path\n",
    "\n",
    "import joblib\n",
    "import numpy as np\n",
    "import pandas as pd\n",
    "import xgboost as xgb\n",
    "from sklearn.ensemble import RandomForestClassifier\n",
    "from sklearn.linear_model import LogisticRegression\n",
    "from sklearn.metrics import classification_report\n",
    "from sklearn.model_selection import train_test_split\n",
    "from sklearn.multiclass import OneVsRestClassifier\n",
    "from sklearn.naive_bayes import GaussianNB\n",
    "from sklearn.preprocessing import MultiLabelBinarizer\n",
    "from sklearn.tree import DecisionTreeClassifier\n",
    "from skmultilearn.model_selection import iterative_train_test_split\n",
    "from tqdm import tqdm\n",
    "\n",
    "from preprocess_functions import build_tree, extract_keys, preprocess_texts\n",
    "from utils import CalibratedLabelRankClassifier, ChainOfClassifiers, LabelPowersetClassifier, \\\n",
    "    assess_models, prune_and_subsample, ConditionalDependencyNetwork, MetaBinaryRelevance\n"
   ],
   "id": "3725615c",
   "outputs": [],
   "execution_count": 1
  },
  {
   "metadata": {
    "ExecuteTime": {
     "end_time": "2025-01-27T15:29:00.643911Z",
     "start_time": "2025-01-27T15:29:00.637971Z"
    }
   },
   "cell_type": "code",
   "source": [
    "OVERWRITE = False\n",
    "RANDOM_STATE = 42\n",
    "\n",
    "np.random.seed(RANDOM_STATE)\n",
    "random.seed(RANDOM_STATE)\n"
   ],
   "id": "30ed7102e0110c7f",
   "outputs": [],
   "execution_count": 2
  },
  {
   "cell_type": "code",
   "id": "8074f464",
   "metadata": {
    "execution": {
     "iopub.execute_input": "2024-12-12T16:26:18.012827Z",
     "iopub.status.busy": "2024-12-12T16:26:18.012308Z",
     "iopub.status.idle": "2024-12-12T16:26:18.020759Z",
     "shell.execute_reply": "2024-12-12T16:26:18.019690Z"
    },
    "papermill": {
     "duration": 0.019672,
     "end_time": "2024-12-12T16:26:18.022881",
     "exception": false,
     "start_time": "2024-12-12T16:26:18.003209",
     "status": "completed"
    },
    "tags": [],
    "ExecuteTime": {
     "end_time": "2025-01-27T15:29:00.966210Z",
     "start_time": "2025-01-27T15:29:00.958417Z"
    }
   },
   "source": [
    "INIT_POINTS = 1\n",
    "N_ITER = 5\n",
    "TEST_SIZE = 2e-1\n",
    "\n",
    "BASE_CLASSIFIERS = {\n",
    "    'logistic_regression': LogisticRegression(solver='liblinear', random_state=RANDOM_STATE),\n",
    "    'gaussian_nb': GaussianNB(),\n",
    "    'decision_tree': DecisionTreeClassifier(random_state=RANDOM_STATE),\n",
    "    'random_forest': RandomForestClassifier(random_state=RANDOM_STATE),\n",
    "    'xgb': xgb.XGBClassifier(random_state=RANDOM_STATE),\n",
    "}\n",
    "\n",
    "COLAB_PATH = Path('/content/drive/MyDrive')\n",
    "KAGGLE_PATH = Path('/kaggle/input')\n",
    "LOCAL_PATH = Path('./')\n",
    "\n",
    "# Step 1: Check if running in Google Colab\n",
    "try:\n",
    "    import google.colab\n",
    "\n",
    "    DATA_PATH = COLAB_PATH / Path('data')\n",
    "    MODELS_PATH = COLAB_PATH / Path('models')\n",
    "except ImportError:\n",
    "    # Step 2: Check if running in Kaggle\n",
    "    try:\n",
    "        import kaggle_secrets\n",
    "\n",
    "        DATA_PATH = KAGGLE_PATH\n",
    "        MODELS_PATH = KAGGLE_PATH\n",
    "    except ImportError:\n",
    "        # Step 3: Default to local Jupyter Notebook\n",
    "        DATA_PATH = LOCAL_PATH / Path('data')\n",
    "        MODELS_PATH = LOCAL_PATH / Path('models')\n",
    "\n",
    "GLOVE_6B_PATH = MODELS_PATH / Path('glove-embeddings')\n",
    "THREAT_TWEETS_PATH = DATA_PATH / Path('tweets-dataset-for-cyberattack-detection')\n",
    "\n",
    "GLOVE_6B_300D_TXT = GLOVE_6B_PATH / Path('glove.6B.300d.txt')\n",
    "THREAT_TWEETS_CSV = THREAT_TWEETS_PATH / Path('tweets_final.csv')\n"
   ],
   "outputs": [],
   "execution_count": 3
  },
  {
   "metadata": {
    "papermill": {
     "duration": 0.006302,
     "end_time": "2024-12-12T16:26:18.048634",
     "exception": false,
     "start_time": "2024-12-12T16:26:18.042332",
     "status": "completed"
    },
    "tags": []
   },
   "cell_type": "markdown",
   "source": [
    "## 1. Introduction\n",
    "\n",
    "In this notebook, we are going to solve a multi-class classification problem using different machine learning models. Our goal is to predict the class of each sample based on the input features.\n"
   ],
   "id": "02878d64"
  },
  {
   "metadata": {
    "papermill": {
     "duration": 0.006199,
     "end_time": "2024-12-12T16:26:18.061625",
     "exception": false,
     "start_time": "2024-12-12T16:26:18.055426",
     "status": "completed"
    },
    "tags": []
   },
   "cell_type": "markdown",
   "source": [
    "## 2. Data Loading and Preprocessing\n",
    "We will load the dataset, inspect its structure, and preprocess it for machine learning models.\n"
   ],
   "id": "bc09f879"
  },
  {
   "metadata": {
    "ExecuteTime": {
     "end_time": "2025-01-27T15:29:14.915767Z",
     "start_time": "2025-01-27T15:29:01.017515Z"
    }
   },
   "cell_type": "code",
   "source": [
    "# Read the CSV file and process columns in one step\n",
    "threat_tweets = (\n",
    "    pd.read_csv(filepath_or_buffer=THREAT_TWEETS_CSV)\n",
    "    .assign(\n",
    "        tweet=lambda df: df['tweet'].apply(func=ast.literal_eval),\n",
    "        watson=lambda df: df['watson'].apply(func=ast.literal_eval)\n",
    "        .apply(func=lambda x: x.get('categories', []))\n",
    "        .apply(func=build_tree),\n",
    "        watson_list=lambda df: df['watson'].apply(func=extract_keys),\n",
    "    )\n",
    "    .query(expr='relevant == True')\n",
    "    .drop(labels=['relevant'], axis=1)\n",
    "    .dropna(subset=['text'], ignore_index=True)\n",
    ")\n",
    "\n",
    "threat_tweets.head()\n"
   ],
   "id": "2f76035997296746",
   "outputs": [
    {
     "data": {
      "text/plain": [
       "                           _id                       date  \\\n",
       "0  b'5b8876f9bb325e65fa7e78e4'  2018-08-30 23:00:08+00:00   \n",
       "1  b'5b8876f9bb325e65fa7e78e5'  2018-08-30 23:00:09+00:00   \n",
       "2  b'5b8876fabb325e65fa7e78e6'  2018-08-30 23:00:09+00:00   \n",
       "3  b'5b88770abb325e65fa7e78e7'  2018-08-30 23:00:25+00:00   \n",
       "4  b'5b887713bb325e65fa7e78e8'  2018-08-30 23:00:35+00:00   \n",
       "\n",
       "                    id                                               text  \\\n",
       "0  1035301167952211969  Protect  your customers  access Prestashop Ant...   \n",
       "1  1035301173178249217  Data leak from Huazhu Hotels may affect 130 mi...   \n",
       "2  1035301174583353344  Instagram App 41.1788.50991.0 #Denial Of #Serv...   \n",
       "3  1035301242271096832  (good slides): \\n\\nThe Advanced Exploitation o...   \n",
       "4  1035301282095853569  CVE-2018-1000532 (beep)\\nhttps://t.co/CaKbo38U...   \n",
       "\n",
       "                                               tweet           type  \\\n",
       "0  {'created_at': 'Thu Aug 30 23:00:08 +0000 2018...           ddos   \n",
       "1  {'created_at': 'Thu Aug 30 23:00:09 +0000 2018...           leak   \n",
       "2  {'created_at': 'Thu Aug 30 23:00:09 +0000 2018...        general   \n",
       "3  {'created_at': 'Thu Aug 30 23:00:25 +0000 2018...  vulnerability   \n",
       "4  {'created_at': 'Thu Aug 30 23:00:35 +0000 2018...  vulnerability   \n",
       "\n",
       "                                              watson annotation  \\\n",
       "0  {'technology and computing': {'internet techno...     threat   \n",
       "1  {'travel': {'hotels': {}}, 'home and garden': ...     threat   \n",
       "2  {'science': {'weather': {'meteorological disas...     threat   \n",
       "3  {'business and industrial': {'business operati...     threat   \n",
       "4  {'technology and computing': {'computer securi...     threat   \n",
       "\n",
       "                                                urls  \\\n",
       "0  ['http://addons.prestashop.com/en/23513-anti-d...   \n",
       "1  ['http://www.hotelmanagement.net/tech/data-lea...   \n",
       "2  ['https://packetstormsecurity.com/files/149120...   \n",
       "3  ['https://twitter.com/i/web/status/10353012422...   \n",
       "4  ['https://web.nvd.nist.gov/view/vuln/detail?vu...   \n",
       "\n",
       "                                     destination_url valid_certificate  \\\n",
       "0  https://addons.prestashop.com/en/23513-anti-dd...              True   \n",
       "1  http://www.hotelmanagement.net/tech/data-leak-...              True   \n",
       "2  https://packetstormsecurity.com/files/149120/i...              True   \n",
       "3  https://twitter.com/i/web/status/1035301242271...              True   \n",
       "4  https://nvd.nist.gov/vuln/detail/CVE-2018-1000532              True   \n",
       "\n",
       "                                         watson_list  \n",
       "0  [technology and computing, internet technology...  \n",
       "1  [travel, hotels, home and garden, home improve...  \n",
       "2  [science, weather, meteorological disaster, hu...  \n",
       "3  [business and industrial, business operations,...  \n",
       "4  [technology and computing, computer security, ...  "
      ],
      "text/html": [
       "<div>\n",
       "<style scoped>\n",
       "    .dataframe tbody tr th:only-of-type {\n",
       "        vertical-align: middle;\n",
       "    }\n",
       "\n",
       "    .dataframe tbody tr th {\n",
       "        vertical-align: top;\n",
       "    }\n",
       "\n",
       "    .dataframe thead th {\n",
       "        text-align: right;\n",
       "    }\n",
       "</style>\n",
       "<table border=\"1\" class=\"dataframe\">\n",
       "  <thead>\n",
       "    <tr style=\"text-align: right;\">\n",
       "      <th></th>\n",
       "      <th>_id</th>\n",
       "      <th>date</th>\n",
       "      <th>id</th>\n",
       "      <th>text</th>\n",
       "      <th>tweet</th>\n",
       "      <th>type</th>\n",
       "      <th>watson</th>\n",
       "      <th>annotation</th>\n",
       "      <th>urls</th>\n",
       "      <th>destination_url</th>\n",
       "      <th>valid_certificate</th>\n",
       "      <th>watson_list</th>\n",
       "    </tr>\n",
       "  </thead>\n",
       "  <tbody>\n",
       "    <tr>\n",
       "      <th>0</th>\n",
       "      <td>b'5b8876f9bb325e65fa7e78e4'</td>\n",
       "      <td>2018-08-30 23:00:08+00:00</td>\n",
       "      <td>1035301167952211969</td>\n",
       "      <td>Protect  your customers  access Prestashop Ant...</td>\n",
       "      <td>{'created_at': 'Thu Aug 30 23:00:08 +0000 2018...</td>\n",
       "      <td>ddos</td>\n",
       "      <td>{'technology and computing': {'internet techno...</td>\n",
       "      <td>threat</td>\n",
       "      <td>['http://addons.prestashop.com/en/23513-anti-d...</td>\n",
       "      <td>https://addons.prestashop.com/en/23513-anti-dd...</td>\n",
       "      <td>True</td>\n",
       "      <td>[technology and computing, internet technology...</td>\n",
       "    </tr>\n",
       "    <tr>\n",
       "      <th>1</th>\n",
       "      <td>b'5b8876f9bb325e65fa7e78e5'</td>\n",
       "      <td>2018-08-30 23:00:09+00:00</td>\n",
       "      <td>1035301173178249217</td>\n",
       "      <td>Data leak from Huazhu Hotels may affect 130 mi...</td>\n",
       "      <td>{'created_at': 'Thu Aug 30 23:00:09 +0000 2018...</td>\n",
       "      <td>leak</td>\n",
       "      <td>{'travel': {'hotels': {}}, 'home and garden': ...</td>\n",
       "      <td>threat</td>\n",
       "      <td>['http://www.hotelmanagement.net/tech/data-lea...</td>\n",
       "      <td>http://www.hotelmanagement.net/tech/data-leak-...</td>\n",
       "      <td>True</td>\n",
       "      <td>[travel, hotels, home and garden, home improve...</td>\n",
       "    </tr>\n",
       "    <tr>\n",
       "      <th>2</th>\n",
       "      <td>b'5b8876fabb325e65fa7e78e6'</td>\n",
       "      <td>2018-08-30 23:00:09+00:00</td>\n",
       "      <td>1035301174583353344</td>\n",
       "      <td>Instagram App 41.1788.50991.0 #Denial Of #Serv...</td>\n",
       "      <td>{'created_at': 'Thu Aug 30 23:00:09 +0000 2018...</td>\n",
       "      <td>general</td>\n",
       "      <td>{'science': {'weather': {'meteorological disas...</td>\n",
       "      <td>threat</td>\n",
       "      <td>['https://packetstormsecurity.com/files/149120...</td>\n",
       "      <td>https://packetstormsecurity.com/files/149120/i...</td>\n",
       "      <td>True</td>\n",
       "      <td>[science, weather, meteorological disaster, hu...</td>\n",
       "    </tr>\n",
       "    <tr>\n",
       "      <th>3</th>\n",
       "      <td>b'5b88770abb325e65fa7e78e7'</td>\n",
       "      <td>2018-08-30 23:00:25+00:00</td>\n",
       "      <td>1035301242271096832</td>\n",
       "      <td>(good slides): \\n\\nThe Advanced Exploitation o...</td>\n",
       "      <td>{'created_at': 'Thu Aug 30 23:00:25 +0000 2018...</td>\n",
       "      <td>vulnerability</td>\n",
       "      <td>{'business and industrial': {'business operati...</td>\n",
       "      <td>threat</td>\n",
       "      <td>['https://twitter.com/i/web/status/10353012422...</td>\n",
       "      <td>https://twitter.com/i/web/status/1035301242271...</td>\n",
       "      <td>True</td>\n",
       "      <td>[business and industrial, business operations,...</td>\n",
       "    </tr>\n",
       "    <tr>\n",
       "      <th>4</th>\n",
       "      <td>b'5b887713bb325e65fa7e78e8'</td>\n",
       "      <td>2018-08-30 23:00:35+00:00</td>\n",
       "      <td>1035301282095853569</td>\n",
       "      <td>CVE-2018-1000532 (beep)\\nhttps://t.co/CaKbo38U...</td>\n",
       "      <td>{'created_at': 'Thu Aug 30 23:00:35 +0000 2018...</td>\n",
       "      <td>vulnerability</td>\n",
       "      <td>{'technology and computing': {'computer securi...</td>\n",
       "      <td>threat</td>\n",
       "      <td>['https://web.nvd.nist.gov/view/vuln/detail?vu...</td>\n",
       "      <td>https://nvd.nist.gov/vuln/detail/CVE-2018-1000532</td>\n",
       "      <td>True</td>\n",
       "      <td>[technology and computing, computer security, ...</td>\n",
       "    </tr>\n",
       "  </tbody>\n",
       "</table>\n",
       "</div>"
      ]
     },
     "execution_count": 4,
     "metadata": {},
     "output_type": "execute_result"
    }
   ],
   "execution_count": 4
  },
  {
   "metadata": {},
   "cell_type": "markdown",
   "source": [
    "For the goal of the project, the categories of interest are:\n",
    "1. computer security/network security\n",
    "2. computer security/antivirus and malware\n",
    "3. operating systems/mac os\n",
    "4. operating systems/windows\n",
    "5. operating systems/unix\n",
    "6. operating systems/linux\n",
    "7. software\n",
    "8. programming languages, included in software\n",
    "9. software/databases\n",
    "10. hardware\n",
    "11. electronic components, included in hardware\n",
    "12. hardware/computer/servers\n",
    "13. hardware/computer/portable computer\n",
    "14. hardware/computer/desktop computer\n",
    "15. hardware/computer components\n",
    "16. hardware/computer networking/router\n",
    "17. hardware/computer networking/wireless technology\n",
    "18. networking\n",
    "19. internet technology, included in networking\n"
   ],
   "id": "5b31409a7b0bd08"
  },
  {
   "metadata": {
    "ExecuteTime": {
     "end_time": "2025-01-27T15:29:15.253963Z",
     "start_time": "2025-01-27T15:29:14.977494Z"
    }
   },
   "cell_type": "code",
   "source": [
    "FIX_TARGETS = {\n",
    "    'computer security': 'computer security',\n",
    "    'operating systems': 'operating systems',\n",
    "    'software': 'software',\n",
    "    'programming languages': 'software',\n",
    "    'hardware': 'hardware',\n",
    "    'electronic components': 'hardware',\n",
    "    'networking': 'networking',\n",
    "    'internet technology': 'networking'\n",
    "}\n",
    "\n",
    "chosen_categories = [\n",
    "    list(set(FIX_TARGETS.keys()) & set(s))\n",
    "    for s in threat_tweets['watson_list']\n",
    "]\n",
    "\n",
    "for i, watson_list in enumerate(chosen_categories):\n",
    "    temp = list(set([FIX_TARGETS[c] for c in watson_list]))\n",
    "    if len(temp) < 1:\n",
    "        temp = ['other']\n",
    "    chosen_categories[i] = temp\n",
    "\n",
    "threat_tweets['target'] = chosen_categories\n",
    "\n",
    "threat_tweets.head()\n"
   ],
   "id": "287e815d832565fd",
   "outputs": [
    {
     "data": {
      "text/plain": [
       "                           _id                       date  \\\n",
       "0  b'5b8876f9bb325e65fa7e78e4'  2018-08-30 23:00:08+00:00   \n",
       "1  b'5b8876f9bb325e65fa7e78e5'  2018-08-30 23:00:09+00:00   \n",
       "2  b'5b8876fabb325e65fa7e78e6'  2018-08-30 23:00:09+00:00   \n",
       "3  b'5b88770abb325e65fa7e78e7'  2018-08-30 23:00:25+00:00   \n",
       "4  b'5b887713bb325e65fa7e78e8'  2018-08-30 23:00:35+00:00   \n",
       "\n",
       "                    id                                               text  \\\n",
       "0  1035301167952211969  Protect  your customers  access Prestashop Ant...   \n",
       "1  1035301173178249217  Data leak from Huazhu Hotels may affect 130 mi...   \n",
       "2  1035301174583353344  Instagram App 41.1788.50991.0 #Denial Of #Serv...   \n",
       "3  1035301242271096832  (good slides): \\n\\nThe Advanced Exploitation o...   \n",
       "4  1035301282095853569  CVE-2018-1000532 (beep)\\nhttps://t.co/CaKbo38U...   \n",
       "\n",
       "                                               tweet           type  \\\n",
       "0  {'created_at': 'Thu Aug 30 23:00:08 +0000 2018...           ddos   \n",
       "1  {'created_at': 'Thu Aug 30 23:00:09 +0000 2018...           leak   \n",
       "2  {'created_at': 'Thu Aug 30 23:00:09 +0000 2018...        general   \n",
       "3  {'created_at': 'Thu Aug 30 23:00:25 +0000 2018...  vulnerability   \n",
       "4  {'created_at': 'Thu Aug 30 23:00:35 +0000 2018...  vulnerability   \n",
       "\n",
       "                                              watson annotation  \\\n",
       "0  {'technology and computing': {'internet techno...     threat   \n",
       "1  {'travel': {'hotels': {}}, 'home and garden': ...     threat   \n",
       "2  {'science': {'weather': {'meteorological disas...     threat   \n",
       "3  {'business and industrial': {'business operati...     threat   \n",
       "4  {'technology and computing': {'computer securi...     threat   \n",
       "\n",
       "                                                urls  \\\n",
       "0  ['http://addons.prestashop.com/en/23513-anti-d...   \n",
       "1  ['http://www.hotelmanagement.net/tech/data-lea...   \n",
       "2  ['https://packetstormsecurity.com/files/149120...   \n",
       "3  ['https://twitter.com/i/web/status/10353012422...   \n",
       "4  ['https://web.nvd.nist.gov/view/vuln/detail?vu...   \n",
       "\n",
       "                                     destination_url valid_certificate  \\\n",
       "0  https://addons.prestashop.com/en/23513-anti-dd...              True   \n",
       "1  http://www.hotelmanagement.net/tech/data-leak-...              True   \n",
       "2  https://packetstormsecurity.com/files/149120/i...              True   \n",
       "3  https://twitter.com/i/web/status/1035301242271...              True   \n",
       "4  https://nvd.nist.gov/vuln/detail/CVE-2018-1000532              True   \n",
       "\n",
       "                                         watson_list  \\\n",
       "0  [technology and computing, internet technology...   \n",
       "1  [travel, hotels, home and garden, home improve...   \n",
       "2  [science, weather, meteorological disaster, hu...   \n",
       "3  [business and industrial, business operations,...   \n",
       "4  [technology and computing, computer security, ...   \n",
       "\n",
       "                                      target  \n",
       "0  [computer security, networking, software]  \n",
       "1                                    [other]  \n",
       "2                                 [hardware]  \n",
       "3                        [operating systems]  \n",
       "4    [computer security, hardware, software]  "
      ],
      "text/html": [
       "<div>\n",
       "<style scoped>\n",
       "    .dataframe tbody tr th:only-of-type {\n",
       "        vertical-align: middle;\n",
       "    }\n",
       "\n",
       "    .dataframe tbody tr th {\n",
       "        vertical-align: top;\n",
       "    }\n",
       "\n",
       "    .dataframe thead th {\n",
       "        text-align: right;\n",
       "    }\n",
       "</style>\n",
       "<table border=\"1\" class=\"dataframe\">\n",
       "  <thead>\n",
       "    <tr style=\"text-align: right;\">\n",
       "      <th></th>\n",
       "      <th>_id</th>\n",
       "      <th>date</th>\n",
       "      <th>id</th>\n",
       "      <th>text</th>\n",
       "      <th>tweet</th>\n",
       "      <th>type</th>\n",
       "      <th>watson</th>\n",
       "      <th>annotation</th>\n",
       "      <th>urls</th>\n",
       "      <th>destination_url</th>\n",
       "      <th>valid_certificate</th>\n",
       "      <th>watson_list</th>\n",
       "      <th>target</th>\n",
       "    </tr>\n",
       "  </thead>\n",
       "  <tbody>\n",
       "    <tr>\n",
       "      <th>0</th>\n",
       "      <td>b'5b8876f9bb325e65fa7e78e4'</td>\n",
       "      <td>2018-08-30 23:00:08+00:00</td>\n",
       "      <td>1035301167952211969</td>\n",
       "      <td>Protect  your customers  access Prestashop Ant...</td>\n",
       "      <td>{'created_at': 'Thu Aug 30 23:00:08 +0000 2018...</td>\n",
       "      <td>ddos</td>\n",
       "      <td>{'technology and computing': {'internet techno...</td>\n",
       "      <td>threat</td>\n",
       "      <td>['http://addons.prestashop.com/en/23513-anti-d...</td>\n",
       "      <td>https://addons.prestashop.com/en/23513-anti-dd...</td>\n",
       "      <td>True</td>\n",
       "      <td>[technology and computing, internet technology...</td>\n",
       "      <td>[computer security, networking, software]</td>\n",
       "    </tr>\n",
       "    <tr>\n",
       "      <th>1</th>\n",
       "      <td>b'5b8876f9bb325e65fa7e78e5'</td>\n",
       "      <td>2018-08-30 23:00:09+00:00</td>\n",
       "      <td>1035301173178249217</td>\n",
       "      <td>Data leak from Huazhu Hotels may affect 130 mi...</td>\n",
       "      <td>{'created_at': 'Thu Aug 30 23:00:09 +0000 2018...</td>\n",
       "      <td>leak</td>\n",
       "      <td>{'travel': {'hotels': {}}, 'home and garden': ...</td>\n",
       "      <td>threat</td>\n",
       "      <td>['http://www.hotelmanagement.net/tech/data-lea...</td>\n",
       "      <td>http://www.hotelmanagement.net/tech/data-leak-...</td>\n",
       "      <td>True</td>\n",
       "      <td>[travel, hotels, home and garden, home improve...</td>\n",
       "      <td>[other]</td>\n",
       "    </tr>\n",
       "    <tr>\n",
       "      <th>2</th>\n",
       "      <td>b'5b8876fabb325e65fa7e78e6'</td>\n",
       "      <td>2018-08-30 23:00:09+00:00</td>\n",
       "      <td>1035301174583353344</td>\n",
       "      <td>Instagram App 41.1788.50991.0 #Denial Of #Serv...</td>\n",
       "      <td>{'created_at': 'Thu Aug 30 23:00:09 +0000 2018...</td>\n",
       "      <td>general</td>\n",
       "      <td>{'science': {'weather': {'meteorological disas...</td>\n",
       "      <td>threat</td>\n",
       "      <td>['https://packetstormsecurity.com/files/149120...</td>\n",
       "      <td>https://packetstormsecurity.com/files/149120/i...</td>\n",
       "      <td>True</td>\n",
       "      <td>[science, weather, meteorological disaster, hu...</td>\n",
       "      <td>[hardware]</td>\n",
       "    </tr>\n",
       "    <tr>\n",
       "      <th>3</th>\n",
       "      <td>b'5b88770abb325e65fa7e78e7'</td>\n",
       "      <td>2018-08-30 23:00:25+00:00</td>\n",
       "      <td>1035301242271096832</td>\n",
       "      <td>(good slides): \\n\\nThe Advanced Exploitation o...</td>\n",
       "      <td>{'created_at': 'Thu Aug 30 23:00:25 +0000 2018...</td>\n",
       "      <td>vulnerability</td>\n",
       "      <td>{'business and industrial': {'business operati...</td>\n",
       "      <td>threat</td>\n",
       "      <td>['https://twitter.com/i/web/status/10353012422...</td>\n",
       "      <td>https://twitter.com/i/web/status/1035301242271...</td>\n",
       "      <td>True</td>\n",
       "      <td>[business and industrial, business operations,...</td>\n",
       "      <td>[operating systems]</td>\n",
       "    </tr>\n",
       "    <tr>\n",
       "      <th>4</th>\n",
       "      <td>b'5b887713bb325e65fa7e78e8'</td>\n",
       "      <td>2018-08-30 23:00:35+00:00</td>\n",
       "      <td>1035301282095853569</td>\n",
       "      <td>CVE-2018-1000532 (beep)\\nhttps://t.co/CaKbo38U...</td>\n",
       "      <td>{'created_at': 'Thu Aug 30 23:00:35 +0000 2018...</td>\n",
       "      <td>vulnerability</td>\n",
       "      <td>{'technology and computing': {'computer securi...</td>\n",
       "      <td>threat</td>\n",
       "      <td>['https://web.nvd.nist.gov/view/vuln/detail?vu...</td>\n",
       "      <td>https://nvd.nist.gov/vuln/detail/CVE-2018-1000532</td>\n",
       "      <td>True</td>\n",
       "      <td>[technology and computing, computer security, ...</td>\n",
       "      <td>[computer security, hardware, software]</td>\n",
       "    </tr>\n",
       "  </tbody>\n",
       "</table>\n",
       "</div>"
      ]
     },
     "execution_count": 5,
     "metadata": {},
     "output_type": "execute_result"
    }
   ],
   "execution_count": 5
  },
  {
   "metadata": {
    "ExecuteTime": {
     "end_time": "2025-01-27T15:29:15.391683Z",
     "start_time": "2025-01-27T15:29:15.321060Z"
    }
   },
   "cell_type": "code",
   "source": [
    "FIX_TARGETS_SOFTWARE = {\n",
    "    'databases': 'databases'\n",
    "}\n",
    "\n",
    "threat_tweets_software = threat_tweets[\n",
    "    threat_tweets[\"watson_list\"].apply(lambda x: \"software\" in x)\n",
    "].reset_index(drop=True)\n",
    "\n",
    "chosen_categories = [\n",
    "    list(set(FIX_TARGETS_SOFTWARE.keys()) & set(s))\n",
    "    for s in threat_tweets_software['watson_list']\n",
    "]\n",
    "\n",
    "for i, watson_list in enumerate(chosen_categories):\n",
    "    temp = list(set([FIX_TARGETS_SOFTWARE[c] for c in watson_list]))\n",
    "\n",
    "    if len(temp) < 1:\n",
    "        temp = ['other']\n",
    "\n",
    "    chosen_categories[i] = temp\n",
    "\n",
    "print(len(chosen_categories))\n",
    "threat_tweets_software['target'] = chosen_categories\n",
    "\n",
    "threat_tweets_software.head()\n"
   ],
   "id": "402f0ee25e3a6f7c",
   "outputs": [
    {
     "name": "stdout",
     "output_type": "stream",
     "text": [
      "3689\n"
     ]
    },
    {
     "data": {
      "text/plain": [
       "                           _id                       date  \\\n",
       "0  b'5b8876f9bb325e65fa7e78e4'  2018-08-30 23:00:08+00:00   \n",
       "1  b'5b887713bb325e65fa7e78e8'  2018-08-30 23:00:35+00:00   \n",
       "2  b'5b887a29bb325e65fa7e78fa'  2018-08-30 23:13:45+00:00   \n",
       "3  b'5b887d7abb325e65fa7e790e'  2018-08-30 23:27:53+00:00   \n",
       "4  b'5b887ebfbb325e65fa7e791d'  2018-08-30 23:33:18+00:00   \n",
       "\n",
       "                    id                                               text  \\\n",
       "0  1035301167952211969  Protect  your customers  access Prestashop Ant...   \n",
       "1  1035301282095853569  CVE-2018-1000532 (beep)\\nhttps://t.co/CaKbo38U...   \n",
       "2  1035304594677460992  'Insight' into Home Automation Reveals Vulnera...   \n",
       "3  1035308152747712512  @BitcoinGuruInfo The only way to prove a vulne...   \n",
       "4  1035309516756320257  \"Immunity Debugger 1.85 Denial Of Service\" htt...   \n",
       "\n",
       "                                               tweet           type  \\\n",
       "0  {'created_at': 'Thu Aug 30 23:00:08 +0000 2018...           ddos   \n",
       "1  {'created_at': 'Thu Aug 30 23:00:35 +0000 2018...  vulnerability   \n",
       "2  {'created_at': 'Thu Aug 30 23:13:45 +0000 2018...  vulnerability   \n",
       "3  {'created_at': 'Thu Aug 30 23:27:53 +0000 2018...  vulnerability   \n",
       "4  {'created_at': 'Thu Aug 30 23:33:18 +0000 2018...        general   \n",
       "\n",
       "                                              watson annotation  \\\n",
       "0  {'technology and computing': {'internet techno...     threat   \n",
       "1  {'technology and computing': {'computer securi...     threat   \n",
       "2  {'technology and computing': {'computer securi...     threat   \n",
       "3  {'technology and computing': {'software': {}, ...     threat   \n",
       "4  {'technology and computing': {'computer securi...     threat   \n",
       "\n",
       "                                                urls  \\\n",
       "0  ['http://addons.prestashop.com/en/23513-anti-d...   \n",
       "1  ['https://web.nvd.nist.gov/view/vuln/detail?vu...   \n",
       "2  ['http://bit.ly/2wyOWAp', 'https://twitter.com...   \n",
       "3  ['https://twitter.com/i/web/status/10353081527...   \n",
       "4                         ['https://ift.tt/2wqE48u']   \n",
       "\n",
       "                                     destination_url valid_certificate  \\\n",
       "0  https://addons.prestashop.com/en/23513-anti-dd...              True   \n",
       "1  https://nvd.nist.gov/vuln/detail/CVE-2018-1000532              True   \n",
       "2  https://www.mcafee.com:443/blogs/?utm_content=...              True   \n",
       "3  https://twitter.com/i/web/status/1035308152747...              True   \n",
       "4  https://packetstormsecurity.com/files/149164/i...              True   \n",
       "\n",
       "                                         watson_list       target  \n",
       "0  [technology and computing, internet technology...      [other]  \n",
       "1  [technology and computing, computer security, ...  [databases]  \n",
       "2  [technology and computing, computer security, ...      [other]  \n",
       "3  [technology and computing, software, operating...      [other]  \n",
       "4  [technology and computing, computer security, ...      [other]  "
      ],
      "text/html": [
       "<div>\n",
       "<style scoped>\n",
       "    .dataframe tbody tr th:only-of-type {\n",
       "        vertical-align: middle;\n",
       "    }\n",
       "\n",
       "    .dataframe tbody tr th {\n",
       "        vertical-align: top;\n",
       "    }\n",
       "\n",
       "    .dataframe thead th {\n",
       "        text-align: right;\n",
       "    }\n",
       "</style>\n",
       "<table border=\"1\" class=\"dataframe\">\n",
       "  <thead>\n",
       "    <tr style=\"text-align: right;\">\n",
       "      <th></th>\n",
       "      <th>_id</th>\n",
       "      <th>date</th>\n",
       "      <th>id</th>\n",
       "      <th>text</th>\n",
       "      <th>tweet</th>\n",
       "      <th>type</th>\n",
       "      <th>watson</th>\n",
       "      <th>annotation</th>\n",
       "      <th>urls</th>\n",
       "      <th>destination_url</th>\n",
       "      <th>valid_certificate</th>\n",
       "      <th>watson_list</th>\n",
       "      <th>target</th>\n",
       "    </tr>\n",
       "  </thead>\n",
       "  <tbody>\n",
       "    <tr>\n",
       "      <th>0</th>\n",
       "      <td>b'5b8876f9bb325e65fa7e78e4'</td>\n",
       "      <td>2018-08-30 23:00:08+00:00</td>\n",
       "      <td>1035301167952211969</td>\n",
       "      <td>Protect  your customers  access Prestashop Ant...</td>\n",
       "      <td>{'created_at': 'Thu Aug 30 23:00:08 +0000 2018...</td>\n",
       "      <td>ddos</td>\n",
       "      <td>{'technology and computing': {'internet techno...</td>\n",
       "      <td>threat</td>\n",
       "      <td>['http://addons.prestashop.com/en/23513-anti-d...</td>\n",
       "      <td>https://addons.prestashop.com/en/23513-anti-dd...</td>\n",
       "      <td>True</td>\n",
       "      <td>[technology and computing, internet technology...</td>\n",
       "      <td>[other]</td>\n",
       "    </tr>\n",
       "    <tr>\n",
       "      <th>1</th>\n",
       "      <td>b'5b887713bb325e65fa7e78e8'</td>\n",
       "      <td>2018-08-30 23:00:35+00:00</td>\n",
       "      <td>1035301282095853569</td>\n",
       "      <td>CVE-2018-1000532 (beep)\\nhttps://t.co/CaKbo38U...</td>\n",
       "      <td>{'created_at': 'Thu Aug 30 23:00:35 +0000 2018...</td>\n",
       "      <td>vulnerability</td>\n",
       "      <td>{'technology and computing': {'computer securi...</td>\n",
       "      <td>threat</td>\n",
       "      <td>['https://web.nvd.nist.gov/view/vuln/detail?vu...</td>\n",
       "      <td>https://nvd.nist.gov/vuln/detail/CVE-2018-1000532</td>\n",
       "      <td>True</td>\n",
       "      <td>[technology and computing, computer security, ...</td>\n",
       "      <td>[databases]</td>\n",
       "    </tr>\n",
       "    <tr>\n",
       "      <th>2</th>\n",
       "      <td>b'5b887a29bb325e65fa7e78fa'</td>\n",
       "      <td>2018-08-30 23:13:45+00:00</td>\n",
       "      <td>1035304594677460992</td>\n",
       "      <td>'Insight' into Home Automation Reveals Vulnera...</td>\n",
       "      <td>{'created_at': 'Thu Aug 30 23:13:45 +0000 2018...</td>\n",
       "      <td>vulnerability</td>\n",
       "      <td>{'technology and computing': {'computer securi...</td>\n",
       "      <td>threat</td>\n",
       "      <td>['http://bit.ly/2wyOWAp', 'https://twitter.com...</td>\n",
       "      <td>https://www.mcafee.com:443/blogs/?utm_content=...</td>\n",
       "      <td>True</td>\n",
       "      <td>[technology and computing, computer security, ...</td>\n",
       "      <td>[other]</td>\n",
       "    </tr>\n",
       "    <tr>\n",
       "      <th>3</th>\n",
       "      <td>b'5b887d7abb325e65fa7e790e'</td>\n",
       "      <td>2018-08-30 23:27:53+00:00</td>\n",
       "      <td>1035308152747712512</td>\n",
       "      <td>@BitcoinGuruInfo The only way to prove a vulne...</td>\n",
       "      <td>{'created_at': 'Thu Aug 30 23:27:53 +0000 2018...</td>\n",
       "      <td>vulnerability</td>\n",
       "      <td>{'technology and computing': {'software': {}, ...</td>\n",
       "      <td>threat</td>\n",
       "      <td>['https://twitter.com/i/web/status/10353081527...</td>\n",
       "      <td>https://twitter.com/i/web/status/1035308152747...</td>\n",
       "      <td>True</td>\n",
       "      <td>[technology and computing, software, operating...</td>\n",
       "      <td>[other]</td>\n",
       "    </tr>\n",
       "    <tr>\n",
       "      <th>4</th>\n",
       "      <td>b'5b887ebfbb325e65fa7e791d'</td>\n",
       "      <td>2018-08-30 23:33:18+00:00</td>\n",
       "      <td>1035309516756320257</td>\n",
       "      <td>\"Immunity Debugger 1.85 Denial Of Service\" htt...</td>\n",
       "      <td>{'created_at': 'Thu Aug 30 23:33:18 +0000 2018...</td>\n",
       "      <td>general</td>\n",
       "      <td>{'technology and computing': {'computer securi...</td>\n",
       "      <td>threat</td>\n",
       "      <td>['https://ift.tt/2wqE48u']</td>\n",
       "      <td>https://packetstormsecurity.com/files/149164/i...</td>\n",
       "      <td>True</td>\n",
       "      <td>[technology and computing, computer security, ...</td>\n",
       "      <td>[other]</td>\n",
       "    </tr>\n",
       "  </tbody>\n",
       "</table>\n",
       "</div>"
      ]
     },
     "execution_count": 6,
     "metadata": {},
     "output_type": "execute_result"
    }
   ],
   "execution_count": 6
  },
  {
   "metadata": {
    "ExecuteTime": {
     "end_time": "2025-01-27T15:29:15.603547Z",
     "start_time": "2025-01-27T15:29:15.596965Z"
    }
   },
   "cell_type": "code",
   "source": "Counter([item[0] for item in chosen_categories])\n",
   "id": "d718cd3e85b895e9",
   "outputs": [
    {
     "data": {
      "text/plain": [
       "Counter({'other': 2187, 'databases': 1502})"
      ]
     },
     "execution_count": 7,
     "metadata": {},
     "output_type": "execute_result"
    }
   ],
   "execution_count": 7
  },
  {
   "metadata": {
    "ExecuteTime": {
     "end_time": "2025-01-27T15:29:15.796638Z",
     "start_time": "2025-01-27T15:29:15.790851Z"
    }
   },
   "cell_type": "code",
   "source": "Counter(tuple(item) for item in chosen_categories)\n",
   "id": "341b2e8458ef750d",
   "outputs": [
    {
     "data": {
      "text/plain": [
       "Counter({('other',): 2187, ('databases',): 1502})"
      ]
     },
     "execution_count": 8,
     "metadata": {},
     "output_type": "execute_result"
    }
   ],
   "execution_count": 8
  },
  {
   "metadata": {
    "ExecuteTime": {
     "end_time": "2025-01-27T15:29:46.997005Z",
     "start_time": "2025-01-27T15:29:15.961695Z"
    }
   },
   "cell_type": "code",
   "source": [
    "X = preprocess_texts(\n",
    "    list_str=threat_tweets_software['text'],\n",
    "    model_path=GLOVE_6B_300D_TXT,\n",
    "    embedding_dim=300\n",
    ")\n"
   ],
   "id": "766b6469058b1f2e",
   "outputs": [],
   "execution_count": 9
  },
  {
   "metadata": {
    "papermill": {
     "duration": 0.00674,
     "end_time": "2024-12-12T16:26:36.126427",
     "exception": false,
     "start_time": "2024-12-12T16:26:36.119687",
     "status": "completed"
    },
    "tags": []
   },
   "cell_type": "markdown",
   "source": [
    "## 4. Model Training\n",
    "\n",
    "We will now train different models and evaluate their performance.\n"
   ],
   "id": "30e50fa8"
  },
  {
   "metadata": {
    "ExecuteTime": {
     "end_time": "2025-01-27T15:29:47.126638Z",
     "start_time": "2025-01-27T15:29:47.110005Z"
    }
   },
   "cell_type": "code",
   "source": [
    "br = None\n",
    "clr = None\n",
    "cc = None\n",
    "lp = None\n",
    "pst = None\n",
    "cdn = None\n",
    "mbr = None\n",
    "PATH_BR_SOFTWARE = Path('models/binary_problems/br_software.pkl')\n",
    "PATH_CLR_SOFTWARE = Path('models/binary_problems/clr_software.pkl')\n",
    "PATH_CC_SOFTWARE = Path('models/binary_problems/cc_software.pkl')\n",
    "PATH_LP_SOFTWARE = Path('models/multiclass_problems/lp_software.pkl')\n",
    "PATH_PST_SOFTWARE = Path('models/multiclass_problems/pst_software.pkl')\n",
    "PATH_CDN_SOFTWARE = Path('models/ensembles/cdn_software.pkl')\n",
    "PATH_MBR_SOFTWARE = Path('models/ensembles/mbr_software.pkl')\n",
    "\n",
    "if PATH_BR_SOFTWARE.exists():\n",
    "    br = joblib.load(PATH_BR_SOFTWARE)\n",
    "\n",
    "if PATH_CLR_SOFTWARE.exists():\n",
    "    clr = joblib.load(PATH_CLR_SOFTWARE)\n",
    "\n",
    "if PATH_CC_SOFTWARE.exists():\n",
    "    cc = joblib.load(PATH_CC_SOFTWARE)\n",
    "\n",
    "if PATH_LP_SOFTWARE.exists():\n",
    "    lp = joblib.load(PATH_LP_SOFTWARE)\n",
    "\n",
    "if PATH_PST_SOFTWARE.exists():\n",
    "    pst = joblib.load(PATH_PST_SOFTWARE)\n",
    "\n",
    "if PATH_CDN_SOFTWARE.exists():\n",
    "    cdn = joblib.load(PATH_CDN_SOFTWARE)\n",
    "\n",
    "if PATH_MBR_SOFTWARE.exists():\n",
    "    mbr = joblib.load(PATH_MBR_SOFTWARE)\n"
   ],
   "id": "e7b6c270783cb110",
   "outputs": [],
   "execution_count": 10
  },
  {
   "metadata": {
    "execution": {
     "iopub.execute_input": "2024-12-12T16:26:36.261035Z",
     "iopub.status.busy": "2024-12-12T16:26:36.260618Z",
     "iopub.status.idle": "2024-12-12T16:27:16.804071Z",
     "shell.execute_reply": "2024-12-12T16:27:16.802740Z"
    },
    "papermill": {
     "duration": 40.555062,
     "end_time": "2024-12-12T16:27:16.806882",
     "exception": false,
     "start_time": "2024-12-12T16:26:36.251820",
     "status": "completed"
    },
    "tags": [],
    "ExecuteTime": {
     "end_time": "2025-01-27T15:29:47.251949Z",
     "start_time": "2025-01-27T15:29:47.176448Z"
    }
   },
   "cell_type": "code",
   "source": [
    "mlb = MultiLabelBinarizer()\n",
    "y = mlb.fit_transform(y=threat_tweets_software['target'])\n",
    "\n",
    "unique_label_sets, threat_tweets_software['target_lp'] = np.unique(\n",
    "    ar=y,\n",
    "    axis=0,\n",
    "    return_inverse=True\n",
    ")\n",
    "\n",
    "X_pst, y_pst, label_map_pst, _ = prune_and_subsample(\n",
    "    x=X,\n",
    "    y=y,\n",
    "    pruning_threshold=10,\n",
    "    max_sub_samples=3000\n",
    ")\n",
    "\n",
    "y_lp = threat_tweets_software['target_lp']\n",
    "\n",
    "label_map_lp = {i: tuple(lbl_set) for i, lbl_set in enumerate(unique_label_sets)}\n"
   ],
   "id": "62b61de3",
   "outputs": [],
   "execution_count": 11
  },
  {
   "metadata": {
    "execution": {
     "iopub.execute_input": "2024-12-12T16:27:16.822984Z",
     "iopub.status.busy": "2024-12-12T16:27:16.822523Z",
     "iopub.status.idle": "2024-12-12T16:27:16.869712Z",
     "shell.execute_reply": "2024-12-12T16:27:16.868047Z"
    },
    "papermill": {
     "duration": 0.05826,
     "end_time": "2024-12-12T16:27:16.872512",
     "exception": false,
     "start_time": "2024-12-12T16:27:16.814252",
     "status": "completed"
    },
    "tags": [],
    "ExecuteTime": {
     "end_time": "2025-01-27T15:29:47.568610Z",
     "start_time": "2025-01-27T15:29:47.394190Z"
    }
   },
   "cell_type": "code",
   "source": [
    "# BR, CDR, CC, CDN, MBR\n",
    "X_train_val, y_train_val, X_test, y_test = iterative_train_test_split(\n",
    "    X=X,\n",
    "    y=y,\n",
    "    test_size=TEST_SIZE\n",
    ")\n",
    "\n",
    "X_train, y_train, X_val, y_val = iterative_train_test_split(\n",
    "    X=X_train_val,\n",
    "    y=y_train_val,\n",
    "    test_size=TEST_SIZE\n",
    ")\n",
    "\n",
    "# LP\n",
    "X_train_val_lp, X_test_lp, y_train_val_lp, y_test_lp = train_test_split(\n",
    "    X, y_lp,\n",
    "    test_size=TEST_SIZE,\n",
    "    random_state=RANDOM_STATE,\n",
    "    shuffle=True,\n",
    "    stratify=y_lp\n",
    ")\n",
    "\n",
    "X_train_lp, X_val_lp, y_train_lp, y_val_lp = train_test_split(\n",
    "    X_train_val_lp, y_train_val_lp,\n",
    "    test_size=TEST_SIZE,\n",
    "    random_state=RANDOM_STATE,\n",
    "    shuffle=True,\n",
    "    stratify=y_train_val_lp\n",
    ")\n",
    "\n",
    "# PSt\n",
    "X_train_val_pst, X_test_pst, y_train_val_pst, y_test_pst = train_test_split(\n",
    "    X_pst, y_pst,\n",
    "    test_size=TEST_SIZE,\n",
    "    random_state=RANDOM_STATE,\n",
    "    shuffle=True,\n",
    "    stratify=y_pst\n",
    ")\n",
    "\n",
    "X_train_pst, X_val_pst, y_train_pst, y_val_pst = train_test_split(\n",
    "    X_train_val_pst, y_train_val_pst,\n",
    "    test_size=TEST_SIZE,\n",
    "    random_state=RANDOM_STATE,\n",
    "    shuffle=True,\n",
    "    stratify=y_train_val_pst\n",
    ")\n"
   ],
   "id": "6f6e8f70",
   "outputs": [],
   "execution_count": 12
  },
  {
   "metadata": {},
   "cell_type": "markdown",
   "source": "### 4.1. Binary Problems\n",
   "id": "5497ccaa5c90acba"
  },
  {
   "metadata": {},
   "cell_type": "markdown",
   "source": "#### 4.1.1. BR (Binary Relevance)\n",
   "id": "82dd9d2dcaa2fea4"
  },
  {
   "metadata": {
    "ExecuteTime": {
     "end_time": "2025-01-27T15:30:06.009691Z",
     "start_time": "2025-01-27T15:29:47.670338Z"
    }
   },
   "cell_type": "code",
   "source": [
    "if not br or OVERWRITE:\n",
    "    br = {}\n",
    "\n",
    "    for k in tqdm(BASE_CLASSIFIERS.keys()):\n",
    "        br[k] = OneVsRestClassifier(estimator=BASE_CLASSIFIERS[k]).fit(\n",
    "            X=X_train,\n",
    "            y=y_train\n",
    "        )\n",
    "\n",
    "    joblib.dump(br, PATH_BR_SOFTWARE, compress=9)\n"
   ],
   "id": "edb485590d88fbc",
   "outputs": [
    {
     "name": "stderr",
     "output_type": "stream",
     "text": [
      "100%|██████████| 5/5 [00:16<00:00,  3.30s/it]\n"
     ]
    }
   ],
   "execution_count": 13
  },
  {
   "metadata": {},
   "cell_type": "markdown",
   "source": "#### 4.1.2. CLR (Calibrated Label Ranking)\n",
   "id": "c27df998bb1234c"
  },
  {
   "metadata": {
    "ExecuteTime": {
     "end_time": "2025-01-27T15:30:33.698089Z",
     "start_time": "2025-01-27T15:30:06.063435Z"
    }
   },
   "cell_type": "code",
   "source": [
    "if not clr or OVERWRITE:\n",
    "    clr = {}\n",
    "\n",
    "    for k, v in tqdm(BASE_CLASSIFIERS.items()):\n",
    "        model = CalibratedLabelRankClassifier(\n",
    "            classifier=v,\n",
    "            classes=mlb.classes_,\n",
    "            random_state=RANDOM_STATE\n",
    "        )\n",
    "\n",
    "        clr[k] = model.fit(\n",
    "            x=X_train,\n",
    "            y=[list(mlb.classes_[np.where(row == 1)[0]]) for row in y_train]\n",
    "        )\n",
    "\n",
    "    joblib.dump(clr, PATH_CLR_SOFTWARE, compress=9)\n"
   ],
   "id": "16dc8d6169ac9f67",
   "outputs": [
    {
     "name": "stderr",
     "output_type": "stream",
     "text": [
      "100%|██████████| 5/5 [00:24<00:00,  4.95s/it]\n"
     ]
    }
   ],
   "execution_count": 14
  },
  {
   "metadata": {},
   "cell_type": "markdown",
   "source": "#### 4.1.3. CC (Classifier Chains)\n",
   "id": "8032c9f1462962f2"
  },
  {
   "metadata": {
    "ExecuteTime": {
     "end_time": "2025-01-27T15:30:47.905781Z",
     "start_time": "2025-01-27T15:30:33.760367Z"
    }
   },
   "cell_type": "code",
   "source": [
    "if not cc or OVERWRITE:\n",
    "    cc = {}\n",
    "\n",
    "    for k, v in tqdm(BASE_CLASSIFIERS.items()):\n",
    "        model = ChainOfClassifiers(\n",
    "            classifier=v,\n",
    "            classes=mlb.classes_,\n",
    "            random_state=RANDOM_STATE\n",
    "        )\n",
    "\n",
    "        cc[k] = model.fit(\n",
    "            x=X_train,\n",
    "            y=y_train\n",
    "        )\n",
    "\n",
    "    joblib.dump(cc, PATH_CC_SOFTWARE, compress=9)\n"
   ],
   "id": "3162246646bc535f",
   "outputs": [
    {
     "name": "stderr",
     "output_type": "stream",
     "text": [
      "100%|██████████| 5/5 [00:12<00:00,  2.50s/it]\n"
     ]
    }
   ],
   "execution_count": 15
  },
  {
   "metadata": {},
   "cell_type": "markdown",
   "source": [
    "### 4.2. Multi-class Problems\n",
    "\n"
   ],
   "id": "80e25f22336640"
  },
  {
   "metadata": {},
   "cell_type": "markdown",
   "source": "#### 4.2.1. LP (Label Powerset)\n",
   "id": "fba9c659bff8d6e3"
  },
  {
   "metadata": {
    "ExecuteTime": {
     "end_time": "2025-01-27T15:30:57.895417Z",
     "start_time": "2025-01-27T15:30:47.978710Z"
    }
   },
   "cell_type": "code",
   "source": [
    "if not lp or OVERWRITE:\n",
    "    lp = {}\n",
    "\n",
    "    for k, v in tqdm(BASE_CLASSIFIERS.items()):\n",
    "        model = LabelPowersetClassifier(\n",
    "            classifier=v,\n",
    "            label_map=label_map_lp,\n",
    "            random_state=RANDOM_STATE\n",
    "        )\n",
    "\n",
    "        lp[k] = model.fit(\n",
    "            x=X_train_lp,\n",
    "            y=y_train_lp\n",
    "        )\n",
    "\n",
    "    joblib.dump(lp, PATH_LP_SOFTWARE, compress=9)\n"
   ],
   "id": "838f03de34100d4b",
   "outputs": [
    {
     "name": "stderr",
     "output_type": "stream",
     "text": [
      "100%|██████████| 5/5 [00:08<00:00,  1.79s/it]\n"
     ]
    }
   ],
   "execution_count": 16
  },
  {
   "metadata": {},
   "cell_type": "markdown",
   "source": "#### 4.2.2. PSt (Pruned Sets)\n",
   "id": "36a35690f78685cb"
  },
  {
   "metadata": {
    "ExecuteTime": {
     "end_time": "2025-01-27T15:31:07.684954Z",
     "start_time": "2025-01-27T15:30:57.958317Z"
    }
   },
   "cell_type": "code",
   "source": [
    "if not pst or OVERWRITE:\n",
    "    pst = {}\n",
    "\n",
    "    for k, v in tqdm(BASE_CLASSIFIERS.items()):\n",
    "        model = LabelPowersetClassifier(\n",
    "            classifier=v,\n",
    "            label_map=label_map_pst,\n",
    "            random_state=RANDOM_STATE\n",
    "        )\n",
    "\n",
    "        pst[k] = model.fit(\n",
    "            x=X_train_pst,\n",
    "            y=y_train_pst\n",
    "        )\n",
    "\n",
    "    joblib.dump(pst, PATH_PST_SOFTWARE, compress=9)\n"
   ],
   "id": "df8604ee1c6ccc0c",
   "outputs": [
    {
     "name": "stderr",
     "output_type": "stream",
     "text": [
      "100%|██████████| 5/5 [00:08<00:00,  1.76s/it]\n"
     ]
    }
   ],
   "execution_count": 17
  },
  {
   "metadata": {},
   "cell_type": "markdown",
   "source": "### 4.3. Ensembles\n",
   "id": "664c1fa64743bda8"
  },
  {
   "metadata": {},
   "cell_type": "markdown",
   "source": "#### 4.3.1. CDN (Conditional Dependency Network)\n",
   "id": "834fb6fe571b907f"
  },
  {
   "metadata": {
    "ExecuteTime": {
     "end_time": "2025-01-27T15:31:16.179477Z",
     "start_time": "2025-01-27T15:31:07.752397Z"
    }
   },
   "cell_type": "code",
   "source": [
    "if not cdn or OVERWRITE:\n",
    "    cdn = {}\n",
    "\n",
    "    for k, v in tqdm(BASE_CLASSIFIERS.items()):\n",
    "        model = ConditionalDependencyNetwork(\n",
    "            classifier=v,\n",
    "            num_iterations=100,\n",
    "            burn_in=10\n",
    "        )\n",
    "\n",
    "        cdn[k] = model.fit(\n",
    "            x=X_train,\n",
    "            y=y_train\n",
    "        )\n",
    "\n",
    "    joblib.dump(cdn, PATH_CDN_SOFTWARE, compress=9)\n"
   ],
   "id": "b50723c7780a738f",
   "outputs": [
    {
     "name": "stderr",
     "output_type": "stream",
     "text": [
      "100%|██████████| 5/5 [00:07<00:00,  1.42s/it]\n"
     ]
    }
   ],
   "execution_count": 18
  },
  {
   "metadata": {},
   "cell_type": "markdown",
   "source": "#### 4.3.2. MBR (Meta-Binary Relevance)\n",
   "id": "53f16754ed03d5ad"
  },
  {
   "metadata": {
    "ExecuteTime": {
     "end_time": "2025-01-27T15:33:02.817700Z",
     "start_time": "2025-01-27T15:31:16.258160Z"
    }
   },
   "cell_type": "code",
   "source": [
    "if not mbr or OVERWRITE:\n",
    "    mbr = {}\n",
    "\n",
    "    for k, v in tqdm(BASE_CLASSIFIERS.items()):\n",
    "        model = MetaBinaryRelevance(\n",
    "            classifier=v,\n",
    "            use_cross_val=True,\n",
    "            n_splits=5\n",
    "        )\n",
    "\n",
    "        mbr[k] = model.fit(\n",
    "            x=X_train,\n",
    "            y=y_train\n",
    "        )\n",
    "\n",
    "    joblib.dump(mbr, PATH_MBR_SOFTWARE, compress=9)\n"
   ],
   "id": "241fe414f4eeffff",
   "outputs": [
    {
     "name": "stderr",
     "output_type": "stream",
     "text": [
      "100%|██████████| 5/5 [01:42<00:00, 20.59s/it]\n"
     ]
    }
   ],
   "execution_count": 19
  },
  {
   "metadata": {},
   "cell_type": "markdown",
   "source": [
    "## 5. Model Evaluation\n",
    "\n",
    "Now that we've trained the models, let's evaluate them in more detail.\n"
   ],
   "id": "6e50f10e93df31f9"
  },
  {
   "metadata": {
    "ExecuteTime": {
     "end_time": "2025-01-27T15:33:17.641031Z",
     "start_time": "2025-01-27T15:33:02.975232Z"
    }
   },
   "cell_type": "code",
   "source": [
    "evaluation = {\n",
    "    'BR': assess_models(\n",
    "        x=X_val,\n",
    "        y=y_val,\n",
    "        technique=br\n",
    "    ),\n",
    "    'CLR': assess_models(\n",
    "        x=X_val,\n",
    "        y=y_val,\n",
    "        technique=clr\n",
    "    ),\n",
    "    'CC': assess_models(\n",
    "        x=X_val,\n",
    "        y=y_val,\n",
    "        technique=cc\n",
    "    ),\n",
    "    'LP': assess_models(\n",
    "        x=X_val_lp,\n",
    "        y=np.array([list(label_map_lp[yp]) for yp in y_val_lp]),\n",
    "        technique=lp\n",
    "    ),\n",
    "    'PST': assess_models(\n",
    "        x=X_val_pst,\n",
    "        y=np.array([list(label_map_pst[yp]) for yp in y_val_pst]),\n",
    "        technique=pst\n",
    "    ),\n",
    "    'CDN': assess_models(\n",
    "        x=X_val,\n",
    "        y=y_val,\n",
    "        technique=cdn\n",
    "    ),\n",
    "    'MBR': assess_models(\n",
    "        x=X_val,\n",
    "        y=y_val,\n",
    "        technique=mbr\n",
    "    )\n",
    "}\n"
   ],
   "id": "4c0f3330656f697b",
   "outputs": [],
   "execution_count": 20
  },
  {
   "metadata": {
    "ExecuteTime": {
     "end_time": "2025-01-27T15:33:17.679521Z",
     "start_time": "2025-01-27T15:33:17.649516Z"
    }
   },
   "cell_type": "code",
   "source": [
    "performances = pd.DataFrame(evaluation).T\n",
    "performances\n"
   ],
   "id": "450b7af68d19a9b5",
   "outputs": [
    {
     "data": {
      "text/plain": [
       "     Accuracy           Classifier  \\\n",
       "BR   0.886441        random_forest   \n",
       "CLR  0.898305        random_forest   \n",
       "CC   0.901695        random_forest   \n",
       "LP   0.901861  logistic_regression   \n",
       "PST  0.901861  logistic_regression   \n",
       "CDN  0.832203  logistic_regression   \n",
       "MBR  0.901695                  xgb   \n",
       "\n",
       "                                                 Model  \\\n",
       "BR   OneVsRestClassifier(estimator=RandomForestClas...   \n",
       "CLR  CalibratedLabelRankClassifier(classes=array(['...   \n",
       "CC   ChainOfClassifiers(classes=array(['databases',...   \n",
       "LP   LabelPowersetClassifier(classifier=LogisticReg...   \n",
       "PST  LabelPowersetClassifier(classifier=LogisticReg...   \n",
       "CDN  ConditionalDependencyNetwork(classifier=Logist...   \n",
       "MBR  MetaBinaryRelevance(classifier=XGBClassifier(b...   \n",
       "\n",
       "    Precision example-based Recall example-based F1 example-based  \\\n",
       "BR                 0.886441             0.886441         0.886441   \n",
       "CLR                0.898305             0.898305         0.898305   \n",
       "CC                 0.901695             0.901695         0.901695   \n",
       "LP                 0.901861             0.901861         0.901861   \n",
       "PST                0.901861             0.901861         0.901861   \n",
       "CDN                0.833051             0.833898         0.833333   \n",
       "MBR                0.901695             0.901695         0.901695   \n",
       "\n",
       "    Hamming loss Micro precision Micro recall  Micro F1 Macro precision  \\\n",
       "BR      0.111017        0.890971     0.886441    0.8887        0.899267   \n",
       "CLR     0.097458        0.905983     0.898305  0.902128        0.920446   \n",
       "CC      0.098305        0.901695     0.901695  0.901695        0.917422   \n",
       "LP      0.098139        0.901861     0.901861  0.901861        0.897185   \n",
       "PST     0.098139        0.901861     0.901861  0.901861        0.897185   \n",
       "CDN     0.164407        0.836735     0.833898  0.835314        0.829861   \n",
       "MBR     0.098305        0.901695     0.901695  0.901695        0.904115   \n",
       "\n",
       "    Macro recall  Macro F1  Coverage  \n",
       "BR      0.870893  0.881337  1.113559  \n",
       "CLR     0.880893  0.894921  1.101695  \n",
       "CC       0.88375  0.894508  1.098305  \n",
       "LP       0.90099  0.898909  1.098139  \n",
       "PST      0.90099  0.898909  1.098139  \n",
       "CDN     0.831845  0.830436  1.167797  \n",
       "MBR     0.891607  0.896679  1.098305  "
      ],
      "text/html": [
       "<div>\n",
       "<style scoped>\n",
       "    .dataframe tbody tr th:only-of-type {\n",
       "        vertical-align: middle;\n",
       "    }\n",
       "\n",
       "    .dataframe tbody tr th {\n",
       "        vertical-align: top;\n",
       "    }\n",
       "\n",
       "    .dataframe thead th {\n",
       "        text-align: right;\n",
       "    }\n",
       "</style>\n",
       "<table border=\"1\" class=\"dataframe\">\n",
       "  <thead>\n",
       "    <tr style=\"text-align: right;\">\n",
       "      <th></th>\n",
       "      <th>Accuracy</th>\n",
       "      <th>Classifier</th>\n",
       "      <th>Model</th>\n",
       "      <th>Precision example-based</th>\n",
       "      <th>Recall example-based</th>\n",
       "      <th>F1 example-based</th>\n",
       "      <th>Hamming loss</th>\n",
       "      <th>Micro precision</th>\n",
       "      <th>Micro recall</th>\n",
       "      <th>Micro F1</th>\n",
       "      <th>Macro precision</th>\n",
       "      <th>Macro recall</th>\n",
       "      <th>Macro F1</th>\n",
       "      <th>Coverage</th>\n",
       "    </tr>\n",
       "  </thead>\n",
       "  <tbody>\n",
       "    <tr>\n",
       "      <th>BR</th>\n",
       "      <td>0.886441</td>\n",
       "      <td>random_forest</td>\n",
       "      <td>OneVsRestClassifier(estimator=RandomForestClas...</td>\n",
       "      <td>0.886441</td>\n",
       "      <td>0.886441</td>\n",
       "      <td>0.886441</td>\n",
       "      <td>0.111017</td>\n",
       "      <td>0.890971</td>\n",
       "      <td>0.886441</td>\n",
       "      <td>0.8887</td>\n",
       "      <td>0.899267</td>\n",
       "      <td>0.870893</td>\n",
       "      <td>0.881337</td>\n",
       "      <td>1.113559</td>\n",
       "    </tr>\n",
       "    <tr>\n",
       "      <th>CLR</th>\n",
       "      <td>0.898305</td>\n",
       "      <td>random_forest</td>\n",
       "      <td>CalibratedLabelRankClassifier(classes=array(['...</td>\n",
       "      <td>0.898305</td>\n",
       "      <td>0.898305</td>\n",
       "      <td>0.898305</td>\n",
       "      <td>0.097458</td>\n",
       "      <td>0.905983</td>\n",
       "      <td>0.898305</td>\n",
       "      <td>0.902128</td>\n",
       "      <td>0.920446</td>\n",
       "      <td>0.880893</td>\n",
       "      <td>0.894921</td>\n",
       "      <td>1.101695</td>\n",
       "    </tr>\n",
       "    <tr>\n",
       "      <th>CC</th>\n",
       "      <td>0.901695</td>\n",
       "      <td>random_forest</td>\n",
       "      <td>ChainOfClassifiers(classes=array(['databases',...</td>\n",
       "      <td>0.901695</td>\n",
       "      <td>0.901695</td>\n",
       "      <td>0.901695</td>\n",
       "      <td>0.098305</td>\n",
       "      <td>0.901695</td>\n",
       "      <td>0.901695</td>\n",
       "      <td>0.901695</td>\n",
       "      <td>0.917422</td>\n",
       "      <td>0.88375</td>\n",
       "      <td>0.894508</td>\n",
       "      <td>1.098305</td>\n",
       "    </tr>\n",
       "    <tr>\n",
       "      <th>LP</th>\n",
       "      <td>0.901861</td>\n",
       "      <td>logistic_regression</td>\n",
       "      <td>LabelPowersetClassifier(classifier=LogisticReg...</td>\n",
       "      <td>0.901861</td>\n",
       "      <td>0.901861</td>\n",
       "      <td>0.901861</td>\n",
       "      <td>0.098139</td>\n",
       "      <td>0.901861</td>\n",
       "      <td>0.901861</td>\n",
       "      <td>0.901861</td>\n",
       "      <td>0.897185</td>\n",
       "      <td>0.90099</td>\n",
       "      <td>0.898909</td>\n",
       "      <td>1.098139</td>\n",
       "    </tr>\n",
       "    <tr>\n",
       "      <th>PST</th>\n",
       "      <td>0.901861</td>\n",
       "      <td>logistic_regression</td>\n",
       "      <td>LabelPowersetClassifier(classifier=LogisticReg...</td>\n",
       "      <td>0.901861</td>\n",
       "      <td>0.901861</td>\n",
       "      <td>0.901861</td>\n",
       "      <td>0.098139</td>\n",
       "      <td>0.901861</td>\n",
       "      <td>0.901861</td>\n",
       "      <td>0.901861</td>\n",
       "      <td>0.897185</td>\n",
       "      <td>0.90099</td>\n",
       "      <td>0.898909</td>\n",
       "      <td>1.098139</td>\n",
       "    </tr>\n",
       "    <tr>\n",
       "      <th>CDN</th>\n",
       "      <td>0.832203</td>\n",
       "      <td>logistic_regression</td>\n",
       "      <td>ConditionalDependencyNetwork(classifier=Logist...</td>\n",
       "      <td>0.833051</td>\n",
       "      <td>0.833898</td>\n",
       "      <td>0.833333</td>\n",
       "      <td>0.164407</td>\n",
       "      <td>0.836735</td>\n",
       "      <td>0.833898</td>\n",
       "      <td>0.835314</td>\n",
       "      <td>0.829861</td>\n",
       "      <td>0.831845</td>\n",
       "      <td>0.830436</td>\n",
       "      <td>1.167797</td>\n",
       "    </tr>\n",
       "    <tr>\n",
       "      <th>MBR</th>\n",
       "      <td>0.901695</td>\n",
       "      <td>xgb</td>\n",
       "      <td>MetaBinaryRelevance(classifier=XGBClassifier(b...</td>\n",
       "      <td>0.901695</td>\n",
       "      <td>0.901695</td>\n",
       "      <td>0.901695</td>\n",
       "      <td>0.098305</td>\n",
       "      <td>0.901695</td>\n",
       "      <td>0.901695</td>\n",
       "      <td>0.901695</td>\n",
       "      <td>0.904115</td>\n",
       "      <td>0.891607</td>\n",
       "      <td>0.896679</td>\n",
       "      <td>1.098305</td>\n",
       "    </tr>\n",
       "  </tbody>\n",
       "</table>\n",
       "</div>"
      ]
     },
     "execution_count": 21,
     "metadata": {},
     "output_type": "execute_result"
    }
   ],
   "execution_count": 21
  },
  {
   "metadata": {
    "ExecuteTime": {
     "end_time": "2025-01-27T15:34:07.126744Z",
     "start_time": "2025-01-27T15:34:07.107782Z"
    }
   },
   "cell_type": "code",
   "source": [
    "z = evaluation['LP']['Model'].predict(X_val_lp)\n",
    "\n",
    "print(classification_report(\n",
    "    y_true=np.array([list(label_map_lp[yp]) for yp in y_val_lp]),\n",
    "    y_pred=z,\n",
    "    target_names=mlb.classes_,\n",
    "    zero_division=0\n",
    "))\n"
   ],
   "id": "411837f42eb96c63",
   "outputs": [
    {
     "name": "stdout",
     "output_type": "stream",
     "text": [
      "              precision    recall  f1-score   support\n",
      "\n",
      "   databases       0.87      0.90      0.88       241\n",
      "       other       0.93      0.91      0.92       350\n",
      "\n",
      "   micro avg       0.90      0.90      0.90       591\n",
      "   macro avg       0.90      0.90      0.90       591\n",
      "weighted avg       0.90      0.90      0.90       591\n",
      " samples avg       0.90      0.90      0.90       591\n",
      "\n"
     ]
    }
   ],
   "execution_count": 23
  }
 ],
 "metadata": {
  "kaggle": {
   "accelerator": "none",
   "dataSources": [
    {
     "datasetId": 870709,
     "sourceId": 1483651,
     "sourceType": "datasetVersion"
    },
    {
     "datasetId": 4678553,
     "sourceId": 7954760,
     "sourceType": "datasetVersion"
    }
   ],
   "dockerImageVersionId": 30804,
   "isGpuEnabled": false,
   "isInternetEnabled": true,
   "language": "python",
   "sourceType": "notebook"
  },
  "kernelspec": {
   "display_name": "Python 3",
   "language": "python",
   "name": "python3"
  },
  "language_info": {
   "codemirror_mode": {
    "name": "ipython",
    "version": 3
   },
   "file_extension": ".py",
   "mimetype": "text/x-python",
   "name": "python",
   "nbconvert_exporter": "python",
   "pygments_lexer": "ipython3",
   "version": "3.10.14"
  },
  "papermill": {
   "default_parameters": {},
   "duration": 5394.913296,
   "end_time": "2024-12-12T17:56:06.436689",
   "environment_variables": {},
   "exception": null,
   "input_path": "__notebook__.ipynb",
   "output_path": "__notebook__.ipynb",
   "parameters": {},
   "start_time": "2024-12-12T16:26:11.523393",
   "version": "2.6.0"
  }
 },
 "nbformat": 4,
 "nbformat_minor": 5
}
