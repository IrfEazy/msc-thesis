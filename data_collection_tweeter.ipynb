{
 "cells": [
  {
   "cell_type": "code",
   "id": "a7eaf1a0d489ee72",
   "metadata": {
    "ExecuteTime": {
     "end_time": "2024-11-12T20:25:54.809792Z",
     "start_time": "2024-11-12T20:25:54.482869Z"
    }
   },
   "source": [
    "import glob\n",
    "\n",
    "import numpy as np\n",
    "import pandas as pd\n",
    "from pandas.errors import EmptyDataError\n"
   ],
   "outputs": [],
   "execution_count": 1
  },
  {
   "metadata": {},
   "cell_type": "markdown",
   "source": "> Import 3481 JSON files",
   "id": "f0a37ee82aad691e"
  },
  {
   "metadata": {
    "collapsed": true,
    "ExecuteTime": {
     "end_time": "2024-11-12T20:25:54.840434Z",
     "start_time": "2024-11-12T20:25:54.818725Z"
    }
   },
   "cell_type": "code",
   "source": [
    "csv_paths = glob.glob(pathname='data/2023 TWITTER REDDIT/*/*/TWITTER/*.csv')\n",
    "path_tweeter = 'data/tweeter.npy'\n",
    "print(f'Import {len(csv_paths)} CSV files...')\n"
   ],
   "id": "initial_id",
   "outputs": [
    {
     "name": "stdout",
     "output_type": "stream",
     "text": [
      "Import 3481 CSV files...\n"
     ]
    }
   ],
   "execution_count": 2
  },
  {
   "metadata": {
    "ExecuteTime": {
     "end_time": "2024-11-12T20:26:01.514612Z",
     "start_time": "2024-11-12T20:25:55.163857Z"
    }
   },
   "cell_type": "code",
   "source": [
    "dataframes = []\n",
    "\n",
    "for path in csv_paths:\n",
    "    try:\n",
    "        dataframes.append(pd.read_csv(path))\n",
    "    except EmptyDataError as e:\n",
    "        continue\n",
    "\n",
    "data = pd.concat(dataframes, ignore_index=True)\n"
   ],
   "id": "d19b2ed763be5d6e",
   "outputs": [],
   "execution_count": 3
  },
  {
   "metadata": {
    "ExecuteTime": {
     "end_time": "2024-11-12T20:26:01.543869Z",
     "start_time": "2024-11-12T20:26:01.528222Z"
    }
   },
   "cell_type": "code",
   "source": "data\n",
   "id": "3c780850cb4df4c0",
   "outputs": [
    {
     "data": {
      "text/plain": [
       "             username                                           name  \\\n",
       "0            thegrugq  thaddeus e. grugq 🌻 thegrugq@infosec.exchange   \n",
       "1            thegrugq  thaddeus e. grugq 🌻 thegrugq@infosec.exchange   \n",
       "2            thegrugq  thaddeus e. grugq 🌻 thegrugq@infosec.exchange   \n",
       "3            thegrugq  thaddeus e. grugq 🌻 thegrugq@infosec.exchange   \n",
       "4            thegrugq  thaddeus e. grugq 🌻 thegrugq@infosec.exchange   \n",
       "...               ...                                            ...   \n",
       "49112  anton_chuvakin                             Dr. Anton Chuvakin   \n",
       "49113  anton_chuvakin                             Dr. Anton Chuvakin   \n",
       "49114  PatrickCMiller                Patrick C Miller is on Mastodon   \n",
       "49115  PatrickCMiller                Patrick C Miller is on Mastodon   \n",
       "49116    peterwsinger                                Peter W. Singer   \n",
       "\n",
       "                      date                                               text  \\\n",
       "0      2023-01-15 10:01:12  RT @Alh4zr3d: Red Teamers: can't tell you how ...   \n",
       "1      2023-01-15 09:57:23  RT @HackingLZ: @BushidoToken @MikaelThalen I w...   \n",
       "2      2023-01-15 09:55:45  RT @AdamSculthorpe: Oops, a Cellebrite and MSA...   \n",
       "3      2023-01-15 09:55:39  RT @HITBSecConf: Just over 2 weeks left before...   \n",
       "4      2023-01-15 09:55:04  RT @xaitax: 𝗢𝗳𝗳𝗹𝗶𝗻𝗲 𝗖𝗜𝗦𝗔 𝗞𝗻𝗼𝘄𝗻 𝗘𝘅𝗽𝗹𝗼𝗶𝘁𝗲𝗱 𝗩𝘂𝗹𝗻𝗲...   \n",
       "...                    ...                                                ...   \n",
       "49112  2023-02-09 03:48:03  @keydet89 TBH, I am developing an impression t...   \n",
       "49113  2023-02-09 03:33:56  @TheJournalizer No relation, not even friends :-)   \n",
       "49114  2023-02-09 04:15:00  Women in CyberSecurity Calls for Participants ...   \n",
       "49115  2023-02-09 03:45:00  Global ransomware spree infects unpatched VMWa...   \n",
       "49116  2023-02-09 04:01:46  RT @DefenseOne: IDEAS: China Gears Up To Shoot...   \n",
       "\n",
       "                                                    json  \n",
       "0      {'created_at': 'Sun Jan 15 10:01:12 +0000 2023...  \n",
       "1      {'created_at': 'Sun Jan 15 09:57:23 +0000 2023...  \n",
       "2      {'created_at': 'Sun Jan 15 09:55:45 +0000 2023...  \n",
       "3      {'created_at': 'Sun Jan 15 09:55:39 +0000 2023...  \n",
       "4      {'created_at': 'Sun Jan 15 09:55:04 +0000 2023...  \n",
       "...                                                  ...  \n",
       "49112  {'created_at': 'Thu Feb 09 03:48:03 +0000 2023...  \n",
       "49113  {'created_at': 'Thu Feb 09 03:33:56 +0000 2023...  \n",
       "49114  {'created_at': 'Thu Feb 09 04:15:00 +0000 2023...  \n",
       "49115  {'created_at': 'Thu Feb 09 03:45:00 +0000 2023...  \n",
       "49116  {'created_at': 'Thu Feb 09 04:01:46 +0000 2023...  \n",
       "\n",
       "[49117 rows x 5 columns]"
      ],
      "text/html": [
       "<div>\n",
       "<style scoped>\n",
       "    .dataframe tbody tr th:only-of-type {\n",
       "        vertical-align: middle;\n",
       "    }\n",
       "\n",
       "    .dataframe tbody tr th {\n",
       "        vertical-align: top;\n",
       "    }\n",
       "\n",
       "    .dataframe thead th {\n",
       "        text-align: right;\n",
       "    }\n",
       "</style>\n",
       "<table border=\"1\" class=\"dataframe\">\n",
       "  <thead>\n",
       "    <tr style=\"text-align: right;\">\n",
       "      <th></th>\n",
       "      <th>username</th>\n",
       "      <th>name</th>\n",
       "      <th>date</th>\n",
       "      <th>text</th>\n",
       "      <th>json</th>\n",
       "    </tr>\n",
       "  </thead>\n",
       "  <tbody>\n",
       "    <tr>\n",
       "      <th>0</th>\n",
       "      <td>thegrugq</td>\n",
       "      <td>thaddeus e. grugq 🌻 thegrugq@infosec.exchange</td>\n",
       "      <td>2023-01-15 10:01:12</td>\n",
       "      <td>RT @Alh4zr3d: Red Teamers: can't tell you how ...</td>\n",
       "      <td>{'created_at': 'Sun Jan 15 10:01:12 +0000 2023...</td>\n",
       "    </tr>\n",
       "    <tr>\n",
       "      <th>1</th>\n",
       "      <td>thegrugq</td>\n",
       "      <td>thaddeus e. grugq 🌻 thegrugq@infosec.exchange</td>\n",
       "      <td>2023-01-15 09:57:23</td>\n",
       "      <td>RT @HackingLZ: @BushidoToken @MikaelThalen I w...</td>\n",
       "      <td>{'created_at': 'Sun Jan 15 09:57:23 +0000 2023...</td>\n",
       "    </tr>\n",
       "    <tr>\n",
       "      <th>2</th>\n",
       "      <td>thegrugq</td>\n",
       "      <td>thaddeus e. grugq 🌻 thegrugq@infosec.exchange</td>\n",
       "      <td>2023-01-15 09:55:45</td>\n",
       "      <td>RT @AdamSculthorpe: Oops, a Cellebrite and MSA...</td>\n",
       "      <td>{'created_at': 'Sun Jan 15 09:55:45 +0000 2023...</td>\n",
       "    </tr>\n",
       "    <tr>\n",
       "      <th>3</th>\n",
       "      <td>thegrugq</td>\n",
       "      <td>thaddeus e. grugq 🌻 thegrugq@infosec.exchange</td>\n",
       "      <td>2023-01-15 09:55:39</td>\n",
       "      <td>RT @HITBSecConf: Just over 2 weeks left before...</td>\n",
       "      <td>{'created_at': 'Sun Jan 15 09:55:39 +0000 2023...</td>\n",
       "    </tr>\n",
       "    <tr>\n",
       "      <th>4</th>\n",
       "      <td>thegrugq</td>\n",
       "      <td>thaddeus e. grugq 🌻 thegrugq@infosec.exchange</td>\n",
       "      <td>2023-01-15 09:55:04</td>\n",
       "      <td>RT @xaitax: 𝗢𝗳𝗳𝗹𝗶𝗻𝗲 𝗖𝗜𝗦𝗔 𝗞𝗻𝗼𝘄𝗻 𝗘𝘅𝗽𝗹𝗼𝗶𝘁𝗲𝗱 𝗩𝘂𝗹𝗻𝗲...</td>\n",
       "      <td>{'created_at': 'Sun Jan 15 09:55:04 +0000 2023...</td>\n",
       "    </tr>\n",
       "    <tr>\n",
       "      <th>...</th>\n",
       "      <td>...</td>\n",
       "      <td>...</td>\n",
       "      <td>...</td>\n",
       "      <td>...</td>\n",
       "      <td>...</td>\n",
       "    </tr>\n",
       "    <tr>\n",
       "      <th>49112</th>\n",
       "      <td>anton_chuvakin</td>\n",
       "      <td>Dr. Anton Chuvakin</td>\n",
       "      <td>2023-02-09 03:48:03</td>\n",
       "      <td>@keydet89 TBH, I am developing an impression t...</td>\n",
       "      <td>{'created_at': 'Thu Feb 09 03:48:03 +0000 2023...</td>\n",
       "    </tr>\n",
       "    <tr>\n",
       "      <th>49113</th>\n",
       "      <td>anton_chuvakin</td>\n",
       "      <td>Dr. Anton Chuvakin</td>\n",
       "      <td>2023-02-09 03:33:56</td>\n",
       "      <td>@TheJournalizer No relation, not even friends :-)</td>\n",
       "      <td>{'created_at': 'Thu Feb 09 03:33:56 +0000 2023...</td>\n",
       "    </tr>\n",
       "    <tr>\n",
       "      <th>49114</th>\n",
       "      <td>PatrickCMiller</td>\n",
       "      <td>Patrick C Miller is on Mastodon</td>\n",
       "      <td>2023-02-09 04:15:00</td>\n",
       "      <td>Women in CyberSecurity Calls for Participants ...</td>\n",
       "      <td>{'created_at': 'Thu Feb 09 04:15:00 +0000 2023...</td>\n",
       "    </tr>\n",
       "    <tr>\n",
       "      <th>49115</th>\n",
       "      <td>PatrickCMiller</td>\n",
       "      <td>Patrick C Miller is on Mastodon</td>\n",
       "      <td>2023-02-09 03:45:00</td>\n",
       "      <td>Global ransomware spree infects unpatched VMWa...</td>\n",
       "      <td>{'created_at': 'Thu Feb 09 03:45:00 +0000 2023...</td>\n",
       "    </tr>\n",
       "    <tr>\n",
       "      <th>49116</th>\n",
       "      <td>peterwsinger</td>\n",
       "      <td>Peter W. Singer</td>\n",
       "      <td>2023-02-09 04:01:46</td>\n",
       "      <td>RT @DefenseOne: IDEAS: China Gears Up To Shoot...</td>\n",
       "      <td>{'created_at': 'Thu Feb 09 04:01:46 +0000 2023...</td>\n",
       "    </tr>\n",
       "  </tbody>\n",
       "</table>\n",
       "<p>49117 rows × 5 columns</p>\n",
       "</div>"
      ]
     },
     "execution_count": 4,
     "metadata": {},
     "output_type": "execute_result"
    }
   ],
   "execution_count": 4
  },
  {
   "metadata": {
    "ExecuteTime": {
     "end_time": "2024-11-12T20:26:01.641730Z",
     "start_time": "2024-11-12T20:26:01.636732Z"
    }
   },
   "cell_type": "code",
   "source": [
    "def clean_tweet(tweet: str) -> str:\n",
    "    \"\"\"\n",
    "    Cleans a tweet by removing retweet headers, mentions, and URLs.\n",
    "\n",
    "    :param tweet: The original tweet text as a string.\n",
    "    :return: The cleaned tweet text with retweet markers, mentions, and URLs removed.\n",
    "    \"\"\"\n",
    "    import re\n",
    "\n",
    "    tweet = re.sub(\n",
    "        pattern=r'^RT @\\w+: ',\n",
    "        repl='',\n",
    "        string=tweet\n",
    "    )\n",
    "\n",
    "    tweet = re.sub(\n",
    "        pattern=r'@(\\w+)',\n",
    "        repl=r'\\1',\n",
    "        string=tweet\n",
    "    )\n",
    "\n",
    "    tweet = re.sub(\n",
    "        pattern=r'https?://\\S+|www\\.\\S+',\n",
    "        repl='',\n",
    "        string=tweet\n",
    "    )\n",
    "\n",
    "    return tweet.strip()"
   ],
   "id": "6f586c1a113f020e",
   "outputs": [],
   "execution_count": 5
  },
  {
   "metadata": {
    "ExecuteTime": {
     "end_time": "2024-11-12T20:26:02.153861Z",
     "start_time": "2024-11-12T20:26:01.681019Z"
    }
   },
   "cell_type": "code",
   "source": "data = np.array([clean_tweet(tweet=tweet) for tweet in data['text']])\n",
   "id": "c217df8d111fd08b",
   "outputs": [],
   "execution_count": 6
  },
  {
   "metadata": {
    "ExecuteTime": {
     "end_time": "2024-11-12T20:26:02.220864Z",
     "start_time": "2024-11-12T20:26:02.218027Z"
    }
   },
   "cell_type": "code",
   "source": "#data['text'] = [nlp_pipeline(s=tweet) for tweet in data['text']]\n",
   "id": "2496636e53775c8a",
   "outputs": [],
   "execution_count": 7
  },
  {
   "metadata": {
    "ExecuteTime": {
     "end_time": "2024-11-12T20:26:02.337566Z",
     "start_time": "2024-11-12T20:26:02.231102Z"
    }
   },
   "cell_type": "code",
   "source": "data\n",
   "id": "e5b072a9a0461611",
   "outputs": [
    {
     "data": {
      "text/plain": [
       "array([\"Red Teamers: can't tell you how many times I've gotten wins just by plundering shares for sensitive files. Share drives can b…\",\n",
       "       'BushidoToken MikaelThalen I was going to come here and ask this but glad you did.  They offer normal mobile forensic tools…',\n",
       "       'Oops, a Cellebrite and MSAB leak happened\\n\\n- 1.7 TB+\\n- phone forensics software\\n- documentation\\n\\n#CyberSecurity #Infose…',\n",
       "       ...,\n",
       "       'Women in CyberSecurity Calls for Participants for New Measuring Inclusion Workshops',\n",
       "       'Global ransomware spree infects unpatched VMWare servers. CISA has a fix.',\n",
       "       'IDEAS: China Gears Up To Shoot Down US Drones | by Daniel Shats and peterwsinger'],\n",
       "      dtype='<U141')"
      ]
     },
     "execution_count": 8,
     "metadata": {},
     "output_type": "execute_result"
    }
   ],
   "execution_count": 8
  },
  {
   "metadata": {
    "ExecuteTime": {
     "end_time": "2024-11-12T20:26:02.470096Z",
     "start_time": "2024-11-12T20:26:02.414423Z"
    }
   },
   "cell_type": "code",
   "source": [
    "#data.to_csv(path_or_buf=path_tweeter, index=False)\n",
    "np.save(file=path_tweeter, arr=data)\n"
   ],
   "id": "95851c501943bc4f",
   "outputs": [],
   "execution_count": 9
  },
  {
   "metadata": {},
   "cell_type": "code",
   "outputs": [],
   "execution_count": null,
   "source": "",
   "id": "b424fd2fa73f259f"
  }
 ],
 "metadata": {
  "kernelspec": {
   "display_name": "Python 3",
   "language": "python",
   "name": "python3"
  },
  "language_info": {
   "codemirror_mode": {
    "name": "ipython",
    "version": 2
   },
   "file_extension": ".py",
   "mimetype": "text/x-python",
   "name": "python",
   "nbconvert_exporter": "python",
   "pygments_lexer": "ipython2",
   "version": "2.7.6"
  }
 },
 "nbformat": 4,
 "nbformat_minor": 5
}
