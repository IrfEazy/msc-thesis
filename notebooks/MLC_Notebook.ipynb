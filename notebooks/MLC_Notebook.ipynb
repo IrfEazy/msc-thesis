{
 "cells": [
  {
   "cell_type": "markdown",
   "id": "98f096dec80e0ebe",
   "metadata": {},
   "source": [
    "# Multi-Label Classification"
   ]
  },
  {
   "cell_type": "markdown",
   "id": "dc483734a09f5d7",
   "metadata": {},
   "source": [
    "## Imports"
   ]
  },
  {
   "cell_type": "code",
   "execution_count": 1,
   "id": "b428eeb33ff81277",
   "metadata": {
    "ExecuteTime": {
     "end_time": "2025-04-02T15:07:43.411222Z",
     "start_time": "2025-04-02T15:07:42.046268Z"
    },
    "execution": {
     "iopub.execute_input": "2024-12-12T16:26:14.569199Z",
     "iopub.status.busy": "2024-12-12T16:26:14.568776Z",
     "iopub.status.idle": "2024-12-12T16:26:17.993533Z",
     "shell.execute_reply": "2024-12-12T16:26:17.992503Z"
    },
    "papermill": {
     "duration": 3.435545,
     "end_time": "2024-12-12T16:26:17.996431",
     "exception": false,
     "start_time": "2024-12-12T16:26:14.560886",
     "status": "completed"
    },
    "tags": []
   },
   "outputs": [],
   "source": [
    "import ast\n",
    "import os\n",
    "import pickle\n",
    "import random\n",
    "\n",
    "import numpy as np\n",
    "import pandas as pd\n",
    "from copy import copy\n",
    "from dotenv import load_dotenv\n",
    "from numpy.typing import ArrayLike\n",
    "from sklearn import preprocessing\n",
    "from sklearn.base import BaseEstimator, ClassifierMixin\n",
    "from sklearn.ensemble import RandomForestClassifier\n",
    "from sklearn.linear_model import LogisticRegression\n",
    "from sklearn.metrics import (\n",
    "    classification_report,\n",
    "    hamming_loss,\n",
    "    roc_auc_score,\n",
    ")\n",
    "from sklearn.model_selection import train_test_split\n",
    "from sklearn.naive_bayes import GaussianNB\n",
    "from sklearn.tree import DecisionTreeClassifier\n",
    "from tqdm.contrib.itertools import product\n",
    "from tqdm.notebook import tqdm\n",
    "from typing import Dict, Union"
   ]
  },
  {
   "cell_type": "code",
   "execution_count": 2,
   "id": "7d0ade99",
   "metadata": {},
   "outputs": [],
   "source": [
    "load_dotenv()\n",
    "\n",
    "RANDOM_STATE = int(os.getenv(\"RANDOM_STATE\", \"42\"))\n",
    "TEST_SIZE = float(os.getenv(\"TEST_SIZE\", \"0.2\"))\n",
    "\n",
    "os.chdir(os.getenv(\"ROOT\", \"./\"))\n",
    "np.random.seed(seed=RANDOM_STATE)\n",
    "random.seed(a=RANDOM_STATE)"
   ]
  },
  {
   "cell_type": "code",
   "execution_count": 3,
   "id": "ee1ae10d",
   "metadata": {},
   "outputs": [
    {
     "name": "stderr",
     "output_type": "stream",
     "text": [
      "[nltk_data] Downloading package stopwords to /home/cela/nltk_data...\n",
      "[nltk_data]   Package stopwords is already up-to-date!\n",
      "[nltk_data] Downloading package wordnet to /home/cela/nltk_data...\n",
      "[nltk_data]   Package wordnet is already up-to-date!\n"
     ]
    }
   ],
   "source": [
    "import MLC\n",
    "import notebooks.utils as su"
   ]
  },
  {
   "cell_type": "code",
   "execution_count": 19,
   "id": "c146dd300f8cb589",
   "metadata": {
    "ExecuteTime": {
     "end_time": "2025-04-02T15:07:46.382010Z",
     "start_time": "2025-04-02T15:07:46.376182Z"
    }
   },
   "outputs": [],
   "source": [
    "class ModuleSystem(BaseEstimator, ClassifierMixin):\n",
    "    def __init__(self, models: Dict[str, Dict[str, Union[str, float, BaseEstimator]]], mlb: preprocessing.MultiLabelBinarizer):\n",
    "        self.models = models\n",
    "        self.mlb = mlb\n",
    "        self.classes = mlb.classes_\n",
    "\n",
    "    def predict(self, X_test: ArrayLike) -> ArrayLike:\n",
    "        \"\"\"\n",
    "        Predict labels for each component using the chosen model in the dictionary.\n",
    "\n",
    "        Parameters\n",
    "        ----------\n",
    "        X_test : ArrayLike\n",
    "            Test data.\n",
    "\n",
    "        Returns\n",
    "        -------\n",
    "        Y_pred : ArrayLike\n",
    "            Predicted labels for each component.\n",
    "        \"\"\"\n",
    "        n_samples = X_test.shape[0]\n",
    "        n_components = len(self.models)\n",
    "        Y_pred = np.zeros((n_samples, n_components))\n",
    "\n",
    "        for idx, model_info in self.models.items():\n",
    "            model = model_info[\"model\"]\n",
    "            Y_pred[:, int(idx)] = (model.predict(X_test))[:, int(idx)]\n",
    "\n",
    "        return Y_pred\n",
    "\n",
    "\n",
    "class System(BaseEstimator, ClassifierMixin):\n",
    "    def __init__(self, gn: ModuleSystem, cs: ModuleSystem, os: ModuleSystem, sw: ModuleSystem, hw: ModuleSystem):\n",
    "        self.gn = gn\n",
    "        self.cs = cs\n",
    "        self.os = os\n",
    "        self.sw = sw\n",
    "        self.hw = hw\n",
    "\n",
    "    def predict(self, texts: pd.Series) -> ArrayLike:\n",
    "        gn_dim = len(self.gn.classes) # 6\n",
    "        cs_dim = len(self.cs.classes) - 1 # 2\n",
    "        os_dim = len(self.os.classes) - 1 # 4\n",
    "        sw_dim = len(self.sw.classes) - 1 # 1\n",
    "        hw_dim = len(self.hw.classes) - 1 # 3\n",
    "        Y_cols = gn_dim + cs_dim + os_dim + sw_dim + hw_dim # 16\n",
    "        Y = np.zeros((texts.shape[0], Y_cols)) # N x 16\n",
    "\n",
    "        X_GLOVE_200D = su.preprocess_texts(\n",
    "            list_str=texts,\n",
    "            model_path=os.getenv(\"GLOVE_6B_200D_PATH\"),\n",
    "            embedding_dim=200,\n",
    "        ) # N x 200\n",
    "        X_DISTILROBERTA = su.preprocess_texts(\n",
    "            list_str=texts,\n",
    "            model_path=os.getenv(\"DISTILROBERTA_PATH\"),\n",
    "            embedding_dim=None,\n",
    "        )\n",
    "        X_SBERT = su.preprocess_texts(\n",
    "            list_str=texts,\n",
    "            model_path=os.getenv(\"SBERT_PATH\"),\n",
    "            embedding_dim=None,\n",
    "        )\n",
    "        X_ATTACK_BERT = su.preprocess_texts(\n",
    "            list_str=texts,\n",
    "            model_path=os.getenv(\"ATTACK_BERT_PATH\"),\n",
    "            embedding_dim=None,\n",
    "        )\n",
    "        \n",
    "        y_gn = self.gn.predict(X_ATTACK_BERT) # N x 6\n",
    "        Y[:, :gn_dim] = y_gn # N x 16\n",
    "        \n",
    "        for idx, categories in enumerate(self.gn.mlb.inverse_transform(y_gn)):\n",
    "            if len(categories) == 0:\n",
    "                Y[idx, 4:5] = 1.0\n",
    "            else:\n",
    "                if \"other\" in categories:\n",
    "                    \n",
    "                    Y[idx, :] = np.zeros((1, Y_cols))\n",
    "                    Y[idx, 4:5] = 1.0\n",
    "                else:\n",
    "                    if \"computer security\" in categories and \"other\" not in categories:\n",
    "                        y_cs = self.cs.predict(X_DISTILROBERTA[idx : idx + 1])\n",
    "                        Y[idx, gn_dim : gn_dim + cs_dim] = y_cs[:, :cs_dim]\n",
    "                    \n",
    "                    if \"operating systems\" in categories and \"other\" not in categories:\n",
    "                        y_os = self.os.predict(X_ATTACK_BERT[idx : idx + 1])\n",
    "                        Y[idx, gn_dim + cs_dim : gn_dim + cs_dim + os_dim] = np.hstack((y_os[:, :2], y_os[:, 3:]))\n",
    "                    \n",
    "                    if \"software\" in categories and \"other\" not in categories:\n",
    "                        y_sw = self.sw.predict(X_GLOVE_200D[idx : idx + 1])\n",
    "                        Y[idx, gn_dim + cs_dim + os_dim : gn_dim + cs_dim + os_dim + sw_dim] = y_sw[:, :sw_dim]\n",
    "                    \n",
    "                    if \"hardware\" in categories and \"other\" not in categories:\n",
    "                        y_hw = self.hw.predict(X_SBERT[idx : idx + 1])\n",
    "                        Y[idx, gn_dim + cs_dim + os_dim + sw_dim :] = y_hw[:, :hw_dim]\n",
    "        \n",
    "        return Y\n",
    "\n",
    "    def predict_targets(self, texts: pd.Series) -> pd.Series:\n",
    "        Y = self.predict(texts) # N x 16\n",
    "        gn_dim = len(self.gn.classes) # 6\n",
    "        cs_dim = len(self.cs.classes) - 1 # 2\n",
    "        os_dim = len(self.os.classes) - 1 # 4\n",
    "        sw_dim = len(self.sw.classes) - 1 # 1\n",
    "\n",
    "        y_gn = Y[:, :gn_dim]\n",
    "        y_cs = Y[:, gn_dim : gn_dim + cs_dim]\n",
    "        y_os = Y[:, gn_dim + cs_dim : gn_dim + cs_dim + os_dim]\n",
    "        y_sw = Y[:, gn_dim + cs_dim + os_dim : gn_dim + cs_dim + os_dim + sw_dim]\n",
    "        y_hw = Y[:, gn_dim + cs_dim + os_dim + sw_dim :]\n",
    "\n",
    "        gn_ctg = self.gn.mlb.inverse_transform(y_gn)\n",
    "        cs_ctg = self.cs.mlb.inverse_transform(np.column_stack((y_cs, np.zeros((Y.shape[0], 1)))))\n",
    "        os_ctg = self.os.mlb.inverse_transform(np.column_stack((y_os[:, :2], np.zeros((Y.shape[0], 1)), y_os[:, 2:])))\n",
    "        sw_ctg = self.sw.mlb.inverse_transform(np.column_stack((y_sw, np.zeros((Y.shape[0], 1)))))\n",
    "        hw_ctg = self.hw.mlb.inverse_transform(np.column_stack((y_hw, np.zeros((Y.shape[0], 1)))))\n",
    "        \n",
    "        return pd.Series(\n",
    "            data=[\n",
    "                list(set(gni + csi + osi + swi + hwi))\n",
    "                for gni, csi, osi, swi, hwi in zip(gn_ctg, cs_ctg, os_ctg, sw_ctg, hw_ctg)\n",
    "            ],\n",
    "            index=texts.index,\n",
    "        )\n",
    "\n",
    "    def evaluate(self, texts: pd.Series, targets: pd.Series) -> dict[str, float]:\n",
    "        gn_ctg = self.gn.mlb.transform([[target for target in targetsi if target in self.gn.classes] for targetsi in targets])\n",
    "        cs_ctg = self.cs.mlb.transform([[target for target in targetsi if target in self.cs.classes] for targetsi in targets])\n",
    "        os_ctg = self.os.mlb.transform([[target for target in targetsi if target in self.os.classes] for targetsi in targets])\n",
    "        sw_ctg = self.sw.mlb.transform([[target for target in targetsi if target in self.sw.classes] for targetsi in targets])\n",
    "        hw_ctg = self.hw.mlb.transform([[target for target in targetsi if target in self.hw.classes] for targetsi in targets])\n",
    "        Y = np.hstack((gn_ctg, cs_ctg[:, :-1], os_ctg[:, :2], os_ctg[:, 3:], sw_ctg[:, :-1], hw_ctg[:, :-1]))\n",
    "        Y_pred = self.predict(texts)\n",
    "        \n",
    "        return su.assess(Y, Y_pred)\n",
    "\n",
    "    def evaluate_filter(self, texts: pd.Series, targets: pd.Series) -> dict[str, float]:\n",
    "        Y_test = pd.Series([1 if t else 0 for t in targets])\n",
    "        Y_pred = self.predict(texts)\n",
    "        \n",
    "        return su.assess(Y_test, Y_pred[:, 4:5])\n",
    "\n",
    "    def classes(self):\n",
    "        return (list(self.gn.classes) + list(self.cs.classes[:-1]) + list(self.os.classes[:2]) + list(self.os.classes[3:]) + list(self.sw.classes[:-1]) + list(self.hw.classes[:-1]))"
   ]
  },
  {
   "cell_type": "markdown",
   "id": "99d5754c059e2b92",
   "metadata": {},
   "source": [
    "## Model Training"
   ]
  },
  {
   "cell_type": "code",
   "execution_count": 5,
   "id": "1be69a703b4e8515",
   "metadata": {
    "ExecuteTime": {
     "end_time": "2025-04-02T15:07:47.262292Z",
     "start_time": "2025-04-02T15:07:47.249024Z"
    }
   },
   "outputs": [],
   "source": [
    "CLASSIFICATION_METHODS = {\n",
    "    \"br\": MLC.BRClassifier,\n",
    "    \"clr\": MLC.CLRClassifier,\n",
    "    \"cc\": MLC.CCClassifier,\n",
    "    \"lp\": MLC.LPClassifier,\n",
    "    \"pst\": MLC.PStClassifier,\n",
    "    \"mbr\": MLC.MBRClassifier,\n",
    "    \"rakel\": MLC.RAkELClassifier,\n",
    "    \"homer\": MLC.HOMERClassifier,\n",
    "}\n",
    "\n",
    "CLASSIFICATION_ALGORITHM = {\n",
    "    \"lr\": LogisticRegression(solver=\"liblinear\", max_iter=10000, random_state=RANDOM_STATE),\n",
    "    \"gnb\": GaussianNB(),\n",
    "    \"dt\": DecisionTreeClassifier(random_state=RANDOM_STATE),\n",
    "    \"rf\": RandomForestClassifier(random_state=RANDOM_STATE),\n",
    "}\n",
    "\n",
    "EMBEDDING_SOURCES = [\n",
    "    {\"name\": \"GloVe.6B.50D\", \"model-path\": os.getenv(\"GLOVE_6B_50D_PATH\"), \"embedding-dim\": 50},\n",
    "    {\"name\": \"GloVe.6B.100D\", \"model-path\": os.getenv(\"GLOVE_6B_100D_PATH\"), \"embedding-dim\": 100},\n",
    "    {\"name\": \"GloVe.6B.200D\", \"model-path\": os.getenv(\"GLOVE_6B_200D_PATH\"), \"embedding-dim\": 200},\n",
    "    {\"name\": \"GloVe.6B.300D\", \"model-path\": os.getenv(\"GLOVE_6B_300D_PATH\"), \"embedding-dim\": 300},\n",
    "    {\"name\": \"DistilRoBERTa\", \"model-path\": os.getenv(\"DISTILROBERTA_PATH\"), \"embedding-dim\": None},\n",
    "    {\"name\": \"SBERT\", \"model-path\": os.getenv(\"SBERT_PATH\"), \"embedding-dim\": None},\n",
    "    {\"name\": \"ATT&CK-BERT\", \"model-path\": os.getenv(\"ATTACK_BERT_PATH\"), \"embedding-dim\": None},\n",
    "]\n",
    "\n",
    "SYSTEM_MODULES = [\n",
    "    {\n",
    "        \"level\": \"general\",\n",
    "        \"targets\": {\n",
    "            \"computer security\": \"computer security\",\n",
    "            \"operating systems\": \"operating systems\",\n",
    "            \"software\": \"software\",\n",
    "            \"programming languages\": \"software\",\n",
    "            \"hardware\": \"hardware\",\n",
    "            \"electronic components\": \"hardware\",\n",
    "            \"networking\": \"networking\",\n",
    "            \"internet technology\": \"networking\",\n",
    "        },\n",
    "    },\n",
    "    {\n",
    "        \"level\": \"computer security\",\n",
    "        \"targets\": {\n",
    "            \"network security\": \"network security\",\n",
    "            \"antivirus and malware\": \"antivirus and malware\",\n",
    "        },\n",
    "    },\n",
    "    {\n",
    "        \"level\": \"operating systems\",\n",
    "        \"targets\": {\n",
    "            \"mac os\": \"mac os\",\n",
    "            \"windows\": \"windows\",\n",
    "            \"unix\": \"unix\",\n",
    "            \"linux\": \"linux\",\n",
    "        },\n",
    "    },\n",
    "    {\n",
    "        \"level\": \"software\",\n",
    "        \"targets\": {\n",
    "            \"databases\": \"databases\"\n",
    "        }\n",
    "    },\n",
    "    {\n",
    "        \"level\": \"hardware\",\n",
    "        \"targets\": {\n",
    "            \"computer\": \"computer\",\n",
    "            \"computer components\": \"computer components\",\n",
    "            \"computer networking\": \"computer networking\",\n",
    "        },\n",
    "    },\n",
    "]"
   ]
  },
  {
   "cell_type": "code",
   "execution_count": 6,
   "id": "7eec5a65",
   "metadata": {},
   "outputs": [
    {
     "data": {
      "application/vnd.jupyter.widget-view+json": {
       "model_id": "ae347189e44d4ac58d0d4c7187b081f0",
       "version_major": 2,
       "version_minor": 0
      },
      "text/plain": [
       "Modules:   0%|          | 0/5 [00:00<?, ?module/s]"
      ]
     },
     "metadata": {},
     "output_type": "display_data"
    },
    {
     "data": {
      "application/vnd.jupyter.widget-view+json": {
       "model_id": "8f6fa53c4aa34a159b97b4eee4fa9e52",
       "version_major": 2,
       "version_minor": 0
      },
      "text/plain": [
       "Embedders:   0%|          | 0/7 [00:00<?, ?embedder/s]"
      ]
     },
     "metadata": {},
     "output_type": "display_data"
    },
    {
     "data": {
      "application/vnd.jupyter.widget-view+json": {
       "model_id": "eca6d01b9d434e9b81f799d24f455e3e",
       "version_major": 2,
       "version_minor": 0
      },
      "text/plain": [
       "Methods & Algorithms:   0%|          | 0/32 [00:00<?, ?pair/s]"
      ]
     },
     "metadata": {},
     "output_type": "display_data"
    },
    {
     "name": "stderr",
     "output_type": "stream",
     "text": [
      "/home/cela/code/GitHub/msc-thesis/.conda/lib/python3.11/site-packages/sklearn/linear_model/_logistic.py:465: ConvergenceWarning: lbfgs failed to converge (status=1):\n",
      "STOP: TOTAL NO. OF ITERATIONS REACHED LIMIT.\n",
      "\n",
      "Increase the number of iterations (max_iter) or scale the data as shown in:\n",
      "    https://scikit-learn.org/stable/modules/preprocessing.html\n",
      "Please also refer to the documentation for alternative solver options:\n",
      "    https://scikit-learn.org/stable/modules/linear_model.html#logistic-regression\n",
      "  n_iter_i = _check_optimize_result(\n",
      "/home/cela/code/GitHub/msc-thesis/.conda/lib/python3.11/site-packages/sklearn/linear_model/_logistic.py:465: ConvergenceWarning: lbfgs failed to converge (status=1):\n",
      "STOP: TOTAL NO. OF ITERATIONS REACHED LIMIT.\n",
      "\n",
      "Increase the number of iterations (max_iter) or scale the data as shown in:\n",
      "    https://scikit-learn.org/stable/modules/preprocessing.html\n",
      "Please also refer to the documentation for alternative solver options:\n",
      "    https://scikit-learn.org/stable/modules/linear_model.html#logistic-regression\n",
      "  n_iter_i = _check_optimize_result(\n"
     ]
    },
    {
     "name": "stdout",
     "output_type": "stream",
     "text": [
      "HOMERClassifier(base_estimator=LogisticRegression(max_iter=10000,\n",
      "                                                  random_state=42,\n",
      "                                                  solver='liblinear')) failed to fit due to This solver needs samples of at least 2 classes in the data, but the data contains only one class: np.int64(1)\n",
      "dict_values([{'name': 'MBR[RF] - GloVe.6B.50D', 'performance': 0.6824644549763034, 'model': MBRClassifier(base_estimator=RandomForestClassifier(random_state=42))}, {'name': 'HOMER[RF] - GloVe.6B.50D', 'performance': 0.6186046511627907, 'model': HOMERClassifier(base_estimator=RandomForestClassifier(random_state=42))}, {'name': 'LP[RF] - GloVe.6B.50D', 'performance': 0.5846153846153846, 'model': LPClassifier(base_estimator=RandomForestClassifier(random_state=42))}, {'name': 'LP[RF] - GloVe.6B.50D', 'performance': 0.7666666666666667, 'model': LPClassifier(base_estimator=RandomForestClassifier(random_state=42))}, {'name': 'RAKEL[RF] - GloVe.6B.50D', 'performance': 0.8675777568331763, 'model': RAkELClassifier(base_estimator=RandomForestClassifier(random_state=42),\n",
      "                n_estimators=12)}, {'name': 'HOMER[RF] - GloVe.6B.50D', 'performance': 0.7573182247403211, 'model': HOMERClassifier(base_estimator=RandomForestClassifier(random_state=42))}])\n",
      "==========================================================\n",
      "General Performance\n",
      "==========================================================\n",
      "Accuracy:\t75.90%\n",
      "Hamming Loss:\t0.081\n",
      "                  precision recall f1-score  support   auc\n",
      "computer security      0.82   0.58     0.68   863.00  0.77\n",
      "hardware               0.84   0.49     0.62   271.00  0.74\n",
      "networking             0.86   0.44     0.58   129.00  0.72\n",
      "operating systems      0.96   0.64     0.77   108.00  0.82\n",
      "other                  0.81   0.94     0.87  1966.00  0.80\n",
      "software               0.84   0.69     0.76   581.00  0.83\n",
      "micro avg              0.82   0.77     0.79  3918.00  0.86\n",
      "macro avg              0.85   0.63     0.71  3918.00  0.78\n",
      "weighted avg           0.82   0.77     0.78  3918.00  0.79\n",
      "samples avg            0.80   0.79     0.79  3918.00  0.87\n",
      "==========================================================\n",
      "\n"
     ]
    },
    {
     "data": {
      "application/vnd.jupyter.widget-view+json": {
       "model_id": "9194ffd2c1a54adb8ea51aa1805e3a67",
       "version_major": 2,
       "version_minor": 0
      },
      "text/plain": [
       "Methods & Algorithms:   0%|          | 0/32 [00:00<?, ?pair/s]"
      ]
     },
     "metadata": {},
     "output_type": "display_data"
    },
    {
     "name": "stdout",
     "output_type": "stream",
     "text": [
      "HOMERClassifier(base_estimator=LogisticRegression(max_iter=10000,\n",
      "                                                  random_state=42,\n",
      "                                                  solver='liblinear')) failed to fit due to This solver needs samples of at least 2 classes in the data, but the data contains only one class: np.int64(1)\n",
      "dict_values([{'name': 'MBR[RF] - GloVe.6B.100D', 'performance': 0.6666666666666666, 'model': MBRClassifier(base_estimator=RandomForestClassifier(random_state=42))}, {'name': 'LP[RF] - GloVe.6B.100D', 'performance': 0.6244131455399061, 'model': LPClassifier(base_estimator=RandomForestClassifier(random_state=42))}, {'name': 'LP[RF] - GloVe.6B.100D', 'performance': 0.5833333333333334, 'model': LPClassifier(base_estimator=RandomForestClassifier(random_state=42))}, {'name': 'LP[RF] - GloVe.6B.100D', 'performance': 0.7666666666666667, 'model': LPClassifier(base_estimator=RandomForestClassifier(random_state=42))}, {'name': 'RAKEL[RF] - GloVe.6B.100D', 'performance': 0.867906976744186, 'model': RAkELClassifier(base_estimator=RandomForestClassifier(random_state=42),\n",
      "                n_estimators=12)}, {'name': 'CC[RF] - GloVe.6B.100D', 'performance': 0.7743785850860421, 'model': CCClassifier(base_estimator=RandomForestClassifier(random_state=42))}])\n",
      "==========================================================\n",
      "General Performance\n",
      "==========================================================\n",
      "Accuracy:\t75.90%\n",
      "Hamming Loss:\t0.080\n",
      "                  precision recall f1-score  support   auc\n",
      "computer security      0.83   0.56     0.67   863.00  0.76\n",
      "hardware               0.86   0.49     0.62   271.00  0.74\n",
      "networking             0.89   0.43     0.58   129.00  0.72\n",
      "operating systems      0.96   0.64     0.77   108.00  0.82\n",
      "other                  0.80   0.95     0.87  1966.00  0.79\n",
      "software               0.87   0.70     0.77   581.00  0.84\n",
      "micro avg              0.82   0.77     0.79  3918.00  0.86\n",
      "macro avg              0.87   0.63     0.71  3918.00  0.78\n",
      "weighted avg           0.83   0.77     0.78  3918.00  0.79\n",
      "samples avg            0.80   0.79     0.79  3918.00  0.88\n",
      "==========================================================\n",
      "\n"
     ]
    },
    {
     "data": {
      "application/vnd.jupyter.widget-view+json": {
       "model_id": "d740a2db15844f2fb979b03052a863cd",
       "version_major": 2,
       "version_minor": 0
      },
      "text/plain": [
       "Methods & Algorithms:   0%|          | 0/32 [00:00<?, ?pair/s]"
      ]
     },
     "metadata": {},
     "output_type": "display_data"
    },
    {
     "name": "stderr",
     "output_type": "stream",
     "text": [
      "/home/cela/code/GitHub/msc-thesis/.conda/lib/python3.11/site-packages/sklearn/linear_model/_logistic.py:465: ConvergenceWarning: lbfgs failed to converge (status=1):\n",
      "STOP: TOTAL NO. OF ITERATIONS REACHED LIMIT.\n",
      "\n",
      "Increase the number of iterations (max_iter) or scale the data as shown in:\n",
      "    https://scikit-learn.org/stable/modules/preprocessing.html\n",
      "Please also refer to the documentation for alternative solver options:\n",
      "    https://scikit-learn.org/stable/modules/linear_model.html#logistic-regression\n",
      "  n_iter_i = _check_optimize_result(\n"
     ]
    },
    {
     "name": "stdout",
     "output_type": "stream",
     "text": [
      "HOMERClassifier(base_estimator=LogisticRegression(max_iter=10000,\n",
      "                                                  random_state=42,\n",
      "                                                  solver='liblinear')) failed to fit due to This solver needs samples of at least 2 classes in the data, but the data contains only one class: np.int64(1)\n",
      "dict_values([{'name': 'MBR[RF] - GloVe.6B.200D', 'performance': 0.6835616438356165, 'model': MBRClassifier(base_estimator=RandomForestClassifier(random_state=42))}, {'name': 'LP[RF] - GloVe.6B.200D', 'performance': 0.6261682242990654, 'model': LPClassifier(base_estimator=RandomForestClassifier(random_state=42))}, {'name': 'RAKEL[RF] - GloVe.6B.200D', 'performance': 0.59375, 'model': RAkELClassifier(base_estimator=RandomForestClassifier(random_state=42),\n",
      "                n_estimators=12)}, {'name': 'LP[RF] - GloVe.6B.200D', 'performance': 0.7934782608695652, 'model': LPClassifier(base_estimator=RandomForestClassifier(random_state=42))}, {'name': 'RAKEL[RF] - GloVe.6B.200D', 'performance': 0.8678013522965726, 'model': RAkELClassifier(base_estimator=RandomForestClassifier(random_state=42),\n",
      "                n_estimators=12)}, {'name': 'CC[RF] - GloVe.6B.200D', 'performance': 0.7717287488061128, 'model': CCClassifier(base_estimator=RandomForestClassifier(random_state=42))}])\n",
      "==========================================================\n",
      "General Performance\n",
      "==========================================================\n",
      "Accuracy:\t76.39%\n",
      "Hamming Loss:\t0.079\n",
      "                  precision recall f1-score  support   auc\n",
      "computer security      0.84   0.58     0.68   863.00  0.77\n",
      "hardware               0.85   0.49     0.63   271.00  0.74\n",
      "networking             0.90   0.44     0.59   129.00  0.72\n",
      "operating systems      0.96   0.68     0.79   108.00  0.84\n",
      "other                  0.80   0.95     0.87  1966.00  0.79\n",
      "software               0.87   0.70     0.77   581.00  0.84\n",
      "micro avg              0.82   0.77     0.80  3918.00  0.87\n",
      "macro avg              0.87   0.64     0.72  3918.00  0.78\n",
      "weighted avg           0.83   0.77     0.79  3918.00  0.79\n",
      "samples avg            0.80   0.80     0.80  3918.00  0.88\n",
      "==========================================================\n",
      "\n"
     ]
    },
    {
     "data": {
      "application/vnd.jupyter.widget-view+json": {
       "model_id": "0dc53875e7d1403fbf0c09566c12c397",
       "version_major": 2,
       "version_minor": 0
      },
      "text/plain": [
       "Methods & Algorithms:   0%|          | 0/32 [00:00<?, ?pair/s]"
      ]
     },
     "metadata": {},
     "output_type": "display_data"
    },
    {
     "name": "stdout",
     "output_type": "stream",
     "text": [
      "HOMERClassifier(base_estimator=LogisticRegression(max_iter=10000,\n",
      "                                                  random_state=42,\n",
      "                                                  solver='liblinear')) failed to fit due to This solver needs samples of at least 2 classes in the data, but the data contains only one class: np.int64(1)\n",
      "dict_values([{'name': 'MBR[RF] - GloVe.6B.300D', 'performance': 0.6863013698630137, 'model': MBRClassifier(base_estimator=RandomForestClassifier(random_state=42))}, {'name': 'RAKEL[RF] - GloVe.6B.300D', 'performance': 0.6187050359712231, 'model': RAkELClassifier(base_estimator=RandomForestClassifier(random_state=42),\n",
      "                n_estimators=12)}, {'name': 'LP[RF] - GloVe.6B.300D', 'performance': 0.5759162303664922, 'model': LPClassifier(base_estimator=RandomForestClassifier(random_state=42))}, {'name': 'LP[RF] - GloVe.6B.300D', 'performance': 0.7845303867403315, 'model': LPClassifier(base_estimator=RandomForestClassifier(random_state=42))}, {'name': 'HOMER[RF] - GloVe.6B.300D', 'performance': 0.8702107279693486, 'model': HOMERClassifier(base_estimator=RandomForestClassifier(random_state=42))}, {'name': 'CC[RF] - GloVe.6B.300D', 'performance': 0.7773512476007678, 'model': CCClassifier(base_estimator=RandomForestClassifier(random_state=42))}])\n"
     ]
    },
    {
     "data": {
      "application/vnd.jupyter.widget-view+json": {
       "model_id": "316703c981ba41139ee4d80525bb58f6",
       "version_major": 2,
       "version_minor": 0
      },
      "text/plain": [
       "Methods & Algorithms:   0%|          | 0/32 [00:00<?, ?pair/s]"
      ]
     },
     "metadata": {},
     "output_type": "display_data"
    },
    {
     "name": "stdout",
     "output_type": "stream",
     "text": [
      "HOMERClassifier(base_estimator=LogisticRegression(max_iter=10000,\n",
      "                                                  random_state=42,\n",
      "                                                  solver='liblinear')) failed to fit due to This solver needs samples of at least 2 classes in the data, but the data contains only one class: np.int64(1)\n",
      "dict_values([{'name': 'MBR[RF] - DistilRoBERTa', 'performance': 0.6868131868131868, 'model': MBRClassifier(base_estimator=RandomForestClassifier(random_state=42))}, {'name': 'LP[RF] - DistilRoBERTa', 'performance': 0.6172248803827751, 'model': LPClassifier(base_estimator=RandomForestClassifier(random_state=42))}, {'name': 'HOMER[RF] - DistilRoBERTa', 'performance': 0.532608695652174, 'model': HOMERClassifier(base_estimator=RandomForestClassifier(random_state=42))}, {'name': 'LP[RF] - DistilRoBERTa', 'performance': 0.7241379310344828, 'model': LPClassifier(base_estimator=RandomForestClassifier(random_state=42))}, {'name': 'BR[RF] - DistilRoBERTa', 'performance': 0.8767726161369194, 'model': BRClassifier(base_estimator=RandomForestClassifier(random_state=42))}, {'name': 'HOMER[RF] - DistilRoBERTa', 'performance': 0.7601990049751244, 'model': HOMERClassifier(base_estimator=RandomForestClassifier(random_state=42))}])\n"
     ]
    },
    {
     "data": {
      "application/vnd.jupyter.widget-view+json": {
       "model_id": "430747113d3940a6988c0ad4e06762d8",
       "version_major": 2,
       "version_minor": 0
      },
      "text/plain": [
       "Methods & Algorithms:   0%|          | 0/32 [00:00<?, ?pair/s]"
      ]
     },
     "metadata": {},
     "output_type": "display_data"
    },
    {
     "name": "stdout",
     "output_type": "stream",
     "text": [
      "HOMERClassifier(base_estimator=LogisticRegression(max_iter=10000,\n",
      "                                                  random_state=42,\n",
      "                                                  solver='liblinear')) failed to fit due to This solver needs samples of at least 2 classes in the data, but the data contains only one class: np.int64(1)\n",
      "dict_values([{'name': 'MBR[RF] - SBERT', 'performance': 0.7128580946035976, 'model': MBRClassifier(base_estimator=RandomForestClassifier(random_state=42))}, {'name': 'RAKEL[RF] - SBERT', 'performance': 0.6350710900473934, 'model': RAkELClassifier(base_estimator=RandomForestClassifier(random_state=42),\n",
      "                n_estimators=12)}, {'name': 'RAKEL[RF] - SBERT', 'performance': 0.5698924731182796, 'model': RAkELClassifier(base_estimator=RandomForestClassifier(random_state=42),\n",
      "                n_estimators=12)}, {'name': 'LP[RF] - SBERT', 'performance': 0.7868852459016393, 'model': LPClassifier(base_estimator=RandomForestClassifier(random_state=42))}, {'name': 'CC[RF] - SBERT', 'performance': 0.878234037502967, 'model': CCClassifier(base_estimator=RandomForestClassifier(random_state=42))}, {'name': 'MBR[RF] - SBERT', 'performance': 0.7647058823529411, 'model': MBRClassifier(base_estimator=RandomForestClassifier(random_state=42))}])\n",
      "==========================================================\n",
      "General Performance\n",
      "==========================================================\n",
      "Accuracy:\t76.94%\n",
      "Hamming Loss:\t0.075\n",
      "                  precision recall f1-score  support   auc\n",
      "computer security      0.84   0.62     0.71   863.00  0.79\n",
      "hardware               0.89   0.49     0.64   271.00  0.74\n",
      "networking             0.93   0.41     0.57   129.00  0.70\n",
      "operating systems      0.96   0.67     0.79   108.00  0.83\n",
      "other                  0.82   0.94     0.88  1966.00  0.82\n",
      "software               0.89   0.67     0.76   581.00  0.83\n",
      "micro avg              0.84   0.77     0.81  3918.00  0.87\n",
      "macro avg              0.89   0.63     0.72  3918.00  0.79\n",
      "weighted avg           0.85   0.77     0.80  3918.00  0.80\n",
      "samples avg            0.81   0.80     0.80  3918.00  0.88\n",
      "==========================================================\n",
      "\n"
     ]
    },
    {
     "data": {
      "application/vnd.jupyter.widget-view+json": {
       "model_id": "16f1509312674f7c940a488932b97b0e",
       "version_major": 2,
       "version_minor": 0
      },
      "text/plain": [
       "Methods & Algorithms:   0%|          | 0/32 [00:00<?, ?pair/s]"
      ]
     },
     "metadata": {},
     "output_type": "display_data"
    },
    {
     "name": "stdout",
     "output_type": "stream",
     "text": [
      "HOMERClassifier(base_estimator=LogisticRegression(max_iter=10000,\n",
      "                                                  random_state=42,\n",
      "                                                  solver='liblinear')) failed to fit due to This solver needs samples of at least 2 classes in the data, but the data contains only one class: np.int64(1)\n",
      "dict_values([{'name': 'MBR[RF] - ATT&CK-BERT', 'performance': 0.712491738268341, 'model': MBRClassifier(base_estimator=RandomForestClassifier(random_state=42))}, {'name': 'RAKEL[RF] - ATT&CK-BERT', 'performance': 0.6352941176470588, 'model': RAkELClassifier(base_estimator=RandomForestClassifier(random_state=42),\n",
      "                n_estimators=12)}, {'name': 'RAKEL[RF] - ATT&CK-BERT', 'performance': 0.5789473684210527, 'model': RAkELClassifier(base_estimator=RandomForestClassifier(random_state=42),\n",
      "                n_estimators=12)}, {'name': 'LP[RF] - ATT&CK-BERT', 'performance': 0.7956989247311828, 'model': LPClassifier(base_estimator=RandomForestClassifier(random_state=42))}, {'name': 'MBR[RF] - ATT&CK-BERT', 'performance': 0.8743545611015491, 'model': MBRClassifier(base_estimator=RandomForestClassifier(random_state=42))}, {'name': 'CC[RF] - ATT&CK-BERT', 'performance': 0.7603143418467584, 'model': CCClassifier(base_estimator=RandomForestClassifier(random_state=42))}])\n",
      "==========================================================\n",
      "General Performance\n",
      "==========================================================\n",
      "Accuracy:\t75.62%\n",
      "Hamming Loss:\t0.075\n",
      "                  precision recall f1-score  support   auc\n",
      "computer security      0.83   0.62     0.71   863.00  0.79\n",
      "hardware               0.88   0.50     0.64   271.00  0.75\n",
      "networking             0.90   0.43     0.58   129.00  0.71\n",
      "operating systems      0.95   0.69     0.80   108.00  0.84\n",
      "other                  0.85   0.90     0.87  1966.00  0.83\n",
      "software               0.89   0.67     0.76   581.00  0.82\n",
      "micro avg              0.85   0.76     0.80  3918.00  0.86\n",
      "macro avg              0.88   0.63     0.73  3918.00  0.79\n",
      "weighted avg           0.86   0.76     0.79  3918.00  0.81\n",
      "samples avg            0.79   0.78     0.78  3918.00  0.87\n",
      "==========================================================\n",
      "\n"
     ]
    },
    {
     "data": {
      "application/vnd.jupyter.widget-view+json": {
       "model_id": "c07aac978aac401bb62b4e16876a2f6d",
       "version_major": 2,
       "version_minor": 0
      },
      "text/plain": [
       "Embedders:   0%|          | 0/7 [00:00<?, ?embedder/s]"
      ]
     },
     "metadata": {},
     "output_type": "display_data"
    },
    {
     "data": {
      "application/vnd.jupyter.widget-view+json": {
       "model_id": "e643149761dd423fa946efa11ad80c65",
       "version_major": 2,
       "version_minor": 0
      },
      "text/plain": [
       "Methods & Algorithms:   0%|          | 0/32 [00:00<?, ?pair/s]"
      ]
     },
     "metadata": {},
     "output_type": "display_data"
    },
    {
     "name": "stdout",
     "output_type": "stream",
     "text": [
      "HOMERClassifier(base_estimator=LogisticRegression(max_iter=10000,\n",
      "                                                  random_state=42,\n",
      "                                                  solver='liblinear')) failed to fit due to This solver needs samples of at least 2 classes in the data, but the data contains only one class: np.int64(1)\n",
      "dict_values([{'name': 'BR[RF] - GloVe.6B.50D', 'performance': 0.7913779830638953, 'model': BRClassifier(base_estimator=RandomForestClassifier(random_state=42))}, {'name': 'HOMER[RF] - GloVe.6B.50D', 'performance': 0.615071283095723, 'model': HOMERClassifier(base_estimator=RandomForestClassifier(random_state=42))}, {'name': 'CC[RF] - GloVe.6B.50D', 'performance': 0.7042735042735043, 'model': CCClassifier(base_estimator=RandomForestClassifier(random_state=42))}])\n",
      "==========================================================\n",
      "Computer security Performance\n",
      "==========================================================\n",
      "Accuracy:\t70.55%\n",
      "Hamming Loss:\t0.193\n",
      "                      precision recall f1-score  support   auc\n",
      "antivirus and malware      0.79   0.79     0.79   647.00  0.80\n",
      "network security           0.82   0.49     0.62   306.00  0.73\n",
      "other                      0.64   0.78     0.70   531.00  0.76\n",
      "micro avg                  0.73   0.73     0.73  1484.00  0.79\n",
      "macro avg                  0.75   0.69     0.70  1484.00  0.76\n",
      "weighted avg               0.74   0.73     0.72  1484.00  0.77\n",
      "samples avg                0.73   0.73     0.73  1484.00  0.79\n",
      "==========================================================\n",
      "\n"
     ]
    },
    {
     "data": {
      "application/vnd.jupyter.widget-view+json": {
       "model_id": "a827a0c8a2254c989eaac21f762e003c",
       "version_major": 2,
       "version_minor": 0
      },
      "text/plain": [
       "Methods & Algorithms:   0%|          | 0/32 [00:00<?, ?pair/s]"
      ]
     },
     "metadata": {},
     "output_type": "display_data"
    },
    {
     "name": "stdout",
     "output_type": "stream",
     "text": [
      "HOMERClassifier(base_estimator=LogisticRegression(max_iter=10000,\n",
      "                                                  random_state=42,\n",
      "                                                  solver='liblinear')) failed to fit due to This solver needs samples of at least 2 classes in the data, but the data contains only one class: np.int64(1)\n",
      "dict_values([{'name': 'MBR[RF] - GloVe.6B.100D', 'performance': 0.7925407925407926, 'model': MBRClassifier(base_estimator=RandomForestClassifier(random_state=42))}, {'name': 'HOMER[RF] - GloVe.6B.100D', 'performance': 0.6300813008130082, 'model': HOMERClassifier(base_estimator=RandomForestClassifier(random_state=42))}, {'name': 'LP[RF] - GloVe.6B.100D', 'performance': 0.7027506654835848, 'model': LPClassifier(base_estimator=RandomForestClassifier(random_state=42))}])\n",
      "==========================================================\n",
      "Computer security Performance\n",
      "==========================================================\n",
      "Accuracy:\t67.46%\n",
      "Hamming Loss:\t0.188\n",
      "                      precision recall f1-score  support   auc\n",
      "antivirus and malware      0.80   0.79     0.79   647.00  0.81\n",
      "network security           0.83   0.51     0.63   306.00  0.74\n",
      "other                      0.66   0.75     0.70   531.00  0.76\n",
      "micro avg                  0.75   0.71     0.73  1484.00  0.79\n",
      "macro avg                  0.76   0.68     0.71  1484.00  0.77\n",
      "weighted avg               0.76   0.71     0.73  1484.00  0.77\n",
      "samples avg                0.70   0.72     0.71  1484.00  0.79\n",
      "==========================================================\n",
      "\n"
     ]
    },
    {
     "data": {
      "application/vnd.jupyter.widget-view+json": {
       "model_id": "2a262d4ca3ad40259ed4019bba7df0ae",
       "version_major": 2,
       "version_minor": 0
      },
      "text/plain": [
       "Methods & Algorithms:   0%|          | 0/32 [00:00<?, ?pair/s]"
      ]
     },
     "metadata": {},
     "output_type": "display_data"
    },
    {
     "name": "stdout",
     "output_type": "stream",
     "text": [
      "HOMERClassifier(base_estimator=LogisticRegression(max_iter=10000,\n",
      "                                                  random_state=42,\n",
      "                                                  solver='liblinear')) failed to fit due to This solver needs samples of at least 2 classes in the data, but the data contains only one class: np.int64(1)\n",
      "dict_values([{'name': 'MBR[RF] - GloVe.6B.200D', 'performance': 0.804915514592934, 'model': MBRClassifier(base_estimator=RandomForestClassifier(random_state=42))}, {'name': 'HOMER[RF] - GloVe.6B.200D', 'performance': 0.6204081632653061, 'model': HOMERClassifier(base_estimator=RandomForestClassifier(random_state=42))}, {'name': 'CC[RF] - GloVe.6B.200D', 'performance': 0.712468193384224, 'model': CCClassifier(base_estimator=RandomForestClassifier(random_state=42))}])\n",
      "==========================================================\n",
      "Computer security Performance\n",
      "==========================================================\n",
      "Accuracy:\t68.75%\n",
      "Hamming Loss:\t0.187\n",
      "                      precision recall f1-score  support   auc\n",
      "antivirus and malware      0.80   0.81     0.80   647.00  0.82\n",
      "network security           0.83   0.50     0.62   306.00  0.73\n",
      "other                      0.65   0.79     0.71   531.00  0.76\n",
      "micro avg                  0.74   0.74     0.74  1484.00  0.80\n",
      "macro avg                  0.76   0.70     0.71  1484.00  0.77\n",
      "weighted avg               0.75   0.74     0.73  1484.00  0.78\n",
      "samples avg                0.72   0.74     0.73  1484.00  0.80\n",
      "==========================================================\n",
      "\n"
     ]
    },
    {
     "data": {
      "application/vnd.jupyter.widget-view+json": {
       "model_id": "aba7196e01624dda89195bb1c449f69f",
       "version_major": 2,
       "version_minor": 0
      },
      "text/plain": [
       "Methods & Algorithms:   0%|          | 0/32 [00:00<?, ?pair/s]"
      ]
     },
     "metadata": {},
     "output_type": "display_data"
    },
    {
     "name": "stdout",
     "output_type": "stream",
     "text": [
      "HOMERClassifier(base_estimator=LogisticRegression(max_iter=10000,\n",
      "                                                  random_state=42,\n",
      "                                                  solver='liblinear')) failed to fit due to This solver needs samples of at least 2 classes in the data, but the data contains only one class: np.int64(1)\n",
      "dict_values([{'name': 'LP[RF] - GloVe.6B.300D', 'performance': 0.7921686746987951, 'model': LPClassifier(base_estimator=RandomForestClassifier(random_state=42))}, {'name': 'MBR[RF] - GloVe.6B.300D', 'performance': 0.6305220883534136, 'model': MBRClassifier(base_estimator=RandomForestClassifier(random_state=42))}, {'name': 'LP[RF] - GloVe.6B.300D', 'performance': 0.6999109528049866, 'model': LPClassifier(base_estimator=RandomForestClassifier(random_state=42))}])\n"
     ]
    },
    {
     "data": {
      "application/vnd.jupyter.widget-view+json": {
       "model_id": "2814a385134a44c180c894e411d67a4a",
       "version_major": 2,
       "version_minor": 0
      },
      "text/plain": [
       "Methods & Algorithms:   0%|          | 0/32 [00:00<?, ?pair/s]"
      ]
     },
     "metadata": {},
     "output_type": "display_data"
    },
    {
     "name": "stdout",
     "output_type": "stream",
     "text": [
      "HOMERClassifier(base_estimator=LogisticRegression(max_iter=10000,\n",
      "                                                  random_state=42,\n",
      "                                                  solver='liblinear')) failed to fit due to This solver needs samples of at least 2 classes in the data, but the data contains only one class: np.int64(1)\n",
      "dict_values([{'name': 'MBR[RF] - DistilRoBERTa', 'performance': 0.8093797276853253, 'model': MBRClassifier(base_estimator=RandomForestClassifier(random_state=42))}, {'name': 'MBR[RF] - DistilRoBERTa', 'performance': 0.6517311608961304, 'model': MBRClassifier(base_estimator=RandomForestClassifier(random_state=42))}, {'name': 'CC[RF] - DistilRoBERTa', 'performance': 0.7132216014897579, 'model': CCClassifier(base_estimator=RandomForestClassifier(random_state=42))}])\n",
      "==========================================================\n",
      "Computer security Performance\n",
      "==========================================================\n",
      "Accuracy:\t70.99%\n",
      "Hamming Loss:\t0.175\n",
      "                      precision recall f1-score  support   auc\n",
      "antivirus and malware      0.79   0.83     0.81   647.00  0.82\n",
      "network security           0.86   0.52     0.65   306.00  0.75\n",
      "other                      0.71   0.72     0.71   531.00  0.77\n",
      "micro avg                  0.77   0.73     0.75  1484.00  0.80\n",
      "macro avg                  0.79   0.69     0.72  1484.00  0.78\n",
      "weighted avg               0.78   0.73     0.74  1484.00  0.79\n",
      "samples avg                0.73   0.73     0.73  1484.00  0.80\n",
      "==========================================================\n",
      "\n"
     ]
    },
    {
     "data": {
      "application/vnd.jupyter.widget-view+json": {
       "model_id": "ead2397204b44799bb05a572bf144de6",
       "version_major": 2,
       "version_minor": 0
      },
      "text/plain": [
       "Methods & Algorithms:   0%|          | 0/32 [00:00<?, ?pair/s]"
      ]
     },
     "metadata": {},
     "output_type": "display_data"
    },
    {
     "name": "stdout",
     "output_type": "stream",
     "text": [
      "HOMERClassifier(base_estimator=LogisticRegression(max_iter=10000,\n",
      "                                                  random_state=42,\n",
      "                                                  solver='liblinear')) failed to fit due to This solver needs samples of at least 2 classes in the data, but the data contains only one class: np.int64(1)\n",
      "dict_values([{'name': 'MBR[RF] - SBERT', 'performance': 0.8071748878923767, 'model': MBRClassifier(base_estimator=RandomForestClassifier(random_state=42))}, {'name': 'HOMER[RF] - SBERT', 'performance': 0.6521739130434783, 'model': HOMERClassifier(base_estimator=RandomForestClassifier(random_state=42))}, {'name': 'CC[RF] - SBERT', 'performance': 0.7047970479704797, 'model': CCClassifier(base_estimator=RandomForestClassifier(random_state=42))}])\n"
     ]
    },
    {
     "data": {
      "application/vnd.jupyter.widget-view+json": {
       "model_id": "ae066802a342495fb6b08910eaf1ca28",
       "version_major": 2,
       "version_minor": 0
      },
      "text/plain": [
       "Methods & Algorithms:   0%|          | 0/32 [00:00<?, ?pair/s]"
      ]
     },
     "metadata": {},
     "output_type": "display_data"
    },
    {
     "name": "stdout",
     "output_type": "stream",
     "text": [
      "HOMERClassifier(base_estimator=LogisticRegression(max_iter=10000,\n",
      "                                                  random_state=42,\n",
      "                                                  solver='liblinear')) failed to fit due to This solver needs samples of at least 2 classes in the data, but the data contains only one class: np.int64(1)\n",
      "dict_values([{'name': 'HOMER[RF] - ATT&CK-BERT', 'performance': 0.8042650418888042, 'model': HOMERClassifier(base_estimator=RandomForestClassifier(random_state=42))}, {'name': 'HOMER[RF] - ATT&CK-BERT', 'performance': 0.6284584980237155, 'model': HOMERClassifier(base_estimator=RandomForestClassifier(random_state=42))}, {'name': 'CC[RF] - ATT&CK-BERT', 'performance': 0.7105500450856628, 'model': CCClassifier(base_estimator=RandomForestClassifier(random_state=42))}])\n"
     ]
    },
    {
     "data": {
      "application/vnd.jupyter.widget-view+json": {
       "model_id": "cda4ac0404e544c99be8af8235b5fbdb",
       "version_major": 2,
       "version_minor": 0
      },
      "text/plain": [
       "Embedders:   0%|          | 0/7 [00:00<?, ?embedder/s]"
      ]
     },
     "metadata": {},
     "output_type": "display_data"
    },
    {
     "data": {
      "application/vnd.jupyter.widget-view+json": {
       "model_id": "3c199087284f41ef8688f18c2655fd57",
       "version_major": 2,
       "version_minor": 0
      },
      "text/plain": [
       "Methods & Algorithms:   0%|          | 0/32 [00:00<?, ?pair/s]"
      ]
     },
     "metadata": {},
     "output_type": "display_data"
    },
    {
     "name": "stdout",
     "output_type": "stream",
     "text": [
      "HOMERClassifier(base_estimator=LogisticRegression(max_iter=10000,\n",
      "                                                  random_state=42,\n",
      "                                                  solver='liblinear')) failed to fit due to This solver needs samples of at least 2 classes in the data, but the data contains only one class: np.int64(1)\n",
      "dict_values([{'name': 'BR[LR] - GloVe.6B.50D', 'performance': 0.9074074074074074, 'model': BRClassifier(base_estimator=LogisticRegression(max_iter=10000, random_state=42,\n",
      "                                               solver='liblinear'))}, {'name': 'CC[DT] - GloVe.6B.50D', 'performance': 0.8, 'model': CCClassifier(base_estimator=DecisionTreeClassifier(random_state=42))}, {'name': 'LP[LR] - GloVe.6B.50D', 'performance': 0.7636363636363637, 'model': LPClassifier(base_estimator=LogisticRegression(max_iter=10000, random_state=42,\n",
      "                                               solver='liblinear'))}, {'name': 'MBR[DT] - GloVe.6B.50D', 'performance': 0.9523809523809523, 'model': MBRClassifier(base_estimator=DecisionTreeClassifier(random_state=42))}, {'name': 'LP[LR] - GloVe.6B.50D', 'performance': 0.8709677419354839, 'model': LPClassifier(base_estimator=LogisticRegression(max_iter=10000, random_state=42,\n",
      "                                               solver='liblinear'))}])\n",
      "==========================================================\n",
      "Operating systems Performance\n",
      "==========================================================\n",
      "Accuracy:\t82.40%\n",
      "Hamming Loss:\t0.056\n",
      "             precision recall f1-score support   auc\n",
      "linux             0.92   0.89     0.91   55.00  0.92\n",
      "mac os            0.86   0.75     0.80    8.00  0.87\n",
      "other             0.75   0.78     0.76   27.00  0.85\n",
      "unix              0.91   1.00     0.95   10.00  1.00\n",
      "windows           0.87   0.87     0.87   31.00  0.91\n",
      "micro avg         0.87   0.86     0.87  131.00  0.91\n",
      "macro avg         0.86   0.86     0.86  131.00  0.91\n",
      "weighted avg      0.87   0.86     0.87  131.00  0.91\n",
      "samples avg       0.85   0.86     0.85  131.00  0.91\n",
      "==========================================================\n",
      "\n"
     ]
    },
    {
     "data": {
      "application/vnd.jupyter.widget-view+json": {
       "model_id": "47c34902f2b3440083e4051faf066d9e",
       "version_major": 2,
       "version_minor": 0
      },
      "text/plain": [
       "Methods & Algorithms:   0%|          | 0/32 [00:00<?, ?pair/s]"
      ]
     },
     "metadata": {},
     "output_type": "display_data"
    },
    {
     "name": "stdout",
     "output_type": "stream",
     "text": [
      "HOMERClassifier(base_estimator=LogisticRegression(max_iter=10000,\n",
      "                                                  random_state=42,\n",
      "                                                  solver='liblinear')) failed to fit due to This solver needs samples of at least 2 classes in the data, but the data contains only one class: np.int64(1)\n",
      "dict_values([{'name': 'MBR[RF] - GloVe.6B.100D', 'performance': 0.9090909090909091, 'model': MBRClassifier(base_estimator=RandomForestClassifier(random_state=42))}, {'name': 'BR[RF] - GloVe.6B.100D', 'performance': 0.6666666666666666, 'model': BRClassifier(base_estimator=RandomForestClassifier(random_state=42))}, {'name': 'MBR[DT] - GloVe.6B.100D', 'performance': 0.75, 'model': MBRClassifier(base_estimator=DecisionTreeClassifier(random_state=42))}, {'name': 'BR[RF] - GloVe.6B.100D', 'performance': 0.9473684210526315, 'model': BRClassifier(base_estimator=RandomForestClassifier(random_state=42))}, {'name': 'LP[RF] - GloVe.6B.100D', 'performance': 0.8666666666666667, 'model': LPClassifier(base_estimator=RandomForestClassifier(random_state=42))}])\n"
     ]
    },
    {
     "data": {
      "application/vnd.jupyter.widget-view+json": {
       "model_id": "88aa6657ac9d41aeb9607a94174a94c4",
       "version_major": 2,
       "version_minor": 0
      },
      "text/plain": [
       "Methods & Algorithms:   0%|          | 0/32 [00:00<?, ?pair/s]"
      ]
     },
     "metadata": {},
     "output_type": "display_data"
    },
    {
     "name": "stdout",
     "output_type": "stream",
     "text": [
      "HOMERClassifier(base_estimator=LogisticRegression(max_iter=10000,\n",
      "                                                  random_state=42,\n",
      "                                                  solver='liblinear')) failed to fit due to This solver needs samples of at least 2 classes in the data, but the data contains only one class: np.int64(1)\n",
      "dict_values([{'name': 'LP[RF] - GloVe.6B.200D', 'performance': 0.8807339449541285, 'model': LPClassifier(base_estimator=RandomForestClassifier(random_state=42))}, {'name': 'MBR[LR] - GloVe.6B.200D', 'performance': 0.7692307692307693, 'model': MBRClassifier(base_estimator=LogisticRegression(max_iter=10000, random_state=42,\n",
      "                                                solver='liblinear'))}, {'name': 'CC[RF] - GloVe.6B.200D', 'performance': 0.7547169811320755, 'model': CCClassifier(base_estimator=RandomForestClassifier(random_state=42))}, {'name': 'BR[LR] - GloVe.6B.200D', 'performance': 1.0, 'model': BRClassifier(base_estimator=LogisticRegression(max_iter=10000, random_state=42,\n",
      "                                               solver='liblinear'))}, {'name': 'LP[RF] - GloVe.6B.200D', 'performance': 0.8813559322033898, 'model': LPClassifier(base_estimator=RandomForestClassifier(random_state=42))}])\n"
     ]
    },
    {
     "data": {
      "application/vnd.jupyter.widget-view+json": {
       "model_id": "143fc74210c647b2af2bfffcb028f26a",
       "version_major": 2,
       "version_minor": 0
      },
      "text/plain": [
       "Methods & Algorithms:   0%|          | 0/32 [00:00<?, ?pair/s]"
      ]
     },
     "metadata": {},
     "output_type": "display_data"
    },
    {
     "name": "stdout",
     "output_type": "stream",
     "text": [
      "HOMERClassifier(base_estimator=LogisticRegression(max_iter=10000,\n",
      "                                                  random_state=42,\n",
      "                                                  solver='liblinear')) failed to fit due to This solver needs samples of at least 2 classes in the data, but the data contains only one class: np.int64(1)\n",
      "dict_values([{'name': 'RAKEL[RF] - GloVe.6B.300D', 'performance': 0.9056603773584906, 'model': RAkELClassifier(base_estimator=RandomForestClassifier(random_state=42),\n",
      "                n_estimators=10)}, {'name': 'MBR[LR] - GloVe.6B.300D', 'performance': 0.7692307692307693, 'model': MBRClassifier(base_estimator=LogisticRegression(max_iter=10000, random_state=42,\n",
      "                                                solver='liblinear'))}, {'name': 'RAKEL[DT] - GloVe.6B.300D', 'performance': 0.6923076923076923, 'model': RAkELClassifier(base_estimator=DecisionTreeClassifier(random_state=42),\n",
      "                n_estimators=10)}, {'name': 'BR[LR] - GloVe.6B.300D', 'performance': 1.0, 'model': BRClassifier(base_estimator=LogisticRegression(max_iter=10000, random_state=42,\n",
      "                                               solver='liblinear'))}, {'name': 'CC[LR] - GloVe.6B.300D', 'performance': 0.8571428571428571, 'model': CCClassifier(base_estimator=LogisticRegression(max_iter=10000, random_state=42,\n",
      "                                               solver='liblinear'))}])\n"
     ]
    },
    {
     "data": {
      "application/vnd.jupyter.widget-view+json": {
       "model_id": "c0c8fca1cc7d45309145db5f49dbc156",
       "version_major": 2,
       "version_minor": 0
      },
      "text/plain": [
       "Methods & Algorithms:   0%|          | 0/32 [00:00<?, ?pair/s]"
      ]
     },
     "metadata": {},
     "output_type": "display_data"
    },
    {
     "name": "stdout",
     "output_type": "stream",
     "text": [
      "HOMERClassifier(base_estimator=LogisticRegression(max_iter=10000,\n",
      "                                                  random_state=42,\n",
      "                                                  solver='liblinear')) failed to fit due to This solver needs samples of at least 2 classes in the data, but the data contains only one class: np.int64(1)\n",
      "dict_values([{'name': 'MBR[LR] - DistilRoBERTa', 'performance': 0.918918918918919, 'model': MBRClassifier(base_estimator=LogisticRegression(max_iter=10000, random_state=42,\n",
      "                                                solver='liblinear'))}, {'name': 'BR[RF] - DistilRoBERTa', 'performance': 0.6666666666666666, 'model': BRClassifier(base_estimator=RandomForestClassifier(random_state=42))}, {'name': 'CC[GNB] - DistilRoBERTa', 'performance': 0.7619047619047619, 'model': CCClassifier(base_estimator=GaussianNB())}, {'name': 'LP[GNB] - DistilRoBERTa', 'performance': 1.0, 'model': LPClassifier(base_estimator=GaussianNB())}, {'name': 'LP[RF] - DistilRoBERTa', 'performance': 0.8813559322033898, 'model': LPClassifier(base_estimator=RandomForestClassifier(random_state=42))}])\n"
     ]
    },
    {
     "data": {
      "application/vnd.jupyter.widget-view+json": {
       "model_id": "925a795673084bf5a594e30f35099680",
       "version_major": 2,
       "version_minor": 0
      },
      "text/plain": [
       "Methods & Algorithms:   0%|          | 0/32 [00:00<?, ?pair/s]"
      ]
     },
     "metadata": {},
     "output_type": "display_data"
    },
    {
     "name": "stdout",
     "output_type": "stream",
     "text": [
      "HOMERClassifier(base_estimator=LogisticRegression(max_iter=10000,\n",
      "                                                  random_state=42,\n",
      "                                                  solver='liblinear')) failed to fit due to This solver needs samples of at least 2 classes in the data, but the data contains only one class: np.int64(1)\n",
      "dict_values([{'name': 'MBR[LR] - SBERT', 'performance': 0.9345794392523364, 'model': MBRClassifier(base_estimator=LogisticRegression(max_iter=10000, random_state=42,\n",
      "                                                solver='liblinear'))}, {'name': 'BR[GNB] - SBERT', 'performance': 0.6666666666666666, 'model': BRClassifier(base_estimator=GaussianNB())}, {'name': 'CC[LR] - SBERT', 'performance': 0.8, 'model': CCClassifier(base_estimator=LogisticRegression(max_iter=10000, random_state=42,\n",
      "                                               solver='liblinear'))}, {'name': 'LP[RF] - SBERT', 'performance': 1.0, 'model': LPClassifier(base_estimator=RandomForestClassifier(random_state=42))}, {'name': 'BR[RF] - SBERT', 'performance': 0.8813559322033898, 'model': BRClassifier(base_estimator=RandomForestClassifier(random_state=42))}])\n"
     ]
    },
    {
     "data": {
      "application/vnd.jupyter.widget-view+json": {
       "model_id": "88059e97601445e0b0adb7d6d10bcb6e",
       "version_major": 2,
       "version_minor": 0
      },
      "text/plain": [
       "Methods & Algorithms:   0%|          | 0/32 [00:00<?, ?pair/s]"
      ]
     },
     "metadata": {},
     "output_type": "display_data"
    },
    {
     "name": "stdout",
     "output_type": "stream",
     "text": [
      "HOMERClassifier(base_estimator=LogisticRegression(max_iter=10000,\n",
      "                                                  random_state=42,\n",
      "                                                  solver='liblinear')) failed to fit due to This solver needs samples of at least 2 classes in the data, but the data contains only one class: np.int64(1)\n",
      "dict_values([{'name': 'MBR[RF] - ATT&CK-BERT', 'performance': 0.9019607843137255, 'model': MBRClassifier(base_estimator=RandomForestClassifier(random_state=42))}, {'name': 'MBR[DT] - ATT&CK-BERT', 'performance': 0.7692307692307693, 'model': MBRClassifier(base_estimator=DecisionTreeClassifier(random_state=42))}, {'name': 'RAKEL[LR] - ATT&CK-BERT', 'performance': 0.8363636363636363, 'model': RAkELClassifier(base_estimator=LogisticRegression(max_iter=10000,\n",
      "                                                  random_state=42,\n",
      "                                                  solver='liblinear'),\n",
      "                n_estimators=10)}, {'name': 'LP[RF] - ATT&CK-BERT', 'performance': 1.0, 'model': LPClassifier(base_estimator=RandomForestClassifier(random_state=42))}, {'name': 'LP[LR] - ATT&CK-BERT', 'performance': 0.8666666666666667, 'model': LPClassifier(base_estimator=LogisticRegression(max_iter=10000, random_state=42,\n",
      "                                               solver='liblinear'))}])\n",
      "==========================================================\n",
      "Operating systems Performance\n",
      "==========================================================\n",
      "Accuracy:\t82.40%\n",
      "Hamming Loss:\t0.048\n",
      "             precision recall f1-score support   auc\n",
      "linux             0.98   0.84     0.90   55.00  0.91\n",
      "mac os            1.00   0.62     0.77    8.00  0.81\n",
      "other             0.82   0.85     0.84   27.00  0.90\n",
      "unix              1.00   1.00     1.00   10.00  1.00\n",
      "windows           0.90   0.84     0.87   31.00  0.90\n",
      "micro avg         0.92   0.84     0.88  131.00  0.91\n",
      "macro avg         0.94   0.83     0.87  131.00  0.91\n",
      "weighted avg      0.93   0.84     0.88  131.00  0.91\n",
      "samples avg       0.84   0.84     0.83  131.00  0.91\n",
      "==========================================================\n",
      "\n"
     ]
    },
    {
     "data": {
      "application/vnd.jupyter.widget-view+json": {
       "model_id": "117cca6c9c8844cea99791fb573d5bd7",
       "version_major": 2,
       "version_minor": 0
      },
      "text/plain": [
       "Embedders:   0%|          | 0/7 [00:00<?, ?embedder/s]"
      ]
     },
     "metadata": {},
     "output_type": "display_data"
    },
    {
     "data": {
      "application/vnd.jupyter.widget-view+json": {
       "model_id": "743f30978f8b40e0bb6e0b51ca1d66e0",
       "version_major": 2,
       "version_minor": 0
      },
      "text/plain": [
       "Methods & Algorithms:   0%|          | 0/32 [00:00<?, ?pair/s]"
      ]
     },
     "metadata": {},
     "output_type": "display_data"
    },
    {
     "name": "stdout",
     "output_type": "stream",
     "text": [
      "RAkELClassifier(base_estimator=LogisticRegression(max_iter=10000,\n",
      "                                                  random_state=42,\n",
      "                                                  solver='liblinear'),\n",
      "                n_estimators=4) failed to fit due to Cannot take a larger sample than population when 'replace=False'\n",
      "RAkELClassifier(base_estimator=GaussianNB(), n_estimators=4) failed to fit due to Cannot take a larger sample than population when 'replace=False'\n",
      "RAkELClassifier(base_estimator=DecisionTreeClassifier(random_state=42),\n",
      "                n_estimators=4) failed to fit due to Cannot take a larger sample than population when 'replace=False'\n",
      "RAkELClassifier(base_estimator=RandomForestClassifier(random_state=42),\n",
      "                n_estimators=4) failed to fit due to Cannot take a larger sample than population when 'replace=False'\n",
      "HOMERClassifier(base_estimator=LogisticRegression(max_iter=10000,\n",
      "                                                  random_state=42,\n",
      "                                                  solver='liblinear')) failed to fit due to This solver needs samples of at least 2 classes in the data, but the data contains only one class: np.int64(1)\n",
      "dict_values([{'name': 'HOMER[RF] - GloVe.6B.50D', 'performance': 0.8118811881188119, 'model': HOMERClassifier(base_estimator=RandomForestClassifier(random_state=42))}, {'name': 'BR[RF] - GloVe.6B.50D', 'performance': 0.9241516966067864, 'model': BRClassifier(base_estimator=RandomForestClassifier(random_state=42))}])\n",
      "==========================================================\n",
      "Software Performance\n",
      "==========================================================\n",
      "Accuracy:\t89.19%\n",
      "Hamming Loss:\t0.108\n",
      "             precision recall f1-score support   auc\n",
      "databases         0.88   0.76     0.81  217.00  0.85\n",
      "other             0.90   0.95     0.92  486.00  0.85\n",
      "micro avg         0.89   0.89     0.89  703.00  0.89\n",
      "macro avg         0.89   0.85     0.87  703.00  0.85\n",
      "weighted avg      0.89   0.89     0.89  703.00  0.85\n",
      "samples avg       0.89   0.89     0.89  703.00  0.89\n",
      "==========================================================\n",
      "\n"
     ]
    },
    {
     "data": {
      "application/vnd.jupyter.widget-view+json": {
       "model_id": "4e5a8a748ad646c49b46562502a51740",
       "version_major": 2,
       "version_minor": 0
      },
      "text/plain": [
       "Methods & Algorithms:   0%|          | 0/32 [00:00<?, ?pair/s]"
      ]
     },
     "metadata": {},
     "output_type": "display_data"
    },
    {
     "name": "stdout",
     "output_type": "stream",
     "text": [
      "RAkELClassifier(base_estimator=LogisticRegression(max_iter=10000,\n",
      "                                                  random_state=42,\n",
      "                                                  solver='liblinear'),\n",
      "                n_estimators=4) failed to fit due to Cannot take a larger sample than population when 'replace=False'\n",
      "RAkELClassifier(base_estimator=GaussianNB(), n_estimators=4) failed to fit due to Cannot take a larger sample than population when 'replace=False'\n",
      "RAkELClassifier(base_estimator=DecisionTreeClassifier(random_state=42),\n",
      "                n_estimators=4) failed to fit due to Cannot take a larger sample than population when 'replace=False'\n",
      "RAkELClassifier(base_estimator=RandomForestClassifier(random_state=42),\n",
      "                n_estimators=4) failed to fit due to Cannot take a larger sample than population when 'replace=False'\n",
      "HOMERClassifier(base_estimator=LogisticRegression(max_iter=10000,\n",
      "                                                  random_state=42,\n",
      "                                                  solver='liblinear')) failed to fit due to This solver needs samples of at least 2 classes in the data, but the data contains only one class: np.int64(1)\n",
      "dict_values([{'name': 'MBR[RF] - GloVe.6B.100D', 'performance': 0.8270676691729323, 'model': MBRClassifier(base_estimator=RandomForestClassifier(random_state=42))}, {'name': 'MBR[RF] - GloVe.6B.100D', 'performance': 0.9314796425024826, 'model': MBRClassifier(base_estimator=RandomForestClassifier(random_state=42))}])\n",
      "==========================================================\n",
      "Software Performance\n",
      "==========================================================\n",
      "Accuracy:\t90.18%\n",
      "Hamming Loss:\t0.098\n",
      "             precision recall f1-score support   auc\n",
      "databases         0.91   0.76     0.83  217.00  0.86\n",
      "other             0.90   0.97     0.93  486.00  0.86\n",
      "micro avg         0.90   0.90     0.90  703.00  0.90\n",
      "macro avg         0.90   0.86     0.88  703.00  0.86\n",
      "weighted avg      0.90   0.90     0.90  703.00  0.86\n",
      "samples avg       0.90   0.90     0.90  703.00  0.90\n",
      "==========================================================\n",
      "\n"
     ]
    },
    {
     "data": {
      "application/vnd.jupyter.widget-view+json": {
       "model_id": "1ff1d9c8ebe04e288772316bd1ea610a",
       "version_major": 2,
       "version_minor": 0
      },
      "text/plain": [
       "Methods & Algorithms:   0%|          | 0/32 [00:00<?, ?pair/s]"
      ]
     },
     "metadata": {},
     "output_type": "display_data"
    },
    {
     "name": "stdout",
     "output_type": "stream",
     "text": [
      "RAkELClassifier(base_estimator=LogisticRegression(max_iter=10000,\n",
      "                                                  random_state=42,\n",
      "                                                  solver='liblinear'),\n",
      "                n_estimators=4) failed to fit due to Cannot take a larger sample than population when 'replace=False'\n",
      "RAkELClassifier(base_estimator=GaussianNB(), n_estimators=4) failed to fit due to Cannot take a larger sample than population when 'replace=False'\n",
      "RAkELClassifier(base_estimator=DecisionTreeClassifier(random_state=42),\n",
      "                n_estimators=4) failed to fit due to Cannot take a larger sample than population when 'replace=False'\n",
      "RAkELClassifier(base_estimator=RandomForestClassifier(random_state=42),\n",
      "                n_estimators=4) failed to fit due to Cannot take a larger sample than population when 'replace=False'\n",
      "HOMERClassifier(base_estimator=LogisticRegression(max_iter=10000,\n",
      "                                                  random_state=42,\n",
      "                                                  solver='liblinear')) failed to fit due to This solver needs samples of at least 2 classes in the data, but the data contains only one class: np.int64(1)\n",
      "dict_values([{'name': 'MBR[RF] - GloVe.6B.200D', 'performance': 0.8316831683168316, 'model': MBRClassifier(base_estimator=RandomForestClassifier(random_state=42))}, {'name': 'MBR[RF] - GloVe.6B.200D', 'performance': 0.9321357285429142, 'model': MBRClassifier(base_estimator=RandomForestClassifier(random_state=42))}])\n",
      "==========================================================\n",
      "Software Performance\n",
      "==========================================================\n",
      "Accuracy:\t90.33%\n",
      "Hamming Loss:\t0.097\n",
      "             precision recall f1-score support   auc\n",
      "databases         0.90   0.77     0.83  217.00  0.87\n",
      "other             0.91   0.96     0.93  486.00  0.87\n",
      "micro avg         0.90   0.90     0.90  703.00  0.90\n",
      "macro avg         0.90   0.87     0.88  703.00  0.87\n",
      "weighted avg      0.90   0.90     0.90  703.00  0.87\n",
      "samples avg       0.90   0.90     0.90  703.00  0.90\n",
      "==========================================================\n",
      "\n"
     ]
    },
    {
     "data": {
      "application/vnd.jupyter.widget-view+json": {
       "model_id": "ac106f85f2144744935de093f9a6d371",
       "version_major": 2,
       "version_minor": 0
      },
      "text/plain": [
       "Methods & Algorithms:   0%|          | 0/32 [00:00<?, ?pair/s]"
      ]
     },
     "metadata": {},
     "output_type": "display_data"
    },
    {
     "name": "stdout",
     "output_type": "stream",
     "text": [
      "RAkELClassifier(base_estimator=LogisticRegression(max_iter=10000,\n",
      "                                                  random_state=42,\n",
      "                                                  solver='liblinear'),\n",
      "                n_estimators=4) failed to fit due to Cannot take a larger sample than population when 'replace=False'\n",
      "RAkELClassifier(base_estimator=GaussianNB(), n_estimators=4) failed to fit due to Cannot take a larger sample than population when 'replace=False'\n",
      "RAkELClassifier(base_estimator=DecisionTreeClassifier(random_state=42),\n",
      "                n_estimators=4) failed to fit due to Cannot take a larger sample than population when 'replace=False'\n",
      "RAkELClassifier(base_estimator=RandomForestClassifier(random_state=42),\n",
      "                n_estimators=4) failed to fit due to Cannot take a larger sample than population when 'replace=False'\n",
      "HOMERClassifier(base_estimator=LogisticRegression(max_iter=10000,\n",
      "                                                  random_state=42,\n",
      "                                                  solver='liblinear')) failed to fit due to This solver needs samples of at least 2 classes in the data, but the data contains only one class: np.int64(1)\n",
      "dict_values([{'name': 'MBR[RF] - GloVe.6B.300D', 'performance': 0.8312958435207825, 'model': MBRClassifier(base_estimator=RandomForestClassifier(random_state=42))}, {'name': 'MBR[RF] - GloVe.6B.300D', 'performance': 0.9307923771313942, 'model': MBRClassifier(base_estimator=RandomForestClassifier(random_state=42))}])\n"
     ]
    },
    {
     "data": {
      "application/vnd.jupyter.widget-view+json": {
       "model_id": "df679573016044308c1d956ee16702fb",
       "version_major": 2,
       "version_minor": 0
      },
      "text/plain": [
       "Methods & Algorithms:   0%|          | 0/32 [00:00<?, ?pair/s]"
      ]
     },
     "metadata": {},
     "output_type": "display_data"
    },
    {
     "name": "stdout",
     "output_type": "stream",
     "text": [
      "RAkELClassifier(base_estimator=LogisticRegression(max_iter=10000,\n",
      "                                                  random_state=42,\n",
      "                                                  solver='liblinear'),\n",
      "                n_estimators=4) failed to fit due to Cannot take a larger sample than population when 'replace=False'\n",
      "RAkELClassifier(base_estimator=GaussianNB(), n_estimators=4) failed to fit due to Cannot take a larger sample than population when 'replace=False'\n",
      "RAkELClassifier(base_estimator=DecisionTreeClassifier(random_state=42),\n",
      "                n_estimators=4) failed to fit due to Cannot take a larger sample than population when 'replace=False'\n",
      "RAkELClassifier(base_estimator=RandomForestClassifier(random_state=42),\n",
      "                n_estimators=4) failed to fit due to Cannot take a larger sample than population when 'replace=False'\n",
      "HOMERClassifier(base_estimator=LogisticRegression(max_iter=10000,\n",
      "                                                  random_state=42,\n",
      "                                                  solver='liblinear')) failed to fit due to This solver needs samples of at least 2 classes in the data, but the data contains only one class: np.int64(1)\n",
      "dict_values([{'name': 'MBR[RF] - DistilRoBERTa', 'performance': 0.7979539641943734, 'model': MBRClassifier(base_estimator=RandomForestClassifier(random_state=42))}, {'name': 'MBR[RF] - DistilRoBERTa', 'performance': 0.9221674876847291, 'model': MBRClassifier(base_estimator=RandomForestClassifier(random_state=42))}])\n"
     ]
    },
    {
     "data": {
      "application/vnd.jupyter.widget-view+json": {
       "model_id": "8526f63fd5ad44dda7809997a49a5781",
       "version_major": 2,
       "version_minor": 0
      },
      "text/plain": [
       "Methods & Algorithms:   0%|          | 0/32 [00:00<?, ?pair/s]"
      ]
     },
     "metadata": {},
     "output_type": "display_data"
    },
    {
     "name": "stdout",
     "output_type": "stream",
     "text": [
      "RAkELClassifier(base_estimator=LogisticRegression(max_iter=10000,\n",
      "                                                  random_state=42,\n",
      "                                                  solver='liblinear'),\n",
      "                n_estimators=4) failed to fit due to Cannot take a larger sample than population when 'replace=False'\n",
      "RAkELClassifier(base_estimator=GaussianNB(), n_estimators=4) failed to fit due to Cannot take a larger sample than population when 'replace=False'\n",
      "RAkELClassifier(base_estimator=DecisionTreeClassifier(random_state=42),\n",
      "                n_estimators=4) failed to fit due to Cannot take a larger sample than population when 'replace=False'\n",
      "RAkELClassifier(base_estimator=RandomForestClassifier(random_state=42),\n",
      "                n_estimators=4) failed to fit due to Cannot take a larger sample than population when 'replace=False'\n",
      "HOMERClassifier(base_estimator=LogisticRegression(max_iter=10000,\n",
      "                                                  random_state=42,\n",
      "                                                  solver='liblinear')) failed to fit due to This solver needs samples of at least 2 classes in the data, but the data contains only one class: np.int64(1)\n",
      "dict_values([{'name': 'MBR[LR] - SBERT', 'performance': 0.8065268065268065, 'model': MBRClassifier(base_estimator=LogisticRegression(max_iter=10000, random_state=42,\n",
      "                                                solver='liblinear'))}, {'name': 'BR[RF] - SBERT', 'performance': 0.9241379310344827, 'model': BRClassifier(base_estimator=RandomForestClassifier(random_state=42))}])\n"
     ]
    },
    {
     "data": {
      "application/vnd.jupyter.widget-view+json": {
       "model_id": "0f1e7f0edf8849e197599cc6a6f7e394",
       "version_major": 2,
       "version_minor": 0
      },
      "text/plain": [
       "Methods & Algorithms:   0%|          | 0/32 [00:00<?, ?pair/s]"
      ]
     },
     "metadata": {},
     "output_type": "display_data"
    },
    {
     "name": "stdout",
     "output_type": "stream",
     "text": [
      "RAkELClassifier(base_estimator=LogisticRegression(max_iter=10000,\n",
      "                                                  random_state=42,\n",
      "                                                  solver='liblinear'),\n",
      "                n_estimators=4) failed to fit due to Cannot take a larger sample than population when 'replace=False'\n",
      "RAkELClassifier(base_estimator=GaussianNB(), n_estimators=4) failed to fit due to Cannot take a larger sample than population when 'replace=False'\n",
      "RAkELClassifier(base_estimator=DecisionTreeClassifier(random_state=42),\n",
      "                n_estimators=4) failed to fit due to Cannot take a larger sample than population when 'replace=False'\n",
      "RAkELClassifier(base_estimator=RandomForestClassifier(random_state=42),\n",
      "                n_estimators=4) failed to fit due to Cannot take a larger sample than population when 'replace=False'\n",
      "HOMERClassifier(base_estimator=LogisticRegression(max_iter=10000,\n",
      "                                                  random_state=42,\n",
      "                                                  solver='liblinear')) failed to fit due to This solver needs samples of at least 2 classes in the data, but the data contains only one class: np.int64(1)\n",
      "dict_values([{'name': 'MBR[RF] - ATT&CK-BERT', 'performance': 0.8170426065162907, 'model': MBRClassifier(base_estimator=RandomForestClassifier(random_state=42))}, {'name': 'MBR[RF] - ATT&CK-BERT', 'performance': 0.9275074478649454, 'model': MBRClassifier(base_estimator=RandomForestClassifier(random_state=42))}])\n"
     ]
    },
    {
     "data": {
      "application/vnd.jupyter.widget-view+json": {
       "model_id": "8257fa24ea9448ab91dd1953ccf6e217",
       "version_major": 2,
       "version_minor": 0
      },
      "text/plain": [
       "Embedders:   0%|          | 0/7 [00:00<?, ?embedder/s]"
      ]
     },
     "metadata": {},
     "output_type": "display_data"
    },
    {
     "data": {
      "application/vnd.jupyter.widget-view+json": {
       "model_id": "21feb7b8069f4d4c874eeccb21de2aec",
       "version_major": 2,
       "version_minor": 0
      },
      "text/plain": [
       "Methods & Algorithms:   0%|          | 0/32 [00:00<?, ?pair/s]"
      ]
     },
     "metadata": {},
     "output_type": "display_data"
    },
    {
     "name": "stdout",
     "output_type": "stream",
     "text": [
      "HOMERClassifier(base_estimator=LogisticRegression(max_iter=10000,\n",
      "                                                  random_state=42,\n",
      "                                                  solver='liblinear')) failed to fit due to This solver needs samples of at least 2 classes in the data, but the data contains only one class: np.int64(1)\n",
      "dict_values([{'name': 'LP[RF] - GloVe.6B.50D', 'performance': 0.8078602620087336, 'model': LPClassifier(base_estimator=RandomForestClassifier(random_state=42))}, {'name': 'MBR[RF] - GloVe.6B.50D', 'performance': 0.5185185185185185, 'model': MBRClassifier(base_estimator=RandomForestClassifier(random_state=42))}, {'name': 'MBR[RF] - GloVe.6B.50D', 'performance': 0.6486486486486487, 'model': MBRClassifier(base_estimator=RandomForestClassifier(random_state=42))}, {'name': 'CC[RF] - GloVe.6B.50D', 'performance': 0.6222222222222222, 'model': CCClassifier(base_estimator=RandomForestClassifier(random_state=42))}])\n",
      "==========================================================\n",
      "Hardware Performance\n",
      "==========================================================\n",
      "Accuracy:\t69.27%\n",
      "Hamming Loss:\t0.139\n",
      "                    precision recall f1-score support   auc\n",
      "computer                 0.78   0.84     0.81  220.00  0.73\n",
      "computer components      0.70   0.41     0.52   17.00  0.70\n",
      "computer networking      1.00   0.48     0.65   25.00  0.74\n",
      "other                    0.56   0.69     0.62  101.00  0.74\n",
      "micro avg                0.71   0.75     0.73  363.00  0.83\n",
      "macro avg                0.76   0.61     0.65  363.00  0.73\n",
      "weighted avg             0.73   0.75     0.73  363.00  0.73\n",
      "samples avg              0.73   0.75     0.73  363.00  0.83\n",
      "==========================================================\n",
      "\n"
     ]
    },
    {
     "data": {
      "application/vnd.jupyter.widget-view+json": {
       "model_id": "80ad44410e7c4c9d8ce9bafa73b446d3",
       "version_major": 2,
       "version_minor": 0
      },
      "text/plain": [
       "Methods & Algorithms:   0%|          | 0/32 [00:00<?, ?pair/s]"
      ]
     },
     "metadata": {},
     "output_type": "display_data"
    },
    {
     "name": "stdout",
     "output_type": "stream",
     "text": [
      "HOMERClassifier(base_estimator=LogisticRegression(max_iter=10000,\n",
      "                                                  random_state=42,\n",
      "                                                  solver='liblinear')) failed to fit due to This solver needs samples of at least 2 classes in the data, but the data contains only one class: np.int64(1)\n",
      "dict_values([{'name': 'LP[RF] - GloVe.6B.100D', 'performance': 0.8173913043478261, 'model': LPClassifier(base_estimator=RandomForestClassifier(random_state=42))}, {'name': 'LP[LR] - GloVe.6B.100D', 'performance': 0.5641025641025641, 'model': LPClassifier(base_estimator=LogisticRegression(max_iter=10000, random_state=42,\n",
      "                                               solver='liblinear'))}, {'name': 'MBR[RF] - GloVe.6B.100D', 'performance': 0.6153846153846154, 'model': MBRClassifier(base_estimator=RandomForestClassifier(random_state=42))}, {'name': 'MBR[RF] - GloVe.6B.100D', 'performance': 0.63, 'model': MBRClassifier(base_estimator=RandomForestClassifier(random_state=42))}])\n",
      "==========================================================\n",
      "Hardware Performance\n",
      "==========================================================\n",
      "Accuracy:\t69.83%\n",
      "Hamming Loss:\t0.133\n",
      "                    precision recall f1-score support   auc\n",
      "computer                 0.78   0.85     0.82  220.00  0.74\n",
      "computer components      0.50   0.65     0.56   17.00  0.81\n",
      "computer networking      0.86   0.48     0.62   25.00  0.74\n",
      "other                    0.64   0.62     0.63  101.00  0.74\n",
      "micro avg                0.73   0.75     0.74  363.00  0.83\n",
      "macro avg                0.69   0.65     0.66  363.00  0.76\n",
      "weighted avg             0.73   0.75     0.74  363.00  0.74\n",
      "samples avg              0.73   0.75     0.74  363.00  0.83\n",
      "==========================================================\n",
      "\n"
     ]
    },
    {
     "data": {
      "application/vnd.jupyter.widget-view+json": {
       "model_id": "7cda75f572fc48aa9fb09b047278d1ad",
       "version_major": 2,
       "version_minor": 0
      },
      "text/plain": [
       "Methods & Algorithms:   0%|          | 0/32 [00:00<?, ?pair/s]"
      ]
     },
     "metadata": {},
     "output_type": "display_data"
    },
    {
     "name": "stdout",
     "output_type": "stream",
     "text": [
      "HOMERClassifier(base_estimator=LogisticRegression(max_iter=10000,\n",
      "                                                  random_state=42,\n",
      "                                                  solver='liblinear')) failed to fit due to This solver needs samples of at least 2 classes in the data, but the data contains only one class: np.int64(1)\n",
      "dict_values([{'name': 'LP[RF] - GloVe.6B.200D', 'performance': 0.8104575163398693, 'model': LPClassifier(base_estimator=RandomForestClassifier(random_state=42))}, {'name': 'CC[LR] - GloVe.6B.200D', 'performance': 0.5641025641025641, 'model': CCClassifier(base_estimator=LogisticRegression(max_iter=10000, random_state=42,\n",
      "                                               solver='liblinear'))}, {'name': 'LP[RF] - GloVe.6B.200D', 'performance': 0.6111111111111112, 'model': LPClassifier(base_estimator=RandomForestClassifier(random_state=42))}, {'name': 'CC[RF] - GloVe.6B.200D', 'performance': 0.6095238095238096, 'model': CCClassifier(base_estimator=RandomForestClassifier(random_state=42))}])\n"
     ]
    },
    {
     "data": {
      "application/vnd.jupyter.widget-view+json": {
       "model_id": "17213934cef84e539c6db6039ada74a0",
       "version_major": 2,
       "version_minor": 0
      },
      "text/plain": [
       "Methods & Algorithms:   0%|          | 0/32 [00:00<?, ?pair/s]"
      ]
     },
     "metadata": {},
     "output_type": "display_data"
    },
    {
     "name": "stdout",
     "output_type": "stream",
     "text": [
      "HOMERClassifier(base_estimator=LogisticRegression(max_iter=10000,\n",
      "                                                  random_state=42,\n",
      "                                                  solver='liblinear')) failed to fit due to This solver needs samples of at least 2 classes in the data, but the data contains only one class: np.int64(1)\n",
      "dict_values([{'name': 'LP[RF] - GloVe.6B.300D', 'performance': 0.8111587982832618, 'model': LPClassifier(base_estimator=RandomForestClassifier(random_state=42))}, {'name': 'MBR[DT] - GloVe.6B.300D', 'performance': 0.6, 'model': MBRClassifier(base_estimator=DecisionTreeClassifier(random_state=42))}, {'name': 'MBR[GNB] - GloVe.6B.300D', 'performance': 0.6530612244897959, 'model': MBRClassifier(base_estimator=GaussianNB())}, {'name': 'MBR[RF] - GloVe.6B.300D', 'performance': 0.6161616161616161, 'model': MBRClassifier(base_estimator=RandomForestClassifier(random_state=42))}])\n",
      "==========================================================\n",
      "Hardware Performance\n",
      "==========================================================\n",
      "Accuracy:\t66.48%\n",
      "Hamming Loss:\t0.135\n",
      "                    precision recall f1-score support   auc\n",
      "computer                 0.77   0.86     0.81  220.00  0.72\n",
      "computer components      0.69   0.53     0.60   17.00  0.76\n",
      "computer networking      0.67   0.64     0.65   25.00  0.81\n",
      "other                    0.63   0.60     0.62  101.00  0.73\n",
      "micro avg                0.72   0.76     0.74  363.00  0.83\n",
      "macro avg                0.69   0.66     0.67  363.00  0.76\n",
      "weighted avg             0.72   0.76     0.74  363.00  0.73\n",
      "samples avg              0.71   0.76     0.73  363.00  0.83\n",
      "==========================================================\n",
      "\n"
     ]
    },
    {
     "data": {
      "application/vnd.jupyter.widget-view+json": {
       "model_id": "21016bca0e684230a4a48e6196243540",
       "version_major": 2,
       "version_minor": 0
      },
      "text/plain": [
       "Methods & Algorithms:   0%|          | 0/32 [00:00<?, ?pair/s]"
      ]
     },
     "metadata": {},
     "output_type": "display_data"
    },
    {
     "name": "stdout",
     "output_type": "stream",
     "text": [
      "HOMERClassifier(base_estimator=LogisticRegression(max_iter=10000,\n",
      "                                                  random_state=42,\n",
      "                                                  solver='liblinear')) failed to fit due to This solver needs samples of at least 2 classes in the data, but the data contains only one class: np.int64(1)\n",
      "dict_values([{'name': 'BR[RF] - DistilRoBERTa', 'performance': 0.8411633109619687, 'model': BRClassifier(base_estimator=RandomForestClassifier(random_state=42))}, {'name': 'BR[GNB] - DistilRoBERTa', 'performance': 0.5161290322580645, 'model': BRClassifier(base_estimator=GaussianNB())}, {'name': 'MBR[GNB] - DistilRoBERTa', 'performance': 0.6976744186046512, 'model': MBRClassifier(base_estimator=GaussianNB())}, {'name': 'MBR[LR] - DistilRoBERTa', 'performance': 0.6666666666666666, 'model': MBRClassifier(base_estimator=LogisticRegression(max_iter=10000, random_state=42,\n",
      "                                                solver='liblinear'))}])\n",
      "==========================================================\n",
      "Hardware Performance\n",
      "==========================================================\n",
      "Accuracy:\t70.11%\n",
      "Hamming Loss:\t0.114\n",
      "                    precision recall f1-score support   auc\n",
      "computer                 0.83   0.85     0.84  220.00  0.79\n",
      "computer components      0.57   0.47     0.52   17.00  0.73\n",
      "computer networking      0.83   0.60     0.70   25.00  0.80\n",
      "other                    0.70   0.63     0.67  101.00  0.76\n",
      "micro avg                0.79   0.76     0.77  363.00  0.84\n",
      "macro avg                0.73   0.64     0.68  363.00  0.77\n",
      "weighted avg             0.78   0.76     0.77  363.00  0.78\n",
      "samples avg              0.73   0.76     0.74  363.00  0.84\n",
      "==========================================================\n",
      "\n"
     ]
    },
    {
     "data": {
      "application/vnd.jupyter.widget-view+json": {
       "model_id": "7e6510097a8344f88631cce93336961e",
       "version_major": 2,
       "version_minor": 0
      },
      "text/plain": [
       "Methods & Algorithms:   0%|          | 0/32 [00:00<?, ?pair/s]"
      ]
     },
     "metadata": {},
     "output_type": "display_data"
    },
    {
     "name": "stdout",
     "output_type": "stream",
     "text": [
      "HOMERClassifier(base_estimator=LogisticRegression(max_iter=10000,\n",
      "                                                  random_state=42,\n",
      "                                                  solver='liblinear')) failed to fit due to This solver needs samples of at least 2 classes in the data, but the data contains only one class: np.int64(1)\n",
      "dict_values([{'name': 'MBR[RF] - SBERT', 'performance': 0.8447488584474886, 'model': MBRClassifier(base_estimator=RandomForestClassifier(random_state=42))}, {'name': 'MBR[GNB] - SBERT', 'performance': 0.625, 'model': MBRClassifier(base_estimator=GaussianNB())}, {'name': 'MBR[LR] - SBERT', 'performance': 0.7, 'model': MBRClassifier(base_estimator=LogisticRegression(max_iter=10000, random_state=42,\n",
      "                                                solver='liblinear'))}, {'name': 'MBR[GNB] - SBERT', 'performance': 0.6699029126213593, 'model': MBRClassifier(base_estimator=GaussianNB())}])\n",
      "==========================================================\n",
      "Hardware Performance\n",
      "==========================================================\n",
      "Accuracy:\t71.79%\n",
      "Hamming Loss:\t0.112\n",
      "                    precision recall f1-score support   auc\n",
      "computer                 0.85   0.84     0.84  220.00  0.80\n",
      "computer components      0.67   0.59     0.62   17.00  0.79\n",
      "computer networking      0.93   0.56     0.70   25.00  0.78\n",
      "other                    0.66   0.68     0.67  101.00  0.77\n",
      "micro avg                0.79   0.77     0.78  363.00  0.85\n",
      "macro avg                0.78   0.67     0.71  363.00  0.78\n",
      "weighted avg             0.79   0.77     0.78  363.00  0.79\n",
      "samples avg              0.74   0.77     0.75  363.00  0.85\n",
      "==========================================================\n",
      "\n"
     ]
    },
    {
     "data": {
      "application/vnd.jupyter.widget-view+json": {
       "model_id": "08bf75cc6ec64245b07e37a396314914",
       "version_major": 2,
       "version_minor": 0
      },
      "text/plain": [
       "Methods & Algorithms:   0%|          | 0/32 [00:00<?, ?pair/s]"
      ]
     },
     "metadata": {},
     "output_type": "display_data"
    },
    {
     "name": "stdout",
     "output_type": "stream",
     "text": [
      "HOMERClassifier(base_estimator=LogisticRegression(max_iter=10000,\n",
      "                                                  random_state=42,\n",
      "                                                  solver='liblinear')) failed to fit due to This solver needs samples of at least 2 classes in the data, but the data contains only one class: np.int64(1)\n",
      "dict_values([{'name': 'BR[RF] - ATT&CK-BERT', 'performance': 0.8292682926829268, 'model': BRClassifier(base_estimator=RandomForestClassifier(random_state=42))}, {'name': 'BR[GNB] - ATT&CK-BERT', 'performance': 0.5957446808510638, 'model': BRClassifier(base_estimator=GaussianNB())}, {'name': 'MBR[LR] - ATT&CK-BERT', 'performance': 0.6829268292682927, 'model': MBRClassifier(base_estimator=LogisticRegression(max_iter=10000, random_state=42,\n",
      "                                                solver='liblinear'))}, {'name': 'MBR[GNB] - ATT&CK-BERT', 'performance': 0.6810810810810811, 'model': MBRClassifier(base_estimator=GaussianNB())}])\n"
     ]
    }
   ],
   "source": [
    "with open(os.getenv(\"ONE_STEP_CATEGORIES_TRAIN_CSV\"), \"rb\") as f:\n",
    "    train = pd.read_csv(f)\n",
    "    train = train.assign(\n",
    "        tweet=lambda df: df[\"tweet\"].apply(func=ast.literal_eval),\n",
    "        watson=lambda df: df[\"watson\"].apply(func=ast.literal_eval),\n",
    "        urls=lambda df: df[\"urls\"].apply(func=ast.literal_eval),\n",
    "        watson_list=lambda df: df[\"watson_list\"].apply(func=ast.literal_eval),\n",
    "        target=lambda df: df[\"target\"].apply(func=ast.literal_eval),\n",
    "    )\n",
    "    train[\"text\"] = [su.replace_txt_components(t) for t in train[\"text\"]]\n",
    "    for idx, relevant in enumerate(train[\"relevant\"]):\n",
    "        if not relevant and \"other\" not in train.loc[idx, \"target\"]:\n",
    "            train.loc[idx, \"target\"] = [\"other\"]\n",
    "\n",
    "for module_config in tqdm(SYSTEM_MODULES, desc=\"Modules\", unit=\"module\"):\n",
    "    f1 = 0\n",
    "    best_module = None\n",
    "\n",
    "    for embedder in tqdm(EMBEDDING_SOURCES, desc=\"Embedders\", unit=\"embedder\"):\n",
    "        tweets = train.assign(target=lambda df: df[\"target\"].apply(func=su.translate_src_categories, args=(module_config[\"targets\"],)))\n",
    "\n",
    "        if module_config[\"level\"] != \"general\":\n",
    "            tweets = tweets[tweets[\"watson_list\"].apply(lambda x: module_config[\"level\"] in x)].reset_index(drop=True)\n",
    "\n",
    "        tweets[\"text\"] = [su.replace_txt_components(t) for t in tweets[\"text\"]]\n",
    "        texts = tweets[\"text\"]\n",
    "\n",
    "        x = su.preprocess_texts(\n",
    "            list_str=texts,\n",
    "            model_path=embedder[\"model-path\"],\n",
    "            embedding_dim=embedder[\"embedding-dim\"],\n",
    "        )\n",
    "\n",
    "        targets = tweets[\"target\"]\n",
    "        mlb = preprocessing.MultiLabelBinarizer()\n",
    "        y = mlb.fit_transform(y=targets)\n",
    "        _, y_mcp = np.unique(ar=y, axis=0, return_inverse=True)\n",
    "\n",
    "        X_train, X_val, y_train, y_val = train_test_split(\n",
    "            x,\n",
    "            y,\n",
    "            test_size=TEST_SIZE,\n",
    "            random_state=RANDOM_STATE,\n",
    "            shuffle=True,\n",
    "            stratify=y_mcp,\n",
    "        )\n",
    "\n",
    "        models = {}\n",
    "        trained_models = []\n",
    "        for mtd_name, alg_name in product(\n",
    "            CLASSIFICATION_METHODS,\n",
    "            CLASSIFICATION_ALGORITHM,\n",
    "            desc=\"Methods & Algorithms\",\n",
    "            unit=\"pair\",\n",
    "        ):\n",
    "            model = CLASSIFICATION_METHODS[mtd_name](CLASSIFICATION_ALGORITHM[alg_name])\n",
    "            \n",
    "            try:\n",
    "                model.fit(X_train, y_train)\n",
    "                model_name = f\"{mtd_name.upper()}[{alg_name.upper()}] - {embedder['name']}\"\n",
    "            except Exception as e:\n",
    "                print(f\"{model} failed to fit due to {e}\")\n",
    "                model_name = None\n",
    "                \n",
    "                continue\n",
    "            \n",
    "            if model_name is not None:\n",
    "                trained_models.append(model_name)\n",
    "                models[model_name] = {\n",
    "                    \"model\": model,\n",
    "                    \"assess\": model.evaluate(X_val, y_val),\n",
    "                }\n",
    "\n",
    "        top_performing_models = su.extract_models(mlb.classes_, models, \"f1-score\")\n",
    "        print(top_performing_models.values())\n",
    "        module = ModuleSystem(top_performing_models, mlb)\n",
    "        y_val_pred = module.predict(X_val)\n",
    "        validation_results = su.assess(y_val, y_val_pred)\n",
    "\n",
    "        # Convert the predicted labels back to the original format using MultiLabelBinarizer\n",
    "        if validation_results[\"report\"][\"macro avg\"][\"f1-score\"] > f1:\n",
    "            f1 = validation_results[\"report\"][\"macro avg\"][\"f1-score\"]\n",
    "            best_module = copy(module)\n",
    "            print(\"==========================================================\")\n",
    "            print(f\"{module_config['level'].capitalize()} Performance\")\n",
    "            print(\"==========================================================\")\n",
    "            print(f\"Accuracy:\\t{validation_results['accuracy'] * 100:.2f}%\")\n",
    "            print(f\"Hamming Loss:\\t{validation_results['hamming_loss']:.3f}\")\n",
    "            report = pd.DataFrame(validation_results[\"report\"])\n",
    "            report.columns = list(module.classes) + [\"micro avg\", \"macro avg\", \"weighted avg\", \"samples avg\"]\n",
    "            report = (\n",
    "                report.transpose()\n",
    "                .map(lambda x: f\"{x:.2f}\" if isinstance(x, float) else x)\n",
    "                .to_string()\n",
    "            )\n",
    "            print(f\"{report}\")\n",
    "            print(\"==========================================================\\n\")\n",
    "\n",
    "        model_dictionary_filename = f\"{os.getenv('MAPPINGS_DIR')}/{module_config['level'].capitalize()}.{embedder['name']}\"\n",
    "        with open(f\"{model_dictionary_filename}.pickle\", \"wb\") as f:\n",
    "           pickle.dump(models, f)\n",
    "\n",
    "        del (\n",
    "            tweets,\n",
    "            texts,\n",
    "            x,\n",
    "            targets,\n",
    "            mlb,\n",
    "            y,\n",
    "            y_mcp,\n",
    "            X_train,\n",
    "            X_val,\n",
    "            y_train,\n",
    "            y_val,\n",
    "            models,\n",
    "            trained_models,\n",
    "            top_performing_models,\n",
    "            module,\n",
    "            y_val_pred,\n",
    "            validation_results,\n",
    "            model_dictionary_filename,\n",
    "        )\n",
    "\n",
    "    module_filename = f\"{os.getenv('MODELS_DIR')}/{''.join(module_config['level'].capitalize().split(' '))}\"\n",
    "    with open(f\"{module_filename}.pickle\", \"wb\") as f:\n",
    "       pickle.dump(best_module, f)"
   ]
  },
  {
   "cell_type": "markdown",
   "id": "1df7d58be389a97",
   "metadata": {},
   "source": [
    "# 7. Model Evaluation"
   ]
  },
  {
   "cell_type": "code",
   "execution_count": 7,
   "id": "739a600adf39b195",
   "metadata": {
    "ExecuteTime": {
     "end_time": "2025-04-02T15:07:58.452446Z",
     "start_time": "2025-04-02T15:07:55.759800Z"
    }
   },
   "outputs": [
    {
     "name": "stdout",
     "output_type": "stream",
     "text": [
      "Threat Tweets: 4067\n"
     ]
    },
    {
     "data": {
      "text/html": [
       "<div>\n",
       "<style scoped>\n",
       "    .dataframe tbody tr th:only-of-type {\n",
       "        vertical-align: middle;\n",
       "    }\n",
       "\n",
       "    .dataframe tbody tr th {\n",
       "        vertical-align: top;\n",
       "    }\n",
       "\n",
       "    .dataframe thead th {\n",
       "        text-align: right;\n",
       "    }\n",
       "</style>\n",
       "<table border=\"1\" class=\"dataframe\">\n",
       "  <thead>\n",
       "    <tr style=\"text-align: right;\">\n",
       "      <th></th>\n",
       "      <th>Unnamed: 0</th>\n",
       "      <th>_id</th>\n",
       "      <th>date</th>\n",
       "      <th>id</th>\n",
       "      <th>relevant</th>\n",
       "      <th>text</th>\n",
       "      <th>tweet</th>\n",
       "      <th>type</th>\n",
       "      <th>watson</th>\n",
       "      <th>annotation</th>\n",
       "      <th>urls</th>\n",
       "      <th>destination_url</th>\n",
       "      <th>valid_certificate</th>\n",
       "      <th>watson_list</th>\n",
       "      <th>target</th>\n",
       "    </tr>\n",
       "  </thead>\n",
       "  <tbody>\n",
       "    <tr>\n",
       "      <th>0</th>\n",
       "      <td>1533</td>\n",
       "      <td>b'5b8e2e39bb325e2996c66aab'</td>\n",
       "      <td>2018-09-04 07:03:16+00:00</td>\n",
       "      <td>1036872307057352704</td>\n",
       "      <td>True</td>\n",
       "      <td>threatmeter: irisgraphic sql injection vulnera...</td>\n",
       "      <td>{'created_at': 'Tue Sep 04 07:03:16 +0000 2018...</td>\n",
       "      <td>vulnerability</td>\n",
       "      <td>{'technology and computing': {'computer securi...</td>\n",
       "      <td>threat</td>\n",
       "      <td>[https://ift.tt/2wNsX91]</td>\n",
       "      <td>https://cxsecurity.com/issue/WLB-2018090028</td>\n",
       "      <td>True</td>\n",
       "      <td>[technology and computing, computer security, ...</td>\n",
       "      <td>[antivirus and malware, software, databases, c...</td>\n",
       "    </tr>\n",
       "    <tr>\n",
       "      <th>1</th>\n",
       "      <td>59</td>\n",
       "      <td>b'5b887f63bb325e65fa7e7922'</td>\n",
       "      <td>2018-08-30 23:36:02+00:00</td>\n",
       "      <td>1035310204102078464</td>\n",
       "      <td>False</td>\n",
       "      <td>Download this how-to guide on preparing for an...</td>\n",
       "      <td>{'created_at': 'Thu Aug 30 23:36:02 +0000 2018...</td>\n",
       "      <td>ransomware</td>\n",
       "      <td>{'technology and computing': {'computer securi...</td>\n",
       "      <td>business</td>\n",
       "      <td>[http://bit.ly/2wuUTyT]</td>\n",
       "      <td>https://logrhythm.com/the-ransomware-threat-eb...</td>\n",
       "      <td>True</td>\n",
       "      <td>[technology and computing, computer security, ...</td>\n",
       "      <td>[antivirus and malware, computer security]</td>\n",
       "    </tr>\n",
       "    <tr>\n",
       "      <th>2</th>\n",
       "      <td>10824</td>\n",
       "      <td>b'5b92cad0bb325e521c5ae40a'</td>\n",
       "      <td>2018-09-07 19:00:31+00:00</td>\n",
       "      <td>1038139971562078208</td>\n",
       "      <td>True</td>\n",
       "      <td>The US Justice Department is poised to charge ...</td>\n",
       "      <td>{'created_at': 'Fri Sep 07 19:00:31 +0000 2018...</td>\n",
       "      <td>ransomware</td>\n",
       "      <td>{'law, govt and politics': {'government': {}, ...</td>\n",
       "      <td>threat</td>\n",
       "      <td>[https://twitter.com/i/web/status/103813997156...</td>\n",
       "      <td>https://twitter.com/i/web/status/1038139971562...</td>\n",
       "      <td>True</td>\n",
       "      <td>[law, govt and politics, government, armed for...</td>\n",
       "      <td>[antivirus and malware, computer security]</td>\n",
       "    </tr>\n",
       "    <tr>\n",
       "      <th>3</th>\n",
       "      <td>2104</td>\n",
       "      <td>b'5b90af51bb325e70071868e2'</td>\n",
       "      <td>2018-09-06 04:38:41+00:00</td>\n",
       "      <td>1037560694789554176</td>\n",
       "      <td>False</td>\n",
       "      <td>3) Control and monitor compliance. Also, in...</td>\n",
       "      <td>{'created_at': 'Thu Sep 06 04:38:41 +0000 2018...</td>\n",
       "      <td>general</td>\n",
       "      <td>{'finance': {'personal finance': {'insurance':...</td>\n",
       "      <td>NaN</td>\n",
       "      <td>[https://twitter.com/i/web/status/103756069478...</td>\n",
       "      <td>https://twitter.com/i/web/status/1037560694789...</td>\n",
       "      <td>True</td>\n",
       "      <td>[finance, personal finance, insurance, busines...</td>\n",
       "      <td>[other]</td>\n",
       "    </tr>\n",
       "    <tr>\n",
       "      <th>4</th>\n",
       "      <td>12292</td>\n",
       "      <td>b'5b935e61bb325e521c5aeab9'</td>\n",
       "      <td>2018-09-08 05:30:09+00:00</td>\n",
       "      <td>1038298421893967877</td>\n",
       "      <td>True</td>\n",
       "      <td>Ransomware down, but not out, report reveals</td>\n",
       "      <td>{'created_at': 'Sat Sep 08 05:30:09 +0000 2018...</td>\n",
       "      <td>ransomware</td>\n",
       "      <td>{'business and industrial': {'company': {'annu...</td>\n",
       "      <td>threat</td>\n",
       "      <td>[http://fsecure.smh.re/4AS]</td>\n",
       "      <td>http://fsecure.smh.re/4AS</td>\n",
       "      <td>True</td>\n",
       "      <td>[business and industrial, company, annual repo...</td>\n",
       "      <td>[databases, software]</td>\n",
       "    </tr>\n",
       "  </tbody>\n",
       "</table>\n",
       "</div>"
      ],
      "text/plain": [
       "   Unnamed: 0                          _id                       date  \\\n",
       "0        1533  b'5b8e2e39bb325e2996c66aab'  2018-09-04 07:03:16+00:00   \n",
       "1          59  b'5b887f63bb325e65fa7e7922'  2018-08-30 23:36:02+00:00   \n",
       "2       10824  b'5b92cad0bb325e521c5ae40a'  2018-09-07 19:00:31+00:00   \n",
       "3        2104  b'5b90af51bb325e70071868e2'  2018-09-06 04:38:41+00:00   \n",
       "4       12292  b'5b935e61bb325e521c5aeab9'  2018-09-08 05:30:09+00:00   \n",
       "\n",
       "                    id  relevant  \\\n",
       "0  1036872307057352704      True   \n",
       "1  1035310204102078464     False   \n",
       "2  1038139971562078208      True   \n",
       "3  1037560694789554176     False   \n",
       "4  1038298421893967877      True   \n",
       "\n",
       "                                                text  \\\n",
       "0  threatmeter: irisgraphic sql injection vulnera...   \n",
       "1  Download this how-to guide on preparing for an...   \n",
       "2  The US Justice Department is poised to charge ...   \n",
       "3     3) Control and monitor compliance. Also, in...   \n",
       "4      Ransomware down, but not out, report reveals    \n",
       "\n",
       "                                               tweet           type  \\\n",
       "0  {'created_at': 'Tue Sep 04 07:03:16 +0000 2018...  vulnerability   \n",
       "1  {'created_at': 'Thu Aug 30 23:36:02 +0000 2018...     ransomware   \n",
       "2  {'created_at': 'Fri Sep 07 19:00:31 +0000 2018...     ransomware   \n",
       "3  {'created_at': 'Thu Sep 06 04:38:41 +0000 2018...        general   \n",
       "4  {'created_at': 'Sat Sep 08 05:30:09 +0000 2018...     ransomware   \n",
       "\n",
       "                                              watson annotation  \\\n",
       "0  {'technology and computing': {'computer securi...     threat   \n",
       "1  {'technology and computing': {'computer securi...   business   \n",
       "2  {'law, govt and politics': {'government': {}, ...     threat   \n",
       "3  {'finance': {'personal finance': {'insurance':...        NaN   \n",
       "4  {'business and industrial': {'company': {'annu...     threat   \n",
       "\n",
       "                                                urls  \\\n",
       "0                           [https://ift.tt/2wNsX91]   \n",
       "1                            [http://bit.ly/2wuUTyT]   \n",
       "2  [https://twitter.com/i/web/status/103813997156...   \n",
       "3  [https://twitter.com/i/web/status/103756069478...   \n",
       "4                        [http://fsecure.smh.re/4AS]   \n",
       "\n",
       "                                     destination_url valid_certificate  \\\n",
       "0        https://cxsecurity.com/issue/WLB-2018090028              True   \n",
       "1  https://logrhythm.com/the-ransomware-threat-eb...              True   \n",
       "2  https://twitter.com/i/web/status/1038139971562...              True   \n",
       "3  https://twitter.com/i/web/status/1037560694789...              True   \n",
       "4                          http://fsecure.smh.re/4AS              True   \n",
       "\n",
       "                                         watson_list  \\\n",
       "0  [technology and computing, computer security, ...   \n",
       "1  [technology and computing, computer security, ...   \n",
       "2  [law, govt and politics, government, armed for...   \n",
       "3  [finance, personal finance, insurance, busines...   \n",
       "4  [business and industrial, company, annual repo...   \n",
       "\n",
       "                                              target  \n",
       "0  [antivirus and malware, software, databases, c...  \n",
       "1         [antivirus and malware, computer security]  \n",
       "2         [antivirus and malware, computer security]  \n",
       "3                                            [other]  \n",
       "4                              [databases, software]  "
      ]
     },
     "execution_count": 7,
     "metadata": {},
     "output_type": "execute_result"
    }
   ],
   "source": [
    "with open(os.getenv(\"ONE_STEP_CATEGORIES_TEST_CSV\"), \"rb\") as f:\n",
    "    test_tweets = pd.read_csv(f)\n",
    "    test_tweets = test_tweets.assign(\n",
    "        tweet=lambda df: df[\"tweet\"].apply(func=ast.literal_eval),\n",
    "        watson=lambda df: df[\"watson\"].apply(func=ast.literal_eval),\n",
    "        urls=lambda df: df[\"urls\"].apply(func=ast.literal_eval),\n",
    "        watson_list=lambda df: df[\"watson_list\"].apply(func=ast.literal_eval),\n",
    "        target=lambda df: df[\"target\"].apply(func=ast.literal_eval),\n",
    "    )\n",
    "    test_tweets[\"text\"] = [su.replace_txt_components(t) for t in test_tweets[\"text\"]]\n",
    "    relevant = test_tweets[\"relevant\"] == True\n",
    "    is_other = test_tweets[\"target\"].apply(lambda x: \"other\" in x)\n",
    "    for idx in test_tweets[relevant & is_other].index:\n",
    "        test_tweets.loc[idx, \"relevant\"] = False\n",
    "\n",
    "texts = test_tweets[\"text\"]\n",
    "targets = test_tweets[\"target\"]\n",
    "print(f\"Threat Tweets: {len(test_tweets)}\")\n",
    "test_tweets.head()"
   ]
  },
  {
   "cell_type": "code",
   "execution_count": 29,
   "id": "d916a92a504d4b6e",
   "metadata": {
    "ExecuteTime": {
     "end_time": "2025-04-02T15:34:25.256611Z",
     "start_time": "2025-04-02T15:34:24.156190Z"
    }
   },
   "outputs": [],
   "source": [
    "with open(\"models/General.pickle\", \"rb\") as f:\n",
    "    gn_mod = pickle.load(f)\n",
    "\n",
    "with open(\"models/Computersecurity.pickle\", \"rb\") as f:\n",
    "    cs_mod = pickle.load(f)\n",
    "\n",
    "with open(\"models/Operatingsystems.pickle\", \"rb\") as f:\n",
    "    os_mod = pickle.load(f)\n",
    "\n",
    "with open(\"models/Software.pickle\", \"rb\") as f:\n",
    "    sw_mod = pickle.load(f)\n",
    "\n",
    "with open(\"models/Hardware.pickle\", \"rb\") as f:\n",
    "    hw_mod = pickle.load(f)"
   ]
  },
  {
   "cell_type": "code",
   "execution_count": 30,
   "id": "9347e8cd01b453a7",
   "metadata": {
    "ExecuteTime": {
     "end_time": "2025-04-02T16:07:54.219590Z",
     "start_time": "2025-04-02T16:07:54.199192Z"
    }
   },
   "outputs": [],
   "source": [
    "solution = System(gn_mod, cs_mod, os_mod, sw_mod, hw_mod)"
   ]
  },
  {
   "cell_type": "code",
   "execution_count": 21,
   "id": "b3565e84",
   "metadata": {},
   "outputs": [
    {
     "data": {
      "text/plain": [
       "array([[1., 0., 0., 0., 0., 1., 1., 0., 0., 0., 0., 0., 1., 0., 0., 0.],\n",
       "       [0., 0., 0., 0., 1., 0., 0., 0., 0., 0., 0., 0., 0., 0., 0., 0.],\n",
       "       [1., 0., 0., 0., 0., 0., 1., 0., 0., 0., 0., 0., 0., 0., 0., 0.],\n",
       "       [0., 0., 0., 0., 1., 0., 0., 0., 0., 0., 0., 0., 0., 0., 0., 0.],\n",
       "       [0., 0., 0., 0., 0., 1., 0., 0., 0., 0., 0., 0., 1., 0., 0., 0.],\n",
       "       [0., 0., 0., 0., 1., 0., 0., 0., 0., 0., 0., 0., 0., 0., 0., 0.],\n",
       "       [0., 0., 0., 0., 1., 0., 0., 0., 0., 0., 0., 0., 0., 0., 0., 0.],\n",
       "       [0., 0., 0., 0., 1., 0., 0., 0., 0., 0., 0., 0., 0., 0., 0., 0.],\n",
       "       [0., 0., 0., 0., 1., 0., 0., 0., 0., 0., 0., 0., 0., 0., 0., 0.],\n",
       "       [0., 0., 0., 0., 1., 0., 0., 0., 0., 0., 0., 0., 0., 0., 0., 0.]])"
      ]
     },
     "execution_count": 21,
     "metadata": {},
     "output_type": "execute_result"
    }
   ],
   "source": [
    "solution.predict(texts[0:10])"
   ]
  },
  {
   "cell_type": "code",
   "execution_count": 22,
   "id": "bc1967bd",
   "metadata": {},
   "outputs": [
    {
     "data": {
      "text/plain": [
       "0    [antivirus and malware, databases, software, c...\n",
       "1                                              [other]\n",
       "2           [antivirus and malware, computer security]\n",
       "3                                              [other]\n",
       "4                                [databases, software]\n",
       "5                                              [other]\n",
       "6                                              [other]\n",
       "7                                              [other]\n",
       "8                                              [other]\n",
       "9                                              [other]\n",
       "dtype: object"
      ]
     },
     "execution_count": 22,
     "metadata": {},
     "output_type": "execute_result"
    }
   ],
   "source": [
    "solution.predict_targets(texts[0:10])"
   ]
  },
  {
   "cell_type": "code",
   "execution_count": 23,
   "id": "f2e62cbfaca42c1e",
   "metadata": {
    "ExecuteTime": {
     "end_time": "2025-04-02T16:08:20.256912Z",
     "start_time": "2025-04-02T16:08:17.145447Z"
    }
   },
   "outputs": [
    {
     "data": {
      "text/html": [
       "<div>\n",
       "<style scoped>\n",
       "    .dataframe tbody tr th:only-of-type {\n",
       "        vertical-align: middle;\n",
       "    }\n",
       "\n",
       "    .dataframe tbody tr th {\n",
       "        vertical-align: top;\n",
       "    }\n",
       "\n",
       "    .dataframe thead th {\n",
       "        text-align: right;\n",
       "    }\n",
       "</style>\n",
       "<table border=\"1\" class=\"dataframe\">\n",
       "  <thead>\n",
       "    <tr style=\"text-align: right;\">\n",
       "      <th></th>\n",
       "      <th>Predicted</th>\n",
       "      <th>Actual</th>\n",
       "      <th>Text</th>\n",
       "      <th>Relevant</th>\n",
       "    </tr>\n",
       "  </thead>\n",
       "  <tbody>\n",
       "    <tr>\n",
       "      <th>10</th>\n",
       "      <td>[other]</td>\n",
       "      <td>[other]</td>\n",
       "      <td>HOTEL MANAGEMENT - Data leak from Huazhu Hotel...</td>\n",
       "      <td>False</td>\n",
       "    </tr>\n",
       "    <tr>\n",
       "      <th>11</th>\n",
       "      <td>[other]</td>\n",
       "      <td>[databases, software]</td>\n",
       "      <td>Yes the vulnerability does exist and yes, the ...</td>\n",
       "      <td>True</td>\n",
       "    </tr>\n",
       "    <tr>\n",
       "      <th>12</th>\n",
       "      <td>[other]</td>\n",
       "      <td>[network security, computer security]</td>\n",
       "      <td>Healthier mentally &amp;amp; more comfortable in m...</td>\n",
       "      <td>False</td>\n",
       "    </tr>\n",
       "    <tr>\n",
       "      <th>13</th>\n",
       "      <td>[other]</td>\n",
       "      <td>[antivirus and malware, computer security]</td>\n",
       "      <td>[] Slush doesn't give a sh*t about DDoS on his...</td>\n",
       "      <td>True</td>\n",
       "    </tr>\n",
       "    <tr>\n",
       "      <th>14</th>\n",
       "      <td>[other]</td>\n",
       "      <td>[other]</td>\n",
       "      <td>DLVRIT: US charges North Korean man in Sony ha...</td>\n",
       "      <td>False</td>\n",
       "    </tr>\n",
       "    <tr>\n",
       "      <th>15</th>\n",
       "      <td>[antivirus and malware, databases, software, c...</td>\n",
       "      <td>[antivirus and malware, databases, software, c...</td>\n",
       "      <td>Designed by Tristar Software Solutions India S...</td>\n",
       "      <td>True</td>\n",
       "    </tr>\n",
       "    <tr>\n",
       "      <th>16</th>\n",
       "      <td>[other]</td>\n",
       "      <td>[network security, computer security]</td>\n",
       "      <td>Don’t call it a friendship unless you’re actua...</td>\n",
       "      <td>False</td>\n",
       "    </tr>\n",
       "    <tr>\n",
       "      <th>17</th>\n",
       "      <td>[other]</td>\n",
       "      <td>[other]</td>\n",
       "      <td>\\nWe will be starting an exciting new project ...</td>\n",
       "      <td>False</td>\n",
       "    </tr>\n",
       "    <tr>\n",
       "      <th>18</th>\n",
       "      <td>[antivirus and malware, computer security]</td>\n",
       "      <td>[network security, computer security]</td>\n",
       "      <td>attack from  cripples Bank of  website\\n\\n   …</td>\n",
       "      <td>True</td>\n",
       "    </tr>\n",
       "    <tr>\n",
       "      <th>19</th>\n",
       "      <td>[other]</td>\n",
       "      <td>[computer, network security, hardware, compute...</td>\n",
       "      <td>7 bizarre security analogies about preventing ...</td>\n",
       "      <td>True</td>\n",
       "    </tr>\n",
       "  </tbody>\n",
       "</table>\n",
       "</div>"
      ],
      "text/plain": [
       "                                            Predicted  \\\n",
       "10                                            [other]   \n",
       "11                                            [other]   \n",
       "12                                            [other]   \n",
       "13                                            [other]   \n",
       "14                                            [other]   \n",
       "15  [antivirus and malware, databases, software, c...   \n",
       "16                                            [other]   \n",
       "17                                            [other]   \n",
       "18         [antivirus and malware, computer security]   \n",
       "19                                            [other]   \n",
       "\n",
       "                                               Actual  \\\n",
       "10                                            [other]   \n",
       "11                              [databases, software]   \n",
       "12              [network security, computer security]   \n",
       "13         [antivirus and malware, computer security]   \n",
       "14                                            [other]   \n",
       "15  [antivirus and malware, databases, software, c...   \n",
       "16              [network security, computer security]   \n",
       "17                                            [other]   \n",
       "18              [network security, computer security]   \n",
       "19  [computer, network security, hardware, compute...   \n",
       "\n",
       "                                                 Text Relevant  \n",
       "10  HOTEL MANAGEMENT - Data leak from Huazhu Hotel...    False  \n",
       "11  Yes the vulnerability does exist and yes, the ...     True  \n",
       "12  Healthier mentally &amp; more comfortable in m...    False  \n",
       "13  [] Slush doesn't give a sh*t about DDoS on his...     True  \n",
       "14  DLVRIT: US charges North Korean man in Sony ha...    False  \n",
       "15  Designed by Tristar Software Solutions India S...     True  \n",
       "16  Don’t call it a friendship unless you’re actua...    False  \n",
       "17  \\nWe will be starting an exciting new project ...    False  \n",
       "18    attack from  cripples Bank of  website\\n\\n   …      True  \n",
       "19  7 bizarre security analogies about preventing ...     True  "
      ]
     },
     "execution_count": 23,
     "metadata": {},
     "output_type": "execute_result"
    }
   ],
   "source": [
    "pd.DataFrame(\n",
    "    [\n",
    "        solution.predict_targets(texts[10:20]),\n",
    "        targets[10:20],\n",
    "        texts[10:20],\n",
    "        test_tweets[\"relevant\"][10:20],\n",
    "    ],\n",
    "    index=[\"Predicted\", \"Actual\", \"Text\", \"Relevant\"],\n",
    ").transpose()"
   ]
  },
  {
   "cell_type": "code",
   "execution_count": 27,
   "id": "fa2cddd383fc303f",
   "metadata": {
    "ExecuteTime": {
     "end_time": "2025-04-02T15:14:15.484394Z",
     "start_time": "2025-04-02T15:14:04.172022Z"
    }
   },
   "outputs": [
    {
     "name": "stdout",
     "output_type": "stream",
     "text": [
      "==========================================================\n",
      "System Performance\n",
      "==========================================================\n",
      "Accuracy:\t59.65%\n",
      "Hamming Loss:\t0.080\n",
      "                      precision recall f1-score  support   auc\n",
      "computer security          0.93   0.41     0.57  1738.00  0.70\n",
      "hardware                   0.98   0.37     0.54   461.00  0.68\n",
      "networking                 0.95   0.31     0.47   240.00  0.66\n",
      "operating systems          0.95   0.56     0.71   156.00  0.78\n",
      "other                      0.54   0.98     0.70  1603.00  0.72\n",
      "software                   0.93   0.54     0.68   950.00  0.76\n",
      "antivirus and malware      0.92   0.48     0.63  1110.00  0.73\n",
      "network security           0.91   0.24     0.37   817.00  0.61\n",
      "linux                      0.98   0.62     0.76    77.00  0.81\n",
      "mac os                     1.00   0.46     0.63    13.00  0.73\n",
      "unix                       0.82   0.64     0.72    14.00  0.82\n",
      "windows                    0.88   0.46     0.60    46.00  0.73\n",
      "databases                  0.92   0.60     0.73   342.00  0.80\n",
      "computer                   0.97   0.36     0.52   362.00  0.68\n",
      "computer components        1.00   0.29     0.45    38.00  0.64\n",
      "computer networking        1.00   0.37     0.54    38.00  0.68\n",
      "micro avg                  0.74   0.54     0.62  8005.00  0.76\n",
      "macro avg                  0.92   0.48     0.60  8005.00  0.72\n",
      "weighted avg               0.86   0.54     0.60  8005.00  0.71\n",
      "samples avg                0.65   0.64     0.64  8005.00  0.80\n",
      "==========================================================\n",
      "\n"
     ]
    }
   ],
   "source": [
    "system_performance = solution.evaluate(texts, targets)\n",
    "print(\"==========================================================\")\n",
    "print(\"System Performance\")\n",
    "print(\"==========================================================\")\n",
    "print(f\"Accuracy:\\t{system_performance['accuracy'] * 100:.2f}%\")\n",
    "print(f\"Hamming Loss:\\t{system_performance['hamming_loss']:.3f}\")\n",
    "report = pd.DataFrame(system_performance[\"report\"])\n",
    "report.columns = solution.classes() + [\n",
    "    \"micro avg\",\n",
    "    \"macro avg\",\n",
    "    \"weighted avg\",\n",
    "    \"samples avg\",\n",
    "]\n",
    "report = (\n",
    "    report.transpose()\n",
    "    .map(lambda x: f\"{x:.2f}\" if isinstance(x, float) else x)\n",
    "    .to_string()\n",
    ")\n",
    "print(f\"{report}\")\n",
    "print(\"==========================================================\\n\")"
   ]
  },
  {
   "cell_type": "code",
   "execution_count": 25,
   "id": "ecc9fad7fadd800f",
   "metadata": {},
   "outputs": [
    {
     "name": "stdout",
     "output_type": "stream",
     "text": [
      "==========================================================\n",
      "System Performance\n",
      "==========================================================\n",
      "Hamming Loss:\t0.179\n",
      "             precision recall f1-score  support   auc\n",
      "not relevant      0.80   0.94     0.86  2444.00   nan\n",
      "relevant          0.88   0.64     0.74  1623.00   nan\n",
      "accuracy          0.82   0.82     0.82     0.82  0.82\n",
      "macro avg         0.84   0.79     0.80  4067.00  0.79\n",
      "weighted avg      0.83   0.82     0.81  4067.00  0.79\n",
      "==========================================================\n",
      "\n"
     ]
    }
   ],
   "source": [
    "Y = pd.Series([1 if t else 0 for t in test_tweets[\"relevant\"]])\n",
    "Y_pred = pd.Series([not t for t in solution.predict(texts)[:, 4:5]])\n",
    "auc_score_macro = roc_auc_score(Y, Y_pred, average=\"macro\")\n",
    "auc_score_weighted = roc_auc_score(Y, Y_pred, average=\"weighted\")\n",
    "report = classification_report(Y, Y_pred, output_dict=True, zero_division=0.0)\n",
    "report[\"macro avg\"][\"auc\"] = auc_score_macro\n",
    "report[\"weighted avg\"][\"auc\"] = auc_score_weighted\n",
    "system_performance = {\"hamming_loss\": hamming_loss(Y, Y_pred), \"report\": report}\n",
    "\n",
    "print(\"==========================================================\")\n",
    "print(\"System Performance\")\n",
    "print(\"==========================================================\")\n",
    "print(f\"Hamming Loss:\\t{system_performance['hamming_loss']:.3f}\")\n",
    "report = pd.DataFrame(system_performance[\"report\"])\n",
    "report.columns = [\"not relevant\", \"relevant\"] + [\n",
    "    \"accuracy\",\n",
    "    \"macro avg\",\n",
    "    \"weighted avg\",\n",
    "]\n",
    "report = (\n",
    "    report.transpose()\n",
    "    .map(lambda x: f\"{x:.2f}\" if isinstance(x, float) else x)\n",
    "    .to_string()\n",
    ")\n",
    "print(f\"{report}\")\n",
    "print(\"==========================================================\\n\")"
   ]
  },
  {
   "cell_type": "code",
   "execution_count": 26,
   "id": "cbb38756b03db5e2",
   "metadata": {},
   "outputs": [
    {
     "data": {
      "text/html": [
       "<div>\n",
       "<style scoped>\n",
       "    .dataframe tbody tr th:only-of-type {\n",
       "        vertical-align: middle;\n",
       "    }\n",
       "\n",
       "    .dataframe tbody tr th {\n",
       "        vertical-align: top;\n",
       "    }\n",
       "\n",
       "    .dataframe thead th {\n",
       "        text-align: right;\n",
       "    }\n",
       "</style>\n",
       "<table border=\"1\" class=\"dataframe\">\n",
       "  <thead>\n",
       "    <tr style=\"text-align: right;\">\n",
       "      <th></th>\n",
       "      <th>relevant</th>\n",
       "      <th>predicted</th>\n",
       "      <th>text</th>\n",
       "    </tr>\n",
       "  </thead>\n",
       "  <tbody>\n",
       "    <tr>\n",
       "      <th>0</th>\n",
       "      <td>1</td>\n",
       "      <td>True</td>\n",
       "      <td>threatmeter: irisgraphic sql injection vulnera...</td>\n",
       "    </tr>\n",
       "    <tr>\n",
       "      <th>1</th>\n",
       "      <td>0</td>\n",
       "      <td>False</td>\n",
       "      <td>Download this how-to guide on preparing for an...</td>\n",
       "    </tr>\n",
       "    <tr>\n",
       "      <th>2</th>\n",
       "      <td>1</td>\n",
       "      <td>True</td>\n",
       "      <td>The US Justice Department is poised to charge ...</td>\n",
       "    </tr>\n",
       "    <tr>\n",
       "      <th>3</th>\n",
       "      <td>0</td>\n",
       "      <td>False</td>\n",
       "      <td>3) Control and monitor compliance. Also, in...</td>\n",
       "    </tr>\n",
       "    <tr>\n",
       "      <th>4</th>\n",
       "      <td>1</td>\n",
       "      <td>True</td>\n",
       "      <td>Ransomware down, but not out, report reveals</td>\n",
       "    </tr>\n",
       "    <tr>\n",
       "      <th>...</th>\n",
       "      <td>...</td>\n",
       "      <td>...</td>\n",
       "      <td>...</td>\n",
       "    </tr>\n",
       "    <tr>\n",
       "      <th>4062</th>\n",
       "      <td>0</td>\n",
       "      <td>False</td>\n",
       "      <td>– with full knowledge of my increased vulnerab...</td>\n",
       "    </tr>\n",
       "    <tr>\n",
       "      <th>4063</th>\n",
       "      <td>1</td>\n",
       "      <td>False</td>\n",
       "      <td>CVE-2018-16460\\n\\nA command Injection in ps pa...</td>\n",
       "    </tr>\n",
       "    <tr>\n",
       "      <th>4064</th>\n",
       "      <td>1</td>\n",
       "      <td>True</td>\n",
       "      <td>threatmeter:   To Video Converter Professional...</td>\n",
       "    </tr>\n",
       "    <tr>\n",
       "      <th>4065</th>\n",
       "      <td>1</td>\n",
       "      <td>False</td>\n",
       "      <td>New vulnerability on the NVD on September 10, ...</td>\n",
       "    </tr>\n",
       "    <tr>\n",
       "      <th>4066</th>\n",
       "      <td>1</td>\n",
       "      <td>True</td>\n",
       "      <td>Microsoft Windows ALPC Privilege Escalation Vu...</td>\n",
       "    </tr>\n",
       "  </tbody>\n",
       "</table>\n",
       "<p>4067 rows × 3 columns</p>\n",
       "</div>"
      ],
      "text/plain": [
       "     relevant predicted                                               text\n",
       "0           1      True  threatmeter: irisgraphic sql injection vulnera...\n",
       "1           0     False  Download this how-to guide on preparing for an...\n",
       "2           1      True  The US Justice Department is poised to charge ...\n",
       "3           0     False     3) Control and monitor compliance. Also, in...\n",
       "4           1      True      Ransomware down, but not out, report reveals \n",
       "...       ...       ...                                                ...\n",
       "4062        0     False  – with full knowledge of my increased vulnerab...\n",
       "4063        1     False  CVE-2018-16460\\n\\nA command Injection in ps pa...\n",
       "4064        1      True  threatmeter:   To Video Converter Professional...\n",
       "4065        1     False  New vulnerability on the NVD on September 10, ...\n",
       "4066        1      True  Microsoft Windows ALPC Privilege Escalation Vu...\n",
       "\n",
       "[4067 rows x 3 columns]"
      ]
     },
     "execution_count": 26,
     "metadata": {},
     "output_type": "execute_result"
    }
   ],
   "source": [
    "pd.DataFrame(\n",
    "    np.hstack(\n",
    "        (\n",
    "            Y.values.reshape(-1, 1),\n",
    "            Y_pred.values.reshape(-1, 1),\n",
    "            test_tweets[\"text\"].values.reshape(-1, 1),\n",
    "        )\n",
    "    ),\n",
    "    columns=[\"relevant\", \"predicted\", \"text\"],\n",
    ")"
   ]
  },
  {
   "cell_type": "code",
   "execution_count": 31,
   "id": "76a8c9607e6acdde",
   "metadata": {},
   "outputs": [],
   "source": [
    "with open(\"models/System.pickle\", \"wb\") as f:\n",
    "    pickle.dump(solution, f)\n",
    "\n",
    "del solution"
   ]
  },
  {
   "cell_type": "code",
   "execution_count": 32,
   "id": "d780614d440e85f7",
   "metadata": {
    "ExecuteTime": {
     "end_time": "2025-04-02T15:32:34.523244Z",
     "start_time": "2025-04-02T15:32:33.998866Z"
    }
   },
   "outputs": [
    {
     "data": {
      "text/html": [
       "<style>#sk-container-id-7 {\n",
       "  /* Definition of color scheme common for light and dark mode */\n",
       "  --sklearn-color-text: #000;\n",
       "  --sklearn-color-text-muted: #666;\n",
       "  --sklearn-color-line: gray;\n",
       "  /* Definition of color scheme for unfitted estimators */\n",
       "  --sklearn-color-unfitted-level-0: #fff5e6;\n",
       "  --sklearn-color-unfitted-level-1: #f6e4d2;\n",
       "  --sklearn-color-unfitted-level-2: #ffe0b3;\n",
       "  --sklearn-color-unfitted-level-3: chocolate;\n",
       "  /* Definition of color scheme for fitted estimators */\n",
       "  --sklearn-color-fitted-level-0: #f0f8ff;\n",
       "  --sklearn-color-fitted-level-1: #d4ebff;\n",
       "  --sklearn-color-fitted-level-2: #b3dbfd;\n",
       "  --sklearn-color-fitted-level-3: cornflowerblue;\n",
       "\n",
       "  /* Specific color for light theme */\n",
       "  --sklearn-color-text-on-default-background: var(--sg-text-color, var(--theme-code-foreground, var(--jp-content-font-color1, black)));\n",
       "  --sklearn-color-background: var(--sg-background-color, var(--theme-background, var(--jp-layout-color0, white)));\n",
       "  --sklearn-color-border-box: var(--sg-text-color, var(--theme-code-foreground, var(--jp-content-font-color1, black)));\n",
       "  --sklearn-color-icon: #696969;\n",
       "\n",
       "  @media (prefers-color-scheme: dark) {\n",
       "    /* Redefinition of color scheme for dark theme */\n",
       "    --sklearn-color-text-on-default-background: var(--sg-text-color, var(--theme-code-foreground, var(--jp-content-font-color1, white)));\n",
       "    --sklearn-color-background: var(--sg-background-color, var(--theme-background, var(--jp-layout-color0, #111)));\n",
       "    --sklearn-color-border-box: var(--sg-text-color, var(--theme-code-foreground, var(--jp-content-font-color1, white)));\n",
       "    --sklearn-color-icon: #878787;\n",
       "  }\n",
       "}\n",
       "\n",
       "#sk-container-id-7 {\n",
       "  color: var(--sklearn-color-text);\n",
       "}\n",
       "\n",
       "#sk-container-id-7 pre {\n",
       "  padding: 0;\n",
       "}\n",
       "\n",
       "#sk-container-id-7 input.sk-hidden--visually {\n",
       "  border: 0;\n",
       "  clip: rect(1px 1px 1px 1px);\n",
       "  clip: rect(1px, 1px, 1px, 1px);\n",
       "  height: 1px;\n",
       "  margin: -1px;\n",
       "  overflow: hidden;\n",
       "  padding: 0;\n",
       "  position: absolute;\n",
       "  width: 1px;\n",
       "}\n",
       "\n",
       "#sk-container-id-7 div.sk-dashed-wrapped {\n",
       "  border: 1px dashed var(--sklearn-color-line);\n",
       "  margin: 0 0.4em 0.5em 0.4em;\n",
       "  box-sizing: border-box;\n",
       "  padding-bottom: 0.4em;\n",
       "  background-color: var(--sklearn-color-background);\n",
       "}\n",
       "\n",
       "#sk-container-id-7 div.sk-container {\n",
       "  /* jupyter's `normalize.less` sets `[hidden] { display: none; }`\n",
       "     but bootstrap.min.css set `[hidden] { display: none !important; }`\n",
       "     so we also need the `!important` here to be able to override the\n",
       "     default hidden behavior on the sphinx rendered scikit-learn.org.\n",
       "     See: https://github.com/scikit-learn/scikit-learn/issues/21755 */\n",
       "  display: inline-block !important;\n",
       "  position: relative;\n",
       "}\n",
       "\n",
       "#sk-container-id-7 div.sk-text-repr-fallback {\n",
       "  display: none;\n",
       "}\n",
       "\n",
       "div.sk-parallel-item,\n",
       "div.sk-serial,\n",
       "div.sk-item {\n",
       "  /* draw centered vertical line to link estimators */\n",
       "  background-image: linear-gradient(var(--sklearn-color-text-on-default-background), var(--sklearn-color-text-on-default-background));\n",
       "  background-size: 2px 100%;\n",
       "  background-repeat: no-repeat;\n",
       "  background-position: center center;\n",
       "}\n",
       "\n",
       "/* Parallel-specific style estimator block */\n",
       "\n",
       "#sk-container-id-7 div.sk-parallel-item::after {\n",
       "  content: \"\";\n",
       "  width: 100%;\n",
       "  border-bottom: 2px solid var(--sklearn-color-text-on-default-background);\n",
       "  flex-grow: 1;\n",
       "}\n",
       "\n",
       "#sk-container-id-7 div.sk-parallel {\n",
       "  display: flex;\n",
       "  align-items: stretch;\n",
       "  justify-content: center;\n",
       "  background-color: var(--sklearn-color-background);\n",
       "  position: relative;\n",
       "}\n",
       "\n",
       "#sk-container-id-7 div.sk-parallel-item {\n",
       "  display: flex;\n",
       "  flex-direction: column;\n",
       "}\n",
       "\n",
       "#sk-container-id-7 div.sk-parallel-item:first-child::after {\n",
       "  align-self: flex-end;\n",
       "  width: 50%;\n",
       "}\n",
       "\n",
       "#sk-container-id-7 div.sk-parallel-item:last-child::after {\n",
       "  align-self: flex-start;\n",
       "  width: 50%;\n",
       "}\n",
       "\n",
       "#sk-container-id-7 div.sk-parallel-item:only-child::after {\n",
       "  width: 0;\n",
       "}\n",
       "\n",
       "/* Serial-specific style estimator block */\n",
       "\n",
       "#sk-container-id-7 div.sk-serial {\n",
       "  display: flex;\n",
       "  flex-direction: column;\n",
       "  align-items: center;\n",
       "  background-color: var(--sklearn-color-background);\n",
       "  padding-right: 1em;\n",
       "  padding-left: 1em;\n",
       "}\n",
       "\n",
       "\n",
       "/* Toggleable style: style used for estimator/Pipeline/ColumnTransformer box that is\n",
       "clickable and can be expanded/collapsed.\n",
       "- Pipeline and ColumnTransformer use this feature and define the default style\n",
       "- Estimators will overwrite some part of the style using the `sk-estimator` class\n",
       "*/\n",
       "\n",
       "/* Pipeline and ColumnTransformer style (default) */\n",
       "\n",
       "#sk-container-id-7 div.sk-toggleable {\n",
       "  /* Default theme specific background. It is overwritten whether we have a\n",
       "  specific estimator or a Pipeline/ColumnTransformer */\n",
       "  background-color: var(--sklearn-color-background);\n",
       "}\n",
       "\n",
       "/* Toggleable label */\n",
       "#sk-container-id-7 label.sk-toggleable__label {\n",
       "  cursor: pointer;\n",
       "  display: flex;\n",
       "  width: 100%;\n",
       "  margin-bottom: 0;\n",
       "  padding: 0.5em;\n",
       "  box-sizing: border-box;\n",
       "  text-align: center;\n",
       "  align-items: start;\n",
       "  justify-content: space-between;\n",
       "  gap: 0.5em;\n",
       "}\n",
       "\n",
       "#sk-container-id-7 label.sk-toggleable__label .caption {\n",
       "  font-size: 0.6rem;\n",
       "  font-weight: lighter;\n",
       "  color: var(--sklearn-color-text-muted);\n",
       "}\n",
       "\n",
       "#sk-container-id-7 label.sk-toggleable__label-arrow:before {\n",
       "  /* Arrow on the left of the label */\n",
       "  content: \"▸\";\n",
       "  float: left;\n",
       "  margin-right: 0.25em;\n",
       "  color: var(--sklearn-color-icon);\n",
       "}\n",
       "\n",
       "#sk-container-id-7 label.sk-toggleable__label-arrow:hover:before {\n",
       "  color: var(--sklearn-color-text);\n",
       "}\n",
       "\n",
       "/* Toggleable content - dropdown */\n",
       "\n",
       "#sk-container-id-7 div.sk-toggleable__content {\n",
       "  max-height: 0;\n",
       "  max-width: 0;\n",
       "  overflow: hidden;\n",
       "  text-align: left;\n",
       "  /* unfitted */\n",
       "  background-color: var(--sklearn-color-unfitted-level-0);\n",
       "}\n",
       "\n",
       "#sk-container-id-7 div.sk-toggleable__content.fitted {\n",
       "  /* fitted */\n",
       "  background-color: var(--sklearn-color-fitted-level-0);\n",
       "}\n",
       "\n",
       "#sk-container-id-7 div.sk-toggleable__content pre {\n",
       "  margin: 0.2em;\n",
       "  border-radius: 0.25em;\n",
       "  color: var(--sklearn-color-text);\n",
       "  /* unfitted */\n",
       "  background-color: var(--sklearn-color-unfitted-level-0);\n",
       "}\n",
       "\n",
       "#sk-container-id-7 div.sk-toggleable__content.fitted pre {\n",
       "  /* unfitted */\n",
       "  background-color: var(--sklearn-color-fitted-level-0);\n",
       "}\n",
       "\n",
       "#sk-container-id-7 input.sk-toggleable__control:checked~div.sk-toggleable__content {\n",
       "  /* Expand drop-down */\n",
       "  max-height: 200px;\n",
       "  max-width: 100%;\n",
       "  overflow: auto;\n",
       "}\n",
       "\n",
       "#sk-container-id-7 input.sk-toggleable__control:checked~label.sk-toggleable__label-arrow:before {\n",
       "  content: \"▾\";\n",
       "}\n",
       "\n",
       "/* Pipeline/ColumnTransformer-specific style */\n",
       "\n",
       "#sk-container-id-7 div.sk-label input.sk-toggleable__control:checked~label.sk-toggleable__label {\n",
       "  color: var(--sklearn-color-text);\n",
       "  background-color: var(--sklearn-color-unfitted-level-2);\n",
       "}\n",
       "\n",
       "#sk-container-id-7 div.sk-label.fitted input.sk-toggleable__control:checked~label.sk-toggleable__label {\n",
       "  background-color: var(--sklearn-color-fitted-level-2);\n",
       "}\n",
       "\n",
       "/* Estimator-specific style */\n",
       "\n",
       "/* Colorize estimator box */\n",
       "#sk-container-id-7 div.sk-estimator input.sk-toggleable__control:checked~label.sk-toggleable__label {\n",
       "  /* unfitted */\n",
       "  background-color: var(--sklearn-color-unfitted-level-2);\n",
       "}\n",
       "\n",
       "#sk-container-id-7 div.sk-estimator.fitted input.sk-toggleable__control:checked~label.sk-toggleable__label {\n",
       "  /* fitted */\n",
       "  background-color: var(--sklearn-color-fitted-level-2);\n",
       "}\n",
       "\n",
       "#sk-container-id-7 div.sk-label label.sk-toggleable__label,\n",
       "#sk-container-id-7 div.sk-label label {\n",
       "  /* The background is the default theme color */\n",
       "  color: var(--sklearn-color-text-on-default-background);\n",
       "}\n",
       "\n",
       "/* On hover, darken the color of the background */\n",
       "#sk-container-id-7 div.sk-label:hover label.sk-toggleable__label {\n",
       "  color: var(--sklearn-color-text);\n",
       "  background-color: var(--sklearn-color-unfitted-level-2);\n",
       "}\n",
       "\n",
       "/* Label box, darken color on hover, fitted */\n",
       "#sk-container-id-7 div.sk-label.fitted:hover label.sk-toggleable__label.fitted {\n",
       "  color: var(--sklearn-color-text);\n",
       "  background-color: var(--sklearn-color-fitted-level-2);\n",
       "}\n",
       "\n",
       "/* Estimator label */\n",
       "\n",
       "#sk-container-id-7 div.sk-label label {\n",
       "  font-family: monospace;\n",
       "  font-weight: bold;\n",
       "  display: inline-block;\n",
       "  line-height: 1.2em;\n",
       "}\n",
       "\n",
       "#sk-container-id-7 div.sk-label-container {\n",
       "  text-align: center;\n",
       "}\n",
       "\n",
       "/* Estimator-specific */\n",
       "#sk-container-id-7 div.sk-estimator {\n",
       "  font-family: monospace;\n",
       "  border: 1px dotted var(--sklearn-color-border-box);\n",
       "  border-radius: 0.25em;\n",
       "  box-sizing: border-box;\n",
       "  margin-bottom: 0.5em;\n",
       "  /* unfitted */\n",
       "  background-color: var(--sklearn-color-unfitted-level-0);\n",
       "}\n",
       "\n",
       "#sk-container-id-7 div.sk-estimator.fitted {\n",
       "  /* fitted */\n",
       "  background-color: var(--sklearn-color-fitted-level-0);\n",
       "}\n",
       "\n",
       "/* on hover */\n",
       "#sk-container-id-7 div.sk-estimator:hover {\n",
       "  /* unfitted */\n",
       "  background-color: var(--sklearn-color-unfitted-level-2);\n",
       "}\n",
       "\n",
       "#sk-container-id-7 div.sk-estimator.fitted:hover {\n",
       "  /* fitted */\n",
       "  background-color: var(--sklearn-color-fitted-level-2);\n",
       "}\n",
       "\n",
       "/* Specification for estimator info (e.g. \"i\" and \"?\") */\n",
       "\n",
       "/* Common style for \"i\" and \"?\" */\n",
       "\n",
       ".sk-estimator-doc-link,\n",
       "a:link.sk-estimator-doc-link,\n",
       "a:visited.sk-estimator-doc-link {\n",
       "  float: right;\n",
       "  font-size: smaller;\n",
       "  line-height: 1em;\n",
       "  font-family: monospace;\n",
       "  background-color: var(--sklearn-color-background);\n",
       "  border-radius: 1em;\n",
       "  height: 1em;\n",
       "  width: 1em;\n",
       "  text-decoration: none !important;\n",
       "  margin-left: 0.5em;\n",
       "  text-align: center;\n",
       "  /* unfitted */\n",
       "  border: var(--sklearn-color-unfitted-level-1) 1pt solid;\n",
       "  color: var(--sklearn-color-unfitted-level-1);\n",
       "}\n",
       "\n",
       ".sk-estimator-doc-link.fitted,\n",
       "a:link.sk-estimator-doc-link.fitted,\n",
       "a:visited.sk-estimator-doc-link.fitted {\n",
       "  /* fitted */\n",
       "  border: var(--sklearn-color-fitted-level-1) 1pt solid;\n",
       "  color: var(--sklearn-color-fitted-level-1);\n",
       "}\n",
       "\n",
       "/* On hover */\n",
       "div.sk-estimator:hover .sk-estimator-doc-link:hover,\n",
       ".sk-estimator-doc-link:hover,\n",
       "div.sk-label-container:hover .sk-estimator-doc-link:hover,\n",
       ".sk-estimator-doc-link:hover {\n",
       "  /* unfitted */\n",
       "  background-color: var(--sklearn-color-unfitted-level-3);\n",
       "  color: var(--sklearn-color-background);\n",
       "  text-decoration: none;\n",
       "}\n",
       "\n",
       "div.sk-estimator.fitted:hover .sk-estimator-doc-link.fitted:hover,\n",
       ".sk-estimator-doc-link.fitted:hover,\n",
       "div.sk-label-container:hover .sk-estimator-doc-link.fitted:hover,\n",
       ".sk-estimator-doc-link.fitted:hover {\n",
       "  /* fitted */\n",
       "  background-color: var(--sklearn-color-fitted-level-3);\n",
       "  color: var(--sklearn-color-background);\n",
       "  text-decoration: none;\n",
       "}\n",
       "\n",
       "/* Span, style for the box shown on hovering the info icon */\n",
       ".sk-estimator-doc-link span {\n",
       "  display: none;\n",
       "  z-index: 9999;\n",
       "  position: relative;\n",
       "  font-weight: normal;\n",
       "  right: .2ex;\n",
       "  padding: .5ex;\n",
       "  margin: .5ex;\n",
       "  width: min-content;\n",
       "  min-width: 20ex;\n",
       "  max-width: 50ex;\n",
       "  color: var(--sklearn-color-text);\n",
       "  box-shadow: 2pt 2pt 4pt #999;\n",
       "  /* unfitted */\n",
       "  background: var(--sklearn-color-unfitted-level-0);\n",
       "  border: .5pt solid var(--sklearn-color-unfitted-level-3);\n",
       "}\n",
       "\n",
       ".sk-estimator-doc-link.fitted span {\n",
       "  /* fitted */\n",
       "  background: var(--sklearn-color-fitted-level-0);\n",
       "  border: var(--sklearn-color-fitted-level-3);\n",
       "}\n",
       "\n",
       ".sk-estimator-doc-link:hover span {\n",
       "  display: block;\n",
       "}\n",
       "\n",
       "/* \"?\"-specific style due to the `<a>` HTML tag */\n",
       "\n",
       "#sk-container-id-7 a.estimator_doc_link {\n",
       "  float: right;\n",
       "  font-size: 1rem;\n",
       "  line-height: 1em;\n",
       "  font-family: monospace;\n",
       "  background-color: var(--sklearn-color-background);\n",
       "  border-radius: 1rem;\n",
       "  height: 1rem;\n",
       "  width: 1rem;\n",
       "  text-decoration: none;\n",
       "  /* unfitted */\n",
       "  color: var(--sklearn-color-unfitted-level-1);\n",
       "  border: var(--sklearn-color-unfitted-level-1) 1pt solid;\n",
       "}\n",
       "\n",
       "#sk-container-id-7 a.estimator_doc_link.fitted {\n",
       "  /* fitted */\n",
       "  border: var(--sklearn-color-fitted-level-1) 1pt solid;\n",
       "  color: var(--sklearn-color-fitted-level-1);\n",
       "}\n",
       "\n",
       "/* On hover */\n",
       "#sk-container-id-7 a.estimator_doc_link:hover {\n",
       "  /* unfitted */\n",
       "  background-color: var(--sklearn-color-unfitted-level-3);\n",
       "  color: var(--sklearn-color-background);\n",
       "  text-decoration: none;\n",
       "}\n",
       "\n",
       "#sk-container-id-7 a.estimator_doc_link.fitted:hover {\n",
       "  /* fitted */\n",
       "  background-color: var(--sklearn-color-fitted-level-3);\n",
       "}\n",
       "</style><div id=\"sk-container-id-7\" class=\"sk-top-container\"><div class=\"sk-text-repr-fallback\"><pre>System(cs=ModuleSystem(mlb=MultiLabelBinarizer(),\n",
       "                       models={&#x27;0&#x27;: {&#x27;model&#x27;: MBRClassifier(base_estimator=RandomForestClassifier(random_state=42)),\n",
       "                                     &#x27;name&#x27;: &#x27;MBR[RF] - DistilRoBERTa&#x27;,\n",
       "                                     &#x27;performance&#x27;: 0.8093797276853253},\n",
       "                               &#x27;1&#x27;: {&#x27;model&#x27;: MBRClassifier(base_estimator=RandomForestClassifier(random_state=42)),\n",
       "                                     &#x27;name&#x27;: &#x27;MBR[RF] - DistilRoBERTa&#x27;,\n",
       "                                     &#x27;performance&#x27;: 0.651731160896130...\n",
       "                                     &#x27;performance&#x27;: 0.8666666666666667}}),\n",
       "       sw=ModuleSystem(mlb=MultiLabelBinarizer(),\n",
       "                       models={&#x27;0&#x27;: {&#x27;model&#x27;: MBRClassifier(base_estimator=RandomForestClassifier(random_state=42)),\n",
       "                                     &#x27;name&#x27;: &#x27;MBR[RF] - GloVe.6B.200D&#x27;,\n",
       "                                     &#x27;performance&#x27;: 0.8316831683168316},\n",
       "                               &#x27;1&#x27;: {&#x27;model&#x27;: MBRClassifier(base_estimator=RandomForestClassifier(random_state=42)),\n",
       "                                     &#x27;name&#x27;: &#x27;MBR[RF] - GloVe.6B.200D&#x27;,\n",
       "                                     &#x27;performance&#x27;: 0.9321357285429142}}))</pre><b>In a Jupyter environment, please rerun this cell to show the HTML representation or trust the notebook. <br />On GitHub, the HTML representation is unable to render, please try loading this page with nbviewer.org.</b></div><div class=\"sk-container\" hidden><div class=\"sk-item\"><div class=\"sk-estimator  sk-toggleable\"><input class=\"sk-toggleable__control sk-hidden--visually\" id=\"sk-estimator-id-17\" type=\"checkbox\" checked><label for=\"sk-estimator-id-17\" class=\"sk-toggleable__label  sk-toggleable__label-arrow\"><div><div>System</div></div><div><span class=\"sk-estimator-doc-link \">i<span>Not fitted</span></span></div></label><div class=\"sk-toggleable__content \"><pre>System(cs=ModuleSystem(mlb=MultiLabelBinarizer(),\n",
       "                       models={&#x27;0&#x27;: {&#x27;model&#x27;: MBRClassifier(base_estimator=RandomForestClassifier(random_state=42)),\n",
       "                                     &#x27;name&#x27;: &#x27;MBR[RF] - DistilRoBERTa&#x27;,\n",
       "                                     &#x27;performance&#x27;: 0.8093797276853253},\n",
       "                               &#x27;1&#x27;: {&#x27;model&#x27;: MBRClassifier(base_estimator=RandomForestClassifier(random_state=42)),\n",
       "                                     &#x27;name&#x27;: &#x27;MBR[RF] - DistilRoBERTa&#x27;,\n",
       "                                     &#x27;performance&#x27;: 0.651731160896130...\n",
       "                                     &#x27;performance&#x27;: 0.8666666666666667}}),\n",
       "       sw=ModuleSystem(mlb=MultiLabelBinarizer(),\n",
       "                       models={&#x27;0&#x27;: {&#x27;model&#x27;: MBRClassifier(base_estimator=RandomForestClassifier(random_state=42)),\n",
       "                                     &#x27;name&#x27;: &#x27;MBR[RF] - GloVe.6B.200D&#x27;,\n",
       "                                     &#x27;performance&#x27;: 0.8316831683168316},\n",
       "                               &#x27;1&#x27;: {&#x27;model&#x27;: MBRClassifier(base_estimator=RandomForestClassifier(random_state=42)),\n",
       "                                     &#x27;name&#x27;: &#x27;MBR[RF] - GloVe.6B.200D&#x27;,\n",
       "                                     &#x27;performance&#x27;: 0.9321357285429142}}))</pre></div> </div></div></div></div>"
      ],
      "text/plain": [
       "System(cs=ModuleSystem(mlb=MultiLabelBinarizer(),\n",
       "                       models={'0': {'model': MBRClassifier(base_estimator=RandomForestClassifier(random_state=42)),\n",
       "                                     'name': 'MBR[RF] - DistilRoBERTa',\n",
       "                                     'performance': 0.8093797276853253},\n",
       "                               '1': {'model': MBRClassifier(base_estimator=RandomForestClassifier(random_state=42)),\n",
       "                                     'name': 'MBR[RF] - DistilRoBERTa',\n",
       "                                     'performance': 0.651731160896130...\n",
       "                                     'performance': 0.8666666666666667}}),\n",
       "       sw=ModuleSystem(mlb=MultiLabelBinarizer(),\n",
       "                       models={'0': {'model': MBRClassifier(base_estimator=RandomForestClassifier(random_state=42)),\n",
       "                                     'name': 'MBR[RF] - GloVe.6B.200D',\n",
       "                                     'performance': 0.8316831683168316},\n",
       "                               '1': {'model': MBRClassifier(base_estimator=RandomForestClassifier(random_state=42)),\n",
       "                                     'name': 'MBR[RF] - GloVe.6B.200D',\n",
       "                                     'performance': 0.9321357285429142}}))"
      ]
     },
     "execution_count": 32,
     "metadata": {},
     "output_type": "execute_result"
    }
   ],
   "source": [
    "system = pickle.load(file=open(\"models/System.pickle\", \"rb\"))\n",
    "system"
   ]
  }
 ],
 "metadata": {
  "kaggle": {
   "accelerator": "none",
   "dataSources": [
    {
     "datasetId": 870709,
     "sourceId": 1483651,
     "sourceType": "datasetVersion"
    },
    {
     "datasetId": 4678553,
     "sourceId": 7954760,
     "sourceType": "datasetVersion"
    }
   ],
   "dockerImageVersionId": 30804,
   "isGpuEnabled": false,
   "isInternetEnabled": true,
   "language": "python",
   "sourceType": "notebook"
  },
  "kernelspec": {
   "display_name": "Python 3",
   "language": "python",
   "name": "python3"
  },
  "language_info": {
   "codemirror_mode": {
    "name": "ipython",
    "version": 3
   },
   "file_extension": ".py",
   "mimetype": "text/x-python",
   "name": "python",
   "nbconvert_exporter": "python",
   "pygments_lexer": "ipython3",
   "version": "3.11.13"
  },
  "papermill": {
   "default_parameters": {},
   "duration": 5394.913296,
   "end_time": "2024-12-12T17:56:06.436689",
   "environment_variables": {},
   "exception": null,
   "input_path": "__notebook__.ipynb",
   "output_path": "__notebook__.ipynb",
   "parameters": {},
   "start_time": "2024-12-12T16:26:11.523393",
   "version": "2.6.0"
  }
 },
 "nbformat": 4,
 "nbformat_minor": 5
}
