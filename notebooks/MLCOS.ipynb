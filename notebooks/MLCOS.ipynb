{
 "cells": [
  {
   "cell_type": "markdown",
   "id": "98f096dec80e0ebe",
   "metadata": {},
   "source": [
    "# Multi-Label Classification"
   ]
  },
  {
   "cell_type": "markdown",
   "id": "dc483734a09f5d7",
   "metadata": {},
   "source": [
    "## 1. Imports"
   ]
  },
  {
   "cell_type": "code",
   "execution_count": 1,
   "id": "b428eeb33ff81277",
   "metadata": {
    "ExecuteTime": {
     "end_time": "2025-02-23T16:11:04.010282Z",
     "start_time": "2025-02-23T16:11:01.413796Z"
    },
    "execution": {
     "iopub.execute_input": "2024-12-12T16:26:14.569199Z",
     "iopub.status.busy": "2024-12-12T16:26:14.568776Z",
     "iopub.status.idle": "2024-12-12T16:26:17.993533Z",
     "shell.execute_reply": "2024-12-12T16:26:17.992503Z"
    },
    "papermill": {
     "duration": 3.435545,
     "end_time": "2024-12-12T16:26:17.996431",
     "exception": false,
     "start_time": "2024-12-12T16:26:14.560886",
     "status": "completed"
    },
    "tags": []
   },
   "outputs": [],
   "source": [
    "import ast\n",
    "import os\n",
    "import pickle\n",
    "import random\n",
    "from dotenv import load_dotenv\n",
    "\n",
    "import numpy as np\n",
    "import pandas as pd\n",
    "from numpy.typing import ArrayLike\n",
    "from sklearn import preprocessing\n",
    "from sklearn.base import BaseEstimator, ClassifierMixin\n",
    "from sklearn.ensemble import RandomForestClassifier\n",
    "from sklearn.linear_model import LogisticRegression\n",
    "from sklearn.model_selection import train_test_split\n",
    "from sklearn.naive_bayes import GaussianNB\n",
    "from sklearn.tree import DecisionTreeClassifier\n",
    "from tqdm.contrib.itertools import product\n",
    "from tqdm.notebook import tqdm\n",
    "\n",
    "load_dotenv()\n",
    "\n",
    "RANDOM_STATE = int(os.getenv(\"RANDOM_STATE\"))\n",
    "TEST_SIZE = float(os.getenv(\"TEST_SIZE\"))\n",
    "\n",
    "os.chdir(os.getenv(\"ROOT\"))\n",
    "np.random.seed(seed=RANDOM_STATE)\n",
    "random.seed(a=RANDOM_STATE)\n",
    "\n",
    "import MLC\n",
    "from notebooks.utils import (\n",
    "    assess,\n",
    "    extract_models,\n",
    "    preprocess_texts,\n",
    "    replace_text_components,\n",
    "    translate_source_categories,\n",
    ")"
   ]
  },
  {
   "cell_type": "code",
   "execution_count": 2,
   "id": "c146dd300f8cb589",
   "metadata": {
    "ExecuteTime": {
     "end_time": "2025-02-23T16:11:06.605803Z",
     "start_time": "2025-02-23T16:11:06.504065Z"
    }
   },
   "outputs": [],
   "source": [
    "class ModuleSystem(BaseEstimator, ClassifierMixin):\n",
    "    def __init__(self, models, mlb):\n",
    "        self.models = models\n",
    "        self.mlb = mlb\n",
    "\n",
    "    def predict(self, X_test: ArrayLike) -> ArrayLike:\n",
    "        \"\"\"\n",
    "        Predict labels for each component using the chosen model in the dictionary.\n",
    "\n",
    "        Parameters\n",
    "        ----------\n",
    "        X_test : ArrayLike\n",
    "            Test data.\n",
    "\n",
    "        Returns\n",
    "        -------\n",
    "        Y_pred : ArrayLike\n",
    "            Predicted labels for each component.\n",
    "        \"\"\"\n",
    "        n_samples = X_test.shape[0]\n",
    "        n_components = len(self.models)\n",
    "        Y_pred = np.zeros((n_samples, n_components))\n",
    "\n",
    "        for idx, model_info in self.models.items():\n",
    "            model = model_info[\"model\"]\n",
    "            Y_pred[:, int(idx)] = (model.predict(X_test))[:, int(idx)]\n",
    "\n",
    "        return Y_pred"
   ]
  },
  {
   "cell_type": "markdown",
   "id": "937be48ecf442d99",
   "metadata": {},
   "source": [
    "## 2. Configurations & Constants"
   ]
  },
  {
   "cell_type": "code",
   "execution_count": 3,
   "id": "b6b3aebb6cd8391c",
   "metadata": {
    "ExecuteTime": {
     "end_time": "2025-02-23T17:06:06.075201Z",
     "start_time": "2025-02-23T17:06:06.070683Z"
    }
   },
   "outputs": [],
   "source": [
    "GENERAL_MAPPINGS = {\n",
    "    \"computer security\": \"computer security\",\n",
    "    \"operating systems\": \"operating systems\",\n",
    "    \"software\": \"software\",\n",
    "    \"programming languages\": \"software\",\n",
    "    \"hardware\": \"hardware\",\n",
    "    \"electronic components\": \"hardware\",\n",
    "    \"networking\": \"networking\",\n",
    "    \"internet technology\": \"networking\",\n",
    "}"
   ]
  },
  {
   "cell_type": "markdown",
   "id": "99d5754c059e2b92",
   "metadata": {},
   "source": [
    "## Model Training"
   ]
  },
  {
   "cell_type": "code",
   "execution_count": 4,
   "id": "1be69a703b4e8515",
   "metadata": {
    "ExecuteTime": {
     "end_time": "2025-02-23T16:11:10.830492Z",
     "start_time": "2025-02-23T16:11:10.820313Z"
    }
   },
   "outputs": [],
   "source": [
    "CLASSIFICATION_METHODS = {\n",
    "    \"br\": MLC.BRClassifier,\n",
    "    \"clr\": MLC.CLRClassifier,\n",
    "    \"cc\": MLC.CCClassifier,\n",
    "    \"lp\": MLC.LPClassifier,\n",
    "    \"pst\": MLC.PStClassifier,\n",
    "    #'cdn': MLC.CDNClassifier,\n",
    "    \"mbr\": MLC.MBRClassifier,\n",
    "    \"rakel\": MLC.RAkELClassifier,\n",
    "    \"homer\": MLC.HOMERClassifier,\n",
    "}\n",
    "\n",
    "CLASSIFICATION_ALGORITHM = {\n",
    "    \"lr\": LogisticRegression(\n",
    "        solver=\"liblinear\", max_iter=10000, random_state=RANDOM_STATE\n",
    "    ),\n",
    "    \"gnb\": GaussianNB(),\n",
    "    \"dt\": DecisionTreeClassifier(random_state=RANDOM_STATE),\n",
    "    \"rf\": RandomForestClassifier(random_state=RANDOM_STATE),\n",
    "}\n",
    "\n",
    "EMBEDDING_SOURCES = [\n",
    "    {\n",
    "        \"name\": \"GloVe.6B.50D\",\n",
    "        \"model-path\": os.getenv(\"GLOVE_6B_50D_PATH\"),\n",
    "        \"embedding-dim\": 50,\n",
    "    },\n",
    "    {\n",
    "        \"name\": \"GloVe.6B.100D\",\n",
    "        \"model-path\": os.getenv(\"GLOVE_6B_100D_PATH\"),\n",
    "        \"embedding-dim\": 100,\n",
    "    },\n",
    "    {\n",
    "        \"name\": \"GloVe.6B.200D\",\n",
    "        \"model-path\": os.getenv(\"GLOVE_6B_200D_PATH\"),\n",
    "        \"embedding-dim\": 200,\n",
    "    },\n",
    "    {\n",
    "        \"name\": \"GloVe.6B.300D\",\n",
    "        \"model-path\": os.getenv(\"GLOVE_6B_300D_PATH\"),\n",
    "        \"embedding-dim\": 300,\n",
    "    },\n",
    "    {\n",
    "        \"name\": \"DistilRoBERTa\",\n",
    "        \"model-path\": os.getenv(\"DISTILROBERTA_PATH\"),\n",
    "        \"embedding-dim\": None,\n",
    "    },\n",
    "    {\"name\": \"SBERT\", \"model-path\": os.getenv(\"SBERT_PATH\"), \"embedding-dim\": None},\n",
    "    {\n",
    "        \"name\": \"ATT&CK-BERT\",\n",
    "        \"model-path\": os.getenv(\"ATTACK_BERT_PATH\"),\n",
    "        \"embedding-dim\": None,\n",
    "    },\n",
    "]\n",
    "\n",
    "SYSTEM_MODULES = [\n",
    "    {\n",
    "        \"level\": \"general\",\n",
    "        \"targets\": {\n",
    "            \"computer security\": \"computer security\",\n",
    "            \"operating systems\": \"operating systems\",\n",
    "            \"software\": \"software\",\n",
    "            \"programming languages\": \"software\",\n",
    "            \"hardware\": \"hardware\",\n",
    "            \"electronic components\": \"hardware\",\n",
    "            \"networking\": \"networking\",\n",
    "            \"internet technology\": \"networking\",\n",
    "        },\n",
    "    },\n",
    "    {\n",
    "        \"level\": \"computer security\",\n",
    "        \"targets\": {\n",
    "            \"network security\": \"network security\",\n",
    "            \"antivirus and malware\": \"antivirus and malware\",\n",
    "        },\n",
    "    },\n",
    "    {\n",
    "        \"level\": \"operating systems\",\n",
    "        \"targets\": {\n",
    "            \"mac os\": \"mac os\",\n",
    "            \"windows\": \"windows\",\n",
    "            \"unix\": \"unix\",\n",
    "            \"linux\": \"linux\",\n",
    "        },\n",
    "    },\n",
    "    {\"level\": \"software\", \"targets\": {\"databases\": \"databases\"}},\n",
    "    {\n",
    "        \"level\": \"hardware\",\n",
    "        \"targets\": {\n",
    "            \"computer\": \"computer\",\n",
    "            \"computer components\": \"computer components\",\n",
    "            \"computer networking\": \"computer networking\",\n",
    "        },\n",
    "    },\n",
    "]"
   ]
  },
  {
   "cell_type": "code",
   "execution_count": null,
   "id": "d3e9c16d",
   "metadata": {},
   "outputs": [],
   "source": [
    "\n",
    "module = ModuleSystem(top_performing_models, mlb)\n",
    "y_val_pred = module.predict(X_val)\n",
    "validation_results = assess(y_val, y_val_pred)"
   ]
  },
  {
   "cell_type": "code",
   "execution_count": 5,
   "id": "7eec5a65",
   "metadata": {
    "ExecuteTime": {
     "end_time": "2025-02-23T19:08:52.228106Z",
     "start_time": "2025-02-23T17:25:32.130297Z"
    }
   },
   "outputs": [
    {
     "data": {
      "application/vnd.jupyter.widget-view+json": {
       "model_id": "c3fe03adce0c469199c5b7fcfc227e59",
       "version_major": 2,
       "version_minor": 0
      },
      "text/plain": [
       "Modules:   0%|          | 0/5 [00:00<?, ?module/s]"
      ]
     },
     "metadata": {},
     "output_type": "display_data"
    },
    {
     "data": {
      "application/vnd.jupyter.widget-view+json": {
       "model_id": "1262fbb811d84a76abf801eebdb981c3",
       "version_major": 2,
       "version_minor": 0
      },
      "text/plain": [
       "Embedders:   0%|          | 0/7 [00:00<?, ?embedder/s]"
      ]
     },
     "metadata": {},
     "output_type": "display_data"
    },
    {
     "data": {
      "application/vnd.jupyter.widget-view+json": {
       "model_id": "76c2b99a8e3349b1966478b84d0da7e4",
       "version_major": 2,
       "version_minor": 0
      },
      "text/plain": [
       "Methods & Algorithms:   0%|          | 0/32 [00:00<?, ?pair/s]"
      ]
     },
     "metadata": {},
     "output_type": "display_data"
    },
    {
     "name": "stdout",
     "output_type": "stream",
     "text": [
      "HOMERClassifier(base_estimator=LogisticRegression(max_iter=10000,\n",
      "                                                  random_state=42,\n",
      "                                                  solver='liblinear')) failed to fit due to This solver needs samples of at least 2 classes in the data, but the data contains only one class: np.int64(1)\n",
      "==========================================================\n",
      "General Performance\n",
      "==========================================================\n",
      "Accuracy:\t66.40%\n",
      "Hamming Loss:\t0.102\n",
      "                  precision recall f1-score  support   auc\n",
      "computer security      0.84   0.71     0.77  1389.00  0.80\n",
      "hardware               0.94   0.47     0.63   369.00  0.73\n",
      "networking             0.93   0.50     0.65   193.00  0.75\n",
      "operating systems      0.93   0.60     0.73   123.00  0.80\n",
      "other                  0.66   0.92     0.77  1282.00  0.80\n",
      "software               0.85   0.69     0.77   761.00  0.83\n",
      "micro avg              0.77   0.74     0.75  4117.00  0.84\n",
      "macro avg              0.86   0.65     0.72  4117.00  0.79\n",
      "weighted avg           0.80   0.74     0.75  4117.00  0.80\n",
      "samples avg            0.74   0.74     0.73  4117.00  0.84\n",
      "==========================================================\n",
      "\n"
     ]
    },
    {
     "data": {
      "application/vnd.jupyter.widget-view+json": {
       "model_id": "7e18b5800b3a4fee9cc200a7a011228c",
       "version_major": 2,
       "version_minor": 0
      },
      "text/plain": [
       "Methods & Algorithms:   0%|          | 0/32 [00:00<?, ?pair/s]"
      ]
     },
     "metadata": {},
     "output_type": "display_data"
    },
    {
     "name": "stdout",
     "output_type": "stream",
     "text": [
      "HOMERClassifier(base_estimator=LogisticRegression(max_iter=10000,\n",
      "                                                  random_state=42,\n",
      "                                                  solver='liblinear')) failed to fit due to This solver needs samples of at least 2 classes in the data, but the data contains only one class: np.int64(1)\n"
     ]
    },
    {
     "data": {
      "application/vnd.jupyter.widget-view+json": {
       "model_id": "d807354b9f944864ac21fa487cb8e48b",
       "version_major": 2,
       "version_minor": 0
      },
      "text/plain": [
       "Methods & Algorithms:   0%|          | 0/32 [00:00<?, ?pair/s]"
      ]
     },
     "metadata": {},
     "output_type": "display_data"
    },
    {
     "name": "stdout",
     "output_type": "stream",
     "text": [
      "HOMERClassifier(base_estimator=LogisticRegression(max_iter=10000,\n",
      "                                                  random_state=42,\n",
      "                                                  solver='liblinear')) failed to fit due to This solver needs samples of at least 2 classes in the data, but the data contains only one class: np.int64(1)\n",
      "==========================================================\n",
      "General Performance\n",
      "==========================================================\n",
      "Accuracy:\t66.49%\n",
      "Hamming Loss:\t0.094\n",
      "                  precision recall f1-score  support   auc\n",
      "computer security      0.86   0.73     0.79  1389.00  0.82\n",
      "hardware               0.94   0.47     0.63   369.00  0.74\n",
      "networking             0.93   0.49     0.64   193.00  0.74\n",
      "operating systems      0.77   0.72     0.74   123.00  0.85\n",
      "other                  0.73   0.85     0.78  1282.00  0.82\n",
      "software               0.90   0.66     0.76   761.00  0.82\n",
      "micro avg              0.81   0.72     0.76  4117.00  0.84\n",
      "macro avg              0.85   0.65     0.72  4117.00  0.80\n",
      "weighted avg           0.83   0.72     0.76  4117.00  0.81\n",
      "samples avg            0.73   0.72     0.72  4117.00  0.84\n",
      "==========================================================\n",
      "\n"
     ]
    },
    {
     "data": {
      "application/vnd.jupyter.widget-view+json": {
       "model_id": "2c98acc4abb340ae9a59df71ed94cb5d",
       "version_major": 2,
       "version_minor": 0
      },
      "text/plain": [
       "Methods & Algorithms:   0%|          | 0/32 [00:00<?, ?pair/s]"
      ]
     },
     "metadata": {},
     "output_type": "display_data"
    },
    {
     "name": "stdout",
     "output_type": "stream",
     "text": [
      "HOMERClassifier(base_estimator=LogisticRegression(max_iter=10000,\n",
      "                                                  random_state=42,\n",
      "                                                  solver='liblinear')) failed to fit due to This solver needs samples of at least 2 classes in the data, but the data contains only one class: np.int64(1)\n",
      "==========================================================\n",
      "General Performance\n",
      "==========================================================\n",
      "Accuracy:\t67.41%\n",
      "Hamming Loss:\t0.092\n",
      "                  precision recall f1-score  support   auc\n",
      "computer security      0.84   0.74     0.79  1389.00  0.82\n",
      "hardware               0.96   0.47     0.63   369.00  0.74\n",
      "networking             0.93   0.49     0.64   193.00  0.74\n",
      "operating systems      0.96   0.61     0.75   123.00  0.80\n",
      "other                  0.73   0.88     0.80  1282.00  0.83\n",
      "software               0.90   0.67     0.77   761.00  0.82\n",
      "micro avg              0.81   0.73     0.77  4117.00  0.84\n",
      "macro avg              0.89   0.64     0.73  4117.00  0.79\n",
      "weighted avg           0.83   0.73     0.77  4117.00  0.81\n",
      "samples avg            0.75   0.74     0.74  4117.00  0.85\n",
      "==========================================================\n",
      "\n"
     ]
    },
    {
     "data": {
      "application/vnd.jupyter.widget-view+json": {
       "model_id": "f8a203abdee0473c96f98d05a084d756",
       "version_major": 2,
       "version_minor": 0
      },
      "text/plain": [
       "modules.json:   0%|          | 0.00/349 [00:00<?, ?B/s]"
      ]
     },
     "metadata": {},
     "output_type": "display_data"
    },
    {
     "data": {
      "application/vnd.jupyter.widget-view+json": {
       "model_id": "6e0c2c4247854c7eb069c6814cbaaba8",
       "version_major": 2,
       "version_minor": 0
      },
      "text/plain": [
       "config_sentence_transformers.json:   0%|          | 0.00/116 [00:00<?, ?B/s]"
      ]
     },
     "metadata": {},
     "output_type": "display_data"
    },
    {
     "data": {
      "application/vnd.jupyter.widget-view+json": {
       "model_id": "26025e8e8aaf433db8f9d895a1087e1b",
       "version_major": 2,
       "version_minor": 0
      },
      "text/plain": [
       "README.md:   0%|          | 0.00/10.3k [00:00<?, ?B/s]"
      ]
     },
     "metadata": {},
     "output_type": "display_data"
    },
    {
     "data": {
      "application/vnd.jupyter.widget-view+json": {
       "model_id": "529c4aaa55774554b0752946799706ad",
       "version_major": 2,
       "version_minor": 0
      },
      "text/plain": [
       "sentence_bert_config.json:   0%|          | 0.00/53.0 [00:00<?, ?B/s]"
      ]
     },
     "metadata": {},
     "output_type": "display_data"
    },
    {
     "data": {
      "application/vnd.jupyter.widget-view+json": {
       "model_id": "3a7d5b4b922341a198638ea8ff8b38b9",
       "version_major": 2,
       "version_minor": 0
      },
      "text/plain": [
       "config.json:   0%|          | 0.00/653 [00:00<?, ?B/s]"
      ]
     },
     "metadata": {},
     "output_type": "display_data"
    },
    {
     "data": {
      "application/vnd.jupyter.widget-view+json": {
       "model_id": "c0dc7e3eebdb41fabf07e3b13daf6763",
       "version_major": 2,
       "version_minor": 0
      },
      "text/plain": [
       "model.safetensors:   0%|          | 0.00/328M [00:00<?, ?B/s]"
      ]
     },
     "metadata": {},
     "output_type": "display_data"
    },
    {
     "data": {
      "application/vnd.jupyter.widget-view+json": {
       "model_id": "b48567b670364190aed5aef7efda7c23",
       "version_major": 2,
       "version_minor": 0
      },
      "text/plain": [
       "tokenizer_config.json:   0%|          | 0.00/333 [00:00<?, ?B/s]"
      ]
     },
     "metadata": {},
     "output_type": "display_data"
    },
    {
     "data": {
      "application/vnd.jupyter.widget-view+json": {
       "model_id": "c6044566bdc94c40a5ae8df32f51202a",
       "version_major": 2,
       "version_minor": 0
      },
      "text/plain": [
       "vocab.json:   0%|          | 0.00/798k [00:00<?, ?B/s]"
      ]
     },
     "metadata": {},
     "output_type": "display_data"
    },
    {
     "data": {
      "application/vnd.jupyter.widget-view+json": {
       "model_id": "5a2fe9d1d2214823a5d577a66da950a2",
       "version_major": 2,
       "version_minor": 0
      },
      "text/plain": [
       "merges.txt:   0%|          | 0.00/456k [00:00<?, ?B/s]"
      ]
     },
     "metadata": {},
     "output_type": "display_data"
    },
    {
     "data": {
      "application/vnd.jupyter.widget-view+json": {
       "model_id": "98489ad9a99e4a8e97ddf415b52d2287",
       "version_major": 2,
       "version_minor": 0
      },
      "text/plain": [
       "tokenizer.json:   0%|          | 0.00/1.36M [00:00<?, ?B/s]"
      ]
     },
     "metadata": {},
     "output_type": "display_data"
    },
    {
     "data": {
      "application/vnd.jupyter.widget-view+json": {
       "model_id": "a50ee577a3a440b4b140d5116eb43bc2",
       "version_major": 2,
       "version_minor": 0
      },
      "text/plain": [
       "special_tokens_map.json:   0%|          | 0.00/239 [00:00<?, ?B/s]"
      ]
     },
     "metadata": {},
     "output_type": "display_data"
    },
    {
     "data": {
      "application/vnd.jupyter.widget-view+json": {
       "model_id": "226acec3b1d24e6e87486cf414f2b5ef",
       "version_major": 2,
       "version_minor": 0
      },
      "text/plain": [
       "1_Pooling%2Fconfig.json:   0%|          | 0.00/190 [00:00<?, ?B/s]"
      ]
     },
     "metadata": {},
     "output_type": "display_data"
    },
    {
     "data": {
      "application/vnd.jupyter.widget-view+json": {
       "model_id": "926d23bee18b4b79bc5a0957ee3a91c4",
       "version_major": 2,
       "version_minor": 0
      },
      "text/plain": [
       "Methods & Algorithms:   0%|          | 0/32 [00:00<?, ?pair/s]"
      ]
     },
     "metadata": {},
     "output_type": "display_data"
    },
    {
     "name": "stdout",
     "output_type": "stream",
     "text": [
      "HOMERClassifier(base_estimator=LogisticRegression(max_iter=10000,\n",
      "                                                  random_state=42,\n",
      "                                                  solver='liblinear')) failed to fit due to This solver needs samples of at least 2 classes in the data, but the data contains only one class: np.int64(1)\n",
      "==========================================================\n",
      "General Performance\n",
      "==========================================================\n",
      "Accuracy:\t69.35%\n",
      "Hamming Loss:\t0.083\n",
      "                  precision recall f1-score  support   auc\n",
      "computer security      0.87   0.79     0.83  1389.00  0.85\n",
      "hardware               0.96   0.46     0.63   369.00  0.73\n",
      "networking             0.93   0.46     0.61   193.00  0.73\n",
      "operating systems      0.92   0.59     0.72   123.00  0.80\n",
      "other                  0.78   0.86     0.82  1282.00  0.85\n",
      "software               0.92   0.66     0.77   761.00  0.82\n",
      "micro avg              0.85   0.74     0.79  4117.00  0.85\n",
      "macro avg              0.90   0.64     0.73  4117.00  0.80\n",
      "weighted avg           0.86   0.74     0.78  4117.00  0.83\n",
      "samples avg            0.77   0.75     0.75  4117.00  0.86\n",
      "==========================================================\n",
      "\n"
     ]
    },
    {
     "data": {
      "application/vnd.jupyter.widget-view+json": {
       "model_id": "e55d26ffe7334e02b472d2f329bf6536",
       "version_major": 2,
       "version_minor": 0
      },
      "text/plain": [
       "modules.json:   0%|          | 0.00/349 [00:00<?, ?B/s]"
      ]
     },
     "metadata": {},
     "output_type": "display_data"
    },
    {
     "data": {
      "application/vnd.jupyter.widget-view+json": {
       "model_id": "b489936a0ed24c4488912fea5053c31c",
       "version_major": 2,
       "version_minor": 0
      },
      "text/plain": [
       "config_sentence_transformers.json:   0%|          | 0.00/116 [00:00<?, ?B/s]"
      ]
     },
     "metadata": {},
     "output_type": "display_data"
    },
    {
     "data": {
      "application/vnd.jupyter.widget-view+json": {
       "model_id": "97c38be915d447d1a4890e1658a76ee3",
       "version_major": 2,
       "version_minor": 0
      },
      "text/plain": [
       "README.md:   0%|          | 0.00/10.6k [00:00<?, ?B/s]"
      ]
     },
     "metadata": {},
     "output_type": "display_data"
    },
    {
     "data": {
      "application/vnd.jupyter.widget-view+json": {
       "model_id": "3285fa53cd0345348b2293d576cdeefa",
       "version_major": 2,
       "version_minor": 0
      },
      "text/plain": [
       "sentence_bert_config.json:   0%|          | 0.00/53.0 [00:00<?, ?B/s]"
      ]
     },
     "metadata": {},
     "output_type": "display_data"
    },
    {
     "data": {
      "application/vnd.jupyter.widget-view+json": {
       "model_id": "90f888acf30f429483c7a03dd4fb9ebf",
       "version_major": 2,
       "version_minor": 0
      },
      "text/plain": [
       "config.json:   0%|          | 0.00/571 [00:00<?, ?B/s]"
      ]
     },
     "metadata": {},
     "output_type": "display_data"
    },
    {
     "data": {
      "application/vnd.jupyter.widget-view+json": {
       "model_id": "a7cc0f0366aa489d96d2de2ee263bbcf",
       "version_major": 2,
       "version_minor": 0
      },
      "text/plain": [
       "model.safetensors:   0%|          | 0.00/438M [00:00<?, ?B/s]"
      ]
     },
     "metadata": {},
     "output_type": "display_data"
    },
    {
     "data": {
      "application/vnd.jupyter.widget-view+json": {
       "model_id": "154d49cb1e264495b39f0a5f5808bfdb",
       "version_major": 2,
       "version_minor": 0
      },
      "text/plain": [
       "tokenizer_config.json:   0%|          | 0.00/363 [00:00<?, ?B/s]"
      ]
     },
     "metadata": {},
     "output_type": "display_data"
    },
    {
     "data": {
      "application/vnd.jupyter.widget-view+json": {
       "model_id": "91d18c7e85d340bb88af46e96f9263fc",
       "version_major": 2,
       "version_minor": 0
      },
      "text/plain": [
       "vocab.txt:   0%|          | 0.00/232k [00:00<?, ?B/s]"
      ]
     },
     "metadata": {},
     "output_type": "display_data"
    },
    {
     "data": {
      "application/vnd.jupyter.widget-view+json": {
       "model_id": "eb4b62a3642e4728ab75439399a2adcc",
       "version_major": 2,
       "version_minor": 0
      },
      "text/plain": [
       "tokenizer.json:   0%|          | 0.00/466k [00:00<?, ?B/s]"
      ]
     },
     "metadata": {},
     "output_type": "display_data"
    },
    {
     "data": {
      "application/vnd.jupyter.widget-view+json": {
       "model_id": "d15efb57faea4d47976eca716137c7ad",
       "version_major": 2,
       "version_minor": 0
      },
      "text/plain": [
       "special_tokens_map.json:   0%|          | 0.00/239 [00:00<?, ?B/s]"
      ]
     },
     "metadata": {},
     "output_type": "display_data"
    },
    {
     "data": {
      "application/vnd.jupyter.widget-view+json": {
       "model_id": "64482499fcb341c7b4aded31d5e59b8b",
       "version_major": 2,
       "version_minor": 0
      },
      "text/plain": [
       "1_Pooling%2Fconfig.json:   0%|          | 0.00/190 [00:00<?, ?B/s]"
      ]
     },
     "metadata": {},
     "output_type": "display_data"
    },
    {
     "data": {
      "application/vnd.jupyter.widget-view+json": {
       "model_id": "196aa97cf98041d2933f2c3fe1f34c4e",
       "version_major": 2,
       "version_minor": 0
      },
      "text/plain": [
       "Methods & Algorithms:   0%|          | 0/32 [00:00<?, ?pair/s]"
      ]
     },
     "metadata": {},
     "output_type": "display_data"
    },
    {
     "name": "stdout",
     "output_type": "stream",
     "text": [
      "HOMERClassifier(base_estimator=LogisticRegression(max_iter=10000,\n",
      "                                                  random_state=42,\n",
      "                                                  solver='liblinear')) failed to fit due to This solver needs samples of at least 2 classes in the data, but the data contains only one class: np.int64(1)\n",
      "==========================================================\n",
      "General Performance\n",
      "==========================================================\n",
      "Accuracy:\t70.61%\n",
      "Hamming Loss:\t0.083\n",
      "                  precision recall f1-score  support   auc\n",
      "computer security      0.86   0.79     0.82  1389.00  0.85\n",
      "hardware               0.92   0.48     0.63   369.00  0.74\n",
      "networking             0.95   0.49     0.65   193.00  0.75\n",
      "operating systems      0.75   0.72     0.73   123.00  0.85\n",
      "other                  0.76   0.88     0.82  1282.00  0.85\n",
      "software               0.90   0.71     0.79   761.00  0.84\n",
      "micro avg              0.83   0.76     0.79  4117.00  0.86\n",
      "macro avg              0.86   0.68     0.74  4117.00  0.81\n",
      "weighted avg           0.84   0.76     0.79  4117.00  0.83\n",
      "samples avg            0.77   0.76     0.76  4117.00  0.86\n",
      "==========================================================\n",
      "\n"
     ]
    },
    {
     "data": {
      "application/vnd.jupyter.widget-view+json": {
       "model_id": "1613b71c6b6847ae992f036e816eb0fa",
       "version_major": 2,
       "version_minor": 0
      },
      "text/plain": [
       "Methods & Algorithms:   0%|          | 0/32 [00:00<?, ?pair/s]"
      ]
     },
     "metadata": {},
     "output_type": "display_data"
    },
    {
     "name": "stdout",
     "output_type": "stream",
     "text": [
      "HOMERClassifier(base_estimator=LogisticRegression(max_iter=10000,\n",
      "                                                  random_state=42,\n",
      "                                                  solver='liblinear')) failed to fit due to This solver needs samples of at least 2 classes in the data, but the data contains only one class: np.int64(1)\n"
     ]
    },
    {
     "ename": "FileNotFoundError",
     "evalue": "[Errno 2] No such file or directory: 'None/General.pkl'",
     "output_type": "error",
     "traceback": [
      "\u001b[0;31m---------------------------------------------------------------------------\u001b[0m",
      "\u001b[0;31mFileNotFoundError\u001b[0m                         Traceback (most recent call last)",
      "Cell \u001b[0;32mIn[5], line 111\u001b[0m\n\u001b[1;32m    108\u001b[0m     \u001b[38;5;28;01mdel\u001b[39;00m x, X_train, X_val, y_train, y_val, trained_models\n\u001b[1;32m    110\u001b[0m module_filename \u001b[38;5;241m=\u001b[39m \u001b[38;5;124mf\u001b[39m\u001b[38;5;124m\"\u001b[39m\u001b[38;5;132;01m{\u001b[39;00mos\u001b[38;5;241m.\u001b[39mgetenv(\u001b[38;5;124m\"\u001b[39m\u001b[38;5;124mMODELS_DIR\u001b[39m\u001b[38;5;124m\"\u001b[39m)\u001b[38;5;132;01m}\u001b[39;00m\u001b[38;5;124m/\u001b[39m\u001b[38;5;132;01m{\u001b[39;00mmodule_config[\u001b[38;5;124m\"\u001b[39m\u001b[38;5;124mlevel\u001b[39m\u001b[38;5;124m\"\u001b[39m]\u001b[38;5;241m.\u001b[39mcapitalize()\u001b[38;5;132;01m}\u001b[39;00m\u001b[38;5;124m\"\u001b[39m\n\u001b[0;32m--> 111\u001b[0m \u001b[38;5;28;01mwith\u001b[39;00m \u001b[38;5;28;43mopen\u001b[39;49m\u001b[43m(\u001b[49m\u001b[38;5;124;43mf\u001b[39;49m\u001b[38;5;124;43m\"\u001b[39;49m\u001b[38;5;132;43;01m{\u001b[39;49;00m\u001b[43mmodule_filename\u001b[49m\u001b[38;5;132;43;01m}\u001b[39;49;00m\u001b[38;5;124;43m.pkl\u001b[39;49m\u001b[38;5;124;43m\"\u001b[39;49m\u001b[43m,\u001b[49m\u001b[43m \u001b[49m\u001b[38;5;124;43m\"\u001b[39;49m\u001b[38;5;124;43mwb\u001b[39;49m\u001b[38;5;124;43m\"\u001b[39;49m\u001b[43m)\u001b[49m \u001b[38;5;28;01mas\u001b[39;00m f:\n\u001b[1;32m    112\u001b[0m     pickle\u001b[38;5;241m.\u001b[39mdump(best_module, f)\n",
      "File \u001b[0;32m~/.local/my_programs/anaconda3/envs/vsc/lib/python3.13/site-packages/IPython/core/interactiveshell.py:324\u001b[0m, in \u001b[0;36m_modified_open\u001b[0;34m(file, *args, **kwargs)\u001b[0m\n\u001b[1;32m    317\u001b[0m \u001b[38;5;28;01mif\u001b[39;00m file \u001b[38;5;129;01min\u001b[39;00m {\u001b[38;5;241m0\u001b[39m, \u001b[38;5;241m1\u001b[39m, \u001b[38;5;241m2\u001b[39m}:\n\u001b[1;32m    318\u001b[0m     \u001b[38;5;28;01mraise\u001b[39;00m \u001b[38;5;167;01mValueError\u001b[39;00m(\n\u001b[1;32m    319\u001b[0m         \u001b[38;5;124mf\u001b[39m\u001b[38;5;124m\"\u001b[39m\u001b[38;5;124mIPython won\u001b[39m\u001b[38;5;124m'\u001b[39m\u001b[38;5;124mt let you open fd=\u001b[39m\u001b[38;5;132;01m{\u001b[39;00mfile\u001b[38;5;132;01m}\u001b[39;00m\u001b[38;5;124m by default \u001b[39m\u001b[38;5;124m\"\u001b[39m\n\u001b[1;32m    320\u001b[0m         \u001b[38;5;124m\"\u001b[39m\u001b[38;5;124mas it is likely to crash IPython. If you know what you are doing, \u001b[39m\u001b[38;5;124m\"\u001b[39m\n\u001b[1;32m    321\u001b[0m         \u001b[38;5;124m\"\u001b[39m\u001b[38;5;124myou can use builtins\u001b[39m\u001b[38;5;124m'\u001b[39m\u001b[38;5;124m open.\u001b[39m\u001b[38;5;124m\"\u001b[39m\n\u001b[1;32m    322\u001b[0m     )\n\u001b[0;32m--> 324\u001b[0m \u001b[38;5;28;01mreturn\u001b[39;00m \u001b[43mio_open\u001b[49m\u001b[43m(\u001b[49m\u001b[43mfile\u001b[49m\u001b[43m,\u001b[49m\u001b[43m \u001b[49m\u001b[38;5;241;43m*\u001b[39;49m\u001b[43margs\u001b[49m\u001b[43m,\u001b[49m\u001b[43m \u001b[49m\u001b[38;5;241;43m*\u001b[39;49m\u001b[38;5;241;43m*\u001b[39;49m\u001b[43mkwargs\u001b[49m\u001b[43m)\u001b[49m\n",
      "\u001b[0;31mFileNotFoundError\u001b[0m: [Errno 2] No such file or directory: 'None/General.pkl'"
     ]
    }
   ],
   "source": [
    "with open(os.getenv(\"TEMP_CATEGORIES_TRAIN_CSV\"), \"rb\") as f:\n",
    "    train = pd.read_csv(f)\n",
    "    train = train.assign(\n",
    "        tweet=lambda df: df[\"tweet\"].apply(func=ast.literal_eval),\n",
    "        watson=lambda df: df[\"watson\"].apply(func=ast.literal_eval),\n",
    "        urls=lambda df: df[\"urls\"].apply(func=ast.literal_eval),\n",
    "        watson_list=lambda df: df[\"watson_list\"].apply(func=ast.literal_eval),\n",
    "        target=lambda df: df[\"target\"].apply(func=ast.literal_eval),\n",
    "    )\n",
    "    train[\"text\"] = [replace_text_components(t) for t in train[\"text\"]]\n",
    "\n",
    "for module_config in tqdm(SYSTEM_MODULES, desc=\"Modules\", unit=\"module\"):\n",
    "    accuracy = 0\n",
    "    best_module = None\n",
    "\n",
    "    for embedder in tqdm(EMBEDDING_SOURCES, desc=\"Embedders\", unit=\"embedder\"):\n",
    "        tweets = train.assign(\n",
    "            target=lambda df: df[\"target\"].apply(\n",
    "                func=translate_source_categories, args=(module_config[\"targets\"],)\n",
    "            )\n",
    "        )\n",
    "\n",
    "        if module_config[\"level\"] != \"general\":\n",
    "            tweets = tweets[\n",
    "                tweets[\"watson_list\"].apply(lambda x: module_config[\"level\"] in x)\n",
    "            ].reset_index(drop=True)\n",
    "\n",
    "        tweets[\"text\"] = [replace_text_components(t) for t in tweets[\"text\"]]\n",
    "        texts = tweets[\"text\"]\n",
    "        x = preprocess_texts(\n",
    "            list_str=texts,\n",
    "            model_path=embedder[\"model-path\"],\n",
    "            embedding_dim=embedder[\"embedding-dim\"],\n",
    "        )\n",
    "\n",
    "        targets = tweets[\"target\"]\n",
    "        mlb = preprocessing.MultiLabelBinarizer()\n",
    "        y = mlb.fit_transform(y=targets)\n",
    "        _, y_mcp = np.unique(ar=y, axis=0, return_inverse=True)\n",
    "\n",
    "        X_train, X_val, y_train, y_val = train_test_split(\n",
    "            x,\n",
    "            y,\n",
    "            test_size=TEST_SIZE,\n",
    "            random_state=RANDOM_STATE,\n",
    "            shuffle=True,\n",
    "            stratify=y_mcp,\n",
    "        )\n",
    "\n",
    "        models = {}\n",
    "        trained_models = []\n",
    "        for method_name, algorithm_name in product(\n",
    "            CLASSIFICATION_METHODS,\n",
    "            CLASSIFICATION_ALGORITHM,\n",
    "            desc=\"Methods & Algorithms\",\n",
    "            unit=\"pair\",\n",
    "        ):\n",
    "            model = CLASSIFICATION_METHODS[method_name](\n",
    "                CLASSIFICATION_ALGORITHM[algorithm_name]\n",
    "            )\n",
    "            try:\n",
    "                model.fit(X_train, y_train)\n",
    "                model_name = f\"{method_name.upper()}[{algorithm_name.upper()}] - {embedder['name']}\"\n",
    "            except Exception as e:\n",
    "                print(f\"{model} failed to fit due to {e}\")\n",
    "                model_name = None\n",
    "                continue\n",
    "            if model_name is not None:\n",
    "                trained_models.append(model_name)\n",
    "                models[model_name] = {\n",
    "                    \"model\": model,\n",
    "                    \"assess\": model.evaluate(X_val, y_val),\n",
    "                }\n",
    "\n",
    "        top_performing_models = extract_models(mlb.classes_, models, \"f1-score\")\n",
    "        module = ModuleSystem(top_performing_models, mlb)\n",
    "        y_val_pred = module.predict(X_val)\n",
    "        validation_results = assess(y_val, y_val_pred)\n",
    "\n",
    "        # Convert the predicted labels back to the original format using MultiLabelBinarizer\n",
    "        if validation_results[\"accuracy\"] > accuracy:\n",
    "            accuracy = validation_results[\"accuracy\"]\n",
    "            best_module = module\n",
    "            print(\"==========================================================\")\n",
    "            print(f\"{module_config[\"level\"].capitalize()} Performance\")\n",
    "            print(\"==========================================================\")\n",
    "            print(f\"Accuracy:\\t{validation_results['accuracy'] * 100:.2f}%\")\n",
    "            print(f\"Hamming Loss:\\t{validation_results['hamming_loss']:.3f}\")\n",
    "            report = pd.DataFrame(validation_results[\"report\"])\n",
    "            report.columns = list(module.mlb.classes_) + [\n",
    "                \"micro avg\",\n",
    "                \"macro avg\",\n",
    "                \"weighted avg\",\n",
    "                \"samples avg\",\n",
    "            ]\n",
    "            report = (\n",
    "                report.transpose()\n",
    "                .map(lambda x: f\"{x:.2f}\" if isinstance(x, float) else x)\n",
    "                .to_string()\n",
    "            )\n",
    "            print(f\"{report}\")\n",
    "            print(\"==========================================================\\n\")\n",
    "\n",
    "        model_dictionary_filename = f\"{os.getenv(\"MAPPINGS_DIR\")}/{module_config[\"level\"].capitalize()}.{embedder['name']}\"\n",
    "        with open(f\"{model_dictionary_filename}.pkl\", \"wb\") as f:\n",
    "            pickle.dump(models, f)\n",
    "\n",
    "        del x, X_train, X_val, y_train, y_val, trained_models\n",
    "\n",
    "    module_filename = f\"{os.getenv(\"MODELS_DIR\")}/{module_config[\"level\"].capitalize()}\"\n",
    "    with open(f\"{module_filename}.pkl\", \"wb\") as f:\n",
    "        pickle.dump(best_module, f)"
   ]
  },
  {
   "cell_type": "markdown",
   "id": "1df7d58be389a97",
   "metadata": {},
   "source": [
    "# 7. Model Evaluation"
   ]
  },
  {
   "cell_type": "code",
   "execution_count": null,
   "id": "739a600adf39b195",
   "metadata": {
    "ExecuteTime": {
     "end_time": "2025-02-23T21:03:06.168447Z",
     "start_time": "2025-02-23T21:03:04.057154Z"
    }
   },
   "outputs": [],
   "source": [
    "with open(\"../data/tweets-dataset/categories_test.csv\", \"rb\") as f:\n",
    "    test_tweets = pd.read_csv(f)\n",
    "\n",
    "test_tweets = test_tweets.assign(\n",
    "    tweet=lambda df: df[\"tweet\"].apply(func=ast.literal_eval),\n",
    "    watson=lambda df: df[\"watson\"].apply(func=ast.literal_eval),\n",
    "    urls=lambda df: df[\"urls\"].apply(func=ast.literal_eval),\n",
    "    watson_list=lambda df: df[\"watson_list\"].apply(func=ast.literal_eval),\n",
    "    target=lambda df: df[\"target\"].apply(func=ast.literal_eval),\n",
    ")\n",
    "test_tweets['text'] = [replace_text_components(t) for t in test_tweets['text']]\n",
    "\n",
    "test_tweets = test_tweets.assign(\n",
    "    target=lambda df: df[\"target\"].apply(func=map_targets, args=(\n",
    "        {\n",
    "            'computer security': 'computer security',\n",
    "            'operating systems': 'operating systems',\n",
    "            'software': 'software',\n",
    "            'programming languages': 'software',\n",
    "            'hardware': 'hardware',\n",
    "            'electronic components': 'hardware',\n",
    "            'networking': 'networking',\n",
    "            'internet technology': 'networking',\n",
    "            'network security': 'network security',\n",
    "            'antivirus and malware': 'antivirus and malware',\n",
    "            'mac os': 'mac os',\n",
    "            'windows': 'windows',\n",
    "            'unix': 'unix',\n",
    "            'linux': 'linux',\n",
    "            'databases': 'databases',\n",
    "            'computer': 'computer',\n",
    "            'computer components': 'computer components',\n",
    "            'computer networking': 'computer networking'\n",
    "        }, ))\n",
    ")\n",
    "\n",
    "print(f\"Threat Tweets: {len(test_tweets)}\")\n",
    "test_tweets.head()"
   ]
  },
  {
   "cell_type": "code",
   "execution_count": null,
   "id": "8e8511854ebcf0be",
   "metadata": {
    "ExecuteTime": {
     "end_time": "2025-02-23T23:31:09.865339Z",
     "start_time": "2025-02-23T23:31:09.335114Z"
    }
   },
   "outputs": [],
   "source": [
    "with open(\"../data/tweets-dataset/filter_test.csv\", \"rb\") as f:\n",
    "    test_filter = pd.read_csv(f)\n",
    "test_filter.head()"
   ]
  },
  {
   "cell_type": "code",
   "execution_count": null,
   "id": "446be0a7b2231e41",
   "metadata": {
    "ExecuteTime": {
     "end_time": "2025-02-23T23:31:06.503684Z",
     "start_time": "2025-02-23T23:31:02.957846Z"
    }
   },
   "outputs": [],
   "source": [
    "test_filter = test_filter.assign(\n",
    "    tweet=lambda df: df[\"tweet\"].apply(func=ast.literal_eval),\n",
    "    watson=lambda df: df[\"watson\"].apply(func=ast.literal_eval),\n",
    "    urls=lambda df: df[\"urls\"].apply(func=ast.literal_eval),\n",
    "    watson_list=lambda df: df[\"watson_list\"].apply(func=ast.literal_eval),\n",
    "    target=lambda df: df[\"target\"].apply(func=ast.literal_eval),\n",
    ")\n",
    "test_filter[\"text\"] = [replace_text_components(t) for t in test_filter[\"text\"]]\n",
    "\n",
    "test_filter = test_filter.assign(\n",
    "    target=lambda df: df[\"target\"].apply(\n",
    "        func=translate_source_categories,\n",
    "        args=(\n",
    "            {\n",
    "                \"computer security\": \"computer security\",\n",
    "                \"operating systems\": \"operating systems\",\n",
    "                \"software\": \"software\",\n",
    "                \"programming languages\": \"software\",\n",
    "                \"hardware\": \"hardware\",\n",
    "                \"electronic components\": \"hardware\",\n",
    "                \"networking\": \"networking\",\n",
    "                \"internet technology\": \"networking\",\n",
    "                \"network security\": \"network security\",\n",
    "                \"antivirus and malware\": \"antivirus and malware\",\n",
    "                \"mac os\": \"mac os\",\n",
    "                \"windows\": \"windows\",\n",
    "                \"unix\": \"unix\",\n",
    "                \"linux\": \"linux\",\n",
    "                \"databases\": \"databases\",\n",
    "                \"computer\": \"computer\",\n",
    "                \"computer components\": \"computer components\",\n",
    "                \"computer networking\": \"computer networking\",\n",
    "            },\n",
    "        ),\n",
    "    )\n",
    ")\n",
    "\n",
    "print(f\"Threat Tweets: {len(test_filter)}\")\n",
    "test_filter.head()"
   ]
  },
  {
   "cell_type": "code",
   "execution_count": null,
   "id": "97ba60343db311a9",
   "metadata": {
    "ExecuteTime": {
     "end_time": "2025-02-23T21:03:35.103406Z",
     "start_time": "2025-02-23T21:03:35.100161Z"
    }
   },
   "outputs": [],
   "source": [
    "texts = test_tweets['text']\n",
    "targets = test_tweets['target']"
   ]
  },
  {
   "cell_type": "code",
   "execution_count": null,
   "id": "c64e606dd17daba",
   "metadata": {
    "ExecuteTime": {
     "end_time": "2025-02-23T22:10:13.634687Z",
     "start_time": "2025-02-23T22:10:13.001910Z"
    }
   },
   "outputs": [],
   "source": [
    "import joblib\n",
    "\n",
    "filter = joblib.load(filename=\"../models/filter.pkl\")"
   ]
  },
  {
   "cell_type": "code",
   "execution_count": null,
   "id": "d916a92a504d4b6e",
   "metadata": {
    "ExecuteTime": {
     "end_time": "2025-02-23T21:44:59.519306Z",
     "start_time": "2025-02-23T21:42:32.990916Z"
    }
   },
   "outputs": [],
   "source": [
    "with open(\"../models/GENERAL.pkl\", \"rb\") as f:\n",
    "    general = pickle.load(f)\n",
    "    general.mlb.fit(targets)\n",
    "    general.scaler_ = preprocessing.StandardScaler().fit(preprocess_texts(\n",
    "        list_str=texts,\n",
    "        model_path='basel/ATTACK-BERT',\n",
    "        embedding_dim=None,\n",
    "    ))"
   ]
  },
  {
   "cell_type": "code",
   "execution_count": null,
   "id": "964ad252e03f3356",
   "metadata": {
    "ExecuteTime": {
     "end_time": "2025-02-23T21:53:21.122945Z",
     "start_time": "2025-02-23T21:53:21.119007Z"
    }
   },
   "outputs": [],
   "source": [
    "for idx in general.models:\n",
    "    general.models[idx][\"model\"].scaler_ = general.scaler_"
   ]
  },
  {
   "cell_type": "code",
   "execution_count": null,
   "id": "fb89b23250ade576",
   "metadata": {
    "ExecuteTime": {
     "end_time": "2025-02-23T21:03:37.189549Z",
     "start_time": "2025-02-23T21:03:37.149654Z"
    }
   },
   "outputs": [],
   "source": [
    "with open(\"../models/COMPUTER.SECURITY.pkl\", \"rb\") as f:\n",
    "    cs = pickle.load(f)"
   ]
  },
  {
   "cell_type": "code",
   "execution_count": null,
   "id": "13fdab8fe4c6421a",
   "metadata": {
    "ExecuteTime": {
     "end_time": "2025-02-23T21:03:37.626231Z",
     "start_time": "2025-02-23T21:03:37.610077Z"
    }
   },
   "outputs": [],
   "source": [
    "with open(\"../models/OPERATING.SYSTEMS.pkl\", \"rb\") as f:\n",
    "    os = pickle.load(f)"
   ]
  },
  {
   "cell_type": "code",
   "execution_count": null,
   "id": "4bfe83c9ee951068",
   "metadata": {
    "ExecuteTime": {
     "end_time": "2025-02-23T21:03:38.067437Z",
     "start_time": "2025-02-23T21:03:38.043327Z"
    }
   },
   "outputs": [],
   "source": [
    "with open(\"../models/SOFTWARE.pkl\", \"rb\") as f:\n",
    "    sw = pickle.load(f)"
   ]
  },
  {
   "cell_type": "code",
   "execution_count": null,
   "id": "ca3a10ad12743c75",
   "metadata": {
    "ExecuteTime": {
     "end_time": "2025-02-23T21:03:38.790140Z",
     "start_time": "2025-02-23T21:03:38.671142Z"
    }
   },
   "outputs": [],
   "source": [
    "with open(\"../models/HARDWARE.pkl\", \"rb\") as f:\n",
    "    hw = pickle.load(f)"
   ]
  },
  {
   "cell_type": "code",
   "execution_count": null,
   "id": "140eb40b4915115d",
   "metadata": {
    "ExecuteTime": {
     "end_time": "2025-02-23T21:03:39.030119Z",
     "start_time": "2025-02-23T21:03:39.026967Z"
    }
   },
   "outputs": [],
   "source": [
    "#ATT&CK-BERT, DistilRoBERTa, DistilRoBERTa, DistilRoBERTa, ATT&CK-BERT"
   ]
  },
  {
   "cell_type": "code",
   "execution_count": null,
   "id": "9347e8cd01b453a7",
   "metadata": {
    "ExecuteTime": {
     "end_time": "2025-02-23T23:26:22.398363Z",
     "start_time": "2025-02-23T23:26:22.385264Z"
    }
   },
   "outputs": [],
   "source": [
    "class System(BaseEstimator, ClassifierMixin):\n",
    "    def __init__(self, filter, general, cs, os, sw, hw):\n",
    "        self.filter = filter\n",
    "        self.general = general  # ATT&CK-BERT\n",
    "        self.cs = cs  # DistilRoBERTa\n",
    "        self.os = os  # DistilRoBERTa\n",
    "        self.sw = sw  # DistilRoBERTa\n",
    "        self.hw = hw  # ATT&CK-BERT\n",
    "\n",
    "    def predict(self, texts: pd.Series) -> ArrayLike:\n",
    "        X_SBERT = preprocess_texts(\n",
    "            list_str=texts,\n",
    "            model_path='sentence-transformers/all-mpnet-base-v2',\n",
    "            embedding_dim=None,\n",
    "        )\n",
    "        general_dim = len(self.general.mlb.classes_)\n",
    "        cs_dim = len(self.cs.mlb.classes_) - 1\n",
    "        os_dim = len(self.os.mlb.classes_) - 1\n",
    "        sw_dim = len(self.sw.mlb.classes_) - 1\n",
    "        hw_dim = len(self.hw.mlb.classes_) - 1\n",
    "        Y_pred = np.zeros((texts.shape[0], general_dim + cs_dim + os_dim + sw_dim + hw_dim))\n",
    "        X_ATTACK_BERT = preprocess_texts(\n",
    "            list_str=texts,\n",
    "            model_path='basel/ATTACK-BERT',\n",
    "            embedding_dim=None,\n",
    "        )\n",
    "        X_DistilRoBERTa = preprocess_texts(\n",
    "            list_str=texts,\n",
    "            model_path='sentence-transformers/all-distilroberta-v1',\n",
    "            embedding_dim=None,\n",
    "        )\n",
    "        y_filter = self.filter.predict(X_SBERT)\n",
    "        y_general = self.general.predict(X_ATTACK_BERT)\n",
    "        Y_pred[:, :general_dim] = y_general\n",
    "        for idx, (t, f) in enumerate(zip(self.general.mlb.inverse_transform(y_general), y_filter)):\n",
    "            if not False:\n",
    "                if 'computer security' in t:\n",
    "                    y_cs = self.cs.predict(X_DistilRoBERTa[idx:idx + 1])\n",
    "                    Y_pred[idx, general_dim:general_dim + cs_dim] = y_cs[:, :cs_dim]\n",
    "                if 'operating systems' in t:\n",
    "                    y_os = self.os.predict(X_DistilRoBERTa[idx:idx + 1])\n",
    "                    Y_pred[idx, general_dim + cs_dim:general_dim + cs_dim + os_dim] = np.hstack((y_os[:, :2], y_os[:, 3:]))\n",
    "                if \"software\" in t:\n",
    "                    y_sw = self.sw.predict(X_DistilRoBERTa[idx:idx + 1])\n",
    "                    Y_pred[idx, general_dim + cs_dim + os_dim:general_dim + cs_dim + os_dim + sw_dim] = y_sw[:, :sw_dim]\n",
    "                if \"hardware\" in t:\n",
    "                    y_hw = self.hw.predict(X_ATTACK_BERT[idx:idx + 1])\n",
    "                    Y_pred[idx, general_dim + cs_dim + os_dim + sw_dim:] = y_hw[:, :hw_dim]\n",
    "            else:\n",
    "                Y_pred[idx, :] = np.zeros(Y_pred.shape[1])\n",
    "                Y_pred[idx, 4] = 1.0\n",
    "        return Y_pred\n",
    "\n",
    "    def predict_targets(self, texts: pd.Series) -> pd.Series:\n",
    "        general_dim = len(self.general.mlb.classes_)\n",
    "        cs_dim = len(self.cs.mlb.classes_) - 1\n",
    "        os_dim = len(self.os.mlb.classes_) - 1\n",
    "        sw_dim = len(self.sw.mlb.classes_) - 1\n",
    "        Y_pred = self.predict(texts)\n",
    "        y_general = Y_pred[:, :general_dim]\n",
    "        y_cs = Y_pred[:, general_dim:general_dim + cs_dim]\n",
    "        y_os = Y_pred[:, general_dim + cs_dim:general_dim + cs_dim + os_dim]\n",
    "        y_sw = Y_pred[:, general_dim + cs_dim + os_dim:general_dim + cs_dim + os_dim + sw_dim]\n",
    "        y_hw = Y_pred[:, general_dim + cs_dim + os_dim + sw_dim:]\n",
    "        targets_general = self.general.mlb.inverse_transform(y_general)\n",
    "        targets_cs = self.cs.mlb.inverse_transform(np.hstack((y_cs, np.zeros((y_cs.shape[0], 1)))))\n",
    "        targets_os = self.os.mlb.inverse_transform(np.hstack((y_os[:, :2], np.zeros((y_os.shape[0], 1)), y_os[:, 2:])))\n",
    "        targets_sw = self.sw.mlb.inverse_transform(np.hstack((y_sw, np.zeros((y_sw.shape[0], 1)))))\n",
    "        targets_hw = self.hw.mlb.inverse_transform(np.hstack((y_hw, np.zeros((y_hw.shape[0], 1)))))\n",
    "        return pd.Series(data=[list(set(target_general + target_cs + target_os + target_sw + target_hw)) for target_general, target_cs, target_os, target_sw, target_hw in zip(targets_general, targets_cs, targets_os, targets_sw, targets_hw)], index=texts.index)\n",
    "\n",
    "    def evaluate(self, texts: pd.Series, targets: pd.Series) -> dict[str, float]:\n",
    "        targets_general = self.general.mlb.transform(targets)\n",
    "        targets_cs = self.cs.mlb.transform(targets)\n",
    "        targets_os = self.os.mlb.transform(targets)\n",
    "        targets_sw = self.sw.mlb.transform(targets)\n",
    "        targets_hw = self.hw.mlb.transform(targets)\n",
    "        Y_test = np.hstack((targets_general, targets_cs[:, :-1], targets_os[:, :2], targets_os[:, 3:], targets_sw[:, :-1], targets_hw[:, :-1]))\n",
    "        Y_pred = self.predict(texts)\n",
    "        return assess(Y_test, Y_pred)\n",
    "\n",
    "    def classes(self):\n",
    "        return list(self.general.mlb.classes_) + list(self.cs.mlb.classes_[:-1]) + list(self.os.mlb.classes_[:2]) + list(self.os.mlb.classes_[3:]) + list(self.sw.mlb.classes_[:-1]) + list(self.hw.mlb.classes_[:-1])\n",
    "\n",
    "\n",
    "solution = System(filter, general, cs, os, sw, hw)"
   ]
  },
  {
   "cell_type": "code",
   "execution_count": null,
   "id": "f2e62cbfaca42c1e",
   "metadata": {
    "ExecuteTime": {
     "end_time": "2025-02-23T23:28:22.373684Z",
     "start_time": "2025-02-23T23:28:09.687549Z"
    }
   },
   "outputs": [],
   "source": [
    "pd.DataFrame([solution.predict_targets(texts[100:110]), targets[100:110], texts[100:110]], index=[\"Predicted\", \"Actual\", \"Text\"]).transpose()"
   ]
  },
  {
   "cell_type": "code",
   "execution_count": null,
   "id": "fa2cddd383fc303f",
   "metadata": {
    "ExecuteTime": {
     "end_time": "2025-02-23T23:05:13.454708Z",
     "start_time": "2025-02-23T23:04:38.145780Z"
    }
   },
   "outputs": [],
   "source": [
    "system_performance = solution.evaluate(texts[:100], targets[:100])\n",
    "print(\"==========================================================\")\n",
    "print(\"System Performance\")\n",
    "print(\"==========================================================\")\n",
    "print(f\"Accuracy:\\t{system_performance['accuracy'] * 100:.2f}%\")\n",
    "print(f\"Hamming Loss:\\t{system_performance['hamming_loss']:.3f}\")\n",
    "report = pd.DataFrame(system_performance[\"report\"])\n",
    "report.columns = solution.classes() + [\"micro avg\", \"macro avg\", \"weighted avg\", \"samples avg\"]\n",
    "report = (report.transpose().map(lambda x: f\"{x:.2f}\" if isinstance(x, float) else x).to_string())\n",
    "print(f\"{report}\")\n",
    "print(\"==========================================================\\n\")"
   ]
  },
  {
   "cell_type": "code",
   "execution_count": null,
   "id": "7b5bb3677a2cd814",
   "metadata": {},
   "outputs": [],
   "source": []
  },
  {
   "cell_type": "code",
   "execution_count": null,
   "id": "9b6a069c344f4629",
   "metadata": {
    "ExecuteTime": {
     "end_time": "2025-02-23T22:07:58.280984Z",
     "start_time": "2025-02-23T22:07:53.067905Z"
    }
   },
   "outputs": [],
   "source": [
    "pd.DataFrame(data=solution.predict(pd.Series([\"There are rootkits threats ongoing in the wild, and they're infecting the AMD CPUs when you open an EXE file attackers send via mail. Pay attention\"])), columns=solution.classes())"
   ]
  }
 ],
 "metadata": {
  "kaggle": {
   "accelerator": "none",
   "dataSources": [
    {
     "datasetId": 870709,
     "sourceId": 1483651,
     "sourceType": "datasetVersion"
    },
    {
     "datasetId": 4678553,
     "sourceId": 7954760,
     "sourceType": "datasetVersion"
    }
   ],
   "dockerImageVersionId": 30804,
   "isGpuEnabled": false,
   "isInternetEnabled": true,
   "language": "python",
   "sourceType": "notebook"
  },
  "kernelspec": {
   "display_name": "vsc",
   "language": "python",
   "name": "python3"
  },
  "language_info": {
   "codemirror_mode": {
    "name": "ipython",
    "version": 3
   },
   "file_extension": ".py",
   "mimetype": "text/x-python",
   "name": "python",
   "nbconvert_exporter": "python",
   "pygments_lexer": "ipython3",
   "version": "3.13.2"
  },
  "papermill": {
   "default_parameters": {},
   "duration": 5394.913296,
   "end_time": "2024-12-12T17:56:06.436689",
   "environment_variables": {},
   "exception": null,
   "input_path": "__notebook__.ipynb",
   "output_path": "__notebook__.ipynb",
   "parameters": {},
   "start_time": "2024-12-12T16:26:11.523393",
   "version": "2.6.0"
  }
 },
 "nbformat": 4,
 "nbformat_minor": 5
}
