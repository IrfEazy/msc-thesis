{
 "cells": [
  {
   "metadata": {},
   "cell_type": "markdown",
   "source": "# Multi-Label Classification",
   "id": "98f096dec80e0ebe"
  },
  {
   "metadata": {},
   "cell_type": "markdown",
   "source": "## 1. Imports",
   "id": "dc483734a09f5d7"
  },
  {
   "metadata": {
    "execution": {
     "iopub.execute_input": "2024-12-12T16:26:14.569199Z",
     "iopub.status.busy": "2024-12-12T16:26:14.568776Z",
     "iopub.status.idle": "2024-12-12T16:26:17.993533Z",
     "shell.execute_reply": "2024-12-12T16:26:17.992503Z"
    },
    "papermill": {
     "duration": 3.435545,
     "end_time": "2024-12-12T16:26:17.996431",
     "exception": false,
     "start_time": "2024-12-12T16:26:14.560886",
     "status": "completed"
    },
    "tags": [],
    "ExecuteTime": {
     "end_time": "2025-02-23T16:11:04.010282Z",
     "start_time": "2025-02-23T16:11:01.413796Z"
    }
   },
   "cell_type": "code",
   "source": [
    "import ast\n",
    "import pickle\n",
    "import random\n",
    "import re\n",
    "import string\n",
    "import unicodedata\n",
    "from collections import Counter\n",
    "from pathlib import Path\n",
    "from typing import Any, Union, Optional, Callable\n",
    "\n",
    "import nltk\n",
    "import numpy as np\n",
    "import pandas as pd\n",
    "from nltk import WordNetLemmatizer, word_tokenize\n",
    "from nltk.corpus import stopwords, wordnet\n",
    "from numpy import asarray\n",
    "from numpy.typing import ArrayLike\n",
    "from sentence_transformers import SentenceTransformer\n",
    "from sklearn import preprocessing\n",
    "from sklearn.base import BaseEstimator, ClassifierMixin\n",
    "from sklearn.ensemble import RandomForestClassifier\n",
    "from sklearn.linear_model import LogisticRegression\n",
    "from sklearn.metrics import hamming_loss, accuracy_score, roc_auc_score, classification_report\n",
    "from sklearn.model_selection import train_test_split\n",
    "from sklearn.naive_bayes import GaussianNB\n",
    "from sklearn.preprocessing import MultiLabelBinarizer\n",
    "from sklearn.tree import DecisionTreeClassifier\n",
    "from tqdm.contrib.itertools import product\n",
    "from tqdm.notebook import tqdm\n",
    "\n",
    "import MLC"
   ],
   "id": "b428eeb33ff81277",
   "outputs": [],
   "execution_count": 1
  },
  {
   "metadata": {
    "ExecuteTime": {
     "end_time": "2025-02-23T16:11:06.498226Z",
     "start_time": "2025-02-23T16:11:06.481487Z"
    }
   },
   "cell_type": "code",
   "source": [
    "def replace_text_components(\n",
    "        text: str,\n",
    "        replace_emails: bool = True,\n",
    "        replace_urls: bool = True,\n",
    "        replace_mentions: bool = True,\n",
    "        replace_hashtags: bool = True,\n",
    "        replace_phone_numbers: bool = True,\n",
    "        custom_replacements: Optional[dict[str, str]] = None,\n",
    ") -> str:\n",
    "    \"\"\"\n",
    "    Replace specific text components (e.g., emails, URLs, mentions, hashtags) with placeholders.\n",
    "\n",
    "    Parameters\n",
    "    ----------\n",
    "    text : str\n",
    "        Input text to process.\n",
    "    replace_emails : bool\n",
    "        Whether to replace email addresses. Default is True.\n",
    "    replace_urls : bool\n",
    "        Whether to replace URLs. Default is True.\n",
    "    replace_mentions : bool\n",
    "        Whether to replace mentioned users. Default is True.\n",
    "    replace_hashtags : bool\n",
    "        Whether to replace hashtags. Default is True.\n",
    "    replace_phone_numbers : bool\n",
    "        Whether to replace phone numbers. Default is True.\n",
    "    custom_replacements : dict\n",
    "        Custom replacement rules as a dictionary. Default is None.\n",
    "\n",
    "    Returns\n",
    "    -------\n",
    "    str : str\n",
    "        Text with specified components replaced.\n",
    "    \"\"\"\n",
    "    # Replace email addresses\n",
    "    if replace_emails:\n",
    "        text = re.sub(r\"\\b[A-Za-z0-9._%+-]+@[A-Za-z0-9.-]+\\.[A-Z|a-z]{2,}\\b\", \"\", text)\n",
    "\n",
    "    # Replace URLs\n",
    "    if replace_urls:\n",
    "        text = re.sub(r\"https?://\\S+|www\\.\\S+\", \"\", text)\n",
    "\n",
    "    # Replace mentioned users\n",
    "    if replace_mentions:\n",
    "        text = re.sub(r\"@\\w+\", \"\", text)\n",
    "\n",
    "    # Replace hashtags\n",
    "    if replace_hashtags:\n",
    "        text = re.sub(r\"#\\w+\", \"\", text)  # Remove hashtags entirely\n",
    "\n",
    "    # Replace phone numbers\n",
    "    if replace_phone_numbers:\n",
    "        text = re.sub(\n",
    "            r\"\\b(?:\\+\\d{1,2}\\s?)?(?:\\(\\d{3}\\)|\\d{3})[\\s.-]?\\d{3}[\\s.-]?\\d{4}\\b\",\n",
    "            \"\",\n",
    "            text,\n",
    "        )\n",
    "\n",
    "    # Apply custom replacements if provided\n",
    "    if custom_replacements is not None:\n",
    "        for pattern, replacement in custom_replacements.items():\n",
    "            text = re.sub(pattern, replacement, text)\n",
    "\n",
    "    return text\n",
    "\n",
    "\n",
    "def clean_text(\n",
    "        text: str,\n",
    "        remove_punctuation: bool = True,\n",
    "        remove_emojis: bool = True,\n",
    "        normalize_whitespace: bool = True,\n",
    "        lowercase: bool = True,\n",
    ") -> str:\n",
    "    \"\"\"\n",
    "    Clean and preprocess text data for machine learning tasks.\n",
    "\n",
    "    Parameters\n",
    "    ----------\n",
    "    text : str\n",
    "        Input text to be cleaned.\n",
    "    remove_punctuation : bool\n",
    "        Whether to remove punctuation. Default is True.\n",
    "    remove_emojis : bool\n",
    "        Whether to remove emojis and emoticons. Default is True.\n",
    "    normalize_whitespace : bool\n",
    "        Whether to normalize whitespace. Default is True.\n",
    "    lowercase : bool\n",
    "        Whether to convert text to lowercase. Default is True.\n",
    "\n",
    "    Returns\n",
    "    -------\n",
    "    str : str\n",
    "        Cleaned and preprocessed text.\n",
    "    \"\"\"\n",
    "    # Convert text to lowercase if specified\n",
    "    if lowercase:\n",
    "        text = text.lower()\n",
    "\n",
    "    # Remove punctuation if specified\n",
    "    if remove_punctuation:\n",
    "        text = re.sub(r\"[^\\w\\s]\", \"\", text)\n",
    "\n",
    "    # Normalize whitespace if specified\n",
    "    if normalize_whitespace:\n",
    "        text = re.sub(r\"\\s+\", \" \", text).strip()\n",
    "\n",
    "    # Remove emojis and emoticons if specified\n",
    "    if remove_emojis:\n",
    "        # Remove emojis and emoticons using Unicode ranges\n",
    "        text = re.sub(r\"[\\U00010000-\\U0010ffff]\", \"\", text)\n",
    "        # Remove additional emoticons and symbols\n",
    "        text = re.sub(r\"[\\u2600-\\u26FF\\u2700-\\u27BF]\", \"\", text)\n",
    "\n",
    "    # Normalize Unicode characters (e.g., convert accented characters to their base form)\n",
    "    text = (\n",
    "        unicodedata.normalize(\"NFKD\", text)\n",
    "        .encode(\"ascii\", \"ignore\")\n",
    "        .decode(\"utf-8\", \"ignore\")\n",
    "    )\n",
    "\n",
    "    return text\n",
    "\n",
    "\n",
    "def get_wordnet_pos(treebank_tag):\n",
    "    \"\"\"\n",
    "    Map Treebank POS tags to WordNet POS tags for lemmatization.\n",
    "\n",
    "    Args:\n",
    "        treebank_tag (str): Treebank POS tag.\n",
    "\n",
    "    Returns:\n",
    "        str: Corresponding WordNet POS tag.\n",
    "    \"\"\"\n",
    "    if treebank_tag.startswith('J'):\n",
    "        return wordnet.ADJ\n",
    "    elif treebank_tag.startswith('V'):\n",
    "        return wordnet.VERB\n",
    "    elif treebank_tag.startswith('N'):\n",
    "        return wordnet.NOUN\n",
    "    elif treebank_tag.startswith('R'):\n",
    "        return wordnet.ADV\n",
    "    else:\n",
    "        return wordnet.NOUN  # Default to noun if no match\n",
    "\n",
    "\n",
    "def lemmatize_text(text, lemmatizer=WordNetLemmatizer()):\n",
    "    \"\"\"\n",
    "    Lemmatize text using WordNetLemmatizer with POS tagging for better accuracy.\n",
    "\n",
    "    Parameters\n",
    "    ----------\n",
    "    text : str\n",
    "        Input text to be lemmatized.\n",
    "    lemmatizer : WordNetLemmatizer\n",
    "        Lemmatizer instance.\n",
    "\n",
    "    Returns\n",
    "    -------\n",
    "        str: Lemmatized text.\n",
    "    \"\"\"\n",
    "    # Tokenize the text\n",
    "    tokens = word_tokenize(text)\n",
    "\n",
    "    # Get POS tags for each token\n",
    "    pos_tags = nltk.pos_tag(tokens)\n",
    "\n",
    "    # Lemmatize each token with its corresponding POS tag\n",
    "    lemmatized_tokens = []\n",
    "    for token, tag in pos_tags:\n",
    "        wordnet_pos = get_wordnet_pos(tag)  # Convert Treebank tag to WordNet POS\n",
    "        lemmatized_token = lemmatizer.lemmatize(token, pos=wordnet_pos)\n",
    "        lemmatized_tokens.append(lemmatized_token)\n",
    "\n",
    "    # Join the lemmatized tokens into a single string\n",
    "    return \" \".join(lemmatized_tokens)\n",
    "\n",
    "\n",
    "def remove_stopwords(text, language='english', custom_stopwords=None, lowercase=True):\n",
    "    \"\"\"\n",
    "    Remove stopwords from the input text.\n",
    "\n",
    "    Args:\n",
    "        text (str): Input text to process.\n",
    "        language (str): Language of the stopwords. Default is 'english'.\n",
    "        custom_stopwords (set): Custom set of stopwords to use. Default is None.\n",
    "        lowercase (bool): Whether to convert text to lowercase before processing. Default is True.\n",
    "\n",
    "    Returns:\n",
    "        str: Text with stopwords removed.\n",
    "    \"\"\"\n",
    "    # Convert text to lowercase if specified\n",
    "    if lowercase:\n",
    "        text = text.lower()\n",
    "\n",
    "    # Tokenize the text\n",
    "    tokens = word_tokenize(text)\n",
    "\n",
    "    # Load stopwords\n",
    "    if custom_stopwords is not None:\n",
    "        stop_words = set(custom_stopwords)\n",
    "    else:\n",
    "        stop_words = set(stopwords.words(language))\n",
    "\n",
    "    # Remove stopwords\n",
    "    filtered_tokens = [word for word in tokens if word.lower() not in stop_words]\n",
    "\n",
    "    # Join the filtered tokens into a single string\n",
    "    return ' '.join(filtered_tokens)\n",
    "\n",
    "\n",
    "def load_word2vec_dict(\n",
    "        model_path: Path, embedding_dim: int\n",
    ") -> dict[Union[str, list[str]], np.ndarray[Any, np.dtype]]:\n",
    "    embeddings_dict = {}\n",
    "    f = open(model_path, \"r\", encoding=\"utf-8\")\n",
    "    for line in f:\n",
    "        values = line.split()\n",
    "        word = values[:-embedding_dim]\n",
    "\n",
    "        if type(word) is list:\n",
    "            word = \" \".join(word)\n",
    "\n",
    "        vector = asarray([float(val) for val in values[-embedding_dim:]])\n",
    "        embeddings_dict[word] = vector\n",
    "    f.close()\n",
    "    return embeddings_dict\n",
    "\n",
    "\n",
    "def tokenizer_transform(\n",
    "        x: pd.Series,\n",
    "        embedder_addr: str,\n",
    "        preprocessing_list: Optional[list[Callable[[str], str]]] = None,\n",
    ") -> np.ndarray[Any, np.dtype[Any]]:\n",
    "    \"\"\"\n",
    "    Generate embeddings for the sentences in the DataFrame.\n",
    "\n",
    "    Parameters\n",
    "    ----------\n",
    "    x : pd.Series\n",
    "        The DataFrame containing the sentences.\n",
    "    embedder_addr : str\n",
    "        Address of the embedder.\n",
    "    preprocessing_list : Optional[list[Callable[[str], str]]]\n",
    "        List of functions to apply to each sentence.\n",
    "\n",
    "    Returns\n",
    "    -------\n",
    "    encoded_sentences : ArrayLike\n",
    "\n",
    "    \"\"\"\n",
    "    # Preprocess the text\n",
    "    sentences = x.tolist()\n",
    "\n",
    "    if preprocessing_list is None:\n",
    "        preprocessing_list = []\n",
    "\n",
    "    for preprocessor in preprocessing_list:\n",
    "        sentences = [preprocessor(s) for s in sentences]\n",
    "\n",
    "    model = SentenceTransformer(model_name_or_path=embedder_addr)\n",
    "    return model.encode(sentences)\n",
    "\n",
    "\n",
    "def preprocess_texts(list_str, model_path, embedding_dim):\n",
    "    if embedding_dim is None:\n",
    "        return tokenizer_transform(x=list_str, embedder_addr=model_path)\n",
    "\n",
    "    word2vec_dict = load_word2vec_dict(\n",
    "        model_path=model_path, embedding_dim=embedding_dim\n",
    "    )\n",
    "    list_embedded_str = np.zeros((len(list_str), embedding_dim))\n",
    "\n",
    "    for i, text in enumerate(list_str):\n",
    "        tokens = re.findall(r\"\\w+|[{}]\".format(re.escape(string.punctuation)), text)\n",
    "        for token in tokens:\n",
    "            try:\n",
    "                list_embedded_str[i] += word2vec_dict[token.lower()]\n",
    "            except KeyError:\n",
    "                continue\n",
    "\n",
    "    return list_embedded_str\n",
    "\n",
    "\n",
    "def map_targets(watson_list, fix_targets):\n",
    "    targets = set(fix_targets.keys()) & set(watson_list)\n",
    "    mapped_targets = {fix_targets[category] for category in targets}\n",
    "    return list(mapped_targets) if mapped_targets else [\"other\"]\n",
    "\n",
    "\n",
    "def extract_models(classes, models, performance):\n",
    "    attack_models = {}\n",
    "    for idx in range(len(classes)):\n",
    "        best_model = {}\n",
    "        for model_name in models:\n",
    "            temp_performance = models[model_name][\"assess\"][\"report\"][f\"{idx}\"][performance]\n",
    "            if len(best_model) == 0:\n",
    "                best_model[\"name\"] = model_name\n",
    "                best_model[\"performance\"] = temp_performance\n",
    "                best_model[\"model\"] = models[model_name][\"model\"]\n",
    "            else:\n",
    "                if best_model[\"performance\"] < temp_performance:\n",
    "                    best_model[\"name\"] = model_name\n",
    "                    best_model[\"performance\"] = temp_performance\n",
    "                    best_model[\"model\"] = models[model_name][\"model\"]\n",
    "        attack_models[f\"{idx}\"] = best_model\n",
    "    return attack_models\n",
    "\n",
    "\n",
    "def assess(Y: ArrayLike, Y_pred: ArrayLike) -> dict[str, float]:\n",
    "    \"\"\"\n",
    "    Evaluate the model on the given data.\n",
    "\n",
    "    Parameters\n",
    "    ----------\n",
    "    Y : ArrayLike of shape (n_samples, n_labels)\n",
    "        The input features.\n",
    "    Y_pred : ArrayLike of shape (n_samples, n_labels)\n",
    "        The true binary label matrix.\n",
    "\n",
    "    Returns\n",
    "    -------\n",
    "    metrics : dict[str, float]\n",
    "        Dictionary containing accuracy, micro F1 score, and hamming loss.\n",
    "    \"\"\"\n",
    "    accuracy = accuracy_score(Y, Y_pred)\n",
    "\n",
    "    auc_score_micro = roc_auc_score(Y, Y_pred, average=\"micro\")\n",
    "    auc_score_macro = roc_auc_score(Y, Y_pred, average=\"macro\")\n",
    "    auc_score_weighted = roc_auc_score(Y, Y_pred, average=\"weighted\")\n",
    "    auc_score_samples = roc_auc_score(Y, Y_pred, average=\"samples\")\n",
    "    auc_per_label = roc_auc_score(Y, Y_pred, average=None)\n",
    "\n",
    "    report = classification_report(Y, Y_pred, output_dict=True, zero_division=0.0)\n",
    "    report[\"micro avg\"][\"auc\"] = auc_score_micro\n",
    "    report[\"macro avg\"][\"auc\"] = auc_score_macro\n",
    "    report[\"weighted avg\"][\"auc\"] = auc_score_weighted\n",
    "    report[\"samples avg\"][\"auc\"] = auc_score_samples\n",
    "\n",
    "    n_classes = Y.shape[1]\n",
    "    class_names = [f\"{i}\" for i in range(n_classes)]\n",
    "    for i, target in enumerate(class_names):\n",
    "        if target in report:\n",
    "            report[target][\"auc\"] = auc_per_label[i]\n",
    "        else:\n",
    "            # In case labels are not printed per class, you can store them separately\n",
    "            report[target] = {\"auc\": auc_per_label[i]}\n",
    "\n",
    "    hamming = hamming_loss(Y, Y_pred)\n",
    "    return {\n",
    "        \"accuracy\": accuracy,\n",
    "        \"hamming_loss\": hamming,\n",
    "        \"report\": report\n",
    "    }"
   ],
   "id": "332545feae178bfa",
   "outputs": [],
   "execution_count": 2
  },
  {
   "metadata": {
    "ExecuteTime": {
     "end_time": "2025-02-23T16:11:06.605803Z",
     "start_time": "2025-02-23T16:11:06.504065Z"
    }
   },
   "cell_type": "code",
   "source": [
    "class ModuleSystem(BaseEstimator, ClassifierMixin):\n",
    "    def __init__(self, models, mlb):\n",
    "        self.models = models\n",
    "        self.mlb = mlb\n",
    "\n",
    "    def predict(self, X_test: ArrayLike) -> ArrayLike:\n",
    "        \"\"\"\n",
    "        Predict labels for each component using the chosen model in the dictionary.\n",
    "\n",
    "        Parameters\n",
    "        ----------\n",
    "        X_test : ArrayLike\n",
    "            Test data.\n",
    "\n",
    "        Returns\n",
    "        -------\n",
    "        Y_pred : ArrayLike\n",
    "            Predicted labels for each component.\n",
    "        \"\"\"\n",
    "        n_samples = X_test.shape[0]\n",
    "        n_components = len(self.models)\n",
    "        Y_pred = np.zeros((n_samples, n_components))\n",
    "\n",
    "        for idx, model_info in self.models.items():\n",
    "            model = model_info['model']\n",
    "            Y_pred[:, int(idx)] = (model.predict(X_test))[:, int(idx)]\n",
    "\n",
    "        return Y_pred"
   ],
   "id": "c146dd300f8cb589",
   "outputs": [],
   "execution_count": 3
  },
  {
   "metadata": {},
   "cell_type": "markdown",
   "source": "## 2. Configurations & Constants",
   "id": "937be48ecf442d99"
  },
  {
   "metadata": {
    "ExecuteTime": {
     "end_time": "2025-02-23T17:06:06.075201Z",
     "start_time": "2025-02-23T17:06:06.070683Z"
    }
   },
   "cell_type": "code",
   "source": [
    "FIX_TARGETS = {\n",
    "    'computer security': 'computer security',\n",
    "    'operating systems': 'operating systems',\n",
    "    'software': 'software',\n",
    "    'programming languages': 'software',\n",
    "    'hardware': 'hardware',\n",
    "    'electronic components': 'hardware',\n",
    "    'networking': 'networking',\n",
    "    'internet technology': 'networking'\n",
    "}\n",
    "OVERWRITE = False\n",
    "RETRAIN = False\n",
    "RANDOM_STATE = 42\n",
    "MODEL_LEVEL = 'operating systems'\n",
    "TEST_SIZE = 2e-1\n",
    "\n",
    "np.random.seed(seed=RANDOM_STATE)\n",
    "random.seed(a=RANDOM_STATE)"
   ],
   "id": "b6b3aebb6cd8391c",
   "outputs": [],
   "execution_count": 10
  },
  {
   "metadata": {},
   "cell_type": "markdown",
   "source": "### Directory Paths",
   "id": "d21b48ccfe62c9eb"
  },
  {
   "metadata": {
    "ExecuteTime": {
     "end_time": "2025-02-23T16:11:09.551884Z",
     "start_time": "2025-02-23T16:11:09.547650Z"
    }
   },
   "cell_type": "code",
   "source": [
    "COLAB_DIR = Path(\"/content/drive/MyDrive\")\n",
    "KAGGLE_DIR = Path(\"/kaggle/input\")\n",
    "LOCAL_DIR = Path(\"../\")\n",
    "\n",
    "try:\n",
    "    import google.colab\n",
    "\n",
    "    IN_COLAB = True\n",
    "except ImportError:\n",
    "    IN_COLAB = False\n",
    "\n",
    "try:\n",
    "    import kaggle_secrets\n",
    "\n",
    "    IN_KAGGLE = True\n",
    "except ImportError:\n",
    "    IN_KAGGLE = False\n",
    "\n",
    "if IN_COLAB:\n",
    "    DATA_DIR = COLAB_DIR / \"data\"\n",
    "    MODELS_DIR = COLAB_DIR / \"models\"\n",
    "elif IN_KAGGLE:\n",
    "    DATA_DIR = KAGGLE_DIR\n",
    "    MODELS_DIR = KAGGLE_DIR\n",
    "else:\n",
    "    DATA_DIR = LOCAL_DIR / \"data\"\n",
    "    MODELS_DIR = LOCAL_DIR / \"models\"\n",
    "\n",
    "TWEETS_CSV = DATA_DIR / \"tweets-dataset/categories_train.csv\""
   ],
   "id": "4f35c26123485298",
   "outputs": [],
   "execution_count": 5
  },
  {
   "metadata": {},
   "cell_type": "markdown",
   "source": "## Model Training",
   "id": "99d5754c059e2b92"
  },
  {
   "metadata": {
    "ExecuteTime": {
     "end_time": "2025-02-23T16:11:10.830492Z",
     "start_time": "2025-02-23T16:11:10.820313Z"
    }
   },
   "cell_type": "code",
   "source": [
    "METHODS = {\n",
    "    \"br\": MLC.BRClassifier,\n",
    "    \"clr\": MLC.CLRClassifier,\n",
    "    \"cc\": MLC.CCClassifier,\n",
    "    \"lp\": MLC.LPClassifier,\n",
    "    \"pst\": MLC.PStClassifier,\n",
    "    #'cdn': MLC.CDNClassifier,\n",
    "    \"mbr\": MLC.MBRClassifier,\n",
    "    \"rakel\": MLC.RAkELClassifier,\n",
    "    \"homer\": MLC.HOMERClassifier,\n",
    "}\n",
    "\n",
    "CLASSIFIERS = {\n",
    "    \"lr\": LogisticRegression(solver=\"liblinear\", max_iter=10000),\n",
    "    \"gnb\": GaussianNB(),\n",
    "    \"dt\": DecisionTreeClassifier(random_state=RANDOM_STATE),\n",
    "    \"rf\": RandomForestClassifier(random_state=RANDOM_STATE),\n",
    "    #'xgb': XGBClassifier(random_state=RANDOM_STATE)\n",
    "}\n",
    "\n",
    "EMBEDDERS = [\n",
    "    {\n",
    "        \"name\": \"GloVe.6B.50D\",\n",
    "        \"model-path\": \"../embedders/glove.6B.50d.txt\",\n",
    "        \"embedding-dim\": 50,\n",
    "    },\n",
    "    {\n",
    "        \"name\": \"GloVe.6B.100D\",\n",
    "        \"model-path\": \"../embedders/glove.6B.100d.txt\",\n",
    "        \"embedding-dim\": 100,\n",
    "    },\n",
    "    {\n",
    "        \"name\": \"GloVe.6B.200D\",\n",
    "        \"model-path\": \"../embedders/glove.6B.200d.txt\",\n",
    "        \"embedding-dim\": 200,\n",
    "    },\n",
    "    {\n",
    "        \"name\": \"GloVe.6B.300D\",\n",
    "        \"model-path\": \"../embedders/glove.6B.300d.txt\",\n",
    "        \"embedding-dim\": 300,\n",
    "    },\n",
    "    {\n",
    "        \"name\": \"DistilRoBERTa\",\n",
    "        \"model-path\": \"sentence-transformers/all-distilroberta-v1\",\n",
    "        \"embedding-dim\": None,\n",
    "    },\n",
    "    {\n",
    "        \"name\": \"SBERT\",\n",
    "        \"model-path\": \"sentence-transformers/all-mpnet-base-v2\",\n",
    "        \"embedding-dim\": None,\n",
    "    },\n",
    "    {\"name\": \"ATT&CK-BERT\", \"model-path\": \"basel/ATTACK-BERT\", \"embedding-dim\": None},\n",
    "]\n",
    "\n",
    "PROBLEMS = [\n",
    "    {\n",
    "        \"level\": \"computer security\",\n",
    "        \"targets\": {\n",
    "            'network security': 'network security',\n",
    "            'antivirus and malware': 'antivirus and malware',\n",
    "        }\n",
    "    },\n",
    "    {\n",
    "        \"level\": \"operating systems\",\n",
    "        \"targets\": {\n",
    "            'mac os': 'mac os',\n",
    "            'windows': 'windows',\n",
    "            'unix': 'unix',\n",
    "            'linux': 'linux'\n",
    "        }\n",
    "    },\n",
    "    {\n",
    "        \"level\": \"software\",\n",
    "        \"targets\": {\n",
    "            'databases': 'databases'\n",
    "        }\n",
    "    },\n",
    "    {\n",
    "        \"level\": \"hardware\",\n",
    "        \"targets\": {\n",
    "            'computer': 'computer',\n",
    "            'computer components': 'computer components',\n",
    "            'computer networking': 'computer networking'\n",
    "        }\n",
    "    }\n",
    "]"
   ],
   "id": "1be69a703b4e8515",
   "outputs": [],
   "execution_count": 6
  },
  {
   "metadata": {
    "ExecuteTime": {
     "end_time": "2025-02-23T19:08:52.228106Z",
     "start_time": "2025-02-23T17:25:32.130297Z"
    }
   },
   "cell_type": "code",
   "source": [
    "with open(TWEETS_CSV, \"rb\") as f:\n",
    "    train = pd.read_csv(f)\n",
    "    train = train.assign(\n",
    "        tweet=lambda df: df[\"tweet\"].apply(func=ast.literal_eval),\n",
    "        watson=lambda df: df[\"watson\"].apply(func=ast.literal_eval),\n",
    "        urls=lambda df: df[\"urls\"].apply(func=ast.literal_eval),\n",
    "        watson_list=lambda df: df[\"watson_list\"].apply(func=ast.literal_eval),\n",
    "        target=lambda df: df[\"target\"].apply(func=ast.literal_eval),\n",
    "    )\n",
    "    train['text'] = [replace_text_components(t) for t in train['text']]\n",
    "\n",
    "for problem in tqdm(PROBLEMS, desc=\"Modules\", unit=\"module\"):\n",
    "    accuracy = 0\n",
    "    best_module = None\n",
    "\n",
    "    for embedder in tqdm(EMBEDDERS, desc=\"Embedders\", unit=\"embedder\"):\n",
    "        tweets = train.assign(\n",
    "            target=lambda df: df[\"target\"].apply(func=map_targets, args=(problem[\"targets\"],))\n",
    "        )\n",
    "\n",
    "        if problem[\"level\"] != \"general\":\n",
    "            tweets = tweets[\n",
    "                tweets[\"watson_list\"].apply(lambda x: ' '.join(problem[\"level\"].split(sep=' ')) in x)\n",
    "            ].reset_index(drop=True)\n",
    "\n",
    "        tweets['text'] = [replace_text_components(t) for t in tweets['text']]\n",
    "        # Find valid targets (with frequency ≥ 5)\n",
    "        target_freq = Counter(tuple(item) for item in tweets[\"target\"])\n",
    "        valid_targets = {target for target, freq in target_freq.items() if freq >= 5}\n",
    "        # Filter the DataFrame to keep only valid targets\n",
    "        filtered_df = tweets[tweets[\"target\"].apply(lambda valid_target: tuple(valid_target) in valid_targets)]\n",
    "        filtered_df = filtered_df.reset_index(drop=True)\n",
    "\n",
    "        mlb = preprocessing.MultiLabelBinarizer()\n",
    "        y = mlb.fit_transform(y=filtered_df[\"target\"])\n",
    "        _, y_mcp = np.unique(ar=y, axis=0, return_inverse=True)\n",
    "        x = preprocess_texts(\n",
    "            list_str=filtered_df[\"text\"],\n",
    "            model_path=embedder[\"model-path\"],\n",
    "            embedding_dim=embedder[\"embedding-dim\"],\n",
    "        )\n",
    "        X_train, X_val, y_train, y_val = train_test_split(\n",
    "            x,\n",
    "            y,\n",
    "            test_size=TEST_SIZE,\n",
    "            random_state=RANDOM_STATE,\n",
    "            shuffle=True,\n",
    "            stratify=y_mcp\n",
    "        )\n",
    "\n",
    "        models = {}\n",
    "        models_to_embedder = []\n",
    "        for name_method, name_classifier in product(METHODS, CLASSIFIERS, desc=\"Methods & Classifiers\", unit=\"pair\"):\n",
    "            model = METHODS[name_method](CLASSIFIERS[name_classifier])\n",
    "            try:\n",
    "                model.fit(X_train, y_train)\n",
    "                model_name = f\"{name_method.upper()}[{name_classifier.upper()}] - {embedder['name']}\"\n",
    "            except Exception as e:\n",
    "                print(f\"{model} failed to fit due to {e}\")\n",
    "                model_name = None\n",
    "                continue\n",
    "            if model_name is not None:\n",
    "                models_to_embedder.append(model_name)\n",
    "                models[model_name] = {\"model\": model, \"assess\": model.evaluate(X_val, y_val)}\n",
    "\n",
    "        best_models = extract_models(mlb.classes_, models, \"f1-score\")\n",
    "        module = ModuleSystem(best_models, mlb)\n",
    "        y_pred = module.predict(X_val)\n",
    "        assessment = assess(y_val, y_pred)\n",
    "\n",
    "        # Convert the predicted labels back to the original format using MultiLabelBinarizer\n",
    "        if assessment[\"accuracy\"] > accuracy:\n",
    "            accuracy = assessment[\"accuracy\"]\n",
    "            best_module = module\n",
    "            print(\"==========================================================\")\n",
    "            print(\"System Performance\")\n",
    "            print(\"==========================================================\")\n",
    "            print(f\"Accuracy:\\t{assessment['accuracy'] * 100:.2f}%\")\n",
    "            print(f\"Hamming Loss:\\t{assessment['hamming_loss']:.3f}\")\n",
    "            report = pd.DataFrame(assessment[\"report\"])\n",
    "            report.columns = list(module.mlb.classes_) + [\"micro avg\", \"macro avg\", \"weighted avg\", \"samples avg\"]\n",
    "            report = report.transpose().map(lambda x: f\"{x:.2f}\" if isinstance(x, float) else x).to_string()\n",
    "            print(f\"{report}\")\n",
    "            print(\"==========================================================\\n\")\n",
    "\n",
    "        dict_name = f\"{'.'.join(problem[\"level\"].capitalize().split(' '))}.{embedder['name']}.pkl\"\n",
    "        with open(f\"../models/dictionaries/{dict_name}\", \"wb\") as f:\n",
    "            pickle.dump(models, f)\n",
    "\n",
    "    with open(f\"../models/{'.'.join(problem[\"level\"].upper().split(' '))}.pkl\", \"wb\") as f:\n",
    "        pickle.dump(best_module, f)\n",
    "\n",
    "        del x, X_train, X_val, y_train, y_val, models_to_embedder"
   ],
   "id": "7eec5a65",
   "outputs": [
    {
     "data": {
      "text/plain": [
       "Modules:   0%|          | 0/4 [00:00<?, ?module/s]"
      ],
      "application/vnd.jupyter.widget-view+json": {
       "version_major": 2,
       "version_minor": 0,
       "model_id": "2d58a6e30f53422cbdb84707b85dbda5"
      }
     },
     "metadata": {},
     "output_type": "display_data"
    },
    {
     "data": {
      "text/plain": [
       "Embedders:   0%|          | 0/7 [00:00<?, ?embedder/s]"
      ],
      "application/vnd.jupyter.widget-view+json": {
       "version_major": 2,
       "version_minor": 0,
       "model_id": "62f5926126fe4155bf3f93a6049fbb88"
      }
     },
     "metadata": {},
     "output_type": "display_data"
    },
    {
     "data": {
      "text/plain": [
       "Methods & Classifiers:   0%|          | 0/32 [00:00<?, ?pair/s]"
      ],
      "application/vnd.jupyter.widget-view+json": {
       "version_major": 2,
       "version_minor": 0,
       "model_id": "318512984c7f4d48ba8937910169848d"
      }
     },
     "metadata": {},
     "output_type": "display_data"
    },
    {
     "name": "stdout",
     "output_type": "stream",
     "text": [
      "HOMERClassifier(base_estimator=LogisticRegression(max_iter=10000,\n",
      "                                                  solver='liblinear')) failed to fit due to This solver needs samples of at least 2 classes in the data, but the data contains only one class: np.int64(1)\n",
      "==========================================================\n",
      "System Performance\n",
      "==========================================================\n",
      "Accuracy:\t84.52%\n",
      "Hamming Loss:\t0.071\n",
      "                      precision recall f1-score  support   auc\n",
      "antivirus and malware      0.90   0.97     0.94   673.00  0.83\n",
      "network security           0.88   0.82     0.85   329.00  0.88\n",
      "other                      1.00   0.14     0.25     7.00  0.57\n",
      "micro avg                  0.89   0.92     0.91  1009.00  0.93\n",
      "macro avg                  0.93   0.65     0.68  1009.00  0.76\n",
      "weighted avg               0.89   0.92     0.90  1009.00  0.85\n",
      "samples avg                0.91   0.92     0.91  1009.00  0.93\n",
      "==========================================================\n",
      "\n"
     ]
    },
    {
     "data": {
      "text/plain": [
       "Methods & Classifiers:   0%|          | 0/32 [00:00<?, ?pair/s]"
      ],
      "application/vnd.jupyter.widget-view+json": {
       "version_major": 2,
       "version_minor": 0,
       "model_id": "0b8e739f615d47c49fae8e762bbbd895"
      }
     },
     "metadata": {},
     "output_type": "display_data"
    },
    {
     "name": "stdout",
     "output_type": "stream",
     "text": [
      "HOMERClassifier(base_estimator=LogisticRegression(max_iter=10000,\n",
      "                                                  solver='liblinear')) failed to fit due to This solver needs samples of at least 2 classes in the data, but the data contains only one class: np.int64(1)\n",
      "==========================================================\n",
      "System Performance\n",
      "==========================================================\n",
      "Accuracy:\t84.74%\n",
      "Hamming Loss:\t0.069\n",
      "                      precision recall f1-score  support   auc\n",
      "antivirus and malware      0.90   0.97     0.94   673.00  0.84\n",
      "network security           0.89   0.82     0.85   329.00  0.88\n",
      "other                      1.00   0.14     0.25     7.00  0.57\n",
      "micro avg                  0.90   0.92     0.91  1009.00  0.93\n",
      "macro avg                  0.93   0.64     0.68  1009.00  0.76\n",
      "weighted avg               0.90   0.92     0.90  1009.00  0.85\n",
      "samples avg                0.91   0.93     0.91  1009.00  0.93\n",
      "==========================================================\n",
      "\n"
     ]
    },
    {
     "data": {
      "text/plain": [
       "Methods & Classifiers:   0%|          | 0/32 [00:00<?, ?pair/s]"
      ],
      "application/vnd.jupyter.widget-view+json": {
       "version_major": 2,
       "version_minor": 0,
       "model_id": "c8501b0a0d1d450ebbfc81251a06f469"
      }
     },
     "metadata": {},
     "output_type": "display_data"
    },
    {
     "name": "stdout",
     "output_type": "stream",
     "text": [
      "HOMERClassifier(base_estimator=LogisticRegression(max_iter=10000,\n",
      "                                                  solver='liblinear')) failed to fit due to This solver needs samples of at least 2 classes in the data, but the data contains only one class: np.int64(1)\n"
     ]
    },
    {
     "data": {
      "text/plain": [
       "Methods & Classifiers:   0%|          | 0/32 [00:00<?, ?pair/s]"
      ],
      "application/vnd.jupyter.widget-view+json": {
       "version_major": 2,
       "version_minor": 0,
       "model_id": "06c17c0ea128413eb7b236dd8389cd71"
      }
     },
     "metadata": {},
     "output_type": "display_data"
    },
    {
     "name": "stdout",
     "output_type": "stream",
     "text": [
      "HOMERClassifier(base_estimator=LogisticRegression(max_iter=10000,\n",
      "                                                  solver='liblinear')) failed to fit due to This solver needs samples of at least 2 classes in the data, but the data contains only one class: np.int64(1)\n",
      "==========================================================\n",
      "System Performance\n",
      "==========================================================\n",
      "Accuracy:\t85.51%\n",
      "Hamming Loss:\t0.064\n",
      "                      precision recall f1-score  support   auc\n",
      "antivirus and malware      0.90   0.97     0.94   673.00  0.84\n",
      "network security           0.91   0.83     0.87   329.00  0.89\n",
      "other                      1.00   0.14     0.25     7.00  0.57\n",
      "micro avg                  0.91   0.92     0.91  1009.00  0.93\n",
      "macro avg                  0.94   0.65     0.69  1009.00  0.77\n",
      "weighted avg               0.91   0.92     0.91  1009.00  0.86\n",
      "samples avg                0.91   0.93     0.91  1009.00  0.94\n",
      "==========================================================\n",
      "\n"
     ]
    },
    {
     "data": {
      "text/plain": [
       "Methods & Classifiers:   0%|          | 0/32 [00:00<?, ?pair/s]"
      ],
      "application/vnd.jupyter.widget-view+json": {
       "version_major": 2,
       "version_minor": 0,
       "model_id": "20b786bacf6240d0b8e680d5049d5fdc"
      }
     },
     "metadata": {},
     "output_type": "display_data"
    },
    {
     "name": "stdout",
     "output_type": "stream",
     "text": [
      "HOMERClassifier(base_estimator=LogisticRegression(max_iter=10000,\n",
      "                                                  solver='liblinear')) failed to fit due to This solver needs samples of at least 2 classes in the data, but the data contains only one class: np.int64(1)\n",
      "==========================================================\n",
      "System Performance\n",
      "==========================================================\n",
      "Accuracy:\t87.16%\n",
      "Hamming Loss:\t0.056\n",
      "                      precision recall f1-score  support   auc\n",
      "antivirus and malware      0.92   0.97     0.95   673.00  0.87\n",
      "network security           0.92   0.85     0.89   329.00  0.91\n",
      "other                      1.00   0.14     0.25     7.00  0.57\n",
      "micro avg                  0.92   0.93     0.92  1009.00  0.94\n",
      "macro avg                  0.95   0.66     0.69  1009.00  0.78\n",
      "weighted avg               0.92   0.93     0.92  1009.00  0.88\n",
      "samples avg                0.92   0.93     0.92  1009.00  0.95\n",
      "==========================================================\n",
      "\n"
     ]
    },
    {
     "data": {
      "text/plain": [
       "Methods & Classifiers:   0%|          | 0/32 [00:00<?, ?pair/s]"
      ],
      "application/vnd.jupyter.widget-view+json": {
       "version_major": 2,
       "version_minor": 0,
       "model_id": "0428aacfe6304eb8b9c9bba94c8e97b3"
      }
     },
     "metadata": {},
     "output_type": "display_data"
    },
    {
     "name": "stdout",
     "output_type": "stream",
     "text": [
      "HOMERClassifier(base_estimator=LogisticRegression(max_iter=10000,\n",
      "                                                  solver='liblinear')) failed to fit due to This solver needs samples of at least 2 classes in the data, but the data contains only one class: np.int64(1)\n"
     ]
    },
    {
     "data": {
      "text/plain": [
       "Methods & Classifiers:   0%|          | 0/32 [00:00<?, ?pair/s]"
      ],
      "application/vnd.jupyter.widget-view+json": {
       "version_major": 2,
       "version_minor": 0,
       "model_id": "edf0851d685a43d78f53a5d3bc4fdcaf"
      }
     },
     "metadata": {},
     "output_type": "display_data"
    },
    {
     "name": "stdout",
     "output_type": "stream",
     "text": [
      "HOMERClassifier(base_estimator=LogisticRegression(max_iter=10000,\n",
      "                                                  solver='liblinear')) failed to fit due to This solver needs samples of at least 2 classes in the data, but the data contains only one class: np.int64(1)\n"
     ]
    },
    {
     "data": {
      "text/plain": [
       "Embedders:   0%|          | 0/7 [00:00<?, ?embedder/s]"
      ],
      "application/vnd.jupyter.widget-view+json": {
       "version_major": 2,
       "version_minor": 0,
       "model_id": "838c91fb72c44cefb6a39e93c13cb1e5"
      }
     },
     "metadata": {},
     "output_type": "display_data"
    },
    {
     "data": {
      "text/plain": [
       "Methods & Classifiers:   0%|          | 0/32 [00:00<?, ?pair/s]"
      ],
      "application/vnd.jupyter.widget-view+json": {
       "version_major": 2,
       "version_minor": 0,
       "model_id": "63353174c6684957a88cf916636a4dc1"
      }
     },
     "metadata": {},
     "output_type": "display_data"
    },
    {
     "name": "stdout",
     "output_type": "stream",
     "text": [
      "HOMERClassifier(base_estimator=LogisticRegression(max_iter=10000,\n",
      "                                                  solver='liblinear')) failed to fit due to This solver needs samples of at least 2 classes in the data, but the data contains only one class: np.int64(1)\n",
      "==========================================================\n",
      "System Performance\n",
      "==========================================================\n",
      "Accuracy:\t79.47%\n",
      "Hamming Loss:\t0.053\n",
      "             precision recall f1-score support   auc\n",
      "linux             0.98   0.83     0.90   71.00  0.91\n",
      "mac os            1.00   0.69     0.81   16.00  0.84\n",
      "other             0.92   0.80     0.86   15.00  0.90\n",
      "unix              0.88   0.83     0.86   18.00  0.91\n",
      "windows           0.92   0.78     0.84   45.00  0.87\n",
      "micro avg         0.95   0.80     0.87  165.00  0.89\n",
      "macro avg         0.94   0.79     0.85  165.00  0.89\n",
      "weighted avg      0.95   0.80     0.87  165.00  0.89\n",
      "samples avg       0.81   0.80     0.81  165.00  0.90\n",
      "==========================================================\n",
      "\n"
     ]
    },
    {
     "data": {
      "text/plain": [
       "Methods & Classifiers:   0%|          | 0/32 [00:00<?, ?pair/s]"
      ],
      "application/vnd.jupyter.widget-view+json": {
       "version_major": 2,
       "version_minor": 0,
       "model_id": "e07917ffbd0845e7a8626fb0496a55b2"
      }
     },
     "metadata": {},
     "output_type": "display_data"
    },
    {
     "name": "stdout",
     "output_type": "stream",
     "text": [
      "HOMERClassifier(base_estimator=LogisticRegression(max_iter=10000,\n",
      "                                                  solver='liblinear')) failed to fit due to This solver needs samples of at least 2 classes in the data, but the data contains only one class: np.int64(1)\n"
     ]
    },
    {
     "data": {
      "text/plain": [
       "Methods & Classifiers:   0%|          | 0/32 [00:00<?, ?pair/s]"
      ],
      "application/vnd.jupyter.widget-view+json": {
       "version_major": 2,
       "version_minor": 0,
       "model_id": "59f4a70e68e3489fa36e46b3cd1c4c50"
      }
     },
     "metadata": {},
     "output_type": "display_data"
    },
    {
     "name": "stdout",
     "output_type": "stream",
     "text": [
      "HOMERClassifier(base_estimator=LogisticRegression(max_iter=10000,\n",
      "                                                  solver='liblinear')) failed to fit due to This solver needs samples of at least 2 classes in the data, but the data contains only one class: np.int64(1)\n",
      "==========================================================\n",
      "System Performance\n",
      "==========================================================\n",
      "Accuracy:\t80.79%\n",
      "Hamming Loss:\t0.050\n",
      "             precision recall f1-score support   auc\n",
      "linux             0.94   0.89     0.91   71.00  0.92\n",
      "mac os            1.00   0.62     0.77   16.00  0.81\n",
      "other             0.80   0.80     0.80   15.00  0.89\n",
      "unix              0.94   0.94     0.94   18.00  0.97\n",
      "windows           0.92   0.80     0.86   45.00  0.89\n",
      "micro avg         0.93   0.84     0.88  165.00  0.91\n",
      "macro avg         0.92   0.81     0.86  165.00  0.89\n",
      "weighted avg      0.93   0.84     0.88  165.00  0.90\n",
      "samples avg       0.85   0.84     0.84  165.00  0.91\n",
      "==========================================================\n",
      "\n"
     ]
    },
    {
     "data": {
      "text/plain": [
       "Methods & Classifiers:   0%|          | 0/32 [00:00<?, ?pair/s]"
      ],
      "application/vnd.jupyter.widget-view+json": {
       "version_major": 2,
       "version_minor": 0,
       "model_id": "56b976a434fb40acb590cc69f7e5b2d7"
      }
     },
     "metadata": {},
     "output_type": "display_data"
    },
    {
     "name": "stdout",
     "output_type": "stream",
     "text": [
      "HOMERClassifier(base_estimator=LogisticRegression(max_iter=10000,\n",
      "                                                  solver='liblinear')) failed to fit due to This solver needs samples of at least 2 classes in the data, but the data contains only one class: np.int64(1)\n",
      "==========================================================\n",
      "System Performance\n",
      "==========================================================\n",
      "Accuracy:\t81.46%\n",
      "Hamming Loss:\t0.048\n",
      "             precision recall f1-score support   auc\n",
      "linux             0.91   0.90     0.91   71.00  0.91\n",
      "mac os            0.80   0.75     0.77   16.00  0.86\n",
      "other             1.00   0.80     0.89   15.00  0.90\n",
      "unix              1.00   0.94     0.97   18.00  0.97\n",
      "windows           0.90   0.82     0.86   45.00  0.89\n",
      "micro avg         0.92   0.86     0.89  165.00  0.92\n",
      "macro avg         0.92   0.84     0.88  165.00  0.91\n",
      "weighted avg      0.92   0.86     0.89  165.00  0.91\n",
      "samples avg       0.86   0.86     0.86  165.00  0.92\n",
      "==========================================================\n",
      "\n"
     ]
    },
    {
     "data": {
      "text/plain": [
       "Methods & Classifiers:   0%|          | 0/32 [00:00<?, ?pair/s]"
      ],
      "application/vnd.jupyter.widget-view+json": {
       "version_major": 2,
       "version_minor": 0,
       "model_id": "06f7b65fd76a47fda78bd0c69bc2e0f2"
      }
     },
     "metadata": {},
     "output_type": "display_data"
    },
    {
     "name": "stdout",
     "output_type": "stream",
     "text": [
      "HOMERClassifier(base_estimator=LogisticRegression(max_iter=10000,\n",
      "                                                  solver='liblinear')) failed to fit due to This solver needs samples of at least 2 classes in the data, but the data contains only one class: np.int64(1)\n",
      "==========================================================\n",
      "System Performance\n",
      "==========================================================\n",
      "Accuracy:\t88.74%\n",
      "Hamming Loss:\t0.028\n",
      "             precision recall f1-score support   auc\n",
      "linux             0.98   0.90     0.94   71.00  0.94\n",
      "mac os            1.00   0.81     0.90   16.00  0.91\n",
      "other             1.00   0.87     0.93   15.00  0.93\n",
      "unix              1.00   0.94     0.97   18.00  0.97\n",
      "windows           0.90   0.96     0.92   45.00  0.95\n",
      "micro avg         0.96   0.91     0.93  165.00  0.95\n",
      "macro avg         0.98   0.90     0.93  165.00  0.94\n",
      "weighted avg      0.96   0.91     0.93  165.00  0.95\n",
      "samples avg       0.92   0.91     0.91  165.00  0.95\n",
      "==========================================================\n",
      "\n"
     ]
    },
    {
     "data": {
      "text/plain": [
       "Methods & Classifiers:   0%|          | 0/32 [00:00<?, ?pair/s]"
      ],
      "application/vnd.jupyter.widget-view+json": {
       "version_major": 2,
       "version_minor": 0,
       "model_id": "32ce2b80b96d4b9fa4779c4e068d911a"
      }
     },
     "metadata": {},
     "output_type": "display_data"
    },
    {
     "name": "stdout",
     "output_type": "stream",
     "text": [
      "HOMERClassifier(base_estimator=LogisticRegression(max_iter=10000,\n",
      "                                                  solver='liblinear')) failed to fit due to This solver needs samples of at least 2 classes in the data, but the data contains only one class: np.int64(1)\n"
     ]
    },
    {
     "data": {
      "text/plain": [
       "Methods & Classifiers:   0%|          | 0/32 [00:00<?, ?pair/s]"
      ],
      "application/vnd.jupyter.widget-view+json": {
       "version_major": 2,
       "version_minor": 0,
       "model_id": "6f51c88da2e84a82bbe79363a5993d2a"
      }
     },
     "metadata": {},
     "output_type": "display_data"
    },
    {
     "name": "stdout",
     "output_type": "stream",
     "text": [
      "HOMERClassifier(base_estimator=LogisticRegression(max_iter=10000,\n",
      "                                                  solver='liblinear')) failed to fit due to This solver needs samples of at least 2 classes in the data, but the data contains only one class: np.int64(1)\n"
     ]
    },
    {
     "data": {
      "text/plain": [
       "Embedders:   0%|          | 0/7 [00:00<?, ?embedder/s]"
      ],
      "application/vnd.jupyter.widget-view+json": {
       "version_major": 2,
       "version_minor": 0,
       "model_id": "9ce69bb53db94bfea0e60388d8bad5a7"
      }
     },
     "metadata": {},
     "output_type": "display_data"
    },
    {
     "data": {
      "text/plain": [
       "Methods & Classifiers:   0%|          | 0/32 [00:00<?, ?pair/s]"
      ],
      "application/vnd.jupyter.widget-view+json": {
       "version_major": 2,
       "version_minor": 0,
       "model_id": "0c6fffca4a704cc79c8705a3485882b9"
      }
     },
     "metadata": {},
     "output_type": "display_data"
    },
    {
     "name": "stdout",
     "output_type": "stream",
     "text": [
      "RAkELClassifier(base_estimator=LogisticRegression(max_iter=10000,\n",
      "                                                  solver='liblinear'),\n",
      "                n_estimators=4) failed to fit due to Cannot take a larger sample than population when 'replace=False'\n",
      "RAkELClassifier(base_estimator=GaussianNB(), n_estimators=4) failed to fit due to Cannot take a larger sample than population when 'replace=False'\n",
      "RAkELClassifier(base_estimator=DecisionTreeClassifier(random_state=42),\n",
      "                n_estimators=4) failed to fit due to Cannot take a larger sample than population when 'replace=False'\n",
      "RAkELClassifier(base_estimator=RandomForestClassifier(random_state=42),\n",
      "                n_estimators=4) failed to fit due to Cannot take a larger sample than population when 'replace=False'\n",
      "HOMERClassifier(base_estimator=LogisticRegression(max_iter=10000,\n",
      "                                                  solver='liblinear')) failed to fit due to This solver needs samples of at least 2 classes in the data, but the data contains only one class: np.int64(1)\n",
      "==========================================================\n",
      "System Performance\n",
      "==========================================================\n",
      "Accuracy:\t87.50%\n",
      "Hamming Loss:\t0.125\n",
      "             precision recall f1-score support   auc\n",
      "databases         0.92   0.76     0.83  234.00  0.86\n",
      "other             0.85   0.96     0.90  342.00  0.86\n",
      "micro avg         0.88   0.88     0.88  576.00  0.88\n",
      "macro avg         0.89   0.86     0.87  576.00  0.86\n",
      "weighted avg      0.88   0.88     0.87  576.00  0.86\n",
      "samples avg       0.88   0.88     0.88  576.00  0.88\n",
      "==========================================================\n",
      "\n"
     ]
    },
    {
     "data": {
      "text/plain": [
       "Methods & Classifiers:   0%|          | 0/32 [00:00<?, ?pair/s]"
      ],
      "application/vnd.jupyter.widget-view+json": {
       "version_major": 2,
       "version_minor": 0,
       "model_id": "43c48bdeb89e4369a7a4f798571094c4"
      }
     },
     "metadata": {},
     "output_type": "display_data"
    },
    {
     "name": "stdout",
     "output_type": "stream",
     "text": [
      "RAkELClassifier(base_estimator=LogisticRegression(max_iter=10000,\n",
      "                                                  solver='liblinear'),\n",
      "                n_estimators=4) failed to fit due to Cannot take a larger sample than population when 'replace=False'\n",
      "RAkELClassifier(base_estimator=GaussianNB(), n_estimators=4) failed to fit due to Cannot take a larger sample than population when 'replace=False'\n",
      "RAkELClassifier(base_estimator=DecisionTreeClassifier(random_state=42),\n",
      "                n_estimators=4) failed to fit due to Cannot take a larger sample than population when 'replace=False'\n",
      "RAkELClassifier(base_estimator=RandomForestClassifier(random_state=42),\n",
      "                n_estimators=4) failed to fit due to Cannot take a larger sample than population when 'replace=False'\n",
      "HOMERClassifier(base_estimator=LogisticRegression(max_iter=10000,\n",
      "                                                  solver='liblinear')) failed to fit due to This solver needs samples of at least 2 classes in the data, but the data contains only one class: np.int64(1)\n",
      "==========================================================\n",
      "System Performance\n",
      "==========================================================\n",
      "Accuracy:\t88.02%\n",
      "Hamming Loss:\t0.120\n",
      "             precision recall f1-score support   auc\n",
      "databases         0.94   0.76     0.84  234.00  0.86\n",
      "other             0.85   0.96     0.91  342.00  0.86\n",
      "micro avg         0.88   0.88     0.88  576.00  0.88\n",
      "macro avg         0.89   0.86     0.87  576.00  0.86\n",
      "weighted avg      0.89   0.88     0.88  576.00  0.86\n",
      "samples avg       0.88   0.88     0.88  576.00  0.88\n",
      "==========================================================\n",
      "\n"
     ]
    },
    {
     "data": {
      "text/plain": [
       "Methods & Classifiers:   0%|          | 0/32 [00:00<?, ?pair/s]"
      ],
      "application/vnd.jupyter.widget-view+json": {
       "version_major": 2,
       "version_minor": 0,
       "model_id": "e843510b0ae044eabead7ad9c534b0aa"
      }
     },
     "metadata": {},
     "output_type": "display_data"
    },
    {
     "name": "stdout",
     "output_type": "stream",
     "text": [
      "RAkELClassifier(base_estimator=LogisticRegression(max_iter=10000,\n",
      "                                                  solver='liblinear'),\n",
      "                n_estimators=4) failed to fit due to Cannot take a larger sample than population when 'replace=False'\n",
      "RAkELClassifier(base_estimator=GaussianNB(), n_estimators=4) failed to fit due to Cannot take a larger sample than population when 'replace=False'\n",
      "RAkELClassifier(base_estimator=DecisionTreeClassifier(random_state=42),\n",
      "                n_estimators=4) failed to fit due to Cannot take a larger sample than population when 'replace=False'\n",
      "RAkELClassifier(base_estimator=RandomForestClassifier(random_state=42),\n",
      "                n_estimators=4) failed to fit due to Cannot take a larger sample than population when 'replace=False'\n",
      "HOMERClassifier(base_estimator=LogisticRegression(max_iter=10000,\n",
      "                                                  solver='liblinear')) failed to fit due to This solver needs samples of at least 2 classes in the data, but the data contains only one class: np.int64(1)\n",
      "==========================================================\n",
      "System Performance\n",
      "==========================================================\n",
      "Accuracy:\t89.58%\n",
      "Hamming Loss:\t0.104\n",
      "             precision recall f1-score support   auc\n",
      "databases         0.93   0.80     0.86  234.00  0.88\n",
      "other             0.88   0.96     0.92  342.00  0.88\n",
      "micro avg         0.90   0.90     0.90  576.00  0.90\n",
      "macro avg         0.90   0.88     0.89  576.00  0.88\n",
      "weighted avg      0.90   0.90     0.89  576.00  0.88\n",
      "samples avg       0.90   0.90     0.90  576.00  0.90\n",
      "==========================================================\n",
      "\n"
     ]
    },
    {
     "data": {
      "text/plain": [
       "Methods & Classifiers:   0%|          | 0/32 [00:00<?, ?pair/s]"
      ],
      "application/vnd.jupyter.widget-view+json": {
       "version_major": 2,
       "version_minor": 0,
       "model_id": "6c273cd28c554ca68ab9a94a470fe2a8"
      }
     },
     "metadata": {},
     "output_type": "display_data"
    },
    {
     "name": "stdout",
     "output_type": "stream",
     "text": [
      "RAkELClassifier(base_estimator=LogisticRegression(max_iter=10000,\n",
      "                                                  solver='liblinear'),\n",
      "                n_estimators=4) failed to fit due to Cannot take a larger sample than population when 'replace=False'\n",
      "RAkELClassifier(base_estimator=GaussianNB(), n_estimators=4) failed to fit due to Cannot take a larger sample than population when 'replace=False'\n",
      "RAkELClassifier(base_estimator=DecisionTreeClassifier(random_state=42),\n",
      "                n_estimators=4) failed to fit due to Cannot take a larger sample than population when 'replace=False'\n",
      "RAkELClassifier(base_estimator=RandomForestClassifier(random_state=42),\n",
      "                n_estimators=4) failed to fit due to Cannot take a larger sample than population when 'replace=False'\n",
      "HOMERClassifier(base_estimator=LogisticRegression(max_iter=10000,\n",
      "                                                  solver='liblinear')) failed to fit due to This solver needs samples of at least 2 classes in the data, but the data contains only one class: np.int64(1)\n",
      "==========================================================\n",
      "System Performance\n",
      "==========================================================\n",
      "Accuracy:\t90.28%\n",
      "Hamming Loss:\t0.097\n",
      "             precision recall f1-score support   auc\n",
      "databases         0.94   0.82     0.87  234.00  0.89\n",
      "other             0.88   0.96     0.92  342.00  0.89\n",
      "micro avg         0.90   0.90     0.90  576.00  0.90\n",
      "macro avg         0.91   0.89     0.90  576.00  0.89\n",
      "weighted avg      0.91   0.90     0.90  576.00  0.89\n",
      "samples avg       0.90   0.90     0.90  576.00  0.90\n",
      "==========================================================\n",
      "\n"
     ]
    },
    {
     "data": {
      "text/plain": [
       "Methods & Classifiers:   0%|          | 0/32 [00:00<?, ?pair/s]"
      ],
      "application/vnd.jupyter.widget-view+json": {
       "version_major": 2,
       "version_minor": 0,
       "model_id": "3ddb530fe4474aafb6471b63d7ef0dd3"
      }
     },
     "metadata": {},
     "output_type": "display_data"
    },
    {
     "name": "stdout",
     "output_type": "stream",
     "text": [
      "RAkELClassifier(base_estimator=LogisticRegression(max_iter=10000,\n",
      "                                                  solver='liblinear'),\n",
      "                n_estimators=4) failed to fit due to Cannot take a larger sample than population when 'replace=False'\n",
      "RAkELClassifier(base_estimator=GaussianNB(), n_estimators=4) failed to fit due to Cannot take a larger sample than population when 'replace=False'\n",
      "RAkELClassifier(base_estimator=DecisionTreeClassifier(random_state=42),\n",
      "                n_estimators=4) failed to fit due to Cannot take a larger sample than population when 'replace=False'\n",
      "RAkELClassifier(base_estimator=RandomForestClassifier(random_state=42),\n",
      "                n_estimators=4) failed to fit due to Cannot take a larger sample than population when 'replace=False'\n",
      "HOMERClassifier(base_estimator=LogisticRegression(max_iter=10000,\n",
      "                                                  solver='liblinear')) failed to fit due to This solver needs samples of at least 2 classes in the data, but the data contains only one class: np.int64(1)\n",
      "==========================================================\n",
      "System Performance\n",
      "==========================================================\n",
      "Accuracy:\t92.19%\n",
      "Hamming Loss:\t0.078\n",
      "             precision recall f1-score support   auc\n",
      "databases         0.93   0.88     0.90  234.00  0.91\n",
      "other             0.92   0.95     0.94  342.00  0.91\n",
      "micro avg         0.92   0.92     0.92  576.00  0.92\n",
      "macro avg         0.92   0.91     0.92  576.00  0.91\n",
      "weighted avg      0.92   0.92     0.92  576.00  0.91\n",
      "samples avg       0.92   0.92     0.92  576.00  0.92\n",
      "==========================================================\n",
      "\n"
     ]
    },
    {
     "data": {
      "text/plain": [
       "Methods & Classifiers:   0%|          | 0/32 [00:00<?, ?pair/s]"
      ],
      "application/vnd.jupyter.widget-view+json": {
       "version_major": 2,
       "version_minor": 0,
       "model_id": "29252cb1f5f546be85959dd32739d240"
      }
     },
     "metadata": {},
     "output_type": "display_data"
    },
    {
     "name": "stdout",
     "output_type": "stream",
     "text": [
      "RAkELClassifier(base_estimator=LogisticRegression(max_iter=10000,\n",
      "                                                  solver='liblinear'),\n",
      "                n_estimators=4) failed to fit due to Cannot take a larger sample than population when 'replace=False'\n",
      "RAkELClassifier(base_estimator=GaussianNB(), n_estimators=4) failed to fit due to Cannot take a larger sample than population when 'replace=False'\n",
      "RAkELClassifier(base_estimator=DecisionTreeClassifier(random_state=42),\n",
      "                n_estimators=4) failed to fit due to Cannot take a larger sample than population when 'replace=False'\n",
      "RAkELClassifier(base_estimator=RandomForestClassifier(random_state=42),\n",
      "                n_estimators=4) failed to fit due to Cannot take a larger sample than population when 'replace=False'\n",
      "HOMERClassifier(base_estimator=LogisticRegression(max_iter=10000,\n",
      "                                                  solver='liblinear')) failed to fit due to This solver needs samples of at least 2 classes in the data, but the data contains only one class: np.int64(1)\n"
     ]
    },
    {
     "data": {
      "text/plain": [
       "Methods & Classifiers:   0%|          | 0/32 [00:00<?, ?pair/s]"
      ],
      "application/vnd.jupyter.widget-view+json": {
       "version_major": 2,
       "version_minor": 0,
       "model_id": "3dd3dfeec2f14ab0b17f9eb4d25aba19"
      }
     },
     "metadata": {},
     "output_type": "display_data"
    },
    {
     "name": "stdout",
     "output_type": "stream",
     "text": [
      "RAkELClassifier(base_estimator=LogisticRegression(max_iter=10000,\n",
      "                                                  solver='liblinear'),\n",
      "                n_estimators=4) failed to fit due to Cannot take a larger sample than population when 'replace=False'\n",
      "RAkELClassifier(base_estimator=GaussianNB(), n_estimators=4) failed to fit due to Cannot take a larger sample than population when 'replace=False'\n",
      "RAkELClassifier(base_estimator=DecisionTreeClassifier(random_state=42),\n",
      "                n_estimators=4) failed to fit due to Cannot take a larger sample than population when 'replace=False'\n",
      "RAkELClassifier(base_estimator=RandomForestClassifier(random_state=42),\n",
      "                n_estimators=4) failed to fit due to Cannot take a larger sample than population when 'replace=False'\n",
      "HOMERClassifier(base_estimator=LogisticRegression(max_iter=10000,\n",
      "                                                  solver='liblinear')) failed to fit due to This solver needs samples of at least 2 classes in the data, but the data contains only one class: np.int64(1)\n"
     ]
    },
    {
     "data": {
      "text/plain": [
       "Embedders:   0%|          | 0/7 [00:00<?, ?embedder/s]"
      ],
      "application/vnd.jupyter.widget-view+json": {
       "version_major": 2,
       "version_minor": 0,
       "model_id": "291d3f66dd7042529f90235191944ee0"
      }
     },
     "metadata": {},
     "output_type": "display_data"
    },
    {
     "data": {
      "text/plain": [
       "Methods & Classifiers:   0%|          | 0/32 [00:00<?, ?pair/s]"
      ],
      "application/vnd.jupyter.widget-view+json": {
       "version_major": 2,
       "version_minor": 0,
       "model_id": "c6b0a4d388344ad8b8e2919b08bd942c"
      }
     },
     "metadata": {},
     "output_type": "display_data"
    },
    {
     "name": "stdout",
     "output_type": "stream",
     "text": [
      "HOMERClassifier(base_estimator=LogisticRegression(max_iter=10000,\n",
      "                                                  solver='liblinear')) failed to fit due to This solver needs samples of at least 2 classes in the data, but the data contains only one class: np.int64(1)\n",
      "==========================================================\n",
      "System Performance\n",
      "==========================================================\n",
      "Accuracy:\t84.42%\n",
      "Hamming Loss:\t0.062\n",
      "                    precision recall f1-score support   auc\n",
      "computer                 0.89   1.00     0.94  260.00  0.74\n",
      "computer components      0.60   0.64     0.62   28.00  0.80\n",
      "computer networking      0.90   0.51     0.66   37.00  0.75\n",
      "other                    1.00   0.40     0.57   10.00  0.70\n",
      "micro avg                0.87   0.90     0.88  335.00  0.93\n",
      "macro avg                0.85   0.64     0.70  335.00  0.75\n",
      "weighted avg             0.87   0.90     0.87  335.00  0.74\n",
      "samples avg              0.89   0.90     0.89  335.00  0.93\n",
      "==========================================================\n",
      "\n"
     ]
    },
    {
     "data": {
      "text/plain": [
       "Methods & Classifiers:   0%|          | 0/32 [00:00<?, ?pair/s]"
      ],
      "application/vnd.jupyter.widget-view+json": {
       "version_major": 2,
       "version_minor": 0,
       "model_id": "257f13d8ece34f5d81951b84e37c7006"
      }
     },
     "metadata": {},
     "output_type": "display_data"
    },
    {
     "name": "stdout",
     "output_type": "stream",
     "text": [
      "HOMERClassifier(base_estimator=LogisticRegression(max_iter=10000,\n",
      "                                                  solver='liblinear')) failed to fit due to This solver needs samples of at least 2 classes in the data, but the data contains only one class: np.int64(1)\n",
      "==========================================================\n",
      "System Performance\n",
      "==========================================================\n",
      "Accuracy:\t85.36%\n",
      "Hamming Loss:\t0.058\n",
      "                    precision recall f1-score support   auc\n",
      "computer                 0.90   1.00     0.95  260.00  0.75\n",
      "computer components      1.00   0.43     0.60   28.00  0.71\n",
      "computer networking      0.71   0.65     0.68   37.00  0.81\n",
      "other                    1.00   0.40     0.57   10.00  0.70\n",
      "micro avg                0.88   0.90     0.89  335.00  0.93\n",
      "macro avg                0.90   0.62     0.70  335.00  0.74\n",
      "weighted avg             0.89   0.90     0.88  335.00  0.75\n",
      "samples avg              0.89   0.90     0.89  335.00  0.93\n",
      "==========================================================\n",
      "\n"
     ]
    },
    {
     "data": {
      "text/plain": [
       "Methods & Classifiers:   0%|          | 0/32 [00:00<?, ?pair/s]"
      ],
      "application/vnd.jupyter.widget-view+json": {
       "version_major": 2,
       "version_minor": 0,
       "model_id": "129f21eb0d1349b191f1c76515a4907a"
      }
     },
     "metadata": {},
     "output_type": "display_data"
    },
    {
     "name": "stdout",
     "output_type": "stream",
     "text": [
      "HOMERClassifier(base_estimator=LogisticRegression(max_iter=10000,\n",
      "                                                  solver='liblinear')) failed to fit due to This solver needs samples of at least 2 classes in the data, but the data contains only one class: np.int64(1)\n"
     ]
    },
    {
     "data": {
      "text/plain": [
       "Methods & Classifiers:   0%|          | 0/32 [00:00<?, ?pair/s]"
      ],
      "application/vnd.jupyter.widget-view+json": {
       "version_major": 2,
       "version_minor": 0,
       "model_id": "0b272e6998e34dfda3af1bf3213ef2cb"
      }
     },
     "metadata": {},
     "output_type": "display_data"
    },
    {
     "name": "stdout",
     "output_type": "stream",
     "text": [
      "HOMERClassifier(base_estimator=LogisticRegression(max_iter=10000,\n",
      "                                                  solver='liblinear')) failed to fit due to This solver needs samples of at least 2 classes in the data, but the data contains only one class: np.int64(1)\n"
     ]
    },
    {
     "data": {
      "text/plain": [
       "Methods & Classifiers:   0%|          | 0/32 [00:00<?, ?pair/s]"
      ],
      "application/vnd.jupyter.widget-view+json": {
       "version_major": 2,
       "version_minor": 0,
       "model_id": "c134d4e54c3c4e219dbf9d086dbf54f1"
      }
     },
     "metadata": {},
     "output_type": "display_data"
    },
    {
     "name": "stdout",
     "output_type": "stream",
     "text": [
      "HOMERClassifier(base_estimator=LogisticRegression(max_iter=10000,\n",
      "                                                  solver='liblinear')) failed to fit due to This solver needs samples of at least 2 classes in the data, but the data contains only one class: np.int64(1)\n"
     ]
    },
    {
     "data": {
      "text/plain": [
       "Methods & Classifiers:   0%|          | 0/32 [00:00<?, ?pair/s]"
      ],
      "application/vnd.jupyter.widget-view+json": {
       "version_major": 2,
       "version_minor": 0,
       "model_id": "b3c5473498f344e39bb309dda8ff5b6b"
      }
     },
     "metadata": {},
     "output_type": "display_data"
    },
    {
     "name": "stdout",
     "output_type": "stream",
     "text": [
      "HOMERClassifier(base_estimator=LogisticRegression(max_iter=10000,\n",
      "                                                  solver='liblinear')) failed to fit due to This solver needs samples of at least 2 classes in the data, but the data contains only one class: np.int64(1)\n",
      "==========================================================\n",
      "System Performance\n",
      "==========================================================\n",
      "Accuracy:\t85.67%\n",
      "Hamming Loss:\t0.054\n",
      "                    precision recall f1-score support   auc\n",
      "computer                 0.90   1.00     0.95  260.00  0.77\n",
      "computer components      0.78   0.64     0.71   28.00  0.81\n",
      "computer networking      0.71   0.78     0.74   37.00  0.87\n",
      "other                    1.00   0.50     0.67   10.00  0.75\n",
      "micro avg                0.87   0.93     0.90  335.00  0.94\n",
      "macro avg                0.85   0.73     0.77  335.00  0.80\n",
      "weighted avg             0.87   0.93     0.90  335.00  0.78\n",
      "samples avg              0.90   0.93     0.91  335.00  0.94\n",
      "==========================================================\n",
      "\n"
     ]
    },
    {
     "data": {
      "text/plain": [
       "Methods & Classifiers:   0%|          | 0/32 [00:00<?, ?pair/s]"
      ],
      "application/vnd.jupyter.widget-view+json": {
       "version_major": 2,
       "version_minor": 0,
       "model_id": "a5c99e5afd7546f48afd3835b761e763"
      }
     },
     "metadata": {},
     "output_type": "display_data"
    },
    {
     "name": "stdout",
     "output_type": "stream",
     "text": [
      "HOMERClassifier(base_estimator=LogisticRegression(max_iter=10000,\n",
      "                                                  solver='liblinear')) failed to fit due to This solver needs samples of at least 2 classes in the data, but the data contains only one class: np.int64(1)\n",
      "==========================================================\n",
      "System Performance\n",
      "==========================================================\n",
      "Accuracy:\t86.60%\n",
      "Hamming Loss:\t0.055\n",
      "                    precision recall f1-score support   auc\n",
      "computer                 0.90   0.99     0.94  260.00  0.76\n",
      "computer components      0.73   0.68     0.70   28.00  0.83\n",
      "computer networking      0.86   0.65     0.74   37.00  0.82\n",
      "other                    1.00   0.40     0.57   10.00  0.70\n",
      "micro avg                0.88   0.91     0.90  335.00  0.93\n",
      "macro avg                0.87   0.68     0.74  335.00  0.78\n",
      "weighted avg             0.88   0.91     0.89  335.00  0.77\n",
      "samples avg              0.90   0.91     0.90  335.00  0.94\n",
      "==========================================================\n",
      "\n"
     ]
    }
   ],
   "execution_count": 27
  },
  {
   "metadata": {},
   "cell_type": "markdown",
   "source": "# 7. Model Evaluation",
   "id": "1df7d58be389a97"
  },
  {
   "metadata": {
    "ExecuteTime": {
     "end_time": "2025-02-23T21:03:06.168447Z",
     "start_time": "2025-02-23T21:03:04.057154Z"
    }
   },
   "cell_type": "code",
   "source": [
    "with open(\"../data/tweets-dataset/categories_test.csv\", \"rb\") as f:\n",
    "    test_tweets = pd.read_csv(f)\n",
    "\n",
    "test_tweets = test_tweets.assign(\n",
    "    tweet=lambda df: df[\"tweet\"].apply(func=ast.literal_eval),\n",
    "    watson=lambda df: df[\"watson\"].apply(func=ast.literal_eval),\n",
    "    urls=lambda df: df[\"urls\"].apply(func=ast.literal_eval),\n",
    "    watson_list=lambda df: df[\"watson_list\"].apply(func=ast.literal_eval),\n",
    "    target=lambda df: df[\"target\"].apply(func=ast.literal_eval),\n",
    ")\n",
    "test_tweets['text'] = [replace_text_components(t) for t in test_tweets['text']]\n",
    "\n",
    "test_tweets = test_tweets.assign(\n",
    "    target=lambda df: df[\"target\"].apply(func=map_targets, args=(\n",
    "        {\n",
    "            'computer security': 'computer security',\n",
    "            'operating systems': 'operating systems',\n",
    "            'software': 'software',\n",
    "            'programming languages': 'software',\n",
    "            'hardware': 'hardware',\n",
    "            'electronic components': 'hardware',\n",
    "            'networking': 'networking',\n",
    "            'internet technology': 'networking',\n",
    "            'network security': 'network security',\n",
    "            'antivirus and malware': 'antivirus and malware',\n",
    "            'mac os': 'mac os',\n",
    "            'windows': 'windows',\n",
    "            'unix': 'unix',\n",
    "            'linux': 'linux',\n",
    "            'databases': 'databases',\n",
    "            'computer': 'computer',\n",
    "            'computer components': 'computer components',\n",
    "            'computer networking': 'computer networking'\n",
    "        }, ))\n",
    ")\n",
    "\n",
    "print(f\"Threat Tweets: {len(test_tweets)}\")\n",
    "test_tweets.head()"
   ],
   "id": "739a600adf39b195",
   "outputs": [
    {
     "name": "stdout",
     "output_type": "stream",
     "text": [
      "Threat Tweets: 2176\n"
     ]
    },
    {
     "data": {
      "text/plain": [
       "   Unnamed: 0                          _id                       date  \\\n",
       "0        7083  b'5b93abb3bb325e521c5aee04'  2018-09-08 11:00:03+00:00   \n",
       "1        3390  b'5b917413bb325e7007187828'  2018-09-06 18:38:08+00:00   \n",
       "2        9759  b'5b96d920bb325e7a2e199c79'  2018-09-10 20:50:37+00:00   \n",
       "3        2141  b'5b911868bb325e7007186ec7'  2018-09-06 12:07:03+00:00   \n",
       "4        9696  b'5b96d003bb325e7a2e199bef'  2018-09-10 20:11:46+00:00   \n",
       "\n",
       "                    id  relevant  \\\n",
       "0  1038381444463304705      True   \n",
       "1  1037771948808237056      True   \n",
       "2  1039254842538119168      True   \n",
       "3  1037673532241731586      True   \n",
       "4  1039245063685955584      True   \n",
       "\n",
       "                                                text  \\\n",
       "0  Protect  your customers  access Prestashop Ant...   \n",
       "1  ProtonMail names one of the attackers behind a...   \n",
       "2              stop neglecting me or i will ddos you   \n",
       "3  Some very good points here, but we also need t...   \n",
       "4   British law enforcement identified George Duk...   \n",
       "\n",
       "                                               tweet           type  \\\n",
       "0  {'created_at': 'Sat Sep 08 11:00:03 +0000 2018...           ddos   \n",
       "1  {'created_at': 'Thu Sep 06 18:38:08 +0000 2018...           ddos   \n",
       "2  {'created_at': 'Mon Sep 10 20:50:37 +0000 2018...           ddos   \n",
       "3  {'created_at': 'Thu Sep 06 12:07:03 +0000 2018...  vulnerability   \n",
       "4  {'created_at': 'Mon Sep 10 20:11:46 +0000 2018...        general   \n",
       "\n",
       "                                              watson annotation  \\\n",
       "0  {'technology and computing': {'internet techno...     threat   \n",
       "1  {'society': {'crime': {'personal offense': {'a...     threat   \n",
       "2  {'technology and computing': {'computer securi...     threat   \n",
       "3  {'health and fitness': {'addiction': {'substan...        NaN   \n",
       "4  {'law, govt and politics': {'law enforcement':...     threat   \n",
       "\n",
       "                                                urls  \\\n",
       "0  [http://addons.prestashop.com/en/23513-anti-dd...   \n",
       "1                            [http://dlvr.it/QjLlwb]   \n",
       "2                                                 []   \n",
       "3  [https://twitter.com/i/web/status/103767353224...   \n",
       "4  [https://twitter.com/i/web/status/103924506368...   \n",
       "\n",
       "                                     destination_url valid_certificate  \\\n",
       "0  http://addons.prestashop.com/en/23513-anti-ddo...              True   \n",
       "1  https://techcrunch.com/2018/09/06/protonmail-n...              True   \n",
       "2                                                NaN               NaN   \n",
       "3  https://twitter.com/i/web/status/1037673532241...              True   \n",
       "4  https://twitter.com/i/web/status/1039245063685...              True   \n",
       "\n",
       "                                         watson_list  \\\n",
       "0  [technology and computing, internet technology...   \n",
       "1  [society, crime, personal offense, assault, te...   \n",
       "2  [technology and computing, computer security, ...   \n",
       "3  [health and fitness, addiction, substance abus...   \n",
       "4  [law, govt and politics, law enforcement, tech...   \n",
       "\n",
       "                                              target  \n",
       "0  [software, computer security, networking, anti...  \n",
       "1         [computer security, antivirus and malware]  \n",
       "2         [computer security, antivirus and malware]  \n",
       "3              [network security, computer security]  \n",
       "4                                [computer security]  "
      ],
      "text/html": [
       "<div>\n",
       "<style scoped>\n",
       "    .dataframe tbody tr th:only-of-type {\n",
       "        vertical-align: middle;\n",
       "    }\n",
       "\n",
       "    .dataframe tbody tr th {\n",
       "        vertical-align: top;\n",
       "    }\n",
       "\n",
       "    .dataframe thead th {\n",
       "        text-align: right;\n",
       "    }\n",
       "</style>\n",
       "<table border=\"1\" class=\"dataframe\">\n",
       "  <thead>\n",
       "    <tr style=\"text-align: right;\">\n",
       "      <th></th>\n",
       "      <th>Unnamed: 0</th>\n",
       "      <th>_id</th>\n",
       "      <th>date</th>\n",
       "      <th>id</th>\n",
       "      <th>relevant</th>\n",
       "      <th>text</th>\n",
       "      <th>tweet</th>\n",
       "      <th>type</th>\n",
       "      <th>watson</th>\n",
       "      <th>annotation</th>\n",
       "      <th>urls</th>\n",
       "      <th>destination_url</th>\n",
       "      <th>valid_certificate</th>\n",
       "      <th>watson_list</th>\n",
       "      <th>target</th>\n",
       "    </tr>\n",
       "  </thead>\n",
       "  <tbody>\n",
       "    <tr>\n",
       "      <th>0</th>\n",
       "      <td>7083</td>\n",
       "      <td>b'5b93abb3bb325e521c5aee04'</td>\n",
       "      <td>2018-09-08 11:00:03+00:00</td>\n",
       "      <td>1038381444463304705</td>\n",
       "      <td>True</td>\n",
       "      <td>Protect  your customers  access Prestashop Ant...</td>\n",
       "      <td>{'created_at': 'Sat Sep 08 11:00:03 +0000 2018...</td>\n",
       "      <td>ddos</td>\n",
       "      <td>{'technology and computing': {'internet techno...</td>\n",
       "      <td>threat</td>\n",
       "      <td>[http://addons.prestashop.com/en/23513-anti-dd...</td>\n",
       "      <td>http://addons.prestashop.com/en/23513-anti-ddo...</td>\n",
       "      <td>True</td>\n",
       "      <td>[technology and computing, internet technology...</td>\n",
       "      <td>[software, computer security, networking, anti...</td>\n",
       "    </tr>\n",
       "    <tr>\n",
       "      <th>1</th>\n",
       "      <td>3390</td>\n",
       "      <td>b'5b917413bb325e7007187828'</td>\n",
       "      <td>2018-09-06 18:38:08+00:00</td>\n",
       "      <td>1037771948808237056</td>\n",
       "      <td>True</td>\n",
       "      <td>ProtonMail names one of the attackers behind a...</td>\n",
       "      <td>{'created_at': 'Thu Sep 06 18:38:08 +0000 2018...</td>\n",
       "      <td>ddos</td>\n",
       "      <td>{'society': {'crime': {'personal offense': {'a...</td>\n",
       "      <td>threat</td>\n",
       "      <td>[http://dlvr.it/QjLlwb]</td>\n",
       "      <td>https://techcrunch.com/2018/09/06/protonmail-n...</td>\n",
       "      <td>True</td>\n",
       "      <td>[society, crime, personal offense, assault, te...</td>\n",
       "      <td>[computer security, antivirus and malware]</td>\n",
       "    </tr>\n",
       "    <tr>\n",
       "      <th>2</th>\n",
       "      <td>9759</td>\n",
       "      <td>b'5b96d920bb325e7a2e199c79'</td>\n",
       "      <td>2018-09-10 20:50:37+00:00</td>\n",
       "      <td>1039254842538119168</td>\n",
       "      <td>True</td>\n",
       "      <td>stop neglecting me or i will ddos you</td>\n",
       "      <td>{'created_at': 'Mon Sep 10 20:50:37 +0000 2018...</td>\n",
       "      <td>ddos</td>\n",
       "      <td>{'technology and computing': {'computer securi...</td>\n",
       "      <td>threat</td>\n",
       "      <td>[]</td>\n",
       "      <td>NaN</td>\n",
       "      <td>NaN</td>\n",
       "      <td>[technology and computing, computer security, ...</td>\n",
       "      <td>[computer security, antivirus and malware]</td>\n",
       "    </tr>\n",
       "    <tr>\n",
       "      <th>3</th>\n",
       "      <td>2141</td>\n",
       "      <td>b'5b911868bb325e7007186ec7'</td>\n",
       "      <td>2018-09-06 12:07:03+00:00</td>\n",
       "      <td>1037673532241731586</td>\n",
       "      <td>True</td>\n",
       "      <td>Some very good points here, but we also need t...</td>\n",
       "      <td>{'created_at': 'Thu Sep 06 12:07:03 +0000 2018...</td>\n",
       "      <td>vulnerability</td>\n",
       "      <td>{'health and fitness': {'addiction': {'substan...</td>\n",
       "      <td>NaN</td>\n",
       "      <td>[https://twitter.com/i/web/status/103767353224...</td>\n",
       "      <td>https://twitter.com/i/web/status/1037673532241...</td>\n",
       "      <td>True</td>\n",
       "      <td>[health and fitness, addiction, substance abus...</td>\n",
       "      <td>[network security, computer security]</td>\n",
       "    </tr>\n",
       "    <tr>\n",
       "      <th>4</th>\n",
       "      <td>9696</td>\n",
       "      <td>b'5b96d003bb325e7a2e199bef'</td>\n",
       "      <td>2018-09-10 20:11:46+00:00</td>\n",
       "      <td>1039245063685955584</td>\n",
       "      <td>True</td>\n",
       "      <td>British law enforcement identified George Duk...</td>\n",
       "      <td>{'created_at': 'Mon Sep 10 20:11:46 +0000 2018...</td>\n",
       "      <td>general</td>\n",
       "      <td>{'law, govt and politics': {'law enforcement':...</td>\n",
       "      <td>threat</td>\n",
       "      <td>[https://twitter.com/i/web/status/103924506368...</td>\n",
       "      <td>https://twitter.com/i/web/status/1039245063685...</td>\n",
       "      <td>True</td>\n",
       "      <td>[law, govt and politics, law enforcement, tech...</td>\n",
       "      <td>[computer security]</td>\n",
       "    </tr>\n",
       "  </tbody>\n",
       "</table>\n",
       "</div>"
      ]
     },
     "execution_count": 65,
     "metadata": {},
     "output_type": "execute_result"
    }
   ],
   "execution_count": 65
  },
  {
   "metadata": {
    "ExecuteTime": {
     "end_time": "2025-02-23T23:31:09.865339Z",
     "start_time": "2025-02-23T23:31:09.335114Z"
    }
   },
   "cell_type": "code",
   "source": [
    "with open(\"../data/tweets-dataset/filter_test.csv\", \"rb\") as f:\n",
    "    test_filter = pd.read_csv(f)\n",
    "test_filter.head()"
   ],
   "id": "8e8511854ebcf0be",
   "outputs": [
    {
     "data": {
      "text/plain": [
       "   Unnamed: 0                          _id                       date  \\\n",
       "0        8686  b'5b9230a1bb325e7007188268'  2018-09-07 08:02:41+00:00   \n",
       "1       12831  b'5b9342b0bb325e521c5aea1a'  2018-09-08 03:31:59+00:00   \n",
       "2        2953  b'5b90df38bb325e7007186b80'  2018-09-06 08:03:03+00:00   \n",
       "3       15462  b'5b945ba4bb325e521c5af5b5'  2018-09-08 23:30:44+00:00   \n",
       "4       20246  b'5b976074bb325e7a2e19a22e'  2018-09-11 06:28:03+00:00   \n",
       "\n",
       "                    id  relevant  \\\n",
       "0  1037974421254721536     False   \n",
       "1  1038268685394354176     False   \n",
       "2  1037612127442411520      True   \n",
       "3  1038570361493893120      True   \n",
       "4  1039400157610041345     False   \n",
       "\n",
       "                                                                                                                                           text  \\\n",
       "0                              Vulnerability and clarity, two important elements for a long and happy life, especially for all of us creatives.   \n",
       "1             9 targets for #hackers and #cyberattacks aiming to #disrupt #PwC via @MikeQuindazzi @ravikikan  #corpgov… https://t.co/6tMVaohEDi   \n",
       "2                                      You can't contain me: elevation-of-privilege vulnerability in Docker for Windows https://t.co/0Xs7Og9g0y   \n",
       "3                     A Google Engineer Discovered a Vulnerability Letting Him Take Control of Keycard-Controlled Doors https://t.co/fOxCxwDHoc   \n",
       "4  \"Despite huge progress in the #vulnerability disclosure process, things remain broken when it comes to vendor-resea… https://t.co/3069kTuLj7   \n",
       "\n",
       "                                                                                                                                                                                                                                                                                                                                                                                                                                                                                                                                                                                                                                                                                                                                                                                                                                                                                                                                                                                                                                                                                                                                                                                                                                                                                                                                                                                                                                                                                                                                                                                                                                                                                                                                                                                                                                                                                                                                                                                                                                                                                                                                                                                                                                                                                                                                                                                                                                                                                                                                                                                                                                                                                                                                                                                                                                                                                                                                                                                                                                                                                                                                                                                                                                                                                                                                                                                                                                                                                                                                                                                                                                                                                                                                                                                                                                                                                                                                                                                                                                                                                                                                                                                                                                                                                                                                                                                                                                                                                                                                                                                                                                                                                                                                                                                                                                                                                                                                                                                                                                                                                                                                                                                                                                                                                                                                                                                                                                                                                                                                                                                                                                                                                                                                                                                                                                                                                                                                                                                                                                                                                                                                                                                                                                                                                                                                                                                                                                                                           tweet  \\\n",
       "0                                                                                                                                                                                                                                                                                                                                                                                                                                                                                                                                                                                                                                                                                                                                                                                                                                                                                                                                                                                                                                                                                         {'created_at': 'Fri Sep 07 08:02:41 +0000 2018', 'id': 1037974421254721536, 'id_str': '1037974421254721536', 'text': 'Vulnerability and clarity, two important elements for a long and happy life, especially for all of us creatives.', 'source': '<a href=\"http://twitter.com/download/iphone\" rel=\"nofollow\">Twitter for iPhone</a>', 'truncated': False, 'in_reply_to_status_id': None, 'in_reply_to_status_id_str': None, 'in_reply_to_user_id': None, 'in_reply_to_user_id_str': None, 'in_reply_to_screen_name': None, 'user': {'id': 35801905, 'id_str': '35801905', 'name': 'The Hollands!', 'screen_name': 'the_hollands', 'location': 'Australia/USA', 'url': 'http://www.thehollands.org', 'description': 'Merrymakers * Folk Revivalist * Story Tellers * Pre-order our Album, The Last Dance at http://www.thehollands.org', 'translator_type': 'none', 'protected': False, 'verified': False, 'followers_count': 596, 'friends_count': 399, 'listed_count': 49, 'favourites_count': 7070, 'statuses_count': 7193, 'created_at': 'Mon Apr 27 17:32:09 +0000 2009', 'utc_offset': None, 'time_zone': None, 'geo_enabled': True, 'lang': 'en', 'contributors_enabled': False, 'is_translator': False, 'profile_background_color': '000000', 'profile_background_image_url': 'http://abs.twimg.com/images/themes/theme6/bg.gif', 'profile_background_image_url_https': 'https://abs.twimg.com/images/themes/theme6/bg.gif', 'profile_background_tile': False, 'profile_link_color': '7FDBB6', 'profile_sidebar_border_color': '000000', 'profile_sidebar_fill_color': '000000', 'profile_text_color': '000000', 'profile_use_background_image': False, 'profile_image_url': 'http://pbs.twimg.com/profile_images/575149645099225089/4bsMKofr_normal.jpeg', 'profile_image_url_https': 'https://pbs.twimg.com/profile_images/575149645099225089/4bsMKofr_normal.jpeg', 'profile_banner_url': 'https://pbs.twimg.com/profile_banners/35801905/1486743200', 'default_profile': False, 'default_profile_image': False, 'following': None, 'follow_request_sent': None, 'notifications': None}, 'geo': None, 'coordinates': None, 'place': None, 'contributors': None, 'quoted_status_id': 1037948185346334720, 'quoted_status_id_str': '1037948185346334720', 'quoted_status': {'created_at': 'Fri Sep 07 06:18:26 +0000 2018', 'id': 1037948185346334720, 'id_str': '1037948185346334720', 'text': 'This was hard to write but I’m glad I did. https://t.co/PhiDcG6jVl', 'display_text_range': [0, 42], 'source': '<a href=\"http://twitter.com/download/iphone\" rel=\"nofollow\">Twitter for iPhone</a>', 'truncated': False, 'in_reply_to_status_id': None, 'in_reply_to_status_id_str': None, 'in_reply_to_user_id': None, 'in_reply_to_user_id_str': None, 'in_reply_to_screen_name': None, 'user': {'id': 202881464, 'id_str': '202881464', 'name': 'Charlotte Abroms', 'screen_name': 'charlotteabroms', 'location': None, 'url': None, 'description': 'Music Manager.', 'translator_type': 'none', 'protected': False, 'verified': False, 'followers_count': 456, 'friends_count': 215, 'listed_count': 6, 'favourites_count': 1265, 'statuses_count': 482, 'created_at': 'Fri Oct 15 01:15:39 +0000 2010', 'utc_offset': None, 'time_zone': None, 'geo_enabled': False, 'lang': 'en', 'contributors_enabled': False, 'is_translator': False, 'profile_background_color': 'C0DEED', 'profile_background_image_url': 'http://abs.twimg.com/images/themes/theme1/bg.png', 'profile_background_image_url_https': 'https://abs.twimg.com/images/themes/theme1/bg.png', 'profile_background_tile': True, 'profile_link_color': '0084B4', 'profile_sidebar_border_color': 'FFFFFF', 'profile_sidebar_fill_color': 'DDEEF6', 'profile_text_color': '333333', 'profile_use_background_image': True, 'profile_image_url': 'http://pbs.twimg.com/profile_images/985087313423228929/t9sgjfIk_normal.jpg', 'profile_image_url_https': 'https://pbs.twimg.com/profile_images/985087313423228929/t9sgjfIk_normal.jpg', 'profile_banner_url': 'https://pbs.twimg.com/profile_banners/202881464/1523699084', 'default_profile': False, 'default_profile_image': False, 'following': None, 'follow_request_sent': None, 'notifications': None}, 'geo': None, 'coordinates': None, 'place': None, 'contributors': None, 'quoted_status_id': 1037854713956392961, 'quoted_status_id_str': '1037854713956392961', 'is_quote_status': True, 'quote_count': 1, 'reply_count': 1, 'retweet_count': 1, 'favorite_count': 5, 'entities': {'hashtags': [], 'urls': [{'url': 'https://t.co/PhiDcG6jVl', 'expanded_url': 'https://twitter.com/theindustry_o/status/1037854713956392961', 'display_url': 'twitter.com/theindustry_o/…', 'indices': [43, 66]}], 'user_mentions': [], 'symbols': []}, 'favorited': False, 'retweeted': False, 'possibly_sensitive': False, 'filter_level': 'low', 'lang': 'en'}, 'quoted_status_permalink': {'url': 'https://t.co/9bz4Pca2V6', 'expanded': 'https://twitter.com/charlotteabroms/status/1037948185346334720', 'display': 'twitter.com/charlotteabrom…'}, 'is_quote_status': True, 'quote_count': 0, 'reply_count': 0, 'retweet_count': 0, 'favorite_count': 0, 'entities': {'hashtags': [], 'urls': [], 'user_mentions': [], 'symbols': []}, 'favorited': False, 'retweeted': False, 'filter_level': 'low', 'lang': 'en', 'timestamp_ms': '1536307361316'}   \n",
       "1  {'created_at': 'Sat Sep 08 03:31:59 +0000 2018', 'id': 1038268685394354176, 'id_str': '1038268685394354176', 'text': '9 targets for #hackers and #cyberattacks aiming to #disrupt #PwC via @MikeQuindazzi @ravikikan  #corpgov… https://t.co/6tMVaohEDi', 'display_text_range': [0, 140], 'source': '<a href=\"http://twitter.com/download/android\" rel=\"nofollow\">Twitter for Android</a>', 'truncated': True, 'in_reply_to_status_id': None, 'in_reply_to_status_id_str': None, 'in_reply_to_user_id': None, 'in_reply_to_user_id_str': None, 'in_reply_to_screen_name': None, 'user': {'id': 294020478, 'id_str': '294020478', 'name': 'Ravi Kikan', 'screen_name': 'ravikikan', 'location': 'New Delhi', 'url': 'https://www.linkedin.com/in/ravikikan/', 'description': '#Cofounder of my son, Leads the largest members only group for #entrepreneurs on #LinkedIn ; Helps #Startups in Scaling up #Growthhacker #Startup #Fintech #Tech', 'translator_type': 'none', 'protected': False, 'verified': False, 'followers_count': 10254, 'friends_count': 9024, 'listed_count': 3239, 'favourites_count': 11706, 'statuses_count': 30203, 'created_at': 'Fri May 06 11:46:40 +0000 2011', 'utc_offset': None, 'time_zone': None, 'geo_enabled': True, 'lang': 'en', 'contributors_enabled': False, 'is_translator': False, 'profile_background_color': 'C0DEED', 'profile_background_image_url': 'http://abs.twimg.com/images/themes/theme1/bg.png', 'profile_background_image_url_https': 'https://abs.twimg.com/images/themes/theme1/bg.png', 'profile_background_tile': False, 'profile_link_color': '054385', 'profile_sidebar_border_color': 'C0DEED', 'profile_sidebar_fill_color': 'DDEEF6', 'profile_text_color': '333333', 'profile_use_background_image': True, 'profile_image_url': 'http://pbs.twimg.com/profile_images/378800000640900148/9ae8c23b6c6a4289f2eacf9a36b8bbf8_normal.jpeg', 'profile_image_url_https': 'https://pbs.twimg.com/profile_images/378800000640900148/9ae8c23b6c6a4289f2eacf9a36b8bbf8_normal.jpeg', 'profile_banner_url': 'https://pbs.twimg.com/profile_banners/294020478/1450858225', 'default_profile': False, 'default_profile_image': False, 'following': None, 'follow_request_sent': None, 'notifications': None}, 'geo': None, 'coordinates': None, 'place': None, 'contributors': None, 'is_quote_status': False, 'extended_tweet': {'full_text': '9 targets for #hackers and #cyberattacks aiming to #disrupt #PwC via @MikeQuindazzi @ravikikan  #corpgov #BoardOfDirectors #cybercrime #cybersecurity #ransomware #malware #iot #Infographics Cc: @Fisher85M @antgrasso #ai #ml #dl CC #ai #ml #dl #iot #infogr https://t.co/7shWrZuGp8', 'display_text_range': [0, 255], 'entities': {'hashtags': [{'text': 'hackers', 'indices': [14, 22]}, {'text': 'cyberattacks', 'indices': [27, 40]}, {'text': 'disrupt', 'indices': [51, 59]}, {'text': 'PwC', 'indices': [60, 64]}, {'text': 'corpgov', 'indices': [96, 104]}, {'text': 'BoardOfDirectors', 'indices': [105, 122]}, {'text': 'cybercrime', 'indices': [123, 134]}, {'text': 'cybersecurity', 'indices': [135, 149]}, {'text': 'ransomware', 'indices': [150, 161]}, {'text': 'malware', 'indices': [162, 170]}, {'text': 'iot', 'indices': [171, 175]}, {'text': 'Infographics', 'indices': [176, 189]}, {'text': 'ai', 'indices': [216, 219]}, {'text': 'ml', 'indices': [220, 223]}, {'text': 'dl', 'indices': [224, 227]}, {'text': 'ai', 'indices': [231, 234]}, {'text': 'ml', 'indices': [235, 238]}, {'text': 'dl', 'indices': [239, 242]}, {'text': 'iot', 'indices': [243, 247]}, {'text': 'infogr', 'indices': [248, 255]}], 'urls': [], 'user_mentions': [{'screen_name': 'MikeQuindazzi', 'name': 'Mike Quindazzi ✨', 'id': 2344530218, 'id_str': '2344530218', 'indices': [69, 83]}, {'screen_name': 'ravikikan', 'name': 'Ravi Kikan', 'id': 294020478, 'id_str': '294020478', 'indices': [84, 94]}, {'screen_name': 'Fisher85M', 'name': 'Michael Fisher', 'id': 846014785246367745, 'id_str': '846014785246367745', 'indices': [194, 204]}, {'screen_name': 'antgrasso', 'name': 'Antonio Grasso', 'id': 4338452835, 'id_str': '4338452835', 'indices': [205, 215]}], 'symbols': [], 'media': [{'id': 1038268673126031360, 'id_str': '1038268673126031360', 'indices': [256, 279], 'media_url': 'http://pbs.twimg.com/media/Dmir23MX4AAxNlq.jpg', 'media_url_https': 'https://pbs.twimg.com/media/Dmir23MX4AAxNlq.jpg', 'url': 'https://t.co/7shWrZuGp8', 'display_url': 'pic.twitter.com/7shWrZuGp8', 'expanded_url': 'https://twitter.com/ravikikan/status/1038268685394354176/photo/1', 'type': 'photo', 'sizes': {'thumb': {'w': 150, 'h': 150, 'resize': 'crop'}, 'medium': {'w': 1200, 'h': 774, 'resize': 'fit'}, 'small': {'w': 680, 'h': 439, 'resize': 'fit'}, 'large': {'w': 1200, 'h': 774, 'resize': 'fit'}}}]}, 'extended_entities': {'media': [{'id': 1038268673126031360, 'id_str': '1038268673126031360', 'indices': [256, 279], 'media_url': 'http://pbs.twimg.com/media/Dmir23MX4AAxNlq.jpg', 'media_url_https': 'https://pbs.twimg.com/media/Dmir23MX4AAxNlq.jpg', 'url': 'https://t.co/7shWrZuGp8', 'display_url': 'pic.twitter.com/7shWrZuGp8', 'expanded_url': 'https://twitter.com/ravikikan/status/1038268685394354176/photo/1', 'type': 'photo', 'sizes': {'thumb': {'w': 150, 'h': 150, 'resize': 'crop'}, 'medium': {'w': 1200, 'h': 774, 'resize': 'fit'}, 'small': {'w': 680, 'h': 439, 'resize': 'fit'}, 'large': {'w': 1200, 'h': 774, 'resize': 'fit'}}}]}}, 'quote_count': 0, 'reply_count': 0, 'retweet_count': 0, 'favorite_count': 0, 'entities': {'hashtags': [{'text': 'hackers', 'indices': [14, 22]}, {'text': 'cyberattacks', 'indices': [27, 40]}, {'text': 'disrupt', 'indices': [51, 59]}, {'text': 'PwC', 'indices': [60, 64]}, {'text': 'corpgov', 'indices': [96, 104]}], 'urls': [{'url': 'https://t.co/6tMVaohEDi', 'expanded_url': 'https://twitter.com/i/web/status/1038268685394354176', 'display_url': 'twitter.com/i/web/status/1…', 'indices': [106, 129]}], 'user_mentions': [{'screen_name': 'MikeQuindazzi', 'name': 'Mike Quindazzi ✨', 'id': 2344530218, 'id_str': '2344530218', 'indices': [69, 83]}, {'screen_name': 'ravikikan', 'name': 'Ravi Kikan', 'id': 294020478, 'id_str': '294020478', 'indices': [84, 94]}], 'symbols': []}, 'favorited': False, 'retweeted': False, 'possibly_sensitive': False, 'filter_level': 'low', 'lang': 'en', 'timestamp_ms': '1536377519354'}   \n",
       "2                                                                                                                                                                                                                                                                                                                                                                                                                                                                                                                                                                                                                                                                                                                                                                                                                                                                                                                                                                                                                                                                                                                                                                                                                                                                                                                                                                                                                                                                                                                                                                                                                                                                                                                                                                                                                                                                                                                                                                                                                                                                                                                                                                                                                                                                                                                                                                                                                                                                                                                                                                                                                                                                                                                                                                                                                                                                                                                                                                                                                                                                                                                                                                                                                                                                                                                                                                                                                                                                                                                                                                                                                                                                                                                                                                                                                                                                                       {'created_at': 'Thu Sep 06 08:03:03 +0000 2018', 'id': 1037612127442411520, 'id_str': '1037612127442411520', 'text': \"You can't contain me: elevation-of-privilege vulnerability in Docker for Windows https://t.co/0Xs7Og9g0y\", 'source': '<a href=\"https://ifttt.com\" rel=\"nofollow\">IFTTT</a>', 'truncated': False, 'in_reply_to_status_id': None, 'in_reply_to_status_id_str': None, 'in_reply_to_user_id': None, 'in_reply_to_user_id_str': None, 'in_reply_to_screen_name': None, 'user': {'id': 770515379626119168, 'id_str': '770515379626119168', 'name': 'Mangesh Tekale', 'screen_name': '_mangesh_tekale', 'location': 'Pune, India', 'url': None, 'description': 'iOS Developer at Fundtech #developer #IOS New on #twitter', 'translator_type': 'none', 'protected': False, 'verified': False, 'followers_count': 150, 'friends_count': 116, 'listed_count': 17, 'favourites_count': 31, 'statuses_count': 23045, 'created_at': 'Tue Aug 30 06:55:57 +0000 2016', 'utc_offset': None, 'time_zone': None, 'geo_enabled': False, 'lang': 'en', 'contributors_enabled': False, 'is_translator': False, 'profile_background_color': '000000', 'profile_background_image_url': 'http://abs.twimg.com/images/themes/theme1/bg.png', 'profile_background_image_url_https': 'https://abs.twimg.com/images/themes/theme1/bg.png', 'profile_background_tile': False, 'profile_link_color': '7FDBB6', 'profile_sidebar_border_color': '000000', 'profile_sidebar_fill_color': '000000', 'profile_text_color': '000000', 'profile_use_background_image': False, 'profile_image_url': 'http://pbs.twimg.com/profile_images/770520201704120320/8R-gOz8T_normal.jpg', 'profile_image_url_https': 'https://pbs.twimg.com/profile_images/770520201704120320/8R-gOz8T_normal.jpg', 'default_profile': False, 'default_profile_image': False, 'following': None, 'follow_request_sent': None, 'notifications': None}, 'geo': None, 'coordinates': None, 'place': None, 'contributors': None, 'is_quote_status': False, 'quote_count': 0, 'reply_count': 0, 'retweet_count': 0, 'favorite_count': 0, 'entities': {'hashtags': [], 'urls': [{'url': 'https://t.co/0Xs7Og9g0y', 'expanded_url': 'https://srcincite.io/blog/2018/08/31/you-cant-contain-me-analyzing-and-exploiting-an-elevation-of-privilege-in-docker-for-windows.html', 'display_url': 'srcincite.io/blog/2018/08/3…', 'indices': [81, 104]}], 'user_mentions': [], 'symbols': []}, 'favorited': False, 'retweeted': False, 'possibly_sensitive': False, 'filter_level': 'low', 'lang': 'en', 'timestamp_ms': '1536220983740'}   \n",
       "3                                                                                                                                                                                                                                                                                                                                                                                                                                                                                                                                                                                                                                                                                                                                                                                                                                                                                                                                                                                                                                                                                                                                                                                                                                                                                                                                                                                                                                                                                                                                                                                                                                                                                                                                                                                                                                                                                                                                                                                                                                                                                                                                                                                                                                                                                                                                                                                                                                                                                                                                                                                                                                                                                                                                                                                                                                                                                                                                                                                                                                                                                                                                                                                                                                                                                                                                                                                                                                                                                                                                                                                                                                                                                                                                                                                                                              {'created_at': 'Sat Sep 08 23:30:44 +0000 2018', 'id': 1038570361493893120, 'id_str': '1038570361493893120', 'text': 'A Google Engineer Discovered a Vulnerability Letting Him Take Control of Keycard-Controlled Doors https://t.co/fOxCxwDHoc', 'source': '<a href=\"https://sproutsocial.com\" rel=\"nofollow\">Sprout Social</a>', 'truncated': False, 'in_reply_to_status_id': None, 'in_reply_to_status_id_str': None, 'in_reply_to_user_id': None, 'in_reply_to_user_id_str': None, 'in_reply_to_screen_name': None, 'user': {'id': 1379830590, 'id_str': '1379830590', 'name': 'Migo', 'screen_name': 'MigoKed', 'location': 'United States', 'url': None, 'description': 'Building security products. Passionate about #infosec, product management and yoga. \\n#prodmgmt  #cyber #security #malware #exploit #ransomware #infosec', 'translator_type': 'none', 'protected': False, 'verified': False, 'followers_count': 776, 'friends_count': 588, 'listed_count': 80, 'favourites_count': 4139, 'statuses_count': 22332, 'created_at': 'Thu Apr 25 16:30:21 +0000 2013', 'utc_offset': None, 'time_zone': None, 'geo_enabled': False, 'lang': 'en', 'contributors_enabled': False, 'is_translator': False, 'profile_background_color': '59472F', 'profile_background_image_url': 'http://abs.twimg.com/images/themes/theme1/bg.png', 'profile_background_image_url_https': 'https://abs.twimg.com/images/themes/theme1/bg.png', 'profile_background_tile': False, 'profile_link_color': '52555C', 'profile_sidebar_border_color': '000515', 'profile_sidebar_fill_color': '061127', 'profile_text_color': '827972', 'profile_use_background_image': False, 'profile_image_url': 'http://pbs.twimg.com/profile_images/1018600418409140227/4FfWiIAa_normal.jpg', 'profile_image_url_https': 'https://pbs.twimg.com/profile_images/1018600418409140227/4FfWiIAa_normal.jpg', 'profile_banner_url': 'https://pbs.twimg.com/profile_banners/1379830590/1531605871', 'default_profile': False, 'default_profile_image': False, 'following': None, 'follow_request_sent': None, 'notifications': None}, 'geo': None, 'coordinates': None, 'place': None, 'contributors': None, 'is_quote_status': False, 'quote_count': 0, 'reply_count': 0, 'retweet_count': 0, 'favorite_count': 0, 'entities': {'hashtags': [], 'urls': [{'url': 'https://t.co/fOxCxwDHoc', 'expanded_url': 'http://bit.ly/2oTuruG', 'display_url': 'bit.ly/2oTuruG', 'indices': [98, 121]}], 'user_mentions': [], 'symbols': []}, 'favorited': False, 'retweeted': False, 'possibly_sensitive': False, 'filter_level': 'low', 'lang': 'en', 'timestamp_ms': '1536449444541'}   \n",
       "4                                                                                                                                                                                                                                                                                                                                                                                                                                                                                                                                                                                                                                                                                                                                                                                                                                                                                                                                                                                                                                                                                                                                                                                                                                                                                                                                                                                                                                                                                                                                                                                                                                                                                                                                                                           {'created_at': 'Tue Sep 11 06:28:03 +0000 2018', 'id': 1039400157610041345, 'id_str': '1039400157610041345', 'text': '\"Despite huge progress in the #vulnerability disclosure process, things remain broken when it comes to vendor-resea… https://t.co/3069kTuLj7', 'display_text_range': [0, 140], 'source': '<a href=\"https://buffer.com\" rel=\"nofollow\">Buffer</a>', 'truncated': True, 'in_reply_to_status_id': None, 'in_reply_to_status_id_str': None, 'in_reply_to_user_id': None, 'in_reply_to_user_id_str': None, 'in_reply_to_screen_name': None, 'user': {'id': 985141348910096384, 'id_str': '985141348910096384', 'name': 'Armada Innovation Labs', 'screen_name': 'armadainnolabs', 'location': 'Manila City', 'url': 'http://armadalabs.tech', 'description': 'Cyber Security Experts in the Philippines', 'translator_type': 'none', 'protected': False, 'verified': False, 'followers_count': 20, 'friends_count': 34, 'listed_count': 0, 'favourites_count': 0, 'statuses_count': 47, 'created_at': 'Sat Apr 14 13:02:55 +0000 2018', 'utc_offset': None, 'time_zone': None, 'geo_enabled': False, 'lang': 'en', 'contributors_enabled': False, 'is_translator': False, 'profile_background_color': '000000', 'profile_background_image_url': 'http://abs.twimg.com/images/themes/theme1/bg.png', 'profile_background_image_url_https': 'https://abs.twimg.com/images/themes/theme1/bg.png', 'profile_background_tile': False, 'profile_link_color': '1B95E0', 'profile_sidebar_border_color': '000000', 'profile_sidebar_fill_color': '000000', 'profile_text_color': '000000', 'profile_use_background_image': False, 'profile_image_url': 'http://pbs.twimg.com/profile_images/1011244703298154496/WjjNH3GH_normal.jpg', 'profile_image_url_https': 'https://pbs.twimg.com/profile_images/1011244703298154496/WjjNH3GH_normal.jpg', 'profile_banner_url': 'https://pbs.twimg.com/profile_banners/985141348910096384/1529934581', 'default_profile': False, 'default_profile_image': False, 'following': None, 'follow_request_sent': None, 'notifications': None}, 'geo': None, 'coordinates': None, 'place': None, 'contributors': None, 'is_quote_status': False, 'extended_tweet': {'full_text': '\"Despite huge progress in the #vulnerability disclosure process, things remain broken when it comes to vendor-researcher relationships.\" #cybersecurity #cybercrime https://t.co/qyJrmB4Cv5 https://t.co/TNl2yiN4k1', 'display_text_range': [0, 187], 'entities': {'hashtags': [{'text': 'vulnerability', 'indices': [30, 44]}, {'text': 'cybersecurity', 'indices': [137, 151]}, {'text': 'cybercrime', 'indices': [152, 163]}], 'urls': [{'url': 'https://t.co/qyJrmB4Cv5', 'expanded_url': 'https://buff.ly/2M3HDWS', 'display_url': 'buff.ly/2M3HDWS', 'indices': [164, 187]}], 'user_mentions': [], 'symbols': [], 'media': [{'id': 1039400155642880000, 'id_str': '1039400155642880000', 'indices': [188, 211], 'media_url': 'http://pbs.twimg.com/media/Dmyw70CUYAA5EjL.jpg', 'media_url_https': 'https://pbs.twimg.com/media/Dmyw70CUYAA5EjL.jpg', 'url': 'https://t.co/TNl2yiN4k1', 'display_url': 'pic.twitter.com/TNl2yiN4k1', 'expanded_url': 'https://twitter.com/armadainnolabs/status/1039400157610041345/photo/1', 'type': 'photo', 'sizes': {'medium': {'w': 700, 'h': 533, 'resize': 'fit'}, 'thumb': {'w': 150, 'h': 150, 'resize': 'crop'}, 'large': {'w': 700, 'h': 533, 'resize': 'fit'}, 'small': {'w': 680, 'h': 518, 'resize': 'fit'}}}]}, 'extended_entities': {'media': [{'id': 1039400155642880000, 'id_str': '1039400155642880000', 'indices': [188, 211], 'media_url': 'http://pbs.twimg.com/media/Dmyw70CUYAA5EjL.jpg', 'media_url_https': 'https://pbs.twimg.com/media/Dmyw70CUYAA5EjL.jpg', 'url': 'https://t.co/TNl2yiN4k1', 'display_url': 'pic.twitter.com/TNl2yiN4k1', 'expanded_url': 'https://twitter.com/armadainnolabs/status/1039400157610041345/photo/1', 'type': 'photo', 'sizes': {'medium': {'w': 700, 'h': 533, 'resize': 'fit'}, 'thumb': {'w': 150, 'h': 150, 'resize': 'crop'}, 'large': {'w': 700, 'h': 533, 'resize': 'fit'}, 'small': {'w': 680, 'h': 518, 'resize': 'fit'}}}]}}, 'quote_count': 0, 'reply_count': 0, 'retweet_count': 0, 'favorite_count': 0, 'entities': {'hashtags': [{'text': 'vulnerability', 'indices': [30, 44]}], 'urls': [{'url': 'https://t.co/3069kTuLj7', 'expanded_url': 'https://twitter.com/i/web/status/1039400157610041345', 'display_url': 'twitter.com/i/web/status/1…', 'indices': [117, 140]}], 'user_mentions': [], 'symbols': []}, 'favorited': False, 'retweeted': False, 'possibly_sensitive': False, 'filter_level': 'low', 'lang': 'en', 'timestamp_ms': '1536647283352'}   \n",
       "\n",
       "            type  \\\n",
       "0  vulnerability   \n",
       "1        general   \n",
       "2  vulnerability   \n",
       "3  vulnerability   \n",
       "4  vulnerability   \n",
       "\n",
       "                                                                                                                                                                                                                                                                                                                                                                                                                                                                                                                                                                                                                                                                                                                                                                                               watson  \\\n",
       "0                                                                                                                                                                                                                                                                                                                                                                                                                                                                                {'usage': {'text_units': 1, 'text_characters': 112, 'features': 2}, 'language': 'en', 'entities': [], 'categories': [{'score': 0.300311, 'label': '/pets/dogs'}, {'score': 0.232011, 'label': '/health and fitness'}, {'score': 0.176324, 'label': '/technology and computing/computer security/network security'}]}   \n",
       "1                                                                                                                            {'usage': {'text_units': 1, 'text_characters': 129, 'features': 2}, 'language': 'en', 'entities': [{'type': 'Company', 'text': 'PwC', 'relevance': 0.33, 'count': 1}, {'type': 'TwitterHandle', 'text': '@MikeQuindazzi', 'relevance': 0.33, 'count': 1}, {'type': 'Hashtag', 'text': '#cyberattacks', 'relevance': 0.33, 'count': 1}, {'type': 'TwitterHandle', 'text': '@ravikikan', 'relevance': 0.33, 'count': 1}], 'categories': [{'score': 0.251119, 'label': '/technology and computing/computer security/antivirus and malware'}, {'score': 0.124779, 'label': '/business and industrial'}, {'score': 0.122301, 'label': '/law, govt and politics/government'}]}   \n",
       "2                                                                                                                                                                                                                                                                                                                                                                                                                                          {'usage': {'text_units': 1, 'text_characters': 104, 'features': 2}, 'language': 'en', 'entities': [], 'categories': [{'score': 0.77392, 'label': '/technology and computing/operating systems/windows'}, {'score': 0.215739, 'label': '/technology and computing/software'}, {'score': 0.200026, 'label': '/technology and computing/operating systems'}]}   \n",
       "3  {'usage': {'text_units': 1, 'text_characters': 121, 'features': 2}, 'language': 'en', 'entities': [{'type': 'Company', 'text': 'Google', 'relevance': 0.33, 'disambiguation': {'subtype': ['AcademicInstitution', 'AwardPresentingOrganization', 'OperatingSystemDeveloper', 'ProgrammingLanguageDeveloper', 'SoftwareDeveloper', 'VentureFundedCompany'], 'name': 'Google', 'dbpedia_resource': 'http://dbpedia.org/resource/Google'}, 'count': 1}, {'type': 'JobTitle', 'text': 'Engineer', 'relevance': 0.33, 'count': 1}], 'categories': [{'score': 0.432962, 'label': '/home and garden/gardening and landscaping/yard and patio'}, {'score': 0.382486, 'label': '/technology and computing/computer security/network security'}, {'score': 0.274921, 'label': '/technology and computing'}]}   \n",
       "4                                                                                                                                                                                                                                                                                                                                                                      {'usage': {'text_units': 1, 'text_characters': 140, 'features': 2}, 'language': 'en', 'entities': [{'type': 'Hashtag', 'text': '#vulnerability', 'relevance': 0.01, 'count': 1}], 'categories': [{'score': 0.175489, 'label': '/technology and computing/operating systems'}, {'score': 0.156594, 'label': '/technology and computing/software/databases'}, {'score': 0.144681, 'label': '/finance/accounting and auditing'}]}   \n",
       "\n",
       "   annotation  \\\n",
       "0  irrelevant   \n",
       "1    business   \n",
       "2         NaN   \n",
       "3      threat   \n",
       "4    business   \n",
       "\n",
       "                                                                                                                                         urls  \\\n",
       "0                                                                                                                                          []   \n",
       "1                                                                                    ['https://twitter.com/i/web/status/1038268685394354176']   \n",
       "2  ['https://srcincite.io/blog/2018/08/31/you-cant-contain-me-analyzing-and-exploiting-an-elevation-of-privilege-in-docker-for-windows.html']   \n",
       "3                                                                                                                   ['http://bit.ly/2oTuruG']   \n",
       "4                                                                                    ['https://twitter.com/i/web/status/1039400157610041345']   \n",
       "\n",
       "                                                                                                                          destination_url  \\\n",
       "0                                                                                                                                     NaN   \n",
       "1                                                                                    https://twitter.com/i/web/status/1038268685394354176   \n",
       "2  https://srcincite.io/blog/2018/08/31/you-cant-contain-me-analyzing-and-exploiting-an-elevation-of-privilege-in-docker-for-windows.html   \n",
       "3                                                                                                                   http://bit.ly/2oTuruG   \n",
       "4                                                                                    https://twitter.com/i/web/status/1039400157610041345   \n",
       "\n",
       "  valid_certificate  \n",
       "0               NaN  \n",
       "1              True  \n",
       "2              True  \n",
       "3              True  \n",
       "4              True  "
      ],
      "text/html": [
       "<div>\n",
       "<style scoped>\n",
       "    .dataframe tbody tr th:only-of-type {\n",
       "        vertical-align: middle;\n",
       "    }\n",
       "\n",
       "    .dataframe tbody tr th {\n",
       "        vertical-align: top;\n",
       "    }\n",
       "\n",
       "    .dataframe thead th {\n",
       "        text-align: right;\n",
       "    }\n",
       "</style>\n",
       "<table border=\"1\" class=\"dataframe\">\n",
       "  <thead>\n",
       "    <tr style=\"text-align: right;\">\n",
       "      <th></th>\n",
       "      <th>Unnamed: 0</th>\n",
       "      <th>_id</th>\n",
       "      <th>date</th>\n",
       "      <th>id</th>\n",
       "      <th>relevant</th>\n",
       "      <th>text</th>\n",
       "      <th>tweet</th>\n",
       "      <th>type</th>\n",
       "      <th>watson</th>\n",
       "      <th>annotation</th>\n",
       "      <th>urls</th>\n",
       "      <th>destination_url</th>\n",
       "      <th>valid_certificate</th>\n",
       "    </tr>\n",
       "  </thead>\n",
       "  <tbody>\n",
       "    <tr>\n",
       "      <th>0</th>\n",
       "      <td>8686</td>\n",
       "      <td>b'5b9230a1bb325e7007188268'</td>\n",
       "      <td>2018-09-07 08:02:41+00:00</td>\n",
       "      <td>1037974421254721536</td>\n",
       "      <td>False</td>\n",
       "      <td>Vulnerability and clarity, two important elements for a long and happy life, especially for all of us creatives.</td>\n",
       "      <td>{'created_at': 'Fri Sep 07 08:02:41 +0000 2018', 'id': 1037974421254721536, 'id_str': '1037974421254721536', 'text': 'Vulnerability and clarity, two important elements for a long and happy life, especially for all of us creatives.', 'source': '&lt;a href=\"http://twitter.com/download/iphone\" rel=\"nofollow\"&gt;Twitter for iPhone&lt;/a&gt;', 'truncated': False, 'in_reply_to_status_id': None, 'in_reply_to_status_id_str': None, 'in_reply_to_user_id': None, 'in_reply_to_user_id_str': None, 'in_reply_to_screen_name': None, 'user': {'id': 35801905, 'id_str': '35801905', 'name': 'The Hollands!', 'screen_name': 'the_hollands', 'location': 'Australia/USA', 'url': 'http://www.thehollands.org', 'description': 'Merrymakers * Folk Revivalist * Story Tellers * Pre-order our Album, The Last Dance at http://www.thehollands.org', 'translator_type': 'none', 'protected': False, 'verified': False, 'followers_count': 596, 'friends_count': 399, 'listed_count': 49, 'favourites_count': 7070, 'statuses_count': 7193, 'created_at': 'Mon Apr 27 17:32:09 +0000 2009', 'utc_offset': None, 'time_zone': None, 'geo_enabled': True, 'lang': 'en', 'contributors_enabled': False, 'is_translator': False, 'profile_background_color': '000000', 'profile_background_image_url': 'http://abs.twimg.com/images/themes/theme6/bg.gif', 'profile_background_image_url_https': 'https://abs.twimg.com/images/themes/theme6/bg.gif', 'profile_background_tile': False, 'profile_link_color': '7FDBB6', 'profile_sidebar_border_color': '000000', 'profile_sidebar_fill_color': '000000', 'profile_text_color': '000000', 'profile_use_background_image': False, 'profile_image_url': 'http://pbs.twimg.com/profile_images/575149645099225089/4bsMKofr_normal.jpeg', 'profile_image_url_https': 'https://pbs.twimg.com/profile_images/575149645099225089/4bsMKofr_normal.jpeg', 'profile_banner_url': 'https://pbs.twimg.com/profile_banners/35801905/1486743200', 'default_profile': False, 'default_profile_image': False, 'following': None, 'follow_request_sent': None, 'notifications': None}, 'geo': None, 'coordinates': None, 'place': None, 'contributors': None, 'quoted_status_id': 1037948185346334720, 'quoted_status_id_str': '1037948185346334720', 'quoted_status': {'created_at': 'Fri Sep 07 06:18:26 +0000 2018', 'id': 1037948185346334720, 'id_str': '1037948185346334720', 'text': 'This was hard to write but I’m glad I did. https://t.co/PhiDcG6jVl', 'display_text_range': [0, 42], 'source': '&lt;a href=\"http://twitter.com/download/iphone\" rel=\"nofollow\"&gt;Twitter for iPhone&lt;/a&gt;', 'truncated': False, 'in_reply_to_status_id': None, 'in_reply_to_status_id_str': None, 'in_reply_to_user_id': None, 'in_reply_to_user_id_str': None, 'in_reply_to_screen_name': None, 'user': {'id': 202881464, 'id_str': '202881464', 'name': 'Charlotte Abroms', 'screen_name': 'charlotteabroms', 'location': None, 'url': None, 'description': 'Music Manager.', 'translator_type': 'none', 'protected': False, 'verified': False, 'followers_count': 456, 'friends_count': 215, 'listed_count': 6, 'favourites_count': 1265, 'statuses_count': 482, 'created_at': 'Fri Oct 15 01:15:39 +0000 2010', 'utc_offset': None, 'time_zone': None, 'geo_enabled': False, 'lang': 'en', 'contributors_enabled': False, 'is_translator': False, 'profile_background_color': 'C0DEED', 'profile_background_image_url': 'http://abs.twimg.com/images/themes/theme1/bg.png', 'profile_background_image_url_https': 'https://abs.twimg.com/images/themes/theme1/bg.png', 'profile_background_tile': True, 'profile_link_color': '0084B4', 'profile_sidebar_border_color': 'FFFFFF', 'profile_sidebar_fill_color': 'DDEEF6', 'profile_text_color': '333333', 'profile_use_background_image': True, 'profile_image_url': 'http://pbs.twimg.com/profile_images/985087313423228929/t9sgjfIk_normal.jpg', 'profile_image_url_https': 'https://pbs.twimg.com/profile_images/985087313423228929/t9sgjfIk_normal.jpg', 'profile_banner_url': 'https://pbs.twimg.com/profile_banners/202881464/1523699084', 'default_profile': False, 'default_profile_image': False, 'following': None, 'follow_request_sent': None, 'notifications': None}, 'geo': None, 'coordinates': None, 'place': None, 'contributors': None, 'quoted_status_id': 1037854713956392961, 'quoted_status_id_str': '1037854713956392961', 'is_quote_status': True, 'quote_count': 1, 'reply_count': 1, 'retweet_count': 1, 'favorite_count': 5, 'entities': {'hashtags': [], 'urls': [{'url': 'https://t.co/PhiDcG6jVl', 'expanded_url': 'https://twitter.com/theindustry_o/status/1037854713956392961', 'display_url': 'twitter.com/theindustry_o/…', 'indices': [43, 66]}], 'user_mentions': [], 'symbols': []}, 'favorited': False, 'retweeted': False, 'possibly_sensitive': False, 'filter_level': 'low', 'lang': 'en'}, 'quoted_status_permalink': {'url': 'https://t.co/9bz4Pca2V6', 'expanded': 'https://twitter.com/charlotteabroms/status/1037948185346334720', 'display': 'twitter.com/charlotteabrom…'}, 'is_quote_status': True, 'quote_count': 0, 'reply_count': 0, 'retweet_count': 0, 'favorite_count': 0, 'entities': {'hashtags': [], 'urls': [], 'user_mentions': [], 'symbols': []}, 'favorited': False, 'retweeted': False, 'filter_level': 'low', 'lang': 'en', 'timestamp_ms': '1536307361316'}</td>\n",
       "      <td>vulnerability</td>\n",
       "      <td>{'usage': {'text_units': 1, 'text_characters': 112, 'features': 2}, 'language': 'en', 'entities': [], 'categories': [{'score': 0.300311, 'label': '/pets/dogs'}, {'score': 0.232011, 'label': '/health and fitness'}, {'score': 0.176324, 'label': '/technology and computing/computer security/network security'}]}</td>\n",
       "      <td>irrelevant</td>\n",
       "      <td>[]</td>\n",
       "      <td>NaN</td>\n",
       "      <td>NaN</td>\n",
       "    </tr>\n",
       "    <tr>\n",
       "      <th>1</th>\n",
       "      <td>12831</td>\n",
       "      <td>b'5b9342b0bb325e521c5aea1a'</td>\n",
       "      <td>2018-09-08 03:31:59+00:00</td>\n",
       "      <td>1038268685394354176</td>\n",
       "      <td>False</td>\n",
       "      <td>9 targets for #hackers and #cyberattacks aiming to #disrupt #PwC via @MikeQuindazzi @ravikikan  #corpgov… https://t.co/6tMVaohEDi</td>\n",
       "      <td>{'created_at': 'Sat Sep 08 03:31:59 +0000 2018', 'id': 1038268685394354176, 'id_str': '1038268685394354176', 'text': '9 targets for #hackers and #cyberattacks aiming to #disrupt #PwC via @MikeQuindazzi @ravikikan  #corpgov… https://t.co/6tMVaohEDi', 'display_text_range': [0, 140], 'source': '&lt;a href=\"http://twitter.com/download/android\" rel=\"nofollow\"&gt;Twitter for Android&lt;/a&gt;', 'truncated': True, 'in_reply_to_status_id': None, 'in_reply_to_status_id_str': None, 'in_reply_to_user_id': None, 'in_reply_to_user_id_str': None, 'in_reply_to_screen_name': None, 'user': {'id': 294020478, 'id_str': '294020478', 'name': 'Ravi Kikan', 'screen_name': 'ravikikan', 'location': 'New Delhi', 'url': 'https://www.linkedin.com/in/ravikikan/', 'description': '#Cofounder of my son, Leads the largest members only group for #entrepreneurs on #LinkedIn ; Helps #Startups in Scaling up #Growthhacker #Startup #Fintech #Tech', 'translator_type': 'none', 'protected': False, 'verified': False, 'followers_count': 10254, 'friends_count': 9024, 'listed_count': 3239, 'favourites_count': 11706, 'statuses_count': 30203, 'created_at': 'Fri May 06 11:46:40 +0000 2011', 'utc_offset': None, 'time_zone': None, 'geo_enabled': True, 'lang': 'en', 'contributors_enabled': False, 'is_translator': False, 'profile_background_color': 'C0DEED', 'profile_background_image_url': 'http://abs.twimg.com/images/themes/theme1/bg.png', 'profile_background_image_url_https': 'https://abs.twimg.com/images/themes/theme1/bg.png', 'profile_background_tile': False, 'profile_link_color': '054385', 'profile_sidebar_border_color': 'C0DEED', 'profile_sidebar_fill_color': 'DDEEF6', 'profile_text_color': '333333', 'profile_use_background_image': True, 'profile_image_url': 'http://pbs.twimg.com/profile_images/378800000640900148/9ae8c23b6c6a4289f2eacf9a36b8bbf8_normal.jpeg', 'profile_image_url_https': 'https://pbs.twimg.com/profile_images/378800000640900148/9ae8c23b6c6a4289f2eacf9a36b8bbf8_normal.jpeg', 'profile_banner_url': 'https://pbs.twimg.com/profile_banners/294020478/1450858225', 'default_profile': False, 'default_profile_image': False, 'following': None, 'follow_request_sent': None, 'notifications': None}, 'geo': None, 'coordinates': None, 'place': None, 'contributors': None, 'is_quote_status': False, 'extended_tweet': {'full_text': '9 targets for #hackers and #cyberattacks aiming to #disrupt #PwC via @MikeQuindazzi @ravikikan  #corpgov #BoardOfDirectors #cybercrime #cybersecurity #ransomware #malware #iot #Infographics Cc: @Fisher85M @antgrasso #ai #ml #dl CC #ai #ml #dl #iot #infogr https://t.co/7shWrZuGp8', 'display_text_range': [0, 255], 'entities': {'hashtags': [{'text': 'hackers', 'indices': [14, 22]}, {'text': 'cyberattacks', 'indices': [27, 40]}, {'text': 'disrupt', 'indices': [51, 59]}, {'text': 'PwC', 'indices': [60, 64]}, {'text': 'corpgov', 'indices': [96, 104]}, {'text': 'BoardOfDirectors', 'indices': [105, 122]}, {'text': 'cybercrime', 'indices': [123, 134]}, {'text': 'cybersecurity', 'indices': [135, 149]}, {'text': 'ransomware', 'indices': [150, 161]}, {'text': 'malware', 'indices': [162, 170]}, {'text': 'iot', 'indices': [171, 175]}, {'text': 'Infographics', 'indices': [176, 189]}, {'text': 'ai', 'indices': [216, 219]}, {'text': 'ml', 'indices': [220, 223]}, {'text': 'dl', 'indices': [224, 227]}, {'text': 'ai', 'indices': [231, 234]}, {'text': 'ml', 'indices': [235, 238]}, {'text': 'dl', 'indices': [239, 242]}, {'text': 'iot', 'indices': [243, 247]}, {'text': 'infogr', 'indices': [248, 255]}], 'urls': [], 'user_mentions': [{'screen_name': 'MikeQuindazzi', 'name': 'Mike Quindazzi ✨', 'id': 2344530218, 'id_str': '2344530218', 'indices': [69, 83]}, {'screen_name': 'ravikikan', 'name': 'Ravi Kikan', 'id': 294020478, 'id_str': '294020478', 'indices': [84, 94]}, {'screen_name': 'Fisher85M', 'name': 'Michael Fisher', 'id': 846014785246367745, 'id_str': '846014785246367745', 'indices': [194, 204]}, {'screen_name': 'antgrasso', 'name': 'Antonio Grasso', 'id': 4338452835, 'id_str': '4338452835', 'indices': [205, 215]}], 'symbols': [], 'media': [{'id': 1038268673126031360, 'id_str': '1038268673126031360', 'indices': [256, 279], 'media_url': 'http://pbs.twimg.com/media/Dmir23MX4AAxNlq.jpg', 'media_url_https': 'https://pbs.twimg.com/media/Dmir23MX4AAxNlq.jpg', 'url': 'https://t.co/7shWrZuGp8', 'display_url': 'pic.twitter.com/7shWrZuGp8', 'expanded_url': 'https://twitter.com/ravikikan/status/1038268685394354176/photo/1', 'type': 'photo', 'sizes': {'thumb': {'w': 150, 'h': 150, 'resize': 'crop'}, 'medium': {'w': 1200, 'h': 774, 'resize': 'fit'}, 'small': {'w': 680, 'h': 439, 'resize': 'fit'}, 'large': {'w': 1200, 'h': 774, 'resize': 'fit'}}}]}, 'extended_entities': {'media': [{'id': 1038268673126031360, 'id_str': '1038268673126031360', 'indices': [256, 279], 'media_url': 'http://pbs.twimg.com/media/Dmir23MX4AAxNlq.jpg', 'media_url_https': 'https://pbs.twimg.com/media/Dmir23MX4AAxNlq.jpg', 'url': 'https://t.co/7shWrZuGp8', 'display_url': 'pic.twitter.com/7shWrZuGp8', 'expanded_url': 'https://twitter.com/ravikikan/status/1038268685394354176/photo/1', 'type': 'photo', 'sizes': {'thumb': {'w': 150, 'h': 150, 'resize': 'crop'}, 'medium': {'w': 1200, 'h': 774, 'resize': 'fit'}, 'small': {'w': 680, 'h': 439, 'resize': 'fit'}, 'large': {'w': 1200, 'h': 774, 'resize': 'fit'}}}]}}, 'quote_count': 0, 'reply_count': 0, 'retweet_count': 0, 'favorite_count': 0, 'entities': {'hashtags': [{'text': 'hackers', 'indices': [14, 22]}, {'text': 'cyberattacks', 'indices': [27, 40]}, {'text': 'disrupt', 'indices': [51, 59]}, {'text': 'PwC', 'indices': [60, 64]}, {'text': 'corpgov', 'indices': [96, 104]}], 'urls': [{'url': 'https://t.co/6tMVaohEDi', 'expanded_url': 'https://twitter.com/i/web/status/1038268685394354176', 'display_url': 'twitter.com/i/web/status/1…', 'indices': [106, 129]}], 'user_mentions': [{'screen_name': 'MikeQuindazzi', 'name': 'Mike Quindazzi ✨', 'id': 2344530218, 'id_str': '2344530218', 'indices': [69, 83]}, {'screen_name': 'ravikikan', 'name': 'Ravi Kikan', 'id': 294020478, 'id_str': '294020478', 'indices': [84, 94]}], 'symbols': []}, 'favorited': False, 'retweeted': False, 'possibly_sensitive': False, 'filter_level': 'low', 'lang': 'en', 'timestamp_ms': '1536377519354'}</td>\n",
       "      <td>general</td>\n",
       "      <td>{'usage': {'text_units': 1, 'text_characters': 129, 'features': 2}, 'language': 'en', 'entities': [{'type': 'Company', 'text': 'PwC', 'relevance': 0.33, 'count': 1}, {'type': 'TwitterHandle', 'text': '@MikeQuindazzi', 'relevance': 0.33, 'count': 1}, {'type': 'Hashtag', 'text': '#cyberattacks', 'relevance': 0.33, 'count': 1}, {'type': 'TwitterHandle', 'text': '@ravikikan', 'relevance': 0.33, 'count': 1}], 'categories': [{'score': 0.251119, 'label': '/technology and computing/computer security/antivirus and malware'}, {'score': 0.124779, 'label': '/business and industrial'}, {'score': 0.122301, 'label': '/law, govt and politics/government'}]}</td>\n",
       "      <td>business</td>\n",
       "      <td>['https://twitter.com/i/web/status/1038268685394354176']</td>\n",
       "      <td>https://twitter.com/i/web/status/1038268685394354176</td>\n",
       "      <td>True</td>\n",
       "    </tr>\n",
       "    <tr>\n",
       "      <th>2</th>\n",
       "      <td>2953</td>\n",
       "      <td>b'5b90df38bb325e7007186b80'</td>\n",
       "      <td>2018-09-06 08:03:03+00:00</td>\n",
       "      <td>1037612127442411520</td>\n",
       "      <td>True</td>\n",
       "      <td>You can't contain me: elevation-of-privilege vulnerability in Docker for Windows https://t.co/0Xs7Og9g0y</td>\n",
       "      <td>{'created_at': 'Thu Sep 06 08:03:03 +0000 2018', 'id': 1037612127442411520, 'id_str': '1037612127442411520', 'text': \"You can't contain me: elevation-of-privilege vulnerability in Docker for Windows https://t.co/0Xs7Og9g0y\", 'source': '&lt;a href=\"https://ifttt.com\" rel=\"nofollow\"&gt;IFTTT&lt;/a&gt;', 'truncated': False, 'in_reply_to_status_id': None, 'in_reply_to_status_id_str': None, 'in_reply_to_user_id': None, 'in_reply_to_user_id_str': None, 'in_reply_to_screen_name': None, 'user': {'id': 770515379626119168, 'id_str': '770515379626119168', 'name': 'Mangesh Tekale', 'screen_name': '_mangesh_tekale', 'location': 'Pune, India', 'url': None, 'description': 'iOS Developer at Fundtech #developer #IOS New on #twitter', 'translator_type': 'none', 'protected': False, 'verified': False, 'followers_count': 150, 'friends_count': 116, 'listed_count': 17, 'favourites_count': 31, 'statuses_count': 23045, 'created_at': 'Tue Aug 30 06:55:57 +0000 2016', 'utc_offset': None, 'time_zone': None, 'geo_enabled': False, 'lang': 'en', 'contributors_enabled': False, 'is_translator': False, 'profile_background_color': '000000', 'profile_background_image_url': 'http://abs.twimg.com/images/themes/theme1/bg.png', 'profile_background_image_url_https': 'https://abs.twimg.com/images/themes/theme1/bg.png', 'profile_background_tile': False, 'profile_link_color': '7FDBB6', 'profile_sidebar_border_color': '000000', 'profile_sidebar_fill_color': '000000', 'profile_text_color': '000000', 'profile_use_background_image': False, 'profile_image_url': 'http://pbs.twimg.com/profile_images/770520201704120320/8R-gOz8T_normal.jpg', 'profile_image_url_https': 'https://pbs.twimg.com/profile_images/770520201704120320/8R-gOz8T_normal.jpg', 'default_profile': False, 'default_profile_image': False, 'following': None, 'follow_request_sent': None, 'notifications': None}, 'geo': None, 'coordinates': None, 'place': None, 'contributors': None, 'is_quote_status': False, 'quote_count': 0, 'reply_count': 0, 'retweet_count': 0, 'favorite_count': 0, 'entities': {'hashtags': [], 'urls': [{'url': 'https://t.co/0Xs7Og9g0y', 'expanded_url': 'https://srcincite.io/blog/2018/08/31/you-cant-contain-me-analyzing-and-exploiting-an-elevation-of-privilege-in-docker-for-windows.html', 'display_url': 'srcincite.io/blog/2018/08/3…', 'indices': [81, 104]}], 'user_mentions': [], 'symbols': []}, 'favorited': False, 'retweeted': False, 'possibly_sensitive': False, 'filter_level': 'low', 'lang': 'en', 'timestamp_ms': '1536220983740'}</td>\n",
       "      <td>vulnerability</td>\n",
       "      <td>{'usage': {'text_units': 1, 'text_characters': 104, 'features': 2}, 'language': 'en', 'entities': [], 'categories': [{'score': 0.77392, 'label': '/technology and computing/operating systems/windows'}, {'score': 0.215739, 'label': '/technology and computing/software'}, {'score': 0.200026, 'label': '/technology and computing/operating systems'}]}</td>\n",
       "      <td>NaN</td>\n",
       "      <td>['https://srcincite.io/blog/2018/08/31/you-cant-contain-me-analyzing-and-exploiting-an-elevation-of-privilege-in-docker-for-windows.html']</td>\n",
       "      <td>https://srcincite.io/blog/2018/08/31/you-cant-contain-me-analyzing-and-exploiting-an-elevation-of-privilege-in-docker-for-windows.html</td>\n",
       "      <td>True</td>\n",
       "    </tr>\n",
       "    <tr>\n",
       "      <th>3</th>\n",
       "      <td>15462</td>\n",
       "      <td>b'5b945ba4bb325e521c5af5b5'</td>\n",
       "      <td>2018-09-08 23:30:44+00:00</td>\n",
       "      <td>1038570361493893120</td>\n",
       "      <td>True</td>\n",
       "      <td>A Google Engineer Discovered a Vulnerability Letting Him Take Control of Keycard-Controlled Doors https://t.co/fOxCxwDHoc</td>\n",
       "      <td>{'created_at': 'Sat Sep 08 23:30:44 +0000 2018', 'id': 1038570361493893120, 'id_str': '1038570361493893120', 'text': 'A Google Engineer Discovered a Vulnerability Letting Him Take Control of Keycard-Controlled Doors https://t.co/fOxCxwDHoc', 'source': '&lt;a href=\"https://sproutsocial.com\" rel=\"nofollow\"&gt;Sprout Social&lt;/a&gt;', 'truncated': False, 'in_reply_to_status_id': None, 'in_reply_to_status_id_str': None, 'in_reply_to_user_id': None, 'in_reply_to_user_id_str': None, 'in_reply_to_screen_name': None, 'user': {'id': 1379830590, 'id_str': '1379830590', 'name': 'Migo', 'screen_name': 'MigoKed', 'location': 'United States', 'url': None, 'description': 'Building security products. Passionate about #infosec, product management and yoga. \\n#prodmgmt  #cyber #security #malware #exploit #ransomware #infosec', 'translator_type': 'none', 'protected': False, 'verified': False, 'followers_count': 776, 'friends_count': 588, 'listed_count': 80, 'favourites_count': 4139, 'statuses_count': 22332, 'created_at': 'Thu Apr 25 16:30:21 +0000 2013', 'utc_offset': None, 'time_zone': None, 'geo_enabled': False, 'lang': 'en', 'contributors_enabled': False, 'is_translator': False, 'profile_background_color': '59472F', 'profile_background_image_url': 'http://abs.twimg.com/images/themes/theme1/bg.png', 'profile_background_image_url_https': 'https://abs.twimg.com/images/themes/theme1/bg.png', 'profile_background_tile': False, 'profile_link_color': '52555C', 'profile_sidebar_border_color': '000515', 'profile_sidebar_fill_color': '061127', 'profile_text_color': '827972', 'profile_use_background_image': False, 'profile_image_url': 'http://pbs.twimg.com/profile_images/1018600418409140227/4FfWiIAa_normal.jpg', 'profile_image_url_https': 'https://pbs.twimg.com/profile_images/1018600418409140227/4FfWiIAa_normal.jpg', 'profile_banner_url': 'https://pbs.twimg.com/profile_banners/1379830590/1531605871', 'default_profile': False, 'default_profile_image': False, 'following': None, 'follow_request_sent': None, 'notifications': None}, 'geo': None, 'coordinates': None, 'place': None, 'contributors': None, 'is_quote_status': False, 'quote_count': 0, 'reply_count': 0, 'retweet_count': 0, 'favorite_count': 0, 'entities': {'hashtags': [], 'urls': [{'url': 'https://t.co/fOxCxwDHoc', 'expanded_url': 'http://bit.ly/2oTuruG', 'display_url': 'bit.ly/2oTuruG', 'indices': [98, 121]}], 'user_mentions': [], 'symbols': []}, 'favorited': False, 'retweeted': False, 'possibly_sensitive': False, 'filter_level': 'low', 'lang': 'en', 'timestamp_ms': '1536449444541'}</td>\n",
       "      <td>vulnerability</td>\n",
       "      <td>{'usage': {'text_units': 1, 'text_characters': 121, 'features': 2}, 'language': 'en', 'entities': [{'type': 'Company', 'text': 'Google', 'relevance': 0.33, 'disambiguation': {'subtype': ['AcademicInstitution', 'AwardPresentingOrganization', 'OperatingSystemDeveloper', 'ProgrammingLanguageDeveloper', 'SoftwareDeveloper', 'VentureFundedCompany'], 'name': 'Google', 'dbpedia_resource': 'http://dbpedia.org/resource/Google'}, 'count': 1}, {'type': 'JobTitle', 'text': 'Engineer', 'relevance': 0.33, 'count': 1}], 'categories': [{'score': 0.432962, 'label': '/home and garden/gardening and landscaping/yard and patio'}, {'score': 0.382486, 'label': '/technology and computing/computer security/network security'}, {'score': 0.274921, 'label': '/technology and computing'}]}</td>\n",
       "      <td>threat</td>\n",
       "      <td>['http://bit.ly/2oTuruG']</td>\n",
       "      <td>http://bit.ly/2oTuruG</td>\n",
       "      <td>True</td>\n",
       "    </tr>\n",
       "    <tr>\n",
       "      <th>4</th>\n",
       "      <td>20246</td>\n",
       "      <td>b'5b976074bb325e7a2e19a22e'</td>\n",
       "      <td>2018-09-11 06:28:03+00:00</td>\n",
       "      <td>1039400157610041345</td>\n",
       "      <td>False</td>\n",
       "      <td>\"Despite huge progress in the #vulnerability disclosure process, things remain broken when it comes to vendor-resea… https://t.co/3069kTuLj7</td>\n",
       "      <td>{'created_at': 'Tue Sep 11 06:28:03 +0000 2018', 'id': 1039400157610041345, 'id_str': '1039400157610041345', 'text': '\"Despite huge progress in the #vulnerability disclosure process, things remain broken when it comes to vendor-resea… https://t.co/3069kTuLj7', 'display_text_range': [0, 140], 'source': '&lt;a href=\"https://buffer.com\" rel=\"nofollow\"&gt;Buffer&lt;/a&gt;', 'truncated': True, 'in_reply_to_status_id': None, 'in_reply_to_status_id_str': None, 'in_reply_to_user_id': None, 'in_reply_to_user_id_str': None, 'in_reply_to_screen_name': None, 'user': {'id': 985141348910096384, 'id_str': '985141348910096384', 'name': 'Armada Innovation Labs', 'screen_name': 'armadainnolabs', 'location': 'Manila City', 'url': 'http://armadalabs.tech', 'description': 'Cyber Security Experts in the Philippines', 'translator_type': 'none', 'protected': False, 'verified': False, 'followers_count': 20, 'friends_count': 34, 'listed_count': 0, 'favourites_count': 0, 'statuses_count': 47, 'created_at': 'Sat Apr 14 13:02:55 +0000 2018', 'utc_offset': None, 'time_zone': None, 'geo_enabled': False, 'lang': 'en', 'contributors_enabled': False, 'is_translator': False, 'profile_background_color': '000000', 'profile_background_image_url': 'http://abs.twimg.com/images/themes/theme1/bg.png', 'profile_background_image_url_https': 'https://abs.twimg.com/images/themes/theme1/bg.png', 'profile_background_tile': False, 'profile_link_color': '1B95E0', 'profile_sidebar_border_color': '000000', 'profile_sidebar_fill_color': '000000', 'profile_text_color': '000000', 'profile_use_background_image': False, 'profile_image_url': 'http://pbs.twimg.com/profile_images/1011244703298154496/WjjNH3GH_normal.jpg', 'profile_image_url_https': 'https://pbs.twimg.com/profile_images/1011244703298154496/WjjNH3GH_normal.jpg', 'profile_banner_url': 'https://pbs.twimg.com/profile_banners/985141348910096384/1529934581', 'default_profile': False, 'default_profile_image': False, 'following': None, 'follow_request_sent': None, 'notifications': None}, 'geo': None, 'coordinates': None, 'place': None, 'contributors': None, 'is_quote_status': False, 'extended_tweet': {'full_text': '\"Despite huge progress in the #vulnerability disclosure process, things remain broken when it comes to vendor-researcher relationships.\" #cybersecurity #cybercrime https://t.co/qyJrmB4Cv5 https://t.co/TNl2yiN4k1', 'display_text_range': [0, 187], 'entities': {'hashtags': [{'text': 'vulnerability', 'indices': [30, 44]}, {'text': 'cybersecurity', 'indices': [137, 151]}, {'text': 'cybercrime', 'indices': [152, 163]}], 'urls': [{'url': 'https://t.co/qyJrmB4Cv5', 'expanded_url': 'https://buff.ly/2M3HDWS', 'display_url': 'buff.ly/2M3HDWS', 'indices': [164, 187]}], 'user_mentions': [], 'symbols': [], 'media': [{'id': 1039400155642880000, 'id_str': '1039400155642880000', 'indices': [188, 211], 'media_url': 'http://pbs.twimg.com/media/Dmyw70CUYAA5EjL.jpg', 'media_url_https': 'https://pbs.twimg.com/media/Dmyw70CUYAA5EjL.jpg', 'url': 'https://t.co/TNl2yiN4k1', 'display_url': 'pic.twitter.com/TNl2yiN4k1', 'expanded_url': 'https://twitter.com/armadainnolabs/status/1039400157610041345/photo/1', 'type': 'photo', 'sizes': {'medium': {'w': 700, 'h': 533, 'resize': 'fit'}, 'thumb': {'w': 150, 'h': 150, 'resize': 'crop'}, 'large': {'w': 700, 'h': 533, 'resize': 'fit'}, 'small': {'w': 680, 'h': 518, 'resize': 'fit'}}}]}, 'extended_entities': {'media': [{'id': 1039400155642880000, 'id_str': '1039400155642880000', 'indices': [188, 211], 'media_url': 'http://pbs.twimg.com/media/Dmyw70CUYAA5EjL.jpg', 'media_url_https': 'https://pbs.twimg.com/media/Dmyw70CUYAA5EjL.jpg', 'url': 'https://t.co/TNl2yiN4k1', 'display_url': 'pic.twitter.com/TNl2yiN4k1', 'expanded_url': 'https://twitter.com/armadainnolabs/status/1039400157610041345/photo/1', 'type': 'photo', 'sizes': {'medium': {'w': 700, 'h': 533, 'resize': 'fit'}, 'thumb': {'w': 150, 'h': 150, 'resize': 'crop'}, 'large': {'w': 700, 'h': 533, 'resize': 'fit'}, 'small': {'w': 680, 'h': 518, 'resize': 'fit'}}}]}}, 'quote_count': 0, 'reply_count': 0, 'retweet_count': 0, 'favorite_count': 0, 'entities': {'hashtags': [{'text': 'vulnerability', 'indices': [30, 44]}], 'urls': [{'url': 'https://t.co/3069kTuLj7', 'expanded_url': 'https://twitter.com/i/web/status/1039400157610041345', 'display_url': 'twitter.com/i/web/status/1…', 'indices': [117, 140]}], 'user_mentions': [], 'symbols': []}, 'favorited': False, 'retweeted': False, 'possibly_sensitive': False, 'filter_level': 'low', 'lang': 'en', 'timestamp_ms': '1536647283352'}</td>\n",
       "      <td>vulnerability</td>\n",
       "      <td>{'usage': {'text_units': 1, 'text_characters': 140, 'features': 2}, 'language': 'en', 'entities': [{'type': 'Hashtag', 'text': '#vulnerability', 'relevance': 0.01, 'count': 1}], 'categories': [{'score': 0.175489, 'label': '/technology and computing/operating systems'}, {'score': 0.156594, 'label': '/technology and computing/software/databases'}, {'score': 0.144681, 'label': '/finance/accounting and auditing'}]}</td>\n",
       "      <td>business</td>\n",
       "      <td>['https://twitter.com/i/web/status/1039400157610041345']</td>\n",
       "      <td>https://twitter.com/i/web/status/1039400157610041345</td>\n",
       "      <td>True</td>\n",
       "    </tr>\n",
       "  </tbody>\n",
       "</table>\n",
       "</div>"
      ]
     },
     "execution_count": 167,
     "metadata": {},
     "output_type": "execute_result"
    }
   ],
   "execution_count": 167
  },
  {
   "metadata": {
    "ExecuteTime": {
     "end_time": "2025-02-23T23:31:06.503684Z",
     "start_time": "2025-02-23T23:31:02.957846Z"
    }
   },
   "cell_type": "code",
   "source": [
    "test_filter = test_filter.assign(\n",
    "    tweet=lambda df: df[\"tweet\"].apply(func=ast.literal_eval),\n",
    "    watson=lambda df: df[\"watson\"].apply(func=ast.literal_eval),\n",
    "    urls=lambda df: df[\"urls\"].apply(func=ast.literal_eval),\n",
    "    watson_list=lambda df: df[\"watson_list\"].apply(func=ast.literal_eval),\n",
    "    target=lambda df: df[\"target\"].apply(func=ast.literal_eval),\n",
    ")\n",
    "test_filter['text'] = [replace_text_components(t) for t in test_filter['text']]\n",
    "\n",
    "test_filter = test_filter.assign(\n",
    "    target=lambda df: df[\"target\"].apply(func=map_targets, args=(\n",
    "        {\n",
    "            'computer security': 'computer security',\n",
    "            'operating systems': 'operating systems',\n",
    "            'software': 'software',\n",
    "            'programming languages': 'software',\n",
    "            'hardware': 'hardware',\n",
    "            'electronic components': 'hardware',\n",
    "            'networking': 'networking',\n",
    "            'internet technology': 'networking',\n",
    "            'network security': 'network security',\n",
    "            'antivirus and malware': 'antivirus and malware',\n",
    "            'mac os': 'mac os',\n",
    "            'windows': 'windows',\n",
    "            'unix': 'unix',\n",
    "            'linux': 'linux',\n",
    "            'databases': 'databases',\n",
    "            'computer': 'computer',\n",
    "            'computer components': 'computer components',\n",
    "            'computer networking': 'computer networking'\n",
    "        }, ))\n",
    ")\n",
    "\n",
    "print(f\"Threat Tweets: {len(test_filter)}\")\n",
    "test_filter.head()"
   ],
   "id": "446be0a7b2231e41",
   "outputs": [
    {
     "ename": "KeyError",
     "evalue": "'watson_list'",
     "output_type": "error",
     "traceback": [
      "\u001B[0;31m---------------------------------------------------------------------------\u001B[0m",
      "\u001B[0;31mKeyError\u001B[0m                                  Traceback (most recent call last)",
      "File \u001B[0;32m~/.local/programs/anaconda3/envs/msc-thesis/lib/python3.12/site-packages/pandas/core/indexes/base.py:3805\u001B[0m, in \u001B[0;36mIndex.get_loc\u001B[0;34m(self, key)\u001B[0m\n\u001B[1;32m   3804\u001B[0m \u001B[38;5;28;01mtry\u001B[39;00m:\n\u001B[0;32m-> 3805\u001B[0m     \u001B[38;5;28;01mreturn\u001B[39;00m \u001B[38;5;28mself\u001B[39m\u001B[38;5;241m.\u001B[39m_engine\u001B[38;5;241m.\u001B[39mget_loc(casted_key)\n\u001B[1;32m   3806\u001B[0m \u001B[38;5;28;01mexcept\u001B[39;00m \u001B[38;5;167;01mKeyError\u001B[39;00m \u001B[38;5;28;01mas\u001B[39;00m err:\n",
      "File \u001B[0;32mindex.pyx:167\u001B[0m, in \u001B[0;36mpandas._libs.index.IndexEngine.get_loc\u001B[0;34m()\u001B[0m\n",
      "File \u001B[0;32mindex.pyx:196\u001B[0m, in \u001B[0;36mpandas._libs.index.IndexEngine.get_loc\u001B[0;34m()\u001B[0m\n",
      "File \u001B[0;32mpandas/_libs/hashtable_class_helper.pxi:7081\u001B[0m, in \u001B[0;36mpandas._libs.hashtable.PyObjectHashTable.get_item\u001B[0;34m()\u001B[0m\n",
      "File \u001B[0;32mpandas/_libs/hashtable_class_helper.pxi:7089\u001B[0m, in \u001B[0;36mpandas._libs.hashtable.PyObjectHashTable.get_item\u001B[0;34m()\u001B[0m\n",
      "\u001B[0;31mKeyError\u001B[0m: 'watson_list'",
      "\nThe above exception was the direct cause of the following exception:\n",
      "\u001B[0;31mKeyError\u001B[0m                                  Traceback (most recent call last)",
      "Cell \u001B[0;32mIn[166], line 1\u001B[0m\n\u001B[0;32m----> 1\u001B[0m test_filter \u001B[38;5;241m=\u001B[39m test_filter\u001B[38;5;241m.\u001B[39massign(\n\u001B[1;32m      2\u001B[0m     tweet\u001B[38;5;241m=\u001B[39m\u001B[38;5;28;01mlambda\u001B[39;00m df: df[\u001B[38;5;124m\"\u001B[39m\u001B[38;5;124mtweet\u001B[39m\u001B[38;5;124m\"\u001B[39m]\u001B[38;5;241m.\u001B[39mapply(func\u001B[38;5;241m=\u001B[39mast\u001B[38;5;241m.\u001B[39mliteral_eval),\n\u001B[1;32m      3\u001B[0m     watson\u001B[38;5;241m=\u001B[39m\u001B[38;5;28;01mlambda\u001B[39;00m df: df[\u001B[38;5;124m\"\u001B[39m\u001B[38;5;124mwatson\u001B[39m\u001B[38;5;124m\"\u001B[39m]\u001B[38;5;241m.\u001B[39mapply(func\u001B[38;5;241m=\u001B[39mast\u001B[38;5;241m.\u001B[39mliteral_eval),\n\u001B[1;32m      4\u001B[0m     urls\u001B[38;5;241m=\u001B[39m\u001B[38;5;28;01mlambda\u001B[39;00m df: df[\u001B[38;5;124m\"\u001B[39m\u001B[38;5;124murls\u001B[39m\u001B[38;5;124m\"\u001B[39m]\u001B[38;5;241m.\u001B[39mapply(func\u001B[38;5;241m=\u001B[39mast\u001B[38;5;241m.\u001B[39mliteral_eval),\n\u001B[1;32m      5\u001B[0m     watson_list\u001B[38;5;241m=\u001B[39m\u001B[38;5;28;01mlambda\u001B[39;00m df: df[\u001B[38;5;124m\"\u001B[39m\u001B[38;5;124mwatson_list\u001B[39m\u001B[38;5;124m\"\u001B[39m]\u001B[38;5;241m.\u001B[39mapply(func\u001B[38;5;241m=\u001B[39mast\u001B[38;5;241m.\u001B[39mliteral_eval),\n\u001B[1;32m      6\u001B[0m     target\u001B[38;5;241m=\u001B[39m\u001B[38;5;28;01mlambda\u001B[39;00m df: df[\u001B[38;5;124m\"\u001B[39m\u001B[38;5;124mtarget\u001B[39m\u001B[38;5;124m\"\u001B[39m]\u001B[38;5;241m.\u001B[39mapply(func\u001B[38;5;241m=\u001B[39mast\u001B[38;5;241m.\u001B[39mliteral_eval),\n\u001B[1;32m      7\u001B[0m )\n\u001B[1;32m      8\u001B[0m test_filter[\u001B[38;5;124m'\u001B[39m\u001B[38;5;124mtext\u001B[39m\u001B[38;5;124m'\u001B[39m] \u001B[38;5;241m=\u001B[39m [replace_text_components(t) \u001B[38;5;28;01mfor\u001B[39;00m t \u001B[38;5;129;01min\u001B[39;00m test_filter[\u001B[38;5;124m'\u001B[39m\u001B[38;5;124mtext\u001B[39m\u001B[38;5;124m'\u001B[39m]]\n\u001B[1;32m     10\u001B[0m test_filter \u001B[38;5;241m=\u001B[39m test_filter\u001B[38;5;241m.\u001B[39massign(\n\u001B[1;32m     11\u001B[0m     target\u001B[38;5;241m=\u001B[39m\u001B[38;5;28;01mlambda\u001B[39;00m df: df[\u001B[38;5;124m\"\u001B[39m\u001B[38;5;124mtarget\u001B[39m\u001B[38;5;124m\"\u001B[39m]\u001B[38;5;241m.\u001B[39mapply(func\u001B[38;5;241m=\u001B[39mmap_targets, args\u001B[38;5;241m=\u001B[39m(\n\u001B[1;32m     12\u001B[0m         {\n\u001B[0;32m   (...)\u001B[0m\n\u001B[1;32m     31\u001B[0m         }, ))\n\u001B[1;32m     32\u001B[0m )\n",
      "File \u001B[0;32m~/.local/programs/anaconda3/envs/msc-thesis/lib/python3.12/site-packages/pandas/core/frame.py:5239\u001B[0m, in \u001B[0;36mDataFrame.assign\u001B[0;34m(self, **kwargs)\u001B[0m\n\u001B[1;32m   5236\u001B[0m data \u001B[38;5;241m=\u001B[39m \u001B[38;5;28mself\u001B[39m\u001B[38;5;241m.\u001B[39mcopy(deep\u001B[38;5;241m=\u001B[39m\u001B[38;5;28;01mNone\u001B[39;00m)\n\u001B[1;32m   5238\u001B[0m \u001B[38;5;28;01mfor\u001B[39;00m k, v \u001B[38;5;129;01min\u001B[39;00m kwargs\u001B[38;5;241m.\u001B[39mitems():\n\u001B[0;32m-> 5239\u001B[0m     data[k] \u001B[38;5;241m=\u001B[39m com\u001B[38;5;241m.\u001B[39mapply_if_callable(v, data)\n\u001B[1;32m   5240\u001B[0m \u001B[38;5;28;01mreturn\u001B[39;00m data\n",
      "File \u001B[0;32m~/.local/programs/anaconda3/envs/msc-thesis/lib/python3.12/site-packages/pandas/core/common.py:384\u001B[0m, in \u001B[0;36mapply_if_callable\u001B[0;34m(maybe_callable, obj, **kwargs)\u001B[0m\n\u001B[1;32m    373\u001B[0m \u001B[38;5;250m\u001B[39m\u001B[38;5;124;03m\"\"\"\u001B[39;00m\n\u001B[1;32m    374\u001B[0m \u001B[38;5;124;03mEvaluate possibly callable input using obj and kwargs if it is callable,\u001B[39;00m\n\u001B[1;32m    375\u001B[0m \u001B[38;5;124;03motherwise return as it is.\u001B[39;00m\n\u001B[0;32m   (...)\u001B[0m\n\u001B[1;32m    381\u001B[0m \u001B[38;5;124;03m**kwargs\u001B[39;00m\n\u001B[1;32m    382\u001B[0m \u001B[38;5;124;03m\"\"\"\u001B[39;00m\n\u001B[1;32m    383\u001B[0m \u001B[38;5;28;01mif\u001B[39;00m \u001B[38;5;28mcallable\u001B[39m(maybe_callable):\n\u001B[0;32m--> 384\u001B[0m     \u001B[38;5;28;01mreturn\u001B[39;00m maybe_callable(obj, \u001B[38;5;241m*\u001B[39m\u001B[38;5;241m*\u001B[39mkwargs)\n\u001B[1;32m    386\u001B[0m \u001B[38;5;28;01mreturn\u001B[39;00m maybe_callable\n",
      "Cell \u001B[0;32mIn[166], line 5\u001B[0m, in \u001B[0;36m<lambda>\u001B[0;34m(df)\u001B[0m\n\u001B[1;32m      1\u001B[0m test_filter \u001B[38;5;241m=\u001B[39m test_filter\u001B[38;5;241m.\u001B[39massign(\n\u001B[1;32m      2\u001B[0m     tweet\u001B[38;5;241m=\u001B[39m\u001B[38;5;28;01mlambda\u001B[39;00m df: df[\u001B[38;5;124m\"\u001B[39m\u001B[38;5;124mtweet\u001B[39m\u001B[38;5;124m\"\u001B[39m]\u001B[38;5;241m.\u001B[39mapply(func\u001B[38;5;241m=\u001B[39mast\u001B[38;5;241m.\u001B[39mliteral_eval),\n\u001B[1;32m      3\u001B[0m     watson\u001B[38;5;241m=\u001B[39m\u001B[38;5;28;01mlambda\u001B[39;00m df: df[\u001B[38;5;124m\"\u001B[39m\u001B[38;5;124mwatson\u001B[39m\u001B[38;5;124m\"\u001B[39m]\u001B[38;5;241m.\u001B[39mapply(func\u001B[38;5;241m=\u001B[39mast\u001B[38;5;241m.\u001B[39mliteral_eval),\n\u001B[1;32m      4\u001B[0m     urls\u001B[38;5;241m=\u001B[39m\u001B[38;5;28;01mlambda\u001B[39;00m df: df[\u001B[38;5;124m\"\u001B[39m\u001B[38;5;124murls\u001B[39m\u001B[38;5;124m\"\u001B[39m]\u001B[38;5;241m.\u001B[39mapply(func\u001B[38;5;241m=\u001B[39mast\u001B[38;5;241m.\u001B[39mliteral_eval),\n\u001B[0;32m----> 5\u001B[0m     watson_list\u001B[38;5;241m=\u001B[39m\u001B[38;5;28;01mlambda\u001B[39;00m df: df[\u001B[38;5;124m\"\u001B[39m\u001B[38;5;124mwatson_list\u001B[39m\u001B[38;5;124m\"\u001B[39m]\u001B[38;5;241m.\u001B[39mapply(func\u001B[38;5;241m=\u001B[39mast\u001B[38;5;241m.\u001B[39mliteral_eval),\n\u001B[1;32m      6\u001B[0m     target\u001B[38;5;241m=\u001B[39m\u001B[38;5;28;01mlambda\u001B[39;00m df: df[\u001B[38;5;124m\"\u001B[39m\u001B[38;5;124mtarget\u001B[39m\u001B[38;5;124m\"\u001B[39m]\u001B[38;5;241m.\u001B[39mapply(func\u001B[38;5;241m=\u001B[39mast\u001B[38;5;241m.\u001B[39mliteral_eval),\n\u001B[1;32m      7\u001B[0m )\n\u001B[1;32m      8\u001B[0m test_filter[\u001B[38;5;124m'\u001B[39m\u001B[38;5;124mtext\u001B[39m\u001B[38;5;124m'\u001B[39m] \u001B[38;5;241m=\u001B[39m [replace_text_components(t) \u001B[38;5;28;01mfor\u001B[39;00m t \u001B[38;5;129;01min\u001B[39;00m test_filter[\u001B[38;5;124m'\u001B[39m\u001B[38;5;124mtext\u001B[39m\u001B[38;5;124m'\u001B[39m]]\n\u001B[1;32m     10\u001B[0m test_filter \u001B[38;5;241m=\u001B[39m test_filter\u001B[38;5;241m.\u001B[39massign(\n\u001B[1;32m     11\u001B[0m     target\u001B[38;5;241m=\u001B[39m\u001B[38;5;28;01mlambda\u001B[39;00m df: df[\u001B[38;5;124m\"\u001B[39m\u001B[38;5;124mtarget\u001B[39m\u001B[38;5;124m\"\u001B[39m]\u001B[38;5;241m.\u001B[39mapply(func\u001B[38;5;241m=\u001B[39mmap_targets, args\u001B[38;5;241m=\u001B[39m(\n\u001B[1;32m     12\u001B[0m         {\n\u001B[0;32m   (...)\u001B[0m\n\u001B[1;32m     31\u001B[0m         }, ))\n\u001B[1;32m     32\u001B[0m )\n",
      "File \u001B[0;32m~/.local/programs/anaconda3/envs/msc-thesis/lib/python3.12/site-packages/pandas/core/frame.py:4102\u001B[0m, in \u001B[0;36mDataFrame.__getitem__\u001B[0;34m(self, key)\u001B[0m\n\u001B[1;32m   4100\u001B[0m \u001B[38;5;28;01mif\u001B[39;00m \u001B[38;5;28mself\u001B[39m\u001B[38;5;241m.\u001B[39mcolumns\u001B[38;5;241m.\u001B[39mnlevels \u001B[38;5;241m>\u001B[39m \u001B[38;5;241m1\u001B[39m:\n\u001B[1;32m   4101\u001B[0m     \u001B[38;5;28;01mreturn\u001B[39;00m \u001B[38;5;28mself\u001B[39m\u001B[38;5;241m.\u001B[39m_getitem_multilevel(key)\n\u001B[0;32m-> 4102\u001B[0m indexer \u001B[38;5;241m=\u001B[39m \u001B[38;5;28mself\u001B[39m\u001B[38;5;241m.\u001B[39mcolumns\u001B[38;5;241m.\u001B[39mget_loc(key)\n\u001B[1;32m   4103\u001B[0m \u001B[38;5;28;01mif\u001B[39;00m is_integer(indexer):\n\u001B[1;32m   4104\u001B[0m     indexer \u001B[38;5;241m=\u001B[39m [indexer]\n",
      "File \u001B[0;32m~/.local/programs/anaconda3/envs/msc-thesis/lib/python3.12/site-packages/pandas/core/indexes/base.py:3812\u001B[0m, in \u001B[0;36mIndex.get_loc\u001B[0;34m(self, key)\u001B[0m\n\u001B[1;32m   3807\u001B[0m     \u001B[38;5;28;01mif\u001B[39;00m \u001B[38;5;28misinstance\u001B[39m(casted_key, \u001B[38;5;28mslice\u001B[39m) \u001B[38;5;129;01mor\u001B[39;00m (\n\u001B[1;32m   3808\u001B[0m         \u001B[38;5;28misinstance\u001B[39m(casted_key, abc\u001B[38;5;241m.\u001B[39mIterable)\n\u001B[1;32m   3809\u001B[0m         \u001B[38;5;129;01mand\u001B[39;00m \u001B[38;5;28many\u001B[39m(\u001B[38;5;28misinstance\u001B[39m(x, \u001B[38;5;28mslice\u001B[39m) \u001B[38;5;28;01mfor\u001B[39;00m x \u001B[38;5;129;01min\u001B[39;00m casted_key)\n\u001B[1;32m   3810\u001B[0m     ):\n\u001B[1;32m   3811\u001B[0m         \u001B[38;5;28;01mraise\u001B[39;00m InvalidIndexError(key)\n\u001B[0;32m-> 3812\u001B[0m     \u001B[38;5;28;01mraise\u001B[39;00m \u001B[38;5;167;01mKeyError\u001B[39;00m(key) \u001B[38;5;28;01mfrom\u001B[39;00m \u001B[38;5;21;01merr\u001B[39;00m\n\u001B[1;32m   3813\u001B[0m \u001B[38;5;28;01mexcept\u001B[39;00m \u001B[38;5;167;01mTypeError\u001B[39;00m:\n\u001B[1;32m   3814\u001B[0m     \u001B[38;5;66;03m# If we have a listlike key, _check_indexing_error will raise\u001B[39;00m\n\u001B[1;32m   3815\u001B[0m     \u001B[38;5;66;03m#  InvalidIndexError. Otherwise we fall through and re-raise\u001B[39;00m\n\u001B[1;32m   3816\u001B[0m     \u001B[38;5;66;03m#  the TypeError.\u001B[39;00m\n\u001B[1;32m   3817\u001B[0m     \u001B[38;5;28mself\u001B[39m\u001B[38;5;241m.\u001B[39m_check_indexing_error(key)\n",
      "\u001B[0;31mKeyError\u001B[0m: 'watson_list'"
     ]
    }
   ],
   "execution_count": 166
  },
  {
   "metadata": {
    "ExecuteTime": {
     "end_time": "2025-02-23T21:03:35.103406Z",
     "start_time": "2025-02-23T21:03:35.100161Z"
    }
   },
   "cell_type": "code",
   "source": [
    "texts = test_tweets['text']\n",
    "targets = test_tweets['target']"
   ],
   "id": "97ba60343db311a9",
   "outputs": [],
   "execution_count": 66
  },
  {
   "metadata": {
    "ExecuteTime": {
     "end_time": "2025-02-23T22:10:13.634687Z",
     "start_time": "2025-02-23T22:10:13.001910Z"
    }
   },
   "cell_type": "code",
   "source": [
    "import joblib\n",
    "\n",
    "filter = joblib.load(filename=\"../models/filter.pkl\")"
   ],
   "id": "c64e606dd17daba",
   "outputs": [
    {
     "name": "stderr",
     "output_type": "stream",
     "text": [
      "/home/cela/.local/programs/anaconda3/envs/msc-thesis/lib/python3.12/site-packages/sklearn/base.py:380: InconsistentVersionWarning: Trying to unpickle estimator DecisionTreeClassifier from version 1.5.1 when using version 1.6.1. This might lead to breaking code or invalid results. Use at your own risk. For more info please refer to:\n",
      "https://scikit-learn.org/stable/model_persistence.html#security-maintainability-limitations\n",
      "  warnings.warn(\n",
      "/home/cela/.local/programs/anaconda3/envs/msc-thesis/lib/python3.12/site-packages/sklearn/base.py:380: InconsistentVersionWarning: Trying to unpickle estimator RandomForestClassifier from version 1.5.1 when using version 1.6.1. This might lead to breaking code or invalid results. Use at your own risk. For more info please refer to:\n",
      "https://scikit-learn.org/stable/model_persistence.html#security-maintainability-limitations\n",
      "  warnings.warn(\n"
     ]
    }
   ],
   "execution_count": 146
  },
  {
   "metadata": {
    "ExecuteTime": {
     "end_time": "2025-02-23T21:44:59.519306Z",
     "start_time": "2025-02-23T21:42:32.990916Z"
    }
   },
   "cell_type": "code",
   "source": [
    "with open(\"../models/GENERAL.pkl\", \"rb\") as f:\n",
    "    general = pickle.load(f)\n",
    "    general.mlb.fit(targets)\n",
    "    general.scaler_ = preprocessing.StandardScaler().fit(preprocess_texts(\n",
    "        list_str=texts,\n",
    "        model_path='basel/ATTACK-BERT',\n",
    "        embedding_dim=None,\n",
    "    ))"
   ],
   "id": "d916a92a504d4b6e",
   "outputs": [],
   "execution_count": 124
  },
  {
   "metadata": {
    "ExecuteTime": {
     "end_time": "2025-02-23T21:53:21.122945Z",
     "start_time": "2025-02-23T21:53:21.119007Z"
    }
   },
   "cell_type": "code",
   "source": [
    "for idx in general.models:\n",
    "    general.models[idx][\"model\"].scaler_ = general.scaler_"
   ],
   "id": "964ad252e03f3356",
   "outputs": [],
   "execution_count": 129
  },
  {
   "metadata": {
    "ExecuteTime": {
     "end_time": "2025-02-23T21:03:37.189549Z",
     "start_time": "2025-02-23T21:03:37.149654Z"
    }
   },
   "cell_type": "code",
   "source": [
    "with open(\"../models/COMPUTER.SECURITY.pkl\", \"rb\") as f:\n",
    "    cs = pickle.load(f)"
   ],
   "id": "fb89b23250ade576",
   "outputs": [],
   "execution_count": 68
  },
  {
   "metadata": {
    "ExecuteTime": {
     "end_time": "2025-02-23T21:03:37.626231Z",
     "start_time": "2025-02-23T21:03:37.610077Z"
    }
   },
   "cell_type": "code",
   "source": [
    "with open(\"../models/OPERATING.SYSTEMS.pkl\", \"rb\") as f:\n",
    "    os = pickle.load(f)"
   ],
   "id": "13fdab8fe4c6421a",
   "outputs": [],
   "execution_count": 69
  },
  {
   "metadata": {
    "ExecuteTime": {
     "end_time": "2025-02-23T21:03:38.067437Z",
     "start_time": "2025-02-23T21:03:38.043327Z"
    }
   },
   "cell_type": "code",
   "source": [
    "with open(\"../models/SOFTWARE.pkl\", \"rb\") as f:\n",
    "    sw = pickle.load(f)"
   ],
   "id": "4bfe83c9ee951068",
   "outputs": [],
   "execution_count": 70
  },
  {
   "metadata": {
    "ExecuteTime": {
     "end_time": "2025-02-23T21:03:38.790140Z",
     "start_time": "2025-02-23T21:03:38.671142Z"
    }
   },
   "cell_type": "code",
   "source": [
    "with open(\"../models/HARDWARE.pkl\", \"rb\") as f:\n",
    "    hw = pickle.load(f)"
   ],
   "id": "ca3a10ad12743c75",
   "outputs": [],
   "execution_count": 71
  },
  {
   "metadata": {
    "ExecuteTime": {
     "end_time": "2025-02-23T21:03:39.030119Z",
     "start_time": "2025-02-23T21:03:39.026967Z"
    }
   },
   "cell_type": "code",
   "outputs": [],
   "execution_count": 72,
   "source": "#ATT&CK-BERT, DistilRoBERTa, DistilRoBERTa, DistilRoBERTa, ATT&CK-BERT",
   "id": "140eb40b4915115d"
  },
  {
   "metadata": {
    "ExecuteTime": {
     "end_time": "2025-02-23T23:26:22.398363Z",
     "start_time": "2025-02-23T23:26:22.385264Z"
    }
   },
   "cell_type": "code",
   "source": [
    "class System(BaseEstimator, ClassifierMixin):\n",
    "    def __init__(self, filter, general, cs, os, sw, hw):\n",
    "        self.filter = filter\n",
    "        self.general = general  # ATT&CK-BERT\n",
    "        self.cs = cs  # DistilRoBERTa\n",
    "        self.os = os  # DistilRoBERTa\n",
    "        self.sw = sw  # DistilRoBERTa\n",
    "        self.hw = hw  # ATT&CK-BERT\n",
    "\n",
    "    def predict(self, texts: pd.Series) -> ArrayLike:\n",
    "        X_SBERT = preprocess_texts(\n",
    "            list_str=texts,\n",
    "            model_path='sentence-transformers/all-mpnet-base-v2',\n",
    "            embedding_dim=None,\n",
    "        )\n",
    "        general_dim = len(self.general.mlb.classes_)\n",
    "        cs_dim = len(self.cs.mlb.classes_) - 1\n",
    "        os_dim = len(self.os.mlb.classes_) - 1\n",
    "        sw_dim = len(self.sw.mlb.classes_) - 1\n",
    "        hw_dim = len(self.hw.mlb.classes_) - 1\n",
    "        Y_pred = np.zeros((texts.shape[0], general_dim + cs_dim + os_dim + sw_dim + hw_dim))\n",
    "        X_ATTACK_BERT = preprocess_texts(\n",
    "            list_str=texts,\n",
    "            model_path='basel/ATTACK-BERT',\n",
    "            embedding_dim=None,\n",
    "        )\n",
    "        X_DistilRoBERTa = preprocess_texts(\n",
    "            list_str=texts,\n",
    "            model_path='sentence-transformers/all-distilroberta-v1',\n",
    "            embedding_dim=None,\n",
    "        )\n",
    "        y_filter = self.filter.predict(X_SBERT)\n",
    "        y_general = self.general.predict(X_ATTACK_BERT)\n",
    "        Y_pred[:, :general_dim] = y_general\n",
    "        for idx, (t, f) in enumerate(zip(self.general.mlb.inverse_transform(y_general), y_filter)):\n",
    "            if not False:\n",
    "                if 'computer security' in t:\n",
    "                    y_cs = self.cs.predict(X_DistilRoBERTa[idx:idx + 1])\n",
    "                    Y_pred[idx, general_dim:general_dim + cs_dim] = y_cs[:, :cs_dim]\n",
    "                if 'operating systems' in t:\n",
    "                    y_os = self.os.predict(X_DistilRoBERTa[idx:idx + 1])\n",
    "                    Y_pred[idx, general_dim + cs_dim:general_dim + cs_dim + os_dim] = np.hstack((y_os[:, :2], y_os[:, 3:]))\n",
    "                if \"software\" in t:\n",
    "                    y_sw = self.sw.predict(X_DistilRoBERTa[idx:idx + 1])\n",
    "                    Y_pred[idx, general_dim + cs_dim + os_dim:general_dim + cs_dim + os_dim + sw_dim] = y_sw[:, :sw_dim]\n",
    "                if \"hardware\" in t:\n",
    "                    y_hw = self.hw.predict(X_ATTACK_BERT[idx:idx + 1])\n",
    "                    Y_pred[idx, general_dim + cs_dim + os_dim + sw_dim:] = y_hw[:, :hw_dim]\n",
    "            else:\n",
    "                Y_pred[idx, :] = np.zeros(Y_pred.shape[1])\n",
    "                Y_pred[idx, 4] = 1.0\n",
    "        return Y_pred\n",
    "\n",
    "    def predict_targets(self, texts: pd.Series) -> pd.Series:\n",
    "        general_dim = len(self.general.mlb.classes_)\n",
    "        cs_dim = len(self.cs.mlb.classes_) - 1\n",
    "        os_dim = len(self.os.mlb.classes_) - 1\n",
    "        sw_dim = len(self.sw.mlb.classes_) - 1\n",
    "        Y_pred = self.predict(texts)\n",
    "        y_general = Y_pred[:, :general_dim]\n",
    "        y_cs = Y_pred[:, general_dim:general_dim + cs_dim]\n",
    "        y_os = Y_pred[:, general_dim + cs_dim:general_dim + cs_dim + os_dim]\n",
    "        y_sw = Y_pred[:, general_dim + cs_dim + os_dim:general_dim + cs_dim + os_dim + sw_dim]\n",
    "        y_hw = Y_pred[:, general_dim + cs_dim + os_dim + sw_dim:]\n",
    "        targets_general = self.general.mlb.inverse_transform(y_general)\n",
    "        targets_cs = self.cs.mlb.inverse_transform(np.hstack((y_cs, np.zeros((y_cs.shape[0], 1)))))\n",
    "        targets_os = self.os.mlb.inverse_transform(np.hstack((y_os[:, :2], np.zeros((y_os.shape[0], 1)), y_os[:, 2:])))\n",
    "        targets_sw = self.sw.mlb.inverse_transform(np.hstack((y_sw, np.zeros((y_sw.shape[0], 1)))))\n",
    "        targets_hw = self.hw.mlb.inverse_transform(np.hstack((y_hw, np.zeros((y_hw.shape[0], 1)))))\n",
    "        return pd.Series(data=[list(set(target_general + target_cs + target_os + target_sw + target_hw)) for target_general, target_cs, target_os, target_sw, target_hw in zip(targets_general, targets_cs, targets_os, targets_sw, targets_hw)], index=texts.index)\n",
    "\n",
    "    def evaluate(self, texts: pd.Series, targets: pd.Series) -> dict[str, float]:\n",
    "        targets_general = self.general.mlb.transform(targets)\n",
    "        targets_cs = self.cs.mlb.transform(targets)\n",
    "        targets_os = self.os.mlb.transform(targets)\n",
    "        targets_sw = self.sw.mlb.transform(targets)\n",
    "        targets_hw = self.hw.mlb.transform(targets)\n",
    "        Y_test = np.hstack((targets_general, targets_cs[:, :-1], targets_os[:, :2], targets_os[:, 3:], targets_sw[:, :-1], targets_hw[:, :-1]))\n",
    "        Y_pred = self.predict(texts)\n",
    "        return assess(Y_test, Y_pred)\n",
    "\n",
    "    def classes(self):\n",
    "        return list(self.general.mlb.classes_) + list(self.cs.mlb.classes_[:-1]) + list(self.os.mlb.classes_[:2]) + list(self.os.mlb.classes_[3:]) + list(self.sw.mlb.classes_[:-1]) + list(self.hw.mlb.classes_[:-1])\n",
    "\n",
    "\n",
    "solution = System(filter, general, cs, os, sw, hw)"
   ],
   "id": "9347e8cd01b453a7",
   "outputs": [],
   "execution_count": 161
  },
  {
   "metadata": {
    "ExecuteTime": {
     "end_time": "2025-02-23T23:28:22.373684Z",
     "start_time": "2025-02-23T23:28:09.687549Z"
    }
   },
   "cell_type": "code",
   "source": "pd.DataFrame([solution.predict_targets(texts[100:110]), targets[100:110], texts[100:110]], index=[\"Predicted\", \"Actual\", \"Text\"]).transpose()",
   "id": "f2e62cbfaca42c1e",
   "outputs": [
    {
     "data": {
      "text/plain": [
       "                                                           Predicted  \\\n",
       "100                       [computer security, antivirus and malware]   \n",
       "101                        [computer, software, databases, hardware]   \n",
       "102                                                               []   \n",
       "103                       [computer security, antivirus and malware]   \n",
       "104                                                       [software]   \n",
       "105                                   [computer, software, hardware]   \n",
       "106  [software, databases, computer security, antivirus and malware]   \n",
       "107                  [software, network security, computer security]   \n",
       "108                       [computer security, antivirus and malware]   \n",
       "109                                                          [other]   \n",
       "\n",
       "                                                              Actual  \\\n",
       "100                       [computer security, antivirus and malware]   \n",
       "101                        [computer, software, databases, hardware]   \n",
       "102     [network security, computer security, antivirus and malware]   \n",
       "103   [computer, computer security, hardware, antivirus and malware]   \n",
       "104                                                       [software]   \n",
       "105                                   [computer, software, hardware]   \n",
       "106  [software, databases, computer security, antivirus and malware]   \n",
       "107                  [software, network security, computer security]   \n",
       "108                       [computer security, antivirus and malware]   \n",
       "109                                                       [software]   \n",
       "\n",
       "                                                                                                                                           Text  \n",
       "100  My dad and 02 are they DDoS protection provider as well we don't like i deactivated temporarily if u ever notice how to be ugly word I may  \n",
       "101                       CVE-2018-3952 An exploitable code execution vulnerability exists in the connect functionality of NordVPN 6.14.28.0.…   \n",
       "102                       A Real-world Deep Dive into the Top Cloud Threats - ➱ LinkedIn (The Top Threats: Data Breaches; Insufficient Identi…   \n",
       "103                                                                    So, . Why is this Blue Botnet C2 still alive? hxxp://softnew[.]website/   \n",
       "104                       There is a vulnerability in IBM Java SDK Technology Edition, Version 8 used by Transparent Cloud Tiering. This issu…   \n",
       "105                                                      Exploit Code POC Published for Intel Chipset Vulnerability - Latest Hacking News  by    \n",
       "106                                                                      Indian Society of Tele Dermatology Insted SQL Injection Vulnerability   \n",
       "107                                                                                Sony Global - Software Vulnerability Prevention Initiative\\n  \n",
       "108                                                                New Fallout Exploit Kit Drops GandCrab Ransomware or Redirects to PUPs. ⁦⁩    \n",
       "109                        RT druvainc \"RT TeamWebinar: Join us to learn \"How Hatco Leverages AWS and Druva to Beat Ransomware\" on Sept 21st.…   "
      ],
      "text/html": [
       "<div>\n",
       "<style scoped>\n",
       "    .dataframe tbody tr th:only-of-type {\n",
       "        vertical-align: middle;\n",
       "    }\n",
       "\n",
       "    .dataframe tbody tr th {\n",
       "        vertical-align: top;\n",
       "    }\n",
       "\n",
       "    .dataframe thead th {\n",
       "        text-align: right;\n",
       "    }\n",
       "</style>\n",
       "<table border=\"1\" class=\"dataframe\">\n",
       "  <thead>\n",
       "    <tr style=\"text-align: right;\">\n",
       "      <th></th>\n",
       "      <th>Predicted</th>\n",
       "      <th>Actual</th>\n",
       "      <th>Text</th>\n",
       "    </tr>\n",
       "  </thead>\n",
       "  <tbody>\n",
       "    <tr>\n",
       "      <th>100</th>\n",
       "      <td>[computer security, antivirus and malware]</td>\n",
       "      <td>[computer security, antivirus and malware]</td>\n",
       "      <td>My dad and 02 are they DDoS protection provider as well we don't like i deactivated temporarily if u ever notice how to be ugly word I may</td>\n",
       "    </tr>\n",
       "    <tr>\n",
       "      <th>101</th>\n",
       "      <td>[computer, software, databases, hardware]</td>\n",
       "      <td>[computer, software, databases, hardware]</td>\n",
       "      <td>CVE-2018-3952 An exploitable code execution vulnerability exists in the connect functionality of NordVPN 6.14.28.0.…</td>\n",
       "    </tr>\n",
       "    <tr>\n",
       "      <th>102</th>\n",
       "      <td>[]</td>\n",
       "      <td>[network security, computer security, antivirus and malware]</td>\n",
       "      <td>A Real-world Deep Dive into the Top Cloud Threats - ➱ LinkedIn (The Top Threats: Data Breaches; Insufficient Identi…</td>\n",
       "    </tr>\n",
       "    <tr>\n",
       "      <th>103</th>\n",
       "      <td>[computer security, antivirus and malware]</td>\n",
       "      <td>[computer, computer security, hardware, antivirus and malware]</td>\n",
       "      <td>So, . Why is this Blue Botnet C2 still alive? hxxp://softnew[.]website/</td>\n",
       "    </tr>\n",
       "    <tr>\n",
       "      <th>104</th>\n",
       "      <td>[software]</td>\n",
       "      <td>[software]</td>\n",
       "      <td>There is a vulnerability in IBM Java SDK Technology Edition, Version 8 used by Transparent Cloud Tiering. This issu…</td>\n",
       "    </tr>\n",
       "    <tr>\n",
       "      <th>105</th>\n",
       "      <td>[computer, software, hardware]</td>\n",
       "      <td>[computer, software, hardware]</td>\n",
       "      <td>Exploit Code POC Published for Intel Chipset Vulnerability - Latest Hacking News  by</td>\n",
       "    </tr>\n",
       "    <tr>\n",
       "      <th>106</th>\n",
       "      <td>[software, databases, computer security, antivirus and malware]</td>\n",
       "      <td>[software, databases, computer security, antivirus and malware]</td>\n",
       "      <td>Indian Society of Tele Dermatology Insted SQL Injection Vulnerability</td>\n",
       "    </tr>\n",
       "    <tr>\n",
       "      <th>107</th>\n",
       "      <td>[software, network security, computer security]</td>\n",
       "      <td>[software, network security, computer security]</td>\n",
       "      <td>Sony Global - Software Vulnerability Prevention Initiative\\n</td>\n",
       "    </tr>\n",
       "    <tr>\n",
       "      <th>108</th>\n",
       "      <td>[computer security, antivirus and malware]</td>\n",
       "      <td>[computer security, antivirus and malware]</td>\n",
       "      <td>New Fallout Exploit Kit Drops GandCrab Ransomware or Redirects to PUPs. ⁦⁩</td>\n",
       "    </tr>\n",
       "    <tr>\n",
       "      <th>109</th>\n",
       "      <td>[other]</td>\n",
       "      <td>[software]</td>\n",
       "      <td>RT druvainc \"RT TeamWebinar: Join us to learn \"How Hatco Leverages AWS and Druva to Beat Ransomware\" on Sept 21st.…</td>\n",
       "    </tr>\n",
       "  </tbody>\n",
       "</table>\n",
       "</div>"
      ]
     },
     "execution_count": 164,
     "metadata": {},
     "output_type": "execute_result"
    }
   ],
   "execution_count": 164
  },
  {
   "metadata": {
    "ExecuteTime": {
     "end_time": "2025-02-23T23:05:13.454708Z",
     "start_time": "2025-02-23T23:04:38.145780Z"
    }
   },
   "cell_type": "code",
   "source": [
    "system_performance = solution.evaluate(texts[:100], targets[:100])\n",
    "print(\"==========================================================\")\n",
    "print(\"System Performance\")\n",
    "print(\"==========================================================\")\n",
    "print(f\"Accuracy:\\t{system_performance['accuracy'] * 100:.2f}%\")\n",
    "print(f\"Hamming Loss:\\t{system_performance['hamming_loss']:.3f}\")\n",
    "report = pd.DataFrame(system_performance[\"report\"])\n",
    "report.columns = solution.classes() + [\"micro avg\", \"macro avg\", \"weighted avg\", \"samples avg\"]\n",
    "report = (report.transpose().map(lambda x: f\"{x:.2f}\" if isinstance(x, float) else x).to_string())\n",
    "print(f\"{report}\")\n",
    "print(\"==========================================================\\n\")"
   ],
   "id": "fa2cddd383fc303f",
   "outputs": [
    {
     "name": "stderr",
     "output_type": "stream",
     "text": [
      "/home/cela/.local/programs/anaconda3/envs/msc-thesis/lib/python3.12/site-packages/sklearn/preprocessing/_label.py:909: UserWarning: unknown class(es) ['antivirus and malware', 'computer', 'computer networking', 'databases', 'linux', 'network security', 'unix', 'windows'] will be ignored\n",
      "  warnings.warn(\n",
      "/home/cela/.local/programs/anaconda3/envs/msc-thesis/lib/python3.12/site-packages/sklearn/preprocessing/_label.py:909: UserWarning: unknown class(es) ['computer', 'computer networking', 'computer security', 'databases', 'hardware', 'linux', 'networking', 'operating systems', 'software', 'unix', 'windows'] will be ignored\n",
      "  warnings.warn(\n",
      "/home/cela/.local/programs/anaconda3/envs/msc-thesis/lib/python3.12/site-packages/sklearn/preprocessing/_label.py:909: UserWarning: unknown class(es) ['antivirus and malware', 'computer', 'computer networking', 'computer security', 'databases', 'hardware', 'network security', 'networking', 'operating systems', 'software'] will be ignored\n",
      "  warnings.warn(\n",
      "/home/cela/.local/programs/anaconda3/envs/msc-thesis/lib/python3.12/site-packages/sklearn/preprocessing/_label.py:909: UserWarning: unknown class(es) ['antivirus and malware', 'computer', 'computer networking', 'computer security', 'hardware', 'linux', 'network security', 'networking', 'operating systems', 'software', 'unix', 'windows'] will be ignored\n",
      "  warnings.warn(\n",
      "/home/cela/.local/programs/anaconda3/envs/msc-thesis/lib/python3.12/site-packages/sklearn/preprocessing/_label.py:909: UserWarning: unknown class(es) ['antivirus and malware', 'computer security', 'databases', 'hardware', 'linux', 'network security', 'networking', 'operating systems', 'software', 'unix', 'windows'] will be ignored\n",
      "  warnings.warn(\n"
     ]
    },
    {
     "name": "stdout",
     "output_type": "stream",
     "text": [
      "==========================================================\n",
      "System Performance\n",
      "==========================================================\n",
      "Accuracy:\t19.00%\n",
      "Hamming Loss:\t0.193\n",
      "                      precision recall f1-score support   auc\n",
      "computer security          0.83   0.09     0.16   57.00  0.53\n",
      "hardware                   0.00   0.00     0.00   20.00  0.50\n",
      "networking                 1.00   0.12     0.22    8.00  0.56\n",
      "operating systems          0.00   0.00     0.00   11.00  0.50\n",
      "other                      0.18   0.94     0.30   17.00  0.52\n",
      "software                   1.00   0.05     0.09   41.00  0.52\n",
      "antivirus and malware      1.00   0.05     0.10   39.00  0.53\n",
      "network security           0.75   0.14     0.23   22.00  0.56\n",
      "linux                      0.00   0.00     0.00    7.00  0.50\n",
      "mac os                     0.00   0.00     0.00    0.00   nan\n",
      "unix                       0.00   0.00     0.00    1.00  0.50\n",
      "windows                    0.00   0.00     0.00    3.00  0.50\n",
      "databases                  0.00   0.00     0.00   14.00  0.50\n",
      "computer                   0.00   0.00     0.00   18.00  0.50\n",
      "computer components        0.00   0.00     0.00    0.00   nan\n",
      "computer networking        0.00   0.00     0.00    3.00  0.50\n",
      "micro avg                  0.28   0.11     0.16  261.00  0.53\n",
      "macro avg                  0.30   0.09     0.07  261.00   nan\n",
      "weighted avg               0.59   0.11     0.11  261.00  0.52\n",
      "samples avg                0.22   0.21     0.21  261.00  0.57\n",
      "==========================================================\n",
      "\n"
     ]
    },
    {
     "name": "stderr",
     "output_type": "stream",
     "text": [
      "/home/cela/.local/programs/anaconda3/envs/msc-thesis/lib/python3.12/site-packages/sklearn/metrics/_ranking.py:379: UndefinedMetricWarning: Only one class is present in y_true. ROC AUC score is not defined in that case.\n",
      "  warnings.warn(\n",
      "/home/cela/.local/programs/anaconda3/envs/msc-thesis/lib/python3.12/site-packages/sklearn/metrics/_ranking.py:379: UndefinedMetricWarning: Only one class is present in y_true. ROC AUC score is not defined in that case.\n",
      "  warnings.warn(\n",
      "/home/cela/.local/programs/anaconda3/envs/msc-thesis/lib/python3.12/site-packages/sklearn/metrics/_ranking.py:379: UndefinedMetricWarning: Only one class is present in y_true. ROC AUC score is not defined in that case.\n",
      "  warnings.warn(\n",
      "/home/cela/.local/programs/anaconda3/envs/msc-thesis/lib/python3.12/site-packages/sklearn/metrics/_ranking.py:379: UndefinedMetricWarning: Only one class is present in y_true. ROC AUC score is not defined in that case.\n",
      "  warnings.warn(\n",
      "/home/cela/.local/programs/anaconda3/envs/msc-thesis/lib/python3.12/site-packages/sklearn/metrics/_ranking.py:379: UndefinedMetricWarning: Only one class is present in y_true. ROC AUC score is not defined in that case.\n",
      "  warnings.warn(\n",
      "/home/cela/.local/programs/anaconda3/envs/msc-thesis/lib/python3.12/site-packages/sklearn/metrics/_ranking.py:379: UndefinedMetricWarning: Only one class is present in y_true. ROC AUC score is not defined in that case.\n",
      "  warnings.warn(\n"
     ]
    }
   ],
   "execution_count": 153
  },
  {
   "metadata": {},
   "cell_type": "code",
   "outputs": [],
   "execution_count": null,
   "source": "",
   "id": "7b5bb3677a2cd814"
  },
  {
   "metadata": {
    "ExecuteTime": {
     "end_time": "2025-02-23T22:07:58.280984Z",
     "start_time": "2025-02-23T22:07:53.067905Z"
    }
   },
   "cell_type": "code",
   "source": "pd.DataFrame(data=solution.predict(pd.Series([\"There are rootkits threats ongoing in the wild, and they're infecting the AMD CPUs when you open an EXE file attackers send via mail. Pay attention\"])), columns=solution.classes())",
   "id": "9b6a069c344f4629",
   "outputs": [
    {
     "data": {
      "text/plain": [
       "   computer security  hardware  networking  operating systems  other  \\\n",
       "0                1.0       0.0         0.0                0.0    0.0   \n",
       "\n",
       "   software  antivirus and malware  network security  linux  mac os  unix  \\\n",
       "0       0.0                    1.0               0.0    0.0     0.0   0.0   \n",
       "\n",
       "   windows  databases  computer  computer components  computer networking  \n",
       "0      0.0        0.0       0.0                  0.0                  0.0  "
      ],
      "text/html": [
       "<div>\n",
       "<style scoped>\n",
       "    .dataframe tbody tr th:only-of-type {\n",
       "        vertical-align: middle;\n",
       "    }\n",
       "\n",
       "    .dataframe tbody tr th {\n",
       "        vertical-align: top;\n",
       "    }\n",
       "\n",
       "    .dataframe thead th {\n",
       "        text-align: right;\n",
       "    }\n",
       "</style>\n",
       "<table border=\"1\" class=\"dataframe\">\n",
       "  <thead>\n",
       "    <tr style=\"text-align: right;\">\n",
       "      <th></th>\n",
       "      <th>computer security</th>\n",
       "      <th>hardware</th>\n",
       "      <th>networking</th>\n",
       "      <th>operating systems</th>\n",
       "      <th>other</th>\n",
       "      <th>software</th>\n",
       "      <th>antivirus and malware</th>\n",
       "      <th>network security</th>\n",
       "      <th>linux</th>\n",
       "      <th>mac os</th>\n",
       "      <th>unix</th>\n",
       "      <th>windows</th>\n",
       "      <th>databases</th>\n",
       "      <th>computer</th>\n",
       "      <th>computer components</th>\n",
       "      <th>computer networking</th>\n",
       "    </tr>\n",
       "  </thead>\n",
       "  <tbody>\n",
       "    <tr>\n",
       "      <th>0</th>\n",
       "      <td>1.0</td>\n",
       "      <td>0.0</td>\n",
       "      <td>0.0</td>\n",
       "      <td>0.0</td>\n",
       "      <td>0.0</td>\n",
       "      <td>0.0</td>\n",
       "      <td>1.0</td>\n",
       "      <td>0.0</td>\n",
       "      <td>0.0</td>\n",
       "      <td>0.0</td>\n",
       "      <td>0.0</td>\n",
       "      <td>0.0</td>\n",
       "      <td>0.0</td>\n",
       "      <td>0.0</td>\n",
       "      <td>0.0</td>\n",
       "      <td>0.0</td>\n",
       "    </tr>\n",
       "  </tbody>\n",
       "</table>\n",
       "</div>"
      ]
     },
     "execution_count": 136,
     "metadata": {},
     "output_type": "execute_result"
    }
   ],
   "execution_count": 136
  }
 ],
 "metadata": {
  "kaggle": {
   "accelerator": "none",
   "dataSources": [
    {
     "datasetId": 870709,
     "sourceId": 1483651,
     "sourceType": "datasetVersion"
    },
    {
     "datasetId": 4678553,
     "sourceId": 7954760,
     "sourceType": "datasetVersion"
    }
   ],
   "dockerImageVersionId": 30804,
   "isGpuEnabled": false,
   "isInternetEnabled": true,
   "language": "python",
   "sourceType": "notebook"
  },
  "kernelspec": {
   "display_name": "vsc",
   "language": "python",
   "name": "python3"
  },
  "language_info": {
   "codemirror_mode": {
    "name": "ipython",
    "version": 3
   },
   "file_extension": ".py",
   "mimetype": "text/x-python",
   "name": "python",
   "nbconvert_exporter": "python",
   "pygments_lexer": "ipython3",
   "version": "3.13.2"
  },
  "papermill": {
   "default_parameters": {},
   "duration": 5394.913296,
   "end_time": "2024-12-12T17:56:06.436689",
   "environment_variables": {},
   "exception": null,
   "input_path": "__notebook__.ipynb",
   "output_path": "__notebook__.ipynb",
   "parameters": {},
   "start_time": "2024-12-12T16:26:11.523393",
   "version": "2.6.0"
  }
 },
 "nbformat": 4,
 "nbformat_minor": 5
}
