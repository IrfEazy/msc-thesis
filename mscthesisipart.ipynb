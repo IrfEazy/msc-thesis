{
 "metadata": {
  "kernelspec": {
   "language": "python",
   "display_name": "Python 3",
   "name": "python3"
  },
  "language_info": {
   "name": "python",
   "version": "3.10.14",
   "mimetype": "text/x-python",
   "codemirror_mode": {
    "name": "ipython",
    "version": 3
   },
   "pygments_lexer": "ipython3",
   "nbconvert_exporter": "python",
   "file_extension": ".py"
  },
  "kaggle": {
   "accelerator": "none",
   "dataSources": [
    {
     "sourceId": 7954760,
     "sourceType": "datasetVersion",
     "datasetId": 4678553
    }
   ],
   "dockerImageVersionId": 30805,
   "isInternetEnabled": true,
   "language": "python",
   "sourceType": "notebook",
   "isGpuEnabled": false
  }
 },
 "nbformat_minor": 4,
 "nbformat": 4,
 "cells": [
  {
   "cell_type": "code",
   "source": [
    "import os\n",
    "\n",
    "import matplotlib.pyplot as plt\n",
    "import nltk\n",
    "import numpy as np\n",
    "import pandas as pd\n",
    "import seaborn as sns\n",
    "from sklearn.feature_extraction.text import FeatureHasher, HashingVectorizer\n",
    "from sklearn.metrics import confusion_matrix\n",
    "from sklearn.model_selection import train_test_split, StratifiedKFold\n",
    "from tensorflow.keras.callbacks import EarlyStopping, ReduceLROnPlateau\n",
    "from tensorflow.keras.layers import Embedding, Conv1D, GlobalMaxPooling1D, Dense, Input, Concatenate, Dropout, Flatten, \\\n",
    "    BatchNormalization\n",
    "from tensorflow.keras.models import Model\n",
    "from tensorflow.keras.preprocessing.sequence import pad_sequences\n",
    "from tensorflow.keras.preprocessing.text import Tokenizer\n",
    "\n",
    "from preprocess_functions import clean_text, lemmatize_text, pos_tagging, remove_stopwords, extract_structural_features, \\\n",
    "    replace_text_components, extract_url_features, replace_url_components\n",
    "\n",
    "# Input data files are available in the read-only \"../input/\" directory.\n",
    "# For example, running this (by clicking run or pressing Shift+Enter) will list all files under the input directory\n",
    "\n",
    "for dir_name, _, filenames in os.walk('/kaggle/input'):\n",
    "    for filename in filenames:\n",
    "        print(os.path.join(dir_name, filename))\n",
    "\n",
    "# You can write up to 20GB to the current directory (/kaggle/working/) that gets preserved as output when you create a version using \"Save & Run All\".\n",
    "# You can also write temporary files to /kaggle/temp/, but they won't be saved outside the current session\n"
   ],
   "metadata": {
    "_uuid": "8f2839f25d086af736a60e9eeb907d3b93b6e0e5",
    "_cell_guid": "b1076dfc-b9ad-4769-8c92-a6c4dae69d19",
    "trusted": true,
    "execution": {
     "iopub.status.busy": "2024-12-04T23:04:03.826481Z",
     "iopub.execute_input": "2024-12-04T23:04:03.826819Z",
     "iopub.status.idle": "2024-12-04T23:04:17.873739Z",
     "shell.execute_reply.started": "2024-12-04T23:04:03.826788Z",
     "shell.execute_reply": "2024-12-04T23:04:17.872873Z"
    }
   },
   "outputs": [
    {
     "name": "stdout",
     "text": "/kaggle/input/tweets-dataset-for-cyberattack-detection/tweets_final.csv\n",
     "output_type": "stream"
    }
   ],
   "execution_count": 1
  },
  {
   "cell_type": "code",
   "source": [
    "nltk.download('stopwords')\n",
    "nltk.download('wordnet')\n",
    "#!unzip -o /usr/share/nltk_data/corpora/wordnet.zip -d /usr/share/nltk_data/corpora/\n",
    "#!unzip -o /usr/share/nltk_data/corpora/stopwords.zip -d /usr/share/nltk_data/corpora/\n"
   ],
   "metadata": {
    "trusted": true,
    "execution": {
     "iopub.status.busy": "2024-12-04T23:04:17.875007Z",
     "iopub.execute_input": "2024-12-04T23:04:17.875466Z",
     "iopub.status.idle": "2024-12-04T23:04:19.326698Z",
     "shell.execute_reply.started": "2024-12-04T23:04:17.875439Z",
     "shell.execute_reply": "2024-12-04T23:04:19.325348Z"
    }
   },
   "outputs": [
    {
     "name": "stdout",
     "text": "[nltk_data] Downloading package stopwords to /usr/share/nltk_data...\n[nltk_data]   Package stopwords is already up-to-date!\n[nltk_data] Downloading package wordnet to /usr/share/nltk_data...\n[nltk_data]   Package wordnet is already up-to-date!\n",
     "output_type": "stream"
    },
    {
     "name": "stderr",
     "text": "/opt/conda/lib/python3.10/pty.py:89: RuntimeWarning: os.fork() was called. os.fork() is incompatible with multithreaded code, and JAX is multithreaded, so this will likely lead to a deadlock.\n  pid, fd = os.forkpty()\n",
     "output_type": "stream"
    },
    {
     "name": "stdout",
     "text": "Archive:  /usr/share/nltk_data/corpora/wordnet.zip\n   creating: /usr/share/nltk_data/corpora/wordnet/\n  inflating: /usr/share/nltk_data/corpora/wordnet/lexnames  \n  inflating: /usr/share/nltk_data/corpora/wordnet/data.verb  \n  inflating: /usr/share/nltk_data/corpora/wordnet/index.adv  \n  inflating: /usr/share/nltk_data/corpora/wordnet/adv.exc  \n  inflating: /usr/share/nltk_data/corpora/wordnet/index.verb  \n  inflating: /usr/share/nltk_data/corpora/wordnet/cntlist.rev  \n  inflating: /usr/share/nltk_data/corpora/wordnet/data.adj  \n  inflating: /usr/share/nltk_data/corpora/wordnet/index.adj  \n  inflating: /usr/share/nltk_data/corpora/wordnet/LICENSE  \n  inflating: /usr/share/nltk_data/corpora/wordnet/citation.bib  \n  inflating: /usr/share/nltk_data/corpora/wordnet/noun.exc  \n  inflating: /usr/share/nltk_data/corpora/wordnet/verb.exc  \n  inflating: /usr/share/nltk_data/corpora/wordnet/README  \n  inflating: /usr/share/nltk_data/corpora/wordnet/index.sense  \n  inflating: /usr/share/nltk_data/corpora/wordnet/data.noun  \n  inflating: /usr/share/nltk_data/corpora/wordnet/data.adv  \n  inflating: /usr/share/nltk_data/corpora/wordnet/index.noun  \n  inflating: /usr/share/nltk_data/corpora/wordnet/adj.exc  \n",
     "output_type": "stream"
    }
   ],
   "execution_count": 2
  },
  {
   "cell_type": "code",
   "source": "# Load data from CSV file\nDATA = pd.read_csv('/kaggle/input/tweets-dataset-for-cyberattack-detection/tweets_final.csv')\n\n# Data Preprocessing\n# Data Cleaning\nDATA['text'] = DATA['text'].apply(clean_text)\n\n# Lemmatization\nDATA['text'] = DATA['text'].apply(lemmatize_text)\n\n# POS Tagging\nDATA['pos_tags'] = DATA['text'].apply(pos_tagging)\n\n# Tokenization\nTOKENIZER = Tokenizer()\nTOKENIZER.fit_on_texts(DATA['text'])\nX_SEQ = TOKENIZER.texts_to_sequences(DATA['text'])\nX_PAD = pad_sequences(X_SEQ, maxlen=100)\n\n# Stopwords removal\nDATA['text'] = DATA['text'].apply(remove_stopwords)\n\n# Apply the function to extract structural features and create a new column\nDATA['structural_features'] = DATA['text'].apply(extract_structural_features)\n\n# Define the function to replace specific text components with predefined tokens\nDATA['text'] = DATA['text'].apply(replace_text_components)\n\n# Apply the function to the 'destination_url' column and create new columns for each feature\nURL_FEATURES = DATA.apply(\n    lambda row: pd.Series(extract_url_features(row['destination_url'], row['urls'])),\n    axis=1\n)\n# Combine all details into a single DataFrame\nURL_FEATURES.columns = [\n    'url_length',\n    'has_security_protocol',\n    'is_shortened_url',\n    'strings_divided_by_periods',\n    'strings_divided_by_hyphens',\n    'strings_divided_by_slashes',\n    'num_words',\n    'num_ips',\n    'num_digits',\n    'num_hyphens',\n    'num_periods',\n    'num_slashes',\n    'num_uppercase',\n    'num_lowercase',\n    'num_ampersand_symbols',\n    'num_equal_symbols',\n    'num_question_marks',\n    'num_wave_symbols',\n    'num_plus_signs',\n    'num_colon_symbols',\n    'num_other_characters',\n    'has_extension',\n    'domain_suffix',\n    'registrant'\n]\nDATA = pd.concat([DATA, URL_FEATURES], axis=1)\nURL_FEATURES = DATA.apply(\n    lambda row: pd.Series(extract_url_features(row['destination_url'], row['urls'])),\n    axis=1\n)\nURL_FEATURES_DF = pd.DataFrame(\n    URL_FEATURES.values,\n    columns=['feature_{}'.format(i) for i in range(URL_FEATURES.shape[1])]\n)\n\n# Replace NaN values with an empty string in the 'destination_url' column\nDATA['destination_url'] = DATA['destination_url'].fillna('')\nDATA['resolved_urls'] = DATA['destination_url'].apply(replace_url_components)\n\nDATA.head()\n",
   "metadata": {
    "trusted": true,
    "execution": {
     "iopub.status.busy": "2024-12-04T23:04:31.628455Z",
     "iopub.execute_input": "2024-12-04T23:04:31.628785Z",
     "iopub.status.idle": "2024-12-04T23:05:17.634409Z",
     "shell.execute_reply.started": "2024-12-04T23:04:31.628753Z",
     "shell.execute_reply": "2024-12-04T23:05:17.633508Z"
    }
   },
   "outputs": [
    {
     "name": "stderr",
     "text": "/tmp/ipykernel_23/3622854706.py:72: FutureWarning: A value is trying to be set on a copy of a DataFrame or Series through chained assignment using an inplace method.\nThe behavior will change in pandas 3.0. This inplace method will never work because the intermediate object on which we are setting values always behaves as a copy.\n\nFor example, when doing 'df[col].method(value, inplace=True)', try using 'df.method({col: value}, inplace=True)' or df[col] = df[col].method(value) instead, to perform the operation inplace on the original object.\n\n\n  DATA['destination_url'].fillna('', inplace=True)\n",
     "output_type": "stream"
    },
    {
     "execution_count": 12,
     "output_type": "execute_result",
     "data": {
      "text/plain": "                           _id                       date  \\\n0  b'5b88752abb325e65390af240'  2018-08-30 22:52:25+00:00   \n1  b'5b8875d5bb325e65a22cf81b'  2018-08-30 22:55:15+00:00   \n2  b'5b88768dbb325e65fa7e78e3'  2018-08-30 22:58:20+00:00   \n3  b'5b8876f9bb325e65fa7e78e4'  2018-08-30 23:00:08+00:00   \n4  b'5b8876f9bb325e65fa7e78e5'  2018-08-30 23:00:09+00:00   \n\n                    id  relevant  \\\n0  1035299228984041472     False   \n1  1035299941932036096     False   \n2  1035300715470757889     False   \n3  1035301167952211969      True   \n4  1035301173178249217      True   \n\n                                                text  \\\n0       Best way build empathy honesty vulnerability   \n1  Cryptocurrency Scams Replacing Ransomware Atta...   \n2  Cryptocurrency Scams Replacing Ransomware Atta...   \n3  Protect customer access Prestashop Anti DDoS A...   \n4  Data leak Huazhu Hotels may affect 130 million...   \n\n                                               tweet           type  \\\n0  {'created_at': 'Thu Aug 30 22:52:25 +0000 2018...  vulnerability   \n1  {'created_at': 'Thu Aug 30 22:55:15 +0000 2018...     ransomware   \n2  {'created_at': 'Thu Aug 30 22:58:20 +0000 2018...     ransomware   \n3  {'created_at': 'Thu Aug 30 23:00:08 +0000 2018...           ddos   \n4  {'created_at': 'Thu Aug 30 23:00:09 +0000 2018...           leak   \n\n                                              watson  annotation  \\\n0  {'usage': {'text_units': 1, 'text_characters':...  irrelevant   \n1  {'usage': {'text_units': 1, 'text_characters':...    business   \n2  {'usage': {'text_units': 1, 'text_characters':...    business   \n3  {'usage': {'text_units': 1, 'text_characters':...      threat   \n4  {'usage': {'text_units': 1, 'text_characters':...      threat   \n\n                                                urls  ... num_equal_symbols  \\\n0                                                 []  ...                NA   \n1                         ['https://ubm.io/2MCQwfg']  ...                 0   \n2  ['http://quantus.biz/security/2018/08/30/crypt...  ...                 0   \n3  ['http://addons.prestashop.com/en/23513-anti-d...  ...                 0   \n4  ['http://www.hotelmanagement.net/tech/data-lea...  ...                 0   \n\n  num_question_marks num_wave_symbols num_plus_signs num_colon_symbols  \\\n0                 NA               NA             NA                NA   \n1                  0                0              0                 1   \n2                  0                0              0                 1   \n3                  0                0              0                 1   \n4                  0                0              0                 1   \n\n  num_other_characters has_extension  \\\n0                   NA            NA   \n1                    0             Y   \n2                    0             Y   \n3                    0             Y   \n4                    0             Y   \n\n                                       domain_suffix       registrant  \\\n0                                                 NA               NA   \n1                              com/endpoint-security      darkreading   \n2                                             group/     quantusintel   \n3                                               html       prestashop   \n4  net/tech/data-leak-from-huazhu-hotels-may-affe...  hotelmanagement   \n\n                                       resolved_urls  \n0                                                     \n1      https://www.darkreading.com/endpoint-security  \n2                     http://www.quantusintel.group/  \n3  https://addons.prestashop.com/en/23513-anti-dd...  \n4  http://www.hotelmanagement.net/tech/data-leak-...  \n\n[5 rows x 39 columns]",
      "text/html": "<div>\n<style scoped>\n    .dataframe tbody tr th:only-of-type {\n        vertical-align: middle;\n    }\n\n    .dataframe tbody tr th {\n        vertical-align: top;\n    }\n\n    .dataframe thead th {\n        text-align: right;\n    }\n</style>\n<table border=\"1\" class=\"dataframe\">\n  <thead>\n    <tr style=\"text-align: right;\">\n      <th></th>\n      <th>_id</th>\n      <th>date</th>\n      <th>id</th>\n      <th>relevant</th>\n      <th>text</th>\n      <th>tweet</th>\n      <th>type</th>\n      <th>watson</th>\n      <th>annotation</th>\n      <th>urls</th>\n      <th>...</th>\n      <th>num_equal_symbols</th>\n      <th>num_question_marks</th>\n      <th>num_wave_symbols</th>\n      <th>num_plus_signs</th>\n      <th>num_colon_symbols</th>\n      <th>num_other_characters</th>\n      <th>has_extension</th>\n      <th>domain_suffix</th>\n      <th>registrant</th>\n      <th>resolved_urls</th>\n    </tr>\n  </thead>\n  <tbody>\n    <tr>\n      <th>0</th>\n      <td>b'5b88752abb325e65390af240'</td>\n      <td>2018-08-30 22:52:25+00:00</td>\n      <td>1035299228984041472</td>\n      <td>False</td>\n      <td>Best way build empathy honesty vulnerability</td>\n      <td>{'created_at': 'Thu Aug 30 22:52:25 +0000 2018...</td>\n      <td>vulnerability</td>\n      <td>{'usage': {'text_units': 1, 'text_characters':...</td>\n      <td>irrelevant</td>\n      <td>[]</td>\n      <td>...</td>\n      <td>NA</td>\n      <td>NA</td>\n      <td>NA</td>\n      <td>NA</td>\n      <td>NA</td>\n      <td>NA</td>\n      <td>NA</td>\n      <td>NA</td>\n      <td>NA</td>\n      <td></td>\n    </tr>\n    <tr>\n      <th>1</th>\n      <td>b'5b8875d5bb325e65a22cf81b'</td>\n      <td>2018-08-30 22:55:15+00:00</td>\n      <td>1035299941932036096</td>\n      <td>False</td>\n      <td>Cryptocurrency Scams Replacing Ransomware Atta...</td>\n      <td>{'created_at': 'Thu Aug 30 22:55:15 +0000 2018...</td>\n      <td>ransomware</td>\n      <td>{'usage': {'text_units': 1, 'text_characters':...</td>\n      <td>business</td>\n      <td>['https://ubm.io/2MCQwfg']</td>\n      <td>...</td>\n      <td>0</td>\n      <td>0</td>\n      <td>0</td>\n      <td>0</td>\n      <td>1</td>\n      <td>0</td>\n      <td>Y</td>\n      <td>com/endpoint-security</td>\n      <td>darkreading</td>\n      <td>https://www.darkreading.com/endpoint-security</td>\n    </tr>\n    <tr>\n      <th>2</th>\n      <td>b'5b88768dbb325e65fa7e78e3'</td>\n      <td>2018-08-30 22:58:20+00:00</td>\n      <td>1035300715470757889</td>\n      <td>False</td>\n      <td>Cryptocurrency Scams Replacing Ransomware Atta...</td>\n      <td>{'created_at': 'Thu Aug 30 22:58:20 +0000 2018...</td>\n      <td>ransomware</td>\n      <td>{'usage': {'text_units': 1, 'text_characters':...</td>\n      <td>business</td>\n      <td>['http://quantus.biz/security/2018/08/30/crypt...</td>\n      <td>...</td>\n      <td>0</td>\n      <td>0</td>\n      <td>0</td>\n      <td>0</td>\n      <td>1</td>\n      <td>0</td>\n      <td>Y</td>\n      <td>group/</td>\n      <td>quantusintel</td>\n      <td>http://www.quantusintel.group/</td>\n    </tr>\n    <tr>\n      <th>3</th>\n      <td>b'5b8876f9bb325e65fa7e78e4'</td>\n      <td>2018-08-30 23:00:08+00:00</td>\n      <td>1035301167952211969</td>\n      <td>True</td>\n      <td>Protect customer access Prestashop Anti DDoS A...</td>\n      <td>{'created_at': 'Thu Aug 30 23:00:08 +0000 2018...</td>\n      <td>ddos</td>\n      <td>{'usage': {'text_units': 1, 'text_characters':...</td>\n      <td>threat</td>\n      <td>['http://addons.prestashop.com/en/23513-anti-d...</td>\n      <td>...</td>\n      <td>0</td>\n      <td>0</td>\n      <td>0</td>\n      <td>0</td>\n      <td>1</td>\n      <td>0</td>\n      <td>Y</td>\n      <td>html</td>\n      <td>prestashop</td>\n      <td>https://addons.prestashop.com/en/23513-anti-dd...</td>\n    </tr>\n    <tr>\n      <th>4</th>\n      <td>b'5b8876f9bb325e65fa7e78e5'</td>\n      <td>2018-08-30 23:00:09+00:00</td>\n      <td>1035301173178249217</td>\n      <td>True</td>\n      <td>Data leak Huazhu Hotels may affect 130 million...</td>\n      <td>{'created_at': 'Thu Aug 30 23:00:09 +0000 2018...</td>\n      <td>leak</td>\n      <td>{'usage': {'text_units': 1, 'text_characters':...</td>\n      <td>threat</td>\n      <td>['http://www.hotelmanagement.net/tech/data-lea...</td>\n      <td>...</td>\n      <td>0</td>\n      <td>0</td>\n      <td>0</td>\n      <td>0</td>\n      <td>1</td>\n      <td>0</td>\n      <td>Y</td>\n      <td>net/tech/data-leak-from-huazhu-hotels-may-affe...</td>\n      <td>hotelmanagement</td>\n      <td>http://www.hotelmanagement.net/tech/data-leak-...</td>\n    </tr>\n  </tbody>\n</table>\n<p>5 rows × 39 columns</p>\n</div>"
     },
     "metadata": {}
    }
   ],
   "execution_count": 12
  },
  {
   "cell_type": "code",
   "source": [
    "# Vectorization\n",
    "# Hashing Vector for content\n",
    "HASHING_VECTORIZER = HashingVectorizer(n_features=100)\n",
    "X_HASH = HASHING_VECTORIZER.fit_transform(DATA['text'])\n",
    "\n",
    "# Text Structure Vector\n",
    "X_TEXT_STRUCTURE = np.array(DATA['structural_features'].tolist())\n",
    "\n",
    "URL_FEATURES_LISTS = URL_FEATURES_DF.astype(str).apply(lambda row: row.tolist(), axis=1)\n",
    "\n",
    "# Hash the combined features\n",
    "HASHER = FeatureHasher(n_features=1000, input_type='string')\n",
    "X_URL_STRUCTURE_HASHED = HASHER.transform(URL_FEATURES_LISTS)\n",
    "\n",
    "# Convert hashed features to array\n",
    "X_URL_STRUCTURE_HASHED = X_URL_STRUCTURE_HASHED.toarray()\n",
    "\n",
    "# Convert labels to numerical values\n",
    "LABEL_DICT = {False: 0, True: 1}\n",
    "Y = np.array([LABEL_DICT[category] for category in DATA['relevant']])\n",
    "\n",
    "# Split the dataset into training and testing sets\n",
    "X_TRAIN, X_TEST, Y_TRAIN, Y_TEST = train_test_split(\n",
    "    np.array(X_PAD), Y,\n",
    "    test_size=.2,\n",
    "    random_state=42\n",
    ")\n",
    "\n",
    "X_TRAIN_HASH, X_TEST_HASH = train_test_split(\n",
    "    X_HASH,\n",
    "    test_size=.2,\n",
    "    random_state=42\n",
    ")\n",
    "\n",
    "X_TRAIN_TEXT_STRUCTURE, X_TEST_TEXT_STRUCTURE = train_test_split(\n",
    "    X_TEXT_STRUCTURE,\n",
    "    test_size=.2,\n",
    "    random_state=42\n",
    ")\n",
    "\n",
    "X_TRAIN_URL_STRUCTURE, X_TEST_URL_STRUCTURE = train_test_split(\n",
    "    X_URL_STRUCTURE_HASHED,\n",
    "    test_size=.2,\n",
    "    random_state=42\n",
    ")\n"
   ],
   "metadata": {
    "trusted": true,
    "execution": {
     "iopub.status.busy": "2024-12-04T23:05:17.635908Z",
     "iopub.execute_input": "2024-12-04T23:05:17.636173Z",
     "iopub.status.idle": "2024-12-04T23:05:18.450136Z",
     "shell.execute_reply.started": "2024-12-04T23:05:17.636147Z",
     "shell.execute_reply": "2024-12-04T23:05:18.449115Z"
    }
   },
   "outputs": [],
   "execution_count": 13
  },
  {
   "metadata": {},
   "cell_type": "code",
   "outputs": [],
   "execution_count": null,
   "source": [
    "def build_cnn(input_dim, output_dim):\n",
    "    input_content = Input(shape=(100,), name='content_input')\n",
    "    input_text_structure = Input(shape=(16,), name='text_structure_input')\n",
    "    input_url_structure = Input(shape=(1000,), name='url_structure_input')\n",
    "\n",
    "    # Additional input layers for other features\n",
    "    embedding = Embedding(\n",
    "        input_dim=input_dim,\n",
    "        output_dim=100,\n",
    "        input_length=100\n",
    "    )(input_content)\n",
    "    conv_layer = Conv1D(64, 5, activation='relu')(embedding)\n",
    "    conv_layer = BatchNormalization()(conv_layer)\n",
    "    dropout_layer = Dropout(rate=.7)(conv_layer)\n",
    "    pooling_layer = GlobalMaxPooling1D()(dropout_layer)\n",
    "    flattened_layer = Flatten()(pooling_layer)\n",
    "\n",
    "    # Concatenate all input layers\n",
    "    concatenated_inputs = Concatenate()([\n",
    "        flattened_layer,\n",
    "        input_text_structure,\n",
    "        input_url_structure\n",
    "    ])\n",
    "\n",
    "    # Fully connected layers\n",
    "    dense1 = Dense(64, activation='relu')(concatenated_inputs)\n",
    "    dropout_dense = Dropout(rate=.5)(dense1)\n",
    "    output = Dense(output_dim, activation='softmax')(dropout_dense)\n",
    "\n",
    "    # Define the model\n",
    "    model = Model(\n",
    "        inputs=[input_content, input_text_structure, input_url_structure],\n",
    "        outputs=output\n",
    "    )\n",
    "    model.compile(\n",
    "        loss='sparse_categorical_crossentropy',\n",
    "        optimizer='adam',\n",
    "        metrics=['accuracy']\n",
    "    )\n",
    "    return model"
   ]
  },
  {
   "cell_type": "code",
   "source": [
    "EARLY_STOPPING = EarlyStopping(\n",
    "    monitor='val_loss',\n",
    "    patience=10,\n",
    "    restore_best_weights=True\n",
    ")\n",
    "\n",
    "LR_SCHEDULER = ReduceLROnPlateau(\n",
    "    monitor='val_loss',\n",
    "    factor=.5,\n",
    "    patience=5,\n",
    "    min_lr=1e-6\n",
    ")\n",
    "\n",
    "# Number of folds for cross-validation\n",
    "K = 5\n",
    "SKF = StratifiedKFold(n_splits=K, shuffle=True, random_state=42)\n",
    "\n",
    "# Variables to track performance\n",
    "VAL_ACCURACIES = []\n",
    "\n",
    "# Perform k-fold cross-validation\n",
    "for fold, (train_idx, val_idx) in enumerate(SKF.split(X_TRAIN, Y_TRAIN)):\n",
    "    X_TRAIN_FOLD = X_TRAIN[train_idx]\n",
    "    X_TRAIN_TEXT_STRUCTURE_FOLD = X_TRAIN_TEXT_STRUCTURE[train_idx]\n",
    "    X_TRAIN_URL_STRUCTURE_FOLD = X_TRAIN_URL_STRUCTURE[train_idx]\n",
    "    Y_TRAIN_FOLD = Y_TRAIN[train_idx]\n",
    "\n",
    "    X_VAL_FOLD = X_TRAIN[val_idx]\n",
    "    X_VAL_TEXT_STRUCTURE_FOLD = X_TRAIN_TEXT_STRUCTURE[val_idx]\n",
    "    X_VAL_URL_STRUCTURE_FOLD = X_TRAIN_URL_STRUCTURE[val_idx]\n",
    "    Y_VAL_FOLD = Y_TRAIN[val_idx]\n",
    "\n",
    "    # Build the CNN model for each fold\n",
    "    MODEL = build_cnn(input_dim=len(TOKENIZER.word_index) + 1, output_dim=2)\n",
    "\n",
    "    # Train the model for this fold\n",
    "    MODEL.fit(\n",
    "        x=[X_TRAIN_FOLD, X_TRAIN_TEXT_STRUCTURE_FOLD, X_TRAIN_URL_STRUCTURE_FOLD],\n",
    "        y=Y_TRAIN_FOLD,\n",
    "        batch_size=32,\n",
    "        epochs=1000,\n",
    "        validation_data=(\n",
    "            [X_VAL_FOLD, X_VAL_TEXT_STRUCTURE_FOLD, X_VAL_URL_STRUCTURE_FOLD],\n",
    "            Y_VAL_FOLD\n",
    "        ),\n",
    "        callbacks=[EARLY_STOPPING, LR_SCHEDULER]\n",
    "    )\n",
    "\n",
    "    # Evaluate the model on validation set and store accuracy\n",
    "    VAL_ACCURACY = MODEL.evaluate(\n",
    "        [X_VAL_FOLD, X_VAL_TEXT_STRUCTURE_FOLD, X_VAL_URL_STRUCTURE_FOLD],\n",
    "        Y_VAL_FOLD,\n",
    "        verbose=0\n",
    "    )[1]\n",
    "    print(f'Validation Accuracy for Fold {fold + 1}:\\t{VAL_ACCURACY * 100:.2f}%')\n",
    "\n",
    "    VAL_ACCURACIES.append(VAL_ACCURACY)\n",
    "\n",
    "# Calculate the mean and standard deviation of the validation accuracies\n",
    "MEAN_VAL_ACCURACY = np.mean(VAL_ACCURACIES)\n",
    "STD_VAL_ACCURACY = np.std(VAL_ACCURACIES)\n",
    "\n",
    "print(f\"\\nMean Validation Accuracy: {MEAN_VAL_ACCURACY * 100:.2f}%\")\n",
    "print(f\"Standard Deviation of Validation Accuracy: {STD_VAL_ACCURACY * 100:.2f}%\")\n"
   ],
   "metadata": {
    "trusted": true,
    "execution": {
     "iopub.status.busy": "2024-12-04T23:05:18.451432Z",
     "iopub.execute_input": "2024-12-04T23:05:18.451737Z",
     "iopub.status.idle": "2024-12-04T23:07:19.718577Z",
     "shell.execute_reply.started": "2024-12-04T23:05:18.451708Z",
     "shell.execute_reply": "2024-12-04T23:07:19.717615Z"
    }
   },
   "outputs": [
    {
     "name": "stderr",
     "text": "/opt/conda/lib/python3.10/site-packages/keras/src/layers/core/embedding.py:90: UserWarning: Argument `input_length` is deprecated. Just remove it.\n  warnings.warn(\n",
     "output_type": "stream"
    },
    {
     "name": "stdout",
     "text": "Epoch 1/1000\n",
     "output_type": "stream"
    },
    {
     "name": "stderr",
     "text": "WARNING: All log messages before absl::InitializeLog() is called are written to STDERR\nI0000 00:00:1733353521.140181      95 service.cc:145] XLA service 0x7e2c54005430 initialized for platform CUDA (this does not guarantee that XLA will be used). Devices:\nI0000 00:00:1733353521.140230      95 service.cc:153]   StreamExecutor device (0): Tesla T4, Compute Capability 7.5\nI0000 00:00:1733353521.140234      95 service.cc:153]   StreamExecutor device (1): Tesla T4, Compute Capability 7.5\n",
     "output_type": "stream"
    },
    {
     "name": "stdout",
     "text": "\u001B[1m 54/428\u001B[0m \u001B[32m━━\u001B[0m\u001B[37m━━━━━━━━━━━━━━━━━━\u001B[0m \u001B[1m1s\u001B[0m 3ms/step - accuracy: 0.4966 - loss: 2.4574",
     "output_type": "stream"
    },
    {
     "name": "stderr",
     "text": "I0000 00:00:1733353525.547799      95 device_compiler.h:188] Compiled cluster using XLA!  This line is logged at most once for the lifetime of the process.\n",
     "output_type": "stream"
    },
    {
     "name": "stdout",
     "text": "\u001B[1m428/428\u001B[0m \u001B[32m━━━━━━━━━━━━━━━━━━━━\u001B[0m\u001B[37m\u001B[0m \u001B[1m11s\u001B[0m 12ms/step - accuracy: 0.6321 - loss: 1.0814 - val_accuracy: 0.6455 - val_loss: 0.6159 - learning_rate: 0.0010\nEpoch 2/1000\n\u001B[1m428/428\u001B[0m \u001B[32m━━━━━━━━━━━━━━━━━━━━\u001B[0m\u001B[37m\u001B[0m \u001B[1m1s\u001B[0m 3ms/step - accuracy: 0.8304 - loss: 0.3850 - val_accuracy: 0.7874 - val_loss: 0.4549 - learning_rate: 0.0010\nEpoch 3/1000\n\u001B[1m428/428\u001B[0m \u001B[32m━━━━━━━━━━━━━━━━━━━━\u001B[0m\u001B[37m\u001B[0m \u001B[1m1s\u001B[0m 3ms/step - accuracy: 0.8926 - loss: 0.2696 - val_accuracy: 0.7631 - val_loss: 0.4867 - learning_rate: 0.0010\nEpoch 4/1000\n\u001B[1m428/428\u001B[0m \u001B[32m━━━━━━━━━━━━━━━━━━━━\u001B[0m\u001B[37m\u001B[0m \u001B[1m1s\u001B[0m 3ms/step - accuracy: 0.9331 - loss: 0.1810 - val_accuracy: 0.7605 - val_loss: 0.5303 - learning_rate: 0.0010\nEpoch 5/1000\n\u001B[1m428/428\u001B[0m \u001B[32m━━━━━━━━━━━━━━━━━━━━\u001B[0m\u001B[37m\u001B[0m \u001B[1m1s\u001B[0m 3ms/step - accuracy: 0.9664 - loss: 0.0976 - val_accuracy: 0.7558 - val_loss: 0.5426 - learning_rate: 0.0010\nEpoch 6/1000\n\u001B[1m428/428\u001B[0m \u001B[32m━━━━━━━━━━━━━━━━━━━━\u001B[0m\u001B[37m\u001B[0m \u001B[1m1s\u001B[0m 3ms/step - accuracy: 0.9795 - loss: 0.0608 - val_accuracy: 0.7564 - val_loss: 0.6990 - learning_rate: 0.0010\nEpoch 7/1000\n\u001B[1m428/428\u001B[0m \u001B[32m━━━━━━━━━━━━━━━━━━━━\u001B[0m\u001B[37m\u001B[0m \u001B[1m1s\u001B[0m 3ms/step - accuracy: 0.9883 - loss: 0.0350 - val_accuracy: 0.7531 - val_loss: 0.9023 - learning_rate: 0.0010\nEpoch 8/1000\n\u001B[1m428/428\u001B[0m \u001B[32m━━━━━━━━━━━━━━━━━━━━\u001B[0m\u001B[37m\u001B[0m \u001B[1m1s\u001B[0m 3ms/step - accuracy: 0.9931 - loss: 0.0221 - val_accuracy: 0.7587 - val_loss: 0.9435 - learning_rate: 5.0000e-04\nEpoch 9/1000\n\u001B[1m428/428\u001B[0m \u001B[32m━━━━━━━━━━━━━━━━━━━━\u001B[0m\u001B[37m\u001B[0m \u001B[1m1s\u001B[0m 3ms/step - accuracy: 0.9952 - loss: 0.0130 - val_accuracy: 0.7531 - val_loss: 1.0675 - learning_rate: 5.0000e-04\nEpoch 10/1000\n\u001B[1m428/428\u001B[0m \u001B[32m━━━━━━━━━━━━━━━━━━━━\u001B[0m\u001B[37m\u001B[0m \u001B[1m1s\u001B[0m 3ms/step - accuracy: 0.9967 - loss: 0.0109 - val_accuracy: 0.7610 - val_loss: 1.0638 - learning_rate: 5.0000e-04\nEpoch 11/1000\n\u001B[1m428/428\u001B[0m \u001B[32m━━━━━━━━━━━━━━━━━━━━\u001B[0m\u001B[37m\u001B[0m \u001B[1m1s\u001B[0m 3ms/step - accuracy: 0.9986 - loss: 0.0062 - val_accuracy: 0.7549 - val_loss: 1.1563 - learning_rate: 5.0000e-04\nEpoch 12/1000\n\u001B[1m428/428\u001B[0m \u001B[32m━━━━━━━━━━━━━━━━━━━━\u001B[0m\u001B[37m\u001B[0m \u001B[1m1s\u001B[0m 3ms/step - accuracy: 0.9975 - loss: 0.0093 - val_accuracy: 0.7599 - val_loss: 1.4324 - learning_rate: 5.0000e-04\nValidation Accuracy for Fold 1:\t78.74%\nEpoch 1/1000\n\u001B[1m428/428\u001B[0m \u001B[32m━━━━━━━━━━━━━━━━━━━━\u001B[0m\u001B[37m\u001B[0m \u001B[1m9s\u001B[0m 11ms/step - accuracy: 0.6193 - loss: 0.9640 - val_accuracy: 0.7303 - val_loss: 0.5393 - learning_rate: 0.0010\nEpoch 2/1000\n\u001B[1m428/428\u001B[0m \u001B[32m━━━━━━━━━━━━━━━━━━━━\u001B[0m\u001B[37m\u001B[0m \u001B[1m1s\u001B[0m 3ms/step - accuracy: 0.8202 - loss: 0.3978 - val_accuracy: 0.7824 - val_loss: 0.4477 - learning_rate: 0.0010\nEpoch 3/1000\n\u001B[1m428/428\u001B[0m \u001B[32m━━━━━━━━━━━━━━━━━━━━\u001B[0m\u001B[37m\u001B[0m \u001B[1m1s\u001B[0m 3ms/step - accuracy: 0.8893 - loss: 0.2653 - val_accuracy: 0.7646 - val_loss: 0.4802 - learning_rate: 0.0010\nEpoch 4/1000\n\u001B[1m428/428\u001B[0m \u001B[32m━━━━━━━━━━━━━━━━━━━━\u001B[0m\u001B[37m\u001B[0m \u001B[1m1s\u001B[0m 3ms/step - accuracy: 0.9248 - loss: 0.1882 - val_accuracy: 0.7376 - val_loss: 0.5751 - learning_rate: 0.0010\nEpoch 5/1000\n\u001B[1m428/428\u001B[0m \u001B[32m━━━━━━━━━━━━━━━━━━━━\u001B[0m\u001B[37m\u001B[0m \u001B[1m1s\u001B[0m 3ms/step - accuracy: 0.9555 - loss: 0.1276 - val_accuracy: 0.7531 - val_loss: 0.5736 - learning_rate: 0.0010\nEpoch 6/1000\n\u001B[1m428/428\u001B[0m \u001B[32m━━━━━━━━━━━━━━━━━━━━\u001B[0m\u001B[37m\u001B[0m \u001B[1m1s\u001B[0m 3ms/step - accuracy: 0.9772 - loss: 0.0716 - val_accuracy: 0.7458 - val_loss: 0.7574 - learning_rate: 0.0010\nEpoch 7/1000\n\u001B[1m428/428\u001B[0m \u001B[32m━━━━━━━━━━━━━━━━━━━━\u001B[0m\u001B[37m\u001B[0m \u001B[1m1s\u001B[0m 3ms/step - accuracy: 0.9848 - loss: 0.0485 - val_accuracy: 0.7496 - val_loss: 0.8832 - learning_rate: 0.0010\nEpoch 8/1000\n\u001B[1m428/428\u001B[0m \u001B[32m━━━━━━━━━━━━━━━━━━━━\u001B[0m\u001B[37m\u001B[0m \u001B[1m1s\u001B[0m 3ms/step - accuracy: 0.9921 - loss: 0.0288 - val_accuracy: 0.7409 - val_loss: 0.9996 - learning_rate: 5.0000e-04\nEpoch 9/1000\n\u001B[1m428/428\u001B[0m \u001B[32m━━━━━━━━━━━━━━━━━━━━\u001B[0m\u001B[37m\u001B[0m \u001B[1m1s\u001B[0m 3ms/step - accuracy: 0.9957 - loss: 0.0125 - val_accuracy: 0.7382 - val_loss: 1.2598 - learning_rate: 5.0000e-04\nEpoch 10/1000\n\u001B[1m428/428\u001B[0m \u001B[32m━━━━━━━━━━━━━━━━━━━━\u001B[0m\u001B[37m\u001B[0m \u001B[1m1s\u001B[0m 3ms/step - accuracy: 0.9954 - loss: 0.0133 - val_accuracy: 0.7295 - val_loss: 1.3843 - learning_rate: 5.0000e-04\nEpoch 11/1000\n\u001B[1m428/428\u001B[0m \u001B[32m━━━━━━━━━━━━━━━━━━━━\u001B[0m\u001B[37m\u001B[0m \u001B[1m1s\u001B[0m 3ms/step - accuracy: 0.9967 - loss: 0.0103 - val_accuracy: 0.7391 - val_loss: 1.3688 - learning_rate: 5.0000e-04\nEpoch 12/1000\n\u001B[1m428/428\u001B[0m \u001B[32m━━━━━━━━━━━━━━━━━━━━\u001B[0m\u001B[37m\u001B[0m \u001B[1m1s\u001B[0m 3ms/step - accuracy: 0.9985 - loss: 0.0060 - val_accuracy: 0.7385 - val_loss: 1.4461 - learning_rate: 5.0000e-04\nValidation Accuracy for Fold 2:\t78.24%\nEpoch 1/1000\n\u001B[1m428/428\u001B[0m \u001B[32m━━━━━━━━━━━━━━━━━━━━\u001B[0m\u001B[37m\u001B[0m \u001B[1m8s\u001B[0m 11ms/step - accuracy: 0.6266 - loss: 1.1788 - val_accuracy: 0.6990 - val_loss: 0.5841 - learning_rate: 0.0010\nEpoch 2/1000\n\u001B[1m428/428\u001B[0m \u001B[32m━━━━━━━━━━━━━━━━━━━━\u001B[0m\u001B[37m\u001B[0m \u001B[1m2s\u001B[0m 4ms/step - accuracy: 0.8321 - loss: 0.3864 - val_accuracy: 0.7973 - val_loss: 0.4284 - learning_rate: 0.0010\nEpoch 3/1000\n\u001B[1m428/428\u001B[0m \u001B[32m━━━━━━━━━━━━━━━━━━━━\u001B[0m\u001B[37m\u001B[0m \u001B[1m1s\u001B[0m 3ms/step - accuracy: 0.8919 - loss: 0.2624 - val_accuracy: 0.7932 - val_loss: 0.4323 - learning_rate: 0.0010\nEpoch 4/1000\n\u001B[1m428/428\u001B[0m \u001B[32m━━━━━━━━━━━━━━━━━━━━\u001B[0m\u001B[37m\u001B[0m \u001B[1m1s\u001B[0m 3ms/step - accuracy: 0.9299 - loss: 0.1793 - val_accuracy: 0.7882 - val_loss: 0.4879 - learning_rate: 0.0010\nEpoch 5/1000\n\u001B[1m428/428\u001B[0m \u001B[32m━━━━━━━━━━━━━━━━━━━━\u001B[0m\u001B[37m\u001B[0m \u001B[1m1s\u001B[0m 3ms/step - accuracy: 0.9554 - loss: 0.1168 - val_accuracy: 0.7736 - val_loss: 0.5778 - learning_rate: 0.0010\nEpoch 6/1000\n\u001B[1m428/428\u001B[0m \u001B[32m━━━━━━━━━━━━━━━━━━━━\u001B[0m\u001B[37m\u001B[0m \u001B[1m1s\u001B[0m 3ms/step - accuracy: 0.9737 - loss: 0.0699 - val_accuracy: 0.7795 - val_loss: 0.7169 - learning_rate: 0.0010\nEpoch 7/1000\n\u001B[1m428/428\u001B[0m \u001B[32m━━━━━━━━━━━━━━━━━━━━\u001B[0m\u001B[37m\u001B[0m \u001B[1m1s\u001B[0m 3ms/step - accuracy: 0.9887 - loss: 0.0413 - val_accuracy: 0.7801 - val_loss: 0.8218 - learning_rate: 0.0010\nEpoch 8/1000\n\u001B[1m428/428\u001B[0m \u001B[32m━━━━━━━━━━━━━━━━━━━━\u001B[0m\u001B[37m\u001B[0m \u001B[1m1s\u001B[0m 3ms/step - accuracy: 0.9916 - loss: 0.0266 - val_accuracy: 0.7803 - val_loss: 0.9307 - learning_rate: 5.0000e-04\nEpoch 9/1000\n\u001B[1m428/428\u001B[0m \u001B[32m━━━━━━━━━━━━━━━━━━━━\u001B[0m\u001B[37m\u001B[0m \u001B[1m1s\u001B[0m 3ms/step - accuracy: 0.9960 - loss: 0.0141 - val_accuracy: 0.7801 - val_loss: 1.0820 - learning_rate: 5.0000e-04\nEpoch 10/1000\n\u001B[1m428/428\u001B[0m \u001B[32m━━━━━━━━━━━━━━━━━━━━\u001B[0m\u001B[37m\u001B[0m \u001B[1m1s\u001B[0m 3ms/step - accuracy: 0.9967 - loss: 0.0107 - val_accuracy: 0.7613 - val_loss: 1.1599 - learning_rate: 5.0000e-04\nEpoch 11/1000\n\u001B[1m428/428\u001B[0m \u001B[32m━━━━━━━━━━━━━━━━━━━━\u001B[0m\u001B[37m\u001B[0m \u001B[1m1s\u001B[0m 3ms/step - accuracy: 0.9974 - loss: 0.0071 - val_accuracy: 0.7727 - val_loss: 1.2162 - learning_rate: 5.0000e-04\nEpoch 12/1000\n\u001B[1m428/428\u001B[0m \u001B[32m━━━━━━━━━━━━━━━━━━━━\u001B[0m\u001B[37m\u001B[0m \u001B[1m1s\u001B[0m 3ms/step - accuracy: 0.9971 - loss: 0.0086 - val_accuracy: 0.7733 - val_loss: 1.2244 - learning_rate: 5.0000e-04\nValidation Accuracy for Fold 3:\t79.73%\nEpoch 1/1000\n\u001B[1m428/428\u001B[0m \u001B[32m━━━━━━━━━━━━━━━━━━━━\u001B[0m\u001B[37m\u001B[0m \u001B[1m9s\u001B[0m 11ms/step - accuracy: 0.6350 - loss: 1.0031 - val_accuracy: 0.6528 - val_loss: 0.5957 - learning_rate: 0.0010\nEpoch 2/1000\n\u001B[1m428/428\u001B[0m \u001B[32m━━━━━━━━━━━━━━━━━━━━\u001B[0m\u001B[37m\u001B[0m \u001B[1m1s\u001B[0m 3ms/step - accuracy: 0.8268 - loss: 0.3856 - val_accuracy: 0.8011 - val_loss: 0.4291 - learning_rate: 0.0010\nEpoch 3/1000\n\u001B[1m428/428\u001B[0m \u001B[32m━━━━━━━━━━━━━━━━━━━━\u001B[0m\u001B[37m\u001B[0m \u001B[1m1s\u001B[0m 3ms/step - accuracy: 0.8956 - loss: 0.2596 - val_accuracy: 0.7958 - val_loss: 0.4455 - learning_rate: 0.0010\nEpoch 4/1000\n\u001B[1m428/428\u001B[0m \u001B[32m━━━━━━━━━━━━━━━━━━━━\u001B[0m\u001B[37m\u001B[0m \u001B[1m1s\u001B[0m 3ms/step - accuracy: 0.9285 - loss: 0.1876 - val_accuracy: 0.7672 - val_loss: 0.5071 - learning_rate: 0.0010\nEpoch 5/1000\n\u001B[1m428/428\u001B[0m \u001B[32m━━━━━━━━━━━━━━━━━━━━\u001B[0m\u001B[37m\u001B[0m \u001B[1m1s\u001B[0m 3ms/step - accuracy: 0.9650 - loss: 0.1019 - val_accuracy: 0.7540 - val_loss: 0.6510 - learning_rate: 0.0010\nEpoch 6/1000\n\u001B[1m428/428\u001B[0m \u001B[32m━━━━━━━━━━━━━━━━━━━━\u001B[0m\u001B[37m\u001B[0m \u001B[1m1s\u001B[0m 3ms/step - accuracy: 0.9794 - loss: 0.0589 - val_accuracy: 0.7523 - val_loss: 0.8634 - learning_rate: 0.0010\nEpoch 7/1000\n\u001B[1m428/428\u001B[0m \u001B[32m━━━━━━━━━━━━━━━━━━━━\u001B[0m\u001B[37m\u001B[0m \u001B[1m1s\u001B[0m 3ms/step - accuracy: 0.9889 - loss: 0.0351 - val_accuracy: 0.7710 - val_loss: 0.9323 - learning_rate: 0.0010\nEpoch 8/1000\n\u001B[1m428/428\u001B[0m \u001B[32m━━━━━━━━━━━━━━━━━━━━\u001B[0m\u001B[37m\u001B[0m \u001B[1m1s\u001B[0m 3ms/step - accuracy: 0.9938 - loss: 0.0242 - val_accuracy: 0.7593 - val_loss: 1.0696 - learning_rate: 5.0000e-04\nEpoch 9/1000\n\u001B[1m428/428\u001B[0m \u001B[32m━━━━━━━━━━━━━━━━━━━━\u001B[0m\u001B[37m\u001B[0m \u001B[1m1s\u001B[0m 3ms/step - accuracy: 0.9974 - loss: 0.0089 - val_accuracy: 0.7672 - val_loss: 1.1704 - learning_rate: 5.0000e-04\nEpoch 10/1000\n\u001B[1m428/428\u001B[0m \u001B[32m━━━━━━━━━━━━━━━━━━━━\u001B[0m\u001B[37m\u001B[0m \u001B[1m1s\u001B[0m 3ms/step - accuracy: 0.9982 - loss: 0.0068 - val_accuracy: 0.7581 - val_loss: 1.2188 - learning_rate: 5.0000e-04\nValidation Accuracy for Fold 4:\t65.28%\nEpoch 1/1000\n\u001B[1m428/428\u001B[0m \u001B[32m━━━━━━━━━━━━━━━━━━━━\u001B[0m\u001B[37m\u001B[0m \u001B[1m9s\u001B[0m 12ms/step - accuracy: 0.6500 - loss: 0.9153 - val_accuracy: 0.6214 - val_loss: 0.6377 - learning_rate: 0.0010\nEpoch 2/1000\n\u001B[1m428/428\u001B[0m \u001B[32m━━━━━━━━━━━━━━━━━━━━\u001B[0m\u001B[37m\u001B[0m \u001B[1m1s\u001B[0m 3ms/step - accuracy: 0.8358 - loss: 0.3810 - val_accuracy: 0.7990 - val_loss: 0.4508 - learning_rate: 0.0010\nEpoch 3/1000\n\u001B[1m428/428\u001B[0m \u001B[32m━━━━━━━━━━━━━━━━━━━━\u001B[0m\u001B[37m\u001B[0m \u001B[1m1s\u001B[0m 3ms/step - accuracy: 0.8941 - loss: 0.2656 - val_accuracy: 0.7932 - val_loss: 0.4342 - learning_rate: 0.0010\nEpoch 4/1000\n\u001B[1m428/428\u001B[0m \u001B[32m━━━━━━━━━━━━━━━━━━━━\u001B[0m\u001B[37m\u001B[0m \u001B[1m1s\u001B[0m 3ms/step - accuracy: 0.9344 - loss: 0.1748 - val_accuracy: 0.7759 - val_loss: 0.5008 - learning_rate: 0.0010\nEpoch 5/1000\n\u001B[1m428/428\u001B[0m \u001B[32m━━━━━━━━━━━━━━━━━━━━\u001B[0m\u001B[37m\u001B[0m \u001B[1m1s\u001B[0m 3ms/step - accuracy: 0.9573 - loss: 0.1227 - val_accuracy: 0.7759 - val_loss: 0.5693 - learning_rate: 0.0010\nEpoch 6/1000\n\u001B[1m428/428\u001B[0m \u001B[32m━━━━━━━━━━━━━━━━━━━━\u001B[0m\u001B[37m\u001B[0m \u001B[1m1s\u001B[0m 3ms/step - accuracy: 0.9757 - loss: 0.0724 - val_accuracy: 0.7759 - val_loss: 0.7094 - learning_rate: 0.0010\nEpoch 7/1000\n\u001B[1m428/428\u001B[0m \u001B[32m━━━━━━━━━━━━━━━━━━━━\u001B[0m\u001B[37m\u001B[0m \u001B[1m1s\u001B[0m 3ms/step - accuracy: 0.9887 - loss: 0.0364 - val_accuracy: 0.7662 - val_loss: 0.8386 - learning_rate: 0.0010\nEpoch 8/1000\n\u001B[1m428/428\u001B[0m \u001B[32m━━━━━━━━━━━━━━━━━━━━\u001B[0m\u001B[37m\u001B[0m \u001B[1m1s\u001B[0m 3ms/step - accuracy: 0.9919 - loss: 0.0273 - val_accuracy: 0.7677 - val_loss: 0.9775 - learning_rate: 0.0010\nEpoch 9/1000\n\u001B[1m428/428\u001B[0m \u001B[32m━━━━━━━━━━━━━━━━━━━━\u001B[0m\u001B[37m\u001B[0m \u001B[1m1s\u001B[0m 3ms/step - accuracy: 0.9926 - loss: 0.0221 - val_accuracy: 0.7674 - val_loss: 1.1198 - learning_rate: 5.0000e-04\nEpoch 10/1000\n\u001B[1m428/428\u001B[0m \u001B[32m━━━━━━━━━━━━━━━━━━━━\u001B[0m\u001B[37m\u001B[0m \u001B[1m1s\u001B[0m 3ms/step - accuracy: 0.9973 - loss: 0.0113 - val_accuracy: 0.7598 - val_loss: 1.1475 - learning_rate: 5.0000e-04\nValidation Accuracy for Fold 5:\t62.14%\n\nMean Validation Accuracy: 72.83%\nStandard Deviation of Validation Accuracy: 7.52%\n",
     "output_type": "stream"
    }
   ],
   "execution_count": 14
  },
  {
   "cell_type": "code",
   "source": [
    "MODEL = None\n",
    "# Evaluate the model\n",
    "LOSS, ACCURACY = MODEL.evaluate(\n",
    "    [X_TEST, X_TEST_TEXT_STRUCTURE, X_TEST_URL_STRUCTURE],\n",
    "    Y_TEST\n",
    ")\n",
    "print(f'Test Loss: {LOSS}\\tTest Accuracy: {ACCURACY}')\n",
    "\n",
    "# Make predictions on the test set\n",
    "PREDICTIONS = MODEL.predict(\n",
    "    [X_TEST, X_TEST_TEXT_STRUCTURE, X_TEST_URL_STRUCTURE]\n",
    ")\n",
    "PREDICTED_LABELS = np.argmax(PREDICTIONS, axis=1)\n",
    "\n",
    "# Compute confusion matrix\n",
    "CONF_MATRIX = confusion_matrix(Y_TEST, PREDICTED_LABELS)\n",
    "\n",
    "# Plot confusion matrix as a heatmap\n",
    "plt.figure(figsize=(15, 10))\n",
    "sns.heatmap(\n",
    "    CONF_MATRIX,\n",
    "    annot=True,\n",
    "    fmt='d',\n",
    "    cmap='Reds',\n",
    "    xticklabels=LABEL_DICT.keys(),\n",
    "    yticklabels=LABEL_DICT.keys()\n",
    ")\n",
    "plt.xlabel('Predicted Labels')\n",
    "plt.ylabel('True Labels')\n",
    "plt.title('Confusion Matrix')\n",
    "plt.show()\n"
   ],
   "metadata": {
    "trusted": true,
    "execution": {
     "iopub.status.busy": "2024-12-04T23:07:19.720741Z",
     "iopub.execute_input": "2024-12-04T23:07:19.721472Z",
     "iopub.status.idle": "2024-12-04T23:07:21.329975Z",
     "shell.execute_reply.started": "2024-12-04T23:07:19.721437Z",
     "shell.execute_reply": "2024-12-04T23:07:21.329045Z"
    }
   },
   "outputs": [
    {
     "name": "stdout",
     "text": "\u001B[1m134/134\u001B[0m \u001B[32m━━━━━━━━━━━━━━━━━━━━\u001B[0m\u001B[37m\u001B[0m \u001B[1m0s\u001B[0m 3ms/step - accuracy: 0.6285 - loss: 0.6496\nTest Loss: 0.6359938979148865\tTest Accuracy: 0.6350023150444031\n\u001B[1m134/134\u001B[0m \u001B[32m━━━━━━━━━━━━━━━━━━━━\u001B[0m\u001B[37m\u001B[0m \u001B[1m1s\u001B[0m 3ms/step\n",
     "output_type": "stream"
    },
    {
     "output_type": "display_data",
     "data": {
      "text/plain": "<Figure size 1500x1000 with 2 Axes>",
      "image/png": "[encoded data removed]"
     },
     "metadata": {}
    }
   ],
   "execution_count": 15
  }
 ]
}
